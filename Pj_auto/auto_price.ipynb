{
 "cells": [
  {
   "cell_type": "markdown",
   "metadata": {},
   "source": [
    "\n",
    "Привет очередной раз, меня зовут Люман Аблаев. Сегодня я проверю твой проект.\n",
    "<br> Дальнейшее общение будет происходить на \"ты\" если это не вызывает никаких проблем.\n",
    "<br> Желательно реагировать на красные комментарии ('исправил', 'не понятно как исправить ошибку', ...)\n",
    "<br> Пожалуйста, не удаляй комментарии ревьюера, так как они повышают качество повторного ревью.\n",
    "\n",
    "Комментарии будут в <font color='green'>зеленой</font>, <font color='blue'>синей</font> или <font color='red'>красной</font> рамках:\n",
    "\n",
    "\n",
    "<div class=\"alert alert-block alert-success\">\n",
    "<b>Успех:</b> Если все сделано отлично\n",
    "</div>\n",
    "\n",
    "<div class=\"alert alert-block alert-info\">\n",
    "<b>Совет: </b> Если можно немного улучшить\n",
    "</div>\n",
    "\n",
    "<div class=\"alert alert-block alert-danger\">\n",
    "<b>Ошибка:</b> Если требуются исправления. Работа не может быть принята с красными комментариями.\n",
    "</div>\n",
    "\n",
    "-------------------\n",
    "\n",
    "Будет очень хорошо, если ты будешь помечать свои действия следующим образом:\n",
    "<div class=\"alert alert-block alert-warning\">\n",
    "<b>Комментарий студента:</b> ...\n",
    "</div>\n",
    "\n",
    "<div class=\"alert alert-block alert-warning\">\n",
    "<b>Изменения:</b> Были внесены следующие изменения ...\n",
    "</div>\n",
    "\n",
    "\n",
    "\n",
    "\n",
    "\n",
    "\n",
    "\n",
    "<font color='orange' style='font-size:24px; font-weight:bold'>Общее впечатление</font>\n",
    "* Приятно было снова проверять твою работу\n",
    "- Я постарался оставить полезные советы, надеюсь они тебе пригодятся.\n",
    "- Увы, я обнаружил небольшие недочеты  в работе, но я думаю  у тебя не займет много усилий их исправить.\n",
    "- Давай еще разок"
   ]
  },
  {
   "cell_type": "markdown",
   "metadata": {},
   "source": [
    "\n",
    "<font color='orange' style='font-size:24px; font-weight:bold'>Общее впечатление[2]</font>\n",
    "* Спасибо за усердность!\n",
    "- Было приятно с тобой сотрудничать.\n",
    "- Недочеты исправлены - работа полностью корректна\n",
    "- Не буду больше задерживать, продолжай в том же духе.\n"
   ]
  },
  {
   "cell_type": "markdown",
   "metadata": {},
   "source": [
    "# Определение стоимости автомобилей"
   ]
  },
  {
   "cell_type": "markdown",
   "metadata": {},
   "source": [
    "Сервис по продаже автомобилей с пробегом «Не бит, не крашен» разрабатывает приложение для привлечения новых клиентов. В нём можно быстро узнать рыночную стоимость своего автомобиля. В вашем распоряжении исторические данные: технические характеристики, комплектации и цены автомобилей. Вам нужно построить модель для определения стоимости. \n",
    "\n",
    "Заказчику важны:\n",
    "\n",
    "- качество предсказания;\n",
    "- скорость предсказания;\n",
    "- время обучения."
   ]
  },
  {
   "cell_type": "markdown",
   "metadata": {},
   "source": [
    "## Подготовка данных"
   ]
  },
  {
   "cell_type": "code",
   "execution_count": null,
   "metadata": {
    "scrolled": true
   },
   "outputs": [],
   "source": [
    "pip install lightgbm"
   ]
  },
  {
   "cell_type": "code",
   "execution_count": null,
   "metadata": {},
   "outputs": [],
   "source": [
    "pip install category_encoders"
   ]
  },
  {
   "cell_type": "code",
   "execution_count": null,
   "metadata": {},
   "outputs": [],
   "source": [
    "import pandas as pd\n",
    "import numpy as np\n",
    "import matplotlib.pyplot as plt\n",
    "import seaborn as sns\n",
    "import lightgbm\n",
    "import category_encoders as ce\n",
    "\n",
    "from lightgbm import LGBMRegressor\n",
    "from catboost import CatBoostRegressor\n",
    "from sklearn.tree import DecisionTreeRegressor\n",
    "from sklearn.ensemble import RandomForestRegressor\n",
    "from sklearn.preprocessing import StandardScaler \n",
    "\n",
    "from sklearn.model_selection import (\n",
    "    RandomizedSearchCV,\n",
    "    train_test_split,\n",
    "    cross_val_score\n",
    ")\n",
    "\n",
    "from sklearn.metrics import (\n",
    "    mean_squared_error,\n",
    "    r2_score,\n",
    "    mean_absolute_error,\n",
    "    make_scorer\n",
    ")"
   ]
  },
  {
   "cell_type": "markdown",
   "metadata": {},
   "source": [
    "\n",
    "<div class=\"alert alert-block alert-success\">\n",
    "    \n",
    "<b>Успех:</b> Импорты на месте\n",
    "</div>"
   ]
  },
  {
   "cell_type": "code",
   "execution_count": null,
   "metadata": {
    "scrolled": false
   },
   "outputs": [],
   "source": [
    "data_old = pd.read_csv('/datasets/autos.csv')"
   ]
  },
  {
   "cell_type": "code",
   "execution_count": null,
   "metadata": {
    "scrolled": true
   },
   "outputs": [],
   "source": [
    "display(data_old.head())\n",
    "data_old.info()\n",
    "print('')\n",
    "print('Количество пропусков:', data_old.isna().sum())\n",
    "display(pd.DataFrame(round(data_old.isna().mean().sort_values(ascending=False)*100,1)).style.background_gradient('coolwarm'))\n",
    "print('Количество явных дубликатов:', data_old.duplicated().sum())\n",
    "plt.figure(figsize = (15,5))\n",
    "sns.heatmap(data_old.corr(), annot = True)\n",
    "plt.title('Корреляция между признаками')\n",
    "plt.show()"
   ]
  },
  {
   "cell_type": "markdown",
   "metadata": {},
   "source": [
    "Всего 15 колонок и 354369 строк. \n",
    "\n",
    "1) Признаки: DateCrawled, DateCreated, LastSeen относятся к типу данных object, хотя это дата и время;\n",
    "\n",
    "2) Пропущенные значения: Repaired (20%), VehicleType (10%), FuelType (9%), Gearbox (5%), Model (5%);\n",
    "\n",
    "3) Количество явных дубликатов: 4;\n",
    "\n",
    "4) Корреляции между признаками нет, кроме слабой - между ценой и пробегом."
   ]
  },
  {
   "cell_type": "markdown",
   "metadata": {},
   "source": [
    "\n",
    "<div class=\"alert alert-block alert-success\">\n",
    "    \n",
    "<b>Успех:</b> Первичный осмотр проведен\n",
    "</div>"
   ]
  },
  {
   "cell_type": "code",
   "execution_count": null,
   "metadata": {},
   "outputs": [],
   "source": [
    "data_repaired = data_old.query('Repaired == \"yes\"')\n",
    "\n",
    "data_repaired.head()"
   ]
  },
  {
   "cell_type": "code",
   "execution_count": null,
   "metadata": {
    "scrolled": false
   },
   "outputs": [],
   "source": [
    "data_repaired[['RegistrationYear', 'Kilometer']].describe()"
   ]
  },
  {
   "cell_type": "code",
   "execution_count": null,
   "metadata": {
    "scrolled": true
   },
   "outputs": [],
   "source": [
    "data_old['Kilometer'].unique()"
   ]
  },
  {
   "cell_type": "markdown",
   "metadata": {},
   "source": [
    "Большинство автомобилей, которые имели ремонт, были выпущены до 2006 г. и с пробегом более 150000 км. Исходя из этого, сделаем допущение, что пропущенные значения для автомобилей с таким же пробегом и возрастом, соответствуют наличию ремонта. "
   ]
  },
  {
   "cell_type": "code",
   "execution_count": null,
   "metadata": {},
   "outputs": [],
   "source": [
    "data_old.loc[(data_old['RegistrationYear'] <= 2005) \n",
    "         & (data_old['Kilometer'] >= 150000), 'Repaired'] = data_old.loc[(data_old['RegistrationYear'] <= 2005) & \n",
    "                                                                 (data_old['Kilometer'] >= 150000), 'Repaired'].fillna('yes')"
   ]
  },
  {
   "cell_type": "code",
   "execution_count": null,
   "metadata": {
    "scrolled": false
   },
   "outputs": [],
   "source": [
    "display(pd.DataFrame(round(data_old.isna().mean().sort_values(ascending=False)*100,1)).style.background_gradient('coolwarm'))"
   ]
  },
  {
   "cell_type": "code",
   "execution_count": null,
   "metadata": {},
   "outputs": [],
   "source": [
    "display(data_old['DateCrawled'].min())\n",
    "data_old['DateCrawled'].max()"
   ]
  },
  {
   "cell_type": "markdown",
   "metadata": {},
   "source": [
    "Удалим признаки, которые не будут влиять на стоимость автомобиля или будут, но незначимо. "
   ]
  },
  {
   "cell_type": "code",
   "execution_count": null,
   "metadata": {},
   "outputs": [],
   "source": [
    "data = data_old.drop(['NumberOfPictures', 'RegistrationMonth', 'PostalCode', 'DateCrawled', 'DateCreated', 'LastSeen'], axis=1)"
   ]
  },
  {
   "cell_type": "markdown",
   "metadata": {},
   "source": [
    "<div class=\"alert alert-block alert-success\">\n",
    "<b>Успех:</b> Согласен с перечнем неинформативных колонок\n",
    "</div>"
   ]
  },
  {
   "cell_type": "markdown",
   "metadata": {},
   "source": [
    "Удалим строки, где нет указаний на модель, так как восстановить ее будет сложно, а признак, вероятно, будет определять стоимость. "
   ]
  },
  {
   "cell_type": "code",
   "execution_count": null,
   "metadata": {},
   "outputs": [],
   "source": [
    "data = data.dropna(subset=['Model'], axis=0)"
   ]
  },
  {
   "cell_type": "code",
   "execution_count": null,
   "metadata": {
    "scrolled": true
   },
   "outputs": [],
   "source": [
    "data.head()"
   ]
  },
  {
   "cell_type": "code",
   "execution_count": null,
   "metadata": {
    "scrolled": true
   },
   "outputs": [],
   "source": [
    "data.describe()"
   ]
  },
  {
   "cell_type": "markdown",
   "metadata": {},
   "source": [
    "Из таблицы видно, что в столбцах: цена, год регистрации, мощность могут находиться аномальные значения. "
   ]
  },
  {
   "cell_type": "code",
   "execution_count": null,
   "metadata": {
    "scrolled": false
   },
   "outputs": [],
   "source": [
    "data.boxplot('Price', vert=False, figsize=(15, 3))\n",
    "plt.xlabel('Price')\n",
    "plt.title('Price')\n",
    "plt.show()"
   ]
  },
  {
   "cell_type": "code",
   "execution_count": null,
   "metadata": {
    "scrolled": false
   },
   "outputs": [],
   "source": [
    "data.query('Price < 100')"
   ]
  },
  {
   "cell_type": "markdown",
   "metadata": {},
   "source": [
    "0 в качестве цены указан у большинства значений, еще примерно у 1000 цена низкая. Конечно, можно подумать, что продавец хочет просто избавится от машины, но формальная логика говорит, что стоимость автомобиля как металлолома будет больше. Сделаем границу в 100 евро. "
   ]
  },
  {
   "cell_type": "code",
   "execution_count": null,
   "metadata": {},
   "outputs": [],
   "source": [
    "data = data.drop(data.query('Price < 100').index)"
   ]
  },
  {
   "cell_type": "markdown",
   "metadata": {},
   "source": [
    "<div class=\"alert alert-block alert-success\">\n",
    "<b>Успех:</b>   Самое интересное, что на нескольких сайтов по продажам подержанных автомобилей в Германии (страну можно определить по почтовым индексам, большинство из них из Германии) показало, что цены начинаются действительно с 0 и 1 евро, но это единичные объявления и не понятно, то ли это ошибка при заполнении формы, то ли машины на металлолом. Но я  все-таки склоняюсь к тому, чтобы избавиться от таких данных\n",
    "</div>\n"
   ]
  },
  {
   "cell_type": "code",
   "execution_count": null,
   "metadata": {
    "scrolled": false
   },
   "outputs": [],
   "source": [
    "data['RegistrationYear'].hist(bins = 100)"
   ]
  },
  {
   "cell_type": "code",
   "execution_count": null,
   "metadata": {},
   "outputs": [],
   "source": [
    "data.query('RegistrationYear > 2016 or RegistrationYear < 1950')"
   ]
  },
  {
   "cell_type": "markdown",
   "metadata": {},
   "source": [
    "Указаны колясницы и машины будущего. Последняя дата скачивания анкеты из базы 2016-04-07 14:36:58, но пристутствуют автомобили от 2017 г., что составляет 11844 наблюдений. Интерпретировать данные изменения лучше всего с руководителями сервиса  «Не бит, не крашен», возможно, что дата ошибочная. Скачали базу после обновления, например. Так как точная дата обращения заказчика неизвестна, а количество ошибочных записей большое, чтобы думать, что это несистемная ошибка, удалю данные актуальные на настоящий момент.  "
   ]
  },
  {
   "cell_type": "code",
   "execution_count": null,
   "metadata": {},
   "outputs": [],
   "source": [
    "data = data.drop(data.query('RegistrationYear > 2023 or RegistrationYear < 1950').index)"
   ]
  },
  {
   "cell_type": "markdown",
   "metadata": {},
   "source": [
    "\n",
    "<div class=\"alert alert-block alert-info\">\n",
    "<b>Совет:</b> Советую посмотреть на дату выгрузки анкет - там тоже можно увидеть полезную информацию по поводу границ года регистраци.\n",
    "</div>"
   ]
  },
  {
   "cell_type": "markdown",
   "metadata": {},
   "source": [
    "<div class=\"alert alert-block alert-warning\">\n",
    "<b>Изменения:</b> Посмотрел дату выгрузки анкет, изменил умозаключение, которое было, но код оставил прежним. \n",
    "</div>"
   ]
  },
  {
   "cell_type": "markdown",
   "metadata": {},
   "source": [
    "\n",
    "<div class=\"alert alert-block alert-success\">\n",
    "<b>Успех[2]:</b> Ок\n",
    "</div>"
   ]
  },
  {
   "cell_type": "code",
   "execution_count": null,
   "metadata": {
    "scrolled": true
   },
   "outputs": [],
   "source": [
    "data['RegistrationYear'].hist(bins = 50)"
   ]
  },
  {
   "cell_type": "code",
   "execution_count": null,
   "metadata": {
    "scrolled": true
   },
   "outputs": [],
   "source": [
    "data['Power'].hist(bins = 50)"
   ]
  },
  {
   "cell_type": "code",
   "execution_count": null,
   "metadata": {
    "scrolled": true
   },
   "outputs": [],
   "source": [
    "data.query('Power > 500 or Power < 0.75')"
   ]
  },
  {
   "cell_type": "code",
   "execution_count": null,
   "metadata": {},
   "outputs": [],
   "source": [
    "data.query('Power == 0')['Price'].hist(bins = 100)"
   ]
  },
  {
   "cell_type": "code",
   "execution_count": null,
   "metadata": {
    "scrolled": true
   },
   "outputs": [],
   "source": [
    "data.loc[(data['Power'] > 500) | ((data['Power'] < 0.75) & (data['Power'] != 0)),'Power']"
   ]
  },
  {
   "cell_type": "markdown",
   "metadata": {},
   "source": [
    "366 машин имеют мощность, которая не соответствует раельности. Заменим значения на пропуски, чтоб потом их можно было заполнить."
   ]
  },
  {
   "cell_type": "code",
   "execution_count": null,
   "metadata": {},
   "outputs": [],
   "source": [
    "data.loc[(data['Power'] > 500) | ((data['Power'] < 0.75) & (data['Power'] != 0)),'Power'] = np.nan"
   ]
  },
  {
   "cell_type": "markdown",
   "metadata": {},
   "source": [
    "\n",
    "\n",
    "<div class=\"alert alert-block alert-info\">\n",
    "<b>Совет:</b>  Вопрос на подумать: Как думаешь а машины с 0-ой мощностью могут быть просто без двигателя?\n",
    "</div>"
   ]
  },
  {
   "cell_type": "markdown",
   "metadata": {},
   "source": [
    "<div class=\"alert alert-block alert-warning\">\n",
    "<b>Изменения:</b> Веротяно, да. Оставил машины с 0 мощностью без изменений.\n",
    "</div>"
   ]
  },
  {
   "cell_type": "markdown",
   "metadata": {},
   "source": [
    "\n",
    "<div class=\"alert alert-block alert-success\">\n",
    "<b>Успех[2]:</b> Но здесь я бы не спешил. Нужно подумать нужны ли нашему сервису такие автомобили в качестве примеров?\n",
    "</div>"
   ]
  },
  {
   "cell_type": "code",
   "execution_count": null,
   "metadata": {
    "scrolled": false
   },
   "outputs": [],
   "source": [
    "missing_values = data['Power'].isnull().sum()\n",
    "print(\"Количество пропущенных значений в столбце Power:\", missing_values)"
   ]
  },
  {
   "cell_type": "code",
   "execution_count": null,
   "metadata": {},
   "outputs": [],
   "source": [
    "data['Power'] = data.groupby(['Model', 'Brand'])['Power'].transform(lambda x: x.fillna(x.median()) if x.notnull().any() else x)"
   ]
  },
  {
   "cell_type": "code",
   "execution_count": null,
   "metadata": {},
   "outputs": [],
   "source": [
    "missing_values = data['Power'].isnull().sum()\n",
    "print(\"Количество пропущенных значений в столбце Power:\", missing_values)"
   ]
  },
  {
   "cell_type": "code",
   "execution_count": null,
   "metadata": {
    "scrolled": true
   },
   "outputs": [],
   "source": [
    "data['Power'].hist(bins = 100)"
   ]
  },
  {
   "cell_type": "code",
   "execution_count": null,
   "metadata": {
    "scrolled": false
   },
   "outputs": [],
   "source": [
    "data.boxplot('Power', vert = False, figsize = (15,3))"
   ]
  },
  {
   "cell_type": "code",
   "execution_count": null,
   "metadata": {},
   "outputs": [],
   "source": [
    "data.loc[data['Power'] == 0,'Power']"
   ]
  },
  {
   "cell_type": "code",
   "execution_count": null,
   "metadata": {
    "scrolled": false
   },
   "outputs": [],
   "source": [
    "repaired_counts = data.loc[data['Power'] == 0, 'Repaired'].value_counts()\n",
    "repaired_counts.plot(kind='pie')\n",
    "plt.show()"
   ]
  },
  {
   "cell_type": "code",
   "execution_count": null,
   "metadata": {},
   "outputs": [],
   "source": [
    "print('Медиана стоимости автомобиля без двигателя:', data.loc[data['Power'] == 0,'Price'].median())\n",
    "print('Медиана стоимости автомобиля с двигателем:', data.loc[data['Power'] != 0,'Price'].median())"
   ]
  },
  {
   "cell_type": "markdown",
   "metadata": {},
   "source": [
    "Если решить, что мощность, равная 0, соответствует машинам без двигателя, то смущает такое большое количество (более 30321). Стоит посоветоваться с экспертами рынка, чтобы узнать, является ли это аномалией. Половина этих машин не подвергалась ремонту, то есть, как только сгорал двигатель, то машину сразу стремились продать. Тоже вопрос, соответствует ли это реальной жизни...Но судя по медиане стоимости, машины без двигателя в среднем стоят в 2 раза меньше, что похоже на правду.  "
   ]
  },
  {
   "cell_type": "code",
   "execution_count": null,
   "metadata": {},
   "outputs": [],
   "source": [
    "display(pd.DataFrame(round(data.isna().mean().sort_values(ascending=False)*100,1)).style.background_gradient('coolwarm'))"
   ]
  },
  {
   "cell_type": "markdown",
   "metadata": {},
   "source": [
    "Тип коробки передач, вид топлива, тип кузова можно примерно восстановить, зная модель и марку автомобиля."
   ]
  },
  {
   "cell_type": "code",
   "execution_count": null,
   "metadata": {},
   "outputs": [],
   "source": [
    "data['Gearbox'] = data.groupby(['Model', 'Brand'])['Gearbox'].transform(lambda x: x.fillna(x.mode().iloc[0]) if x.notnull().any() else x)"
   ]
  },
  {
   "cell_type": "code",
   "execution_count": null,
   "metadata": {},
   "outputs": [],
   "source": [
    "#data['FuelType'] = data.groupby(['Model', 'Brand'])['FuelType'].transform(lambda x: x.fillna(x.mode().iloc[0]))\n",
    "\n",
    "data['FuelType'] = data.groupby(['Model', 'Brand', 'Gearbox'])['FuelType'].transform(lambda x: x.fillna(x.mode().iloc[0]) if x.notnull().any() else x)"
   ]
  },
  {
   "cell_type": "code",
   "execution_count": null,
   "metadata": {},
   "outputs": [],
   "source": [
    "data['Repaired'] = data.groupby(['Model', 'Brand', 'Gearbox', 'FuelType'])['Repaired'].transform(lambda x: x.fillna(x.mode().iloc[0]) if x.notnull().any() else x)"
   ]
  },
  {
   "cell_type": "code",
   "execution_count": null,
   "metadata": {
    "scrolled": false
   },
   "outputs": [],
   "source": [
    "data.loc[data['Model'] == 'golf']['VehicleType'].unique()"
   ]
  },
  {
   "cell_type": "code",
   "execution_count": null,
   "metadata": {},
   "outputs": [],
   "source": [
    "data['VehicleType'] = data.groupby(['Model', 'Brand', 'Gearbox', 'FuelType'])['VehicleType'].transform(lambda x: x.fillna(x.mode().iloc[0]) if x.notnull().any() else x)"
   ]
  },
  {
   "cell_type": "code",
   "execution_count": null,
   "metadata": {
    "scrolled": true
   },
   "outputs": [],
   "source": [
    "display(pd.DataFrame(round(data.isna().mean().sort_values(ascending=False)*100,1)).style.background_gradient('coolwarm'))"
   ]
  },
  {
   "cell_type": "code",
   "execution_count": null,
   "metadata": {
    "scrolled": true
   },
   "outputs": [],
   "source": [
    "data['FuelType'].unique()"
   ]
  },
  {
   "cell_type": "markdown",
   "metadata": {},
   "source": [
    "- petrol', 'gasoline' - вид топлива бензин;\n",
    "- 'lpg', 'cng' - - вид топлива газ.\n",
    "\n",
    "Объединим их."
   ]
  },
  {
   "cell_type": "code",
   "execution_count": null,
   "metadata": {},
   "outputs": [],
   "source": [
    "data.loc[data['FuelType'] == 'petrol', 'FuelType'] = 'gasoline'\n",
    "data.loc[data['FuelType'] == 'lpg', 'FuelType'] = 'cng'"
   ]
  },
  {
   "cell_type": "code",
   "execution_count": null,
   "metadata": {},
   "outputs": [],
   "source": [
    "data['FuelType'].unique()"
   ]
  },
  {
   "cell_type": "markdown",
   "metadata": {},
   "source": [
    "<div class=\"alert alert-block alert-success\">\n",
    "<b>Успех:</b>  Пропуски обработаны хорошим образом\n",
    "</div>\n",
    "\n",
    "\n",
    "<div class=\"alert alert-block alert-info\">\n",
    "<b>Совет:</b> У fuel_type есть категории, которые означают одно и тоже - их можно объединить, либо подумать может они действительно означают, что-то разное.\n",
    "</div>\n"
   ]
  },
  {
   "cell_type": "markdown",
   "metadata": {},
   "source": [
    "<div class=\"alert alert-block alert-warning\">\n",
    "<b>Изменения:</b> Поправил fuel_type.\n",
    "</div>"
   ]
  },
  {
   "cell_type": "markdown",
   "metadata": {},
   "source": [
    "\n",
    "<div class=\"alert alert-block alert-info\">\n",
    "<b>Совет[2]:</b> Насчет бензина согласен, а вот газ, как по мне, имеет важные различия, поэтому газ лучше не объединять\n",
    "</div>"
   ]
  },
  {
   "cell_type": "code",
   "execution_count": null,
   "metadata": {
    "scrolled": false
   },
   "outputs": [],
   "source": [
    "data = data.dropna()"
   ]
  },
  {
   "cell_type": "markdown",
   "metadata": {},
   "source": [
    "**Промежуточный вывод**\n",
    "\n",
    "Были предоставлены данные, которые имели 15 колонок и 354369 строк.\n",
    "\n",
    "1) Признаки: DateCrawled, DateCreated, LastSeen относились к типу данных object, хотя это дата и время;\n",
    "\n",
    "2) Пропущенные значения были в колонках: Repaired (20%), VehicleType (10%), FuelType (9%), Gearbox (5%), Model (5%);\n",
    "\n",
    "3) Количество явных дубликатов было: 4;\n",
    "\n",
    "4) Корреляции между признаками не было, кроме слабой - между пробегом и целевым признаком ценой.\n",
    "\n",
    "5) В столбцах: цена, год регистрации, мощность находились аномальные значения.\n",
    "\n",
    "Столбцы NumberOfPictures, RegistrationMonth, PostalCode, DateCrawled, DateCreated, LastSeen были удалены, так как их значение на стоимость автомобиля, вероятно, незначимо. Также были удаления строки, где не была указана модель, так как восстановить признак было бы невозможно логическим путем. 10642 наблюдений имели 0 в качестве цены, еще около 1000 цена была очень низкая. Учитывая, что это целевой признак, были сохранены только наблюдения с ценой выше 99 евро. Также были удалены наблюдения с годом регистрации автомобиля позже 2023 и раньше 1950 гг. \n",
    "\n",
    "Обратить внимание. Последняя дата скачивания анкеты из базы 2016-04-07 14:36:58, но пристутствуют автомобили от 2017 г., что составляет 11844 наблюдений. Интерпретировать данные изменения лучше всего с руководителями сервиса «Не бит, не крашен», возможно, что дата ошибочная. Скачали базу после обновления, например. Поэтому было принято решения их сохранить на данный момент.\n",
    "\n",
    "Часть пропусков в столбце Repaired (автомобили, которые имели ремонт), были заполнены с использованием допущения, что большинство машин, согласно заполненным данным, выпущенных до 2006 г. и с пробегом более 150000 км. имели ремонт. 366 значений в столбце Power (мощность) имели значения, которые мало соответствовали раельности. Они были заменены на медианные значения мощности в соответствии с моделью и брендом. VehicleType (тип кузова), FuelType (вид топлива), Gearbox (тип коробки передач), часть Repaired (ремонт) были приблизетельно восстановлены по моде (самым частым значениям) для своей модель и марки. В столбце вид топлива petrol и gasoline (бензин) и lpg и cng (газ) были объединены."
   ]
  },
  {
   "cell_type": "markdown",
   "metadata": {},
   "source": [
    "<div class=\"alert alert-block alert-success\">\n",
    "<b>Успех:</b> В целом хорошая, детальная предобработка - идем дальше\n",
    "</div>"
   ]
  },
  {
   "cell_type": "markdown",
   "metadata": {},
   "source": [
    "### Поработаем с признаками"
   ]
  },
  {
   "cell_type": "code",
   "execution_count": null,
   "metadata": {},
   "outputs": [],
   "source": [
    "target = data['Price']\n",
    "features = data.drop(['Price'], axis = 1)"
   ]
  },
  {
   "cell_type": "code",
   "execution_count": null,
   "metadata": {
    "scrolled": true
   },
   "outputs": [],
   "source": [
    "#features = pd.get_dummies(features_old, columns=['VehicleType', 'Gearbox', 'Model', 'FuelType', 'Brand', 'Repaired'], drop_first=True)"
   ]
  },
  {
   "cell_type": "markdown",
   "metadata": {},
   "source": [
    "\n",
    "<div class=\"alert alert-block alert-danger\">\n",
    "\n",
    "<b>Ошибка:</b>  OHE правильный выбор для линейных моделей. Но для всех других моделей выбор плохой (из-за фактора модели, который порождает много факторов), для заказчика важно время обучения и скорость предсказания, а данные модели могут работать и с другими методами кодировками значительно быстреее, не теряя при этом в качестве.\n",
    "\n",
    "Я тебе могу предложить, что можно сделать:\n",
    "    \n",
    "- Сделать 1 набор данных: \n",
    "    - Закодировать для всех моделей методом TargetEncoder, BinaryEncoder - вполне универсальные варианты\n",
    "    - Закодировать все признаки методом OHE, а модель машины методом OE\n",
    "    - Заменить использование линейных моделей (так как их рассмотрение не обязательно) и использовать единственный метод кодировки OE.\n",
    "- Сделать 2 набора данных\n",
    "    - Закодировать для линейных моделей методом OHE, для остальных OE (или внутренний метод кодирования данных)\n",
    "    \n",
    "P.S. Отмечу, что encoder правильно применять после разбиения данных и обучать только на обучающей выборке, для остальных выборок просто использовать transform. Примеры использования с объяснениями можно найти посмотреь https://colab.research.google.com/drive/1_gAMXcQKoCShB_l8FNtYEejMnosm9mvt?usp=sharing \n",
    "\n",
    "И не забывай использовать параметр `handle_unknown`\n",
    "  \n",
    "</div>\n"
   ]
  },
  {
   "cell_type": "code",
   "execution_count": null,
   "metadata": {},
   "outputs": [],
   "source": [
    "#pd.set_option('display.max_columns', 400)\n",
    "#features"
   ]
  },
  {
   "cell_type": "code",
   "execution_count": null,
   "metadata": {},
   "outputs": [],
   "source": [
    "features_train_old, features_test_old, target_train_old, target_test_old = train_test_split(\n",
    "    features, target, test_size = 0.4, random_state = 12345)"
   ]
  },
  {
   "cell_type": "code",
   "execution_count": null,
   "metadata": {},
   "outputs": [],
   "source": [
    "features_valid_old, features_test_old, target_valid_old, target_test_old = train_test_split(\n",
    "    features_test_old, target_test_old, test_size = 0.5, random_state = 12345)"
   ]
  },
  {
   "cell_type": "code",
   "execution_count": null,
   "metadata": {},
   "outputs": [],
   "source": [
    "# Создание экземпляра класса BinaryEncoder\n",
    "encoder = ce.BinaryEncoder(cols=['VehicleType', 'Gearbox', 'Model', 'FuelType', 'Brand', 'Repaired'])\n",
    "\n",
    "# Преобразование тренировочных и тестовых данных\n",
    "features_train = encoder.fit_transform(features_train_old)\n",
    "features_valid = encoder.transform(features_valid_old)\n",
    "features_test = encoder.transform(features_test_old)"
   ]
  },
  {
   "cell_type": "markdown",
   "metadata": {},
   "source": [
    "<div class=\"alert alert-block alert-warning\">\n",
    "<b>Изменения:</b> Воспользовался BinaryEncoder. Сделал валидационную выборку, ранее была только обучающая и тестовая. \n",
    "</div>"
   ]
  },
  {
   "cell_type": "markdown",
   "metadata": {},
   "source": [
    "\n",
    "<div class=\"alert alert-block alert-success\">\n",
    "<b>Успех[2]:</b> Есть контакт\n",
    "</div>"
   ]
  },
  {
   "cell_type": "code",
   "execution_count": null,
   "metadata": {},
   "outputs": [],
   "source": [
    "pd.set_option('display.max_columns', 50)\n",
    "features_train"
   ]
  },
  {
   "cell_type": "code",
   "execution_count": null,
   "metadata": {},
   "outputs": [],
   "source": [
    "numeric = ['RegistrationYear', 'Power', 'Kilometer']\n",
    "\n",
    "scaler = StandardScaler()\n",
    "scaler.fit(features_train[numeric]) \n",
    "features_train[numeric] = scaler.transform(features_train[numeric])\n",
    "features_valid[numeric] = scaler.transform(features_valid[numeric])\n",
    "features_test[numeric] = scaler.transform(features_test[numeric])\n",
    "\n",
    "# масштабируем количественные признаки, которые затем будут использованы в моделях градиентного бустинга, так как они имеют свои\n",
    "# внутренние методы кодировки\n",
    "\n",
    "features_train_old[numeric] = scaler.transform(features_train_old[numeric])\n",
    "features_valid_old[numeric] = scaler.transform(features_valid_old[numeric])\n",
    "features_test_old[numeric] = scaler.transform(features_test_old[numeric])\n",
    "\n",
    "print(features_valid.head())"
   ]
  },
  {
   "cell_type": "markdown",
   "metadata": {},
   "source": [
    "<div class=\"alert alert-block alert-success\">\n",
    "<b>Успех:</b>  Масштабирование проведено корректно"
   ]
  },
  {
   "cell_type": "markdown",
   "metadata": {},
   "source": [
    "**Промежуточный вывод**\n",
    "\n",
    "Категориальные переменные были преобразованы в числовые значения методом BinaryEncoder, количественные признаки были масштабированы. Выборка была поделена на обучающую, валидационную и тестовую."
   ]
  },
  {
   "cell_type": "markdown",
   "metadata": {},
   "source": [
    "## Обучение моделей"
   ]
  },
  {
   "cell_type": "markdown",
   "metadata": {},
   "source": [
    "Обучим разные модели, одна из которых — LightGBM, как минимум одна — не бустинг. Для каждой модели попробуем разные гиперпараметры."
   ]
  },
  {
   "cell_type": "markdown",
   "metadata": {},
   "source": [
    "### Дерево решений"
   ]
  },
  {
   "cell_type": "code",
   "execution_count": null,
   "metadata": {},
   "outputs": [],
   "source": [
    "best_model_tree = None\n",
    "best_result = 5000000\n",
    "max_depth = None\n",
    "scores = []\n",
    "\n",
    "for depth in range(1,11,3):\n",
    "    model = DecisionTreeRegressor(max_depth = depth, random_state = 12345)\n",
    "    scoring = make_scorer(mean_squared_error, greater_is_better=False)\n",
    "    scores = cross_val_score(model, features_train, target_train_old, cv = 5, scoring=scoring)\n",
    "    final_score = abs(np.mean(scores))       \n",
    "    rmse = final_score ** 0.5\n",
    "    result = rmse\n",
    "    if result < best_result:\n",
    "        best_result = result\n",
    "        best_model_tree = model\n",
    "        max_depth = depth        \n",
    "\n",
    "print(\"RMSE на обучающей выборке:\", best_result, 'и максимальную глубину:', max_depth)"
   ]
  },
  {
   "cell_type": "code",
   "execution_count": null,
   "metadata": {},
   "outputs": [],
   "source": [
    "%%time\n",
    "\n",
    "best_model_tree.fit(features_train, target_train_old)"
   ]
  },
  {
   "cell_type": "code",
   "execution_count": null,
   "metadata": {},
   "outputs": [],
   "source": [
    "%%time\n",
    "\n",
    "predict_valid_tree = best_model_tree.predict(features_valid)"
   ]
  },
  {
   "cell_type": "code",
   "execution_count": null,
   "metadata": {},
   "outputs": [],
   "source": [
    "mse = mean_squared_error(target_valid_old, predict_valid_tree)\n",
    "rmse = mse ** 0.5\n",
    "\n",
    "print(\"RMSE на валидационной выборке:\", rmse)"
   ]
  },
  {
   "cell_type": "markdown",
   "metadata": {},
   "source": [
    "### Случайный лес"
   ]
  },
  {
   "cell_type": "code",
   "execution_count": null,
   "metadata": {
    "scrolled": true
   },
   "outputs": [],
   "source": [
    "best_model_forest = None\n",
    "best_result = 5000000\n",
    "max_depth = None\n",
    "n_estimators = None\n",
    "scores = []\n",
    "\n",
    "for depth in range(1,10,3):\n",
    "     for est in range(20,40,20):\n",
    "        model = RandomForestRegressor(max_depth = depth, n_estimators = est, random_state = 12345)\n",
    "        scores = cross_val_score(model, features_train, target_train_old, cv = 5, scoring=scoring)\n",
    "        final_score = abs(np.mean(scores))       \n",
    "        rmse = final_score ** 0.5\n",
    "        result = rmse\n",
    "        if result < best_result:\n",
    "            best_result = result\n",
    "            best_model_forest = model\n",
    "            max_depth = depth\n",
    "            n_estimators = est\n",
    "\n",
    "print(\"RMSE на обучающей выборке:\", best_result,',','число деревьев:', n_estimators,' и максимальную глубину:', max_depth)"
   ]
  },
  {
   "cell_type": "code",
   "execution_count": null,
   "metadata": {},
   "outputs": [],
   "source": [
    "%%time\n",
    "\n",
    "best_model_forest.fit(features_train, target_train_old)"
   ]
  },
  {
   "cell_type": "code",
   "execution_count": null,
   "metadata": {},
   "outputs": [],
   "source": [
    "%%time\n",
    "\n",
    "predict_valid_forest = best_model_forest.predict(features_valid)"
   ]
  },
  {
   "cell_type": "code",
   "execution_count": null,
   "metadata": {},
   "outputs": [],
   "source": [
    "mse = mean_squared_error(target_valid_old, predict_valid_forest)\n",
    "rmse = mse ** 0.5\n",
    "\n",
    "print(\"RMSE на валидационной выборке:\", rmse)"
   ]
  },
  {
   "cell_type": "markdown",
   "metadata": {},
   "source": [
    "### CatBoost"
   ]
  },
  {
   "cell_type": "markdown",
   "metadata": {},
   "source": [
    "При использовании CatBoost мы не должны пользоваться one-hot кодированием, поскольку это влияет на скорость обучения и на качество прогнозов. Вместо этого зададим категориальные признаки с помощью параметра cat_features."
   ]
  },
  {
   "cell_type": "markdown",
   "metadata": {},
   "source": [
    "<div class=\"alert alert-block alert-success\">\n",
    "<b>Успех:</b> Верно, но с другими моделями аналогичный нюанс\n",
    "</div>"
   ]
  },
  {
   "cell_type": "code",
   "execution_count": null,
   "metadata": {
    "scrolled": true
   },
   "outputs": [],
   "source": [
    "best_model_cat = None\n",
    "best_result = 5000000\n",
    "max_iter = None\n",
    "scores = []\n",
    "\n",
    "for iter in range(990,1001,10):\n",
    "    cat_features = ['VehicleType', 'Gearbox', 'Model', 'FuelType', 'Brand', 'Repaired']\n",
    "    model = CatBoostRegressor(iterations=iter, random_state=12345, cat_features=cat_features)\n",
    "    scoring = make_scorer(mean_squared_error, greater_is_better=False)\n",
    "    model.fit(features_train_old, target_train_old, verbose=100, plot=True)\n",
    "    scores = cross_val_score(model, features_train_old, target_train_old, cv=2, scoring=scoring)\n",
    "    final_score = abs(np.mean(scores))\n",
    "    rmse = final_score ** 0.5\n",
    "    result = rmse\n",
    "    if result < best_result:\n",
    "        best_result = result\n",
    "        best_model_cat = model\n",
    "        max_iter = iter\n",
    "               \n",
    "print(\"RMSE на обучающей выборке:\", best_result,', число деревьев:', max_iter)"
   ]
  },
  {
   "cell_type": "code",
   "execution_count": null,
   "metadata": {},
   "outputs": [],
   "source": [
    "%%time\n",
    "\n",
    "best_model_cat.fit(features_train_old, target_train_old, cat_features=cat_features, verbose = 0)"
   ]
  },
  {
   "cell_type": "code",
   "execution_count": null,
   "metadata": {},
   "outputs": [],
   "source": [
    "%%time\n",
    "\n",
    "predict_valid_cat = best_model_cat.predict(features_valid_old)"
   ]
  },
  {
   "cell_type": "code",
   "execution_count": null,
   "metadata": {},
   "outputs": [],
   "source": [
    "mse = mean_squared_error(target_valid_old, predict_valid_cat)\n",
    "rmse = mse ** 0.5\n",
    "\n",
    "print(\"RMSE на валидационной выборке:\", rmse)"
   ]
  },
  {
   "cell_type": "markdown",
   "metadata": {},
   "source": [
    "### LGBMBoost"
   ]
  },
  {
   "cell_type": "markdown",
   "metadata": {},
   "source": [
    "\n",
    "<div class=\"alert alert-block alert-info\">\n",
    "<b>Совет:</b>  У LGBM тоже есть внутренний метод кодировки данных, который хорошо было бы попробовать\n",
    "</div>\n"
   ]
  },
  {
   "cell_type": "code",
   "execution_count": null,
   "metadata": {
    "scrolled": true
   },
   "outputs": [],
   "source": [
    "param_grid = {\n",
    "    'max_depth': np.arange(1, 7, 3),\n",
    "    'n_estimators': np.arange(20, 41, 20)\n",
    "}\n",
    "\n",
    "categorical_features = ['VehicleType', 'Gearbox', 'Model', 'FuelType', 'Brand', 'Repaired']\n",
    "\n",
    "features_train_old[categorical_features] = features_train_old[categorical_features].astype('category')\n",
    "\n",
    "model = LGBMRegressor(verbose=200, cat_features = categorical_features, random_state=12345)\n",
    "\n",
    "random_search = RandomizedSearchCV(\n",
    "    estimator=model, param_distributions=param_grid, cv=3, n_iter=10, scoring='neg_mean_squared_error', random_state=123)\n",
    "random_search.fit(features_train_old, target_train_old)\n",
    "\n",
    "best_params = random_search.best_params_\n",
    "best_score = random_search.best_score_\n",
    "\n",
    "best_model = LGBMRegressor(**best_params)\n",
    "\n",
    "best_model.fit(features_train_old, target_train_old)\n",
    "\n",
    "predict_train_LGBM_RS = best_model.predict(features_train_old)\n",
    "mse = mean_squared_error(target_train_old, predict_train_LGBM_RS)\n",
    "rmse = mse ** 0.5\n",
    "\n",
    "print(\"RMSE на обучающей выборке:\", rmse, \", Best Model Hyperparameters:\", best_params)"
   ]
  },
  {
   "cell_type": "code",
   "execution_count": null,
   "metadata": {},
   "outputs": [],
   "source": [
    "%%time\n",
    "\n",
    "best_model.fit(features_train_old, target_train_old)"
   ]
  },
  {
   "cell_type": "code",
   "execution_count": null,
   "metadata": {},
   "outputs": [],
   "source": [
    "%%time\n",
    "\n",
    "features_valid_old[categorical_features] = features_valid_old[categorical_features].astype('category')\n",
    "\n",
    "predict_valid_lgbm = best_model.predict(features_valid_old)"
   ]
  },
  {
   "cell_type": "code",
   "execution_count": null,
   "metadata": {},
   "outputs": [],
   "source": [
    "mse = mean_squared_error(target_valid_old, predict_valid_lgbm)\n",
    "rmse = mse ** 0.5\n",
    "\n",
    "print(\"RMSE на валидационной выборке:\", rmse)"
   ]
  },
  {
   "cell_type": "markdown",
   "metadata": {},
   "source": [
    "**Промежуточный вывод**\n",
    "\n",
    "1) DecisionTree: обучение 623 ms, предсказание 19.7 ms и RMSE на валидационной выборке: 2052.\n",
    "\n",
    "2) RandomForest: обучение 6.51 s, предсказания 87.8 ms и RMSE на валидационной выборке: 2191.\n",
    "\n",
    "3) CatBoost: обучение 2min 17s, предсказания 417 ms и RMSE на валидационной выборке: 1640.\n",
    "\n",
    "4) LGBMBoost: обучение 1.63 s, предсказание 128 ms и RMSE на валидационной выборке: 1860.\n",
    "\n",
    "- качество предсказания:CatBoost, LGBMBoost, DecisionTree. \n",
    "- время обучения модели: DecisionTree, LGBMBoost, RandomForest.  \n",
    "- время предсказания модели: DecisionTree, RandomForest, LGBMBoost\n",
    "\n",
    "CatBoost обучается в разы медленнее, даже с испольщованием 2-кросс валидационных выборок (у LGBMBoost 3). Нельзя сказать, что разница с LGBMBoost в качестве незначительная, но все же, учитывая пожелания заказчика LGBMBoost предпочтительнее ввиду баланса времени обучения и качества предсказания."
   ]
  },
  {
   "cell_type": "markdown",
   "metadata": {},
   "source": [
    "\n",
    "<div class=\"alert alert-block alert-danger\">\n",
    "<b>Ошибка:</b> Ты немного не правильно понял метрики времени: Нам нужно время обучения и время предсказания  вычислить  и проанализировать отдельно друг от друга\n",
    "    \n",
    "- время обучения это  чистый `.fit()` модели - без подбора гиперпараметров и без предсказаний\n",
    "    \n",
    "- время предсказания это только `.predict()` без обучения\n",
    "\n",
    "p.s. можно вытаскивать  все  метрики  интересующие заказчика лаконично из GridSearchCV/RandomizedSearchCV, все они лежат в `.cv_results_`\n",
    "</div>\n",
    "\n"
   ]
  },
  {
   "cell_type": "markdown",
   "metadata": {},
   "source": [
    "<div class=\"alert alert-block alert-warning\">\n",
    "<b>Изменения:</b> Поправил.\n",
    "</div>"
   ]
  },
  {
   "cell_type": "markdown",
   "metadata": {},
   "source": [
    "\n",
    "<div class=\"alert alert-block alert-success\">\n",
    "<b>Успех[2]:</b> Все метрики корректно вычислены и проанализированы, выбор модели обоснован\n",
    "</div>"
   ]
  },
  {
   "cell_type": "markdown",
   "metadata": {},
   "source": [
    "## Анализ выбранной модели"
   ]
  },
  {
   "cell_type": "code",
   "execution_count": null,
   "metadata": {
    "scrolled": false
   },
   "outputs": [],
   "source": [
    "%%time\n",
    "\n",
    "features_test_old[categorical_features] = features_test_old[categorical_features].astype('category')\n",
    "\n",
    "predict_test_lgbm = best_model.predict(features_test_old)"
   ]
  },
  {
   "cell_type": "code",
   "execution_count": null,
   "metadata": {},
   "outputs": [],
   "source": [
    "mse = mean_squared_error(target_test_old, predict_test_lgbm)\n",
    "rmse = mse ** 0.5\n",
    "\n",
    "print(\"RMSE на тестовой выборке:\", rmse)"
   ]
  },
  {
   "cell_type": "code",
   "execution_count": null,
   "metadata": {},
   "outputs": [],
   "source": [
    "def importances(model,features):\n",
    "    features=features.columns\n",
    "    importances = model.feature_importances_\n",
    "    indices = np.argsort(importances)\n",
    "    \n",
    "    plt.figure(figsize=(10, 5))\n",
    "    plt.title('Важность функции')\n",
    "    plt.barh(range(len(indices)), importances[indices])\n",
    "    plt.yticks(range(len(indices)), features[indices])\n",
    "    plt.xlabel('Относительная важность')\n",
    "    plt.show()"
   ]
  },
  {
   "cell_type": "code",
   "execution_count": null,
   "metadata": {
    "scrolled": true
   },
   "outputs": [],
   "source": [
    "importances(best_model,features_test_old)"
   ]
  },
  {
   "cell_type": "markdown",
   "metadata": {},
   "source": [
    "\n",
    "<div class=\"alert alert-block alert-success\">\n",
    "<b>Успех[2]:</b> На тестовой выборке получено хорошее качество\n",
    "</div>"
   ]
  },
  {
   "cell_type": "markdown",
   "metadata": {},
   "source": [
    "**Промежуточный вывод**\n",
    "\n",
    "Модель LGBMboost показала воспроизводимую метрику RMSE на тествой выборке: 1860. Наиболее важные признаки, влияющие на предсказание модели, это:\n",
    "- год регистрации автомобиля\n",
    "- модель\n",
    "- мощность."
   ]
  },
  {
   "cell_type": "markdown",
   "metadata": {},
   "source": [
    "<div class=\"alert alert-block alert-danger\">\n",
    "   \n",
    "<b>Ошибка:</b>\n",
    "   \n",
    "- Тестовую выборку мы не должны использовать при вычислении метрик для анализа. Она должна использоваться только для единственной лучшей модели после анализа  в шаге с тестированием.\n",
    "- У нас заданы 3 метрики интересующие заказчика: `время обучения: .fit()`, `скорость предсказания: .predict()` и `качество: RMSE`. Эти метрики мы получаем и анализируем отдельно друг от друга (не на тестовой выборке и без учета времени подбора  гиперпаметров) \n",
    "- Получить их можем либо с помощью валидационной выборки либо используя кросс-валидационные методы (в GridSearchCV например есть все данные метрики в аттрибуте cv_results_).   В случае если не используется ни gridsearch ни валидационная выборка, то можно время предсказания замерить на тренировочной (качество так замерить нельзя).\n",
    "- Потом проводится анализ и выбирается ОДНА наилучшая модель.\n",
    "- И только затем для ОДНОЙ наилучшей модели  проводится тестирование.\n",
    "  \n",
    "Исправь пожалуйста это здесь и везде внизу\n",
    "</div>\n"
   ]
  },
  {
   "cell_type": "markdown",
   "metadata": {},
   "source": [
    "<div class=\"alert alert-block alert-danger\">\n",
    "<b>Ошибка:</b> После анализа и выбора одной наилучшей модели, должно идти  ее тестирование. Другие модели тестовую выборку использовать не должны.\n",
    "</div>\n"
   ]
  },
  {
   "cell_type": "markdown",
   "metadata": {},
   "source": [
    "## Общий вывод"
   ]
  },
  {
   "cell_type": "markdown",
   "metadata": {},
   "source": [
    "Были предоставлены данные, которые имели 15 колонок и 354369 строк. Были пропущенные и аномальные значения.\n",
    "\n",
    "Столбцы NumberOfPictures, RegistrationMonth, PostalCode, DateCrawled, DateCreated, LastSeen были удалены, так как их значение на стоимость автомобиля, вероятно, незначимо. Также были удаления строки, где не была указана модель, так как восстановить признак было бы невозможно логическим путем. 10642 наблюдений имели 0 в качестве цены, еще около 1000 цена была очень низкая. Учитывая, что это целевой признак, были сохранены только наблюдения с ценой выше 99 евро. Также были удалены наблюдения с годом регистрации автомобиля позже 2023 и раньше 1950 гг. \n",
    "\n",
    "Часть пропусков в столбце Repaired (автомобили, которые имели ремонт), были заполнены с использованием допущения, что большинство машин, согласно заполненным данным, выпущенных до 2006 г. и с пробегом более 150000 км. имели ремонт. 366 значений в столбце Power (мощность) имели значения, которые мало соответствовали раельности. Они были заменены на медианные значения мощности в соответствии с моделью и брендом. VehicleType (тип кузова), FuelType (вид топлива), Gearbox (тип коробки передач), часть Repaired (ремонт) были приблизетельно восстановлены по моде (самым частым значениям) для своей модель и марки. В столбце вид топлива petrol и gasoline (бензин) и lpg и cng (газ) были объединены.\n",
    "\n",
    "Категориальные переменные были преобразованы в числовые значения методом BinaryEncoder, количественные признаки были масштабированы. Выборка была поделена на обучающую, валидационную и тестовую. \n",
    "\n",
    "При предсказании на валидационное выборке CatBoost имела самый низкий rmse 1640, затраченное на обучение составило 2min 17s. \n",
    "\n",
    "В целом, модели можно было разделить по параметрам от лучшего к худшему в следующем порядке:\n",
    "\n",
    "- качество предсказания:CatBoost, LGBMBoost, DecisionTree.\n",
    "- время обучения модели: DecisionTree, LGBMBoost, RandomForest.\n",
    "- время предсказания модели: DecisionTree, RandomForest, LGBMBoost\n",
    "\n",
    "CatBoost обучается в раза медленнее. Нельзя сказать, что разница с LGBMBoost в качестве незначительная (1640 против 1860), но все же, учитывая пожелания заказчика LGBMBoost предпочтительнее ввиду баланса времени обучения и качества предсказания (2min 31s против 1.7s).\n",
    "\n",
    "Модель LGBMboost показала воспроизводимую метрику RMSE на тествой выборке: 1860. Наиболее важные признаки, влияющие на предсказание модели, это:\n",
    "- год регистрации автомобиля\n",
    "- модель\n",
    "- мощность.\n",
    "\n",
    "Учитывая важность этих признаков:\n",
    "1) Обратить внимание. Последняя дата скачивания анкеты из базы 2016-04-07 14:36:58, но пристутствуют автомобили от 2017 г., что составляет 11844 наблюдений. Интерпретировать данные изменения лучше всего с руководителями сервиса «Не бит, не крашен», возможно, что дата ошибочная. Скачали базу после обновления, например. В ходе предсказания данные от 2017 до 2023 г. были сохранены. \n",
    "\n",
    "2) 30321 автомобиля имели мощность 0. Было взято допущение, что это машины без двигателя, так как медианная цена на них в 2 раза ниже. Все же стоит посоветоваться с экспертами рынка, чтобы узнать, является ли это аномалией (около 10% база данных). "
   ]
  },
  {
   "cell_type": "markdown",
   "metadata": {},
   "source": [
    "\n",
    "<div class=\"alert alert-block alert-info\">\n",
    "<b>Совет:</b> \n",
    "\n",
    "Также если говорить, что можно ещё улучшить в подобных проектах, то я бы выделил такие моменты:<br>\n",
    "    \n",
    "1) Напомню, что для понимания, а какие в итоге факторы важны при моделировании, можно выводить их важность, использую feature_importances_\n",
    "    \n",
    "2) У нас разный возраст машин. Есть гипотеза, что для разных возрастов - своё ценообразование. Поэтому, можно попробовать ввести фактор \"тип возраста\" (ретро, супер-ретро, старая, новая... надо подумать..)..<br>\n",
    "\n",
    "\n",
    "</div>\n"
   ]
  },
  {
   "cell_type": "markdown",
   "metadata": {},
   "source": [
    "## Чек-лист проверки"
   ]
  },
  {
   "cell_type": "markdown",
   "metadata": {},
   "source": [
    "Поставьте 'x' в выполненных пунктах. Далее нажмите Shift+Enter."
   ]
  },
  {
   "cell_type": "markdown",
   "metadata": {},
   "source": [
    "- [x]  Jupyter Notebook открыт\n",
    "- [х]  Весь код выполняется без ошибок\n",
    "- [х]  Ячейки с кодом расположены в порядке исполнения\n",
    "- [х]  Выполнена загрузка и подготовка данных\n",
    "- [х]  Выполнено обучение моделей\n",
    "- [х]  Есть анализ скорости работы и качества моделей"
   ]
  },
  {
   "cell_type": "code",
   "execution_count": null,
   "metadata": {},
   "outputs": [],
   "source": []
  }
 ],
 "metadata": {
  "ExecuteTimeLog": [
   {
    "duration": 415,
    "start_time": "2023-11-10T06:05:28.194Z"
   },
   {
    "duration": 1131,
    "start_time": "2023-11-10T06:05:29.604Z"
   },
   {
    "duration": 882,
    "start_time": "2023-11-10T06:05:37.798Z"
   },
   {
    "duration": 833,
    "start_time": "2023-11-10T06:06:00.162Z"
   },
   {
    "duration": 20095,
    "start_time": "2023-11-10T06:10:33.448Z"
   },
   {
    "duration": 2647,
    "start_time": "2023-11-10T06:12:32.736Z"
   },
   {
    "duration": 988,
    "start_time": "2023-11-10T06:12:35.385Z"
   },
   {
    "duration": 33402,
    "start_time": "2023-11-10T06:12:54.276Z"
   },
   {
    "duration": 2628,
    "start_time": "2023-11-10T06:15:13.512Z"
   },
   {
    "duration": 2684,
    "start_time": "2023-11-10T06:15:18.471Z"
   },
   {
    "duration": 3,
    "start_time": "2023-11-10T06:15:22.332Z"
   },
   {
    "duration": 875,
    "start_time": "2023-11-10T06:15:23.308Z"
   },
   {
    "duration": 29892,
    "start_time": "2023-11-10T06:15:24.185Z"
   },
   {
    "duration": 3,
    "start_time": "2023-11-10T06:16:08.956Z"
   },
   {
    "duration": 854,
    "start_time": "2023-11-10T06:16:09.492Z"
   },
   {
    "duration": 160,
    "start_time": "2023-11-10T06:18:38.730Z"
   },
   {
    "duration": 849,
    "start_time": "2023-11-10T06:20:03.585Z"
   },
   {
    "duration": 3,
    "start_time": "2023-11-10T06:20:40.001Z"
   },
   {
    "duration": 891,
    "start_time": "2023-11-10T06:20:40.881Z"
   },
   {
    "duration": 1679,
    "start_time": "2023-11-10T06:20:42.149Z"
   },
   {
    "duration": 1426,
    "start_time": "2023-11-10T06:22:40.225Z"
   },
   {
    "duration": 1459,
    "start_time": "2023-11-10T06:23:10.101Z"
   },
   {
    "duration": 1498,
    "start_time": "2023-11-10T06:24:09.630Z"
   },
   {
    "duration": 843,
    "start_time": "2023-11-10T06:26:09.014Z"
   },
   {
    "duration": 1469,
    "start_time": "2023-11-10T06:26:13.182Z"
   },
   {
    "duration": 1452,
    "start_time": "2023-11-10T06:26:36.016Z"
   },
   {
    "duration": 24,
    "start_time": "2023-11-10T06:46:53.660Z"
   },
   {
    "duration": 33,
    "start_time": "2023-11-10T06:47:05.051Z"
   },
   {
    "duration": 29,
    "start_time": "2023-11-10T06:48:35.804Z"
   },
   {
    "duration": 29,
    "start_time": "2023-11-10T06:48:44.575Z"
   },
   {
    "duration": 76,
    "start_time": "2023-11-10T06:49:22.122Z"
   },
   {
    "duration": 34,
    "start_time": "2023-11-10T06:49:54.728Z"
   },
   {
    "duration": 803,
    "start_time": "2023-11-10T06:50:25.648Z"
   },
   {
    "duration": 41,
    "start_time": "2023-11-10T06:51:09.352Z"
   },
   {
    "duration": 562,
    "start_time": "2023-11-10T06:53:12.596Z"
   },
   {
    "duration": 2066,
    "start_time": "2023-11-10T06:53:27.325Z"
   },
   {
    "duration": 19,
    "start_time": "2023-11-10T06:54:04.767Z"
   },
   {
    "duration": 2316,
    "start_time": "2023-11-10T06:55:22.600Z"
   },
   {
    "duration": 2310,
    "start_time": "2023-11-10T06:55:47.877Z"
   },
   {
    "duration": 1033,
    "start_time": "2023-11-10T06:56:09.761Z"
   },
   {
    "duration": 1219,
    "start_time": "2023-11-10T06:56:35.586Z"
   },
   {
    "duration": 234,
    "start_time": "2023-11-10T06:56:57.196Z"
   },
   {
    "duration": 129,
    "start_time": "2023-11-10T06:57:02.355Z"
   },
   {
    "duration": 2402,
    "start_time": "2023-11-10T06:57:25.594Z"
   },
   {
    "duration": 22,
    "start_time": "2023-11-10T06:57:40.698Z"
   },
   {
    "duration": 1973,
    "start_time": "2023-11-10T06:57:47.951Z"
   },
   {
    "duration": 10,
    "start_time": "2023-11-10T06:58:26.196Z"
   },
   {
    "duration": 170,
    "start_time": "2023-11-10T06:59:34.100Z"
   },
   {
    "duration": 28,
    "start_time": "2023-11-10T07:00:14.743Z"
   },
   {
    "duration": 6,
    "start_time": "2023-11-10T07:00:17.960Z"
   },
   {
    "duration": 28,
    "start_time": "2023-11-10T07:00:32.053Z"
   },
   {
    "duration": 13,
    "start_time": "2023-11-10T07:01:28.587Z"
   },
   {
    "duration": 89,
    "start_time": "2023-11-10T07:01:54.397Z"
   },
   {
    "duration": 72,
    "start_time": "2023-11-10T07:02:22.851Z"
   },
   {
    "duration": 11,
    "start_time": "2023-11-10T07:02:27.591Z"
   },
   {
    "duration": 274,
    "start_time": "2023-11-10T07:02:40.198Z"
   },
   {
    "duration": 699,
    "start_time": "2023-11-10T07:02:58.457Z"
   },
   {
    "duration": 36,
    "start_time": "2023-11-10T07:03:15.000Z"
   },
   {
    "duration": 5,
    "start_time": "2023-11-10T07:04:22.567Z"
   },
   {
    "duration": 17,
    "start_time": "2023-11-10T07:05:18.639Z"
   },
   {
    "duration": 459,
    "start_time": "2023-11-10T07:05:38.196Z"
   },
   {
    "duration": 52,
    "start_time": "2023-11-10T07:09:06.589Z"
   },
   {
    "duration": 38,
    "start_time": "2023-11-10T07:09:17.294Z"
   },
   {
    "duration": 22,
    "start_time": "2023-11-10T07:09:25.214Z"
   },
   {
    "duration": 6,
    "start_time": "2023-11-10T07:09:32.048Z"
   },
   {
    "duration": 165,
    "start_time": "2023-11-10T07:09:32.982Z"
   },
   {
    "duration": 7,
    "start_time": "2023-11-10T07:11:12.746Z"
   },
   {
    "duration": 14,
    "start_time": "2023-11-10T07:11:24.463Z"
   },
   {
    "duration": 21,
    "start_time": "2023-11-10T07:11:39.470Z"
   },
   {
    "duration": 19,
    "start_time": "2023-11-10T07:13:31.522Z"
   },
   {
    "duration": 13,
    "start_time": "2023-11-10T07:14:17.486Z"
   },
   {
    "duration": 53,
    "start_time": "2023-11-10T07:14:42.032Z"
   },
   {
    "duration": 26,
    "start_time": "2023-11-10T07:15:27.003Z"
   },
   {
    "duration": 16,
    "start_time": "2023-11-10T07:15:39.302Z"
   },
   {
    "duration": 43,
    "start_time": "2023-11-10T07:18:23.840Z"
   },
   {
    "duration": 14,
    "start_time": "2023-11-10T07:20:03.244Z"
   },
   {
    "duration": 41,
    "start_time": "2023-11-10T07:20:51.817Z"
   },
   {
    "duration": 305,
    "start_time": "2023-11-10T07:21:22.496Z"
   },
   {
    "duration": 113,
    "start_time": "2023-11-10T07:21:36.445Z"
   },
   {
    "duration": 137,
    "start_time": "2023-11-10T07:21:43.984Z"
   },
   {
    "duration": 135,
    "start_time": "2023-11-10T07:24:09.932Z"
   },
   {
    "duration": 337,
    "start_time": "2023-11-10T07:24:23.797Z"
   },
   {
    "duration": 28,
    "start_time": "2023-11-10T07:24:41.478Z"
   },
   {
    "duration": 115,
    "start_time": "2023-11-10T07:24:50.698Z"
   },
   {
    "duration": 31,
    "start_time": "2023-11-10T07:24:59.782Z"
   },
   {
    "duration": 26,
    "start_time": "2023-11-10T07:25:40.566Z"
   },
   {
    "duration": 320,
    "start_time": "2023-11-10T07:26:28.742Z"
   },
   {
    "duration": 167,
    "start_time": "2023-11-10T07:27:30.190Z"
   },
   {
    "duration": 6,
    "start_time": "2023-11-10T07:31:41.359Z"
   },
   {
    "duration": 22,
    "start_time": "2023-11-10T07:31:53.532Z"
   },
   {
    "duration": 1454,
    "start_time": "2023-11-10T07:32:52.336Z"
   },
   {
    "duration": 20,
    "start_time": "2023-11-10T07:33:05.345Z"
   },
   {
    "duration": 20,
    "start_time": "2023-11-10T07:34:33.800Z"
   },
   {
    "duration": 13,
    "start_time": "2023-11-10T07:35:22.369Z"
   },
   {
    "duration": 14,
    "start_time": "2023-11-10T07:38:49.953Z"
   },
   {
    "duration": 12,
    "start_time": "2023-11-10T07:38:55.534Z"
   },
   {
    "duration": 81,
    "start_time": "2023-11-10T07:40:12.133Z"
   },
   {
    "duration": 49,
    "start_time": "2023-11-10T07:49:51.489Z"
   },
   {
    "duration": 2160,
    "start_time": "2023-11-10T07:50:01.445Z"
   },
   {
    "duration": 1183,
    "start_time": "2023-11-10T07:50:03.607Z"
   },
   {
    "duration": 1649,
    "start_time": "2023-11-10T07:50:04.792Z"
   },
   {
    "duration": 36,
    "start_time": "2023-11-10T07:50:06.442Z"
   },
   {
    "duration": 35,
    "start_time": "2023-11-10T07:50:06.479Z"
   },
   {
    "duration": 7,
    "start_time": "2023-11-10T07:50:06.517Z"
   },
   {
    "duration": 49,
    "start_time": "2023-11-10T07:50:06.525Z"
   },
   {
    "duration": 170,
    "start_time": "2023-11-10T07:50:06.576Z"
   },
   {
    "duration": 26,
    "start_time": "2023-11-10T07:50:06.747Z"
   },
   {
    "duration": 16,
    "start_time": "2023-11-10T07:50:20.091Z"
   },
   {
    "duration": 4,
    "start_time": "2023-11-10T07:54:25.334Z"
   },
   {
    "duration": 4,
    "start_time": "2023-11-10T07:54:34.533Z"
   },
   {
    "duration": 107,
    "start_time": "2023-11-10T07:55:13.469Z"
   },
   {
    "duration": 103,
    "start_time": "2023-11-10T07:56:40.439Z"
   },
   {
    "duration": 11,
    "start_time": "2023-11-10T07:56:51.394Z"
   },
   {
    "duration": 20,
    "start_time": "2023-11-10T07:58:04.601Z"
   },
   {
    "duration": 19,
    "start_time": "2023-11-10T07:58:10.167Z"
   },
   {
    "duration": 19,
    "start_time": "2023-11-10T07:59:01.470Z"
   },
   {
    "duration": 91,
    "start_time": "2023-11-10T07:59:04.602Z"
   },
   {
    "duration": 17,
    "start_time": "2023-11-10T08:00:11.386Z"
   },
   {
    "duration": 86,
    "start_time": "2023-11-10T08:00:58.422Z"
   },
   {
    "duration": 2307,
    "start_time": "2023-11-10T08:01:39.524Z"
   },
   {
    "duration": 116,
    "start_time": "2023-11-10T08:03:19.352Z"
   },
   {
    "duration": 97,
    "start_time": "2023-11-10T08:03:24.911Z"
   },
   {
    "duration": 107,
    "start_time": "2023-11-10T08:03:42.917Z"
   },
   {
    "duration": 138,
    "start_time": "2023-11-10T08:04:04.687Z"
   },
   {
    "duration": 14,
    "start_time": "2023-11-10T08:05:27.458Z"
   },
   {
    "duration": 1330,
    "start_time": "2023-11-10T08:08:38.813Z"
   },
   {
    "duration": 855,
    "start_time": "2023-11-10T08:08:40.145Z"
   },
   {
    "duration": 1511,
    "start_time": "2023-11-10T08:08:41.001Z"
   },
   {
    "duration": 37,
    "start_time": "2023-11-10T08:08:42.514Z"
   },
   {
    "duration": 18,
    "start_time": "2023-11-10T08:08:42.553Z"
   },
   {
    "duration": 6,
    "start_time": "2023-11-10T08:08:42.572Z"
   },
   {
    "duration": 67,
    "start_time": "2023-11-10T08:08:42.580Z"
   },
   {
    "duration": 146,
    "start_time": "2023-11-10T08:08:42.649Z"
   },
   {
    "duration": 121,
    "start_time": "2023-11-10T08:08:42.796Z"
   },
   {
    "duration": 106,
    "start_time": "2023-11-10T08:08:42.919Z"
   },
   {
    "duration": 0,
    "start_time": "2023-11-10T08:08:43.027Z"
   },
   {
    "duration": 11,
    "start_time": "2023-11-10T08:12:31.922Z"
   },
   {
    "duration": 2144,
    "start_time": "2023-11-10T08:19:03.149Z"
   },
   {
    "duration": 1476,
    "start_time": "2023-11-10T08:24:59.640Z"
   },
   {
    "duration": 941,
    "start_time": "2023-11-10T08:25:01.118Z"
   },
   {
    "duration": 1596,
    "start_time": "2023-11-10T08:25:02.061Z"
   },
   {
    "duration": 35,
    "start_time": "2023-11-10T08:25:03.659Z"
   },
   {
    "duration": 20,
    "start_time": "2023-11-10T08:25:03.708Z"
   },
   {
    "duration": 11,
    "start_time": "2023-11-10T08:25:03.730Z"
   },
   {
    "duration": 42,
    "start_time": "2023-11-10T08:25:03.743Z"
   },
   {
    "duration": 156,
    "start_time": "2023-11-10T08:25:03.787Z"
   },
   {
    "duration": 130,
    "start_time": "2023-11-10T08:25:03.944Z"
   },
   {
    "duration": 51,
    "start_time": "2023-11-10T08:25:25.279Z"
   },
   {
    "duration": 2210,
    "start_time": "2023-11-10T08:25:32.128Z"
   },
   {
    "duration": 1318,
    "start_time": "2023-11-10T08:25:34.340Z"
   },
   {
    "duration": 1721,
    "start_time": "2023-11-10T08:25:35.660Z"
   },
   {
    "duration": 39,
    "start_time": "2023-11-10T08:25:37.383Z"
   },
   {
    "duration": 23,
    "start_time": "2023-11-10T08:25:37.425Z"
   },
   {
    "duration": 10,
    "start_time": "2023-11-10T08:25:37.451Z"
   },
   {
    "duration": 56,
    "start_time": "2023-11-10T08:25:37.463Z"
   },
   {
    "duration": 152,
    "start_time": "2023-11-10T08:25:37.521Z"
   },
   {
    "duration": 122,
    "start_time": "2023-11-10T08:25:37.675Z"
   },
   {
    "duration": 2939,
    "start_time": "2023-11-10T08:25:58.130Z"
   },
   {
    "duration": 1123,
    "start_time": "2023-11-10T08:26:01.072Z"
   },
   {
    "duration": 1574,
    "start_time": "2023-11-10T08:26:02.199Z"
   },
   {
    "duration": 45,
    "start_time": "2023-11-10T08:26:03.776Z"
   },
   {
    "duration": 19,
    "start_time": "2023-11-10T08:26:03.823Z"
   },
   {
    "duration": 5,
    "start_time": "2023-11-10T08:26:03.844Z"
   },
   {
    "duration": 59,
    "start_time": "2023-11-10T08:26:03.851Z"
   },
   {
    "duration": 152,
    "start_time": "2023-11-10T08:26:03.913Z"
   },
   {
    "duration": 123,
    "start_time": "2023-11-10T08:26:04.067Z"
   },
   {
    "duration": 3,
    "start_time": "2023-11-10T08:26:04.192Z"
   },
   {
    "duration": 16,
    "start_time": "2023-11-10T08:26:04.196Z"
   },
   {
    "duration": 34,
    "start_time": "2023-11-10T08:26:04.214Z"
   },
   {
    "duration": 91,
    "start_time": "2023-11-10T08:26:47.630Z"
   },
   {
    "duration": 1873,
    "start_time": "2023-11-10T08:26:52.764Z"
   },
   {
    "duration": 1211,
    "start_time": "2023-11-10T08:26:54.639Z"
   },
   {
    "duration": 1608,
    "start_time": "2023-11-10T08:26:55.852Z"
   },
   {
    "duration": 50,
    "start_time": "2023-11-10T08:26:57.462Z"
   },
   {
    "duration": 19,
    "start_time": "2023-11-10T08:26:57.515Z"
   },
   {
    "duration": 7,
    "start_time": "2023-11-10T08:26:57.536Z"
   },
   {
    "duration": 51,
    "start_time": "2023-11-10T08:26:57.544Z"
   },
   {
    "duration": 146,
    "start_time": "2023-11-10T08:26:57.597Z"
   },
   {
    "duration": 119,
    "start_time": "2023-11-10T08:26:57.745Z"
   },
   {
    "duration": 1918,
    "start_time": "2023-11-10T08:27:37.841Z"
   },
   {
    "duration": 1087,
    "start_time": "2023-11-10T08:27:39.761Z"
   },
   {
    "duration": 1511,
    "start_time": "2023-11-10T08:27:40.850Z"
   },
   {
    "duration": 33,
    "start_time": "2023-11-10T08:27:42.363Z"
   },
   {
    "duration": 18,
    "start_time": "2023-11-10T08:27:42.408Z"
   },
   {
    "duration": 15,
    "start_time": "2023-11-10T08:27:42.428Z"
   },
   {
    "duration": 73,
    "start_time": "2023-11-10T08:27:42.445Z"
   },
   {
    "duration": 255,
    "start_time": "2023-11-10T08:27:42.519Z"
   },
   {
    "duration": 131,
    "start_time": "2023-11-10T08:27:42.776Z"
   },
   {
    "duration": 1528,
    "start_time": "2023-11-10T08:30:22.834Z"
   },
   {
    "duration": 1101,
    "start_time": "2023-11-10T08:30:24.365Z"
   },
   {
    "duration": 1562,
    "start_time": "2023-11-10T08:30:25.468Z"
   },
   {
    "duration": 33,
    "start_time": "2023-11-10T08:30:27.032Z"
   },
   {
    "duration": 17,
    "start_time": "2023-11-10T08:30:27.066Z"
   },
   {
    "duration": 27,
    "start_time": "2023-11-10T08:30:27.084Z"
   },
   {
    "duration": 36,
    "start_time": "2023-11-10T08:30:27.113Z"
   },
   {
    "duration": 146,
    "start_time": "2023-11-10T08:30:27.151Z"
   },
   {
    "duration": 127,
    "start_time": "2023-11-10T08:30:27.298Z"
   },
   {
    "duration": 139,
    "start_time": "2023-11-10T08:30:27.427Z"
   },
   {
    "duration": 0,
    "start_time": "2023-11-10T08:30:27.568Z"
   },
   {
    "duration": 0,
    "start_time": "2023-11-10T08:30:27.569Z"
   },
   {
    "duration": 179,
    "start_time": "2023-11-10T08:30:35.370Z"
   },
   {
    "duration": 11,
    "start_time": "2023-11-10T08:32:29.849Z"
   },
   {
    "duration": 3,
    "start_time": "2023-11-10T08:32:36.959Z"
   },
   {
    "duration": 9,
    "start_time": "2023-11-10T08:32:42.842Z"
   },
   {
    "duration": 13,
    "start_time": "2023-11-10T08:33:40.011Z"
   },
   {
    "duration": 1496,
    "start_time": "2023-11-10T08:35:09.170Z"
   },
   {
    "duration": 1166,
    "start_time": "2023-11-10T08:35:10.668Z"
   },
   {
    "duration": 1672,
    "start_time": "2023-11-10T08:35:11.836Z"
   },
   {
    "duration": 35,
    "start_time": "2023-11-10T08:35:13.510Z"
   },
   {
    "duration": 18,
    "start_time": "2023-11-10T08:35:13.548Z"
   },
   {
    "duration": 6,
    "start_time": "2023-11-10T08:35:13.567Z"
   },
   {
    "duration": 60,
    "start_time": "2023-11-10T08:35:13.574Z"
   },
   {
    "duration": 143,
    "start_time": "2023-11-10T08:35:13.635Z"
   },
   {
    "duration": 144,
    "start_time": "2023-11-10T08:35:13.780Z"
   },
   {
    "duration": 47,
    "start_time": "2023-11-10T08:36:39.013Z"
   },
   {
    "duration": 2053,
    "start_time": "2023-11-10T08:40:42.381Z"
   },
   {
    "duration": 1141,
    "start_time": "2023-11-10T08:40:44.436Z"
   },
   {
    "duration": 1535,
    "start_time": "2023-11-10T08:40:46.621Z"
   },
   {
    "duration": 31,
    "start_time": "2023-11-10T08:40:48.158Z"
   },
   {
    "duration": 19,
    "start_time": "2023-11-10T08:40:48.372Z"
   },
   {
    "duration": 6,
    "start_time": "2023-11-10T08:40:48.856Z"
   },
   {
    "duration": 35,
    "start_time": "2023-11-10T08:40:49.481Z"
   },
   {
    "duration": 145,
    "start_time": "2023-11-10T08:40:49.996Z"
   },
   {
    "duration": 111,
    "start_time": "2023-11-10T08:40:51.896Z"
   },
   {
    "duration": 20,
    "start_time": "2023-11-10T08:40:52.992Z"
   },
   {
    "duration": 1438,
    "start_time": "2023-11-10T08:50:21.686Z"
   },
   {
    "duration": 843,
    "start_time": "2023-11-10T08:50:23.126Z"
   },
   {
    "duration": 1459,
    "start_time": "2023-11-10T08:50:23.971Z"
   },
   {
    "duration": 31,
    "start_time": "2023-11-10T08:50:25.431Z"
   },
   {
    "duration": 16,
    "start_time": "2023-11-10T08:50:25.464Z"
   },
   {
    "duration": 28,
    "start_time": "2023-11-10T08:50:25.481Z"
   },
   {
    "duration": 33,
    "start_time": "2023-11-10T08:50:25.511Z"
   },
   {
    "duration": 162,
    "start_time": "2023-11-10T08:50:25.546Z"
   },
   {
    "duration": 122,
    "start_time": "2023-11-10T08:50:25.710Z"
   },
   {
    "duration": 21,
    "start_time": "2023-11-10T08:50:25.834Z"
   },
   {
    "duration": 14,
    "start_time": "2023-11-10T08:50:25.856Z"
   },
   {
    "duration": 18,
    "start_time": "2023-11-10T08:52:17.948Z"
   },
   {
    "duration": 1763,
    "start_time": "2023-11-10T08:59:35.947Z"
   },
   {
    "duration": 3762,
    "start_time": "2023-11-10T09:00:42.623Z"
   },
   {
    "duration": 140,
    "start_time": "2023-11-10T09:01:11.983Z"
   },
   {
    "duration": 1521,
    "start_time": "2023-11-10T09:04:14.390Z"
   },
   {
    "duration": 935,
    "start_time": "2023-11-10T09:04:15.913Z"
   },
   {
    "duration": 1514,
    "start_time": "2023-11-10T09:04:16.849Z"
   },
   {
    "duration": 45,
    "start_time": "2023-11-10T09:04:18.365Z"
   },
   {
    "duration": 17,
    "start_time": "2023-11-10T09:04:18.412Z"
   },
   {
    "duration": 29,
    "start_time": "2023-11-10T09:04:18.431Z"
   },
   {
    "duration": 68,
    "start_time": "2023-11-10T09:04:18.462Z"
   },
   {
    "duration": 139,
    "start_time": "2023-11-10T09:04:18.532Z"
   },
   {
    "duration": 24,
    "start_time": "2023-11-10T09:04:18.673Z"
   },
   {
    "duration": 3792,
    "start_time": "2023-11-10T09:04:18.699Z"
   },
   {
    "duration": 185,
    "start_time": "2023-11-10T09:04:22.492Z"
   },
   {
    "duration": 16,
    "start_time": "2023-11-10T09:05:24.007Z"
   },
   {
    "duration": 1419,
    "start_time": "2023-11-10T09:06:03.047Z"
   },
   {
    "duration": 872,
    "start_time": "2023-11-10T09:06:04.468Z"
   },
   {
    "duration": 1603,
    "start_time": "2023-11-10T09:06:05.341Z"
   },
   {
    "duration": 36,
    "start_time": "2023-11-10T09:06:06.945Z"
   },
   {
    "duration": 32,
    "start_time": "2023-11-10T09:06:06.982Z"
   },
   {
    "duration": 5,
    "start_time": "2023-11-10T09:06:07.016Z"
   },
   {
    "duration": 49,
    "start_time": "2023-11-10T09:06:07.023Z"
   },
   {
    "duration": 145,
    "start_time": "2023-11-10T09:06:07.074Z"
   },
   {
    "duration": 16,
    "start_time": "2023-11-10T09:06:07.221Z"
   },
   {
    "duration": 3879,
    "start_time": "2023-11-10T09:06:07.240Z"
   },
   {
    "duration": 143,
    "start_time": "2023-11-10T09:06:11.121Z"
   },
   {
    "duration": 16,
    "start_time": "2023-11-10T09:07:18.303Z"
   },
   {
    "duration": 1615,
    "start_time": "2023-11-10T09:09:52.678Z"
   },
   {
    "duration": 870,
    "start_time": "2023-11-10T09:09:54.295Z"
   },
   {
    "duration": 1581,
    "start_time": "2023-11-10T09:09:55.167Z"
   },
   {
    "duration": 37,
    "start_time": "2023-11-10T09:09:56.749Z"
   },
   {
    "duration": 28,
    "start_time": "2023-11-10T09:09:56.788Z"
   },
   {
    "duration": 6,
    "start_time": "2023-11-10T09:09:56.818Z"
   },
   {
    "duration": 48,
    "start_time": "2023-11-10T09:09:56.826Z"
   },
   {
    "duration": 137,
    "start_time": "2023-11-10T09:09:56.876Z"
   },
   {
    "duration": 14,
    "start_time": "2023-11-10T09:09:57.014Z"
   },
   {
    "duration": 868,
    "start_time": "2023-11-10T09:09:57.030Z"
   },
   {
    "duration": 0,
    "start_time": "2023-11-10T09:09:57.900Z"
   },
   {
    "duration": 0,
    "start_time": "2023-11-10T09:09:57.901Z"
   },
   {
    "duration": 1185,
    "start_time": "2023-11-10T09:10:46.361Z"
   },
   {
    "duration": 0,
    "start_time": "2023-11-10T09:10:47.548Z"
   },
   {
    "duration": 1504,
    "start_time": "2023-11-10T09:12:51.294Z"
   },
   {
    "duration": 1096,
    "start_time": "2023-11-10T09:12:52.800Z"
   },
   {
    "duration": 1505,
    "start_time": "2023-11-10T09:12:53.897Z"
   },
   {
    "duration": 37,
    "start_time": "2023-11-10T09:12:55.404Z"
   },
   {
    "duration": 19,
    "start_time": "2023-11-10T09:12:55.443Z"
   },
   {
    "duration": 26,
    "start_time": "2023-11-10T09:12:55.463Z"
   },
   {
    "duration": 40,
    "start_time": "2023-11-10T09:12:55.490Z"
   },
   {
    "duration": 139,
    "start_time": "2023-11-10T09:12:55.531Z"
   },
   {
    "duration": 19,
    "start_time": "2023-11-10T09:12:55.671Z"
   },
   {
    "duration": 146,
    "start_time": "2023-11-10T09:12:55.692Z"
   },
   {
    "duration": 14,
    "start_time": "2023-11-10T09:12:55.840Z"
   },
   {
    "duration": 103,
    "start_time": "2023-11-10T09:13:16.048Z"
   },
   {
    "duration": 96,
    "start_time": "2023-11-10T09:13:48.554Z"
   },
   {
    "duration": 85,
    "start_time": "2023-11-10T09:13:53.086Z"
   },
   {
    "duration": 84,
    "start_time": "2023-11-10T09:14:17.262Z"
   },
   {
    "duration": 135,
    "start_time": "2023-11-10T09:15:37.158Z"
   },
   {
    "duration": 154,
    "start_time": "2023-11-10T09:17:16.001Z"
   },
   {
    "duration": 120,
    "start_time": "2023-11-10T09:17:22.386Z"
   },
   {
    "duration": 123,
    "start_time": "2023-11-10T09:18:16.814Z"
   },
   {
    "duration": 164,
    "start_time": "2023-11-10T09:18:53.136Z"
   },
   {
    "duration": 9,
    "start_time": "2023-11-10T09:22:00.231Z"
   },
   {
    "duration": 10,
    "start_time": "2023-11-10T09:22:07.384Z"
   },
   {
    "duration": 25,
    "start_time": "2023-11-10T09:22:14.323Z"
   },
   {
    "duration": 49,
    "start_time": "2023-11-10T09:22:44.440Z"
   },
   {
    "duration": 1359,
    "start_time": "2023-11-10T09:26:09.085Z"
   },
   {
    "duration": 836,
    "start_time": "2023-11-10T09:26:11.689Z"
   },
   {
    "duration": 1510,
    "start_time": "2023-11-10T09:26:12.528Z"
   },
   {
    "duration": 32,
    "start_time": "2023-11-10T09:26:14.040Z"
   },
   {
    "duration": 35,
    "start_time": "2023-11-10T09:26:14.073Z"
   },
   {
    "duration": 10,
    "start_time": "2023-11-10T09:26:14.109Z"
   },
   {
    "duration": 50,
    "start_time": "2023-11-10T09:26:14.121Z"
   },
   {
    "duration": 134,
    "start_time": "2023-11-10T09:26:14.174Z"
   },
   {
    "duration": 173,
    "start_time": "2023-11-10T09:26:14.309Z"
   },
   {
    "duration": 45,
    "start_time": "2023-11-10T09:26:22.991Z"
   },
   {
    "duration": 135,
    "start_time": "2023-11-10T09:26:24.018Z"
   },
   {
    "duration": 15,
    "start_time": "2023-11-10T09:26:25.585Z"
   },
   {
    "duration": 16,
    "start_time": "2023-11-10T09:27:26.114Z"
   },
   {
    "duration": 38,
    "start_time": "2023-11-10T09:27:37.659Z"
   },
   {
    "duration": 1582,
    "start_time": "2023-11-10T09:27:49.555Z"
   },
   {
    "duration": 833,
    "start_time": "2023-11-10T09:27:51.139Z"
   },
   {
    "duration": 1547,
    "start_time": "2023-11-10T09:27:51.973Z"
   },
   {
    "duration": 31,
    "start_time": "2023-11-10T09:27:53.522Z"
   },
   {
    "duration": 17,
    "start_time": "2023-11-10T09:27:53.604Z"
   },
   {
    "duration": 5,
    "start_time": "2023-11-10T09:27:53.834Z"
   },
   {
    "duration": 31,
    "start_time": "2023-11-10T09:27:54.901Z"
   },
   {
    "duration": 141,
    "start_time": "2023-11-10T09:27:56.566Z"
   },
   {
    "duration": 99,
    "start_time": "2023-11-10T09:28:41.654Z"
   },
   {
    "duration": 9,
    "start_time": "2023-11-10T09:28:54.845Z"
   },
   {
    "duration": 73,
    "start_time": "2023-11-10T09:29:55.899Z"
   },
   {
    "duration": 127,
    "start_time": "2023-11-10T09:30:11.834Z"
   },
   {
    "duration": 14,
    "start_time": "2023-11-10T09:31:26.703Z"
   },
   {
    "duration": 13,
    "start_time": "2023-11-10T09:33:18.076Z"
   },
   {
    "duration": 9,
    "start_time": "2023-11-10T09:33:23.328Z"
   },
   {
    "duration": 415,
    "start_time": "2023-11-10T09:33:29.887Z"
   },
   {
    "duration": 435,
    "start_time": "2023-11-10T09:34:05.669Z"
   },
   {
    "duration": 403,
    "start_time": "2023-11-10T09:34:38.140Z"
   },
   {
    "duration": 416,
    "start_time": "2023-11-10T09:37:28.626Z"
   },
   {
    "duration": 392,
    "start_time": "2023-11-10T09:37:41.372Z"
   },
   {
    "duration": 34,
    "start_time": "2023-11-10T09:38:08.305Z"
   },
   {
    "duration": 209,
    "start_time": "2023-11-10T09:38:22.636Z"
   },
   {
    "duration": 34,
    "start_time": "2023-11-10T09:38:35.553Z"
   },
   {
    "duration": 10,
    "start_time": "2023-11-10T09:38:36.582Z"
   },
   {
    "duration": 9,
    "start_time": "2023-11-10T09:38:48.683Z"
   },
   {
    "duration": 14,
    "start_time": "2023-11-10T09:39:21.600Z"
   },
   {
    "duration": 10,
    "start_time": "2023-11-10T09:39:24.119Z"
   },
   {
    "duration": 43,
    "start_time": "2023-11-10T09:39:48.426Z"
   },
   {
    "duration": 1470,
    "start_time": "2023-11-10T09:39:52.823Z"
   },
   {
    "duration": 964,
    "start_time": "2023-11-10T09:39:54.295Z"
   },
   {
    "duration": 1660,
    "start_time": "2023-11-10T09:39:55.261Z"
   },
   {
    "duration": 33,
    "start_time": "2023-11-10T09:39:56.923Z"
   },
   {
    "duration": 19,
    "start_time": "2023-11-10T09:39:56.958Z"
   },
   {
    "duration": 38,
    "start_time": "2023-11-10T09:39:56.978Z"
   },
   {
    "duration": 68,
    "start_time": "2023-11-10T09:39:57.017Z"
   },
   {
    "duration": 135,
    "start_time": "2023-11-10T09:39:57.087Z"
   },
   {
    "duration": 71,
    "start_time": "2023-11-10T09:39:57.310Z"
   },
   {
    "duration": 148,
    "start_time": "2023-11-10T09:39:59.141Z"
   },
   {
    "duration": 133,
    "start_time": "2023-11-10T09:40:19.825Z"
   },
   {
    "duration": 83,
    "start_time": "2023-11-10T09:40:22.161Z"
   },
   {
    "duration": 144,
    "start_time": "2023-11-10T09:40:30.658Z"
   },
   {
    "duration": 411,
    "start_time": "2023-11-10T09:40:32.096Z"
   },
   {
    "duration": 19,
    "start_time": "2023-11-10T09:40:33.257Z"
   },
   {
    "duration": 198,
    "start_time": "2023-11-10T09:40:38.419Z"
   },
   {
    "duration": 1891,
    "start_time": "2023-11-10T09:41:34.093Z"
   },
   {
    "duration": 1008,
    "start_time": "2023-11-10T09:41:35.987Z"
   },
   {
    "duration": 1557,
    "start_time": "2023-11-10T09:41:36.997Z"
   },
   {
    "duration": 30,
    "start_time": "2023-11-10T09:41:38.556Z"
   },
   {
    "duration": 35,
    "start_time": "2023-11-10T09:41:38.588Z"
   },
   {
    "duration": 7,
    "start_time": "2023-11-10T09:41:38.624Z"
   },
   {
    "duration": 55,
    "start_time": "2023-11-10T09:41:38.632Z"
   },
   {
    "duration": 153,
    "start_time": "2023-11-10T09:41:38.689Z"
   },
   {
    "duration": 83,
    "start_time": "2023-11-10T09:41:38.843Z"
   },
   {
    "duration": 135,
    "start_time": "2023-11-10T09:41:38.927Z"
   },
   {
    "duration": 15,
    "start_time": "2023-11-10T09:41:39.064Z"
   },
   {
    "duration": 458,
    "start_time": "2023-11-10T09:41:39.080Z"
   },
   {
    "duration": 18,
    "start_time": "2023-11-10T09:41:39.539Z"
   },
   {
    "duration": 230,
    "start_time": "2023-11-10T09:41:39.559Z"
   },
   {
    "duration": 33,
    "start_time": "2023-11-10T09:41:39.791Z"
   },
   {
    "duration": 209,
    "start_time": "2023-11-10T09:41:39.826Z"
   },
   {
    "duration": 11,
    "start_time": "2023-11-10T09:41:40.037Z"
   },
   {
    "duration": 76,
    "start_time": "2023-11-10T09:45:12.014Z"
   },
   {
    "duration": 76,
    "start_time": "2023-11-10T09:45:24.954Z"
   },
   {
    "duration": 14,
    "start_time": "2023-11-10T09:45:35.464Z"
   },
   {
    "duration": 86,
    "start_time": "2023-11-10T09:45:44.366Z"
   },
   {
    "duration": 2064,
    "start_time": "2023-11-10T09:46:52.578Z"
   },
   {
    "duration": 2042,
    "start_time": "2023-11-10T09:47:02.749Z"
   },
   {
    "duration": 47,
    "start_time": "2023-11-10T09:50:20.111Z"
   },
   {
    "duration": 1814,
    "start_time": "2023-11-10T09:50:25.168Z"
   },
   {
    "duration": 1397,
    "start_time": "2023-11-10T09:50:36.102Z"
   },
   {
    "duration": 822,
    "start_time": "2023-11-10T09:50:37.501Z"
   },
   {
    "duration": 1485,
    "start_time": "2023-11-10T09:50:38.324Z"
   },
   {
    "duration": 34,
    "start_time": "2023-11-10T09:50:39.811Z"
   },
   {
    "duration": 17,
    "start_time": "2023-11-10T09:50:39.846Z"
   },
   {
    "duration": 7,
    "start_time": "2023-11-10T09:50:39.864Z"
   },
   {
    "duration": 57,
    "start_time": "2023-11-10T09:50:39.872Z"
   },
   {
    "duration": 140,
    "start_time": "2023-11-10T09:50:39.931Z"
   },
   {
    "duration": 87,
    "start_time": "2023-11-10T09:50:40.072Z"
   },
   {
    "duration": 128,
    "start_time": "2023-11-10T09:50:40.161Z"
   },
   {
    "duration": 24,
    "start_time": "2023-11-10T09:50:40.290Z"
   },
   {
    "duration": 378,
    "start_time": "2023-11-10T09:50:40.316Z"
   },
   {
    "duration": 21,
    "start_time": "2023-11-10T09:50:40.696Z"
   },
   {
    "duration": 210,
    "start_time": "2023-11-10T09:50:40.719Z"
   },
   {
    "duration": 24,
    "start_time": "2023-11-10T09:50:40.931Z"
   },
   {
    "duration": 207,
    "start_time": "2023-11-10T09:50:40.957Z"
   },
   {
    "duration": 2029,
    "start_time": "2023-11-10T09:50:41.166Z"
   },
   {
    "duration": 26,
    "start_time": "2023-11-10T09:51:21.787Z"
   },
   {
    "duration": 39,
    "start_time": "2023-11-10T09:51:41.710Z"
   },
   {
    "duration": 673,
    "start_time": "2023-11-10T09:57:16.731Z"
   },
   {
    "duration": 5977,
    "start_time": "2023-11-10T09:57:41.157Z"
   },
   {
    "duration": 13,
    "start_time": "2023-11-10T09:59:25.210Z"
   },
   {
    "duration": 0,
    "start_time": "2023-11-10T10:00:14.714Z"
   },
   {
    "duration": 9,
    "start_time": "2023-11-10T10:00:15.250Z"
   },
   {
    "duration": 9,
    "start_time": "2023-11-10T10:00:20.061Z"
   },
   {
    "duration": 74,
    "start_time": "2023-11-10T10:00:26.717Z"
   },
   {
    "duration": 206,
    "start_time": "2023-11-10T10:00:33.177Z"
   },
   {
    "duration": 9612,
    "start_time": "2023-11-10T10:02:51.877Z"
   },
   {
    "duration": 477,
    "start_time": "2023-11-10T10:03:12.013Z"
   },
   {
    "duration": 946,
    "start_time": "2023-11-10T10:04:06.551Z"
   },
   {
    "duration": 6,
    "start_time": "2023-11-10T10:05:28.428Z"
   },
   {
    "duration": 14,
    "start_time": "2023-11-10T10:06:35.357Z"
   },
   {
    "duration": 18,
    "start_time": "2023-11-10T10:06:54.868Z"
   },
   {
    "duration": 46,
    "start_time": "2023-11-10T10:07:24.491Z"
   },
   {
    "duration": 840,
    "start_time": "2023-11-10T10:07:25.958Z"
   },
   {
    "duration": 13,
    "start_time": "2023-11-10T10:07:43.618Z"
   },
   {
    "duration": 10,
    "start_time": "2023-11-10T10:09:11.182Z"
   },
   {
    "duration": 14,
    "start_time": "2023-11-10T10:09:24.000Z"
   },
   {
    "duration": 13,
    "start_time": "2023-11-10T10:09:35.880Z"
   },
   {
    "duration": 14,
    "start_time": "2023-11-10T10:10:02.367Z"
   },
   {
    "duration": 1554,
    "start_time": "2023-11-10T10:19:23.102Z"
   },
   {
    "duration": 1221,
    "start_time": "2023-11-10T10:19:24.657Z"
   },
   {
    "duration": 1771,
    "start_time": "2023-11-10T10:19:25.880Z"
   },
   {
    "duration": 34,
    "start_time": "2023-11-10T10:19:27.653Z"
   },
   {
    "duration": 37,
    "start_time": "2023-11-10T10:19:27.689Z"
   },
   {
    "duration": 6,
    "start_time": "2023-11-10T10:19:27.727Z"
   },
   {
    "duration": 34,
    "start_time": "2023-11-10T10:19:27.734Z"
   },
   {
    "duration": 32,
    "start_time": "2023-11-10T10:23:12.993Z"
   },
   {
    "duration": 171,
    "start_time": "2023-11-10T10:23:15.148Z"
   },
   {
    "duration": 6,
    "start_time": "2023-11-10T10:23:46.282Z"
   },
   {
    "duration": 82,
    "start_time": "2023-11-10T10:23:49.096Z"
   },
   {
    "duration": 6,
    "start_time": "2023-11-10T10:23:49.735Z"
   },
   {
    "duration": 54,
    "start_time": "2023-11-10T10:23:51.891Z"
   },
   {
    "duration": 12,
    "start_time": "2023-11-10T10:23:53.869Z"
   },
   {
    "duration": 795,
    "start_time": "2023-11-10T10:23:58.491Z"
   },
   {
    "duration": 113,
    "start_time": "2023-11-10T10:26:53.961Z"
   },
   {
    "duration": 1432,
    "start_time": "2023-11-10T10:27:03.729Z"
   },
   {
    "duration": 974,
    "start_time": "2023-11-10T10:27:05.163Z"
   },
   {
    "duration": 1628,
    "start_time": "2023-11-10T10:27:06.139Z"
   },
   {
    "duration": 50,
    "start_time": "2023-11-10T10:27:07.769Z"
   },
   {
    "duration": 18,
    "start_time": "2023-11-10T10:27:07.822Z"
   },
   {
    "duration": 5,
    "start_time": "2023-11-10T10:27:07.841Z"
   },
   {
    "duration": 39,
    "start_time": "2023-11-10T10:27:07.848Z"
   },
   {
    "duration": 160,
    "start_time": "2023-11-10T10:27:07.889Z"
   },
   {
    "duration": 88,
    "start_time": "2023-11-10T10:27:08.051Z"
   },
   {
    "duration": 7,
    "start_time": "2023-11-10T10:27:08.141Z"
   },
   {
    "duration": 54,
    "start_time": "2023-11-10T10:27:08.149Z"
   },
   {
    "duration": 37,
    "start_time": "2023-11-10T10:27:08.206Z"
   },
   {
    "duration": 679,
    "start_time": "2023-11-10T10:27:08.245Z"
   },
   {
    "duration": 14,
    "start_time": "2023-11-10T10:27:08.926Z"
   },
   {
    "duration": 1508,
    "start_time": "2023-11-10T10:29:15.552Z"
   },
   {
    "duration": 1175,
    "start_time": "2023-11-10T10:29:17.062Z"
   },
   {
    "duration": 1557,
    "start_time": "2023-11-10T10:29:18.239Z"
   },
   {
    "duration": 38,
    "start_time": "2023-11-10T10:29:19.799Z"
   },
   {
    "duration": 20,
    "start_time": "2023-11-10T10:29:19.839Z"
   },
   {
    "duration": 7,
    "start_time": "2023-11-10T10:29:19.861Z"
   },
   {
    "duration": 71,
    "start_time": "2023-11-10T10:29:19.870Z"
   },
   {
    "duration": 154,
    "start_time": "2023-11-10T10:29:19.943Z"
   },
   {
    "duration": 89,
    "start_time": "2023-11-10T10:29:20.099Z"
   },
   {
    "duration": 6,
    "start_time": "2023-11-10T10:29:20.190Z"
   },
   {
    "duration": 58,
    "start_time": "2023-11-10T10:29:20.198Z"
   },
   {
    "duration": 36,
    "start_time": "2023-11-10T10:29:20.257Z"
   },
   {
    "duration": 575,
    "start_time": "2023-11-10T10:29:20.295Z"
   },
   {
    "duration": 113,
    "start_time": "2023-11-10T10:29:20.872Z"
   },
   {
    "duration": 0,
    "start_time": "2023-11-10T10:29:20.987Z"
   },
   {
    "duration": 0,
    "start_time": "2023-11-10T10:29:20.988Z"
   },
   {
    "duration": 0,
    "start_time": "2023-11-10T10:29:20.989Z"
   },
   {
    "duration": 0,
    "start_time": "2023-11-10T10:29:20.990Z"
   },
   {
    "duration": 0,
    "start_time": "2023-11-10T10:29:20.991Z"
   },
   {
    "duration": 0,
    "start_time": "2023-11-10T10:29:20.992Z"
   },
   {
    "duration": 0,
    "start_time": "2023-11-10T10:29:20.993Z"
   },
   {
    "duration": 0,
    "start_time": "2023-11-10T10:29:21.007Z"
   },
   {
    "duration": 169,
    "start_time": "2023-11-10T10:29:43.372Z"
   },
   {
    "duration": 11,
    "start_time": "2023-11-10T10:30:07.332Z"
   },
   {
    "duration": 12,
    "start_time": "2023-11-10T10:30:11.620Z"
   },
   {
    "duration": 180,
    "start_time": "2023-11-10T10:30:19.760Z"
   },
   {
    "duration": 254,
    "start_time": "2023-11-10T10:30:30.996Z"
   },
   {
    "duration": 188,
    "start_time": "2023-11-10T10:30:36.239Z"
   },
   {
    "duration": 266,
    "start_time": "2023-11-10T10:30:45.082Z"
   },
   {
    "duration": 9,
    "start_time": "2023-11-10T10:31:57.124Z"
   },
   {
    "duration": 2370,
    "start_time": "2023-11-10T10:32:29.305Z"
   },
   {
    "duration": 10,
    "start_time": "2023-11-10T10:33:06.488Z"
   },
   {
    "duration": 450,
    "start_time": "2023-11-10T10:33:16.518Z"
   },
   {
    "duration": 453,
    "start_time": "2023-11-10T10:34:39.273Z"
   },
   {
    "duration": 509,
    "start_time": "2023-11-10T10:35:16.134Z"
   },
   {
    "duration": 463,
    "start_time": "2023-11-10T10:35:39.629Z"
   },
   {
    "duration": 161,
    "start_time": "2023-11-10T10:36:25.994Z"
   },
   {
    "duration": 139,
    "start_time": "2023-11-10T10:36:30.451Z"
   },
   {
    "duration": 149,
    "start_time": "2023-11-10T10:36:36.473Z"
   },
   {
    "duration": 132,
    "start_time": "2023-11-10T10:36:43.302Z"
   },
   {
    "duration": 485,
    "start_time": "2023-11-10T10:37:08.586Z"
   },
   {
    "duration": 452,
    "start_time": "2023-11-10T10:37:20.234Z"
   },
   {
    "duration": 583,
    "start_time": "2023-11-10T10:37:29.043Z"
   },
   {
    "duration": 462,
    "start_time": "2023-11-10T10:37:53.717Z"
   },
   {
    "duration": 461,
    "start_time": "2023-11-10T10:38:33.534Z"
   },
   {
    "duration": 150,
    "start_time": "2023-11-10T10:38:57.690Z"
   },
   {
    "duration": 152,
    "start_time": "2023-11-10T10:39:11.419Z"
   },
   {
    "duration": 250,
    "start_time": "2023-11-10T10:39:55.279Z"
   },
   {
    "duration": 370,
    "start_time": "2023-11-10T10:40:04.504Z"
   },
   {
    "duration": 149,
    "start_time": "2023-11-10T10:40:39.359Z"
   },
   {
    "duration": 360,
    "start_time": "2023-11-10T10:40:51.524Z"
   },
   {
    "duration": 7,
    "start_time": "2023-11-10T10:41:17.864Z"
   },
   {
    "duration": 120,
    "start_time": "2023-11-10T10:42:49.851Z"
   },
   {
    "duration": 66,
    "start_time": "2023-11-10T10:42:55.202Z"
   },
   {
    "duration": 65,
    "start_time": "2023-11-10T10:43:39.821Z"
   },
   {
    "duration": 64,
    "start_time": "2023-11-10T10:43:50.421Z"
   },
   {
    "duration": 24,
    "start_time": "2023-11-10T10:45:02.224Z"
   },
   {
    "duration": 12,
    "start_time": "2023-11-10T10:46:46.588Z"
   },
   {
    "duration": 24,
    "start_time": "2023-11-10T10:47:02.313Z"
   },
   {
    "duration": 90,
    "start_time": "2023-11-10T10:49:54.733Z"
   },
   {
    "duration": 3,
    "start_time": "2023-11-10T10:50:42.042Z"
   },
   {
    "duration": 56,
    "start_time": "2023-11-10T10:50:46.406Z"
   },
   {
    "duration": 232,
    "start_time": "2023-11-10T10:51:04.261Z"
   },
   {
    "duration": 75,
    "start_time": "2023-11-10T10:51:18.123Z"
   },
   {
    "duration": 230,
    "start_time": "2023-11-10T10:51:19.410Z"
   },
   {
    "duration": 185,
    "start_time": "2023-11-10T10:51:31.898Z"
   },
   {
    "duration": 58,
    "start_time": "2023-11-10T10:51:48.013Z"
   },
   {
    "duration": 195,
    "start_time": "2023-11-10T10:51:49.138Z"
   },
   {
    "duration": 439,
    "start_time": "2023-11-10T10:52:45.025Z"
   },
   {
    "duration": 340,
    "start_time": "2023-11-10T10:53:03.602Z"
   },
   {
    "duration": 58,
    "start_time": "2023-11-10T10:53:38.602Z"
   },
   {
    "duration": 351,
    "start_time": "2023-11-10T10:55:29.231Z"
   },
   {
    "duration": 4,
    "start_time": "2023-11-10T11:01:03.608Z"
   },
   {
    "duration": 37,
    "start_time": "2023-11-10T11:01:14.036Z"
   },
   {
    "duration": 30,
    "start_time": "2023-11-10T11:02:00.424Z"
   },
   {
    "duration": 30,
    "start_time": "2023-11-10T11:02:13.157Z"
   },
   {
    "duration": 29,
    "start_time": "2023-11-10T11:02:23.782Z"
   },
   {
    "duration": 37,
    "start_time": "2023-11-10T11:03:02.044Z"
   },
   {
    "duration": 8,
    "start_time": "2023-11-10T11:04:52.957Z"
   },
   {
    "duration": 11,
    "start_time": "2023-11-10T11:05:44.573Z"
   },
   {
    "duration": 12,
    "start_time": "2023-11-10T11:05:53.069Z"
   },
   {
    "duration": 12,
    "start_time": "2023-11-10T11:06:03.113Z"
   },
   {
    "duration": 9,
    "start_time": "2023-11-10T11:06:13.018Z"
   },
   {
    "duration": 10,
    "start_time": "2023-11-10T11:06:37.134Z"
   },
   {
    "duration": 16,
    "start_time": "2023-11-10T11:07:49.466Z"
   },
   {
    "duration": 19,
    "start_time": "2023-11-10T11:08:12.955Z"
   },
   {
    "duration": 318,
    "start_time": "2023-11-10T11:08:41.355Z"
   },
   {
    "duration": 306,
    "start_time": "2023-11-10T11:14:03.437Z"
   },
   {
    "duration": 302,
    "start_time": "2023-11-10T11:14:30.911Z"
   },
   {
    "duration": 13,
    "start_time": "2023-11-10T11:18:16.649Z"
   },
   {
    "duration": 67,
    "start_time": "2023-11-10T11:18:40.265Z"
   },
   {
    "duration": 13,
    "start_time": "2023-11-10T11:18:53.389Z"
   },
   {
    "duration": 387,
    "start_time": "2023-11-10T11:25:58.016Z"
   },
   {
    "duration": 383,
    "start_time": "2023-11-10T11:31:56.161Z"
   },
   {
    "duration": 1367,
    "start_time": "2023-11-10T11:32:11.753Z"
   },
   {
    "duration": 837,
    "start_time": "2023-11-10T11:32:13.122Z"
   },
   {
    "duration": 1540,
    "start_time": "2023-11-10T11:32:13.962Z"
   },
   {
    "duration": 35,
    "start_time": "2023-11-10T11:32:15.506Z"
   },
   {
    "duration": 33,
    "start_time": "2023-11-10T11:32:15.544Z"
   },
   {
    "duration": 29,
    "start_time": "2023-11-10T11:32:15.579Z"
   },
   {
    "duration": 54,
    "start_time": "2023-11-10T11:32:15.610Z"
   },
   {
    "duration": 146,
    "start_time": "2023-11-10T11:32:15.665Z"
   },
   {
    "duration": 107,
    "start_time": "2023-11-10T11:32:15.813Z"
   },
   {
    "duration": 5,
    "start_time": "2023-11-10T11:32:15.921Z"
   },
   {
    "duration": 83,
    "start_time": "2023-11-10T11:32:15.928Z"
   },
   {
    "duration": 32,
    "start_time": "2023-11-10T11:32:16.013Z"
   },
   {
    "duration": 78,
    "start_time": "2023-11-10T11:32:16.047Z"
   },
   {
    "duration": 446,
    "start_time": "2023-11-10T11:32:16.129Z"
   },
   {
    "duration": 231,
    "start_time": "2023-11-10T11:32:16.576Z"
   },
   {
    "duration": 55,
    "start_time": "2023-11-10T11:32:16.808Z"
   },
   {
    "duration": 273,
    "start_time": "2023-11-10T11:32:16.865Z"
   },
   {
    "duration": 195,
    "start_time": "2023-11-10T11:32:17.140Z"
   },
   {
    "duration": 12,
    "start_time": "2023-11-10T11:32:17.337Z"
   },
   {
    "duration": 535,
    "start_time": "2023-11-10T11:32:17.351Z"
   },
   {
    "duration": 0,
    "start_time": "2023-11-10T11:32:17.887Z"
   },
   {
    "duration": 0,
    "start_time": "2023-11-10T11:32:17.889Z"
   },
   {
    "duration": 0,
    "start_time": "2023-11-10T11:32:17.890Z"
   },
   {
    "duration": 0,
    "start_time": "2023-11-10T11:32:17.890Z"
   },
   {
    "duration": 0,
    "start_time": "2023-11-10T11:32:17.891Z"
   },
   {
    "duration": 0,
    "start_time": "2023-11-10T11:32:17.892Z"
   },
   {
    "duration": 0,
    "start_time": "2023-11-10T11:32:17.907Z"
   },
   {
    "duration": 0,
    "start_time": "2023-11-10T11:32:17.908Z"
   },
   {
    "duration": 0,
    "start_time": "2023-11-10T11:32:17.909Z"
   },
   {
    "duration": 1626,
    "start_time": "2023-11-10T11:34:54.795Z"
   },
   {
    "duration": 847,
    "start_time": "2023-11-10T11:34:56.423Z"
   },
   {
    "duration": 1553,
    "start_time": "2023-11-10T11:34:57.271Z"
   },
   {
    "duration": 33,
    "start_time": "2023-11-10T11:34:58.826Z"
   },
   {
    "duration": 16,
    "start_time": "2023-11-10T11:34:58.860Z"
   },
   {
    "duration": 11,
    "start_time": "2023-11-10T11:34:58.877Z"
   },
   {
    "duration": 45,
    "start_time": "2023-11-10T11:34:58.889Z"
   },
   {
    "duration": 140,
    "start_time": "2023-11-10T11:34:58.936Z"
   },
   {
    "duration": 86,
    "start_time": "2023-11-10T11:34:59.078Z"
   },
   {
    "duration": 5,
    "start_time": "2023-11-10T11:34:59.166Z"
   },
   {
    "duration": 58,
    "start_time": "2023-11-10T11:34:59.173Z"
   },
   {
    "duration": 12,
    "start_time": "2023-11-10T11:34:59.232Z"
   },
   {
    "duration": 66,
    "start_time": "2023-11-10T11:34:59.245Z"
   },
   {
    "duration": 427,
    "start_time": "2023-11-10T11:34:59.312Z"
   },
   {
    "duration": 221,
    "start_time": "2023-11-10T11:34:59.740Z"
   },
   {
    "duration": 67,
    "start_time": "2023-11-10T11:34:59.962Z"
   },
   {
    "duration": 268,
    "start_time": "2023-11-10T11:35:00.030Z"
   },
   {
    "duration": 205,
    "start_time": "2023-11-10T11:35:00.300Z"
   },
   {
    "duration": 13,
    "start_time": "2023-11-10T11:35:00.506Z"
   },
   {
    "duration": 99,
    "start_time": "2023-11-10T11:35:00.521Z"
   },
   {
    "duration": 53246,
    "start_time": "2023-11-10T11:35:00.622Z"
   },
   {
    "duration": 16,
    "start_time": "2023-11-10T11:35:53.870Z"
   },
   {
    "duration": 323,
    "start_time": "2023-11-10T11:35:53.888Z"
   },
   {
    "duration": 24,
    "start_time": "2023-11-10T11:35:54.213Z"
   },
   {
    "duration": 188,
    "start_time": "2023-11-10T11:35:54.238Z"
   },
   {
    "duration": 25,
    "start_time": "2023-11-10T11:35:54.428Z"
   },
   {
    "duration": 185,
    "start_time": "2023-11-10T11:35:54.454Z"
   },
   {
    "duration": 36,
    "start_time": "2023-11-10T11:35:54.643Z"
   },
   {
    "duration": 185,
    "start_time": "2023-11-10T11:35:54.681Z"
   },
   {
    "duration": 1440,
    "start_time": "2023-11-10T11:35:59.135Z"
   },
   {
    "duration": 875,
    "start_time": "2023-11-10T11:36:00.577Z"
   },
   {
    "duration": 1519,
    "start_time": "2023-11-10T11:36:01.454Z"
   },
   {
    "duration": 32,
    "start_time": "2023-11-10T11:36:02.975Z"
   },
   {
    "duration": 17,
    "start_time": "2023-11-10T11:36:03.010Z"
   },
   {
    "duration": 8,
    "start_time": "2023-11-10T11:36:03.028Z"
   },
   {
    "duration": 33,
    "start_time": "2023-11-10T11:36:03.037Z"
   },
   {
    "duration": 156,
    "start_time": "2023-11-10T11:36:03.072Z"
   },
   {
    "duration": 83,
    "start_time": "2023-11-10T11:36:03.229Z"
   },
   {
    "duration": 5,
    "start_time": "2023-11-10T11:36:03.314Z"
   },
   {
    "duration": 50,
    "start_time": "2023-11-10T11:36:03.320Z"
   },
   {
    "duration": 11,
    "start_time": "2023-11-10T11:36:03.371Z"
   },
   {
    "duration": 71,
    "start_time": "2023-11-10T11:36:03.384Z"
   },
   {
    "duration": 420,
    "start_time": "2023-11-10T11:36:03.458Z"
   },
   {
    "duration": 217,
    "start_time": "2023-11-10T11:36:03.879Z"
   },
   {
    "duration": 63,
    "start_time": "2023-11-10T11:36:04.097Z"
   },
   {
    "duration": 270,
    "start_time": "2023-11-10T11:36:04.161Z"
   },
   {
    "duration": 194,
    "start_time": "2023-11-10T11:36:04.433Z"
   },
   {
    "duration": 85,
    "start_time": "2023-11-10T11:36:04.628Z"
   },
   {
    "duration": 170,
    "start_time": "2023-11-10T11:36:04.715Z"
   },
   {
    "duration": 20,
    "start_time": "2023-11-10T11:36:04.887Z"
   },
   {
    "duration": 329,
    "start_time": "2023-11-10T11:36:04.909Z"
   },
   {
    "duration": 16,
    "start_time": "2023-11-10T11:36:05.240Z"
   },
   {
    "duration": 201,
    "start_time": "2023-11-10T11:36:05.257Z"
   },
   {
    "duration": 36,
    "start_time": "2023-11-10T11:36:05.459Z"
   },
   {
    "duration": 180,
    "start_time": "2023-11-10T11:36:05.497Z"
   },
   {
    "duration": 42,
    "start_time": "2023-11-10T11:36:05.679Z"
   },
   {
    "duration": 67,
    "start_time": "2023-11-10T11:36:25.142Z"
   },
   {
    "duration": 176,
    "start_time": "2023-11-10T11:36:28.106Z"
   },
   {
    "duration": 295,
    "start_time": "2023-11-10T11:37:45.731Z"
   },
   {
    "duration": 213,
    "start_time": "2023-11-10T11:38:02.587Z"
   },
   {
    "duration": 283,
    "start_time": "2023-11-10T11:38:08.711Z"
   },
   {
    "duration": 294,
    "start_time": "2023-11-10T11:38:34.348Z"
   },
   {
    "duration": 286,
    "start_time": "2023-11-10T11:38:52.880Z"
   },
   {
    "duration": 440,
    "start_time": "2023-11-10T11:39:03.968Z"
   },
   {
    "duration": 164,
    "start_time": "2023-11-10T11:40:17.744Z"
   },
   {
    "duration": 1392,
    "start_time": "2023-11-10T11:40:41.639Z"
   },
   {
    "duration": 838,
    "start_time": "2023-11-10T11:40:43.033Z"
   },
   {
    "duration": 1445,
    "start_time": "2023-11-10T11:40:43.873Z"
   },
   {
    "duration": 31,
    "start_time": "2023-11-10T11:40:45.320Z"
   },
   {
    "duration": 17,
    "start_time": "2023-11-10T11:40:45.353Z"
   },
   {
    "duration": 6,
    "start_time": "2023-11-10T11:40:45.372Z"
   },
   {
    "duration": 37,
    "start_time": "2023-11-10T11:40:45.407Z"
   },
   {
    "duration": 135,
    "start_time": "2023-11-10T11:40:45.446Z"
   },
   {
    "duration": 86,
    "start_time": "2023-11-10T11:40:45.583Z"
   },
   {
    "duration": 1388,
    "start_time": "2023-11-10T11:40:57.155Z"
   },
   {
    "duration": 872,
    "start_time": "2023-11-10T11:40:58.545Z"
   },
   {
    "duration": 1499,
    "start_time": "2023-11-10T11:40:59.419Z"
   },
   {
    "duration": 34,
    "start_time": "2023-11-10T11:41:00.920Z"
   },
   {
    "duration": 48,
    "start_time": "2023-11-10T11:41:00.956Z"
   },
   {
    "duration": 29,
    "start_time": "2023-11-10T11:41:01.005Z"
   },
   {
    "duration": 61,
    "start_time": "2023-11-10T11:41:01.035Z"
   },
   {
    "duration": 135,
    "start_time": "2023-11-10T11:41:02.188Z"
   },
   {
    "duration": 73,
    "start_time": "2023-11-10T11:41:02.767Z"
   },
   {
    "duration": 46,
    "start_time": "2023-11-10T11:41:02.995Z"
   },
   {
    "duration": 12,
    "start_time": "2023-11-10T11:41:03.243Z"
   },
   {
    "duration": 1394,
    "start_time": "2023-11-10T11:43:42.040Z"
   },
   {
    "duration": 873,
    "start_time": "2023-11-10T11:43:43.436Z"
   },
   {
    "duration": 1501,
    "start_time": "2023-11-10T11:43:44.310Z"
   },
   {
    "duration": 38,
    "start_time": "2023-11-10T11:43:45.813Z"
   },
   {
    "duration": 18,
    "start_time": "2023-11-10T11:43:45.852Z"
   },
   {
    "duration": 5,
    "start_time": "2023-11-10T11:43:45.871Z"
   },
   {
    "duration": 57,
    "start_time": "2023-11-10T11:43:45.877Z"
   },
   {
    "duration": 187,
    "start_time": "2023-11-10T11:43:45.936Z"
   },
   {
    "duration": 82,
    "start_time": "2023-11-10T11:43:46.125Z"
   },
   {
    "duration": 46,
    "start_time": "2023-11-10T11:43:46.210Z"
   },
   {
    "duration": 39,
    "start_time": "2023-11-10T11:43:46.257Z"
   },
   {
    "duration": 1425,
    "start_time": "2023-11-10T11:43:46.297Z"
   },
   {
    "duration": 0,
    "start_time": "2023-11-10T11:43:47.723Z"
   },
   {
    "duration": 0,
    "start_time": "2023-11-10T11:43:47.725Z"
   },
   {
    "duration": 0,
    "start_time": "2023-11-10T11:43:47.726Z"
   },
   {
    "duration": 0,
    "start_time": "2023-11-10T11:43:47.727Z"
   },
   {
    "duration": 0,
    "start_time": "2023-11-10T11:43:47.728Z"
   },
   {
    "duration": 0,
    "start_time": "2023-11-10T11:43:47.729Z"
   },
   {
    "duration": 0,
    "start_time": "2023-11-10T11:43:47.729Z"
   },
   {
    "duration": 0,
    "start_time": "2023-11-10T11:43:47.730Z"
   },
   {
    "duration": 0,
    "start_time": "2023-11-10T11:43:47.731Z"
   },
   {
    "duration": 0,
    "start_time": "2023-11-10T11:43:47.732Z"
   },
   {
    "duration": 0,
    "start_time": "2023-11-10T11:43:47.733Z"
   },
   {
    "duration": 0,
    "start_time": "2023-11-10T11:43:47.734Z"
   },
   {
    "duration": 0,
    "start_time": "2023-11-10T11:43:47.735Z"
   },
   {
    "duration": 0,
    "start_time": "2023-11-10T11:43:47.736Z"
   },
   {
    "duration": 0,
    "start_time": "2023-11-10T11:43:47.737Z"
   },
   {
    "duration": 0,
    "start_time": "2023-11-10T11:43:47.738Z"
   },
   {
    "duration": 49,
    "start_time": "2023-11-10T11:44:04.130Z"
   },
   {
    "duration": 410,
    "start_time": "2023-11-10T11:44:09.660Z"
   },
   {
    "duration": 222,
    "start_time": "2023-11-10T11:44:14.640Z"
   },
   {
    "duration": 57,
    "start_time": "2023-11-10T11:44:15.876Z"
   },
   {
    "duration": 270,
    "start_time": "2023-11-10T11:44:17.152Z"
   },
   {
    "duration": 185,
    "start_time": "2023-11-10T11:44:18.536Z"
   },
   {
    "duration": 84,
    "start_time": "2023-11-10T11:44:19.660Z"
   },
   {
    "duration": 179,
    "start_time": "2023-11-10T11:44:20.763Z"
   },
   {
    "duration": 290,
    "start_time": "2023-11-10T11:44:24.332Z"
   },
   {
    "duration": 12,
    "start_time": "2023-11-10T11:44:28.292Z"
   },
   {
    "duration": 12,
    "start_time": "2023-11-10T11:45:20.472Z"
   },
   {
    "duration": 87,
    "start_time": "2023-11-10T11:45:32.740Z"
   },
   {
    "duration": 152,
    "start_time": "2023-11-10T11:45:50.415Z"
   },
   {
    "duration": 102,
    "start_time": "2023-11-10T11:46:00.049Z"
   },
   {
    "duration": 82,
    "start_time": "2023-11-10T11:46:25.045Z"
   },
   {
    "duration": 118,
    "start_time": "2023-11-10T11:46:53.801Z"
   },
   {
    "duration": 181,
    "start_time": "2023-11-10T11:48:48.958Z"
   },
   {
    "duration": 254,
    "start_time": "2023-11-10T11:55:06.064Z"
   },
   {
    "duration": 19,
    "start_time": "2023-11-10T11:55:39.457Z"
   },
   {
    "duration": 13,
    "start_time": "2023-11-10T11:56:25.475Z"
   },
   {
    "duration": 125,
    "start_time": "2023-11-10T11:56:29.108Z"
   },
   {
    "duration": 13,
    "start_time": "2023-11-10T11:58:27.488Z"
   },
   {
    "duration": 1581,
    "start_time": "2023-11-10T11:58:49.942Z"
   },
   {
    "duration": 912,
    "start_time": "2023-11-10T11:58:51.525Z"
   },
   {
    "duration": 1619,
    "start_time": "2023-11-10T11:58:52.439Z"
   },
   {
    "duration": 34,
    "start_time": "2023-11-10T11:58:54.060Z"
   },
   {
    "duration": 29,
    "start_time": "2023-11-10T11:58:54.107Z"
   },
   {
    "duration": 35,
    "start_time": "2023-11-10T11:58:54.137Z"
   },
   {
    "duration": 56,
    "start_time": "2023-11-10T11:58:54.174Z"
   },
   {
    "duration": 142,
    "start_time": "2023-11-10T11:58:54.232Z"
   },
   {
    "duration": 92,
    "start_time": "2023-11-10T11:58:54.375Z"
   },
   {
    "duration": 55,
    "start_time": "2023-11-10T11:58:54.468Z"
   },
   {
    "duration": 48,
    "start_time": "2023-11-10T11:58:54.525Z"
   },
   {
    "duration": 103,
    "start_time": "2023-11-10T11:58:54.574Z"
   },
   {
    "duration": 473,
    "start_time": "2023-11-10T11:58:54.679Z"
   },
   {
    "duration": 269,
    "start_time": "2023-11-10T11:58:55.155Z"
   },
   {
    "duration": 51,
    "start_time": "2023-11-10T11:58:55.427Z"
   },
   {
    "duration": 290,
    "start_time": "2023-11-10T11:58:55.480Z"
   },
   {
    "duration": 256,
    "start_time": "2023-11-10T11:58:55.771Z"
   },
   {
    "duration": 108,
    "start_time": "2023-11-10T11:58:56.030Z"
   },
   {
    "duration": 236,
    "start_time": "2023-11-10T11:58:56.140Z"
   },
   {
    "duration": 329,
    "start_time": "2023-11-10T11:58:56.378Z"
   },
   {
    "duration": 128,
    "start_time": "2023-11-10T11:58:56.716Z"
   },
   {
    "duration": 35,
    "start_time": "2023-11-10T11:58:56.845Z"
   },
   {
    "duration": 77,
    "start_time": "2023-11-10T11:58:56.882Z"
   },
   {
    "duration": 234,
    "start_time": "2023-11-10T11:58:56.960Z"
   },
   {
    "duration": 17,
    "start_time": "2023-11-10T12:05:57.643Z"
   },
   {
    "duration": 1403,
    "start_time": "2023-11-10T12:06:27.154Z"
   },
   {
    "duration": 956,
    "start_time": "2023-11-10T12:06:30.783Z"
   },
   {
    "duration": 1625,
    "start_time": "2023-11-10T12:06:31.740Z"
   },
   {
    "duration": 48,
    "start_time": "2023-11-10T12:06:33.367Z"
   },
   {
    "duration": 21,
    "start_time": "2023-11-10T12:06:33.418Z"
   },
   {
    "duration": 6,
    "start_time": "2023-11-10T12:06:34.037Z"
   },
   {
    "duration": 44,
    "start_time": "2023-11-10T12:06:35.665Z"
   },
   {
    "duration": 154,
    "start_time": "2023-11-10T12:06:36.522Z"
   },
   {
    "duration": 71,
    "start_time": "2023-11-10T12:06:38.418Z"
   },
   {
    "duration": 38,
    "start_time": "2023-11-10T12:06:39.227Z"
   },
   {
    "duration": 16,
    "start_time": "2023-11-10T12:06:41.307Z"
   },
   {
    "duration": 55,
    "start_time": "2023-11-10T12:06:48.786Z"
   },
   {
    "duration": 472,
    "start_time": "2023-11-10T12:08:36.123Z"
   },
   {
    "duration": 21,
    "start_time": "2023-11-10T12:09:50.315Z"
   },
   {
    "duration": 21,
    "start_time": "2023-11-10T12:11:12.743Z"
   },
   {
    "duration": 20,
    "start_time": "2023-11-10T12:11:17.791Z"
   },
   {
    "duration": 21,
    "start_time": "2023-11-10T12:11:24.528Z"
   },
   {
    "duration": 20,
    "start_time": "2023-11-10T12:11:47.848Z"
   },
   {
    "duration": 21,
    "start_time": "2023-11-10T12:11:53.033Z"
   },
   {
    "duration": 30,
    "start_time": "2023-11-10T12:12:23.589Z"
   },
   {
    "duration": 22,
    "start_time": "2023-11-10T12:12:29.900Z"
   },
   {
    "duration": 23,
    "start_time": "2023-11-10T12:19:22.039Z"
   },
   {
    "duration": 33,
    "start_time": "2023-11-10T12:19:30.101Z"
   },
   {
    "duration": 22,
    "start_time": "2023-11-10T12:20:09.633Z"
   },
   {
    "duration": 68,
    "start_time": "2023-11-10T12:20:43.216Z"
   },
   {
    "duration": 256,
    "start_time": "2023-11-10T12:20:49.677Z"
   },
   {
    "duration": 53,
    "start_time": "2023-11-10T12:20:54.611Z"
   },
   {
    "duration": 265,
    "start_time": "2023-11-10T12:20:56.458Z"
   },
   {
    "duration": 178,
    "start_time": "2023-11-10T12:20:57.999Z"
   },
   {
    "duration": 49,
    "start_time": "2023-11-10T12:21:04.886Z"
   },
   {
    "duration": 176,
    "start_time": "2023-11-10T12:21:06.290Z"
   },
   {
    "duration": 277,
    "start_time": "2023-11-10T12:21:16.670Z"
   },
   {
    "duration": 83,
    "start_time": "2023-11-10T12:21:17.371Z"
   },
   {
    "duration": 203,
    "start_time": "2023-11-10T12:32:18.710Z"
   },
   {
    "duration": 101,
    "start_time": "2023-11-10T12:35:33.867Z"
   },
   {
    "duration": 311,
    "start_time": "2023-11-10T12:40:13.183Z"
   },
   {
    "duration": 97,
    "start_time": "2023-11-10T12:40:20.283Z"
   },
   {
    "duration": 85,
    "start_time": "2023-11-10T12:40:39.477Z"
   },
   {
    "duration": 91,
    "start_time": "2023-11-10T12:41:40.183Z"
   },
   {
    "duration": 371,
    "start_time": "2023-11-10T12:42:35.878Z"
   },
   {
    "duration": 284,
    "start_time": "2023-11-10T12:43:18.105Z"
   },
   {
    "duration": 103,
    "start_time": "2023-11-10T12:43:34.074Z"
   },
   {
    "duration": 123,
    "start_time": "2023-11-10T12:45:20.388Z"
   },
   {
    "duration": 280,
    "start_time": "2023-11-10T12:45:54.292Z"
   },
   {
    "duration": 90,
    "start_time": "2023-11-10T12:46:43.711Z"
   },
   {
    "duration": 114,
    "start_time": "2023-11-10T12:50:46.102Z"
   },
   {
    "duration": 25,
    "start_time": "2023-11-10T12:54:41.463Z"
   },
   {
    "duration": 82,
    "start_time": "2023-11-10T12:54:44.835Z"
   },
   {
    "duration": 1555,
    "start_time": "2023-11-10T12:54:58.339Z"
   },
   {
    "duration": 1092,
    "start_time": "2023-11-10T12:55:00.857Z"
   },
   {
    "duration": 1790,
    "start_time": "2023-11-10T12:55:01.951Z"
   },
   {
    "duration": 41,
    "start_time": "2023-11-10T12:55:04.593Z"
   },
   {
    "duration": 20,
    "start_time": "2023-11-10T12:55:05.980Z"
   },
   {
    "duration": 11,
    "start_time": "2023-11-10T12:55:08.001Z"
   },
   {
    "duration": 41,
    "start_time": "2023-11-10T12:55:10.092Z"
   },
   {
    "duration": 150,
    "start_time": "2023-11-10T12:55:11.124Z"
   },
   {
    "duration": 100,
    "start_time": "2023-11-10T12:57:32.584Z"
   },
   {
    "duration": 12,
    "start_time": "2023-11-10T12:57:37.889Z"
   },
   {
    "duration": 24,
    "start_time": "2023-11-10T12:57:47.361Z"
   },
   {
    "duration": 63,
    "start_time": "2023-11-10T12:57:48.999Z"
   },
   {
    "duration": 14,
    "start_time": "2023-11-10T12:57:50.021Z"
   },
   {
    "duration": 54,
    "start_time": "2023-11-10T12:57:54.940Z"
   },
   {
    "duration": 506,
    "start_time": "2023-11-10T12:58:06.945Z"
   },
   {
    "duration": 31,
    "start_time": "2023-11-10T12:58:14.117Z"
   },
   {
    "duration": 48,
    "start_time": "2023-11-10T13:02:07.469Z"
   },
   {
    "duration": 236,
    "start_time": "2023-11-10T13:02:11.894Z"
   },
   {
    "duration": 19,
    "start_time": "2023-11-10T13:02:57.574Z"
   },
   {
    "duration": 42,
    "start_time": "2023-11-10T13:03:05.549Z"
   },
   {
    "duration": 79,
    "start_time": "2023-11-10T13:03:46.671Z"
   },
   {
    "duration": 42,
    "start_time": "2023-11-10T13:03:55.750Z"
   },
   {
    "duration": 306,
    "start_time": "2023-11-10T13:03:59.290Z"
   },
   {
    "duration": 213,
    "start_time": "2023-11-10T13:04:09.147Z"
   },
   {
    "duration": 30,
    "start_time": "2023-11-10T13:04:52.924Z"
   },
   {
    "duration": 156,
    "start_time": "2023-11-10T13:09:04.476Z"
   },
   {
    "duration": 2798,
    "start_time": "2023-11-10T13:10:16.758Z"
   },
   {
    "duration": 23,
    "start_time": "2023-11-10T13:10:43.360Z"
   },
   {
    "duration": 2908,
    "start_time": "2023-11-10T13:12:24.056Z"
   },
   {
    "duration": 39,
    "start_time": "2023-11-10T13:12:28.904Z"
   },
   {
    "duration": 118,
    "start_time": "2023-11-10T13:13:34.657Z"
   },
   {
    "duration": 6,
    "start_time": "2023-11-10T13:14:36.378Z"
   },
   {
    "duration": 28,
    "start_time": "2023-11-10T13:14:59.190Z"
   },
   {
    "duration": 9,
    "start_time": "2023-11-10T13:15:34.758Z"
   },
   {
    "duration": 9,
    "start_time": "2023-11-10T13:15:36.253Z"
   },
   {
    "duration": 9,
    "start_time": "2023-11-10T13:16:41.030Z"
   },
   {
    "duration": 8,
    "start_time": "2023-11-10T13:16:56.986Z"
   },
   {
    "duration": 9,
    "start_time": "2023-11-10T13:17:10.288Z"
   },
   {
    "duration": 9,
    "start_time": "2023-11-10T13:17:58.271Z"
   },
   {
    "duration": 8,
    "start_time": "2023-11-10T13:17:59.280Z"
   },
   {
    "duration": 1418,
    "start_time": "2023-11-10T13:18:11.875Z"
   },
   {
    "duration": 956,
    "start_time": "2023-11-10T13:18:13.295Z"
   },
   {
    "duration": 1872,
    "start_time": "2023-11-10T13:18:15.067Z"
   },
   {
    "duration": 36,
    "start_time": "2023-11-10T13:18:16.941Z"
   },
   {
    "duration": 30,
    "start_time": "2023-11-10T13:18:16.978Z"
   },
   {
    "duration": 10,
    "start_time": "2023-11-10T13:18:17.010Z"
   },
   {
    "duration": 48,
    "start_time": "2023-11-10T13:18:17.022Z"
   },
   {
    "duration": 190,
    "start_time": "2023-11-10T13:18:17.490Z"
   },
   {
    "duration": 34,
    "start_time": "2023-11-10T13:18:18.152Z"
   },
   {
    "duration": 55,
    "start_time": "2023-11-10T13:18:19.327Z"
   },
   {
    "duration": 10,
    "start_time": "2023-11-10T13:18:20.054Z"
   },
   {
    "duration": 62,
    "start_time": "2023-11-10T13:18:21.110Z"
   },
   {
    "duration": 478,
    "start_time": "2023-11-10T13:18:23.839Z"
   },
   {
    "duration": 22,
    "start_time": "2023-11-10T13:18:24.777Z"
   },
   {
    "duration": 48,
    "start_time": "2023-11-10T13:18:27.851Z"
   },
   {
    "duration": 247,
    "start_time": "2023-11-10T13:18:30.454Z"
   },
   {
    "duration": 20,
    "start_time": "2023-11-10T13:18:30.852Z"
   },
   {
    "duration": 54,
    "start_time": "2023-11-10T13:18:31.385Z"
   },
   {
    "duration": 294,
    "start_time": "2023-11-10T13:18:32.151Z"
   },
   {
    "duration": 194,
    "start_time": "2023-11-10T13:18:32.953Z"
   },
   {
    "duration": 30,
    "start_time": "2023-11-10T13:18:34.303Z"
   },
   {
    "duration": 6,
    "start_time": "2023-11-10T13:18:34.953Z"
   },
   {
    "duration": 24,
    "start_time": "2023-11-10T13:18:35.154Z"
   },
   {
    "duration": 18,
    "start_time": "2023-11-10T13:19:28.202Z"
   },
   {
    "duration": 11,
    "start_time": "2023-11-10T13:19:29.880Z"
   },
   {
    "duration": 9,
    "start_time": "2023-11-10T13:20:25.087Z"
   },
   {
    "duration": 31,
    "start_time": "2023-11-10T13:20:33.035Z"
   },
   {
    "duration": 11,
    "start_time": "2023-11-10T13:21:03.858Z"
   },
   {
    "duration": 7,
    "start_time": "2023-11-10T13:21:30.815Z"
   },
   {
    "duration": 67,
    "start_time": "2023-11-10T13:21:32.878Z"
   },
   {
    "duration": 12,
    "start_time": "2023-11-10T13:21:49.190Z"
   },
   {
    "duration": 11,
    "start_time": "2023-11-10T13:22:03.832Z"
   },
   {
    "duration": 4,
    "start_time": "2023-11-10T13:22:14.824Z"
   },
   {
    "duration": 8,
    "start_time": "2023-11-10T13:22:27.663Z"
   },
   {
    "duration": 14,
    "start_time": "2023-11-10T13:22:32.811Z"
   },
   {
    "duration": 5,
    "start_time": "2023-11-10T13:22:42.935Z"
   },
   {
    "duration": 18,
    "start_time": "2023-11-10T13:22:56.974Z"
   },
   {
    "duration": 12,
    "start_time": "2023-11-10T13:25:56.784Z"
   },
   {
    "duration": 19,
    "start_time": "2023-11-10T13:25:57.984Z"
   },
   {
    "duration": 1358,
    "start_time": "2023-11-10T13:26:31.291Z"
   },
   {
    "duration": 867,
    "start_time": "2023-11-10T13:26:32.652Z"
   },
   {
    "duration": 1581,
    "start_time": "2023-11-10T13:26:33.520Z"
   },
   {
    "duration": 36,
    "start_time": "2023-11-10T13:26:35.104Z"
   },
   {
    "duration": 19,
    "start_time": "2023-11-10T13:26:35.142Z"
   },
   {
    "duration": 19,
    "start_time": "2023-11-10T13:26:35.163Z"
   },
   {
    "duration": 53,
    "start_time": "2023-11-10T13:26:35.183Z"
   },
   {
    "duration": 144,
    "start_time": "2023-11-10T13:26:35.238Z"
   },
   {
    "duration": 48,
    "start_time": "2023-11-10T13:26:35.384Z"
   },
   {
    "duration": 54,
    "start_time": "2023-11-10T13:26:35.434Z"
   },
   {
    "duration": 19,
    "start_time": "2023-11-10T13:26:35.489Z"
   },
   {
    "duration": 54,
    "start_time": "2023-11-10T13:26:35.510Z"
   },
   {
    "duration": 468,
    "start_time": "2023-11-10T13:26:35.566Z"
   },
   {
    "duration": 31,
    "start_time": "2023-11-10T13:26:36.036Z"
   },
   {
    "duration": 69,
    "start_time": "2023-11-10T13:26:36.069Z"
   },
   {
    "duration": 231,
    "start_time": "2023-11-10T13:26:36.140Z"
   },
   {
    "duration": 20,
    "start_time": "2023-11-10T13:26:36.373Z"
   },
   {
    "duration": 45,
    "start_time": "2023-11-10T13:26:38.824Z"
   },
   {
    "duration": 286,
    "start_time": "2023-11-10T13:26:39.031Z"
   },
   {
    "duration": 203,
    "start_time": "2023-11-10T13:26:39.319Z"
   },
   {
    "duration": 24,
    "start_time": "2023-11-10T13:26:39.724Z"
   },
   {
    "duration": 10,
    "start_time": "2023-11-10T13:26:40.607Z"
   },
   {
    "duration": 9,
    "start_time": "2023-11-10T13:26:43.259Z"
   },
   {
    "duration": 12,
    "start_time": "2023-11-10T13:27:12.364Z"
   },
   {
    "duration": 11,
    "start_time": "2023-11-10T13:27:28.255Z"
   },
   {
    "duration": 34,
    "start_time": "2023-11-10T13:27:47.860Z"
   },
   {
    "duration": 37,
    "start_time": "2023-11-10T13:28:31.832Z"
   },
   {
    "duration": 5,
    "start_time": "2023-11-10T13:30:03.861Z"
   },
   {
    "duration": 6,
    "start_time": "2023-11-10T13:31:07.655Z"
   },
   {
    "duration": 5,
    "start_time": "2023-11-10T13:31:22.353Z"
   },
   {
    "duration": 6,
    "start_time": "2023-11-10T13:31:30.920Z"
   },
   {
    "duration": 2712,
    "start_time": "2023-11-10T13:32:08.700Z"
   },
   {
    "duration": 204,
    "start_time": "2023-11-10T13:32:17.701Z"
   },
   {
    "duration": 247,
    "start_time": "2023-11-10T13:33:54.184Z"
   },
   {
    "duration": 5,
    "start_time": "2023-11-10T13:34:24.925Z"
   },
   {
    "duration": 11,
    "start_time": "2023-11-10T13:34:34.897Z"
   },
   {
    "duration": 164,
    "start_time": "2023-11-10T13:35:07.355Z"
   },
   {
    "duration": 341,
    "start_time": "2023-11-10T13:35:14.129Z"
   },
   {
    "duration": 242,
    "start_time": "2023-11-10T13:35:18.266Z"
   },
   {
    "duration": 1628,
    "start_time": "2023-11-10T14:23:15.916Z"
   },
   {
    "duration": 1001,
    "start_time": "2023-11-10T14:23:17.546Z"
   },
   {
    "duration": 1742,
    "start_time": "2023-11-10T14:23:18.549Z"
   },
   {
    "duration": 55,
    "start_time": "2023-11-10T14:23:20.293Z"
   },
   {
    "duration": 17,
    "start_time": "2023-11-10T14:23:20.351Z"
   },
   {
    "duration": 13,
    "start_time": "2023-11-10T14:23:20.369Z"
   },
   {
    "duration": 68,
    "start_time": "2023-11-10T14:23:20.383Z"
   },
   {
    "duration": 150,
    "start_time": "2023-11-10T14:23:20.453Z"
   },
   {
    "duration": 52,
    "start_time": "2023-11-10T14:23:20.604Z"
   },
   {
    "duration": 82,
    "start_time": "2023-11-10T14:23:20.658Z"
   },
   {
    "duration": 11,
    "start_time": "2023-11-10T14:23:20.742Z"
   },
   {
    "duration": 89,
    "start_time": "2023-11-10T14:23:20.755Z"
   },
   {
    "duration": 507,
    "start_time": "2023-11-10T14:23:20.845Z"
   },
   {
    "duration": 24,
    "start_time": "2023-11-10T14:23:21.355Z"
   },
   {
    "duration": 74,
    "start_time": "2023-11-10T14:23:21.381Z"
   },
   {
    "duration": 278,
    "start_time": "2023-11-10T14:23:21.457Z"
   },
   {
    "duration": 18,
    "start_time": "2023-11-10T14:23:21.738Z"
   },
   {
    "duration": 61,
    "start_time": "2023-11-10T14:23:21.758Z"
   },
   {
    "duration": 316,
    "start_time": "2023-11-10T14:23:21.822Z"
   },
   {
    "duration": 210,
    "start_time": "2023-11-10T14:23:22.140Z"
   },
   {
    "duration": 28,
    "start_time": "2023-11-10T14:23:22.352Z"
   },
   {
    "duration": 9,
    "start_time": "2023-11-10T14:23:22.382Z"
   },
   {
    "duration": 9,
    "start_time": "2023-11-10T14:23:22.410Z"
   },
   {
    "duration": 339,
    "start_time": "2023-11-10T14:23:22.421Z"
   },
   {
    "duration": 181,
    "start_time": "2023-11-10T14:23:22.762Z"
   },
   {
    "duration": 444,
    "start_time": "2023-11-10T14:23:22.945Z"
   },
   {
    "duration": 157,
    "start_time": "2023-11-10T14:23:23.391Z"
   },
   {
    "duration": 310,
    "start_time": "2023-11-10T14:23:23.549Z"
   },
   {
    "duration": 290,
    "start_time": "2023-11-10T14:23:23.861Z"
   },
   {
    "duration": 306,
    "start_time": "2023-11-10T14:23:24.153Z"
   },
   {
    "duration": 106,
    "start_time": "2023-11-10T14:23:24.463Z"
   },
   {
    "duration": 132,
    "start_time": "2023-11-10T14:23:24.570Z"
   },
   {
    "duration": 5,
    "start_time": "2023-11-10T14:27:40.229Z"
   },
   {
    "duration": 333,
    "start_time": "2023-11-10T14:29:21.197Z"
   },
   {
    "duration": 319,
    "start_time": "2023-11-10T14:30:58.633Z"
   },
   {
    "duration": 241,
    "start_time": "2023-11-10T14:31:01.477Z"
   },
   {
    "duration": 85,
    "start_time": "2023-11-10T14:31:02.296Z"
   },
   {
    "duration": 84,
    "start_time": "2023-11-10T14:31:08.284Z"
   },
   {
    "duration": 5,
    "start_time": "2023-11-10T14:31:09.261Z"
   },
   {
    "duration": 19,
    "start_time": "2023-11-10T14:31:59.535Z"
   },
   {
    "duration": 20,
    "start_time": "2023-11-10T14:32:14.758Z"
   },
   {
    "duration": 21,
    "start_time": "2023-11-10T14:35:43.406Z"
   },
   {
    "duration": 9,
    "start_time": "2023-11-10T14:36:30.460Z"
   },
   {
    "duration": 9,
    "start_time": "2023-11-10T14:36:38.115Z"
   },
   {
    "duration": 38,
    "start_time": "2023-11-10T14:36:43.711Z"
   },
   {
    "duration": 26,
    "start_time": "2023-11-10T14:37:31.955Z"
   },
   {
    "duration": 27,
    "start_time": "2023-11-10T14:37:41.162Z"
   },
   {
    "duration": 6191,
    "start_time": "2023-11-10T14:42:22.225Z"
   },
   {
    "duration": 33,
    "start_time": "2023-11-10T14:42:32.644Z"
   },
   {
    "duration": 99,
    "start_time": "2023-11-10T14:42:38.008Z"
   },
   {
    "duration": 1360,
    "start_time": "2023-11-10T14:43:24.533Z"
   },
   {
    "duration": 879,
    "start_time": "2023-11-10T14:43:25.896Z"
   },
   {
    "duration": 1542,
    "start_time": "2023-11-10T14:43:26.777Z"
   },
   {
    "duration": 36,
    "start_time": "2023-11-10T14:43:28.321Z"
   },
   {
    "duration": 17,
    "start_time": "2023-11-10T14:43:28.358Z"
   },
   {
    "duration": 18,
    "start_time": "2023-11-10T14:43:28.377Z"
   },
   {
    "duration": 36,
    "start_time": "2023-11-10T14:43:28.408Z"
   },
   {
    "duration": 141,
    "start_time": "2023-11-10T14:43:28.446Z"
   },
   {
    "duration": 45,
    "start_time": "2023-11-10T14:43:28.588Z"
   },
   {
    "duration": 52,
    "start_time": "2023-11-10T14:43:28.636Z"
   },
   {
    "duration": 25,
    "start_time": "2023-11-10T14:43:28.690Z"
   },
   {
    "duration": 77,
    "start_time": "2023-11-10T14:43:28.717Z"
   },
   {
    "duration": 396,
    "start_time": "2023-11-10T14:43:28.796Z"
   },
   {
    "duration": 23,
    "start_time": "2023-11-10T14:43:29.193Z"
   },
   {
    "duration": 62,
    "start_time": "2023-11-10T14:43:29.218Z"
   },
   {
    "duration": 223,
    "start_time": "2023-11-10T14:43:29.282Z"
   },
   {
    "duration": 18,
    "start_time": "2023-11-10T14:43:29.506Z"
   },
   {
    "duration": 43,
    "start_time": "2023-11-10T14:43:29.526Z"
   },
   {
    "duration": 294,
    "start_time": "2023-11-10T14:43:29.570Z"
   },
   {
    "duration": 196,
    "start_time": "2023-11-10T14:43:29.865Z"
   },
   {
    "duration": 24,
    "start_time": "2023-11-10T14:43:30.063Z"
   },
   {
    "duration": 52,
    "start_time": "2023-11-10T14:43:30.088Z"
   },
   {
    "duration": 26,
    "start_time": "2023-11-10T14:43:30.142Z"
   },
   {
    "duration": 275,
    "start_time": "2023-11-10T14:43:30.169Z"
   },
   {
    "duration": 178,
    "start_time": "2023-11-10T14:43:30.446Z"
   },
   {
    "duration": 381,
    "start_time": "2023-11-10T14:43:30.626Z"
   },
   {
    "duration": 87,
    "start_time": "2023-11-10T14:43:31.009Z"
   },
   {
    "duration": 499,
    "start_time": "2023-11-10T14:43:31.099Z"
   },
   {
    "duration": 271,
    "start_time": "2023-11-10T14:43:31.600Z"
   },
   {
    "duration": 336,
    "start_time": "2023-11-10T14:43:31.873Z"
   },
   {
    "duration": 28,
    "start_time": "2023-11-10T14:43:32.211Z"
   },
   {
    "duration": 403,
    "start_time": "2023-11-10T14:43:32.241Z"
   },
   {
    "duration": 0,
    "start_time": "2023-11-10T14:43:32.646Z"
   },
   {
    "duration": 0,
    "start_time": "2023-11-10T14:43:32.647Z"
   },
   {
    "duration": 135,
    "start_time": "2023-11-10T14:43:46.645Z"
   },
   {
    "duration": 289,
    "start_time": "2023-11-10T14:44:34.950Z"
   },
   {
    "duration": 143,
    "start_time": "2023-11-10T14:44:45.363Z"
   },
   {
    "duration": 1068,
    "start_time": "2023-11-10T14:48:02.541Z"
   },
   {
    "duration": 85,
    "start_time": "2023-11-10T14:48:25.594Z"
   },
   {
    "duration": 1640,
    "start_time": "2023-11-10T14:55:02.496Z"
   },
   {
    "duration": 948,
    "start_time": "2023-11-10T14:55:06.134Z"
   },
   {
    "duration": 1540,
    "start_time": "2023-11-10T14:55:07.083Z"
   },
   {
    "duration": 31,
    "start_time": "2023-11-10T14:55:08.624Z"
   },
   {
    "duration": 19,
    "start_time": "2023-11-10T14:55:09.568Z"
   },
   {
    "duration": 6,
    "start_time": "2023-11-10T14:55:10.184Z"
   },
   {
    "duration": 32,
    "start_time": "2023-11-10T14:55:11.338Z"
   },
   {
    "duration": 132,
    "start_time": "2023-11-10T14:55:11.876Z"
   },
   {
    "duration": 40,
    "start_time": "2023-11-10T14:55:13.632Z"
   },
   {
    "duration": 48,
    "start_time": "2023-11-10T14:55:17.058Z"
   },
   {
    "duration": 10,
    "start_time": "2023-11-10T14:55:17.823Z"
   },
   {
    "duration": 50,
    "start_time": "2023-11-10T14:55:18.304Z"
   },
   {
    "duration": 417,
    "start_time": "2023-11-10T14:55:18.792Z"
   },
   {
    "duration": 23,
    "start_time": "2023-11-10T14:55:19.211Z"
   },
   {
    "duration": 46,
    "start_time": "2023-11-10T14:55:19.464Z"
   },
   {
    "duration": 224,
    "start_time": "2023-11-10T14:55:19.660Z"
   },
   {
    "duration": 19,
    "start_time": "2023-11-10T14:55:19.916Z"
   },
   {
    "duration": 50,
    "start_time": "2023-11-10T14:55:20.700Z"
   },
   {
    "duration": 271,
    "start_time": "2023-11-10T14:55:20.928Z"
   },
   {
    "duration": 192,
    "start_time": "2023-11-10T14:55:21.207Z"
   },
   {
    "duration": 31,
    "start_time": "2023-11-10T14:55:21.401Z"
   },
   {
    "duration": 10,
    "start_time": "2023-11-10T14:55:21.784Z"
   },
   {
    "duration": 4,
    "start_time": "2023-11-10T14:55:22.459Z"
   },
   {
    "duration": 248,
    "start_time": "2023-11-10T14:55:22.672Z"
   },
   {
    "duration": 156,
    "start_time": "2023-11-10T14:55:22.922Z"
   },
   {
    "duration": 386,
    "start_time": "2023-11-10T14:55:23.701Z"
   },
   {
    "duration": 86,
    "start_time": "2023-11-10T14:55:24.108Z"
   },
   {
    "duration": 275,
    "start_time": "2023-11-10T14:55:25.850Z"
   },
   {
    "duration": 827,
    "start_time": "2023-11-10T14:55:26.764Z"
   },
   {
    "duration": 1013,
    "start_time": "2023-11-10T14:56:13.713Z"
   },
   {
    "duration": 336,
    "start_time": "2023-11-10T14:57:28.572Z"
   },
   {
    "duration": 601,
    "start_time": "2023-11-10T14:57:33.353Z"
   },
   {
    "duration": 1061,
    "start_time": "2023-11-10T14:57:36.163Z"
   },
   {
    "duration": 28,
    "start_time": "2023-11-10T14:57:38.169Z"
   },
   {
    "duration": 1019,
    "start_time": "2023-11-10T14:57:39.817Z"
   },
   {
    "duration": 85,
    "start_time": "2023-11-10T14:57:40.838Z"
   },
   {
    "duration": 1360,
    "start_time": "2023-11-10T14:57:48.662Z"
   },
   {
    "duration": 894,
    "start_time": "2023-11-10T14:57:50.024Z"
   },
   {
    "duration": 1513,
    "start_time": "2023-11-10T14:57:50.919Z"
   },
   {
    "duration": 35,
    "start_time": "2023-11-10T14:57:52.433Z"
   },
   {
    "duration": 17,
    "start_time": "2023-11-10T14:57:52.470Z"
   },
   {
    "duration": 27,
    "start_time": "2023-11-10T14:57:52.489Z"
   },
   {
    "duration": 68,
    "start_time": "2023-11-10T14:57:52.518Z"
   },
   {
    "duration": 156,
    "start_time": "2023-11-10T14:57:52.587Z"
   },
   {
    "duration": 37,
    "start_time": "2023-11-10T14:57:52.744Z"
   },
   {
    "duration": 69,
    "start_time": "2023-11-10T14:57:52.783Z"
   },
   {
    "duration": 10,
    "start_time": "2023-11-10T14:57:52.854Z"
   },
   {
    "duration": 72,
    "start_time": "2023-11-10T14:57:52.865Z"
   },
   {
    "duration": 431,
    "start_time": "2023-11-10T14:57:52.939Z"
   },
   {
    "duration": 34,
    "start_time": "2023-11-10T14:57:53.373Z"
   },
   {
    "duration": 53,
    "start_time": "2023-11-10T14:57:53.409Z"
   },
   {
    "duration": 237,
    "start_time": "2023-11-10T14:57:53.464Z"
   },
   {
    "duration": 19,
    "start_time": "2023-11-10T14:57:53.707Z"
   },
   {
    "duration": 48,
    "start_time": "2023-11-10T14:57:53.728Z"
   },
   {
    "duration": 296,
    "start_time": "2023-11-10T14:57:53.777Z"
   },
   {
    "duration": 191,
    "start_time": "2023-11-10T14:57:54.075Z"
   },
   {
    "duration": 25,
    "start_time": "2023-11-10T14:57:54.268Z"
   },
   {
    "duration": 11,
    "start_time": "2023-11-10T14:57:54.306Z"
   },
   {
    "duration": 22,
    "start_time": "2023-11-10T14:57:54.318Z"
   },
   {
    "duration": 265,
    "start_time": "2023-11-10T14:57:54.342Z"
   },
   {
    "duration": 175,
    "start_time": "2023-11-10T14:57:54.608Z"
   },
   {
    "duration": 383,
    "start_time": "2023-11-10T14:57:54.785Z"
   },
   {
    "duration": 96,
    "start_time": "2023-11-10T14:57:55.169Z"
   },
   {
    "duration": 321,
    "start_time": "2023-11-10T14:57:55.267Z"
   },
   {
    "duration": 542,
    "start_time": "2023-11-10T14:57:55.590Z"
   },
   {
    "duration": 1107,
    "start_time": "2023-11-10T14:57:56.134Z"
   },
   {
    "duration": 28,
    "start_time": "2023-11-10T14:57:57.242Z"
   },
   {
    "duration": 1040,
    "start_time": "2023-11-10T14:57:57.271Z"
   },
   {
    "duration": 84,
    "start_time": "2023-11-10T14:57:58.312Z"
   },
   {
    "duration": 29,
    "start_time": "2023-11-10T14:57:58.407Z"
   },
   {
    "duration": 1256,
    "start_time": "2023-11-10T14:58:38.557Z"
   },
   {
    "duration": 828,
    "start_time": "2023-11-10T14:58:39.814Z"
   },
   {
    "duration": 1466,
    "start_time": "2023-11-10T14:58:40.644Z"
   },
   {
    "duration": 33,
    "start_time": "2023-11-10T14:58:42.112Z"
   },
   {
    "duration": 16,
    "start_time": "2023-11-10T14:58:42.147Z"
   },
   {
    "duration": 5,
    "start_time": "2023-11-10T14:58:42.164Z"
   },
   {
    "duration": 59,
    "start_time": "2023-11-10T14:58:42.170Z"
   },
   {
    "duration": 134,
    "start_time": "2023-11-10T14:58:42.230Z"
   },
   {
    "duration": 45,
    "start_time": "2023-11-10T14:58:42.365Z"
   },
   {
    "duration": 53,
    "start_time": "2023-11-10T14:58:42.411Z"
   },
   {
    "duration": 11,
    "start_time": "2023-11-10T14:58:42.465Z"
   },
   {
    "duration": 74,
    "start_time": "2023-11-10T14:58:42.477Z"
   },
   {
    "duration": 446,
    "start_time": "2023-11-10T14:58:42.553Z"
   },
   {
    "duration": 23,
    "start_time": "2023-11-10T14:58:43.002Z"
   },
   {
    "duration": 44,
    "start_time": "2023-11-10T14:58:43.027Z"
   },
   {
    "duration": 236,
    "start_time": "2023-11-10T14:58:43.072Z"
   },
   {
    "duration": 19,
    "start_time": "2023-11-10T14:58:43.310Z"
   },
   {
    "duration": 45,
    "start_time": "2023-11-10T14:58:43.331Z"
   },
   {
    "duration": 274,
    "start_time": "2023-11-10T14:58:43.377Z"
   },
   {
    "duration": 181,
    "start_time": "2023-11-10T14:58:43.653Z"
   },
   {
    "duration": 23,
    "start_time": "2023-11-10T14:58:43.836Z"
   },
   {
    "duration": 14,
    "start_time": "2023-11-10T14:58:43.860Z"
   },
   {
    "duration": 4,
    "start_time": "2023-11-10T14:58:43.876Z"
   },
   {
    "duration": 276,
    "start_time": "2023-11-10T14:58:43.882Z"
   },
   {
    "duration": 169,
    "start_time": "2023-11-10T14:58:44.160Z"
   },
   {
    "duration": 353,
    "start_time": "2023-11-10T14:58:44.331Z"
   },
   {
    "duration": 90,
    "start_time": "2023-11-10T14:58:44.686Z"
   },
   {
    "duration": 1377,
    "start_time": "2023-11-10T14:58:44.778Z"
   },
   {
    "duration": 0,
    "start_time": "2023-11-10T14:58:46.157Z"
   },
   {
    "duration": 0,
    "start_time": "2023-11-10T14:58:46.158Z"
   },
   {
    "duration": 0,
    "start_time": "2023-11-10T14:58:46.160Z"
   },
   {
    "duration": 0,
    "start_time": "2023-11-10T14:58:46.162Z"
   },
   {
    "duration": 0,
    "start_time": "2023-11-10T14:58:46.163Z"
   },
   {
    "duration": 0,
    "start_time": "2023-11-10T14:58:46.165Z"
   },
   {
    "duration": 1414,
    "start_time": "2023-11-10T15:00:10.431Z"
   },
   {
    "duration": 845,
    "start_time": "2023-11-10T15:00:11.847Z"
   },
   {
    "duration": 1487,
    "start_time": "2023-11-10T15:00:12.694Z"
   },
   {
    "duration": 34,
    "start_time": "2023-11-10T15:00:14.182Z"
   },
   {
    "duration": 17,
    "start_time": "2023-11-10T15:00:14.218Z"
   },
   {
    "duration": 41,
    "start_time": "2023-11-10T15:00:14.236Z"
   },
   {
    "duration": 54,
    "start_time": "2023-11-10T15:00:14.278Z"
   },
   {
    "duration": 134,
    "start_time": "2023-11-10T15:00:14.333Z"
   },
   {
    "duration": 46,
    "start_time": "2023-11-10T15:00:14.469Z"
   },
   {
    "duration": 52,
    "start_time": "2023-11-10T15:00:14.517Z"
   },
   {
    "duration": 12,
    "start_time": "2023-11-10T15:00:14.570Z"
   },
   {
    "duration": 77,
    "start_time": "2023-11-10T15:00:14.583Z"
   },
   {
    "duration": 430,
    "start_time": "2023-11-10T15:00:14.662Z"
   },
   {
    "duration": 28,
    "start_time": "2023-11-10T15:00:15.096Z"
   },
   {
    "duration": 73,
    "start_time": "2023-11-10T15:00:15.126Z"
   },
   {
    "duration": 227,
    "start_time": "2023-11-10T15:00:15.201Z"
   },
   {
    "duration": 20,
    "start_time": "2023-11-10T15:00:15.430Z"
   },
   {
    "duration": 78,
    "start_time": "2023-11-10T15:00:15.452Z"
   },
   {
    "duration": 267,
    "start_time": "2023-11-10T15:00:15.531Z"
   },
   {
    "duration": 201,
    "start_time": "2023-11-10T15:00:15.799Z"
   },
   {
    "duration": 34,
    "start_time": "2023-11-10T15:00:16.002Z"
   },
   {
    "duration": 10,
    "start_time": "2023-11-10T15:00:16.038Z"
   },
   {
    "duration": 25,
    "start_time": "2023-11-10T15:00:16.050Z"
   },
   {
    "duration": 304,
    "start_time": "2023-11-10T15:00:16.077Z"
   },
   {
    "duration": 166,
    "start_time": "2023-11-10T15:00:16.382Z"
   },
   {
    "duration": 371,
    "start_time": "2023-11-10T15:00:16.550Z"
   },
   {
    "duration": 95,
    "start_time": "2023-11-10T15:00:16.922Z"
   },
   {
    "duration": 321,
    "start_time": "2023-11-10T15:00:17.019Z"
   },
   {
    "duration": 480,
    "start_time": "2023-11-10T15:00:17.342Z"
   },
   {
    "duration": 1074,
    "start_time": "2023-11-10T15:00:17.823Z"
   },
   {
    "duration": 28,
    "start_time": "2023-11-10T15:00:18.899Z"
   },
   {
    "duration": 1004,
    "start_time": "2023-11-10T15:00:18.928Z"
   },
   {
    "duration": 86,
    "start_time": "2023-11-10T15:00:19.934Z"
   },
   {
    "duration": 81,
    "start_time": "2023-11-10T15:00:20.022Z"
   },
   {
    "duration": 1651,
    "start_time": "2023-11-13T15:57:21.767Z"
   },
   {
    "duration": 1139,
    "start_time": "2023-11-13T15:57:23.420Z"
   },
   {
    "duration": 1616,
    "start_time": "2023-11-13T15:57:24.560Z"
   },
   {
    "duration": 33,
    "start_time": "2023-11-13T15:57:26.177Z"
   },
   {
    "duration": 17,
    "start_time": "2023-11-13T15:57:26.212Z"
   },
   {
    "duration": 11,
    "start_time": "2023-11-13T15:57:26.230Z"
   },
   {
    "duration": 55,
    "start_time": "2023-11-13T15:57:26.243Z"
   },
   {
    "duration": 154,
    "start_time": "2023-11-13T15:57:26.300Z"
   },
   {
    "duration": 35,
    "start_time": "2023-11-13T15:57:26.465Z"
   },
   {
    "duration": 75,
    "start_time": "2023-11-13T15:57:26.502Z"
   },
   {
    "duration": 10,
    "start_time": "2023-11-13T15:57:26.579Z"
   },
   {
    "duration": 76,
    "start_time": "2023-11-13T15:57:26.591Z"
   },
   {
    "duration": 484,
    "start_time": "2023-11-13T15:57:26.668Z"
   },
   {
    "duration": 29,
    "start_time": "2023-11-13T15:57:27.155Z"
   },
   {
    "duration": 45,
    "start_time": "2023-11-13T15:57:27.185Z"
   },
   {
    "duration": 266,
    "start_time": "2023-11-13T15:57:27.232Z"
   },
   {
    "duration": 20,
    "start_time": "2023-11-13T15:57:27.499Z"
   },
   {
    "duration": 59,
    "start_time": "2023-11-13T15:57:27.520Z"
   },
   {
    "duration": 300,
    "start_time": "2023-11-13T15:57:27.581Z"
   },
   {
    "duration": 204,
    "start_time": "2023-11-13T15:57:27.882Z"
   },
   {
    "duration": 23,
    "start_time": "2023-11-13T15:57:28.088Z"
   },
   {
    "duration": 8,
    "start_time": "2023-11-13T15:57:28.113Z"
   },
   {
    "duration": 25,
    "start_time": "2023-11-13T15:57:28.123Z"
   },
   {
    "duration": 273,
    "start_time": "2023-11-13T15:57:28.149Z"
   },
   {
    "duration": 189,
    "start_time": "2023-11-13T15:57:28.424Z"
   },
   {
    "duration": 432,
    "start_time": "2023-11-13T15:57:28.614Z"
   },
   {
    "duration": 100,
    "start_time": "2023-11-13T15:57:29.048Z"
   },
   {
    "duration": 356,
    "start_time": "2023-11-13T15:57:29.150Z"
   },
   {
    "duration": 540,
    "start_time": "2023-11-13T15:57:29.508Z"
   },
   {
    "duration": 1157,
    "start_time": "2023-11-13T15:57:30.050Z"
   },
   {
    "duration": 29,
    "start_time": "2023-11-13T15:57:31.209Z"
   },
   {
    "duration": 1113,
    "start_time": "2023-11-13T15:57:31.239Z"
   },
   {
    "duration": 116,
    "start_time": "2023-11-13T15:57:32.354Z"
   },
   {
    "duration": 15,
    "start_time": "2023-11-13T15:57:32.472Z"
   },
   {
    "duration": 20,
    "start_time": "2023-11-13T15:58:18.363Z"
   },
   {
    "duration": 172,
    "start_time": "2023-11-13T16:01:16.525Z"
   },
   {
    "duration": 118,
    "start_time": "2023-11-13T16:01:29.732Z"
   },
   {
    "duration": 18,
    "start_time": "2023-11-13T16:03:12.617Z"
   },
   {
    "duration": 81,
    "start_time": "2023-11-13T16:03:45.523Z"
   },
   {
    "duration": 22,
    "start_time": "2023-11-13T16:03:59.689Z"
   },
   {
    "duration": 17,
    "start_time": "2023-11-13T16:04:25.905Z"
   },
   {
    "duration": 149,
    "start_time": "2023-11-13T16:18:35.928Z"
   },
   {
    "duration": 1444,
    "start_time": "2023-11-13T16:19:07.368Z"
   },
   {
    "duration": 917,
    "start_time": "2023-11-13T16:19:08.814Z"
   },
   {
    "duration": 1594,
    "start_time": "2023-11-13T16:19:09.733Z"
   },
   {
    "duration": 37,
    "start_time": "2023-11-13T16:19:11.329Z"
   },
   {
    "duration": 17,
    "start_time": "2023-11-13T16:19:11.367Z"
   },
   {
    "duration": 5,
    "start_time": "2023-11-13T16:19:11.386Z"
   },
   {
    "duration": 51,
    "start_time": "2023-11-13T16:19:11.393Z"
   },
   {
    "duration": 159,
    "start_time": "2023-11-13T16:19:11.445Z"
   },
   {
    "duration": 40,
    "start_time": "2023-11-13T16:19:11.605Z"
   },
   {
    "duration": 69,
    "start_time": "2023-11-13T16:19:11.647Z"
   },
   {
    "duration": 11,
    "start_time": "2023-11-13T16:19:11.718Z"
   },
   {
    "duration": 71,
    "start_time": "2023-11-13T16:19:11.730Z"
   },
   {
    "duration": 464,
    "start_time": "2023-11-13T16:19:11.803Z"
   },
   {
    "duration": 23,
    "start_time": "2023-11-13T16:19:12.268Z"
   },
   {
    "duration": 47,
    "start_time": "2023-11-13T16:19:12.292Z"
   },
   {
    "duration": 279,
    "start_time": "2023-11-13T16:19:12.340Z"
   },
   {
    "duration": 22,
    "start_time": "2023-11-13T16:19:12.621Z"
   },
   {
    "duration": 66,
    "start_time": "2023-11-13T16:19:12.645Z"
   },
   {
    "duration": 297,
    "start_time": "2023-11-13T16:19:12.712Z"
   },
   {
    "duration": 208,
    "start_time": "2023-11-13T16:19:13.010Z"
   },
   {
    "duration": 25,
    "start_time": "2023-11-13T16:19:13.220Z"
   },
   {
    "duration": 26,
    "start_time": "2023-11-13T16:19:13.246Z"
   },
   {
    "duration": 5,
    "start_time": "2023-11-13T16:19:13.274Z"
   },
   {
    "duration": 263,
    "start_time": "2023-11-13T16:19:13.417Z"
   },
   {
    "duration": 185,
    "start_time": "2023-11-13T16:19:13.682Z"
   },
   {
    "duration": 373,
    "start_time": "2023-11-13T16:19:13.869Z"
   },
   {
    "duration": 99,
    "start_time": "2023-11-13T16:19:14.244Z"
   },
   {
    "duration": 329,
    "start_time": "2023-11-13T16:19:14.729Z"
   },
   {
    "duration": 516,
    "start_time": "2023-11-13T16:19:15.060Z"
   },
   {
    "duration": 1164,
    "start_time": "2023-11-13T16:19:15.578Z"
   },
   {
    "duration": 31,
    "start_time": "2023-11-13T16:19:16.745Z"
   },
   {
    "duration": 1055,
    "start_time": "2023-11-13T16:19:16.778Z"
   },
   {
    "duration": 98,
    "start_time": "2023-11-13T16:19:17.834Z"
   },
   {
    "duration": 18,
    "start_time": "2023-11-13T16:19:18.801Z"
   },
   {
    "duration": 14,
    "start_time": "2023-11-13T16:19:24.347Z"
   },
   {
    "duration": 134,
    "start_time": "2023-11-13T16:19:25.329Z"
   },
   {
    "duration": 872,
    "start_time": "2023-11-13T16:21:05.225Z"
   },
   {
    "duration": 760,
    "start_time": "2023-11-13T16:22:31.074Z"
   },
   {
    "duration": 18,
    "start_time": "2023-11-13T16:22:57.246Z"
   },
   {
    "duration": 798,
    "start_time": "2023-11-13T16:23:11.742Z"
   },
   {
    "duration": 32,
    "start_time": "2023-11-13T16:23:13.575Z"
   },
   {
    "duration": 126,
    "start_time": "2023-11-13T16:26:01.966Z"
   },
   {
    "duration": 118,
    "start_time": "2023-11-13T16:28:46.825Z"
   },
   {
    "duration": 3372,
    "start_time": "2023-11-13T16:29:01.248Z"
   },
   {
    "duration": 898,
    "start_time": "2023-11-13T16:29:04.622Z"
   },
   {
    "duration": 1667,
    "start_time": "2023-11-13T16:29:05.521Z"
   },
   {
    "duration": 31,
    "start_time": "2023-11-13T16:29:07.190Z"
   },
   {
    "duration": 18,
    "start_time": "2023-11-13T16:29:07.223Z"
   },
   {
    "duration": 24,
    "start_time": "2023-11-13T16:29:07.243Z"
   },
   {
    "duration": 35,
    "start_time": "2023-11-13T16:29:07.268Z"
   },
   {
    "duration": 174,
    "start_time": "2023-11-13T16:29:07.305Z"
   },
   {
    "duration": 36,
    "start_time": "2023-11-13T16:29:07.480Z"
   },
   {
    "duration": 56,
    "start_time": "2023-11-13T16:29:12.311Z"
   },
   {
    "duration": 11,
    "start_time": "2023-11-13T16:29:12.535Z"
   },
   {
    "duration": 54,
    "start_time": "2023-11-13T16:29:12.752Z"
   },
   {
    "duration": 471,
    "start_time": "2023-11-13T16:29:13.184Z"
   },
   {
    "duration": 26,
    "start_time": "2023-11-13T16:29:13.657Z"
   },
   {
    "duration": 49,
    "start_time": "2023-11-13T16:29:13.749Z"
   },
   {
    "duration": 247,
    "start_time": "2023-11-13T16:29:13.948Z"
   },
   {
    "duration": 21,
    "start_time": "2023-11-13T16:29:14.197Z"
   },
   {
    "duration": 48,
    "start_time": "2023-11-13T16:29:14.536Z"
   },
   {
    "duration": 282,
    "start_time": "2023-11-13T16:29:14.732Z"
   },
   {
    "duration": 216,
    "start_time": "2023-11-13T16:29:15.016Z"
   },
   {
    "duration": 35,
    "start_time": "2023-11-13T16:29:15.234Z"
   },
   {
    "duration": 9,
    "start_time": "2023-11-13T16:29:15.340Z"
   },
   {
    "duration": 5,
    "start_time": "2023-11-13T16:29:15.563Z"
   },
   {
    "duration": 281,
    "start_time": "2023-11-13T16:29:15.768Z"
   },
   {
    "duration": 196,
    "start_time": "2023-11-13T16:29:16.051Z"
   },
   {
    "duration": 407,
    "start_time": "2023-11-13T16:29:16.249Z"
   },
   {
    "duration": 108,
    "start_time": "2023-11-13T16:29:16.658Z"
   },
   {
    "duration": 356,
    "start_time": "2023-11-13T16:29:17.288Z"
   },
   {
    "duration": 532,
    "start_time": "2023-11-13T16:29:17.646Z"
   },
   {
    "duration": 1210,
    "start_time": "2023-11-13T16:29:18.180Z"
   },
   {
    "duration": 29,
    "start_time": "2023-11-13T16:29:19.392Z"
   },
   {
    "duration": 1113,
    "start_time": "2023-11-13T16:29:19.422Z"
   },
   {
    "duration": 96,
    "start_time": "2023-11-13T16:29:20.536Z"
   },
   {
    "duration": 32,
    "start_time": "2023-11-13T16:29:20.633Z"
   },
   {
    "duration": 14,
    "start_time": "2023-11-13T16:29:22.268Z"
   },
   {
    "duration": 112,
    "start_time": "2023-11-13T16:29:23.999Z"
   },
   {
    "duration": 687,
    "start_time": "2023-11-13T16:29:41.119Z"
   },
   {
    "duration": 132,
    "start_time": "2023-11-13T16:29:45.572Z"
   },
   {
    "duration": 1568,
    "start_time": "2023-11-13T16:30:43.820Z"
   },
   {
    "duration": 915,
    "start_time": "2023-11-13T16:30:45.390Z"
   },
   {
    "duration": 1630,
    "start_time": "2023-11-13T16:30:46.307Z"
   },
   {
    "duration": 55,
    "start_time": "2023-11-13T16:30:47.939Z"
   },
   {
    "duration": 18,
    "start_time": "2023-11-13T16:30:47.997Z"
   },
   {
    "duration": 5,
    "start_time": "2023-11-13T16:30:48.017Z"
   },
   {
    "duration": 60,
    "start_time": "2023-11-13T16:30:48.024Z"
   },
   {
    "duration": 158,
    "start_time": "2023-11-13T16:30:48.087Z"
   },
   {
    "duration": 45,
    "start_time": "2023-11-13T16:30:48.247Z"
   },
   {
    "duration": 61,
    "start_time": "2023-11-13T16:30:48.294Z"
   },
   {
    "duration": 12,
    "start_time": "2023-11-13T16:30:48.357Z"
   },
   {
    "duration": 59,
    "start_time": "2023-11-13T16:30:48.371Z"
   },
   {
    "duration": 528,
    "start_time": "2023-11-13T16:30:48.431Z"
   },
   {
    "duration": 33,
    "start_time": "2023-11-13T16:30:48.967Z"
   },
   {
    "duration": 66,
    "start_time": "2023-11-13T16:30:49.002Z"
   },
   {
    "duration": 263,
    "start_time": "2023-11-13T16:30:49.070Z"
   },
   {
    "duration": 34,
    "start_time": "2023-11-13T16:30:49.335Z"
   },
   {
    "duration": 63,
    "start_time": "2023-11-13T16:30:49.371Z"
   },
   {
    "duration": 313,
    "start_time": "2023-11-13T16:30:49.436Z"
   },
   {
    "duration": 234,
    "start_time": "2023-11-13T16:30:49.751Z"
   },
   {
    "duration": 24,
    "start_time": "2023-11-13T16:30:49.986Z"
   },
   {
    "duration": 10,
    "start_time": "2023-11-13T16:30:50.012Z"
   },
   {
    "duration": 29,
    "start_time": "2023-11-13T16:30:50.023Z"
   },
   {
    "duration": 303,
    "start_time": "2023-11-13T16:30:50.054Z"
   },
   {
    "duration": 196,
    "start_time": "2023-11-13T16:30:50.359Z"
   },
   {
    "duration": 416,
    "start_time": "2023-11-13T16:30:50.557Z"
   },
   {
    "duration": 104,
    "start_time": "2023-11-13T16:30:50.974Z"
   },
   {
    "duration": 370,
    "start_time": "2023-11-13T16:30:51.080Z"
   },
   {
    "duration": 559,
    "start_time": "2023-11-13T16:30:51.451Z"
   },
   {
    "duration": 1265,
    "start_time": "2023-11-13T16:30:52.012Z"
   },
   {
    "duration": 30,
    "start_time": "2023-11-13T16:30:53.279Z"
   },
   {
    "duration": 1131,
    "start_time": "2023-11-13T16:30:53.310Z"
   },
   {
    "duration": 122,
    "start_time": "2023-11-13T16:30:54.443Z"
   },
   {
    "duration": 22,
    "start_time": "2023-11-13T16:30:54.567Z"
   },
   {
    "duration": 46,
    "start_time": "2023-11-13T16:30:54.590Z"
   },
   {
    "duration": 804,
    "start_time": "2023-11-13T16:30:54.638Z"
   },
   {
    "duration": 141,
    "start_time": "2023-11-13T16:30:55.443Z"
   },
   {
    "duration": 381,
    "start_time": "2023-11-13T16:30:55.586Z"
   },
   {
    "duration": 1463,
    "start_time": "2023-11-13T16:32:56.656Z"
   },
   {
    "duration": 919,
    "start_time": "2023-11-13T16:32:58.120Z"
   },
   {
    "duration": 1651,
    "start_time": "2023-11-13T16:32:59.040Z"
   },
   {
    "duration": 40,
    "start_time": "2023-11-13T16:33:00.693Z"
   },
   {
    "duration": 32,
    "start_time": "2023-11-13T16:33:00.734Z"
   },
   {
    "duration": 6,
    "start_time": "2023-11-13T16:33:00.768Z"
   },
   {
    "duration": 87,
    "start_time": "2023-11-13T16:33:00.776Z"
   },
   {
    "duration": 189,
    "start_time": "2023-11-13T16:33:00.864Z"
   },
   {
    "duration": 62,
    "start_time": "2023-11-13T16:33:01.055Z"
   },
   {
    "duration": 69,
    "start_time": "2023-11-13T16:33:01.120Z"
   },
   {
    "duration": 23,
    "start_time": "2023-11-13T16:33:01.191Z"
   },
   {
    "duration": 95,
    "start_time": "2023-11-13T16:33:01.215Z"
   },
   {
    "duration": 475,
    "start_time": "2023-11-13T16:33:01.311Z"
   },
   {
    "duration": 23,
    "start_time": "2023-11-13T16:33:01.787Z"
   },
   {
    "duration": 63,
    "start_time": "2023-11-13T16:33:01.811Z"
   },
   {
    "duration": 249,
    "start_time": "2023-11-13T16:33:01.876Z"
   },
   {
    "duration": 19,
    "start_time": "2023-11-13T16:33:02.127Z"
   },
   {
    "duration": 56,
    "start_time": "2023-11-13T16:33:02.148Z"
   },
   {
    "duration": 304,
    "start_time": "2023-11-13T16:33:02.206Z"
   },
   {
    "duration": 213,
    "start_time": "2023-11-13T16:33:02.511Z"
   },
   {
    "duration": 26,
    "start_time": "2023-11-13T16:33:02.725Z"
   },
   {
    "duration": 19,
    "start_time": "2023-11-13T16:33:02.753Z"
   },
   {
    "duration": 22,
    "start_time": "2023-11-13T16:33:02.773Z"
   },
   {
    "duration": 294,
    "start_time": "2023-11-13T16:33:02.797Z"
   },
   {
    "duration": 182,
    "start_time": "2023-11-13T16:33:03.092Z"
   },
   {
    "duration": 402,
    "start_time": "2023-11-13T16:33:03.276Z"
   },
   {
    "duration": 100,
    "start_time": "2023-11-13T16:33:03.679Z"
   },
   {
    "duration": 366,
    "start_time": "2023-11-13T16:33:03.782Z"
   },
   {
    "duration": 537,
    "start_time": "2023-11-13T16:33:04.150Z"
   },
   {
    "duration": 1189,
    "start_time": "2023-11-13T16:33:04.689Z"
   },
   {
    "duration": 29,
    "start_time": "2023-11-13T16:33:05.880Z"
   },
   {
    "duration": 1101,
    "start_time": "2023-11-13T16:33:05.911Z"
   },
   {
    "duration": 98,
    "start_time": "2023-11-13T16:33:07.014Z"
   },
   {
    "duration": 19,
    "start_time": "2023-11-13T16:33:07.113Z"
   },
   {
    "duration": 36,
    "start_time": "2023-11-13T16:33:07.134Z"
   },
   {
    "duration": 738,
    "start_time": "2023-11-13T16:33:07.172Z"
   },
   {
    "duration": 132,
    "start_time": "2023-11-13T16:33:07.912Z"
   },
   {
    "duration": 368,
    "start_time": "2023-11-13T16:33:08.046Z"
   },
   {
    "duration": 605,
    "start_time": "2023-11-13T16:43:03.403Z"
   },
   {
    "duration": 487,
    "start_time": "2023-11-13T16:43:29.593Z"
   },
   {
    "duration": 131,
    "start_time": "2023-11-13T16:45:58.118Z"
   },
   {
    "duration": 44,
    "start_time": "2023-11-13T16:47:32.092Z"
   },
   {
    "duration": 30,
    "start_time": "2023-11-13T16:48:02.189Z"
   },
   {
    "duration": 1419,
    "start_time": "2023-11-13T16:48:57.396Z"
   },
   {
    "duration": 971,
    "start_time": "2023-11-13T16:48:58.816Z"
   },
   {
    "duration": 1641,
    "start_time": "2023-11-13T16:48:59.789Z"
   },
   {
    "duration": 42,
    "start_time": "2023-11-13T16:49:01.433Z"
   },
   {
    "duration": 28,
    "start_time": "2023-11-13T16:49:01.477Z"
   },
   {
    "duration": 16,
    "start_time": "2023-11-13T16:49:01.507Z"
   },
   {
    "duration": 68,
    "start_time": "2023-11-13T16:49:01.525Z"
   },
   {
    "duration": 156,
    "start_time": "2023-11-13T16:49:01.595Z"
   },
   {
    "duration": 61,
    "start_time": "2023-11-13T16:49:01.752Z"
   },
   {
    "duration": 60,
    "start_time": "2023-11-13T16:49:01.816Z"
   },
   {
    "duration": 11,
    "start_time": "2023-11-13T16:49:01.878Z"
   },
   {
    "duration": 80,
    "start_time": "2023-11-13T16:49:01.891Z"
   },
   {
    "duration": 471,
    "start_time": "2023-11-13T16:49:01.972Z"
   },
   {
    "duration": 33,
    "start_time": "2023-11-13T16:49:02.445Z"
   },
   {
    "duration": 48,
    "start_time": "2023-11-13T16:49:02.479Z"
   },
   {
    "duration": 262,
    "start_time": "2023-11-13T16:49:02.528Z"
   },
   {
    "duration": 20,
    "start_time": "2023-11-13T16:49:02.791Z"
   },
   {
    "duration": 62,
    "start_time": "2023-11-13T16:49:02.813Z"
   },
   {
    "duration": 294,
    "start_time": "2023-11-13T16:49:02.876Z"
   },
   {
    "duration": 211,
    "start_time": "2023-11-13T16:49:03.172Z"
   },
   {
    "duration": 24,
    "start_time": "2023-11-13T16:49:03.385Z"
   },
   {
    "duration": 10,
    "start_time": "2023-11-13T16:49:05.277Z"
   },
   {
    "duration": 4,
    "start_time": "2023-11-13T16:49:05.455Z"
   },
   {
    "duration": 289,
    "start_time": "2023-11-13T16:49:05.662Z"
   },
   {
    "duration": 193,
    "start_time": "2023-11-13T16:49:05.953Z"
   },
   {
    "duration": 401,
    "start_time": "2023-11-13T16:49:06.148Z"
   },
   {
    "duration": 106,
    "start_time": "2023-11-13T16:49:06.551Z"
   },
   {
    "duration": 352,
    "start_time": "2023-11-13T16:49:06.665Z"
   },
   {
    "duration": 574,
    "start_time": "2023-11-13T16:49:07.019Z"
   },
   {
    "duration": 1228,
    "start_time": "2023-11-13T16:49:07.595Z"
   },
   {
    "duration": 31,
    "start_time": "2023-11-13T16:49:08.825Z"
   },
   {
    "duration": 1144,
    "start_time": "2023-11-13T16:49:08.865Z"
   },
   {
    "duration": 94,
    "start_time": "2023-11-13T16:49:10.011Z"
   },
   {
    "duration": 86,
    "start_time": "2023-11-13T16:49:10.107Z"
   },
   {
    "duration": 0,
    "start_time": "2023-11-13T16:49:10.194Z"
   },
   {
    "duration": 128,
    "start_time": "2023-11-13T16:49:26.117Z"
   },
   {
    "duration": 96,
    "start_time": "2023-11-13T16:49:43.733Z"
   },
   {
    "duration": 85,
    "start_time": "2023-11-13T16:50:21.969Z"
   },
   {
    "duration": 112,
    "start_time": "2023-11-13T16:50:56.509Z"
   },
   {
    "duration": 141,
    "start_time": "2023-11-13T16:51:39.330Z"
   },
   {
    "duration": 21,
    "start_time": "2023-11-13T16:51:41.897Z"
   },
   {
    "duration": 748,
    "start_time": "2023-11-13T16:51:42.917Z"
   },
   {
    "duration": 130,
    "start_time": "2023-11-13T16:51:44.138Z"
   },
   {
    "duration": 384,
    "start_time": "2023-11-13T16:51:46.392Z"
   },
   {
    "duration": 998,
    "start_time": "2023-11-13T16:51:59.233Z"
   },
   {
    "duration": 1096,
    "start_time": "2023-11-13T16:54:15.319Z"
   },
   {
    "duration": 1079,
    "start_time": "2023-11-13T16:54:49.082Z"
   },
   {
    "duration": 1085,
    "start_time": "2023-11-13T16:55:16.367Z"
   },
   {
    "duration": 5473,
    "start_time": "2023-11-13T17:02:07.504Z"
   },
   {
    "duration": 5494,
    "start_time": "2023-11-13T17:02:22.064Z"
   },
   {
    "duration": 282893,
    "start_time": "2023-11-13T17:02:37.964Z"
   },
   {
    "duration": 1871,
    "start_time": "2023-11-14T03:37:39.070Z"
   },
   {
    "duration": 1213,
    "start_time": "2023-11-14T03:37:40.944Z"
   },
   {
    "duration": 1722,
    "start_time": "2023-11-14T03:37:42.159Z"
   },
   {
    "duration": 37,
    "start_time": "2023-11-14T03:37:43.883Z"
   },
   {
    "duration": 39,
    "start_time": "2023-11-14T03:37:43.922Z"
   },
   {
    "duration": 6,
    "start_time": "2023-11-14T03:37:43.963Z"
   },
   {
    "duration": 39,
    "start_time": "2023-11-14T03:37:43.970Z"
   },
   {
    "duration": 166,
    "start_time": "2023-11-14T03:37:44.010Z"
   },
   {
    "duration": 35,
    "start_time": "2023-11-14T03:37:44.178Z"
   },
   {
    "duration": 81,
    "start_time": "2023-11-14T03:37:44.215Z"
   },
   {
    "duration": 11,
    "start_time": "2023-11-14T03:37:44.298Z"
   },
   {
    "duration": 81,
    "start_time": "2023-11-14T03:37:44.312Z"
   },
   {
    "duration": 492,
    "start_time": "2023-11-14T03:37:44.394Z"
   },
   {
    "duration": 25,
    "start_time": "2023-11-14T03:37:44.891Z"
   },
   {
    "duration": 69,
    "start_time": "2023-11-14T03:37:44.918Z"
   },
   {
    "duration": 304,
    "start_time": "2023-11-14T03:37:44.989Z"
   },
   {
    "duration": 31,
    "start_time": "2023-11-14T03:37:45.294Z"
   },
   {
    "duration": 71,
    "start_time": "2023-11-14T03:37:45.327Z"
   },
   {
    "duration": 301,
    "start_time": "2023-11-14T03:37:45.400Z"
   },
   {
    "duration": 209,
    "start_time": "2023-11-14T03:37:45.703Z"
   },
   {
    "duration": 38,
    "start_time": "2023-11-14T03:37:45.915Z"
   },
   {
    "duration": 14,
    "start_time": "2023-11-14T03:37:45.955Z"
   },
   {
    "duration": 4,
    "start_time": "2023-11-14T03:37:45.971Z"
   },
   {
    "duration": 318,
    "start_time": "2023-11-14T03:37:45.977Z"
   },
   {
    "duration": 188,
    "start_time": "2023-11-14T03:37:46.296Z"
   },
   {
    "duration": 442,
    "start_time": "2023-11-14T03:37:46.486Z"
   },
   {
    "duration": 101,
    "start_time": "2023-11-14T03:37:46.930Z"
   },
   {
    "duration": 391,
    "start_time": "2023-11-14T03:37:47.033Z"
   },
   {
    "duration": 543,
    "start_time": "2023-11-14T03:37:47.426Z"
   },
   {
    "duration": 1224,
    "start_time": "2023-11-14T03:37:47.971Z"
   },
   {
    "duration": 33,
    "start_time": "2023-11-14T03:37:49.197Z"
   },
   {
    "duration": 1165,
    "start_time": "2023-11-14T03:37:49.231Z"
   },
   {
    "duration": 109,
    "start_time": "2023-11-14T03:37:50.398Z"
   },
   {
    "duration": 113,
    "start_time": "2023-11-14T03:37:50.508Z"
   },
   {
    "duration": 14,
    "start_time": "2023-11-14T03:37:50.623Z"
   },
   {
    "duration": 861,
    "start_time": "2023-11-14T03:37:50.639Z"
   },
   {
    "duration": 152,
    "start_time": "2023-11-14T03:37:51.502Z"
   },
   {
    "duration": 398,
    "start_time": "2023-11-14T03:37:51.656Z"
   },
   {
    "duration": 210,
    "start_time": "2023-11-14T03:37:52.056Z"
   },
   {
    "duration": 1142,
    "start_time": "2023-11-14T03:37:52.268Z"
   },
   {
    "duration": 283219,
    "start_time": "2023-11-14T03:37:53.415Z"
   },
   {
    "duration": 1498,
    "start_time": "2023-11-14T04:05:12.454Z"
   },
   {
    "duration": 985,
    "start_time": "2023-11-14T04:05:17.293Z"
   },
   {
    "duration": 1672,
    "start_time": "2023-11-14T04:05:18.280Z"
   },
   {
    "duration": 31,
    "start_time": "2023-11-14T04:05:19.954Z"
   },
   {
    "duration": 19,
    "start_time": "2023-11-14T04:05:19.988Z"
   },
   {
    "duration": 11,
    "start_time": "2023-11-14T04:05:20.009Z"
   },
   {
    "duration": 60,
    "start_time": "2023-11-14T04:05:20.022Z"
   },
   {
    "duration": 169,
    "start_time": "2023-11-14T04:05:20.084Z"
   },
   {
    "duration": 40,
    "start_time": "2023-11-14T04:05:20.255Z"
   },
   {
    "duration": 67,
    "start_time": "2023-11-14T04:05:20.296Z"
   },
   {
    "duration": 11,
    "start_time": "2023-11-14T04:05:20.365Z"
   },
   {
    "duration": 79,
    "start_time": "2023-11-14T04:05:20.378Z"
   },
   {
    "duration": 481,
    "start_time": "2023-11-14T04:05:20.674Z"
   },
   {
    "duration": 27,
    "start_time": "2023-11-14T04:05:21.157Z"
   },
   {
    "duration": 57,
    "start_time": "2023-11-14T04:05:21.238Z"
   },
   {
    "duration": 327,
    "start_time": "2023-11-14T04:05:21.462Z"
   },
   {
    "duration": 21,
    "start_time": "2023-11-14T04:05:21.791Z"
   },
   {
    "duration": 48,
    "start_time": "2023-11-14T04:05:23.838Z"
   },
   {
    "duration": 219,
    "start_time": "2023-11-14T04:05:24.074Z"
   },
   {
    "duration": 211,
    "start_time": "2023-11-14T04:05:24.306Z"
   },
   {
    "duration": 25,
    "start_time": "2023-11-14T04:05:24.934Z"
   },
   {
    "duration": 9,
    "start_time": "2023-11-14T04:05:25.883Z"
   },
   {
    "duration": 4,
    "start_time": "2023-11-14T04:05:26.069Z"
   },
   {
    "duration": 277,
    "start_time": "2023-11-14T04:05:27.626Z"
   },
   {
    "duration": 192,
    "start_time": "2023-11-14T04:05:27.906Z"
   },
   {
    "duration": 423,
    "start_time": "2023-11-14T04:05:28.520Z"
   },
   {
    "duration": 108,
    "start_time": "2023-11-14T04:05:28.945Z"
   },
   {
    "duration": 348,
    "start_time": "2023-11-14T04:05:29.709Z"
   },
   {
    "duration": 544,
    "start_time": "2023-11-14T04:05:30.059Z"
   },
   {
    "duration": 1248,
    "start_time": "2023-11-14T04:05:30.605Z"
   },
   {
    "duration": 30,
    "start_time": "2023-11-14T04:05:31.854Z"
   },
   {
    "duration": 1151,
    "start_time": "2023-11-14T04:05:31.886Z"
   },
   {
    "duration": 100,
    "start_time": "2023-11-14T04:05:33.038Z"
   },
   {
    "duration": 124,
    "start_time": "2023-11-14T04:05:33.141Z"
   },
   {
    "duration": 16,
    "start_time": "2023-11-14T04:05:33.267Z"
   },
   {
    "duration": 857,
    "start_time": "2023-11-14T04:05:33.285Z"
   },
   {
    "duration": 1489,
    "start_time": "2023-11-14T04:06:16.442Z"
   },
   {
    "duration": 965,
    "start_time": "2023-11-14T04:06:17.932Z"
   },
   {
    "duration": 1700,
    "start_time": "2023-11-14T04:06:18.900Z"
   },
   {
    "duration": 37,
    "start_time": "2023-11-14T04:06:20.602Z"
   },
   {
    "duration": 20,
    "start_time": "2023-11-14T04:06:20.651Z"
   },
   {
    "duration": 6,
    "start_time": "2023-11-14T04:06:20.673Z"
   },
   {
    "duration": 37,
    "start_time": "2023-11-14T04:06:20.680Z"
   },
   {
    "duration": 180,
    "start_time": "2023-11-14T04:06:20.719Z"
   },
   {
    "duration": 52,
    "start_time": "2023-11-14T04:06:20.900Z"
   },
   {
    "duration": 55,
    "start_time": "2023-11-14T04:06:20.955Z"
   },
   {
    "duration": 10,
    "start_time": "2023-11-14T04:06:21.012Z"
   },
   {
    "duration": 77,
    "start_time": "2023-11-14T04:06:21.024Z"
   },
   {
    "duration": 499,
    "start_time": "2023-11-14T04:06:21.103Z"
   },
   {
    "duration": 22,
    "start_time": "2023-11-14T04:06:21.604Z"
   },
   {
    "duration": 68,
    "start_time": "2023-11-14T04:06:21.628Z"
   },
   {
    "duration": 344,
    "start_time": "2023-11-14T04:06:21.697Z"
   },
   {
    "duration": 33,
    "start_time": "2023-11-14T04:06:22.043Z"
   },
   {
    "duration": 52,
    "start_time": "2023-11-14T04:06:22.079Z"
   },
   {
    "duration": 241,
    "start_time": "2023-11-14T04:06:22.133Z"
   },
   {
    "duration": 215,
    "start_time": "2023-11-14T04:06:22.377Z"
   },
   {
    "duration": 25,
    "start_time": "2023-11-14T04:06:22.594Z"
   },
   {
    "duration": 10,
    "start_time": "2023-11-14T04:06:22.620Z"
   },
   {
    "duration": 21,
    "start_time": "2023-11-14T04:06:22.631Z"
   },
   {
    "duration": 293,
    "start_time": "2023-11-14T04:06:22.654Z"
   },
   {
    "duration": 212,
    "start_time": "2023-11-14T04:06:22.949Z"
   },
   {
    "duration": 437,
    "start_time": "2023-11-14T04:06:23.164Z"
   },
   {
    "duration": 96,
    "start_time": "2023-11-14T04:06:28.382Z"
   },
   {
    "duration": 365,
    "start_time": "2023-11-14T04:06:31.292Z"
   },
   {
    "duration": 554,
    "start_time": "2023-11-14T04:06:32.070Z"
   },
   {
    "duration": 1197,
    "start_time": "2023-11-14T04:06:32.710Z"
   },
   {
    "duration": 30,
    "start_time": "2023-11-14T04:06:37.783Z"
   },
   {
    "duration": 1122,
    "start_time": "2023-11-14T04:06:38.389Z"
   },
   {
    "duration": 93,
    "start_time": "2023-11-14T04:06:39.519Z"
   },
   {
    "duration": 107,
    "start_time": "2023-11-14T04:06:43.499Z"
   },
   {
    "duration": 15,
    "start_time": "2023-11-14T04:06:51.971Z"
   },
   {
    "duration": 839,
    "start_time": "2023-11-14T04:07:19.688Z"
   },
   {
    "duration": 144,
    "start_time": "2023-11-14T04:07:25.598Z"
   },
   {
    "duration": 1463,
    "start_time": "2023-11-14T04:10:47.615Z"
   },
   {
    "duration": 992,
    "start_time": "2023-11-14T04:10:49.080Z"
   },
   {
    "duration": 1712,
    "start_time": "2023-11-14T04:10:50.074Z"
   },
   {
    "duration": 38,
    "start_time": "2023-11-14T04:10:51.789Z"
   },
   {
    "duration": 37,
    "start_time": "2023-11-14T04:10:51.830Z"
   },
   {
    "duration": 8,
    "start_time": "2023-11-14T04:10:51.869Z"
   },
   {
    "duration": 50,
    "start_time": "2023-11-14T04:10:51.879Z"
   },
   {
    "duration": 179,
    "start_time": "2023-11-14T04:10:51.931Z"
   },
   {
    "duration": 51,
    "start_time": "2023-11-14T04:10:52.112Z"
   },
   {
    "duration": 58,
    "start_time": "2023-11-14T04:10:52.165Z"
   },
   {
    "duration": 11,
    "start_time": "2023-11-14T04:10:52.225Z"
   },
   {
    "duration": 60,
    "start_time": "2023-11-14T04:10:52.253Z"
   },
   {
    "duration": 517,
    "start_time": "2023-11-14T04:10:52.315Z"
   },
   {
    "duration": 37,
    "start_time": "2023-11-14T04:10:52.834Z"
   },
   {
    "duration": 50,
    "start_time": "2023-11-14T04:10:52.873Z"
   },
   {
    "duration": 376,
    "start_time": "2023-11-14T04:10:52.925Z"
   },
   {
    "duration": 23,
    "start_time": "2023-11-14T04:10:53.303Z"
   },
   {
    "duration": 62,
    "start_time": "2023-11-14T04:10:53.327Z"
   },
   {
    "duration": 224,
    "start_time": "2023-11-14T04:10:53.391Z"
   },
   {
    "duration": 223,
    "start_time": "2023-11-14T04:10:53.618Z"
   },
   {
    "duration": 32,
    "start_time": "2023-11-14T04:10:53.843Z"
   },
   {
    "duration": 25,
    "start_time": "2023-11-14T04:10:53.877Z"
   },
   {
    "duration": 10,
    "start_time": "2023-11-14T04:10:53.903Z"
   },
   {
    "duration": 306,
    "start_time": "2023-11-14T04:10:53.914Z"
   },
   {
    "duration": 201,
    "start_time": "2023-11-14T04:10:54.222Z"
   },
   {
    "duration": 477,
    "start_time": "2023-11-14T04:10:54.425Z"
   },
   {
    "duration": 100,
    "start_time": "2023-11-14T04:10:54.904Z"
   },
   {
    "duration": 405,
    "start_time": "2023-11-14T04:10:55.006Z"
   },
   {
    "duration": 546,
    "start_time": "2023-11-14T04:10:55.413Z"
   },
   {
    "duration": 1240,
    "start_time": "2023-11-14T04:10:55.961Z"
   },
   {
    "duration": 30,
    "start_time": "2023-11-14T04:10:57.203Z"
   },
   {
    "duration": 1148,
    "start_time": "2023-11-14T04:10:57.235Z"
   },
   {
    "duration": 99,
    "start_time": "2023-11-14T04:10:58.385Z"
   },
   {
    "duration": 116,
    "start_time": "2023-11-14T04:10:58.486Z"
   },
   {
    "duration": 15,
    "start_time": "2023-11-14T04:10:58.604Z"
   },
   {
    "duration": 861,
    "start_time": "2023-11-14T04:10:58.621Z"
   },
   {
    "duration": 174,
    "start_time": "2023-11-14T04:10:59.484Z"
   },
   {
    "duration": 377,
    "start_time": "2023-11-14T04:10:59.660Z"
   },
   {
    "duration": 194,
    "start_time": "2023-11-14T04:11:12.099Z"
   },
   {
    "duration": 282,
    "start_time": "2023-11-14T04:12:26.272Z"
   },
   {
    "duration": 355,
    "start_time": "2023-11-14T04:13:11.880Z"
   },
   {
    "duration": 320,
    "start_time": "2023-11-14T04:13:23.937Z"
   },
   {
    "duration": 212,
    "start_time": "2023-11-14T04:14:20.005Z"
   },
   {
    "duration": 3,
    "start_time": "2023-11-14T04:15:12.444Z"
   },
   {
    "duration": 67,
    "start_time": "2023-11-14T04:17:05.314Z"
   },
   {
    "duration": 65,
    "start_time": "2023-11-14T04:17:40.522Z"
   },
   {
    "duration": 22,
    "start_time": "2023-11-14T04:17:49.510Z"
   },
   {
    "duration": 20,
    "start_time": "2023-11-14T04:17:59.510Z"
   },
   {
    "duration": 6,
    "start_time": "2023-11-14T04:18:08.052Z"
   },
   {
    "duration": 5,
    "start_time": "2023-11-14T04:18:18.298Z"
   },
   {
    "duration": 3613,
    "start_time": "2023-11-14T04:21:26.286Z"
   },
   {
    "duration": 3980,
    "start_time": "2023-11-14T04:22:59.475Z"
   },
   {
    "duration": 192831,
    "start_time": "2023-11-14T04:25:06.335Z"
   },
   {
    "duration": 648,
    "start_time": "2023-11-14T04:28:58.526Z"
   },
   {
    "duration": 201964,
    "start_time": "2023-11-14T04:29:39.223Z"
   },
   {
    "duration": 651,
    "start_time": "2023-11-14T04:36:21.523Z"
   },
   {
    "duration": 656,
    "start_time": "2023-11-14T04:37:39.320Z"
   },
   {
    "duration": 1516,
    "start_time": "2023-11-14T04:38:33.697Z"
   },
   {
    "duration": 1001,
    "start_time": "2023-11-14T04:38:35.215Z"
   },
   {
    "duration": 1742,
    "start_time": "2023-11-14T04:38:36.217Z"
   },
   {
    "duration": 35,
    "start_time": "2023-11-14T04:38:37.969Z"
   },
   {
    "duration": 18,
    "start_time": "2023-11-14T04:38:38.007Z"
   },
   {
    "duration": 6,
    "start_time": "2023-11-14T04:38:38.027Z"
   },
   {
    "duration": 43,
    "start_time": "2023-11-14T04:38:38.054Z"
   },
   {
    "duration": 176,
    "start_time": "2023-11-14T04:38:38.099Z"
   },
   {
    "duration": 38,
    "start_time": "2023-11-14T04:38:38.276Z"
   },
   {
    "duration": 79,
    "start_time": "2023-11-14T04:38:38.316Z"
   },
   {
    "duration": 11,
    "start_time": "2023-11-14T04:38:38.397Z"
   },
   {
    "duration": 73,
    "start_time": "2023-11-14T04:38:38.409Z"
   },
   {
    "duration": 524,
    "start_time": "2023-11-14T04:38:38.483Z"
   },
   {
    "duration": 122,
    "start_time": "2023-11-14T04:38:39.010Z"
   },
   {
    "duration": 75,
    "start_time": "2023-11-14T04:38:39.134Z"
   },
   {
    "duration": 298,
    "start_time": "2023-11-14T04:38:39.212Z"
   },
   {
    "duration": 23,
    "start_time": "2023-11-14T04:38:39.512Z"
   },
   {
    "duration": 66,
    "start_time": "2023-11-14T04:38:39.537Z"
   },
   {
    "duration": 250,
    "start_time": "2023-11-14T04:38:39.605Z"
   },
   {
    "duration": 217,
    "start_time": "2023-11-14T04:38:39.861Z"
   },
   {
    "duration": 26,
    "start_time": "2023-11-14T04:38:40.080Z"
   },
   {
    "duration": 11,
    "start_time": "2023-11-14T04:38:40.107Z"
   },
   {
    "duration": 16,
    "start_time": "2023-11-14T04:38:40.120Z"
   },
   {
    "duration": 315,
    "start_time": "2023-11-14T04:38:40.138Z"
   },
   {
    "duration": 203,
    "start_time": "2023-11-14T04:38:40.465Z"
   },
   {
    "duration": 518,
    "start_time": "2023-11-14T04:38:40.670Z"
   },
   {
    "duration": 140,
    "start_time": "2023-11-14T04:38:41.190Z"
   },
   {
    "duration": 429,
    "start_time": "2023-11-14T04:38:41.332Z"
   },
   {
    "duration": 560,
    "start_time": "2023-11-14T04:38:41.763Z"
   },
   {
    "duration": 1290,
    "start_time": "2023-11-14T04:38:42.324Z"
   },
   {
    "duration": 50,
    "start_time": "2023-11-14T04:38:43.616Z"
   },
   {
    "duration": 1199,
    "start_time": "2023-11-14T04:38:43.668Z"
   },
   {
    "duration": 102,
    "start_time": "2023-11-14T04:38:44.868Z"
   },
   {
    "duration": 134,
    "start_time": "2023-11-14T04:38:44.972Z"
   },
   {
    "duration": 16,
    "start_time": "2023-11-14T04:38:45.108Z"
   },
   {
    "duration": 872,
    "start_time": "2023-11-14T04:38:45.126Z"
   },
   {
    "duration": 135,
    "start_time": "2023-11-14T04:38:45.999Z"
   },
   {
    "duration": 373,
    "start_time": "2023-11-14T04:38:46.136Z"
   },
   {
    "duration": 214,
    "start_time": "2023-11-14T04:38:46.511Z"
   },
   {
    "duration": 3,
    "start_time": "2023-11-14T04:38:46.727Z"
   },
   {
    "duration": 21,
    "start_time": "2023-11-14T04:38:46.735Z"
   },
   {
    "duration": 7,
    "start_time": "2023-11-14T04:38:46.758Z"
   },
   {
    "duration": 71,
    "start_time": "2023-11-14T04:38:46.767Z"
   },
   {
    "duration": 203680,
    "start_time": "2023-11-14T04:38:46.839Z"
   },
   {
    "duration": 657,
    "start_time": "2023-11-14T04:42:10.521Z"
   },
   {
    "duration": 678,
    "start_time": "2023-11-14T04:53:20.219Z"
   },
   {
    "duration": 5419,
    "start_time": "2023-11-14T04:57:33.864Z"
   },
   {
    "duration": 188191,
    "start_time": "2023-11-14T04:58:06.965Z"
   },
   {
    "duration": 629,
    "start_time": "2023-11-14T05:01:43.592Z"
   },
   {
    "duration": 103,
    "start_time": "2023-11-14T05:18:08.127Z"
   },
   {
    "duration": 149,
    "start_time": "2023-11-14T05:18:22.861Z"
   },
   {
    "duration": 133,
    "start_time": "2023-11-14T05:18:29.204Z"
   },
   {
    "duration": 2780,
    "start_time": "2023-11-14T05:18:36.248Z"
   },
   {
    "duration": 2717,
    "start_time": "2023-11-14T05:18:54.904Z"
   },
   {
    "duration": 1590,
    "start_time": "2023-11-14T05:19:16.872Z"
   },
   {
    "duration": 4,
    "start_time": "2023-11-14T05:42:09.089Z"
   },
   {
    "duration": 987,
    "start_time": "2023-11-14T05:42:15.100Z"
   },
   {
    "duration": 1666,
    "start_time": "2023-11-14T05:42:16.089Z"
   },
   {
    "duration": 36,
    "start_time": "2023-11-14T05:42:17.757Z"
   },
   {
    "duration": 114,
    "start_time": "2023-11-14T05:42:17.795Z"
   },
   {
    "duration": 7,
    "start_time": "2023-11-14T05:42:17.910Z"
   },
   {
    "duration": 51,
    "start_time": "2023-11-14T05:42:17.919Z"
   },
   {
    "duration": 154,
    "start_time": "2023-11-14T05:42:17.972Z"
   },
   {
    "duration": 54,
    "start_time": "2023-11-14T05:42:18.127Z"
   },
   {
    "duration": 51,
    "start_time": "2023-11-14T05:42:18.183Z"
   },
   {
    "duration": 23,
    "start_time": "2023-11-14T05:42:18.236Z"
   },
   {
    "duration": 59,
    "start_time": "2023-11-14T05:42:18.261Z"
   },
   {
    "duration": 526,
    "start_time": "2023-11-14T05:42:18.322Z"
   },
   {
    "duration": 24,
    "start_time": "2023-11-14T05:42:18.850Z"
   },
   {
    "duration": 43,
    "start_time": "2023-11-14T05:42:18.877Z"
   },
   {
    "duration": 274,
    "start_time": "2023-11-14T05:42:18.922Z"
   },
   {
    "duration": 21,
    "start_time": "2023-11-14T05:42:19.197Z"
   },
   {
    "duration": 71,
    "start_time": "2023-11-14T05:42:19.220Z"
   },
   {
    "duration": 216,
    "start_time": "2023-11-14T05:42:19.292Z"
   },
   {
    "duration": 267,
    "start_time": "2023-11-14T05:42:19.510Z"
   },
   {
    "duration": 25,
    "start_time": "2023-11-14T05:42:19.779Z"
   },
   {
    "duration": 10,
    "start_time": "2023-11-14T05:42:19.806Z"
   },
   {
    "duration": 6,
    "start_time": "2023-11-14T05:42:19.969Z"
   },
   {
    "duration": 279,
    "start_time": "2023-11-14T05:42:20.153Z"
   },
   {
    "duration": 201,
    "start_time": "2023-11-14T05:42:20.434Z"
   },
   {
    "duration": 448,
    "start_time": "2023-11-14T05:42:20.637Z"
   },
   {
    "duration": 114,
    "start_time": "2023-11-14T05:42:21.087Z"
   },
   {
    "duration": 365,
    "start_time": "2023-11-14T05:42:21.203Z"
   },
   {
    "duration": 656,
    "start_time": "2023-11-14T05:42:21.570Z"
   },
   {
    "duration": 1175,
    "start_time": "2023-11-14T05:42:22.228Z"
   },
   {
    "duration": 32,
    "start_time": "2023-11-14T05:42:23.404Z"
   },
   {
    "duration": 1193,
    "start_time": "2023-11-14T05:42:23.437Z"
   },
   {
    "duration": 94,
    "start_time": "2023-11-14T05:42:24.632Z"
   },
   {
    "duration": 127,
    "start_time": "2023-11-14T05:42:24.728Z"
   },
   {
    "duration": 15,
    "start_time": "2023-11-14T05:42:24.856Z"
   },
   {
    "duration": 941,
    "start_time": "2023-11-14T05:42:24.874Z"
   },
   {
    "duration": 165,
    "start_time": "2023-11-14T05:42:25.817Z"
   },
   {
    "duration": 393,
    "start_time": "2023-11-14T05:42:25.984Z"
   },
   {
    "duration": 232,
    "start_time": "2023-11-14T05:42:26.379Z"
   },
   {
    "duration": 2,
    "start_time": "2023-11-14T05:42:26.613Z"
   },
   {
    "duration": 24,
    "start_time": "2023-11-14T05:42:26.617Z"
   },
   {
    "duration": 19,
    "start_time": "2023-11-14T05:42:26.643Z"
   },
   {
    "duration": 118,
    "start_time": "2023-11-14T05:43:42.441Z"
   },
   {
    "duration": 12,
    "start_time": "2023-11-14T05:44:20.094Z"
   },
   {
    "duration": 70,
    "start_time": "2023-11-14T05:44:32.250Z"
   },
   {
    "duration": 41,
    "start_time": "2023-11-14T05:44:33.075Z"
   },
   {
    "duration": 361061,
    "start_time": "2023-11-14T05:51:10.210Z"
   },
   {
    "duration": 11,
    "start_time": "2023-11-14T06:03:35.291Z"
   },
   {
    "duration": 15,
    "start_time": "2023-11-14T06:04:01.545Z"
   },
   {
    "duration": 1026,
    "start_time": "2023-11-14T06:04:12.274Z"
   },
   {
    "duration": 501953,
    "start_time": "2023-11-14T06:07:15.599Z"
   },
   {
    "duration": 536,
    "start_time": "2023-11-14T06:20:47.839Z"
   },
   {
    "duration": 609,
    "start_time": "2023-11-14T06:23:51.144Z"
   },
   {
    "duration": 616,
    "start_time": "2023-11-14T06:24:08.250Z"
   },
   {
    "duration": 584,
    "start_time": "2023-11-14T06:27:27.868Z"
   },
   {
    "duration": 640,
    "start_time": "2023-11-14T06:27:42.013Z"
   },
   {
    "duration": 569,
    "start_time": "2023-11-14T06:28:09.987Z"
   },
   {
    "duration": 567,
    "start_time": "2023-11-14T06:28:18.704Z"
   },
   {
    "duration": 2614,
    "start_time": "2023-11-14T06:50:27.179Z"
   },
   {
    "duration": 1568,
    "start_time": "2023-11-14T06:50:29.795Z"
   },
   {
    "duration": 964,
    "start_time": "2023-11-14T06:50:31.365Z"
   },
   {
    "duration": 1692,
    "start_time": "2023-11-14T06:50:32.331Z"
   },
   {
    "duration": 43,
    "start_time": "2023-11-14T06:50:34.025Z"
   },
   {
    "duration": 112,
    "start_time": "2023-11-14T06:50:34.070Z"
   },
   {
    "duration": 6,
    "start_time": "2023-11-14T06:50:34.184Z"
   },
   {
    "duration": 37,
    "start_time": "2023-11-14T06:50:34.191Z"
   },
   {
    "duration": 169,
    "start_time": "2023-11-14T06:50:34.230Z"
   },
   {
    "duration": 51,
    "start_time": "2023-11-14T06:50:34.401Z"
   },
   {
    "duration": 55,
    "start_time": "2023-11-14T06:50:34.454Z"
   },
   {
    "duration": 11,
    "start_time": "2023-11-14T06:50:34.510Z"
   },
   {
    "duration": 82,
    "start_time": "2023-11-14T06:50:34.522Z"
   },
   {
    "duration": 500,
    "start_time": "2023-11-14T06:50:34.605Z"
   },
   {
    "duration": 32,
    "start_time": "2023-11-14T06:50:35.106Z"
   },
   {
    "duration": 57,
    "start_time": "2023-11-14T06:50:35.152Z"
   },
   {
    "duration": 277,
    "start_time": "2023-11-14T06:50:35.211Z"
   },
   {
    "duration": 22,
    "start_time": "2023-11-14T06:50:35.490Z"
   },
   {
    "duration": 63,
    "start_time": "2023-11-14T06:50:35.514Z"
   },
   {
    "duration": 229,
    "start_time": "2023-11-14T06:50:35.578Z"
   },
   {
    "duration": 212,
    "start_time": "2023-11-14T06:50:35.808Z"
   },
   {
    "duration": 37,
    "start_time": "2023-11-14T06:50:36.022Z"
   },
   {
    "duration": 10,
    "start_time": "2023-11-14T06:50:36.061Z"
   },
   {
    "duration": 7,
    "start_time": "2023-11-14T06:50:36.073Z"
   },
   {
    "duration": 295,
    "start_time": "2023-11-14T06:50:36.082Z"
   },
   {
    "duration": 188,
    "start_time": "2023-11-14T06:50:36.379Z"
   },
   {
    "duration": 427,
    "start_time": "2023-11-14T06:50:36.569Z"
   },
   {
    "duration": 100,
    "start_time": "2023-11-14T06:50:36.999Z"
   },
   {
    "duration": 395,
    "start_time": "2023-11-14T06:50:37.101Z"
   },
   {
    "duration": 646,
    "start_time": "2023-11-14T06:50:37.498Z"
   },
   {
    "duration": 1137,
    "start_time": "2023-11-14T06:50:38.146Z"
   },
   {
    "duration": 31,
    "start_time": "2023-11-14T06:50:39.284Z"
   },
   {
    "duration": 1136,
    "start_time": "2023-11-14T06:50:39.316Z"
   },
   {
    "duration": 120,
    "start_time": "2023-11-14T06:50:40.454Z"
   },
   {
    "duration": 114,
    "start_time": "2023-11-14T06:50:40.576Z"
   },
   {
    "duration": 35,
    "start_time": "2023-11-14T06:50:40.692Z"
   },
   {
    "duration": 1032,
    "start_time": "2023-11-14T06:50:40.728Z"
   },
   {
    "duration": 148,
    "start_time": "2023-11-14T06:50:41.762Z"
   },
   {
    "duration": 383,
    "start_time": "2023-11-14T06:50:41.912Z"
   },
   {
    "duration": 212,
    "start_time": "2023-11-14T06:50:42.297Z"
   },
   {
    "duration": 2611,
    "start_time": "2023-11-14T07:13:33.589Z"
   },
   {
    "duration": 1513,
    "start_time": "2023-11-14T07:13:36.202Z"
   },
   {
    "duration": 959,
    "start_time": "2023-11-14T07:13:37.717Z"
   },
   {
    "duration": 1656,
    "start_time": "2023-11-14T07:13:38.679Z"
   },
   {
    "duration": 40,
    "start_time": "2023-11-14T07:13:40.337Z"
   },
   {
    "duration": 107,
    "start_time": "2023-11-14T07:13:40.378Z"
   },
   {
    "duration": 6,
    "start_time": "2023-11-14T07:13:40.486Z"
   },
   {
    "duration": 36,
    "start_time": "2023-11-14T07:13:40.494Z"
   },
   {
    "duration": 166,
    "start_time": "2023-11-14T07:13:40.531Z"
   },
   {
    "duration": 41,
    "start_time": "2023-11-14T07:13:40.699Z"
   },
   {
    "duration": 56,
    "start_time": "2023-11-14T07:13:40.753Z"
   },
   {
    "duration": 11,
    "start_time": "2023-11-14T07:13:40.811Z"
   },
   {
    "duration": 83,
    "start_time": "2023-11-14T07:13:40.825Z"
   },
   {
    "duration": 534,
    "start_time": "2023-11-14T07:13:40.910Z"
   },
   {
    "duration": 29,
    "start_time": "2023-11-14T07:13:41.445Z"
   },
   {
    "duration": 49,
    "start_time": "2023-11-14T07:13:41.476Z"
   },
   {
    "duration": 268,
    "start_time": "2023-11-14T07:13:41.526Z"
   },
   {
    "duration": 21,
    "start_time": "2023-11-14T07:13:41.795Z"
   },
   {
    "duration": 61,
    "start_time": "2023-11-14T07:13:41.818Z"
   },
   {
    "duration": 226,
    "start_time": "2023-11-14T07:13:41.881Z"
   },
   {
    "duration": 220,
    "start_time": "2023-11-14T07:13:42.109Z"
   },
   {
    "duration": 33,
    "start_time": "2023-11-14T07:13:42.331Z"
   },
   {
    "duration": 10,
    "start_time": "2023-11-14T07:13:42.365Z"
   },
   {
    "duration": 6,
    "start_time": "2023-11-14T07:13:42.377Z"
   },
   {
    "duration": 336,
    "start_time": "2023-11-14T07:13:42.385Z"
   },
   {
    "duration": 230,
    "start_time": "2023-11-14T07:13:42.724Z"
   },
   {
    "duration": 472,
    "start_time": "2023-11-14T07:13:42.956Z"
   },
   {
    "duration": 132,
    "start_time": "2023-11-14T07:13:43.432Z"
   },
   {
    "duration": 362,
    "start_time": "2023-11-14T07:13:43.566Z"
   },
   {
    "duration": 640,
    "start_time": "2023-11-14T07:13:43.930Z"
   },
   {
    "duration": 1160,
    "start_time": "2023-11-14T07:13:44.571Z"
   },
   {
    "duration": 32,
    "start_time": "2023-11-14T07:13:45.733Z"
   },
   {
    "duration": 1124,
    "start_time": "2023-11-14T07:13:45.767Z"
   },
   {
    "duration": 101,
    "start_time": "2023-11-14T07:13:46.892Z"
   },
   {
    "duration": 116,
    "start_time": "2023-11-14T07:13:46.995Z"
   },
   {
    "duration": 17,
    "start_time": "2023-11-14T07:13:47.113Z"
   },
   {
    "duration": 919,
    "start_time": "2023-11-14T07:13:47.133Z"
   },
   {
    "duration": 144,
    "start_time": "2023-11-14T07:13:48.054Z"
   },
   {
    "duration": 369,
    "start_time": "2023-11-14T07:13:48.200Z"
   },
   {
    "duration": 216,
    "start_time": "2023-11-14T07:13:48.571Z"
   },
   {
    "duration": 372208,
    "start_time": "2023-11-14T07:13:48.789Z"
   },
   {
    "duration": 75602,
    "start_time": "2023-11-14T07:20:00.998Z"
   },
   {
    "duration": 79,
    "start_time": "2023-11-14T07:21:16.601Z"
   },
   {
    "duration": 1092663,
    "start_time": "2023-11-14T07:21:16.681Z"
   },
   {
    "duration": 969129,
    "start_time": "2023-11-14T07:39:29.346Z"
   },
   {
    "duration": 498580,
    "start_time": "2023-11-14T08:16:25.374Z"
   },
   {
    "duration": 3201,
    "start_time": "2023-11-16T15:13:50.992Z"
   },
   {
    "duration": 1732,
    "start_time": "2023-11-16T15:13:54.195Z"
   },
   {
    "duration": 1190,
    "start_time": "2023-11-16T15:13:55.929Z"
   },
   {
    "duration": 2063,
    "start_time": "2023-11-16T15:13:57.121Z"
   },
   {
    "duration": 43,
    "start_time": "2023-11-16T15:13:59.188Z"
   },
   {
    "duration": 104,
    "start_time": "2023-11-16T15:13:59.232Z"
   },
   {
    "duration": 7,
    "start_time": "2023-11-16T15:13:59.338Z"
   },
   {
    "duration": 53,
    "start_time": "2023-11-16T15:13:59.347Z"
   },
   {
    "duration": 170,
    "start_time": "2023-11-16T15:13:59.402Z"
   },
   {
    "duration": 39,
    "start_time": "2023-11-16T15:13:59.574Z"
   },
   {
    "duration": 79,
    "start_time": "2023-11-16T15:13:59.615Z"
   },
   {
    "duration": 11,
    "start_time": "2023-11-16T15:13:59.696Z"
   },
   {
    "duration": 73,
    "start_time": "2023-11-16T15:13:59.708Z"
   },
   {
    "duration": 548,
    "start_time": "2023-11-16T15:13:59.785Z"
   },
   {
    "duration": 32,
    "start_time": "2023-11-16T15:14:00.334Z"
   },
   {
    "duration": 97,
    "start_time": "2023-11-16T15:14:00.368Z"
   },
   {
    "duration": 259,
    "start_time": "2023-11-16T15:14:00.467Z"
   },
   {
    "duration": 21,
    "start_time": "2023-11-16T15:14:00.728Z"
   },
   {
    "duration": 98,
    "start_time": "2023-11-16T15:14:00.750Z"
   },
   {
    "duration": 225,
    "start_time": "2023-11-16T15:14:00.850Z"
   },
   {
    "duration": 237,
    "start_time": "2023-11-16T15:14:01.077Z"
   },
   {
    "duration": 26,
    "start_time": "2023-11-16T15:14:01.316Z"
   },
   {
    "duration": 25,
    "start_time": "2023-11-16T15:14:01.344Z"
   },
   {
    "duration": 5,
    "start_time": "2023-11-16T15:14:01.371Z"
   },
   {
    "duration": 318,
    "start_time": "2023-11-16T15:14:01.379Z"
   },
   {
    "duration": 217,
    "start_time": "2023-11-16T15:14:01.699Z"
   },
   {
    "duration": 468,
    "start_time": "2023-11-16T15:14:01.918Z"
   },
   {
    "duration": 107,
    "start_time": "2023-11-16T15:14:02.389Z"
   },
   {
    "duration": 383,
    "start_time": "2023-11-16T15:14:02.497Z"
   },
   {
    "duration": 702,
    "start_time": "2023-11-16T15:14:02.882Z"
   },
   {
    "duration": 1254,
    "start_time": "2023-11-16T15:14:03.586Z"
   },
   {
    "duration": 34,
    "start_time": "2023-11-16T15:14:04.841Z"
   },
   {
    "duration": 1191,
    "start_time": "2023-11-16T15:14:04.876Z"
   },
   {
    "duration": 102,
    "start_time": "2023-11-16T15:14:06.069Z"
   },
   {
    "duration": 120,
    "start_time": "2023-11-16T15:14:06.173Z"
   },
   {
    "duration": 16,
    "start_time": "2023-11-16T15:14:06.295Z"
   },
   {
    "duration": 870,
    "start_time": "2023-11-16T15:14:06.312Z"
   },
   {
    "duration": 144,
    "start_time": "2023-11-16T15:14:07.184Z"
   },
   {
    "duration": 381,
    "start_time": "2023-11-16T15:14:07.330Z"
   },
   {
    "duration": 219,
    "start_time": "2023-11-16T15:14:07.713Z"
   },
   {
    "duration": 139,
    "start_time": "2023-11-16T15:14:07.937Z"
   },
   {
    "duration": 0,
    "start_time": "2023-11-16T15:14:08.078Z"
   },
   {
    "duration": 0,
    "start_time": "2023-11-16T15:14:08.079Z"
   },
   {
    "duration": 0,
    "start_time": "2023-11-16T15:14:08.080Z"
   },
   {
    "duration": 0,
    "start_time": "2023-11-16T15:14:08.081Z"
   },
   {
    "duration": 0,
    "start_time": "2023-11-16T15:14:08.083Z"
   },
   {
    "duration": 14,
    "start_time": "2023-11-16T15:18:07.392Z"
   },
   {
    "duration": 101718,
    "start_time": "2023-11-16T15:18:36.296Z"
   },
   {
    "duration": 101001,
    "start_time": "2023-11-16T15:20:35.722Z"
   },
   {
    "duration": 107963,
    "start_time": "2023-11-16T15:23:07.902Z"
   },
   {
    "duration": 2845,
    "start_time": "2023-11-16T15:34:13.484Z"
   },
   {
    "duration": 1605,
    "start_time": "2023-11-16T15:34:16.332Z"
   },
   {
    "duration": 968,
    "start_time": "2023-11-16T15:34:17.939Z"
   },
   {
    "duration": 1731,
    "start_time": "2023-11-16T15:34:18.909Z"
   },
   {
    "duration": 46,
    "start_time": "2023-11-16T15:34:20.642Z"
   },
   {
    "duration": 99,
    "start_time": "2023-11-16T15:34:20.690Z"
   },
   {
    "duration": 6,
    "start_time": "2023-11-16T15:34:20.791Z"
   },
   {
    "duration": 50,
    "start_time": "2023-11-16T15:34:20.798Z"
   },
   {
    "duration": 162,
    "start_time": "2023-11-16T15:34:20.850Z"
   },
   {
    "duration": 51,
    "start_time": "2023-11-16T15:34:21.013Z"
   },
   {
    "duration": 59,
    "start_time": "2023-11-16T15:34:21.076Z"
   },
   {
    "duration": 11,
    "start_time": "2023-11-16T15:34:21.137Z"
   },
   {
    "duration": 83,
    "start_time": "2023-11-16T15:34:21.150Z"
   },
   {
    "duration": 512,
    "start_time": "2023-11-16T15:34:21.236Z"
   },
   {
    "duration": 35,
    "start_time": "2023-11-16T15:34:21.750Z"
   },
   {
    "duration": 51,
    "start_time": "2023-11-16T15:34:21.786Z"
   },
   {
    "duration": 278,
    "start_time": "2023-11-16T15:34:21.839Z"
   },
   {
    "duration": 20,
    "start_time": "2023-11-16T15:34:22.119Z"
   },
   {
    "duration": 62,
    "start_time": "2023-11-16T15:34:22.140Z"
   },
   {
    "duration": 228,
    "start_time": "2023-11-16T15:34:22.204Z"
   },
   {
    "duration": 237,
    "start_time": "2023-11-16T15:34:22.434Z"
   },
   {
    "duration": 27,
    "start_time": "2023-11-16T15:34:22.673Z"
   },
   {
    "duration": 9,
    "start_time": "2023-11-16T15:34:22.702Z"
   },
   {
    "duration": 5,
    "start_time": "2023-11-16T15:34:22.713Z"
   },
   {
    "duration": 326,
    "start_time": "2023-11-16T15:34:22.719Z"
   },
   {
    "duration": 203,
    "start_time": "2023-11-16T15:34:23.046Z"
   },
   {
    "duration": 458,
    "start_time": "2023-11-16T15:34:23.250Z"
   },
   {
    "duration": 132,
    "start_time": "2023-11-16T15:34:23.710Z"
   },
   {
    "duration": 385,
    "start_time": "2023-11-16T15:34:23.844Z"
   },
   {
    "duration": 681,
    "start_time": "2023-11-16T15:34:24.230Z"
   },
   {
    "duration": 1207,
    "start_time": "2023-11-16T15:34:24.913Z"
   },
   {
    "duration": 30,
    "start_time": "2023-11-16T15:34:26.121Z"
   },
   {
    "duration": 1277,
    "start_time": "2023-11-16T15:34:26.153Z"
   },
   {
    "duration": 108,
    "start_time": "2023-11-16T15:34:27.432Z"
   },
   {
    "duration": 137,
    "start_time": "2023-11-16T15:34:27.541Z"
   },
   {
    "duration": 15,
    "start_time": "2023-11-16T15:34:27.680Z"
   },
   {
    "duration": 837,
    "start_time": "2023-11-16T15:34:27.697Z"
   },
   {
    "duration": 160,
    "start_time": "2023-11-16T15:34:28.536Z"
   },
   {
    "duration": 432,
    "start_time": "2023-11-16T15:34:28.698Z"
   },
   {
    "duration": 242,
    "start_time": "2023-11-16T15:34:29.132Z"
   },
   {
    "duration": 2,
    "start_time": "2023-11-16T15:34:29.383Z"
   },
   {
    "duration": 6,
    "start_time": "2023-11-16T15:34:29.387Z"
   },
   {
    "duration": 83,
    "start_time": "2023-11-16T15:34:29.394Z"
   },
   {
    "duration": 263,
    "start_time": "2023-11-16T15:34:29.479Z"
   },
   {
    "duration": 3061,
    "start_time": "2023-11-16T15:35:49.992Z"
   },
   {
    "duration": 1595,
    "start_time": "2023-11-16T15:35:53.056Z"
   },
   {
    "duration": 1022,
    "start_time": "2023-11-16T15:35:54.652Z"
   },
   {
    "duration": 1771,
    "start_time": "2023-11-16T15:35:55.678Z"
   },
   {
    "duration": 49,
    "start_time": "2023-11-16T15:35:57.451Z"
   },
   {
    "duration": 106,
    "start_time": "2023-11-16T15:35:57.502Z"
   },
   {
    "duration": 6,
    "start_time": "2023-11-16T15:35:57.609Z"
   },
   {
    "duration": 60,
    "start_time": "2023-11-16T15:35:57.617Z"
   },
   {
    "duration": 172,
    "start_time": "2023-11-16T15:35:57.679Z"
   },
   {
    "duration": 49,
    "start_time": "2023-11-16T15:35:57.854Z"
   },
   {
    "duration": 76,
    "start_time": "2023-11-16T15:35:57.904Z"
   },
   {
    "duration": 12,
    "start_time": "2023-11-16T15:35:57.981Z"
   },
   {
    "duration": 75,
    "start_time": "2023-11-16T15:35:57.995Z"
   },
   {
    "duration": 524,
    "start_time": "2023-11-16T15:35:58.072Z"
   },
   {
    "duration": 25,
    "start_time": "2023-11-16T15:35:58.598Z"
   },
   {
    "duration": 66,
    "start_time": "2023-11-16T15:35:58.625Z"
   },
   {
    "duration": 304,
    "start_time": "2023-11-16T15:35:58.693Z"
   },
   {
    "duration": 25,
    "start_time": "2023-11-16T15:35:58.999Z"
   },
   {
    "duration": 69,
    "start_time": "2023-11-16T15:35:59.026Z"
   },
   {
    "duration": 239,
    "start_time": "2023-11-16T15:35:59.097Z"
   },
   {
    "duration": 244,
    "start_time": "2023-11-16T15:35:59.337Z"
   },
   {
    "duration": 29,
    "start_time": "2023-11-16T15:35:59.582Z"
   },
   {
    "duration": 12,
    "start_time": "2023-11-16T15:35:59.613Z"
   },
   {
    "duration": 5,
    "start_time": "2023-11-16T15:35:59.627Z"
   },
   {
    "duration": 329,
    "start_time": "2023-11-16T15:35:59.634Z"
   },
   {
    "duration": 214,
    "start_time": "2023-11-16T15:35:59.964Z"
   },
   {
    "duration": 434,
    "start_time": "2023-11-16T15:36:00.180Z"
   },
   {
    "duration": 113,
    "start_time": "2023-11-16T15:36:00.618Z"
   },
   {
    "duration": 419,
    "start_time": "2023-11-16T15:36:00.733Z"
   },
   {
    "duration": 669,
    "start_time": "2023-11-16T15:36:01.154Z"
   },
   {
    "duration": 1219,
    "start_time": "2023-11-16T15:36:01.825Z"
   },
   {
    "duration": 46,
    "start_time": "2023-11-16T15:36:03.046Z"
   },
   {
    "duration": 1189,
    "start_time": "2023-11-16T15:36:03.094Z"
   },
   {
    "duration": 99,
    "start_time": "2023-11-16T15:36:04.285Z"
   },
   {
    "duration": 127,
    "start_time": "2023-11-16T15:36:04.386Z"
   },
   {
    "duration": 15,
    "start_time": "2023-11-16T15:36:04.515Z"
   },
   {
    "duration": 716,
    "start_time": "2023-11-16T15:36:04.532Z"
   },
   {
    "duration": 166,
    "start_time": "2023-11-16T15:36:05.250Z"
   },
   {
    "duration": 411,
    "start_time": "2023-11-16T15:36:05.418Z"
   },
   {
    "duration": 229,
    "start_time": "2023-11-16T15:36:05.830Z"
   },
   {
    "duration": 4,
    "start_time": "2023-11-16T15:36:06.061Z"
   },
   {
    "duration": 169,
    "start_time": "2023-11-16T15:36:06.067Z"
   },
   {
    "duration": 79,
    "start_time": "2023-11-16T15:36:06.237Z"
   },
   {
    "duration": 221,
    "start_time": "2023-11-16T15:36:06.318Z"
   },
   {
    "duration": 2796,
    "start_time": "2023-11-16T15:37:08.015Z"
   },
   {
    "duration": 1612,
    "start_time": "2023-11-16T15:37:10.813Z"
   },
   {
    "duration": 1007,
    "start_time": "2023-11-16T15:37:12.427Z"
   },
   {
    "duration": 1720,
    "start_time": "2023-11-16T15:37:13.436Z"
   },
   {
    "duration": 45,
    "start_time": "2023-11-16T15:37:15.158Z"
   },
   {
    "duration": 101,
    "start_time": "2023-11-16T15:37:15.205Z"
   },
   {
    "duration": 6,
    "start_time": "2023-11-16T15:37:15.308Z"
   },
   {
    "duration": 63,
    "start_time": "2023-11-16T15:37:15.315Z"
   },
   {
    "duration": 164,
    "start_time": "2023-11-16T15:37:15.381Z"
   },
   {
    "duration": 50,
    "start_time": "2023-11-16T15:37:15.548Z"
   },
   {
    "duration": 57,
    "start_time": "2023-11-16T15:37:15.600Z"
   },
   {
    "duration": 16,
    "start_time": "2023-11-16T15:37:15.664Z"
   },
   {
    "duration": 55,
    "start_time": "2023-11-16T15:37:15.682Z"
   },
   {
    "duration": 503,
    "start_time": "2023-11-16T15:37:15.739Z"
   },
   {
    "duration": 38,
    "start_time": "2023-11-16T15:37:16.243Z"
   },
   {
    "duration": 46,
    "start_time": "2023-11-16T15:37:16.282Z"
   },
   {
    "duration": 287,
    "start_time": "2023-11-16T15:37:16.330Z"
   },
   {
    "duration": 22,
    "start_time": "2023-11-16T15:37:16.619Z"
   },
   {
    "duration": 61,
    "start_time": "2023-11-16T15:37:16.642Z"
   },
   {
    "duration": 234,
    "start_time": "2023-11-16T15:37:16.705Z"
   },
   {
    "duration": 214,
    "start_time": "2023-11-16T15:37:16.941Z"
   },
   {
    "duration": 29,
    "start_time": "2023-11-16T15:37:17.157Z"
   },
   {
    "duration": 9,
    "start_time": "2023-11-16T15:37:17.188Z"
   },
   {
    "duration": 14,
    "start_time": "2023-11-16T15:37:17.198Z"
   },
   {
    "duration": 317,
    "start_time": "2023-11-16T15:37:17.214Z"
   },
   {
    "duration": 195,
    "start_time": "2023-11-16T15:37:17.533Z"
   },
   {
    "duration": 423,
    "start_time": "2023-11-16T15:37:17.729Z"
   },
   {
    "duration": 104,
    "start_time": "2023-11-16T15:37:18.156Z"
   },
   {
    "duration": 380,
    "start_time": "2023-11-16T15:37:18.271Z"
   },
   {
    "duration": 684,
    "start_time": "2023-11-16T15:37:18.652Z"
   },
   {
    "duration": 1189,
    "start_time": "2023-11-16T15:37:19.338Z"
   },
   {
    "duration": 51,
    "start_time": "2023-11-16T15:37:20.528Z"
   },
   {
    "duration": 1195,
    "start_time": "2023-11-16T15:37:20.582Z"
   },
   {
    "duration": 126,
    "start_time": "2023-11-16T15:37:21.782Z"
   },
   {
    "duration": 127,
    "start_time": "2023-11-16T15:37:21.910Z"
   },
   {
    "duration": 34,
    "start_time": "2023-11-16T15:37:22.039Z"
   },
   {
    "duration": 757,
    "start_time": "2023-11-16T15:37:22.074Z"
   },
   {
    "duration": 155,
    "start_time": "2023-11-16T15:37:22.833Z"
   },
   {
    "duration": 387,
    "start_time": "2023-11-16T15:37:22.990Z"
   },
   {
    "duration": 224,
    "start_time": "2023-11-16T15:37:23.381Z"
   },
   {
    "duration": 3,
    "start_time": "2023-11-16T15:37:23.608Z"
   },
   {
    "duration": 14,
    "start_time": "2023-11-16T15:37:23.613Z"
   },
   {
    "duration": 84,
    "start_time": "2023-11-16T15:37:23.629Z"
   },
   {
    "duration": 283,
    "start_time": "2023-11-16T15:37:23.715Z"
   },
   {
    "duration": 2706,
    "start_time": "2023-11-16T15:43:15.790Z"
   },
   {
    "duration": 1547,
    "start_time": "2023-11-16T15:43:18.498Z"
   },
   {
    "duration": 1004,
    "start_time": "2023-11-16T15:43:20.047Z"
   },
   {
    "duration": 1774,
    "start_time": "2023-11-16T15:43:21.053Z"
   },
   {
    "duration": 51,
    "start_time": "2023-11-16T15:43:22.829Z"
   },
   {
    "duration": 99,
    "start_time": "2023-11-16T15:43:22.882Z"
   },
   {
    "duration": 6,
    "start_time": "2023-11-16T15:43:22.982Z"
   },
   {
    "duration": 38,
    "start_time": "2023-11-16T15:43:22.990Z"
   },
   {
    "duration": 170,
    "start_time": "2023-11-16T15:43:23.030Z"
   },
   {
    "duration": 37,
    "start_time": "2023-11-16T15:43:23.201Z"
   },
   {
    "duration": 78,
    "start_time": "2023-11-16T15:43:23.240Z"
   },
   {
    "duration": 10,
    "start_time": "2023-11-16T15:43:23.320Z"
   },
   {
    "duration": 69,
    "start_time": "2023-11-16T15:43:23.331Z"
   },
   {
    "duration": 513,
    "start_time": "2023-11-16T15:43:23.403Z"
   },
   {
    "duration": 23,
    "start_time": "2023-11-16T15:43:23.917Z"
   },
   {
    "duration": 64,
    "start_time": "2023-11-16T15:43:23.942Z"
   },
   {
    "duration": 276,
    "start_time": "2023-11-16T15:43:24.007Z"
   },
   {
    "duration": 20,
    "start_time": "2023-11-16T15:43:24.284Z"
   },
   {
    "duration": 72,
    "start_time": "2023-11-16T15:43:24.306Z"
   },
   {
    "duration": 221,
    "start_time": "2023-11-16T15:43:24.382Z"
   },
   {
    "duration": 227,
    "start_time": "2023-11-16T15:43:24.605Z"
   },
   {
    "duration": 48,
    "start_time": "2023-11-16T15:43:24.834Z"
   },
   {
    "duration": 14,
    "start_time": "2023-11-16T15:43:24.884Z"
   },
   {
    "duration": 16,
    "start_time": "2023-11-16T15:43:24.900Z"
   },
   {
    "duration": 324,
    "start_time": "2023-11-16T15:43:24.918Z"
   },
   {
    "duration": 201,
    "start_time": "2023-11-16T15:43:25.244Z"
   },
   {
    "duration": 465,
    "start_time": "2023-11-16T15:43:25.447Z"
   },
   {
    "duration": 106,
    "start_time": "2023-11-16T15:43:25.913Z"
   },
   {
    "duration": 380,
    "start_time": "2023-11-16T15:43:26.020Z"
   },
   {
    "duration": 658,
    "start_time": "2023-11-16T15:43:26.402Z"
   },
   {
    "duration": 1188,
    "start_time": "2023-11-16T15:43:27.062Z"
   },
   {
    "duration": 40,
    "start_time": "2023-11-16T15:43:28.252Z"
   },
   {
    "duration": 1229,
    "start_time": "2023-11-16T15:43:28.293Z"
   },
   {
    "duration": 108,
    "start_time": "2023-11-16T15:43:29.523Z"
   },
   {
    "duration": 196,
    "start_time": "2023-11-16T15:43:29.632Z"
   },
   {
    "duration": 14,
    "start_time": "2023-11-16T15:43:29.830Z"
   },
   {
    "duration": 734,
    "start_time": "2023-11-16T15:43:29.846Z"
   },
   {
    "duration": 143,
    "start_time": "2023-11-16T15:43:30.581Z"
   },
   {
    "duration": 393,
    "start_time": "2023-11-16T15:43:30.726Z"
   },
   {
    "duration": 227,
    "start_time": "2023-11-16T15:43:31.121Z"
   },
   {
    "duration": 2,
    "start_time": "2023-11-16T15:43:31.352Z"
   },
   {
    "duration": 50,
    "start_time": "2023-11-16T15:43:31.356Z"
   },
   {
    "duration": 111,
    "start_time": "2023-11-16T15:43:31.408Z"
   },
   {
    "duration": 8,
    "start_time": "2023-11-16T15:43:31.521Z"
   },
   {
    "duration": 0,
    "start_time": "2023-11-16T15:43:31.530Z"
   },
   {
    "duration": 2996,
    "start_time": "2023-11-16T15:44:32.550Z"
   },
   {
    "duration": 1918,
    "start_time": "2023-11-16T15:44:35.548Z"
   },
   {
    "duration": 1198,
    "start_time": "2023-11-16T15:44:37.468Z"
   },
   {
    "duration": 1989,
    "start_time": "2023-11-16T15:44:38.671Z"
   },
   {
    "duration": 52,
    "start_time": "2023-11-16T15:44:40.662Z"
   },
   {
    "duration": 125,
    "start_time": "2023-11-16T15:44:40.717Z"
   },
   {
    "duration": 6,
    "start_time": "2023-11-16T15:44:40.843Z"
   },
   {
    "duration": 64,
    "start_time": "2023-11-16T15:44:40.851Z"
   },
   {
    "duration": 242,
    "start_time": "2023-11-16T15:44:40.916Z"
   },
   {
    "duration": 47,
    "start_time": "2023-11-16T15:44:41.164Z"
   },
   {
    "duration": 90,
    "start_time": "2023-11-16T15:44:41.213Z"
   },
   {
    "duration": 12,
    "start_time": "2023-11-16T15:44:41.305Z"
   },
   {
    "duration": 90,
    "start_time": "2023-11-16T15:44:41.320Z"
   },
   {
    "duration": 753,
    "start_time": "2023-11-16T15:44:41.412Z"
   },
   {
    "duration": 35,
    "start_time": "2023-11-16T15:44:42.167Z"
   },
   {
    "duration": 83,
    "start_time": "2023-11-16T15:44:42.204Z"
   },
   {
    "duration": 344,
    "start_time": "2023-11-16T15:44:42.289Z"
   },
   {
    "duration": 36,
    "start_time": "2023-11-16T15:44:42.635Z"
   },
   {
    "duration": 48,
    "start_time": "2023-11-16T15:44:42.673Z"
   },
   {
    "duration": 265,
    "start_time": "2023-11-16T15:44:42.723Z"
   },
   {
    "duration": 256,
    "start_time": "2023-11-16T15:44:42.991Z"
   },
   {
    "duration": 43,
    "start_time": "2023-11-16T15:44:43.249Z"
   },
   {
    "duration": 11,
    "start_time": "2023-11-16T15:44:43.294Z"
   },
   {
    "duration": 6,
    "start_time": "2023-11-16T15:44:43.307Z"
   },
   {
    "duration": 473,
    "start_time": "2023-11-16T15:44:43.315Z"
   },
   {
    "duration": 311,
    "start_time": "2023-11-16T15:44:43.793Z"
   },
   {
    "duration": 773,
    "start_time": "2023-11-16T15:44:44.106Z"
   },
   {
    "duration": 168,
    "start_time": "2023-11-16T15:44:44.884Z"
   },
   {
    "duration": 566,
    "start_time": "2023-11-16T15:44:45.055Z"
   },
   {
    "duration": 907,
    "start_time": "2023-11-16T15:44:45.625Z"
   },
   {
    "duration": 1323,
    "start_time": "2023-11-16T15:44:46.533Z"
   },
   {
    "duration": 49,
    "start_time": "2023-11-16T15:44:47.858Z"
   },
   {
    "duration": 1363,
    "start_time": "2023-11-16T15:44:47.909Z"
   },
   {
    "duration": 136,
    "start_time": "2023-11-16T15:44:49.274Z"
   },
   {
    "duration": 148,
    "start_time": "2023-11-16T15:44:49.412Z"
   },
   {
    "duration": 23,
    "start_time": "2023-11-16T15:44:49.565Z"
   },
   {
    "duration": 893,
    "start_time": "2023-11-16T15:44:49.592Z"
   },
   {
    "duration": 194,
    "start_time": "2023-11-16T15:44:50.487Z"
   },
   {
    "duration": 429,
    "start_time": "2023-11-16T15:44:50.691Z"
   },
   {
    "duration": 274,
    "start_time": "2023-11-16T15:44:51.122Z"
   },
   {
    "duration": 3,
    "start_time": "2023-11-16T15:44:51.398Z"
   },
   {
    "duration": 21,
    "start_time": "2023-11-16T15:44:51.403Z"
   },
   {
    "duration": 87,
    "start_time": "2023-11-16T15:44:51.426Z"
   },
   {
    "duration": 333,
    "start_time": "2023-11-16T15:44:51.515Z"
   },
   {
    "duration": 2666,
    "start_time": "2023-11-16T15:47:33.119Z"
   },
   {
    "duration": 1597,
    "start_time": "2023-11-16T15:47:35.787Z"
   },
   {
    "duration": 995,
    "start_time": "2023-11-16T15:47:37.385Z"
   },
   {
    "duration": 1776,
    "start_time": "2023-11-16T15:47:38.382Z"
   },
   {
    "duration": 41,
    "start_time": "2023-11-16T15:47:40.161Z"
   },
   {
    "duration": 111,
    "start_time": "2023-11-16T15:47:40.204Z"
   },
   {
    "duration": 7,
    "start_time": "2023-11-16T15:47:40.316Z"
   },
   {
    "duration": 55,
    "start_time": "2023-11-16T15:47:40.324Z"
   },
   {
    "duration": 159,
    "start_time": "2023-11-16T15:47:40.381Z"
   },
   {
    "duration": 56,
    "start_time": "2023-11-16T15:47:40.543Z"
   },
   {
    "duration": 58,
    "start_time": "2023-11-16T15:47:40.601Z"
   },
   {
    "duration": 18,
    "start_time": "2023-11-16T15:47:40.661Z"
   },
   {
    "duration": 73,
    "start_time": "2023-11-16T15:47:40.680Z"
   },
   {
    "duration": 532,
    "start_time": "2023-11-16T15:47:40.755Z"
   },
   {
    "duration": 24,
    "start_time": "2023-11-16T15:47:41.289Z"
   },
   {
    "duration": 65,
    "start_time": "2023-11-16T15:47:41.315Z"
   },
   {
    "duration": 274,
    "start_time": "2023-11-16T15:47:41.382Z"
   },
   {
    "duration": 29,
    "start_time": "2023-11-16T15:47:41.658Z"
   },
   {
    "duration": 48,
    "start_time": "2023-11-16T15:47:41.689Z"
   },
   {
    "duration": 251,
    "start_time": "2023-11-16T15:47:41.738Z"
   },
   {
    "duration": 235,
    "start_time": "2023-11-16T15:47:41.991Z"
   },
   {
    "duration": 46,
    "start_time": "2023-11-16T15:47:42.229Z"
   },
   {
    "duration": 10,
    "start_time": "2023-11-16T15:47:42.277Z"
   },
   {
    "duration": 5,
    "start_time": "2023-11-16T15:47:42.288Z"
   },
   {
    "duration": 318,
    "start_time": "2023-11-16T15:47:42.294Z"
   },
   {
    "duration": 201,
    "start_time": "2023-11-16T15:47:42.614Z"
   },
   {
    "duration": 462,
    "start_time": "2023-11-16T15:47:42.817Z"
   },
   {
    "duration": 132,
    "start_time": "2023-11-16T15:47:43.285Z"
   },
   {
    "duration": 392,
    "start_time": "2023-11-16T15:47:43.419Z"
   },
   {
    "duration": 675,
    "start_time": "2023-11-16T15:47:43.814Z"
   },
   {
    "duration": 1219,
    "start_time": "2023-11-16T15:47:44.491Z"
   },
   {
    "duration": 41,
    "start_time": "2023-11-16T15:47:45.712Z"
   },
   {
    "duration": 1194,
    "start_time": "2023-11-16T15:47:45.755Z"
   },
   {
    "duration": 105,
    "start_time": "2023-11-16T15:47:46.951Z"
   },
   {
    "duration": 134,
    "start_time": "2023-11-16T15:47:47.064Z"
   },
   {
    "duration": 15,
    "start_time": "2023-11-16T15:47:47.200Z"
   },
   {
    "duration": 743,
    "start_time": "2023-11-16T15:47:47.216Z"
   },
   {
    "duration": 164,
    "start_time": "2023-11-16T15:47:47.960Z"
   },
   {
    "duration": 384,
    "start_time": "2023-11-16T15:47:48.126Z"
   },
   {
    "duration": 229,
    "start_time": "2023-11-16T15:47:48.512Z"
   },
   {
    "duration": 3,
    "start_time": "2023-11-16T15:47:48.743Z"
   },
   {
    "duration": 22,
    "start_time": "2023-11-16T15:47:48.748Z"
   },
   {
    "duration": 66,
    "start_time": "2023-11-16T15:47:48.778Z"
   },
   {
    "duration": 2870,
    "start_time": "2023-11-16T16:10:46.664Z"
   },
   {
    "duration": 1637,
    "start_time": "2023-11-16T16:10:49.646Z"
   },
   {
    "duration": 1030,
    "start_time": "2023-11-16T16:10:51.849Z"
   },
   {
    "duration": 1836,
    "start_time": "2023-11-16T16:10:52.893Z"
   },
   {
    "duration": 36,
    "start_time": "2023-11-16T16:10:57.798Z"
   },
   {
    "duration": 94,
    "start_time": "2023-11-16T16:10:58.402Z"
   },
   {
    "duration": 8,
    "start_time": "2023-11-16T16:10:58.678Z"
   },
   {
    "duration": 39,
    "start_time": "2023-11-16T16:10:59.098Z"
   },
   {
    "duration": 168,
    "start_time": "2023-11-16T16:10:59.314Z"
   },
   {
    "duration": 45,
    "start_time": "2023-11-16T16:11:00.054Z"
   },
   {
    "duration": 58,
    "start_time": "2023-11-16T16:11:00.490Z"
   },
   {
    "duration": 12,
    "start_time": "2023-11-16T16:11:00.694Z"
   },
   {
    "duration": 58,
    "start_time": "2023-11-16T16:11:00.897Z"
   },
   {
    "duration": 523,
    "start_time": "2023-11-16T16:11:01.298Z"
   },
   {
    "duration": 26,
    "start_time": "2023-11-16T16:11:01.823Z"
   },
   {
    "duration": 50,
    "start_time": "2023-11-16T16:11:02.290Z"
   },
   {
    "duration": 268,
    "start_time": "2023-11-16T16:11:02.442Z"
   },
   {
    "duration": 20,
    "start_time": "2023-11-16T16:11:02.712Z"
   },
   {
    "duration": 64,
    "start_time": "2023-11-16T16:11:03.034Z"
   },
   {
    "duration": 213,
    "start_time": "2023-11-16T16:11:05.042Z"
   },
   {
    "duration": 235,
    "start_time": "2023-11-16T16:11:06.042Z"
   },
   {
    "duration": 30,
    "start_time": "2023-11-16T16:11:07.458Z"
   },
   {
    "duration": 17,
    "start_time": "2023-11-16T16:11:10.458Z"
   },
   {
    "duration": 4,
    "start_time": "2023-11-16T16:11:11.538Z"
   },
   {
    "duration": 315,
    "start_time": "2023-11-16T16:11:12.862Z"
   },
   {
    "duration": 5,
    "start_time": "2023-11-16T16:11:14.250Z"
   },
   {
    "duration": 190,
    "start_time": "2023-11-16T16:12:15.194Z"
   },
   {
    "duration": 412,
    "start_time": "2023-11-16T16:12:15.903Z"
   },
   {
    "duration": 106,
    "start_time": "2023-11-16T16:12:17.618Z"
   },
   {
    "duration": 360,
    "start_time": "2023-11-16T16:12:33.123Z"
   },
   {
    "duration": 641,
    "start_time": "2023-11-16T16:12:34.086Z"
   },
   {
    "duration": 1216,
    "start_time": "2023-11-16T16:12:35.118Z"
   },
   {
    "duration": 44,
    "start_time": "2023-11-16T16:12:36.336Z"
   },
   {
    "duration": 1248,
    "start_time": "2023-11-16T16:12:36.382Z"
   },
   {
    "duration": 105,
    "start_time": "2023-11-16T16:12:37.632Z"
   },
   {
    "duration": 2650,
    "start_time": "2023-11-16T16:33:42.379Z"
   },
   {
    "duration": 1670,
    "start_time": "2023-11-16T16:33:45.031Z"
   },
   {
    "duration": 981,
    "start_time": "2023-11-16T16:33:46.703Z"
   },
   {
    "duration": 1784,
    "start_time": "2023-11-16T16:33:47.686Z"
   },
   {
    "duration": 40,
    "start_time": "2023-11-16T16:33:49.476Z"
   },
   {
    "duration": 113,
    "start_time": "2023-11-16T16:33:49.518Z"
   },
   {
    "duration": 8,
    "start_time": "2023-11-16T16:33:49.633Z"
   },
   {
    "duration": 65,
    "start_time": "2023-11-16T16:33:49.643Z"
   },
   {
    "duration": 208,
    "start_time": "2023-11-16T16:33:49.710Z"
   },
   {
    "duration": 62,
    "start_time": "2023-11-16T16:33:49.921Z"
   },
   {
    "duration": 58,
    "start_time": "2023-11-16T16:33:49.996Z"
   },
   {
    "duration": 25,
    "start_time": "2023-11-16T16:33:50.056Z"
   },
   {
    "duration": 56,
    "start_time": "2023-11-16T16:33:50.086Z"
   },
   {
    "duration": 559,
    "start_time": "2023-11-16T16:33:50.144Z"
   },
   {
    "duration": 25,
    "start_time": "2023-11-16T16:33:50.705Z"
   },
   {
    "duration": 81,
    "start_time": "2023-11-16T16:33:50.731Z"
   },
   {
    "duration": 292,
    "start_time": "2023-11-16T16:33:50.814Z"
   },
   {
    "duration": 23,
    "start_time": "2023-11-16T16:33:51.107Z"
   },
   {
    "duration": 69,
    "start_time": "2023-11-16T16:33:51.132Z"
   },
   {
    "duration": 275,
    "start_time": "2023-11-16T16:33:51.203Z"
   },
   {
    "duration": 232,
    "start_time": "2023-11-16T16:33:51.481Z"
   },
   {
    "duration": 26,
    "start_time": "2023-11-16T16:33:51.715Z"
   },
   {
    "duration": 10,
    "start_time": "2023-11-16T16:33:51.744Z"
   },
   {
    "duration": 19,
    "start_time": "2023-11-16T16:33:51.755Z"
   },
   {
    "duration": 445,
    "start_time": "2023-11-16T16:33:51.778Z"
   },
   {
    "duration": 13,
    "start_time": "2023-11-16T16:33:52.265Z"
   },
   {
    "duration": 253,
    "start_time": "2023-11-16T16:33:52.280Z"
   },
   {
    "duration": 467,
    "start_time": "2023-11-16T16:33:52.537Z"
   },
   {
    "duration": 114,
    "start_time": "2023-11-16T16:33:53.006Z"
   },
   {
    "duration": 397,
    "start_time": "2023-11-16T16:33:53.122Z"
   },
   {
    "duration": 691,
    "start_time": "2023-11-16T16:33:53.521Z"
   },
   {
    "duration": 1211,
    "start_time": "2023-11-16T16:33:54.214Z"
   },
   {
    "duration": 30,
    "start_time": "2023-11-16T16:33:55.427Z"
   },
   {
    "duration": 1217,
    "start_time": "2023-11-16T16:33:55.465Z"
   },
   {
    "duration": 106,
    "start_time": "2023-11-16T16:33:56.684Z"
   },
   {
    "duration": 123,
    "start_time": "2023-11-16T16:33:56.792Z"
   },
   {
    "duration": 23,
    "start_time": "2023-11-16T16:35:04.764Z"
   },
   {
    "duration": 732,
    "start_time": "2023-11-16T16:35:18.180Z"
   },
   {
    "duration": 162,
    "start_time": "2023-11-16T16:35:19.258Z"
   },
   {
    "duration": 394,
    "start_time": "2023-11-16T16:35:28.987Z"
   },
   {
    "duration": 246,
    "start_time": "2023-11-16T16:35:32.936Z"
   },
   {
    "duration": 148,
    "start_time": "2023-11-16T16:36:44.645Z"
   },
   {
    "duration": 2653,
    "start_time": "2023-11-16T16:39:35.879Z"
   },
   {
    "duration": 1612,
    "start_time": "2023-11-16T16:39:38.534Z"
   },
   {
    "duration": 978,
    "start_time": "2023-11-16T16:39:40.147Z"
   },
   {
    "duration": 1762,
    "start_time": "2023-11-16T16:39:41.127Z"
   },
   {
    "duration": 39,
    "start_time": "2023-11-16T16:39:42.890Z"
   },
   {
    "duration": 105,
    "start_time": "2023-11-16T16:39:42.931Z"
   },
   {
    "duration": 6,
    "start_time": "2023-11-16T16:39:43.038Z"
   },
   {
    "duration": 56,
    "start_time": "2023-11-16T16:39:43.046Z"
   },
   {
    "duration": 173,
    "start_time": "2023-11-16T16:39:43.104Z"
   },
   {
    "duration": 39,
    "start_time": "2023-11-16T16:39:43.281Z"
   },
   {
    "duration": 74,
    "start_time": "2023-11-16T16:39:43.321Z"
   },
   {
    "duration": 12,
    "start_time": "2023-11-16T16:39:43.397Z"
   },
   {
    "duration": 73,
    "start_time": "2023-11-16T16:39:43.410Z"
   },
   {
    "duration": 534,
    "start_time": "2023-11-16T16:39:43.485Z"
   },
   {
    "duration": 21,
    "start_time": "2023-11-16T16:39:44.021Z"
   },
   {
    "duration": 70,
    "start_time": "2023-11-16T16:39:44.043Z"
   },
   {
    "duration": 268,
    "start_time": "2023-11-16T16:39:44.115Z"
   },
   {
    "duration": 20,
    "start_time": "2023-11-16T16:39:44.384Z"
   },
   {
    "duration": 73,
    "start_time": "2023-11-16T16:39:44.405Z"
   },
   {
    "duration": 217,
    "start_time": "2023-11-16T16:39:44.480Z"
   },
   {
    "duration": 256,
    "start_time": "2023-11-16T16:39:44.699Z"
   },
   {
    "duration": 31,
    "start_time": "2023-11-16T16:39:44.957Z"
   },
   {
    "duration": 9,
    "start_time": "2023-11-16T16:39:44.990Z"
   },
   {
    "duration": 38,
    "start_time": "2023-11-16T16:39:45.001Z"
   },
   {
    "duration": 337,
    "start_time": "2023-11-16T16:39:45.040Z"
   },
   {
    "duration": 6,
    "start_time": "2023-11-16T16:39:45.379Z"
   },
   {
    "duration": 197,
    "start_time": "2023-11-16T16:39:45.386Z"
   },
   {
    "duration": 438,
    "start_time": "2023-11-16T16:39:45.586Z"
   },
   {
    "duration": 102,
    "start_time": "2023-11-16T16:39:46.026Z"
   },
   {
    "duration": 377,
    "start_time": "2023-11-16T16:39:46.129Z"
   },
   {
    "duration": 678,
    "start_time": "2023-11-16T16:39:46.508Z"
   },
   {
    "duration": 1216,
    "start_time": "2023-11-16T16:39:47.188Z"
   },
   {
    "duration": 31,
    "start_time": "2023-11-16T16:39:48.406Z"
   },
   {
    "duration": 1240,
    "start_time": "2023-11-16T16:39:48.438Z"
   },
   {
    "duration": 147,
    "start_time": "2023-11-16T16:39:49.683Z"
   },
   {
    "duration": 130,
    "start_time": "2023-11-16T16:39:49.832Z"
   },
   {
    "duration": 21,
    "start_time": "2023-11-16T16:39:49.966Z"
   },
   {
    "duration": 788,
    "start_time": "2023-11-16T16:39:49.989Z"
   },
   {
    "duration": 165,
    "start_time": "2023-11-16T16:39:50.779Z"
   },
   {
    "duration": 408,
    "start_time": "2023-11-16T16:39:52.872Z"
   },
   {
    "duration": 239,
    "start_time": "2023-11-16T16:39:54.743Z"
   },
   {
    "duration": 3,
    "start_time": "2023-11-16T16:40:43.805Z"
   },
   {
    "duration": 3,
    "start_time": "2023-11-16T16:40:45.561Z"
   },
   {
    "duration": 3,
    "start_time": "2023-11-16T16:41:35.841Z"
   },
   {
    "duration": 2766,
    "start_time": "2023-11-16T16:54:29.237Z"
   },
   {
    "duration": 1580,
    "start_time": "2023-11-16T16:54:32.006Z"
   },
   {
    "duration": 1016,
    "start_time": "2023-11-16T16:54:33.588Z"
   },
   {
    "duration": 1833,
    "start_time": "2023-11-16T16:54:34.606Z"
   },
   {
    "duration": 46,
    "start_time": "2023-11-16T16:54:36.441Z"
   },
   {
    "duration": 101,
    "start_time": "2023-11-16T16:54:36.488Z"
   },
   {
    "duration": 11,
    "start_time": "2023-11-16T16:54:36.591Z"
   },
   {
    "duration": 42,
    "start_time": "2023-11-16T16:54:36.604Z"
   },
   {
    "duration": 167,
    "start_time": "2023-11-16T16:54:36.647Z"
   },
   {
    "duration": 37,
    "start_time": "2023-11-16T16:54:36.815Z"
   },
   {
    "duration": 69,
    "start_time": "2023-11-16T16:54:36.865Z"
   },
   {
    "duration": 11,
    "start_time": "2023-11-16T16:54:36.936Z"
   },
   {
    "duration": 70,
    "start_time": "2023-11-16T16:54:36.948Z"
   },
   {
    "duration": 530,
    "start_time": "2023-11-16T16:54:37.021Z"
   },
   {
    "duration": 34,
    "start_time": "2023-11-16T16:54:37.553Z"
   },
   {
    "duration": 51,
    "start_time": "2023-11-16T16:54:37.589Z"
   },
   {
    "duration": 294,
    "start_time": "2023-11-16T16:54:37.642Z"
   },
   {
    "duration": 39,
    "start_time": "2023-11-16T16:54:37.938Z"
   },
   {
    "duration": 49,
    "start_time": "2023-11-16T16:54:37.979Z"
   },
   {
    "duration": 262,
    "start_time": "2023-11-16T16:54:38.030Z"
   },
   {
    "duration": 232,
    "start_time": "2023-11-16T16:54:38.294Z"
   },
   {
    "duration": 41,
    "start_time": "2023-11-16T16:54:38.528Z"
   },
   {
    "duration": 16,
    "start_time": "2023-11-16T16:54:38.570Z"
   },
   {
    "duration": 6,
    "start_time": "2023-11-16T16:54:38.588Z"
   },
   {
    "duration": 331,
    "start_time": "2023-11-16T16:54:38.596Z"
   },
   {
    "duration": 5,
    "start_time": "2023-11-16T16:54:38.928Z"
   },
   {
    "duration": 247,
    "start_time": "2023-11-16T16:54:38.935Z"
   },
   {
    "duration": 419,
    "start_time": "2023-11-16T16:54:39.186Z"
   },
   {
    "duration": 124,
    "start_time": "2023-11-16T16:54:39.607Z"
   },
   {
    "duration": 403,
    "start_time": "2023-11-16T16:54:39.733Z"
   },
   {
    "duration": 663,
    "start_time": "2023-11-16T16:54:40.138Z"
   },
   {
    "duration": 1184,
    "start_time": "2023-11-16T16:54:40.803Z"
   },
   {
    "duration": 31,
    "start_time": "2023-11-16T16:54:41.989Z"
   },
   {
    "duration": 1205,
    "start_time": "2023-11-16T16:54:42.022Z"
   },
   {
    "duration": 106,
    "start_time": "2023-11-16T16:54:43.229Z"
   },
   {
    "duration": 130,
    "start_time": "2023-11-16T16:54:43.336Z"
   },
   {
    "duration": 17,
    "start_time": "2023-11-16T16:54:43.473Z"
   },
   {
    "duration": 787,
    "start_time": "2023-11-16T16:54:43.491Z"
   },
   {
    "duration": 171,
    "start_time": "2023-11-16T16:54:44.281Z"
   },
   {
    "duration": 385,
    "start_time": "2023-11-16T16:54:44.454Z"
   },
   {
    "duration": 253,
    "start_time": "2023-11-16T16:54:44.842Z"
   },
   {
    "duration": 50217,
    "start_time": "2023-11-16T16:54:45.097Z"
   },
   {
    "duration": 314971,
    "start_time": "2023-11-16T16:55:35.315Z"
   },
   {
    "duration": 78,
    "start_time": "2023-11-16T17:00:50.288Z"
   },
   {
    "duration": 2659,
    "start_time": "2023-11-16T17:35:53.697Z"
   },
   {
    "duration": 1671,
    "start_time": "2023-11-16T17:35:56.359Z"
   },
   {
    "duration": 990,
    "start_time": "2023-11-16T17:35:58.032Z"
   },
   {
    "duration": 1832,
    "start_time": "2023-11-16T17:35:59.024Z"
   },
   {
    "duration": 48,
    "start_time": "2023-11-16T17:36:00.857Z"
   },
   {
    "duration": 116,
    "start_time": "2023-11-16T17:36:00.907Z"
   },
   {
    "duration": 6,
    "start_time": "2023-11-16T17:36:01.025Z"
   },
   {
    "duration": 98,
    "start_time": "2023-11-16T17:36:01.032Z"
   },
   {
    "duration": 179,
    "start_time": "2023-11-16T17:36:01.133Z"
   },
   {
    "duration": 39,
    "start_time": "2023-11-16T17:36:01.316Z"
   },
   {
    "duration": 85,
    "start_time": "2023-11-16T17:36:01.365Z"
   },
   {
    "duration": 11,
    "start_time": "2023-11-16T17:36:01.451Z"
   },
   {
    "duration": 115,
    "start_time": "2023-11-16T17:36:01.463Z"
   },
   {
    "duration": 550,
    "start_time": "2023-11-16T17:36:01.580Z"
   },
   {
    "duration": 24,
    "start_time": "2023-11-16T17:36:02.132Z"
   },
   {
    "duration": 64,
    "start_time": "2023-11-16T17:36:02.166Z"
   },
   {
    "duration": 299,
    "start_time": "2023-11-16T17:36:02.232Z"
   },
   {
    "duration": 22,
    "start_time": "2023-11-16T17:36:02.533Z"
   },
   {
    "duration": 52,
    "start_time": "2023-11-16T17:36:02.569Z"
   },
   {
    "duration": 229,
    "start_time": "2023-11-16T17:36:02.623Z"
   },
   {
    "duration": 231,
    "start_time": "2023-11-16T17:36:02.854Z"
   },
   {
    "duration": 26,
    "start_time": "2023-11-16T17:36:03.087Z"
   },
   {
    "duration": 9,
    "start_time": "2023-11-16T17:36:03.115Z"
   },
   {
    "duration": 5,
    "start_time": "2023-11-16T17:36:03.126Z"
   },
   {
    "duration": 350,
    "start_time": "2023-11-16T17:36:03.132Z"
   },
   {
    "duration": 4,
    "start_time": "2023-11-16T17:36:03.484Z"
   },
   {
    "duration": 216,
    "start_time": "2023-11-16T17:36:03.489Z"
   },
   {
    "duration": 517,
    "start_time": "2023-11-16T17:36:03.709Z"
   },
   {
    "duration": 115,
    "start_time": "2023-11-16T17:36:04.227Z"
   },
   {
    "duration": 407,
    "start_time": "2023-11-16T17:36:04.343Z"
   },
   {
    "duration": 721,
    "start_time": "2023-11-16T17:36:04.752Z"
   },
   {
    "duration": 1312,
    "start_time": "2023-11-16T17:36:05.475Z"
   },
   {
    "duration": 41,
    "start_time": "2023-11-16T17:36:06.789Z"
   },
   {
    "duration": 1265,
    "start_time": "2023-11-16T17:36:06.831Z"
   },
   {
    "duration": 108,
    "start_time": "2023-11-16T17:36:08.098Z"
   },
   {
    "duration": 134,
    "start_time": "2023-11-16T17:36:08.208Z"
   },
   {
    "duration": 35,
    "start_time": "2023-11-16T17:36:08.343Z"
   },
   {
    "duration": 887,
    "start_time": "2023-11-16T17:36:08.381Z"
   },
   {
    "duration": 201,
    "start_time": "2023-11-16T17:36:09.279Z"
   },
   {
    "duration": 417,
    "start_time": "2023-11-16T17:36:09.482Z"
   },
   {
    "duration": 229,
    "start_time": "2023-11-16T17:36:09.902Z"
   },
   {
    "duration": 49747,
    "start_time": "2023-11-16T17:36:10.133Z"
   },
   {
    "duration": 314200,
    "start_time": "2023-11-16T17:36:59.882Z"
   },
   {
    "duration": 68,
    "start_time": "2023-11-16T17:42:14.084Z"
   },
   {
    "duration": 2497,
    "start_time": "2023-11-17T01:35:52.414Z"
   },
   {
    "duration": 1511,
    "start_time": "2023-11-17T01:35:54.913Z"
   },
   {
    "duration": 1043,
    "start_time": "2023-11-17T01:35:56.425Z"
   },
   {
    "duration": 1561,
    "start_time": "2023-11-17T01:35:57.470Z"
   },
   {
    "duration": 35,
    "start_time": "2023-11-17T01:35:59.033Z"
   },
   {
    "duration": 15,
    "start_time": "2023-11-17T01:35:59.070Z"
   },
   {
    "duration": 5,
    "start_time": "2023-11-17T01:35:59.086Z"
   },
   {
    "duration": 53,
    "start_time": "2023-11-17T01:35:59.092Z"
   },
   {
    "duration": 134,
    "start_time": "2023-11-17T01:35:59.147Z"
   },
   {
    "duration": 33,
    "start_time": "2023-11-17T01:35:59.283Z"
   },
   {
    "duration": 61,
    "start_time": "2023-11-17T01:35:59.318Z"
   },
   {
    "duration": 9,
    "start_time": "2023-11-17T01:35:59.381Z"
   },
   {
    "duration": 74,
    "start_time": "2023-11-17T01:35:59.392Z"
   },
   {
    "duration": 375,
    "start_time": "2023-11-17T01:35:59.467Z"
   },
   {
    "duration": 24,
    "start_time": "2023-11-17T01:35:59.843Z"
   },
   {
    "duration": 50,
    "start_time": "2023-11-17T01:35:59.869Z"
   },
   {
    "duration": 221,
    "start_time": "2023-11-17T01:35:59.921Z"
   },
   {
    "duration": 24,
    "start_time": "2023-11-17T01:36:00.143Z"
   },
   {
    "duration": 60,
    "start_time": "2023-11-17T01:36:00.168Z"
   },
   {
    "duration": 190,
    "start_time": "2023-11-17T01:36:00.229Z"
   },
   {
    "duration": 180,
    "start_time": "2023-11-17T01:36:00.421Z"
   },
   {
    "duration": 22,
    "start_time": "2023-11-17T01:36:00.602Z"
   },
   {
    "duration": 8,
    "start_time": "2023-11-17T01:36:00.625Z"
   },
   {
    "duration": 44,
    "start_time": "2023-11-17T01:36:00.635Z"
   },
   {
    "duration": 298,
    "start_time": "2023-11-17T01:36:00.681Z"
   },
   {
    "duration": 4,
    "start_time": "2023-11-17T01:36:00.980Z"
   },
   {
    "duration": 182,
    "start_time": "2023-11-17T01:36:00.986Z"
   },
   {
    "duration": 340,
    "start_time": "2023-11-17T01:36:01.171Z"
   },
   {
    "duration": 89,
    "start_time": "2023-11-17T01:36:01.512Z"
   },
   {
    "duration": 389,
    "start_time": "2023-11-17T01:36:01.603Z"
   },
   {
    "duration": 466,
    "start_time": "2023-11-17T01:36:01.994Z"
   },
   {
    "duration": 970,
    "start_time": "2023-11-17T01:36:02.461Z"
   },
   {
    "duration": 29,
    "start_time": "2023-11-17T01:36:03.432Z"
   },
   {
    "duration": 972,
    "start_time": "2023-11-17T01:36:03.462Z"
   },
   {
    "duration": 86,
    "start_time": "2023-11-17T01:36:04.435Z"
   },
   {
    "duration": 111,
    "start_time": "2023-11-17T01:36:04.522Z"
   },
   {
    "duration": 20,
    "start_time": "2023-11-17T01:36:04.635Z"
   },
   {
    "duration": 565,
    "start_time": "2023-11-17T01:36:04.656Z"
   },
   {
    "duration": 111,
    "start_time": "2023-11-17T01:36:05.223Z"
   },
   {
    "duration": 332,
    "start_time": "2023-11-17T01:36:05.335Z"
   },
   {
    "duration": 179,
    "start_time": "2023-11-17T01:36:05.669Z"
   },
   {
    "duration": 41242,
    "start_time": "2023-11-17T01:36:05.851Z"
   },
   {
    "duration": 252805,
    "start_time": "2023-11-17T01:36:47.094Z"
   },
   {
    "duration": 57,
    "start_time": "2023-11-17T01:40:59.901Z"
   },
   {
    "duration": 1567632,
    "start_time": "2023-11-17T01:40:59.959Z"
   },
   {
    "duration": 182,
    "start_time": "2023-11-17T02:07:07.593Z"
   },
   {
    "duration": 185978,
    "start_time": "2023-11-17T02:13:30.676Z"
   },
   {
    "duration": 181936,
    "start_time": "2023-11-17T02:20:40.040Z"
   },
   {
    "duration": 44,
    "start_time": "2023-11-17T10:03:15.961Z"
   },
   {
    "duration": 2697,
    "start_time": "2023-11-17T10:13:23.843Z"
   },
   {
    "duration": 1608,
    "start_time": "2023-11-17T10:13:26.543Z"
   },
   {
    "duration": 1113,
    "start_time": "2023-11-17T10:13:28.153Z"
   },
   {
    "duration": 1563,
    "start_time": "2023-11-17T10:13:29.269Z"
   },
   {
    "duration": 38,
    "start_time": "2023-11-17T10:13:30.834Z"
   },
   {
    "duration": 96,
    "start_time": "2023-11-17T10:13:30.874Z"
   },
   {
    "duration": 5,
    "start_time": "2023-11-17T10:13:30.972Z"
   },
   {
    "duration": 98,
    "start_time": "2023-11-17T10:13:30.979Z"
   },
   {
    "duration": 159,
    "start_time": "2023-11-17T10:13:31.078Z"
   },
   {
    "duration": 64,
    "start_time": "2023-11-17T10:13:31.239Z"
   },
   {
    "duration": 61,
    "start_time": "2023-11-17T10:13:31.304Z"
   },
   {
    "duration": 10,
    "start_time": "2023-11-17T10:13:31.366Z"
   },
   {
    "duration": 77,
    "start_time": "2023-11-17T10:13:31.378Z"
   },
   {
    "duration": 446,
    "start_time": "2023-11-17T10:13:31.457Z"
   },
   {
    "duration": 20,
    "start_time": "2023-11-17T10:13:31.905Z"
   },
   {
    "duration": 52,
    "start_time": "2023-11-17T10:13:31.927Z"
   },
   {
    "duration": 235,
    "start_time": "2023-11-17T10:13:31.981Z"
   },
   {
    "duration": 20,
    "start_time": "2023-11-17T10:13:32.217Z"
   },
   {
    "duration": 53,
    "start_time": "2023-11-17T10:13:32.238Z"
   },
   {
    "duration": 194,
    "start_time": "2023-11-17T10:13:32.293Z"
   },
   {
    "duration": 196,
    "start_time": "2023-11-17T10:13:32.489Z"
   },
   {
    "duration": 23,
    "start_time": "2023-11-17T10:13:32.686Z"
   },
   {
    "duration": 9,
    "start_time": "2023-11-17T10:13:32.711Z"
   },
   {
    "duration": 5,
    "start_time": "2023-11-17T10:13:32.721Z"
   },
   {
    "duration": 280,
    "start_time": "2023-11-17T10:13:32.727Z"
   },
   {
    "duration": 5,
    "start_time": "2023-11-17T10:13:33.009Z"
   },
   {
    "duration": 183,
    "start_time": "2023-11-17T10:13:33.015Z"
   },
   {
    "duration": 352,
    "start_time": "2023-11-17T10:13:33.202Z"
   },
   {
    "duration": 103,
    "start_time": "2023-11-17T10:13:33.555Z"
   },
   {
    "duration": 346,
    "start_time": "2023-11-17T10:13:33.660Z"
   },
   {
    "duration": 572,
    "start_time": "2023-11-17T10:13:34.008Z"
   },
   {
    "duration": 1083,
    "start_time": "2023-11-17T10:13:34.581Z"
   },
   {
    "duration": 29,
    "start_time": "2023-11-17T10:13:35.666Z"
   },
   {
    "duration": 1061,
    "start_time": "2023-11-17T10:13:35.697Z"
   },
   {
    "duration": 92,
    "start_time": "2023-11-17T10:13:36.760Z"
   },
   {
    "duration": 107,
    "start_time": "2023-11-17T10:13:36.854Z"
   },
   {
    "duration": 14,
    "start_time": "2023-11-17T10:13:36.962Z"
   },
   {
    "duration": 602,
    "start_time": "2023-11-17T10:13:36.977Z"
   },
   {
    "duration": 134,
    "start_time": "2023-11-17T10:13:37.580Z"
   },
   {
    "duration": 354,
    "start_time": "2023-11-17T10:13:37.715Z"
   },
   {
    "duration": 205,
    "start_time": "2023-11-17T10:13:38.071Z"
   },
   {
    "duration": 43835,
    "start_time": "2023-11-17T10:13:38.277Z"
   },
   {
    "duration": 263754,
    "start_time": "2023-11-17T10:14:22.113Z"
   },
   {
    "duration": 62,
    "start_time": "2023-11-17T10:18:45.869Z"
   },
   {
    "duration": 993434,
    "start_time": "2023-11-17T10:18:45.932Z"
   },
   {
    "duration": 2481,
    "start_time": "2023-11-17T10:51:20.153Z"
   },
   {
    "duration": 1402,
    "start_time": "2023-11-17T10:51:22.636Z"
   },
   {
    "duration": 812,
    "start_time": "2023-11-17T10:51:24.040Z"
   },
   {
    "duration": 1522,
    "start_time": "2023-11-17T10:51:24.854Z"
   },
   {
    "duration": 33,
    "start_time": "2023-11-17T10:51:26.379Z"
   },
   {
    "duration": 86,
    "start_time": "2023-11-17T10:51:26.413Z"
   },
   {
    "duration": 5,
    "start_time": "2023-11-17T10:51:26.500Z"
   },
   {
    "duration": 46,
    "start_time": "2023-11-17T10:51:26.506Z"
   },
   {
    "duration": 139,
    "start_time": "2023-11-17T10:51:26.554Z"
   },
   {
    "duration": 33,
    "start_time": "2023-11-17T10:51:26.694Z"
   },
   {
    "duration": 67,
    "start_time": "2023-11-17T10:51:26.728Z"
   },
   {
    "duration": 10,
    "start_time": "2023-11-17T10:51:26.797Z"
   },
   {
    "duration": 66,
    "start_time": "2023-11-17T10:51:26.809Z"
   },
   {
    "duration": 418,
    "start_time": "2023-11-17T10:51:26.877Z"
   },
   {
    "duration": 28,
    "start_time": "2023-11-17T10:51:27.297Z"
   },
   {
    "duration": 58,
    "start_time": "2023-11-17T10:51:27.327Z"
   },
   {
    "duration": 234,
    "start_time": "2023-11-17T10:51:27.387Z"
   },
   {
    "duration": 18,
    "start_time": "2023-11-17T10:51:27.622Z"
   },
   {
    "duration": 54,
    "start_time": "2023-11-17T10:51:27.641Z"
   },
   {
    "duration": 207,
    "start_time": "2023-11-17T10:51:27.696Z"
   },
   {
    "duration": 192,
    "start_time": "2023-11-17T10:51:27.904Z"
   },
   {
    "duration": 23,
    "start_time": "2023-11-17T10:51:28.097Z"
   },
   {
    "duration": 9,
    "start_time": "2023-11-17T10:51:28.121Z"
   },
   {
    "duration": 20,
    "start_time": "2023-11-17T10:51:28.132Z"
   },
   {
    "duration": 267,
    "start_time": "2023-11-17T10:51:28.154Z"
   },
   {
    "duration": 4,
    "start_time": "2023-11-17T10:51:28.423Z"
   },
   {
    "duration": 172,
    "start_time": "2023-11-17T10:51:28.428Z"
   },
   {
    "duration": 370,
    "start_time": "2023-11-17T10:51:28.602Z"
   },
   {
    "duration": 91,
    "start_time": "2023-11-17T10:51:28.973Z"
   },
   {
    "duration": 340,
    "start_time": "2023-11-17T10:51:29.065Z"
   },
   {
    "duration": 582,
    "start_time": "2023-11-17T10:51:29.407Z"
   },
   {
    "duration": 1023,
    "start_time": "2023-11-17T10:51:29.991Z"
   },
   {
    "duration": 37,
    "start_time": "2023-11-17T10:51:31.016Z"
   },
   {
    "duration": 1039,
    "start_time": "2023-11-17T10:51:31.054Z"
   },
   {
    "duration": 93,
    "start_time": "2023-11-17T10:51:32.095Z"
   },
   {
    "duration": 123,
    "start_time": "2023-11-17T10:51:32.189Z"
   },
   {
    "duration": 13,
    "start_time": "2023-11-17T10:51:32.314Z"
   },
   {
    "duration": 582,
    "start_time": "2023-11-17T10:51:32.329Z"
   },
   {
    "duration": 138,
    "start_time": "2023-11-17T10:51:32.912Z"
   },
   {
    "duration": 361,
    "start_time": "2023-11-17T10:51:33.052Z"
   },
   {
    "duration": 187,
    "start_time": "2023-11-17T10:51:33.418Z"
   },
   {
    "duration": 43368,
    "start_time": "2023-11-17T10:51:33.607Z"
   },
   {
    "duration": 3,
    "start_time": "2023-11-17T10:52:16.977Z"
   },
   {
    "duration": 73,
    "start_time": "2023-11-17T10:52:16.982Z"
   },
   {
    "duration": 3,
    "start_time": "2023-11-17T10:52:17.057Z"
   },
   {
    "duration": 2410,
    "start_time": "2023-11-17T10:55:05.706Z"
   },
   {
    "duration": 1443,
    "start_time": "2023-11-17T10:55:08.119Z"
   },
   {
    "duration": 851,
    "start_time": "2023-11-17T10:55:09.563Z"
   },
   {
    "duration": 1603,
    "start_time": "2023-11-17T10:55:10.416Z"
   },
   {
    "duration": 43,
    "start_time": "2023-11-17T10:55:12.020Z"
   },
   {
    "duration": 90,
    "start_time": "2023-11-17T10:55:12.065Z"
   },
   {
    "duration": 6,
    "start_time": "2023-11-17T10:55:12.157Z"
   },
   {
    "duration": 33,
    "start_time": "2023-11-17T10:55:12.165Z"
   },
   {
    "duration": 157,
    "start_time": "2023-11-17T10:55:12.199Z"
   },
   {
    "duration": 37,
    "start_time": "2023-11-17T10:55:12.359Z"
   },
   {
    "duration": 72,
    "start_time": "2023-11-17T10:55:12.397Z"
   },
   {
    "duration": 10,
    "start_time": "2023-11-17T10:55:12.471Z"
   },
   {
    "duration": 70,
    "start_time": "2023-11-17T10:55:12.483Z"
   },
   {
    "duration": 438,
    "start_time": "2023-11-17T10:55:12.555Z"
   },
   {
    "duration": 23,
    "start_time": "2023-11-17T10:55:12.995Z"
   },
   {
    "duration": 76,
    "start_time": "2023-11-17T10:55:13.020Z"
   },
   {
    "duration": 273,
    "start_time": "2023-11-17T10:55:13.098Z"
   },
   {
    "duration": 21,
    "start_time": "2023-11-17T10:55:13.373Z"
   },
   {
    "duration": 67,
    "start_time": "2023-11-17T10:55:13.395Z"
   },
   {
    "duration": 251,
    "start_time": "2023-11-17T10:55:13.464Z"
   },
   {
    "duration": 223,
    "start_time": "2023-11-17T10:55:13.717Z"
   },
   {
    "duration": 28,
    "start_time": "2023-11-17T10:55:13.942Z"
   },
   {
    "duration": 9,
    "start_time": "2023-11-17T10:55:13.972Z"
   },
   {
    "duration": 5,
    "start_time": "2023-11-17T10:55:13.982Z"
   },
   {
    "duration": 293,
    "start_time": "2023-11-17T10:55:13.988Z"
   },
   {
    "duration": 5,
    "start_time": "2023-11-17T10:55:14.282Z"
   },
   {
    "duration": 199,
    "start_time": "2023-11-17T10:55:14.289Z"
   },
   {
    "duration": 393,
    "start_time": "2023-11-17T10:55:14.493Z"
   },
   {
    "duration": 93,
    "start_time": "2023-11-17T10:55:14.887Z"
   },
   {
    "duration": 358,
    "start_time": "2023-11-17T10:55:14.981Z"
   },
   {
    "duration": 586,
    "start_time": "2023-11-17T10:55:15.340Z"
   },
   {
    "duration": 1032,
    "start_time": "2023-11-17T10:55:15.928Z"
   },
   {
    "duration": 35,
    "start_time": "2023-11-17T10:55:16.962Z"
   },
   {
    "duration": 1057,
    "start_time": "2023-11-17T10:55:16.998Z"
   },
   {
    "duration": 97,
    "start_time": "2023-11-17T10:55:18.057Z"
   },
   {
    "duration": 105,
    "start_time": "2023-11-17T10:55:18.155Z"
   },
   {
    "duration": 13,
    "start_time": "2023-11-17T10:55:18.263Z"
   },
   {
    "duration": 592,
    "start_time": "2023-11-17T10:55:18.277Z"
   },
   {
    "duration": 147,
    "start_time": "2023-11-17T10:55:18.871Z"
   },
   {
    "duration": 375,
    "start_time": "2023-11-17T10:55:19.019Z"
   },
   {
    "duration": 219,
    "start_time": "2023-11-17T10:55:19.396Z"
   },
   {
    "duration": 43671,
    "start_time": "2023-11-17T10:55:19.617Z"
   },
   {
    "duration": 2,
    "start_time": "2023-11-17T10:56:03.290Z"
   },
   {
    "duration": 69,
    "start_time": "2023-11-17T10:56:03.294Z"
   },
   {
    "duration": 3,
    "start_time": "2023-11-17T10:56:03.365Z"
   },
   {
    "duration": 384102,
    "start_time": "2023-11-17T10:56:03.369Z"
   },
   {
    "duration": 353,
    "start_time": "2023-11-17T11:02:27.472Z"
   },
   {
    "duration": 120,
    "start_time": "2023-11-17T11:02:27.826Z"
   },
   {
    "duration": 299,
    "start_time": "2023-11-17T11:02:27.948Z"
   },
   {
    "duration": 528,
    "start_time": "2023-11-17T11:02:28.249Z"
   },
   {
    "duration": 4309,
    "start_time": "2023-11-17T11:19:27.080Z"
   },
   {
    "duration": 2423,
    "start_time": "2023-11-17T11:32:09.102Z"
   },
   {
    "duration": 1398,
    "start_time": "2023-11-17T11:32:11.528Z"
   },
   {
    "duration": 848,
    "start_time": "2023-11-17T11:32:12.928Z"
   },
   {
    "duration": 1668,
    "start_time": "2023-11-17T11:32:13.779Z"
   },
   {
    "duration": 36,
    "start_time": "2023-11-17T11:32:15.451Z"
   },
   {
    "duration": 108,
    "start_time": "2023-11-17T11:32:15.489Z"
   },
   {
    "duration": 5,
    "start_time": "2023-11-17T11:32:15.599Z"
   },
   {
    "duration": 51,
    "start_time": "2023-11-17T11:32:15.606Z"
   },
   {
    "duration": 161,
    "start_time": "2023-11-17T11:32:15.659Z"
   },
   {
    "duration": 45,
    "start_time": "2023-11-17T11:32:15.823Z"
   },
   {
    "duration": 54,
    "start_time": "2023-11-17T11:32:15.869Z"
   },
   {
    "duration": 11,
    "start_time": "2023-11-17T11:32:15.925Z"
   },
   {
    "duration": 63,
    "start_time": "2023-11-17T11:32:15.953Z"
   },
   {
    "duration": 453,
    "start_time": "2023-11-17T11:32:16.017Z"
   },
   {
    "duration": 23,
    "start_time": "2023-11-17T11:32:16.472Z"
   },
   {
    "duration": 65,
    "start_time": "2023-11-17T11:32:16.496Z"
   },
   {
    "duration": 249,
    "start_time": "2023-11-17T11:32:16.563Z"
   },
   {
    "duration": 18,
    "start_time": "2023-11-17T11:32:16.813Z"
   },
   {
    "duration": 59,
    "start_time": "2023-11-17T11:32:16.833Z"
   },
   {
    "duration": 199,
    "start_time": "2023-11-17T11:32:16.894Z"
   },
   {
    "duration": 243,
    "start_time": "2023-11-17T11:32:17.095Z"
   },
   {
    "duration": 38,
    "start_time": "2023-11-17T11:32:17.340Z"
   },
   {
    "duration": 10,
    "start_time": "2023-11-17T11:32:17.381Z"
   },
   {
    "duration": 4,
    "start_time": "2023-11-17T11:32:17.393Z"
   },
   {
    "duration": 271,
    "start_time": "2023-11-17T11:32:17.398Z"
   },
   {
    "duration": 5,
    "start_time": "2023-11-17T11:32:17.670Z"
   },
   {
    "duration": 242,
    "start_time": "2023-11-17T11:32:17.676Z"
   },
   {
    "duration": 364,
    "start_time": "2023-11-17T11:32:17.924Z"
   },
   {
    "duration": 94,
    "start_time": "2023-11-17T11:32:18.290Z"
   },
   {
    "duration": 352,
    "start_time": "2023-11-17T11:32:18.385Z"
   },
   {
    "duration": 622,
    "start_time": "2023-11-17T11:32:18.738Z"
   },
   {
    "duration": 1106,
    "start_time": "2023-11-17T11:32:19.362Z"
   },
   {
    "duration": 32,
    "start_time": "2023-11-17T11:32:20.470Z"
   },
   {
    "duration": 1117,
    "start_time": "2023-11-17T11:32:20.503Z"
   },
   {
    "duration": 90,
    "start_time": "2023-11-17T11:32:21.621Z"
   },
   {
    "duration": 112,
    "start_time": "2023-11-17T11:32:21.713Z"
   },
   {
    "duration": 25,
    "start_time": "2023-11-17T11:32:21.827Z"
   },
   {
    "duration": 613,
    "start_time": "2023-11-17T11:32:21.853Z"
   },
   {
    "duration": 138,
    "start_time": "2023-11-17T11:32:22.468Z"
   },
   {
    "duration": 356,
    "start_time": "2023-11-17T11:32:22.608Z"
   },
   {
    "duration": 216,
    "start_time": "2023-11-17T11:32:22.966Z"
   },
   {
    "duration": 44295,
    "start_time": "2023-11-17T11:32:23.184Z"
   },
   {
    "duration": 2365,
    "start_time": "2023-11-17T11:33:42.811Z"
   },
   {
    "duration": 1342,
    "start_time": "2023-11-17T11:33:45.178Z"
   },
   {
    "duration": 825,
    "start_time": "2023-11-17T11:33:46.521Z"
   },
   {
    "duration": 1526,
    "start_time": "2023-11-17T11:33:47.349Z"
   },
   {
    "duration": 34,
    "start_time": "2023-11-17T11:33:48.876Z"
   },
   {
    "duration": 100,
    "start_time": "2023-11-17T11:33:48.911Z"
   },
   {
    "duration": 6,
    "start_time": "2023-11-17T11:33:49.012Z"
   },
   {
    "duration": 51,
    "start_time": "2023-11-17T11:33:49.019Z"
   },
   {
    "duration": 166,
    "start_time": "2023-11-17T11:33:49.072Z"
   },
   {
    "duration": 40,
    "start_time": "2023-11-17T11:33:49.251Z"
   },
   {
    "duration": 91,
    "start_time": "2023-11-17T11:33:49.293Z"
   },
   {
    "duration": 10,
    "start_time": "2023-11-17T11:33:49.385Z"
   },
   {
    "duration": 57,
    "start_time": "2023-11-17T11:33:49.397Z"
   },
   {
    "duration": 526,
    "start_time": "2023-11-17T11:33:49.456Z"
   },
   {
    "duration": 24,
    "start_time": "2023-11-17T11:33:49.983Z"
   },
   {
    "duration": 59,
    "start_time": "2023-11-17T11:33:50.009Z"
   },
   {
    "duration": 255,
    "start_time": "2023-11-17T11:33:50.070Z"
   },
   {
    "duration": 27,
    "start_time": "2023-11-17T11:33:50.327Z"
   },
   {
    "duration": 50,
    "start_time": "2023-11-17T11:33:50.355Z"
   },
   {
    "duration": 228,
    "start_time": "2023-11-17T11:33:50.407Z"
   },
   {
    "duration": 197,
    "start_time": "2023-11-17T11:33:50.637Z"
   },
   {
    "duration": 30,
    "start_time": "2023-11-17T11:33:50.835Z"
   },
   {
    "duration": 8,
    "start_time": "2023-11-17T11:33:50.866Z"
   },
   {
    "duration": 7,
    "start_time": "2023-11-17T11:33:50.875Z"
   },
   {
    "duration": 289,
    "start_time": "2023-11-17T11:33:50.883Z"
   },
   {
    "duration": 5,
    "start_time": "2023-11-17T11:33:51.174Z"
   },
   {
    "duration": 170,
    "start_time": "2023-11-17T11:33:51.181Z"
   },
   {
    "duration": 351,
    "start_time": "2023-11-17T11:33:51.354Z"
   },
   {
    "duration": 87,
    "start_time": "2023-11-17T11:33:51.706Z"
   },
   {
    "duration": 340,
    "start_time": "2023-11-17T11:33:51.795Z"
   },
   {
    "duration": 608,
    "start_time": "2023-11-17T11:33:52.136Z"
   },
   {
    "duration": 1065,
    "start_time": "2023-11-17T11:33:52.746Z"
   },
   {
    "duration": 31,
    "start_time": "2023-11-17T11:33:53.812Z"
   },
   {
    "duration": 1064,
    "start_time": "2023-11-17T11:33:53.851Z"
   },
   {
    "duration": 97,
    "start_time": "2023-11-17T11:33:54.917Z"
   },
   {
    "duration": 143,
    "start_time": "2023-11-17T11:33:55.016Z"
   },
   {
    "duration": 14,
    "start_time": "2023-11-17T11:33:55.161Z"
   },
   {
    "duration": 568,
    "start_time": "2023-11-17T11:33:55.176Z"
   },
   {
    "duration": 145,
    "start_time": "2023-11-17T11:33:55.745Z"
   },
   {
    "duration": 352,
    "start_time": "2023-11-17T11:33:55.891Z"
   },
   {
    "duration": 202,
    "start_time": "2023-11-17T11:33:56.245Z"
   },
   {
    "duration": 48800,
    "start_time": "2023-11-17T11:33:56.448Z"
   },
   {
    "duration": 308816,
    "start_time": "2023-11-17T11:34:45.252Z"
   },
   {
    "duration": 57,
    "start_time": "2023-11-17T11:39:54.070Z"
   },
   {
    "duration": 1009908,
    "start_time": "2023-11-17T11:39:54.129Z"
   },
   {
    "duration": 2343,
    "start_time": "2023-11-17T12:03:17.657Z"
   },
   {
    "duration": 1508,
    "start_time": "2023-11-17T12:03:20.003Z"
   },
   {
    "duration": 827,
    "start_time": "2023-11-17T12:03:21.513Z"
   },
   {
    "duration": 1527,
    "start_time": "2023-11-17T12:03:22.342Z"
   },
   {
    "duration": 32,
    "start_time": "2023-11-17T12:03:23.870Z"
   },
   {
    "duration": 89,
    "start_time": "2023-11-17T12:03:23.903Z"
   },
   {
    "duration": 5,
    "start_time": "2023-11-17T12:03:23.994Z"
   },
   {
    "duration": 36,
    "start_time": "2023-11-17T12:03:24.000Z"
   },
   {
    "duration": 155,
    "start_time": "2023-11-17T12:03:24.037Z"
   },
   {
    "duration": 36,
    "start_time": "2023-11-17T12:03:24.194Z"
   },
   {
    "duration": 70,
    "start_time": "2023-11-17T12:03:24.232Z"
   },
   {
    "duration": 10,
    "start_time": "2023-11-17T12:03:24.303Z"
   },
   {
    "duration": 68,
    "start_time": "2023-11-17T12:03:24.315Z"
   },
   {
    "duration": 439,
    "start_time": "2023-11-17T12:03:24.385Z"
   },
   {
    "duration": 29,
    "start_time": "2023-11-17T12:03:24.826Z"
   },
   {
    "duration": 45,
    "start_time": "2023-11-17T12:03:24.857Z"
   },
   {
    "duration": 269,
    "start_time": "2023-11-17T12:03:24.904Z"
   },
   {
    "duration": 20,
    "start_time": "2023-11-17T12:03:25.176Z"
   },
   {
    "duration": 66,
    "start_time": "2023-11-17T12:03:25.198Z"
   },
   {
    "duration": 193,
    "start_time": "2023-11-17T12:03:25.266Z"
   },
   {
    "duration": 212,
    "start_time": "2023-11-17T12:03:25.460Z"
   },
   {
    "duration": 25,
    "start_time": "2023-11-17T12:03:25.673Z"
   },
   {
    "duration": 9,
    "start_time": "2023-11-17T12:03:25.700Z"
   },
   {
    "duration": 5,
    "start_time": "2023-11-17T12:03:25.711Z"
   },
   {
    "duration": 301,
    "start_time": "2023-11-17T12:03:25.718Z"
   },
   {
    "duration": 4,
    "start_time": "2023-11-17T12:03:26.021Z"
   },
   {
    "duration": 171,
    "start_time": "2023-11-17T12:03:26.027Z"
   },
   {
    "duration": 356,
    "start_time": "2023-11-17T12:03:26.202Z"
   },
   {
    "duration": 93,
    "start_time": "2023-11-17T12:03:26.560Z"
   },
   {
    "duration": 318,
    "start_time": "2023-11-17T12:03:26.654Z"
   },
   {
    "duration": 601,
    "start_time": "2023-11-17T12:03:26.973Z"
   },
   {
    "duration": 1038,
    "start_time": "2023-11-17T12:03:27.575Z"
   },
   {
    "duration": 27,
    "start_time": "2023-11-17T12:03:28.614Z"
   },
   {
    "duration": 1052,
    "start_time": "2023-11-17T12:03:28.652Z"
   },
   {
    "duration": 93,
    "start_time": "2023-11-17T12:03:29.706Z"
   },
   {
    "duration": 111,
    "start_time": "2023-11-17T12:03:29.801Z"
   },
   {
    "duration": 14,
    "start_time": "2023-11-17T12:03:29.914Z"
   },
   {
    "duration": 635,
    "start_time": "2023-11-17T12:03:29.930Z"
   },
   {
    "duration": 135,
    "start_time": "2023-11-17T12:03:30.567Z"
   },
   {
    "duration": 348,
    "start_time": "2023-11-17T12:03:30.704Z"
   },
   {
    "duration": 194,
    "start_time": "2023-11-17T12:03:31.054Z"
   },
   {
    "duration": 50021,
    "start_time": "2023-11-17T12:03:31.251Z"
   },
   {
    "duration": 309313,
    "start_time": "2023-11-17T12:04:21.274Z"
   },
   {
    "duration": 67,
    "start_time": "2023-11-17T12:09:30.589Z"
   },
   {
    "duration": 686456,
    "start_time": "2023-11-17T12:09:30.657Z"
   },
   {
    "duration": 107739,
    "start_time": "2023-11-17T12:20:57.115Z"
   },
   {
    "duration": 166,
    "start_time": "2023-11-17T12:22:44.856Z"
   },
   {
    "duration": 229,
    "start_time": "2023-11-17T12:22:45.023Z"
   },
   {
    "duration": 537,
    "start_time": "2023-11-17T12:22:45.253Z"
   },
   {
    "duration": 562,
    "start_time": "2023-11-17T12:22:45.792Z"
   },
   {
    "duration": 118,
    "start_time": "2023-11-17T12:22:46.357Z"
   },
   {
    "duration": 109548,
    "start_time": "2023-11-17T12:24:30.005Z"
   },
   {
    "duration": 2518,
    "start_time": "2023-11-17T12:34:03.112Z"
   },
   {
    "duration": 1436,
    "start_time": "2023-11-17T12:34:05.632Z"
   },
   {
    "duration": 815,
    "start_time": "2023-11-17T12:34:07.069Z"
   },
   {
    "duration": 1493,
    "start_time": "2023-11-17T12:34:07.886Z"
   },
   {
    "duration": 38,
    "start_time": "2023-11-17T12:34:09.380Z"
   },
   {
    "duration": 93,
    "start_time": "2023-11-17T12:34:09.420Z"
   },
   {
    "duration": 5,
    "start_time": "2023-11-17T12:34:09.514Z"
   },
   {
    "duration": 49,
    "start_time": "2023-11-17T12:34:09.521Z"
   },
   {
    "duration": 149,
    "start_time": "2023-11-17T12:34:09.572Z"
   },
   {
    "duration": 45,
    "start_time": "2023-11-17T12:34:09.723Z"
   },
   {
    "duration": 56,
    "start_time": "2023-11-17T12:34:09.769Z"
   },
   {
    "duration": 10,
    "start_time": "2023-11-17T12:34:09.826Z"
   },
   {
    "duration": 49,
    "start_time": "2023-11-17T12:34:09.852Z"
   },
   {
    "duration": 416,
    "start_time": "2023-11-17T12:34:09.903Z"
   },
   {
    "duration": 21,
    "start_time": "2023-11-17T12:34:10.321Z"
   },
   {
    "duration": 44,
    "start_time": "2023-11-17T12:34:10.352Z"
   },
   {
    "duration": 229,
    "start_time": "2023-11-17T12:34:10.397Z"
   },
   {
    "duration": 25,
    "start_time": "2023-11-17T12:34:10.628Z"
   },
   {
    "duration": 40,
    "start_time": "2023-11-17T12:34:10.655Z"
   },
   {
    "duration": 188,
    "start_time": "2023-11-17T12:34:10.696Z"
   },
   {
    "duration": 191,
    "start_time": "2023-11-17T12:34:10.886Z"
   },
   {
    "duration": 30,
    "start_time": "2023-11-17T12:34:11.078Z"
   },
   {
    "duration": 9,
    "start_time": "2023-11-17T12:34:11.109Z"
   },
   {
    "duration": 4,
    "start_time": "2023-11-17T12:34:11.119Z"
   },
   {
    "duration": 289,
    "start_time": "2023-11-17T12:34:11.125Z"
   },
   {
    "duration": 5,
    "start_time": "2023-11-17T12:34:11.416Z"
   },
   {
    "duration": 176,
    "start_time": "2023-11-17T12:34:11.422Z"
   },
   {
    "duration": 356,
    "start_time": "2023-11-17T12:34:11.602Z"
   },
   {
    "duration": 96,
    "start_time": "2023-11-17T12:34:11.960Z"
   },
   {
    "duration": 341,
    "start_time": "2023-11-17T12:34:12.058Z"
   },
   {
    "duration": 564,
    "start_time": "2023-11-17T12:34:12.401Z"
   },
   {
    "duration": 1014,
    "start_time": "2023-11-17T12:34:12.967Z"
   },
   {
    "duration": 27,
    "start_time": "2023-11-17T12:34:13.982Z"
   },
   {
    "duration": 1040,
    "start_time": "2023-11-17T12:34:14.010Z"
   },
   {
    "duration": 102,
    "start_time": "2023-11-17T12:34:15.051Z"
   },
   {
    "duration": 106,
    "start_time": "2023-11-17T12:34:15.154Z"
   },
   {
    "duration": 14,
    "start_time": "2023-11-17T12:34:15.262Z"
   },
   {
    "duration": 583,
    "start_time": "2023-11-17T12:34:15.277Z"
   },
   {
    "duration": 125,
    "start_time": "2023-11-17T12:34:15.861Z"
   },
   {
    "duration": 348,
    "start_time": "2023-11-17T12:34:15.987Z"
   },
   {
    "duration": 185,
    "start_time": "2023-11-17T12:34:16.337Z"
   },
   {
    "duration": 3,
    "start_time": "2023-11-17T12:34:16.523Z"
   },
   {
    "duration": 219,
    "start_time": "2023-11-17T12:34:16.527Z"
   },
   {
    "duration": 58,
    "start_time": "2023-11-17T12:34:16.747Z"
   },
   {
    "duration": 2284,
    "start_time": "2023-11-17T12:35:36.373Z"
   },
   {
    "duration": 1370,
    "start_time": "2023-11-17T12:35:38.659Z"
   },
   {
    "duration": 853,
    "start_time": "2023-11-17T12:35:40.030Z"
   },
   {
    "duration": 1492,
    "start_time": "2023-11-17T12:35:40.885Z"
   },
   {
    "duration": 41,
    "start_time": "2023-11-17T12:35:42.378Z"
   },
   {
    "duration": 96,
    "start_time": "2023-11-17T12:35:42.421Z"
   },
   {
    "duration": 5,
    "start_time": "2023-11-17T12:35:42.518Z"
   },
   {
    "duration": 44,
    "start_time": "2023-11-17T12:35:42.524Z"
   },
   {
    "duration": 134,
    "start_time": "2023-11-17T12:35:42.569Z"
   },
   {
    "duration": 50,
    "start_time": "2023-11-17T12:35:42.705Z"
   },
   {
    "duration": 83,
    "start_time": "2023-11-17T12:35:42.757Z"
   },
   {
    "duration": 10,
    "start_time": "2023-11-17T12:35:42.841Z"
   },
   {
    "duration": 60,
    "start_time": "2023-11-17T12:35:42.853Z"
   },
   {
    "duration": 433,
    "start_time": "2023-11-17T12:35:42.914Z"
   },
   {
    "duration": 21,
    "start_time": "2023-11-17T12:35:43.351Z"
   },
   {
    "duration": 47,
    "start_time": "2023-11-17T12:35:43.373Z"
   },
   {
    "duration": 234,
    "start_time": "2023-11-17T12:35:43.421Z"
   },
   {
    "duration": 17,
    "start_time": "2023-11-17T12:35:43.657Z"
   },
   {
    "duration": 40,
    "start_time": "2023-11-17T12:35:43.675Z"
   },
   {
    "duration": 199,
    "start_time": "2023-11-17T12:35:43.717Z"
   },
   {
    "duration": 217,
    "start_time": "2023-11-17T12:35:43.918Z"
   },
   {
    "duration": 28,
    "start_time": "2023-11-17T12:35:44.136Z"
   },
   {
    "duration": 10,
    "start_time": "2023-11-17T12:35:44.165Z"
   },
   {
    "duration": 5,
    "start_time": "2023-11-17T12:35:44.177Z"
   },
   {
    "duration": 289,
    "start_time": "2023-11-17T12:35:44.183Z"
   },
   {
    "duration": 4,
    "start_time": "2023-11-17T12:35:44.473Z"
   },
   {
    "duration": 180,
    "start_time": "2023-11-17T12:35:44.479Z"
   },
   {
    "duration": 369,
    "start_time": "2023-11-17T12:35:44.663Z"
   },
   {
    "duration": 122,
    "start_time": "2023-11-17T12:35:45.034Z"
   },
   {
    "duration": 315,
    "start_time": "2023-11-17T12:35:45.157Z"
   },
   {
    "duration": 542,
    "start_time": "2023-11-17T12:35:45.473Z"
   },
   {
    "duration": 978,
    "start_time": "2023-11-17T12:35:46.017Z"
   },
   {
    "duration": 26,
    "start_time": "2023-11-17T12:35:46.997Z"
   },
   {
    "duration": 1058,
    "start_time": "2023-11-17T12:35:47.024Z"
   },
   {
    "duration": 91,
    "start_time": "2023-11-17T12:35:48.084Z"
   },
   {
    "duration": 109,
    "start_time": "2023-11-17T12:35:48.176Z"
   },
   {
    "duration": 13,
    "start_time": "2023-11-17T12:35:48.286Z"
   },
   {
    "duration": 564,
    "start_time": "2023-11-17T12:35:48.300Z"
   },
   {
    "duration": 120,
    "start_time": "2023-11-17T12:35:48.866Z"
   },
   {
    "duration": 348,
    "start_time": "2023-11-17T12:35:48.987Z"
   },
   {
    "duration": 198,
    "start_time": "2023-11-17T12:35:49.336Z"
   },
   {
    "duration": 46444,
    "start_time": "2023-11-17T12:35:49.535Z"
   },
   {
    "duration": 302044,
    "start_time": "2023-11-17T12:36:35.981Z"
   },
   {
    "duration": 66,
    "start_time": "2023-11-17T12:41:38.027Z"
   },
   {
    "duration": 833086,
    "start_time": "2023-11-17T12:41:38.095Z"
   },
   {
    "duration": 151086,
    "start_time": "2023-11-17T12:55:31.182Z"
   },
   {
    "duration": 227,
    "start_time": "2023-11-17T12:58:02.269Z"
   },
   {
    "duration": 221,
    "start_time": "2023-11-17T12:58:02.498Z"
   },
   {
    "duration": 564,
    "start_time": "2023-11-17T12:58:02.720Z"
   },
   {
    "duration": 478,
    "start_time": "2023-11-17T12:58:03.286Z"
   },
   {
    "duration": 2293,
    "start_time": "2023-11-17T13:22:03.478Z"
   },
   {
    "duration": 1451,
    "start_time": "2023-11-17T13:22:05.774Z"
   },
   {
    "duration": 936,
    "start_time": "2023-11-17T13:22:07.226Z"
   },
   {
    "duration": 1611,
    "start_time": "2023-11-17T13:22:08.164Z"
   },
   {
    "duration": 35,
    "start_time": "2023-11-17T13:22:09.778Z"
   },
   {
    "duration": 97,
    "start_time": "2023-11-17T13:22:09.815Z"
   },
   {
    "duration": 6,
    "start_time": "2023-11-17T13:22:09.913Z"
   },
   {
    "duration": 63,
    "start_time": "2023-11-17T13:22:09.921Z"
   },
   {
    "duration": 167,
    "start_time": "2023-11-17T13:22:09.986Z"
   },
   {
    "duration": 37,
    "start_time": "2023-11-17T13:22:10.154Z"
   },
   {
    "duration": 75,
    "start_time": "2023-11-17T13:22:10.193Z"
   },
   {
    "duration": 11,
    "start_time": "2023-11-17T13:22:10.270Z"
   },
   {
    "duration": 55,
    "start_time": "2023-11-17T13:22:10.282Z"
   },
   {
    "duration": 442,
    "start_time": "2023-11-17T13:22:10.351Z"
   },
   {
    "duration": 22,
    "start_time": "2023-11-17T13:22:10.794Z"
   },
   {
    "duration": 60,
    "start_time": "2023-11-17T13:22:10.817Z"
   },
   {
    "duration": 236,
    "start_time": "2023-11-17T13:22:10.879Z"
   },
   {
    "duration": 21,
    "start_time": "2023-11-17T13:22:11.117Z"
   },
   {
    "duration": 45,
    "start_time": "2023-11-17T13:22:11.152Z"
   },
   {
    "duration": 205,
    "start_time": "2023-11-17T13:22:11.199Z"
   },
   {
    "duration": 189,
    "start_time": "2023-11-17T13:22:11.406Z"
   },
   {
    "duration": 24,
    "start_time": "2023-11-17T13:22:11.597Z"
   },
   {
    "duration": 29,
    "start_time": "2023-11-17T13:22:11.623Z"
   },
   {
    "duration": 5,
    "start_time": "2023-11-17T13:22:11.654Z"
   },
   {
    "duration": 265,
    "start_time": "2023-11-17T13:22:11.660Z"
   },
   {
    "duration": 5,
    "start_time": "2023-11-17T13:22:11.927Z"
   },
   {
    "duration": 173,
    "start_time": "2023-11-17T13:22:11.933Z"
   },
   {
    "duration": 394,
    "start_time": "2023-11-17T13:22:12.108Z"
   },
   {
    "duration": 100,
    "start_time": "2023-11-17T13:22:12.504Z"
   },
   {
    "duration": 348,
    "start_time": "2023-11-17T13:22:12.605Z"
   },
   {
    "duration": 599,
    "start_time": "2023-11-17T13:22:12.955Z"
   },
   {
    "duration": 1036,
    "start_time": "2023-11-17T13:22:13.556Z"
   },
   {
    "duration": 30,
    "start_time": "2023-11-17T13:22:14.593Z"
   },
   {
    "duration": 1080,
    "start_time": "2023-11-17T13:22:14.625Z"
   },
   {
    "duration": 96,
    "start_time": "2023-11-17T13:22:15.707Z"
   },
   {
    "duration": 108,
    "start_time": "2023-11-17T13:22:15.805Z"
   },
   {
    "duration": 14,
    "start_time": "2023-11-17T13:22:15.914Z"
   },
   {
    "duration": 601,
    "start_time": "2023-11-17T13:22:15.929Z"
   },
   {
    "duration": 126,
    "start_time": "2023-11-17T13:22:16.532Z"
   },
   {
    "duration": 355,
    "start_time": "2023-11-17T13:22:16.659Z"
   },
   {
    "duration": 195,
    "start_time": "2023-11-17T13:22:17.017Z"
   },
   {
    "duration": 47054,
    "start_time": "2023-11-17T13:22:17.213Z"
   },
   {
    "duration": 303434,
    "start_time": "2023-11-17T13:23:04.269Z"
   },
   {
    "duration": 63,
    "start_time": "2023-11-17T13:28:07.705Z"
   },
   {
    "duration": 838009,
    "start_time": "2023-11-17T13:28:07.770Z"
   },
   {
    "duration": 162374,
    "start_time": "2023-11-17T13:42:05.781Z"
   },
   {
    "duration": 172,
    "start_time": "2023-11-17T13:44:48.157Z"
   },
   {
    "duration": 218,
    "start_time": "2023-11-17T13:44:48.331Z"
   },
   {
    "duration": 540,
    "start_time": "2023-11-17T13:44:48.552Z"
   },
   {
    "duration": 470,
    "start_time": "2023-11-17T13:44:49.094Z"
   },
   {
    "duration": 2578,
    "start_time": "2023-11-18T13:06:21.932Z"
   },
   {
    "duration": 1712,
    "start_time": "2023-11-18T13:06:24.512Z"
   },
   {
    "duration": 1091,
    "start_time": "2023-11-18T13:06:26.226Z"
   },
   {
    "duration": 1532,
    "start_time": "2023-11-18T13:06:28.439Z"
   },
   {
    "duration": 32,
    "start_time": "2023-11-18T13:06:32.607Z"
   },
   {
    "duration": 80,
    "start_time": "2023-11-18T13:06:33.495Z"
   },
   {
    "duration": 5,
    "start_time": "2023-11-18T13:06:34.407Z"
   },
   {
    "duration": 32,
    "start_time": "2023-11-18T13:06:35.731Z"
   },
   {
    "duration": 144,
    "start_time": "2023-11-18T13:06:36.432Z"
   },
   {
    "duration": 34,
    "start_time": "2023-11-18T13:06:42.363Z"
   },
   {
    "duration": 68,
    "start_time": "2023-11-18T13:06:50.799Z"
   },
   {
    "duration": 10,
    "start_time": "2023-11-18T13:06:52.639Z"
   },
   {
    "duration": 53,
    "start_time": "2023-11-18T13:06:54.295Z"
   },
   {
    "duration": 425,
    "start_time": "2023-11-18T13:06:56.871Z"
   },
   {
    "duration": 21,
    "start_time": "2023-11-18T13:06:57.682Z"
   },
   {
    "duration": 42,
    "start_time": "2023-11-18T13:07:29.103Z"
   },
   {
    "duration": 255,
    "start_time": "2023-11-18T13:07:30.783Z"
   },
   {
    "duration": 19,
    "start_time": "2023-11-18T13:07:33.487Z"
   },
   {
    "duration": 2515,
    "start_time": "2023-11-18T13:10:05.514Z"
   },
   {
    "duration": 1549,
    "start_time": "2023-11-18T13:10:08.031Z"
   },
   {
    "duration": 825,
    "start_time": "2023-11-18T13:10:09.581Z"
   },
   {
    "duration": 1531,
    "start_time": "2023-11-18T13:10:10.408Z"
   },
   {
    "duration": 38,
    "start_time": "2023-11-18T13:10:11.941Z"
   },
   {
    "duration": 95,
    "start_time": "2023-11-18T13:10:11.980Z"
   },
   {
    "duration": 6,
    "start_time": "2023-11-18T13:10:12.077Z"
   },
   {
    "duration": 34,
    "start_time": "2023-11-18T13:10:12.474Z"
   },
   {
    "duration": 141,
    "start_time": "2023-11-18T13:10:16.349Z"
   },
   {
    "duration": 6,
    "start_time": "2023-11-18T13:10:35.807Z"
   },
   {
    "duration": 2353,
    "start_time": "2023-11-18T13:11:46.368Z"
   },
   {
    "duration": 1619,
    "start_time": "2023-11-18T13:11:48.723Z"
   },
   {
    "duration": 847,
    "start_time": "2023-11-18T13:11:50.344Z"
   },
   {
    "duration": 1545,
    "start_time": "2023-11-18T13:11:51.193Z"
   },
   {
    "duration": 33,
    "start_time": "2023-11-18T13:11:52.740Z"
   },
   {
    "duration": 94,
    "start_time": "2023-11-18T13:11:52.774Z"
   },
   {
    "duration": 6,
    "start_time": "2023-11-18T13:11:52.870Z"
   },
   {
    "duration": 51,
    "start_time": "2023-11-18T13:11:52.878Z"
   },
   {
    "duration": 142,
    "start_time": "2023-11-18T13:11:52.931Z"
   },
   {
    "duration": 40,
    "start_time": "2023-11-18T13:11:53.075Z"
   },
   {
    "duration": 55,
    "start_time": "2023-11-18T13:12:29.404Z"
   },
   {
    "duration": 34,
    "start_time": "2023-11-18T13:12:52.365Z"
   },
   {
    "duration": 52,
    "start_time": "2023-11-18T13:12:54.019Z"
   },
   {
    "duration": 10,
    "start_time": "2023-11-18T13:12:54.599Z"
   },
   {
    "duration": 52,
    "start_time": "2023-11-18T13:13:02.729Z"
   },
   {
    "duration": 434,
    "start_time": "2023-11-18T13:13:09.453Z"
   },
   {
    "duration": 22,
    "start_time": "2023-11-18T13:13:09.921Z"
   },
   {
    "duration": 49,
    "start_time": "2023-11-18T13:13:12.089Z"
   },
   {
    "duration": 227,
    "start_time": "2023-11-18T13:13:14.298Z"
   },
   {
    "duration": 24,
    "start_time": "2023-11-18T13:13:32.421Z"
   },
   {
    "duration": 20,
    "start_time": "2023-11-18T13:18:34.962Z"
   },
   {
    "duration": 22,
    "start_time": "2023-11-18T13:18:42.678Z"
   },
   {
    "duration": 42,
    "start_time": "2023-11-18T13:24:39.735Z"
   },
   {
    "duration": 188,
    "start_time": "2023-11-18T13:26:21.252Z"
   },
   {
    "duration": 187,
    "start_time": "2023-11-18T13:26:24.222Z"
   },
   {
    "duration": 22,
    "start_time": "2023-11-18T13:26:25.327Z"
   },
   {
    "duration": 2394,
    "start_time": "2023-11-18T13:28:09.776Z"
   },
   {
    "duration": 1360,
    "start_time": "2023-11-18T13:28:12.172Z"
   },
   {
    "duration": 878,
    "start_time": "2023-11-18T13:28:15.829Z"
   },
   {
    "duration": 1556,
    "start_time": "2023-11-18T13:28:18.031Z"
   },
   {
    "duration": 33,
    "start_time": "2023-11-18T13:28:36.025Z"
   },
   {
    "duration": 76,
    "start_time": "2023-11-18T13:28:40.999Z"
   },
   {
    "duration": 5,
    "start_time": "2023-11-18T13:28:46.649Z"
   },
   {
    "duration": 35,
    "start_time": "2023-11-18T13:29:05.357Z"
   },
   {
    "duration": 149,
    "start_time": "2023-11-18T13:29:11.497Z"
   },
   {
    "duration": 56,
    "start_time": "2023-11-18T13:29:18.113Z"
   },
   {
    "duration": 108,
    "start_time": "2023-11-18T13:29:20.662Z"
   },
   {
    "duration": 21,
    "start_time": "2023-11-18T13:29:32.133Z"
   },
   {
    "duration": 53,
    "start_time": "2023-11-18T13:29:50.069Z"
   },
   {
    "duration": 10,
    "start_time": "2023-11-18T13:29:50.989Z"
   },
   {
    "duration": 52,
    "start_time": "2023-11-18T13:29:51.561Z"
   },
   {
    "duration": 403,
    "start_time": "2023-11-18T13:29:53.926Z"
   },
   {
    "duration": 22,
    "start_time": "2023-11-18T13:29:54.522Z"
   },
   {
    "duration": 44,
    "start_time": "2023-11-18T13:29:55.541Z"
   },
   {
    "duration": 232,
    "start_time": "2023-11-18T13:29:56.794Z"
   },
   {
    "duration": 22,
    "start_time": "2023-11-18T13:29:57.119Z"
   },
   {
    "duration": 51,
    "start_time": "2023-11-18T13:29:58.797Z"
   },
   {
    "duration": 202,
    "start_time": "2023-11-18T13:30:00.513Z"
   },
   {
    "duration": 192,
    "start_time": "2023-11-18T13:30:01.565Z"
   },
   {
    "duration": 24,
    "start_time": "2023-11-18T13:30:08.429Z"
   },
   {
    "duration": 22,
    "start_time": "2023-11-18T13:30:36.221Z"
   },
   {
    "duration": 26,
    "start_time": "2023-11-18T13:30:55.093Z"
   },
   {
    "duration": 13,
    "start_time": "2023-11-18T13:31:34.781Z"
   },
   {
    "duration": 208,
    "start_time": "2023-11-18T13:31:49.773Z"
   },
   {
    "duration": 80,
    "start_time": "2023-11-18T13:32:20.817Z"
   },
   {
    "duration": 87,
    "start_time": "2023-11-18T13:32:28.355Z"
   },
   {
    "duration": 121,
    "start_time": "2023-11-18T13:32:34.484Z"
   },
   {
    "duration": 13,
    "start_time": "2023-11-18T13:32:50.540Z"
   },
   {
    "duration": 148,
    "start_time": "2023-11-18T13:33:03.348Z"
   },
   {
    "duration": 194,
    "start_time": "2023-11-18T13:33:16.478Z"
   },
   {
    "duration": 789,
    "start_time": "2023-11-18T13:33:22.502Z"
   },
   {
    "duration": 248,
    "start_time": "2023-11-18T13:33:31.870Z"
   },
   {
    "duration": 12,
    "start_time": "2023-11-18T13:37:32.648Z"
   },
   {
    "duration": 12,
    "start_time": "2023-11-18T13:38:43.142Z"
   },
   {
    "duration": 74,
    "start_time": "2023-11-18T13:39:00.198Z"
   },
   {
    "duration": 8,
    "start_time": "2023-11-18T13:39:05.536Z"
   },
   {
    "duration": 12,
    "start_time": "2023-11-18T13:40:11.524Z"
   },
   {
    "duration": 7,
    "start_time": "2023-11-18T13:42:34.608Z"
   },
   {
    "duration": 7,
    "start_time": "2023-11-18T13:42:53.369Z"
   },
   {
    "duration": 2334,
    "start_time": "2023-11-18T13:43:03.398Z"
   },
   {
    "duration": 1410,
    "start_time": "2023-11-18T13:43:05.734Z"
   },
   {
    "duration": 832,
    "start_time": "2023-11-18T13:43:07.146Z"
   },
   {
    "duration": 1549,
    "start_time": "2023-11-18T13:43:07.980Z"
   },
   {
    "duration": 35,
    "start_time": "2023-11-18T13:43:09.530Z"
   },
   {
    "duration": 92,
    "start_time": "2023-11-18T13:43:09.567Z"
   },
   {
    "duration": 5,
    "start_time": "2023-11-18T13:43:09.661Z"
   },
   {
    "duration": 48,
    "start_time": "2023-11-18T13:43:09.667Z"
   },
   {
    "duration": 144,
    "start_time": "2023-11-18T13:43:09.716Z"
   },
   {
    "duration": 62,
    "start_time": "2023-11-18T13:43:09.862Z"
   },
   {
    "duration": 21,
    "start_time": "2023-11-18T13:43:09.925Z"
   },
   {
    "duration": 68,
    "start_time": "2023-11-18T13:43:09.947Z"
   },
   {
    "duration": 10,
    "start_time": "2023-11-18T13:43:10.016Z"
   },
   {
    "duration": 137,
    "start_time": "2023-11-18T13:43:10.027Z"
   },
   {
    "duration": 420,
    "start_time": "2023-11-18T13:43:10.165Z"
   },
   {
    "duration": 28,
    "start_time": "2023-11-18T13:43:10.587Z"
   },
   {
    "duration": 43,
    "start_time": "2023-11-18T13:43:10.617Z"
   },
   {
    "duration": 234,
    "start_time": "2023-11-18T13:43:10.786Z"
   },
   {
    "duration": 21,
    "start_time": "2023-11-18T13:43:11.022Z"
   },
   {
    "duration": 46,
    "start_time": "2023-11-18T13:43:11.282Z"
   },
   {
    "duration": 206,
    "start_time": "2023-11-18T13:43:12.813Z"
   },
   {
    "duration": 185,
    "start_time": "2023-11-18T13:43:13.186Z"
   },
   {
    "duration": 24,
    "start_time": "2023-11-18T13:43:13.822Z"
   },
   {
    "duration": 245,
    "start_time": "2023-11-18T13:43:16.647Z"
   },
   {
    "duration": 8,
    "start_time": "2023-11-18T13:43:19.314Z"
   },
   {
    "duration": 253,
    "start_time": "2023-11-18T13:44:12.467Z"
   },
   {
    "duration": 7,
    "start_time": "2023-11-18T13:44:21.139Z"
   },
   {
    "duration": 9,
    "start_time": "2023-11-18T13:44:26.522Z"
   },
   {
    "duration": 6,
    "start_time": "2023-11-18T13:45:55.459Z"
   },
   {
    "duration": 4,
    "start_time": "2023-11-18T13:45:59.062Z"
   },
   {
    "duration": 334,
    "start_time": "2023-11-18T13:46:10.010Z"
   },
   {
    "duration": 4,
    "start_time": "2023-11-18T13:46:11.947Z"
   },
   {
    "duration": 176,
    "start_time": "2023-11-18T13:46:18.594Z"
   },
   {
    "duration": 348,
    "start_time": "2023-11-18T13:46:51.327Z"
   },
   {
    "duration": 83,
    "start_time": "2023-11-18T13:49:04.476Z"
   },
   {
    "duration": 958,
    "start_time": "2023-11-18T13:49:17.935Z"
   },
   {
    "duration": 1512,
    "start_time": "2023-11-18T13:50:02.044Z"
   },
   {
    "duration": 1195,
    "start_time": "2023-11-18T13:50:43.872Z"
   },
   {
    "duration": 1404,
    "start_time": "2023-11-18T13:51:14.660Z"
   },
   {
    "duration": 23,
    "start_time": "2023-11-18T13:58:43.158Z"
   },
   {
    "duration": 7,
    "start_time": "2023-11-18T14:00:06.360Z"
   },
   {
    "duration": 11,
    "start_time": "2023-11-18T14:00:27.726Z"
   },
   {
    "duration": 11,
    "start_time": "2023-11-18T14:00:39.976Z"
   },
   {
    "duration": 8,
    "start_time": "2023-11-18T14:00:54.113Z"
   },
   {
    "duration": 4,
    "start_time": "2023-11-18T14:01:46.899Z"
   },
   {
    "duration": 17,
    "start_time": "2023-11-18T14:01:52.423Z"
   },
   {
    "duration": 7,
    "start_time": "2023-11-18T14:03:22.353Z"
   },
   {
    "duration": 17,
    "start_time": "2023-11-18T14:03:34.331Z"
   },
   {
    "duration": 109,
    "start_time": "2023-11-18T14:03:40.076Z"
   },
   {
    "duration": 8,
    "start_time": "2023-11-18T14:04:20.914Z"
   },
   {
    "duration": 8,
    "start_time": "2023-11-18T14:04:41.524Z"
   },
   {
    "duration": 21,
    "start_time": "2023-11-18T14:04:47.875Z"
   },
   {
    "duration": 12,
    "start_time": "2023-11-18T14:05:02.427Z"
   },
   {
    "duration": 106,
    "start_time": "2023-11-18T14:05:14.062Z"
   },
   {
    "duration": 15,
    "start_time": "2023-11-18T14:06:09.717Z"
   },
   {
    "duration": 472,
    "start_time": "2023-11-18T14:06:29.516Z"
   },
   {
    "duration": 65,
    "start_time": "2023-11-18T14:08:13.344Z"
   },
   {
    "duration": 11,
    "start_time": "2023-11-18T14:08:38.604Z"
   },
   {
    "duration": 65,
    "start_time": "2023-11-18T14:08:49.012Z"
   },
   {
    "duration": 754,
    "start_time": "2023-11-18T14:14:42.694Z"
   },
   {
    "duration": 7,
    "start_time": "2023-11-18T14:15:55.838Z"
   },
   {
    "duration": 561,
    "start_time": "2023-11-18T14:16:10.955Z"
   },
   {
    "duration": 457,
    "start_time": "2023-11-18T14:16:21.369Z"
   },
   {
    "duration": 480,
    "start_time": "2023-11-18T14:16:28.126Z"
   },
   {
    "duration": 240,
    "start_time": "2023-11-18T14:16:35.751Z"
   },
   {
    "duration": 284,
    "start_time": "2023-11-18T14:16:44.034Z"
   },
   {
    "duration": 346,
    "start_time": "2023-11-18T14:16:52.779Z"
   },
   {
    "duration": 232,
    "start_time": "2023-11-18T14:17:05.260Z"
   },
   {
    "duration": 8,
    "start_time": "2023-11-18T14:18:31.902Z"
   },
   {
    "duration": 17,
    "start_time": "2023-11-18T14:18:59.153Z"
   },
   {
    "duration": 14,
    "start_time": "2023-11-18T14:20:14.651Z"
   },
   {
    "duration": 1558,
    "start_time": "2023-11-18T14:21:36.388Z"
   },
   {
    "duration": 0,
    "start_time": "2023-11-18T14:21:37.947Z"
   },
   {
    "duration": 2385,
    "start_time": "2023-11-18T14:21:49.301Z"
   },
   {
    "duration": 1443,
    "start_time": "2023-11-18T14:21:51.688Z"
   },
   {
    "duration": 819,
    "start_time": "2023-11-18T14:21:53.132Z"
   },
   {
    "duration": 1507,
    "start_time": "2023-11-18T14:21:53.952Z"
   },
   {
    "duration": 36,
    "start_time": "2023-11-18T14:21:55.460Z"
   },
   {
    "duration": 87,
    "start_time": "2023-11-18T14:21:55.498Z"
   },
   {
    "duration": 5,
    "start_time": "2023-11-18T14:21:55.586Z"
   },
   {
    "duration": 46,
    "start_time": "2023-11-18T14:21:55.593Z"
   },
   {
    "duration": 152,
    "start_time": "2023-11-18T14:21:55.640Z"
   },
   {
    "duration": 63,
    "start_time": "2023-11-18T14:21:55.794Z"
   },
   {
    "duration": 20,
    "start_time": "2023-11-18T14:21:55.858Z"
   },
   {
    "duration": 73,
    "start_time": "2023-11-18T14:21:55.880Z"
   },
   {
    "duration": 10,
    "start_time": "2023-11-18T14:21:55.955Z"
   },
   {
    "duration": 62,
    "start_time": "2023-11-18T14:21:55.966Z"
   },
   {
    "duration": 445,
    "start_time": "2023-11-18T14:21:56.030Z"
   },
   {
    "duration": 21,
    "start_time": "2023-11-18T14:21:56.477Z"
   },
   {
    "duration": 54,
    "start_time": "2023-11-18T14:21:56.499Z"
   },
   {
    "duration": 238,
    "start_time": "2023-11-18T14:21:56.556Z"
   },
   {
    "duration": 30,
    "start_time": "2023-11-18T14:21:56.796Z"
   },
   {
    "duration": 45,
    "start_time": "2023-11-18T14:21:56.828Z"
   },
   {
    "duration": 191,
    "start_time": "2023-11-18T14:21:59.766Z"
   },
   {
    "duration": 188,
    "start_time": "2023-11-18T14:22:00.039Z"
   },
   {
    "duration": 24,
    "start_time": "2023-11-18T14:22:00.266Z"
   },
   {
    "duration": 250,
    "start_time": "2023-11-18T14:22:01.187Z"
   },
   {
    "duration": 8,
    "start_time": "2023-11-18T14:22:02.415Z"
   },
   {
    "duration": 9,
    "start_time": "2023-11-18T14:22:12.705Z"
   },
   {
    "duration": 5,
    "start_time": "2023-11-18T14:23:13.362Z"
   },
   {
    "duration": 264,
    "start_time": "2023-11-18T14:23:17.274Z"
   },
   {
    "duration": 4,
    "start_time": "2023-11-18T14:23:20.071Z"
   },
   {
    "duration": 251,
    "start_time": "2023-11-18T14:23:21.817Z"
   },
   {
    "duration": 488,
    "start_time": "2023-11-18T14:23:25.542Z"
   },
   {
    "duration": 8,
    "start_time": "2023-11-18T14:23:26.067Z"
   },
   {
    "duration": 79,
    "start_time": "2023-11-18T14:23:31.113Z"
   },
   {
    "duration": 14,
    "start_time": "2023-11-18T14:23:32.235Z"
   },
   {
    "duration": 92,
    "start_time": "2023-11-18T14:24:11.340Z"
   },
   {
    "duration": 321,
    "start_time": "2023-11-18T14:24:17.767Z"
   },
   {
    "duration": 495,
    "start_time": "2023-11-18T14:24:18.595Z"
   },
   {
    "duration": 1043,
    "start_time": "2023-11-18T14:24:21.447Z"
   },
   {
    "duration": 32,
    "start_time": "2023-11-18T14:24:22.492Z"
   },
   {
    "duration": 1034,
    "start_time": "2023-11-18T14:24:24.402Z"
   },
   {
    "duration": 86,
    "start_time": "2023-11-18T14:24:34.009Z"
   },
   {
    "duration": 5,
    "start_time": "2023-11-18T14:25:09.282Z"
   },
   {
    "duration": 19,
    "start_time": "2023-11-18T14:25:37.429Z"
   },
   {
    "duration": 58,
    "start_time": "2023-11-18T14:31:09.602Z"
   },
   {
    "duration": 21,
    "start_time": "2023-11-18T14:31:22.051Z"
   },
   {
    "duration": 28,
    "start_time": "2023-11-18T14:32:01.290Z"
   },
   {
    "duration": 19,
    "start_time": "2023-11-18T14:32:01.797Z"
   },
   {
    "duration": 43,
    "start_time": "2023-11-18T14:32:20.362Z"
   },
   {
    "duration": 19,
    "start_time": "2023-11-18T14:32:21.030Z"
   },
   {
    "duration": 86,
    "start_time": "2023-11-18T14:34:16.230Z"
   },
   {
    "duration": 98,
    "start_time": "2023-11-18T14:34:23.942Z"
   },
   {
    "duration": 18,
    "start_time": "2023-11-18T14:49:46.911Z"
   },
   {
    "duration": 2,
    "start_time": "2023-11-18T14:49:57.397Z"
   },
   {
    "duration": 2,
    "start_time": "2023-11-18T14:51:34.475Z"
   },
   {
    "duration": 110,
    "start_time": "2023-11-18T14:51:35.535Z"
   },
   {
    "duration": 21,
    "start_time": "2023-11-18T14:52:06.561Z"
   },
   {
    "duration": 2,
    "start_time": "2023-11-18T14:52:07.284Z"
   },
   {
    "duration": 2,
    "start_time": "2023-11-18T14:52:15.624Z"
   },
   {
    "duration": 76,
    "start_time": "2023-11-18T14:52:17.080Z"
   },
   {
    "duration": 9,
    "start_time": "2023-11-18T14:53:46.155Z"
   },
   {
    "duration": 2989,
    "start_time": "2023-11-18T14:54:41.444Z"
   },
   {
    "duration": 1871,
    "start_time": "2023-11-18T14:54:52.204Z"
   },
   {
    "duration": 23,
    "start_time": "2023-11-18T14:55:01.762Z"
   },
   {
    "duration": 11,
    "start_time": "2023-11-18T14:55:24.549Z"
   },
   {
    "duration": 2464,
    "start_time": "2023-11-18T14:55:57.711Z"
   },
   {
    "duration": 1455,
    "start_time": "2023-11-18T14:56:00.177Z"
   },
   {
    "duration": 856,
    "start_time": "2023-11-18T14:56:01.634Z"
   },
   {
    "duration": 1550,
    "start_time": "2023-11-18T14:56:02.492Z"
   },
   {
    "duration": 37,
    "start_time": "2023-11-18T14:56:04.044Z"
   },
   {
    "duration": 92,
    "start_time": "2023-11-18T14:56:04.082Z"
   },
   {
    "duration": 5,
    "start_time": "2023-11-18T14:56:04.176Z"
   },
   {
    "duration": 50,
    "start_time": "2023-11-18T14:56:04.182Z"
   },
   {
    "duration": 141,
    "start_time": "2023-11-18T14:56:04.233Z"
   },
   {
    "duration": 68,
    "start_time": "2023-11-18T14:56:04.377Z"
   },
   {
    "duration": 22,
    "start_time": "2023-11-18T14:56:04.446Z"
   },
   {
    "duration": 70,
    "start_time": "2023-11-18T14:56:04.470Z"
   },
   {
    "duration": 10,
    "start_time": "2023-11-18T14:56:04.541Z"
   },
   {
    "duration": 51,
    "start_time": "2023-11-18T14:56:04.553Z"
   },
   {
    "duration": 453,
    "start_time": "2023-11-18T14:56:04.615Z"
   },
   {
    "duration": 22,
    "start_time": "2023-11-18T14:56:05.070Z"
   },
   {
    "duration": 57,
    "start_time": "2023-11-18T14:56:05.094Z"
   },
   {
    "duration": 248,
    "start_time": "2023-11-18T14:56:05.152Z"
   },
   {
    "duration": 30,
    "start_time": "2023-11-18T14:56:05.402Z"
   },
   {
    "duration": 44,
    "start_time": "2023-11-18T14:56:05.434Z"
   },
   {
    "duration": 216,
    "start_time": "2023-11-18T14:56:05.480Z"
   },
   {
    "duration": 217,
    "start_time": "2023-11-18T14:56:05.697Z"
   },
   {
    "duration": 22,
    "start_time": "2023-11-18T14:56:05.915Z"
   },
   {
    "duration": 258,
    "start_time": "2023-11-18T14:56:05.939Z"
   },
   {
    "duration": 16,
    "start_time": "2023-11-18T14:56:06.199Z"
   },
   {
    "duration": 9,
    "start_time": "2023-11-18T14:56:06.218Z"
   },
   {
    "duration": 4,
    "start_time": "2023-11-18T14:56:06.228Z"
   },
   {
    "duration": 277,
    "start_time": "2023-11-18T14:56:06.233Z"
   },
   {
    "duration": 4,
    "start_time": "2023-11-18T14:56:06.512Z"
   },
   {
    "duration": 251,
    "start_time": "2023-11-18T14:56:06.517Z"
   },
   {
    "duration": 439,
    "start_time": "2023-11-18T14:56:06.770Z"
   },
   {
    "duration": 8,
    "start_time": "2023-11-18T14:56:07.215Z"
   },
   {
    "duration": 70,
    "start_time": "2023-11-18T14:56:07.225Z"
   },
   {
    "duration": 31,
    "start_time": "2023-11-18T14:56:07.297Z"
   },
   {
    "duration": 92,
    "start_time": "2023-11-18T14:56:09.111Z"
   },
   {
    "duration": 319,
    "start_time": "2023-11-18T14:56:09.552Z"
   },
   {
    "duration": 489,
    "start_time": "2023-11-18T14:56:10.065Z"
   },
   {
    "duration": 1085,
    "start_time": "2023-11-18T14:56:10.557Z"
   },
   {
    "duration": 28,
    "start_time": "2023-11-18T14:56:11.644Z"
   },
   {
    "duration": 1039,
    "start_time": "2023-11-18T14:56:11.674Z"
   },
   {
    "duration": 101,
    "start_time": "2023-11-18T14:56:12.715Z"
   },
   {
    "duration": 25,
    "start_time": "2023-11-18T14:56:12.817Z"
   },
   {
    "duration": 50,
    "start_time": "2023-11-18T14:56:15.823Z"
   },
   {
    "duration": 19,
    "start_time": "2023-11-18T14:56:16.853Z"
   },
   {
    "duration": 105,
    "start_time": "2023-11-18T14:56:19.169Z"
   },
   {
    "duration": 14,
    "start_time": "2023-11-18T14:56:22.468Z"
   },
   {
    "duration": 3,
    "start_time": "2023-11-18T14:56:23.232Z"
   },
   {
    "duration": 3,
    "start_time": "2023-11-18T14:56:26.688Z"
   },
   {
    "duration": 63,
    "start_time": "2023-11-18T14:56:27.447Z"
   },
   {
    "duration": 2439,
    "start_time": "2023-11-18T14:56:29.118Z"
   },
   {
    "duration": 1898,
    "start_time": "2023-11-18T14:56:34.773Z"
   },
   {
    "duration": 51,
    "start_time": "2023-11-18T14:56:45.061Z"
   },
   {
    "duration": 19,
    "start_time": "2023-11-18T14:57:12.657Z"
   },
   {
    "duration": 188,
    "start_time": "2023-11-18T14:58:21.353Z"
   },
   {
    "duration": 24,
    "start_time": "2023-11-18T15:00:57.482Z"
   },
   {
    "duration": 24,
    "start_time": "2023-11-18T15:04:36.078Z"
   },
   {
    "duration": 152,
    "start_time": "2023-11-18T15:04:48.430Z"
   },
   {
    "duration": 8663,
    "start_time": "2023-11-18T15:05:10.423Z"
   },
   {
    "duration": 7715,
    "start_time": "2023-11-18T15:06:51.383Z"
   },
   {
    "duration": 840,
    "start_time": "2023-11-18T15:07:30.061Z"
   },
   {
    "duration": 771,
    "start_time": "2023-11-18T15:07:51.314Z"
   },
   {
    "duration": 59616,
    "start_time": "2023-11-18T15:07:59.651Z"
   },
   {
    "duration": 7575,
    "start_time": "2023-11-18T15:10:13.011Z"
   },
   {
    "duration": 241,
    "start_time": "2023-11-18T15:12:54.003Z"
   },
   {
    "duration": 87,
    "start_time": "2023-11-18T15:15:00.136Z"
   },
   {
    "duration": 2395,
    "start_time": "2023-11-18T15:15:09.311Z"
   },
   {
    "duration": 1707,
    "start_time": "2023-11-18T15:15:11.708Z"
   },
   {
    "duration": 867,
    "start_time": "2023-11-18T15:15:13.417Z"
   },
   {
    "duration": 1482,
    "start_time": "2023-11-18T15:15:14.286Z"
   },
   {
    "duration": 32,
    "start_time": "2023-11-18T15:15:15.770Z"
   },
   {
    "duration": 79,
    "start_time": "2023-11-18T15:15:15.814Z"
   },
   {
    "duration": 5,
    "start_time": "2023-11-18T15:15:15.895Z"
   },
   {
    "duration": 29,
    "start_time": "2023-11-18T15:15:15.915Z"
   },
   {
    "duration": 149,
    "start_time": "2023-11-18T15:15:15.946Z"
   },
   {
    "duration": 63,
    "start_time": "2023-11-18T15:15:16.098Z"
   },
   {
    "duration": 21,
    "start_time": "2023-11-18T15:15:16.162Z"
   },
   {
    "duration": 70,
    "start_time": "2023-11-18T15:15:16.185Z"
   },
   {
    "duration": 20,
    "start_time": "2023-11-18T15:15:16.257Z"
   },
   {
    "duration": 67,
    "start_time": "2023-11-18T15:15:16.278Z"
   },
   {
    "duration": 427,
    "start_time": "2023-11-18T15:15:16.347Z"
   },
   {
    "duration": 20,
    "start_time": "2023-11-18T15:15:16.776Z"
   },
   {
    "duration": 56,
    "start_time": "2023-11-18T15:15:16.798Z"
   },
   {
    "duration": 245,
    "start_time": "2023-11-18T15:15:16.855Z"
   },
   {
    "duration": 26,
    "start_time": "2023-11-18T15:15:17.102Z"
   },
   {
    "duration": 46,
    "start_time": "2023-11-18T15:15:17.129Z"
   },
   {
    "duration": 208,
    "start_time": "2023-11-18T15:15:17.176Z"
   },
   {
    "duration": 193,
    "start_time": "2023-11-18T15:15:17.386Z"
   },
   {
    "duration": 34,
    "start_time": "2023-11-18T15:15:17.580Z"
   },
   {
    "duration": 246,
    "start_time": "2023-11-18T15:15:17.616Z"
   },
   {
    "duration": 7,
    "start_time": "2023-11-18T15:15:17.864Z"
   },
   {
    "duration": 8,
    "start_time": "2023-11-18T15:15:17.872Z"
   },
   {
    "duration": 4,
    "start_time": "2023-11-18T15:15:17.881Z"
   },
   {
    "duration": 290,
    "start_time": "2023-11-18T15:15:17.889Z"
   },
   {
    "duration": 4,
    "start_time": "2023-11-18T15:15:18.181Z"
   },
   {
    "duration": 248,
    "start_time": "2023-11-18T15:15:18.187Z"
   },
   {
    "duration": 467,
    "start_time": "2023-11-18T15:15:18.436Z"
   },
   {
    "duration": 13,
    "start_time": "2023-11-18T15:15:18.904Z"
   },
   {
    "duration": 69,
    "start_time": "2023-11-18T15:15:18.919Z"
   },
   {
    "duration": 36,
    "start_time": "2023-11-18T15:15:18.990Z"
   },
   {
    "duration": 97,
    "start_time": "2023-11-18T15:15:19.027Z"
   },
   {
    "duration": 325,
    "start_time": "2023-11-18T15:15:19.126Z"
   },
   {
    "duration": 481,
    "start_time": "2023-11-18T15:15:19.452Z"
   },
   {
    "duration": 1034,
    "start_time": "2023-11-18T15:15:19.934Z"
   },
   {
    "duration": 31,
    "start_time": "2023-11-18T15:15:20.970Z"
   },
   {
    "duration": 1071,
    "start_time": "2023-11-18T15:15:21.002Z"
   },
   {
    "duration": 94,
    "start_time": "2023-11-18T15:15:22.075Z"
   },
   {
    "duration": 19,
    "start_time": "2023-11-18T15:15:22.171Z"
   },
   {
    "duration": 60,
    "start_time": "2023-11-18T15:15:22.191Z"
   },
   {
    "duration": 18,
    "start_time": "2023-11-18T15:15:22.253Z"
   },
   {
    "duration": 112,
    "start_time": "2023-11-18T15:15:22.273Z"
   },
   {
    "duration": 13,
    "start_time": "2023-11-18T15:15:22.387Z"
   },
   {
    "duration": 13,
    "start_time": "2023-11-18T15:15:22.402Z"
   },
   {
    "duration": 2,
    "start_time": "2023-11-18T15:15:22.416Z"
   },
   {
    "duration": 65,
    "start_time": "2023-11-18T15:15:22.420Z"
   },
   {
    "duration": 2453,
    "start_time": "2023-11-18T15:15:22.486Z"
   },
   {
    "duration": 1891,
    "start_time": "2023-11-18T15:15:24.941Z"
   },
   {
    "duration": 22,
    "start_time": "2023-11-18T15:15:26.833Z"
   },
   {
    "duration": 232,
    "start_time": "2023-11-18T15:15:26.856Z"
   },
   {
    "duration": 125,
    "start_time": "2023-11-18T15:15:27.090Z"
   },
   {
    "duration": 0,
    "start_time": "2023-11-18T15:15:27.217Z"
   },
   {
    "duration": 0,
    "start_time": "2023-11-18T15:15:27.218Z"
   },
   {
    "duration": 0,
    "start_time": "2023-11-18T15:15:27.220Z"
   },
   {
    "duration": 0,
    "start_time": "2023-11-18T15:15:27.220Z"
   },
   {
    "duration": 0,
    "start_time": "2023-11-18T15:15:27.222Z"
   },
   {
    "duration": 0,
    "start_time": "2023-11-18T15:15:27.222Z"
   },
   {
    "duration": 1,
    "start_time": "2023-11-18T15:15:27.223Z"
   },
   {
    "duration": 0,
    "start_time": "2023-11-18T15:15:27.225Z"
   },
   {
    "duration": 0,
    "start_time": "2023-11-18T15:15:27.226Z"
   },
   {
    "duration": 0,
    "start_time": "2023-11-18T15:15:27.227Z"
   },
   {
    "duration": 0,
    "start_time": "2023-11-18T15:15:27.228Z"
   },
   {
    "duration": 7817,
    "start_time": "2023-11-18T15:16:18.726Z"
   },
   {
    "duration": 170,
    "start_time": "2023-11-18T15:16:31.470Z"
   },
   {
    "duration": 785,
    "start_time": "2023-11-18T15:16:37.198Z"
   },
   {
    "duration": 54308,
    "start_time": "2023-11-18T15:16:52.370Z"
   },
   {
    "duration": 8244,
    "start_time": "2023-11-18T15:17:54.150Z"
   },
   {
    "duration": 2,
    "start_time": "2023-11-18T15:18:16.582Z"
   },
   {
    "duration": 882242,
    "start_time": "2023-11-18T15:18:17.474Z"
   },
   {
    "duration": 2394,
    "start_time": "2023-11-18T15:59:07.829Z"
   },
   {
    "duration": 2333,
    "start_time": "2023-11-18T15:59:10.226Z"
   },
   {
    "duration": 1394,
    "start_time": "2023-11-18T15:59:12.561Z"
   },
   {
    "duration": 827,
    "start_time": "2023-11-18T15:59:13.957Z"
   },
   {
    "duration": 1624,
    "start_time": "2023-11-18T15:59:14.785Z"
   },
   {
    "duration": 32,
    "start_time": "2023-11-18T15:59:16.411Z"
   },
   {
    "duration": 17,
    "start_time": "2023-11-18T15:59:16.444Z"
   },
   {
    "duration": 5,
    "start_time": "2023-11-18T15:59:16.462Z"
   },
   {
    "duration": 61,
    "start_time": "2023-11-18T15:59:16.468Z"
   },
   {
    "duration": 149,
    "start_time": "2023-11-18T15:59:16.531Z"
   },
   {
    "duration": 60,
    "start_time": "2023-11-18T15:59:16.681Z"
   },
   {
    "duration": 20,
    "start_time": "2023-11-18T15:59:16.743Z"
   },
   {
    "duration": 71,
    "start_time": "2023-11-18T15:59:16.764Z"
   },
   {
    "duration": 10,
    "start_time": "2023-11-18T15:59:16.837Z"
   },
   {
    "duration": 66,
    "start_time": "2023-11-18T15:59:16.849Z"
   },
   {
    "duration": 425,
    "start_time": "2023-11-18T15:59:16.917Z"
   },
   {
    "duration": 23,
    "start_time": "2023-11-18T15:59:17.343Z"
   },
   {
    "duration": 66,
    "start_time": "2023-11-18T15:59:17.367Z"
   },
   {
    "duration": 241,
    "start_time": "2023-11-18T15:59:17.434Z"
   },
   {
    "duration": 21,
    "start_time": "2023-11-18T15:59:17.677Z"
   },
   {
    "duration": 59,
    "start_time": "2023-11-18T15:59:17.699Z"
   },
   {
    "duration": 193,
    "start_time": "2023-11-18T15:59:17.759Z"
   },
   {
    "duration": 204,
    "start_time": "2023-11-18T15:59:17.954Z"
   },
   {
    "duration": 27,
    "start_time": "2023-11-18T15:59:18.160Z"
   },
   {
    "duration": 262,
    "start_time": "2023-11-18T15:59:18.188Z"
   },
   {
    "duration": 7,
    "start_time": "2023-11-18T15:59:18.452Z"
   },
   {
    "duration": 78,
    "start_time": "2023-11-18T15:59:18.460Z"
   },
   {
    "duration": 52,
    "start_time": "2023-11-18T15:59:18.542Z"
   },
   {
    "duration": 262,
    "start_time": "2023-11-18T15:59:18.595Z"
   },
   {
    "duration": 4,
    "start_time": "2023-11-18T15:59:18.859Z"
   },
   {
    "duration": 322,
    "start_time": "2023-11-18T15:59:18.864Z"
   },
   {
    "duration": 348,
    "start_time": "2023-11-18T15:59:19.187Z"
   },
   {
    "duration": 6,
    "start_time": "2023-11-18T15:59:19.537Z"
   },
   {
    "duration": 75,
    "start_time": "2023-11-18T15:59:19.545Z"
   },
   {
    "duration": 15,
    "start_time": "2023-11-18T15:59:19.621Z"
   },
   {
    "duration": 99,
    "start_time": "2023-11-18T15:59:19.637Z"
   },
   {
    "duration": 331,
    "start_time": "2023-11-18T15:59:19.738Z"
   },
   {
    "duration": 497,
    "start_time": "2023-11-18T15:59:20.071Z"
   },
   {
    "duration": 1041,
    "start_time": "2023-11-18T15:59:20.570Z"
   },
   {
    "duration": 28,
    "start_time": "2023-11-18T15:59:21.613Z"
   },
   {
    "duration": 1120,
    "start_time": "2023-11-18T15:59:21.642Z"
   },
   {
    "duration": 96,
    "start_time": "2023-11-18T15:59:22.763Z"
   },
   {
    "duration": 19,
    "start_time": "2023-11-18T15:59:22.861Z"
   },
   {
    "duration": 64,
    "start_time": "2023-11-18T15:59:22.881Z"
   },
   {
    "duration": 20,
    "start_time": "2023-11-18T15:59:22.947Z"
   },
   {
    "duration": 119,
    "start_time": "2023-11-18T15:59:22.968Z"
   },
   {
    "duration": 15,
    "start_time": "2023-11-18T15:59:23.089Z"
   },
   {
    "duration": 37,
    "start_time": "2023-11-18T15:59:23.105Z"
   },
   {
    "duration": 13,
    "start_time": "2023-11-18T15:59:23.144Z"
   },
   {
    "duration": 104,
    "start_time": "2023-11-18T15:59:23.158Z"
   },
   {
    "duration": 1832,
    "start_time": "2023-11-18T15:59:23.263Z"
   },
   {
    "duration": 20,
    "start_time": "2023-11-18T15:59:25.096Z"
   },
   {
    "duration": 327,
    "start_time": "2023-11-18T15:59:25.117Z"
   },
   {
    "duration": 8400,
    "start_time": "2023-11-18T15:59:25.446Z"
   },
   {
    "duration": 823,
    "start_time": "2023-11-18T15:59:33.848Z"
   },
   {
    "duration": 56924,
    "start_time": "2023-11-18T15:59:34.672Z"
   },
   {
    "duration": 7851,
    "start_time": "2023-11-18T16:00:31.598Z"
   },
   {
    "duration": 3,
    "start_time": "2023-11-18T16:00:39.451Z"
   },
   {
    "duration": 725589,
    "start_time": "2023-11-18T16:00:39.455Z"
   },
   {
    "duration": 0,
    "start_time": "2023-11-18T16:12:45.046Z"
   },
   {
    "duration": 0,
    "start_time": "2023-11-18T16:12:45.047Z"
   },
   {
    "duration": 0,
    "start_time": "2023-11-18T16:12:45.048Z"
   },
   {
    "duration": 0,
    "start_time": "2023-11-18T16:12:45.049Z"
   },
   {
    "duration": 0,
    "start_time": "2023-11-18T16:12:45.050Z"
   },
   {
    "duration": 0,
    "start_time": "2023-11-18T16:12:45.051Z"
   },
   {
    "duration": 0,
    "start_time": "2023-11-18T16:12:45.052Z"
   },
   {
    "duration": 0,
    "start_time": "2023-11-18T16:12:45.053Z"
   },
   {
    "duration": 14,
    "start_time": "2023-11-18T16:53:28.207Z"
   },
   {
    "duration": 2547,
    "start_time": "2023-11-18T16:53:44.264Z"
   },
   {
    "duration": 2599,
    "start_time": "2023-11-18T16:53:46.813Z"
   },
   {
    "duration": 1672,
    "start_time": "2023-11-18T16:53:49.415Z"
   },
   {
    "duration": 916,
    "start_time": "2023-11-18T16:53:51.089Z"
   },
   {
    "duration": 1658,
    "start_time": "2023-11-18T16:53:52.007Z"
   },
   {
    "duration": 32,
    "start_time": "2023-11-18T16:53:53.667Z"
   },
   {
    "duration": 32,
    "start_time": "2023-11-18T16:53:53.700Z"
   },
   {
    "duration": 6,
    "start_time": "2023-11-18T16:53:53.734Z"
   },
   {
    "duration": 35,
    "start_time": "2023-11-18T16:53:53.742Z"
   },
   {
    "duration": 214,
    "start_time": "2023-11-18T16:53:53.779Z"
   },
   {
    "duration": 70,
    "start_time": "2023-11-18T16:53:53.994Z"
   },
   {
    "duration": 24,
    "start_time": "2023-11-18T16:53:54.066Z"
   },
   {
    "duration": 73,
    "start_time": "2023-11-18T16:53:54.092Z"
   },
   {
    "duration": 10,
    "start_time": "2023-11-18T16:53:54.166Z"
   },
   {
    "duration": 52,
    "start_time": "2023-11-18T16:53:54.178Z"
   },
   {
    "duration": 437,
    "start_time": "2023-11-18T16:53:54.232Z"
   },
   {
    "duration": 20,
    "start_time": "2023-11-18T16:53:54.671Z"
   },
   {
    "duration": 69,
    "start_time": "2023-11-18T16:53:54.693Z"
   },
   {
    "duration": 278,
    "start_time": "2023-11-18T16:53:54.764Z"
   },
   {
    "duration": 23,
    "start_time": "2023-11-18T16:53:55.043Z"
   },
   {
    "duration": 66,
    "start_time": "2023-11-18T16:53:55.067Z"
   },
   {
    "duration": 222,
    "start_time": "2023-11-18T16:53:55.134Z"
   },
   {
    "duration": 222,
    "start_time": "2023-11-18T16:53:55.358Z"
   },
   {
    "duration": 23,
    "start_time": "2023-11-18T16:53:55.581Z"
   },
   {
    "duration": 302,
    "start_time": "2023-11-18T16:53:55.605Z"
   },
   {
    "duration": 14,
    "start_time": "2023-11-18T16:53:55.908Z"
   },
   {
    "duration": 12,
    "start_time": "2023-11-18T16:53:55.924Z"
   },
   {
    "duration": 5,
    "start_time": "2023-11-18T16:53:55.940Z"
   },
   {
    "duration": 295,
    "start_time": "2023-11-18T16:53:55.946Z"
   },
   {
    "duration": 4,
    "start_time": "2023-11-18T16:53:56.243Z"
   },
   {
    "duration": 351,
    "start_time": "2023-11-18T16:53:56.249Z"
   },
   {
    "duration": 379,
    "start_time": "2023-11-18T16:53:56.601Z"
   },
   {
    "duration": 7,
    "start_time": "2023-11-18T16:53:56.981Z"
   },
   {
    "duration": 87,
    "start_time": "2023-11-18T16:53:56.990Z"
   },
   {
    "duration": 15,
    "start_time": "2023-11-18T16:53:57.078Z"
   },
   {
    "duration": 111,
    "start_time": "2023-11-18T16:53:57.095Z"
   },
   {
    "duration": 379,
    "start_time": "2023-11-18T16:53:57.215Z"
   },
   {
    "duration": 550,
    "start_time": "2023-11-18T16:53:57.595Z"
   },
   {
    "duration": 1101,
    "start_time": "2023-11-18T16:53:58.147Z"
   },
   {
    "duration": 28,
    "start_time": "2023-11-18T16:53:59.250Z"
   },
   {
    "duration": 1192,
    "start_time": "2023-11-18T16:53:59.279Z"
   },
   {
    "duration": 92,
    "start_time": "2023-11-18T16:54:00.472Z"
   },
   {
    "duration": 26,
    "start_time": "2023-11-18T16:54:00.566Z"
   },
   {
    "duration": 70,
    "start_time": "2023-11-18T16:54:00.593Z"
   },
   {
    "duration": 20,
    "start_time": "2023-11-18T16:54:00.665Z"
   },
   {
    "duration": 139,
    "start_time": "2023-11-18T16:54:00.686Z"
   },
   {
    "duration": 19,
    "start_time": "2023-11-18T16:54:00.827Z"
   },
   {
    "duration": 21,
    "start_time": "2023-11-18T16:54:00.848Z"
   },
   {
    "duration": 27,
    "start_time": "2023-11-18T16:54:00.871Z"
   },
   {
    "duration": 81,
    "start_time": "2023-11-18T16:54:00.899Z"
   },
   {
    "duration": 1915,
    "start_time": "2023-11-18T16:54:00.982Z"
   },
   {
    "duration": 23,
    "start_time": "2023-11-18T16:54:02.898Z"
   },
   {
    "duration": 361,
    "start_time": "2023-11-18T16:54:02.923Z"
   },
   {
    "duration": 117,
    "start_time": "2023-11-18T16:54:03.285Z"
   },
   {
    "duration": 0,
    "start_time": "2023-11-18T16:54:03.403Z"
   },
   {
    "duration": 0,
    "start_time": "2023-11-18T16:54:03.404Z"
   },
   {
    "duration": 0,
    "start_time": "2023-11-18T16:54:03.405Z"
   },
   {
    "duration": 0,
    "start_time": "2023-11-18T16:54:03.406Z"
   },
   {
    "duration": 0,
    "start_time": "2023-11-18T16:54:03.407Z"
   },
   {
    "duration": 0,
    "start_time": "2023-11-18T16:54:03.409Z"
   },
   {
    "duration": 0,
    "start_time": "2023-11-18T16:54:03.409Z"
   },
   {
    "duration": 0,
    "start_time": "2023-11-18T16:54:03.410Z"
   },
   {
    "duration": 0,
    "start_time": "2023-11-18T16:54:03.411Z"
   },
   {
    "duration": 0,
    "start_time": "2023-11-18T16:54:03.412Z"
   },
   {
    "duration": 0,
    "start_time": "2023-11-18T16:54:03.414Z"
   },
   {
    "duration": 0,
    "start_time": "2023-11-18T16:54:03.415Z"
   },
   {
    "duration": 0,
    "start_time": "2023-11-18T16:54:03.416Z"
   },
   {
    "duration": 0,
    "start_time": "2023-11-18T16:54:03.417Z"
   },
   {
    "duration": 8060,
    "start_time": "2023-11-18T16:54:31.493Z"
   },
   {
    "duration": 54353,
    "start_time": "2023-11-18T16:54:45.731Z"
   },
   {
    "duration": 2,
    "start_time": "2023-11-18T16:55:46.478Z"
   },
   {
    "duration": 117,
    "start_time": "2023-11-18T16:55:47.303Z"
   },
   {
    "duration": 2340,
    "start_time": "2023-11-18T17:02:30.919Z"
   },
   {
    "duration": 2361,
    "start_time": "2023-11-18T17:02:33.261Z"
   },
   {
    "duration": 1445,
    "start_time": "2023-11-18T17:02:35.623Z"
   },
   {
    "duration": 835,
    "start_time": "2023-11-18T17:02:37.070Z"
   },
   {
    "duration": 1528,
    "start_time": "2023-11-18T17:02:37.906Z"
   },
   {
    "duration": 33,
    "start_time": "2023-11-18T17:02:39.436Z"
   },
   {
    "duration": 17,
    "start_time": "2023-11-18T17:02:39.470Z"
   },
   {
    "duration": 27,
    "start_time": "2023-11-18T17:02:39.488Z"
   },
   {
    "duration": 31,
    "start_time": "2023-11-18T17:02:39.517Z"
   },
   {
    "duration": 152,
    "start_time": "2023-11-18T17:02:39.551Z"
   },
   {
    "duration": 63,
    "start_time": "2023-11-18T17:02:39.704Z"
   },
   {
    "duration": 24,
    "start_time": "2023-11-18T17:02:39.769Z"
   },
   {
    "duration": 65,
    "start_time": "2023-11-18T17:02:39.795Z"
   },
   {
    "duration": 11,
    "start_time": "2023-11-18T17:02:39.862Z"
   },
   {
    "duration": 60,
    "start_time": "2023-11-18T17:02:39.874Z"
   },
   {
    "duration": 423,
    "start_time": "2023-11-18T17:02:39.936Z"
   },
   {
    "duration": 21,
    "start_time": "2023-11-18T17:02:40.360Z"
   },
   {
    "duration": 54,
    "start_time": "2023-11-18T17:02:40.382Z"
   },
   {
    "duration": 230,
    "start_time": "2023-11-18T17:02:40.437Z"
   },
   {
    "duration": 21,
    "start_time": "2023-11-18T17:02:40.669Z"
   },
   {
    "duration": 58,
    "start_time": "2023-11-18T17:02:40.691Z"
   },
   {
    "duration": 204,
    "start_time": "2023-11-18T17:02:40.750Z"
   },
   {
    "duration": 195,
    "start_time": "2023-11-18T17:02:40.955Z"
   },
   {
    "duration": 23,
    "start_time": "2023-11-18T17:02:41.152Z"
   },
   {
    "duration": 262,
    "start_time": "2023-11-18T17:02:41.176Z"
   },
   {
    "duration": 9,
    "start_time": "2023-11-18T17:02:41.440Z"
   },
   {
    "duration": 9,
    "start_time": "2023-11-18T17:02:41.451Z"
   },
   {
    "duration": 4,
    "start_time": "2023-11-18T17:02:41.465Z"
   },
   {
    "duration": 289,
    "start_time": "2023-11-18T17:02:41.471Z"
   },
   {
    "duration": 5,
    "start_time": "2023-11-18T17:02:41.762Z"
   },
   {
    "duration": 330,
    "start_time": "2023-11-18T17:02:41.769Z"
   },
   {
    "duration": 338,
    "start_time": "2023-11-18T17:02:42.101Z"
   },
   {
    "duration": 7,
    "start_time": "2023-11-18T17:02:42.441Z"
   },
   {
    "duration": 80,
    "start_time": "2023-11-18T17:02:42.450Z"
   },
   {
    "duration": 17,
    "start_time": "2023-11-18T17:02:42.532Z"
   },
   {
    "duration": 102,
    "start_time": "2023-11-18T17:02:42.551Z"
   },
   {
    "duration": 335,
    "start_time": "2023-11-18T17:02:42.655Z"
   },
   {
    "duration": 501,
    "start_time": "2023-11-18T17:02:42.991Z"
   },
   {
    "duration": 1024,
    "start_time": "2023-11-18T17:02:43.493Z"
   },
   {
    "duration": 28,
    "start_time": "2023-11-18T17:02:44.519Z"
   },
   {
    "duration": 1139,
    "start_time": "2023-11-18T17:02:44.548Z"
   },
   {
    "duration": 118,
    "start_time": "2023-11-18T17:02:45.688Z"
   },
   {
    "duration": 20,
    "start_time": "2023-11-18T17:02:45.815Z"
   },
   {
    "duration": 50,
    "start_time": "2023-11-18T17:02:45.837Z"
   },
   {
    "duration": 32,
    "start_time": "2023-11-18T17:02:45.889Z"
   },
   {
    "duration": 114,
    "start_time": "2023-11-18T17:02:45.922Z"
   },
   {
    "duration": 13,
    "start_time": "2023-11-18T17:02:46.038Z"
   },
   {
    "duration": 2,
    "start_time": "2023-11-18T17:02:46.052Z"
   },
   {
    "duration": 6,
    "start_time": "2023-11-18T17:02:46.056Z"
   },
   {
    "duration": 78,
    "start_time": "2023-11-18T17:02:46.064Z"
   },
   {
    "duration": 1805,
    "start_time": "2023-11-18T17:02:46.144Z"
   },
   {
    "duration": 19,
    "start_time": "2023-11-18T17:02:47.951Z"
   },
   {
    "duration": 333,
    "start_time": "2023-11-18T17:02:47.972Z"
   },
   {
    "duration": 7614,
    "start_time": "2023-11-18T17:02:48.306Z"
   },
   {
    "duration": 53227,
    "start_time": "2023-11-18T17:02:55.922Z"
   },
   {
    "duration": 2,
    "start_time": "2023-11-18T17:03:49.151Z"
   },
   {
    "duration": 696514,
    "start_time": "2023-11-18T17:03:49.154Z"
   },
   {
    "duration": 0,
    "start_time": "2023-11-18T17:15:25.670Z"
   },
   {
    "duration": 0,
    "start_time": "2023-11-18T17:15:25.671Z"
   },
   {
    "duration": 0,
    "start_time": "2023-11-18T17:15:25.672Z"
   },
   {
    "duration": 0,
    "start_time": "2023-11-18T17:15:25.673Z"
   },
   {
    "duration": 0,
    "start_time": "2023-11-18T17:15:25.674Z"
   },
   {
    "duration": 0,
    "start_time": "2023-11-18T17:15:25.675Z"
   },
   {
    "duration": 0,
    "start_time": "2023-11-18T17:15:25.676Z"
   },
   {
    "duration": 0,
    "start_time": "2023-11-18T17:15:25.677Z"
   },
   {
    "duration": 0,
    "start_time": "2023-11-18T17:15:25.679Z"
   },
   {
    "duration": 0,
    "start_time": "2023-11-18T17:15:25.679Z"
   },
   {
    "duration": 0,
    "start_time": "2023-11-18T17:15:25.681Z"
   },
   {
    "duration": 2740,
    "start_time": "2023-11-19T10:45:59.480Z"
   },
   {
    "duration": 3293,
    "start_time": "2023-11-19T10:46:02.223Z"
   },
   {
    "duration": 1788,
    "start_time": "2023-11-19T10:46:05.518Z"
   },
   {
    "duration": 3026,
    "start_time": "2023-11-19T10:46:07.309Z"
   },
   {
    "duration": 1782,
    "start_time": "2023-11-19T10:46:10.337Z"
   },
   {
    "duration": 41,
    "start_time": "2023-11-19T10:46:14.924Z"
   },
   {
    "duration": 20,
    "start_time": "2023-11-19T10:46:15.488Z"
   },
   {
    "duration": 9,
    "start_time": "2023-11-19T10:46:15.812Z"
   },
   {
    "duration": 34,
    "start_time": "2023-11-19T10:46:16.120Z"
   },
   {
    "duration": 139,
    "start_time": "2023-11-19T10:46:16.304Z"
   },
   {
    "duration": 52,
    "start_time": "2023-11-19T10:46:16.484Z"
   },
   {
    "duration": 24,
    "start_time": "2023-11-19T10:46:16.827Z"
   },
   {
    "duration": 59,
    "start_time": "2023-11-19T10:46:17.396Z"
   },
   {
    "duration": 10,
    "start_time": "2023-11-19T10:46:17.564Z"
   },
   {
    "duration": 52,
    "start_time": "2023-11-19T10:46:17.771Z"
   },
   {
    "duration": 439,
    "start_time": "2023-11-19T10:46:18.084Z"
   },
   {
    "duration": 22,
    "start_time": "2023-11-19T10:46:18.525Z"
   },
   {
    "duration": 47,
    "start_time": "2023-11-19T10:46:18.579Z"
   },
   {
    "duration": 231,
    "start_time": "2023-11-19T10:46:18.920Z"
   },
   {
    "duration": 23,
    "start_time": "2023-11-19T10:46:19.153Z"
   },
   {
    "duration": 49,
    "start_time": "2023-11-19T10:46:19.428Z"
   },
   {
    "duration": 193,
    "start_time": "2023-11-19T10:46:20.551Z"
   },
   {
    "duration": 195,
    "start_time": "2023-11-19T10:46:20.746Z"
   },
   {
    "duration": 24,
    "start_time": "2023-11-19T10:46:20.973Z"
   },
   {
    "duration": 242,
    "start_time": "2023-11-19T10:46:21.876Z"
   },
   {
    "duration": 7,
    "start_time": "2023-11-19T10:46:22.585Z"
   },
   {
    "duration": 8,
    "start_time": "2023-11-19T10:46:24.724Z"
   },
   {
    "duration": 4,
    "start_time": "2023-11-19T10:46:26.648Z"
   },
   {
    "duration": 262,
    "start_time": "2023-11-19T10:46:27.792Z"
   },
   {
    "duration": 4,
    "start_time": "2023-11-19T10:46:28.524Z"
   },
   {
    "duration": 328,
    "start_time": "2023-11-19T10:46:28.732Z"
   },
   {
    "duration": 371,
    "start_time": "2023-11-19T10:46:29.062Z"
   },
   {
    "duration": 8,
    "start_time": "2023-11-19T10:46:29.435Z"
   },
   {
    "duration": 82,
    "start_time": "2023-11-19T10:46:29.444Z"
   },
   {
    "duration": 17,
    "start_time": "2023-11-19T10:46:30.268Z"
   },
   {
    "duration": 87,
    "start_time": "2023-11-19T10:46:31.728Z"
   },
   {
    "duration": 337,
    "start_time": "2023-11-19T10:46:33.228Z"
   },
   {
    "duration": 495,
    "start_time": "2023-11-19T10:46:33.575Z"
   },
   {
    "duration": 1047,
    "start_time": "2023-11-19T10:46:34.072Z"
   },
   {
    "duration": 28,
    "start_time": "2023-11-19T10:46:35.121Z"
   },
   {
    "duration": 1134,
    "start_time": "2023-11-19T10:46:35.151Z"
   },
   {
    "duration": 90,
    "start_time": "2023-11-19T10:46:36.286Z"
   },
   {
    "duration": 29,
    "start_time": "2023-11-19T10:46:36.377Z"
   },
   {
    "duration": 45,
    "start_time": "2023-11-19T10:46:36.408Z"
   },
   {
    "duration": 18,
    "start_time": "2023-11-19T10:46:36.455Z"
   },
   {
    "duration": 98,
    "start_time": "2023-11-19T10:46:37.180Z"
   },
   {
    "duration": 15,
    "start_time": "2023-11-19T10:46:38.696Z"
   },
   {
    "duration": 2,
    "start_time": "2023-11-19T10:46:38.944Z"
   },
   {
    "duration": 2,
    "start_time": "2023-11-19T10:46:41.440Z"
   },
   {
    "duration": 73,
    "start_time": "2023-11-19T10:46:42.760Z"
   },
   {
    "duration": 103,
    "start_time": "2023-11-19T10:46:45.247Z"
   },
   {
    "duration": 33,
    "start_time": "2023-11-19T10:46:50.924Z"
   },
   {
    "duration": 1476,
    "start_time": "2023-11-19T10:48:41.972Z"
   },
   {
    "duration": 26,
    "start_time": "2023-11-19T10:48:49.481Z"
   },
   {
    "duration": 1585,
    "start_time": "2023-11-19T10:48:50.353Z"
   },
   {
    "duration": 18,
    "start_time": "2023-11-19T10:49:28.069Z"
   },
   {
    "duration": 19,
    "start_time": "2023-11-19T10:49:38.101Z"
   },
   {
    "duration": 19,
    "start_time": "2023-11-19T10:49:50.245Z"
   },
   {
    "duration": 20,
    "start_time": "2023-11-19T10:49:59.397Z"
   },
   {
    "duration": 257,
    "start_time": "2023-11-19T10:51:40.709Z"
   },
   {
    "duration": 276,
    "start_time": "2023-11-19T10:51:56.954Z"
   },
   {
    "duration": 254,
    "start_time": "2023-11-19T10:52:11.182Z"
   },
   {
    "duration": 258,
    "start_time": "2023-11-19T10:52:28.990Z"
   },
   {
    "duration": 5918,
    "start_time": "2023-11-19T10:55:11.083Z"
   },
   {
    "duration": 41057,
    "start_time": "2023-11-19T10:55:48.163Z"
   },
   {
    "duration": 143612,
    "start_time": "2023-11-19T11:00:47.504Z"
   },
   {
    "duration": 581402,
    "start_time": "2023-11-19T11:03:33.166Z"
   },
   {
    "duration": 2368,
    "start_time": "2023-11-19T11:20:31.004Z"
   },
   {
    "duration": 2496,
    "start_time": "2023-11-19T11:20:33.375Z"
   },
   {
    "duration": 1617,
    "start_time": "2023-11-19T11:20:35.873Z"
   },
   {
    "duration": 884,
    "start_time": "2023-11-19T11:20:37.492Z"
   },
   {
    "duration": 1621,
    "start_time": "2023-11-19T11:20:38.377Z"
   },
   {
    "duration": 32,
    "start_time": "2023-11-19T11:20:42.137Z"
   },
   {
    "duration": 22,
    "start_time": "2023-11-19T11:20:43.115Z"
   },
   {
    "duration": 6,
    "start_time": "2023-11-19T11:20:44.538Z"
   },
   {
    "duration": 35,
    "start_time": "2023-11-19T11:20:45.790Z"
   },
   {
    "duration": 140,
    "start_time": "2023-11-19T11:20:46.816Z"
   },
   {
    "duration": 53,
    "start_time": "2023-11-19T11:20:47.971Z"
   },
   {
    "duration": 25,
    "start_time": "2023-11-19T11:20:55.424Z"
   },
   {
    "duration": 52,
    "start_time": "2023-11-19T11:21:03.616Z"
   },
   {
    "duration": 11,
    "start_time": "2023-11-19T11:21:04.640Z"
   },
   {
    "duration": 53,
    "start_time": "2023-11-19T11:21:05.743Z"
   },
   {
    "duration": 470,
    "start_time": "2023-11-19T11:21:12.020Z"
   },
   {
    "duration": 26,
    "start_time": "2023-11-19T11:21:12.813Z"
   },
   {
    "duration": 48,
    "start_time": "2023-11-19T11:21:15.720Z"
   },
   {
    "duration": 249,
    "start_time": "2023-11-19T11:21:17.884Z"
   },
   {
    "duration": 25,
    "start_time": "2023-11-19T11:21:19.040Z"
   },
   {
    "duration": 49,
    "start_time": "2023-11-19T11:21:23.624Z"
   },
   {
    "duration": 199,
    "start_time": "2023-11-19T11:21:28.854Z"
   },
   {
    "duration": 196,
    "start_time": "2023-11-19T11:21:29.712Z"
   },
   {
    "duration": 24,
    "start_time": "2023-11-19T11:21:30.895Z"
   },
   {
    "duration": 251,
    "start_time": "2023-11-19T11:21:31.924Z"
   },
   {
    "duration": 8,
    "start_time": "2023-11-19T11:21:47.436Z"
   },
   {
    "duration": 9,
    "start_time": "2023-11-19T11:21:49.732Z"
   },
   {
    "duration": 5,
    "start_time": "2023-11-19T11:21:51.780Z"
   },
   {
    "duration": 262,
    "start_time": "2023-11-19T11:21:52.544Z"
   },
   {
    "duration": 5,
    "start_time": "2023-11-19T11:21:53.432Z"
   },
   {
    "duration": 337,
    "start_time": "2023-11-19T11:21:54.283Z"
   },
   {
    "duration": 375,
    "start_time": "2023-11-19T11:21:55.504Z"
   },
   {
    "duration": 7,
    "start_time": "2023-11-19T11:21:56.330Z"
   },
   {
    "duration": 72,
    "start_time": "2023-11-19T11:21:57.228Z"
   },
   {
    "duration": 18,
    "start_time": "2023-11-19T11:21:57.669Z"
   },
   {
    "duration": 92,
    "start_time": "2023-11-19T11:21:59.720Z"
   },
   {
    "duration": 342,
    "start_time": "2023-11-19T11:22:01.229Z"
   },
   {
    "duration": 557,
    "start_time": "2023-11-19T11:22:01.955Z"
   },
   {
    "duration": 1175,
    "start_time": "2023-11-19T11:22:02.726Z"
   },
   {
    "duration": 31,
    "start_time": "2023-11-19T11:22:03.904Z"
   },
   {
    "duration": 1232,
    "start_time": "2023-11-19T11:22:03.936Z"
   },
   {
    "duration": 95,
    "start_time": "2023-11-19T11:22:05.242Z"
   },
   {
    "duration": 21,
    "start_time": "2023-11-19T11:22:05.752Z"
   },
   {
    "duration": 49,
    "start_time": "2023-11-19T11:22:07.562Z"
   },
   {
    "duration": 20,
    "start_time": "2023-11-19T11:22:08.088Z"
   },
   {
    "duration": 103,
    "start_time": "2023-11-19T11:22:10.255Z"
   },
   {
    "duration": 14,
    "start_time": "2023-11-19T11:22:13.375Z"
   },
   {
    "duration": 3,
    "start_time": "2023-11-19T11:22:14.086Z"
   },
   {
    "duration": 2,
    "start_time": "2023-11-19T11:22:15.297Z"
   },
   {
    "duration": 70,
    "start_time": "2023-11-19T11:22:15.845Z"
   },
   {
    "duration": 33,
    "start_time": "2023-11-19T11:22:16.413Z"
   },
   {
    "duration": 1635,
    "start_time": "2023-11-19T11:22:17.152Z"
   },
   {
    "duration": 19,
    "start_time": "2023-11-19T11:22:19.472Z"
   },
   {
    "duration": 328,
    "start_time": "2023-11-19T11:22:58.043Z"
   },
   {
    "duration": 6320,
    "start_time": "2023-11-19T11:23:03.149Z"
   },
   {
    "duration": 4,
    "start_time": "2023-11-19T11:23:17.388Z"
   },
   {
    "duration": 224,
    "start_time": "2023-11-19T11:23:38.513Z"
   },
   {
    "duration": 666,
    "start_time": "2023-11-19T11:24:06.074Z"
   },
   {
    "duration": 23,
    "start_time": "2023-11-19T11:24:19.700Z"
   },
   {
    "duration": 13,
    "start_time": "2023-11-19T11:24:23.560Z"
   },
   {
    "duration": 4,
    "start_time": "2023-11-19T11:24:41.945Z"
   },
   {
    "duration": 41558,
    "start_time": "2023-11-19T11:24:47.441Z"
   },
   {
    "duration": 6187,
    "start_time": "2023-11-19T11:26:06.790Z"
   },
   {
    "duration": 3,
    "start_time": "2023-11-19T11:26:18.677Z"
   },
   {
    "duration": 83,
    "start_time": "2023-11-19T11:26:22.909Z"
   },
   {
    "duration": 11,
    "start_time": "2023-11-19T11:26:45.226Z"
   },
   {
    "duration": 4,
    "start_time": "2023-11-19T11:26:52.505Z"
   },
   {
    "duration": 569293,
    "start_time": "2023-11-19T11:27:23.457Z"
   },
   {
    "duration": 3,
    "start_time": "2023-11-19T11:38:31.606Z"
   },
   {
    "duration": 83,
    "start_time": "2023-11-19T11:38:36.889Z"
   },
   {
    "duration": 176,
    "start_time": "2023-11-19T11:38:50.573Z"
   },
   {
    "duration": 167,
    "start_time": "2023-11-19T11:39:52.225Z"
   },
   {
    "duration": 153,
    "start_time": "2023-11-19T11:40:47.177Z"
   },
   {
    "duration": 137264,
    "start_time": "2023-11-19T11:44:48.909Z"
   },
   {
    "duration": 4,
    "start_time": "2023-11-19T11:47:43.811Z"
   },
   {
    "duration": 110,
    "start_time": "2023-11-19T11:47:49.615Z"
   },
   {
    "duration": 420,
    "start_time": "2023-11-19T11:48:08.540Z"
   },
   {
    "duration": 10,
    "start_time": "2023-11-19T11:48:18.504Z"
   },
   {
    "duration": 5,
    "start_time": "2023-11-19T11:48:27.235Z"
   },
   {
    "duration": 665,
    "start_time": "2023-11-19T11:49:03.304Z"
   },
   {
    "duration": 638,
    "start_time": "2023-11-19T11:52:16.148Z"
   },
   {
    "duration": 648,
    "start_time": "2023-11-19T11:53:05.397Z"
   },
   {
    "duration": 483,
    "start_time": "2023-11-19T11:54:14.485Z"
   },
   {
    "duration": 466,
    "start_time": "2023-11-19T11:58:55.510Z"
   },
   {
    "duration": 0,
    "start_time": "2023-11-19T11:58:55.978Z"
   },
   {
    "duration": 479,
    "start_time": "2023-11-19T11:59:00.787Z"
   },
   {
    "duration": 0,
    "start_time": "2023-11-19T11:59:01.267Z"
   },
   {
    "duration": 434,
    "start_time": "2023-11-19T12:00:33.659Z"
   },
   {
    "duration": 273,
    "start_time": "2023-11-19T12:01:24.835Z"
   },
   {
    "duration": 313,
    "start_time": "2023-11-19T12:02:49.804Z"
   },
   {
    "duration": 461,
    "start_time": "2023-11-19T12:03:27.739Z"
   },
   {
    "duration": 458,
    "start_time": "2023-11-19T12:03:56.016Z"
   },
   {
    "duration": 466,
    "start_time": "2023-11-19T12:04:44.672Z"
   },
   {
    "duration": 21,
    "start_time": "2023-11-19T12:13:46.226Z"
   },
   {
    "duration": 5,
    "start_time": "2023-11-19T12:14:27.051Z"
   },
   {
    "duration": 3,
    "start_time": "2023-11-19T12:14:50.007Z"
   },
   {
    "duration": 465,
    "start_time": "2023-11-19T12:15:16.595Z"
   },
   {
    "duration": 4,
    "start_time": "2023-11-19T12:15:55.591Z"
   },
   {
    "duration": 310,
    "start_time": "2023-11-19T12:16:09.723Z"
   },
   {
    "duration": 420,
    "start_time": "2023-11-19T12:16:17.271Z"
   },
   {
    "duration": 25,
    "start_time": "2023-11-19T12:16:29.036Z"
   },
   {
    "duration": 472,
    "start_time": "2023-11-19T12:16:41.335Z"
   },
   {
    "duration": 468,
    "start_time": "2023-11-19T12:21:10.420Z"
   },
   {
    "duration": 0,
    "start_time": "2023-11-19T12:21:10.889Z"
   },
   {
    "duration": 2452,
    "start_time": "2023-11-19T12:28:53.188Z"
   },
   {
    "duration": 2444,
    "start_time": "2023-11-19T12:28:55.643Z"
   },
   {
    "duration": 1597,
    "start_time": "2023-11-19T12:28:58.089Z"
   },
   {
    "duration": 961,
    "start_time": "2023-11-19T12:28:59.689Z"
   },
   {
    "duration": 1671,
    "start_time": "2023-11-19T12:29:00.652Z"
   },
   {
    "duration": 30,
    "start_time": "2023-11-19T12:29:02.325Z"
   },
   {
    "duration": 42,
    "start_time": "2023-11-19T12:29:02.357Z"
   },
   {
    "duration": 5,
    "start_time": "2023-11-19T12:29:02.401Z"
   },
   {
    "duration": 43,
    "start_time": "2023-11-19T12:29:02.408Z"
   },
   {
    "duration": 147,
    "start_time": "2023-11-19T12:29:02.456Z"
   },
   {
    "duration": 55,
    "start_time": "2023-11-19T12:29:02.604Z"
   },
   {
    "duration": 44,
    "start_time": "2023-11-19T12:29:02.661Z"
   },
   {
    "duration": 49,
    "start_time": "2023-11-19T12:29:02.707Z"
   },
   {
    "duration": 11,
    "start_time": "2023-11-19T12:29:02.757Z"
   },
   {
    "duration": 73,
    "start_time": "2023-11-19T12:29:02.769Z"
   },
   {
    "duration": 423,
    "start_time": "2023-11-19T12:29:02.844Z"
   },
   {
    "duration": 21,
    "start_time": "2023-11-19T12:29:03.269Z"
   },
   {
    "duration": 47,
    "start_time": "2023-11-19T12:29:03.299Z"
   },
   {
    "duration": 283,
    "start_time": "2023-11-19T12:29:03.347Z"
   },
   {
    "duration": 23,
    "start_time": "2023-11-19T12:29:03.632Z"
   },
   {
    "duration": 72,
    "start_time": "2023-11-19T12:29:03.657Z"
   },
   {
    "duration": 228,
    "start_time": "2023-11-19T12:29:03.731Z"
   },
   {
    "duration": 203,
    "start_time": "2023-11-19T12:29:03.960Z"
   },
   {
    "duration": 24,
    "start_time": "2023-11-19T12:29:04.164Z"
   },
   {
    "duration": 270,
    "start_time": "2023-11-19T12:29:04.189Z"
   },
   {
    "duration": 7,
    "start_time": "2023-11-19T12:29:04.461Z"
   },
   {
    "duration": 20,
    "start_time": "2023-11-19T12:29:04.470Z"
   },
   {
    "duration": 6,
    "start_time": "2023-11-19T12:29:04.494Z"
   },
   {
    "duration": 277,
    "start_time": "2023-11-19T12:29:04.502Z"
   },
   {
    "duration": 5,
    "start_time": "2023-11-19T12:29:04.781Z"
   },
   {
    "duration": 358,
    "start_time": "2023-11-19T12:29:04.787Z"
   },
   {
    "duration": 407,
    "start_time": "2023-11-19T12:29:05.147Z"
   },
   {
    "duration": 8,
    "start_time": "2023-11-19T12:29:05.556Z"
   },
   {
    "duration": 87,
    "start_time": "2023-11-19T12:29:05.565Z"
   },
   {
    "duration": 16,
    "start_time": "2023-11-19T12:29:05.653Z"
   },
   {
    "duration": 107,
    "start_time": "2023-11-19T12:29:05.671Z"
   },
   {
    "duration": 343,
    "start_time": "2023-11-19T12:29:05.780Z"
   },
   {
    "duration": 503,
    "start_time": "2023-11-19T12:29:06.124Z"
   },
   {
    "duration": 1034,
    "start_time": "2023-11-19T12:29:06.629Z"
   },
   {
    "duration": 42,
    "start_time": "2023-11-19T12:29:07.665Z"
   },
   {
    "duration": 1140,
    "start_time": "2023-11-19T12:29:07.709Z"
   },
   {
    "duration": 97,
    "start_time": "2023-11-19T12:29:08.851Z"
   },
   {
    "duration": 22,
    "start_time": "2023-11-19T12:29:08.950Z"
   },
   {
    "duration": 66,
    "start_time": "2023-11-19T12:29:08.973Z"
   },
   {
    "duration": 21,
    "start_time": "2023-11-19T12:29:09.041Z"
   },
   {
    "duration": 124,
    "start_time": "2023-11-19T12:29:09.064Z"
   },
   {
    "duration": 22,
    "start_time": "2023-11-19T12:29:09.189Z"
   },
   {
    "duration": 3,
    "start_time": "2023-11-19T12:29:09.213Z"
   },
   {
    "duration": 5,
    "start_time": "2023-11-19T12:29:09.218Z"
   },
   {
    "duration": 100,
    "start_time": "2023-11-19T12:29:09.225Z"
   },
   {
    "duration": 37,
    "start_time": "2023-11-19T12:29:09.326Z"
   },
   {
    "duration": 1612,
    "start_time": "2023-11-19T12:29:09.364Z"
   },
   {
    "duration": 23,
    "start_time": "2023-11-19T12:29:10.978Z"
   },
   {
    "duration": 326,
    "start_time": "2023-11-19T12:29:11.002Z"
   },
   {
    "duration": 6211,
    "start_time": "2023-11-19T12:29:11.329Z"
   },
   {
    "duration": 626,
    "start_time": "2023-11-19T12:29:17.542Z"
   },
   {
    "duration": 30,
    "start_time": "2023-11-19T12:29:18.170Z"
   },
   {
    "duration": 5,
    "start_time": "2023-11-19T12:29:18.202Z"
   },
   {
    "duration": 42903,
    "start_time": "2023-11-19T12:29:18.208Z"
   },
   {
    "duration": 6378,
    "start_time": "2023-11-19T12:30:01.113Z"
   },
   {
    "duration": 92,
    "start_time": "2023-11-19T12:30:07.492Z"
   },
   {
    "duration": 17,
    "start_time": "2023-11-19T12:30:07.585Z"
   },
   {
    "duration": 3,
    "start_time": "2023-11-19T12:30:07.604Z"
   },
   {
    "duration": 8,
    "start_time": "2023-11-19T12:30:07.608Z"
   },
   {
    "duration": 5,
    "start_time": "2023-11-19T12:30:07.617Z"
   },
   {
    "duration": 5,
    "start_time": "2023-11-19T12:30:07.624Z"
   },
   {
    "duration": 141,
    "start_time": "2023-11-19T12:30:07.631Z"
   },
   {
    "duration": 0,
    "start_time": "2023-11-19T12:30:07.774Z"
   },
   {
    "duration": 0,
    "start_time": "2023-11-19T12:30:07.776Z"
   },
   {
    "duration": 0,
    "start_time": "2023-11-19T12:30:07.777Z"
   },
   {
    "duration": 0,
    "start_time": "2023-11-19T12:30:07.778Z"
   },
   {
    "duration": 0,
    "start_time": "2023-11-19T12:30:07.779Z"
   },
   {
    "duration": 0,
    "start_time": "2023-11-19T12:30:07.780Z"
   },
   {
    "duration": 0,
    "start_time": "2023-11-19T12:30:07.781Z"
   },
   {
    "duration": 1,
    "start_time": "2023-11-19T12:30:07.799Z"
   },
   {
    "duration": 0,
    "start_time": "2023-11-19T12:30:07.800Z"
   },
   {
    "duration": 0,
    "start_time": "2023-11-19T12:30:07.802Z"
   },
   {
    "duration": 2380,
    "start_time": "2023-11-19T12:37:34.550Z"
   },
   {
    "duration": 2407,
    "start_time": "2023-11-19T12:37:36.933Z"
   },
   {
    "duration": 1481,
    "start_time": "2023-11-19T12:37:39.342Z"
   },
   {
    "duration": 907,
    "start_time": "2023-11-19T12:37:40.825Z"
   },
   {
    "duration": 1669,
    "start_time": "2023-11-19T12:37:41.734Z"
   },
   {
    "duration": 36,
    "start_time": "2023-11-19T12:37:43.405Z"
   },
   {
    "duration": 18,
    "start_time": "2023-11-19T12:37:43.443Z"
   },
   {
    "duration": 5,
    "start_time": "2023-11-19T12:37:43.462Z"
   },
   {
    "duration": 36,
    "start_time": "2023-11-19T12:37:43.499Z"
   },
   {
    "duration": 150,
    "start_time": "2023-11-19T12:37:43.538Z"
   },
   {
    "duration": 73,
    "start_time": "2023-11-19T12:37:43.690Z"
   },
   {
    "duration": 34,
    "start_time": "2023-11-19T12:37:43.765Z"
   },
   {
    "duration": 54,
    "start_time": "2023-11-19T12:37:43.801Z"
   },
   {
    "duration": 10,
    "start_time": "2023-11-19T12:37:43.857Z"
   },
   {
    "duration": 80,
    "start_time": "2023-11-19T12:37:43.869Z"
   },
   {
    "duration": 441,
    "start_time": "2023-11-19T12:37:43.950Z"
   },
   {
    "duration": 23,
    "start_time": "2023-11-19T12:37:44.398Z"
   },
   {
    "duration": 50,
    "start_time": "2023-11-19T12:37:44.423Z"
   },
   {
    "duration": 254,
    "start_time": "2023-11-19T12:37:44.476Z"
   },
   {
    "duration": 24,
    "start_time": "2023-11-19T12:37:44.732Z"
   },
   {
    "duration": 65,
    "start_time": "2023-11-19T12:37:44.757Z"
   },
   {
    "duration": 208,
    "start_time": "2023-11-19T12:37:44.823Z"
   },
   {
    "duration": 217,
    "start_time": "2023-11-19T12:37:45.033Z"
   },
   {
    "duration": 24,
    "start_time": "2023-11-19T12:37:45.252Z"
   },
   {
    "duration": 283,
    "start_time": "2023-11-19T12:37:45.277Z"
   },
   {
    "duration": 9,
    "start_time": "2023-11-19T12:37:45.562Z"
   },
   {
    "duration": 45,
    "start_time": "2023-11-19T12:37:45.572Z"
   },
   {
    "duration": 5,
    "start_time": "2023-11-19T12:37:45.622Z"
   },
   {
    "duration": 276,
    "start_time": "2023-11-19T12:37:45.629Z"
   },
   {
    "duration": 5,
    "start_time": "2023-11-19T12:37:45.907Z"
   },
   {
    "duration": 354,
    "start_time": "2023-11-19T12:37:45.914Z"
   },
   {
    "duration": 402,
    "start_time": "2023-11-19T12:37:46.270Z"
   },
   {
    "duration": 8,
    "start_time": "2023-11-19T12:37:46.674Z"
   },
   {
    "duration": 78,
    "start_time": "2023-11-19T12:37:46.684Z"
   },
   {
    "duration": 17,
    "start_time": "2023-11-19T12:37:46.764Z"
   },
   {
    "duration": 105,
    "start_time": "2023-11-19T12:37:46.782Z"
   },
   {
    "duration": 334,
    "start_time": "2023-11-19T12:37:46.889Z"
   },
   {
    "duration": 520,
    "start_time": "2023-11-19T12:37:47.224Z"
   },
   {
    "duration": 1046,
    "start_time": "2023-11-19T12:37:47.746Z"
   },
   {
    "duration": 42,
    "start_time": "2023-11-19T12:37:48.794Z"
   },
   {
    "duration": 1216,
    "start_time": "2023-11-19T12:37:48.837Z"
   },
   {
    "duration": 89,
    "start_time": "2023-11-19T12:37:50.055Z"
   },
   {
    "duration": 20,
    "start_time": "2023-11-19T12:37:50.146Z"
   },
   {
    "duration": 63,
    "start_time": "2023-11-19T12:37:50.167Z"
   },
   {
    "duration": 20,
    "start_time": "2023-11-19T12:37:50.232Z"
   },
   {
    "duration": 116,
    "start_time": "2023-11-19T12:37:50.254Z"
   },
   {
    "duration": 14,
    "start_time": "2023-11-19T12:37:50.371Z"
   },
   {
    "duration": 13,
    "start_time": "2023-11-19T12:37:50.387Z"
   },
   {
    "duration": 10,
    "start_time": "2023-11-19T12:37:50.401Z"
   },
   {
    "duration": 73,
    "start_time": "2023-11-19T12:37:50.413Z"
   },
   {
    "duration": 39,
    "start_time": "2023-11-19T12:37:50.488Z"
   },
   {
    "duration": 1551,
    "start_time": "2023-11-19T12:37:50.529Z"
   },
   {
    "duration": 25,
    "start_time": "2023-11-19T12:37:52.082Z"
   },
   {
    "duration": 326,
    "start_time": "2023-11-19T12:37:52.109Z"
   },
   {
    "duration": 6058,
    "start_time": "2023-11-19T12:37:52.436Z"
   },
   {
    "duration": 630,
    "start_time": "2023-11-19T12:37:58.496Z"
   },
   {
    "duration": 23,
    "start_time": "2023-11-19T12:37:59.127Z"
   },
   {
    "duration": 4,
    "start_time": "2023-11-19T12:37:59.151Z"
   },
   {
    "duration": 41893,
    "start_time": "2023-11-19T12:37:59.157Z"
   },
   {
    "duration": 6518,
    "start_time": "2023-11-19T12:38:41.052Z"
   },
   {
    "duration": 91,
    "start_time": "2023-11-19T12:38:47.572Z"
   },
   {
    "duration": 5,
    "start_time": "2023-11-19T12:38:47.665Z"
   },
   {
    "duration": 41,
    "start_time": "2023-11-19T12:38:47.672Z"
   },
   {
    "duration": 42,
    "start_time": "2023-11-19T12:38:47.715Z"
   },
   {
    "duration": 18,
    "start_time": "2023-11-19T12:38:47.759Z"
   },
   {
    "duration": 14,
    "start_time": "2023-11-19T12:38:47.779Z"
   },
   {
    "duration": 396263,
    "start_time": "2023-11-19T12:38:47.796Z"
   },
   {
    "duration": 0,
    "start_time": "2023-11-19T12:45:24.060Z"
   },
   {
    "duration": 1,
    "start_time": "2023-11-19T12:45:24.061Z"
   },
   {
    "duration": 0,
    "start_time": "2023-11-19T12:45:24.062Z"
   },
   {
    "duration": 0,
    "start_time": "2023-11-19T12:45:24.063Z"
   },
   {
    "duration": 0,
    "start_time": "2023-11-19T12:45:24.065Z"
   },
   {
    "duration": 0,
    "start_time": "2023-11-19T12:45:24.066Z"
   },
   {
    "duration": 0,
    "start_time": "2023-11-19T12:45:24.067Z"
   },
   {
    "duration": 0,
    "start_time": "2023-11-19T12:45:24.068Z"
   },
   {
    "duration": 0,
    "start_time": "2023-11-19T12:45:24.069Z"
   },
   {
    "duration": 0,
    "start_time": "2023-11-19T12:45:24.070Z"
   },
   {
    "duration": 316099,
    "start_time": "2023-11-19T12:48:15.017Z"
   },
   {
    "duration": 62189,
    "start_time": "2023-11-19T13:08:08.016Z"
   },
   {
    "duration": 113,
    "start_time": "2023-11-19T13:11:46.996Z"
   },
   {
    "duration": 103,
    "start_time": "2023-11-19T13:12:37.036Z"
   },
   {
    "duration": 273,
    "start_time": "2023-11-19T13:14:01.327Z"
   },
   {
    "duration": 5,
    "start_time": "2023-11-19T13:14:35.933Z"
   },
   {
    "duration": 100,
    "start_time": "2023-11-19T13:39:23.428Z"
   },
   {
    "duration": 14,
    "start_time": "2023-11-19T13:41:50.088Z"
   },
   {
    "duration": 11,
    "start_time": "2023-11-19T13:41:54.920Z"
   },
   {
    "duration": 166,
    "start_time": "2023-11-19T13:42:01.738Z"
   },
   {
    "duration": 5,
    "start_time": "2023-11-19T13:42:03.924Z"
   },
   {
    "duration": 6,
    "start_time": "2023-11-19T13:55:27.709Z"
   },
   {
    "duration": 161,
    "start_time": "2023-11-19T13:56:22.084Z"
   },
   {
    "duration": 4,
    "start_time": "2023-11-19T13:57:12.828Z"
   },
   {
    "duration": 151,
    "start_time": "2023-11-19T13:57:14.384Z"
   },
   {
    "duration": 6,
    "start_time": "2023-11-19T13:58:02.212Z"
   },
   {
    "duration": 156,
    "start_time": "2023-11-19T13:58:03.112Z"
   },
   {
    "duration": 109,
    "start_time": "2023-11-19T13:59:58.155Z"
   },
   {
    "duration": 2407,
    "start_time": "2023-11-19T14:07:29.128Z"
   },
   {
    "duration": 2323,
    "start_time": "2023-11-19T14:07:31.538Z"
   },
   {
    "duration": 1433,
    "start_time": "2023-11-19T14:07:33.863Z"
   },
   {
    "duration": 887,
    "start_time": "2023-11-19T14:07:35.299Z"
   },
   {
    "duration": 1525,
    "start_time": "2023-11-19T14:07:36.187Z"
   },
   {
    "duration": 32,
    "start_time": "2023-11-19T14:07:37.714Z"
   },
   {
    "duration": 17,
    "start_time": "2023-11-19T14:07:37.748Z"
   },
   {
    "duration": 5,
    "start_time": "2023-11-19T14:07:37.766Z"
   },
   {
    "duration": 50,
    "start_time": "2023-11-19T14:07:37.773Z"
   },
   {
    "duration": 158,
    "start_time": "2023-11-19T14:07:37.826Z"
   },
   {
    "duration": 60,
    "start_time": "2023-11-19T14:07:37.985Z"
   },
   {
    "duration": 24,
    "start_time": "2023-11-19T14:07:38.046Z"
   },
   {
    "duration": 61,
    "start_time": "2023-11-19T14:07:38.072Z"
   },
   {
    "duration": 11,
    "start_time": "2023-11-19T14:07:38.134Z"
   },
   {
    "duration": 61,
    "start_time": "2023-11-19T14:07:38.146Z"
   },
   {
    "duration": 419,
    "start_time": "2023-11-19T14:07:38.209Z"
   },
   {
    "duration": 20,
    "start_time": "2023-11-19T14:07:38.630Z"
   },
   {
    "duration": 57,
    "start_time": "2023-11-19T14:07:38.652Z"
   },
   {
    "duration": 252,
    "start_time": "2023-11-19T14:07:38.710Z"
   },
   {
    "duration": 36,
    "start_time": "2023-11-19T14:07:38.964Z"
   },
   {
    "duration": 53,
    "start_time": "2023-11-19T14:07:39.001Z"
   },
   {
    "duration": 211,
    "start_time": "2023-11-19T14:07:39.056Z"
   },
   {
    "duration": 198,
    "start_time": "2023-11-19T14:07:39.268Z"
   },
   {
    "duration": 37,
    "start_time": "2023-11-19T14:07:39.468Z"
   },
   {
    "duration": 264,
    "start_time": "2023-11-19T14:07:39.507Z"
   },
   {
    "duration": 9,
    "start_time": "2023-11-19T14:07:39.773Z"
   },
   {
    "duration": 18,
    "start_time": "2023-11-19T14:07:39.783Z"
   },
   {
    "duration": 5,
    "start_time": "2023-11-19T14:07:39.806Z"
   },
   {
    "duration": 286,
    "start_time": "2023-11-19T14:07:39.813Z"
   },
   {
    "duration": 5,
    "start_time": "2023-11-19T14:07:40.100Z"
   },
   {
    "duration": 342,
    "start_time": "2023-11-19T14:07:40.107Z"
   },
   {
    "duration": 369,
    "start_time": "2023-11-19T14:07:40.450Z"
   },
   {
    "duration": 8,
    "start_time": "2023-11-19T14:07:40.820Z"
   },
   {
    "duration": 84,
    "start_time": "2023-11-19T14:07:40.830Z"
   },
   {
    "duration": 16,
    "start_time": "2023-11-19T14:07:40.916Z"
   },
   {
    "duration": 108,
    "start_time": "2023-11-19T14:07:40.934Z"
   },
   {
    "duration": 343,
    "start_time": "2023-11-19T14:07:41.044Z"
   },
   {
    "duration": 498,
    "start_time": "2023-11-19T14:07:41.389Z"
   },
   {
    "duration": 1035,
    "start_time": "2023-11-19T14:07:41.889Z"
   },
   {
    "duration": 30,
    "start_time": "2023-11-19T14:07:42.926Z"
   },
   {
    "duration": 1202,
    "start_time": "2023-11-19T14:07:42.957Z"
   },
   {
    "duration": 90,
    "start_time": "2023-11-19T14:07:44.161Z"
   },
   {
    "duration": 19,
    "start_time": "2023-11-19T14:07:44.253Z"
   },
   {
    "duration": 59,
    "start_time": "2023-11-19T14:07:44.274Z"
   },
   {
    "duration": 19,
    "start_time": "2023-11-19T14:07:44.334Z"
   },
   {
    "duration": 117,
    "start_time": "2023-11-19T14:07:44.355Z"
   },
   {
    "duration": 26,
    "start_time": "2023-11-19T14:07:44.474Z"
   },
   {
    "duration": 3,
    "start_time": "2023-11-19T14:07:44.501Z"
   },
   {
    "duration": 5,
    "start_time": "2023-11-19T14:07:44.505Z"
   },
   {
    "duration": 69,
    "start_time": "2023-11-19T14:07:44.511Z"
   },
   {
    "duration": 50,
    "start_time": "2023-11-19T14:07:44.581Z"
   },
   {
    "duration": 1558,
    "start_time": "2023-11-19T14:07:44.632Z"
   },
   {
    "duration": 23,
    "start_time": "2023-11-19T14:07:46.192Z"
   },
   {
    "duration": 310,
    "start_time": "2023-11-19T14:07:46.217Z"
   },
   {
    "duration": 5968,
    "start_time": "2023-11-19T14:07:46.529Z"
   },
   {
    "duration": 602,
    "start_time": "2023-11-19T14:07:52.499Z"
   },
   {
    "duration": 21,
    "start_time": "2023-11-19T14:07:53.103Z"
   },
   {
    "duration": 5,
    "start_time": "2023-11-19T14:07:53.126Z"
   },
   {
    "duration": 40708,
    "start_time": "2023-11-19T14:07:53.133Z"
   },
   {
    "duration": 6175,
    "start_time": "2023-11-19T14:08:33.844Z"
   },
   {
    "duration": 93,
    "start_time": "2023-11-19T14:08:40.021Z"
   },
   {
    "duration": 5,
    "start_time": "2023-11-19T14:08:40.116Z"
   },
   {
    "duration": 559213,
    "start_time": "2023-11-19T14:08:40.123Z"
   },
   {
    "duration": 135243,
    "start_time": "2023-11-19T14:17:59.337Z"
   },
   {
    "duration": 414,
    "start_time": "2023-11-19T14:20:14.581Z"
   },
   {
    "duration": 5,
    "start_time": "2023-11-19T14:20:14.999Z"
   },
   {
    "duration": 19194,
    "start_time": "2023-11-19T14:20:15.006Z"
   },
   {
    "duration": 1797,
    "start_time": "2023-11-19T14:20:34.202Z"
   },
   {
    "duration": 207,
    "start_time": "2023-11-19T14:20:36.001Z"
   },
   {
    "duration": 5,
    "start_time": "2023-11-19T14:20:36.210Z"
   },
   {
    "duration": 285,
    "start_time": "2023-11-19T14:20:36.216Z"
   },
   {
    "duration": 5,
    "start_time": "2023-11-19T14:20:36.502Z"
   },
   {
    "duration": 4,
    "start_time": "2023-11-19T14:20:36.509Z"
   },
   {
    "duration": 181,
    "start_time": "2023-11-19T14:20:36.514Z"
   },
   {
    "duration": 19619,
    "start_time": "2023-11-19T14:23:32.882Z"
   },
   {
    "duration": 1633,
    "start_time": "2023-11-19T14:23:55.674Z"
   },
   {
    "duration": 132,
    "start_time": "2023-11-19T14:24:02.870Z"
   },
   {
    "duration": 5,
    "start_time": "2023-11-19T14:24:04.413Z"
   },
   {
    "duration": 215,
    "start_time": "2023-11-19T14:27:49.187Z"
   },
   {
    "duration": 5,
    "start_time": "2023-11-19T14:27:49.411Z"
   },
   {
    "duration": 4,
    "start_time": "2023-11-19T14:27:50.423Z"
   },
   {
    "duration": 146,
    "start_time": "2023-11-19T14:27:51.467Z"
   },
   {
    "duration": 2468,
    "start_time": "2023-11-19T14:30:00.190Z"
   },
   {
    "duration": 2418,
    "start_time": "2023-11-19T14:30:02.661Z"
   },
   {
    "duration": 1605,
    "start_time": "2023-11-19T14:30:05.081Z"
   },
   {
    "duration": 887,
    "start_time": "2023-11-19T14:30:06.687Z"
   },
   {
    "duration": 1673,
    "start_time": "2023-11-19T14:30:07.576Z"
   },
   {
    "duration": 40,
    "start_time": "2023-11-19T14:30:09.250Z"
   },
   {
    "duration": 18,
    "start_time": "2023-11-19T14:30:09.299Z"
   },
   {
    "duration": 5,
    "start_time": "2023-11-19T14:30:09.319Z"
   },
   {
    "duration": 37,
    "start_time": "2023-11-19T14:30:09.326Z"
   },
   {
    "duration": 174,
    "start_time": "2023-11-19T14:30:09.365Z"
   },
   {
    "duration": 68,
    "start_time": "2023-11-19T14:30:09.540Z"
   },
   {
    "duration": 21,
    "start_time": "2023-11-19T14:30:09.610Z"
   },
   {
    "duration": 73,
    "start_time": "2023-11-19T14:30:09.632Z"
   },
   {
    "duration": 11,
    "start_time": "2023-11-19T14:30:09.708Z"
   },
   {
    "duration": 57,
    "start_time": "2023-11-19T14:30:09.720Z"
   },
   {
    "duration": 454,
    "start_time": "2023-11-19T14:30:09.779Z"
   },
   {
    "duration": 23,
    "start_time": "2023-11-19T14:30:10.234Z"
   },
   {
    "duration": 58,
    "start_time": "2023-11-19T14:30:10.258Z"
   },
   {
    "duration": 248,
    "start_time": "2023-11-19T14:30:10.318Z"
   },
   {
    "duration": 33,
    "start_time": "2023-11-19T14:30:10.567Z"
   },
   {
    "duration": 48,
    "start_time": "2023-11-19T14:30:10.601Z"
   },
   {
    "duration": 205,
    "start_time": "2023-11-19T14:30:10.651Z"
   },
   {
    "duration": 194,
    "start_time": "2023-11-19T14:30:10.857Z"
   },
   {
    "duration": 24,
    "start_time": "2023-11-19T14:30:11.052Z"
   },
   {
    "duration": 264,
    "start_time": "2023-11-19T14:30:11.077Z"
   },
   {
    "duration": 8,
    "start_time": "2023-11-19T14:30:11.342Z"
   },
   {
    "duration": 26,
    "start_time": "2023-11-19T14:30:11.351Z"
   },
   {
    "duration": 4,
    "start_time": "2023-11-19T14:30:11.379Z"
   },
   {
    "duration": 279,
    "start_time": "2023-11-19T14:30:11.384Z"
   },
   {
    "duration": 5,
    "start_time": "2023-11-19T14:30:11.664Z"
   },
   {
    "duration": 335,
    "start_time": "2023-11-19T14:30:11.670Z"
   },
   {
    "duration": 364,
    "start_time": "2023-11-19T14:30:12.006Z"
   },
   {
    "duration": 7,
    "start_time": "2023-11-19T14:30:12.372Z"
   },
   {
    "duration": 78,
    "start_time": "2023-11-19T14:30:12.381Z"
   },
   {
    "duration": 15,
    "start_time": "2023-11-19T14:30:12.461Z"
   },
   {
    "duration": 98,
    "start_time": "2023-11-19T14:30:12.477Z"
   },
   {
    "duration": 357,
    "start_time": "2023-11-19T14:30:12.576Z"
   },
   {
    "duration": 524,
    "start_time": "2023-11-19T14:30:12.935Z"
   },
   {
    "duration": 1083,
    "start_time": "2023-11-19T14:30:13.460Z"
   },
   {
    "duration": 29,
    "start_time": "2023-11-19T14:30:14.545Z"
   },
   {
    "duration": 1198,
    "start_time": "2023-11-19T14:30:14.578Z"
   },
   {
    "duration": 95,
    "start_time": "2023-11-19T14:30:15.777Z"
   },
   {
    "duration": 32,
    "start_time": "2023-11-19T14:30:15.873Z"
   },
   {
    "duration": 52,
    "start_time": "2023-11-19T14:30:15.907Z"
   },
   {
    "duration": 40,
    "start_time": "2023-11-19T14:30:15.961Z"
   },
   {
    "duration": 111,
    "start_time": "2023-11-19T14:30:16.003Z"
   },
   {
    "duration": 14,
    "start_time": "2023-11-19T14:30:16.115Z"
   },
   {
    "duration": 18,
    "start_time": "2023-11-19T14:30:16.131Z"
   },
   {
    "duration": 22,
    "start_time": "2023-11-19T14:30:16.151Z"
   },
   {
    "duration": 71,
    "start_time": "2023-11-19T14:30:16.174Z"
   },
   {
    "duration": 34,
    "start_time": "2023-11-19T14:30:16.247Z"
   },
   {
    "duration": 1550,
    "start_time": "2023-11-19T14:30:16.283Z"
   },
   {
    "duration": 18,
    "start_time": "2023-11-19T14:30:17.835Z"
   },
   {
    "duration": 334,
    "start_time": "2023-11-19T14:30:17.855Z"
   },
   {
    "duration": 6098,
    "start_time": "2023-11-19T14:30:18.190Z"
   },
   {
    "duration": 630,
    "start_time": "2023-11-19T14:30:24.289Z"
   },
   {
    "duration": 23,
    "start_time": "2023-11-19T14:30:24.921Z"
   },
   {
    "duration": 4,
    "start_time": "2023-11-19T14:30:24.946Z"
   },
   {
    "duration": 42452,
    "start_time": "2023-11-19T14:30:24.952Z"
   },
   {
    "duration": 6303,
    "start_time": "2023-11-19T14:31:07.406Z"
   },
   {
    "duration": 98,
    "start_time": "2023-11-19T14:31:13.711Z"
   },
   {
    "duration": 4,
    "start_time": "2023-11-19T14:31:13.811Z"
   },
   {
    "duration": 565110,
    "start_time": "2023-11-19T14:31:13.817Z"
   }
  ],
  "kernelspec": {
   "display_name": "Python 3 (ipykernel)",
   "language": "python",
   "name": "python3"
  },
  "language_info": {
   "codemirror_mode": {
    "name": "ipython",
    "version": 3
   },
   "file_extension": ".py",
   "mimetype": "text/x-python",
   "name": "python",
   "nbconvert_exporter": "python",
   "pygments_lexer": "ipython3",
   "version": "3.9.5"
  },
  "toc": {
   "base_numbering": 1,
   "nav_menu": {},
   "number_sections": true,
   "sideBar": true,
   "skip_h1_title": true,
   "title_cell": "Table of Contents",
   "title_sidebar": "Contents",
   "toc_cell": false,
   "toc_position": {},
   "toc_section_display": true,
   "toc_window_display": false
  }
 },
 "nbformat": 4,
 "nbformat_minor": 2
}
