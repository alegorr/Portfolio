{
 "cells": [
  {
   "cell_type": "markdown",
   "metadata": {},
   "source": [
    "\n",
    "Привет очередной раз, меня зовут Люман Аблаев. Сегодня я проверю твой проект.\n",
    "<br> Дальнейшее общение будет происходить на \"ты\" если это не вызывает никаких проблем.\n",
    "<br> Желательно реагировать на красные комментарии ('исправил', 'не понятно как исправить ошибку', ...)\n",
    "<br> Пожалуйста, не удаляй комментарии ревьюера, так как они повышают качество повторного ревью.\n",
    "\n",
    "Комментарии будут в <font color='green'>зеленой</font>, <font color='blue'>синей</font> или <font color='red'>красной</font> рамках:\n",
    "\n",
    "\n",
    "<div class=\"alert alert-block alert-success\">\n",
    "<b>Успех:</b> Если все сделано отлично\n",
    "</div>\n",
    "\n",
    "<div class=\"alert alert-block alert-info\">\n",
    "<b>Совет: </b> Если можно немного улучшить\n",
    "</div>\n",
    "\n",
    "<div class=\"alert alert-block alert-danger\">\n",
    "<b>Ошибка:</b> Если требуются исправления. Работа не может быть принята с красными комментариями.\n",
    "</div>\n",
    "\n",
    "-------------------\n",
    "\n",
    "Будет очень хорошо, если ты будешь помечать свои действия следующим образом:\n",
    "<div class=\"alert alert-block alert-warning\">\n",
    "<b>Комментарий студента:</b> ...\n",
    "</div>\n",
    "\n",
    "<div class=\"alert alert-block alert-warning\">\n",
    "<b>Изменения:</b> Были внесены следующие изменения ...\n",
    "</div>\n",
    "\n",
    "\n",
    "\n",
    "\n",
    "\n",
    "\n",
    "\n",
    "<font color='orange' style='font-size:24px; font-weight:bold'>Общее впечатление</font>\n",
    "* Приятно было снова проверять твою работу\n",
    "- Я постарался оставить полезные советы, надеюсь они тебе пригодятся.\n",
    "- Увы, я обнаружил небольшие недочеты  в работе, но я думаю  у тебя не займет много усилий их исправить.\n",
    "- Давай еще разок"
   ]
  },
  {
   "cell_type": "markdown",
   "metadata": {},
   "source": [
    "\n",
    "<font color='orange' style='font-size:24px; font-weight:bold'>Общее впечатление[2]</font>\n",
    "* Спасибо за усердность!\n",
    "- Было приятно с тобой сотрудничать.\n",
    "- Недочеты исправлены - работа полностью корректна\n",
    "- Не буду больше задерживать, продолжай в том же духе.\n"
   ]
  },
  {
   "cell_type": "markdown",
   "metadata": {},
   "source": [
    "# Определение стоимости автомобилей"
   ]
  },
  {
   "cell_type": "markdown",
   "metadata": {},
   "source": [
    "Сервис по продаже автомобилей с пробегом «Не бит, не крашен» разрабатывает приложение для привлечения новых клиентов. В нём можно быстро узнать рыночную стоимость своего автомобиля. В вашем распоряжении исторические данные: технические характеристики, комплектации и цены автомобилей. Вам нужно построить модель для определения стоимости. \n",
    "\n",
    "Заказчику важны:\n",
    "\n",
    "- качество предсказания;\n",
    "- скорость предсказания;\n",
    "- время обучения."
   ]
  },
  {
   "cell_type": "markdown",
   "metadata": {},
   "source": [
    "## Подготовка данных"
   ]
  },
  {
   "cell_type": "code",
   "execution_count": 1,
   "metadata": {
    "scrolled": true
   },
   "outputs": [
    {
     "name": "stdout",
     "output_type": "stream",
     "text": [
      "Requirement already satisfied: lightgbm in /opt/conda/lib/python3.9/site-packages (3.3.1)\n",
      "Requirement already satisfied: numpy in /opt/conda/lib/python3.9/site-packages (from lightgbm) (1.21.1)\n",
      "Requirement already satisfied: scipy in /opt/conda/lib/python3.9/site-packages (from lightgbm) (1.9.1)\n",
      "Requirement already satisfied: scikit-learn!=0.22.0 in /opt/conda/lib/python3.9/site-packages (from lightgbm) (0.24.1)\n",
      "Requirement already satisfied: wheel in /opt/conda/lib/python3.9/site-packages (from lightgbm) (0.36.2)\n",
      "Requirement already satisfied: threadpoolctl>=2.0.0 in /opt/conda/lib/python3.9/site-packages (from scikit-learn!=0.22.0->lightgbm) (3.1.0)\n",
      "Requirement already satisfied: joblib>=0.11 in /opt/conda/lib/python3.9/site-packages (from scikit-learn!=0.22.0->lightgbm) (1.1.0)\n",
      "Note: you may need to restart the kernel to use updated packages.\n"
     ]
    }
   ],
   "source": [
    "pip install lightgbm"
   ]
  },
  {
   "cell_type": "code",
   "execution_count": 2,
   "metadata": {},
   "outputs": [
    {
     "name": "stdout",
     "output_type": "stream",
     "text": [
      "Collecting category_encoders\n",
      "  Downloading category_encoders-2.6.3-py2.py3-none-any.whl (81 kB)\n",
      "\u001b[K     |████████████████████████████████| 81 kB 2.6 MB/s eta 0:00:01\n",
      "\u001b[?25hRequirement already satisfied: patsy>=0.5.1 in /opt/conda/lib/python3.9/site-packages (from category_encoders) (0.5.2)\n",
      "Requirement already satisfied: scipy>=1.0.0 in /opt/conda/lib/python3.9/site-packages (from category_encoders) (1.9.1)\n",
      "Requirement already satisfied: statsmodels>=0.9.0 in /opt/conda/lib/python3.9/site-packages (from category_encoders) (0.13.2)\n",
      "Requirement already satisfied: numpy>=1.14.0 in /opt/conda/lib/python3.9/site-packages (from category_encoders) (1.21.1)\n",
      "Requirement already satisfied: scikit-learn>=0.20.0 in /opt/conda/lib/python3.9/site-packages (from category_encoders) (0.24.1)\n",
      "Requirement already satisfied: pandas>=1.0.5 in /opt/conda/lib/python3.9/site-packages (from category_encoders) (1.2.4)\n",
      "Requirement already satisfied: python-dateutil>=2.7.3 in /opt/conda/lib/python3.9/site-packages (from pandas>=1.0.5->category_encoders) (2.8.1)\n",
      "Requirement already satisfied: pytz>=2017.3 in /opt/conda/lib/python3.9/site-packages (from pandas>=1.0.5->category_encoders) (2021.1)\n",
      "Requirement already satisfied: six in /opt/conda/lib/python3.9/site-packages (from patsy>=0.5.1->category_encoders) (1.16.0)\n",
      "Requirement already satisfied: threadpoolctl>=2.0.0 in /opt/conda/lib/python3.9/site-packages (from scikit-learn>=0.20.0->category_encoders) (3.1.0)\n",
      "Requirement already satisfied: joblib>=0.11 in /opt/conda/lib/python3.9/site-packages (from scikit-learn>=0.20.0->category_encoders) (1.1.0)\n",
      "Requirement already satisfied: packaging>=21.3 in /opt/conda/lib/python3.9/site-packages (from statsmodels>=0.9.0->category_encoders) (21.3)\n",
      "Requirement already satisfied: pyparsing!=3.0.5,>=2.0.2 in /opt/conda/lib/python3.9/site-packages (from packaging>=21.3->statsmodels>=0.9.0->category_encoders) (2.4.7)\n",
      "Installing collected packages: category-encoders\n",
      "Successfully installed category-encoders-2.6.3\n",
      "Note: you may need to restart the kernel to use updated packages.\n"
     ]
    }
   ],
   "source": [
    "pip install category_encoders"
   ]
  },
  {
   "cell_type": "code",
   "execution_count": 3,
   "metadata": {},
   "outputs": [],
   "source": [
    "import pandas as pd\n",
    "import numpy as np\n",
    "import matplotlib.pyplot as plt\n",
    "import seaborn as sns\n",
    "import lightgbm\n",
    "import category_encoders as ce\n",
    "\n",
    "from lightgbm import LGBMRegressor\n",
    "from catboost import CatBoostRegressor\n",
    "from sklearn.tree import DecisionTreeRegressor\n",
    "from sklearn.ensemble import RandomForestRegressor\n",
    "from sklearn.preprocessing import StandardScaler \n",
    "\n",
    "from sklearn.model_selection import (\n",
    "    RandomizedSearchCV,\n",
    "    train_test_split,\n",
    "    cross_val_score\n",
    ")\n",
    "\n",
    "from sklearn.metrics import (\n",
    "    mean_squared_error,\n",
    "    r2_score,\n",
    "    mean_absolute_error,\n",
    "    make_scorer\n",
    ")"
   ]
  },
  {
   "cell_type": "markdown",
   "metadata": {},
   "source": [
    "\n",
    "<div class=\"alert alert-block alert-success\">\n",
    "    \n",
    "<b>Успех:</b> Импорты на месте\n",
    "</div>"
   ]
  },
  {
   "cell_type": "code",
   "execution_count": 4,
   "metadata": {
    "scrolled": false
   },
   "outputs": [],
   "source": [
    "data_old = pd.read_csv('/datasets/autos.csv')"
   ]
  },
  {
   "cell_type": "code",
   "execution_count": 5,
   "metadata": {
    "scrolled": true
   },
   "outputs": [
    {
     "data": {
      "text/html": [
       "<div>\n",
       "<style scoped>\n",
       "    .dataframe tbody tr th:only-of-type {\n",
       "        vertical-align: middle;\n",
       "    }\n",
       "\n",
       "    .dataframe tbody tr th {\n",
       "        vertical-align: top;\n",
       "    }\n",
       "\n",
       "    .dataframe thead th {\n",
       "        text-align: right;\n",
       "    }\n",
       "</style>\n",
       "<table border=\"1\" class=\"dataframe\">\n",
       "  <thead>\n",
       "    <tr style=\"text-align: right;\">\n",
       "      <th></th>\n",
       "      <th>DateCrawled</th>\n",
       "      <th>Price</th>\n",
       "      <th>VehicleType</th>\n",
       "      <th>RegistrationYear</th>\n",
       "      <th>Gearbox</th>\n",
       "      <th>Power</th>\n",
       "      <th>Model</th>\n",
       "      <th>Kilometer</th>\n",
       "      <th>RegistrationMonth</th>\n",
       "      <th>FuelType</th>\n",
       "      <th>Brand</th>\n",
       "      <th>Repaired</th>\n",
       "      <th>DateCreated</th>\n",
       "      <th>NumberOfPictures</th>\n",
       "      <th>PostalCode</th>\n",
       "      <th>LastSeen</th>\n",
       "    </tr>\n",
       "  </thead>\n",
       "  <tbody>\n",
       "    <tr>\n",
       "      <th>0</th>\n",
       "      <td>2016-03-24 11:52:17</td>\n",
       "      <td>480</td>\n",
       "      <td>NaN</td>\n",
       "      <td>1993</td>\n",
       "      <td>manual</td>\n",
       "      <td>0</td>\n",
       "      <td>golf</td>\n",
       "      <td>150000</td>\n",
       "      <td>0</td>\n",
       "      <td>petrol</td>\n",
       "      <td>volkswagen</td>\n",
       "      <td>NaN</td>\n",
       "      <td>2016-03-24 00:00:00</td>\n",
       "      <td>0</td>\n",
       "      <td>70435</td>\n",
       "      <td>2016-04-07 03:16:57</td>\n",
       "    </tr>\n",
       "    <tr>\n",
       "      <th>1</th>\n",
       "      <td>2016-03-24 10:58:45</td>\n",
       "      <td>18300</td>\n",
       "      <td>coupe</td>\n",
       "      <td>2011</td>\n",
       "      <td>manual</td>\n",
       "      <td>190</td>\n",
       "      <td>NaN</td>\n",
       "      <td>125000</td>\n",
       "      <td>5</td>\n",
       "      <td>gasoline</td>\n",
       "      <td>audi</td>\n",
       "      <td>yes</td>\n",
       "      <td>2016-03-24 00:00:00</td>\n",
       "      <td>0</td>\n",
       "      <td>66954</td>\n",
       "      <td>2016-04-07 01:46:50</td>\n",
       "    </tr>\n",
       "    <tr>\n",
       "      <th>2</th>\n",
       "      <td>2016-03-14 12:52:21</td>\n",
       "      <td>9800</td>\n",
       "      <td>suv</td>\n",
       "      <td>2004</td>\n",
       "      <td>auto</td>\n",
       "      <td>163</td>\n",
       "      <td>grand</td>\n",
       "      <td>125000</td>\n",
       "      <td>8</td>\n",
       "      <td>gasoline</td>\n",
       "      <td>jeep</td>\n",
       "      <td>NaN</td>\n",
       "      <td>2016-03-14 00:00:00</td>\n",
       "      <td>0</td>\n",
       "      <td>90480</td>\n",
       "      <td>2016-04-05 12:47:46</td>\n",
       "    </tr>\n",
       "    <tr>\n",
       "      <th>3</th>\n",
       "      <td>2016-03-17 16:54:04</td>\n",
       "      <td>1500</td>\n",
       "      <td>small</td>\n",
       "      <td>2001</td>\n",
       "      <td>manual</td>\n",
       "      <td>75</td>\n",
       "      <td>golf</td>\n",
       "      <td>150000</td>\n",
       "      <td>6</td>\n",
       "      <td>petrol</td>\n",
       "      <td>volkswagen</td>\n",
       "      <td>no</td>\n",
       "      <td>2016-03-17 00:00:00</td>\n",
       "      <td>0</td>\n",
       "      <td>91074</td>\n",
       "      <td>2016-03-17 17:40:17</td>\n",
       "    </tr>\n",
       "    <tr>\n",
       "      <th>4</th>\n",
       "      <td>2016-03-31 17:25:20</td>\n",
       "      <td>3600</td>\n",
       "      <td>small</td>\n",
       "      <td>2008</td>\n",
       "      <td>manual</td>\n",
       "      <td>69</td>\n",
       "      <td>fabia</td>\n",
       "      <td>90000</td>\n",
       "      <td>7</td>\n",
       "      <td>gasoline</td>\n",
       "      <td>skoda</td>\n",
       "      <td>no</td>\n",
       "      <td>2016-03-31 00:00:00</td>\n",
       "      <td>0</td>\n",
       "      <td>60437</td>\n",
       "      <td>2016-04-06 10:17:21</td>\n",
       "    </tr>\n",
       "  </tbody>\n",
       "</table>\n",
       "</div>"
      ],
      "text/plain": [
       "           DateCrawled  Price VehicleType  RegistrationYear Gearbox  Power  \\\n",
       "0  2016-03-24 11:52:17    480         NaN              1993  manual      0   \n",
       "1  2016-03-24 10:58:45  18300       coupe              2011  manual    190   \n",
       "2  2016-03-14 12:52:21   9800         suv              2004    auto    163   \n",
       "3  2016-03-17 16:54:04   1500       small              2001  manual     75   \n",
       "4  2016-03-31 17:25:20   3600       small              2008  manual     69   \n",
       "\n",
       "   Model  Kilometer  RegistrationMonth  FuelType       Brand Repaired  \\\n",
       "0   golf     150000                  0    petrol  volkswagen      NaN   \n",
       "1    NaN     125000                  5  gasoline        audi      yes   \n",
       "2  grand     125000                  8  gasoline        jeep      NaN   \n",
       "3   golf     150000                  6    petrol  volkswagen       no   \n",
       "4  fabia      90000                  7  gasoline       skoda       no   \n",
       "\n",
       "           DateCreated  NumberOfPictures  PostalCode             LastSeen  \n",
       "0  2016-03-24 00:00:00                 0       70435  2016-04-07 03:16:57  \n",
       "1  2016-03-24 00:00:00                 0       66954  2016-04-07 01:46:50  \n",
       "2  2016-03-14 00:00:00                 0       90480  2016-04-05 12:47:46  \n",
       "3  2016-03-17 00:00:00                 0       91074  2016-03-17 17:40:17  \n",
       "4  2016-03-31 00:00:00                 0       60437  2016-04-06 10:17:21  "
      ]
     },
     "metadata": {},
     "output_type": "display_data"
    },
    {
     "name": "stdout",
     "output_type": "stream",
     "text": [
      "<class 'pandas.core.frame.DataFrame'>\n",
      "RangeIndex: 354369 entries, 0 to 354368\n",
      "Data columns (total 16 columns):\n",
      " #   Column             Non-Null Count   Dtype \n",
      "---  ------             --------------   ----- \n",
      " 0   DateCrawled        354369 non-null  object\n",
      " 1   Price              354369 non-null  int64 \n",
      " 2   VehicleType        316879 non-null  object\n",
      " 3   RegistrationYear   354369 non-null  int64 \n",
      " 4   Gearbox            334536 non-null  object\n",
      " 5   Power              354369 non-null  int64 \n",
      " 6   Model              334664 non-null  object\n",
      " 7   Kilometer          354369 non-null  int64 \n",
      " 8   RegistrationMonth  354369 non-null  int64 \n",
      " 9   FuelType           321474 non-null  object\n",
      " 10  Brand              354369 non-null  object\n",
      " 11  Repaired           283215 non-null  object\n",
      " 12  DateCreated        354369 non-null  object\n",
      " 13  NumberOfPictures   354369 non-null  int64 \n",
      " 14  PostalCode         354369 non-null  int64 \n",
      " 15  LastSeen           354369 non-null  object\n",
      "dtypes: int64(7), object(9)\n",
      "memory usage: 43.3+ MB\n",
      "\n",
      "Количество пропусков: DateCrawled              0\n",
      "Price                    0\n",
      "VehicleType          37490\n",
      "RegistrationYear         0\n",
      "Gearbox              19833\n",
      "Power                    0\n",
      "Model                19705\n",
      "Kilometer                0\n",
      "RegistrationMonth        0\n",
      "FuelType             32895\n",
      "Brand                    0\n",
      "Repaired             71154\n",
      "DateCreated              0\n",
      "NumberOfPictures         0\n",
      "PostalCode               0\n",
      "LastSeen                 0\n",
      "dtype: int64\n"
     ]
    },
    {
     "data": {
      "text/html": [
       "<style  type=\"text/css\" >\n",
       "#T_a6b68_row0_col0{\n",
       "            background-color:  #b40426;\n",
       "            color:  #f1f1f1;\n",
       "        }#T_a6b68_row1_col0{\n",
       "            background-color:  #e4d9d2;\n",
       "            color:  #000000;\n",
       "        }#T_a6b68_row2_col0{\n",
       "            background-color:  #d3dbe7;\n",
       "            color:  #000000;\n",
       "        }#T_a6b68_row3_col0,#T_a6b68_row4_col0{\n",
       "            background-color:  #97b8ff;\n",
       "            color:  #000000;\n",
       "        }#T_a6b68_row5_col0,#T_a6b68_row6_col0,#T_a6b68_row7_col0,#T_a6b68_row8_col0,#T_a6b68_row9_col0,#T_a6b68_row10_col0,#T_a6b68_row11_col0,#T_a6b68_row12_col0,#T_a6b68_row13_col0,#T_a6b68_row14_col0,#T_a6b68_row15_col0{\n",
       "            background-color:  #3b4cc0;\n",
       "            color:  #f1f1f1;\n",
       "        }</style><table id=\"T_a6b68_\" ><thead>    <tr>        <th class=\"blank level0\" ></th>        <th class=\"col_heading level0 col0\" >0</th>    </tr></thead><tbody>\n",
       "                <tr>\n",
       "                        <th id=\"T_a6b68_level0_row0\" class=\"row_heading level0 row0\" >Repaired</th>\n",
       "                        <td id=\"T_a6b68_row0_col0\" class=\"data row0 col0\" >20.100000</td>\n",
       "            </tr>\n",
       "            <tr>\n",
       "                        <th id=\"T_a6b68_level0_row1\" class=\"row_heading level0 row1\" >VehicleType</th>\n",
       "                        <td id=\"T_a6b68_row1_col0\" class=\"data row1 col0\" >10.600000</td>\n",
       "            </tr>\n",
       "            <tr>\n",
       "                        <th id=\"T_a6b68_level0_row2\" class=\"row_heading level0 row2\" >FuelType</th>\n",
       "                        <td id=\"T_a6b68_row2_col0\" class=\"data row2 col0\" >9.300000</td>\n",
       "            </tr>\n",
       "            <tr>\n",
       "                        <th id=\"T_a6b68_level0_row3\" class=\"row_heading level0 row3\" >Gearbox</th>\n",
       "                        <td id=\"T_a6b68_row3_col0\" class=\"data row3 col0\" >5.600000</td>\n",
       "            </tr>\n",
       "            <tr>\n",
       "                        <th id=\"T_a6b68_level0_row4\" class=\"row_heading level0 row4\" >Model</th>\n",
       "                        <td id=\"T_a6b68_row4_col0\" class=\"data row4 col0\" >5.600000</td>\n",
       "            </tr>\n",
       "            <tr>\n",
       "                        <th id=\"T_a6b68_level0_row5\" class=\"row_heading level0 row5\" >DateCrawled</th>\n",
       "                        <td id=\"T_a6b68_row5_col0\" class=\"data row5 col0\" >0.000000</td>\n",
       "            </tr>\n",
       "            <tr>\n",
       "                        <th id=\"T_a6b68_level0_row6\" class=\"row_heading level0 row6\" >Price</th>\n",
       "                        <td id=\"T_a6b68_row6_col0\" class=\"data row6 col0\" >0.000000</td>\n",
       "            </tr>\n",
       "            <tr>\n",
       "                        <th id=\"T_a6b68_level0_row7\" class=\"row_heading level0 row7\" >RegistrationYear</th>\n",
       "                        <td id=\"T_a6b68_row7_col0\" class=\"data row7 col0\" >0.000000</td>\n",
       "            </tr>\n",
       "            <tr>\n",
       "                        <th id=\"T_a6b68_level0_row8\" class=\"row_heading level0 row8\" >Power</th>\n",
       "                        <td id=\"T_a6b68_row8_col0\" class=\"data row8 col0\" >0.000000</td>\n",
       "            </tr>\n",
       "            <tr>\n",
       "                        <th id=\"T_a6b68_level0_row9\" class=\"row_heading level0 row9\" >Kilometer</th>\n",
       "                        <td id=\"T_a6b68_row9_col0\" class=\"data row9 col0\" >0.000000</td>\n",
       "            </tr>\n",
       "            <tr>\n",
       "                        <th id=\"T_a6b68_level0_row10\" class=\"row_heading level0 row10\" >RegistrationMonth</th>\n",
       "                        <td id=\"T_a6b68_row10_col0\" class=\"data row10 col0\" >0.000000</td>\n",
       "            </tr>\n",
       "            <tr>\n",
       "                        <th id=\"T_a6b68_level0_row11\" class=\"row_heading level0 row11\" >Brand</th>\n",
       "                        <td id=\"T_a6b68_row11_col0\" class=\"data row11 col0\" >0.000000</td>\n",
       "            </tr>\n",
       "            <tr>\n",
       "                        <th id=\"T_a6b68_level0_row12\" class=\"row_heading level0 row12\" >DateCreated</th>\n",
       "                        <td id=\"T_a6b68_row12_col0\" class=\"data row12 col0\" >0.000000</td>\n",
       "            </tr>\n",
       "            <tr>\n",
       "                        <th id=\"T_a6b68_level0_row13\" class=\"row_heading level0 row13\" >NumberOfPictures</th>\n",
       "                        <td id=\"T_a6b68_row13_col0\" class=\"data row13 col0\" >0.000000</td>\n",
       "            </tr>\n",
       "            <tr>\n",
       "                        <th id=\"T_a6b68_level0_row14\" class=\"row_heading level0 row14\" >PostalCode</th>\n",
       "                        <td id=\"T_a6b68_row14_col0\" class=\"data row14 col0\" >0.000000</td>\n",
       "            </tr>\n",
       "            <tr>\n",
       "                        <th id=\"T_a6b68_level0_row15\" class=\"row_heading level0 row15\" >LastSeen</th>\n",
       "                        <td id=\"T_a6b68_row15_col0\" class=\"data row15 col0\" >0.000000</td>\n",
       "            </tr>\n",
       "    </tbody></table>"
      ],
      "text/plain": [
       "<pandas.io.formats.style.Styler at 0x7fad4da231c0>"
      ]
     },
     "metadata": {},
     "output_type": "display_data"
    },
    {
     "name": "stdout",
     "output_type": "stream",
     "text": [
      "Количество явных дубликатов: 4\n"
     ]
    },
    {
     "data": {
      "image/png": "[encoded data removed]",
      "text/plain": [
       "<Figure size 1080x360 with 2 Axes>"
      ]
     },
     "metadata": {
      "needs_background": "light"
     },
     "output_type": "display_data"
    }
   ],
   "source": [
    "display(data_old.head())\n",
    "data_old.info()\n",
    "print('')\n",
    "print('Количество пропусков:', data_old.isna().sum())\n",
    "display(pd.DataFrame(round(data_old.isna().mean().sort_values(ascending=False)*100,1)).style.background_gradient('coolwarm'))\n",
    "print('Количество явных дубликатов:', data_old.duplicated().sum())\n",
    "plt.figure(figsize = (15,5))\n",
    "sns.heatmap(data_old.corr(), annot = True)\n",
    "plt.title('Корреляция между признаками')\n",
    "plt.show()"
   ]
  },
  {
   "cell_type": "markdown",
   "metadata": {},
   "source": [
    "Всего 15 колонок и 354369 строк. \n",
    "\n",
    "1) Признаки: DateCrawled, DateCreated, LastSeen относятся к типу данных object, хотя это дата и время;\n",
    "\n",
    "2) Пропущенные значения: Repaired (20%), VehicleType (10%), FuelType (9%), Gearbox (5%), Model (5%);\n",
    "\n",
    "3) Количество явных дубликатов: 4;\n",
    "\n",
    "4) Корреляции между признаками нет, кроме слабой - между ценой и пробегом."
   ]
  },
  {
   "cell_type": "markdown",
   "metadata": {},
   "source": [
    "\n",
    "<div class=\"alert alert-block alert-success\">\n",
    "    \n",
    "<b>Успех:</b> Первичный осмотр проведен\n",
    "</div>"
   ]
  },
  {
   "cell_type": "code",
   "execution_count": 6,
   "metadata": {},
   "outputs": [
    {
     "data": {
      "text/html": [
       "<div>\n",
       "<style scoped>\n",
       "    .dataframe tbody tr th:only-of-type {\n",
       "        vertical-align: middle;\n",
       "    }\n",
       "\n",
       "    .dataframe tbody tr th {\n",
       "        vertical-align: top;\n",
       "    }\n",
       "\n",
       "    .dataframe thead th {\n",
       "        text-align: right;\n",
       "    }\n",
       "</style>\n",
       "<table border=\"1\" class=\"dataframe\">\n",
       "  <thead>\n",
       "    <tr style=\"text-align: right;\">\n",
       "      <th></th>\n",
       "      <th>DateCrawled</th>\n",
       "      <th>Price</th>\n",
       "      <th>VehicleType</th>\n",
       "      <th>RegistrationYear</th>\n",
       "      <th>Gearbox</th>\n",
       "      <th>Power</th>\n",
       "      <th>Model</th>\n",
       "      <th>Kilometer</th>\n",
       "      <th>RegistrationMonth</th>\n",
       "      <th>FuelType</th>\n",
       "      <th>Brand</th>\n",
       "      <th>Repaired</th>\n",
       "      <th>DateCreated</th>\n",
       "      <th>NumberOfPictures</th>\n",
       "      <th>PostalCode</th>\n",
       "      <th>LastSeen</th>\n",
       "    </tr>\n",
       "  </thead>\n",
       "  <tbody>\n",
       "    <tr>\n",
       "      <th>1</th>\n",
       "      <td>2016-03-24 10:58:45</td>\n",
       "      <td>18300</td>\n",
       "      <td>coupe</td>\n",
       "      <td>2011</td>\n",
       "      <td>manual</td>\n",
       "      <td>190</td>\n",
       "      <td>NaN</td>\n",
       "      <td>125000</td>\n",
       "      <td>5</td>\n",
       "      <td>gasoline</td>\n",
       "      <td>audi</td>\n",
       "      <td>yes</td>\n",
       "      <td>2016-03-24 00:00:00</td>\n",
       "      <td>0</td>\n",
       "      <td>66954</td>\n",
       "      <td>2016-04-07 01:46:50</td>\n",
       "    </tr>\n",
       "    <tr>\n",
       "      <th>5</th>\n",
       "      <td>2016-04-04 17:36:23</td>\n",
       "      <td>650</td>\n",
       "      <td>sedan</td>\n",
       "      <td>1995</td>\n",
       "      <td>manual</td>\n",
       "      <td>102</td>\n",
       "      <td>3er</td>\n",
       "      <td>150000</td>\n",
       "      <td>10</td>\n",
       "      <td>petrol</td>\n",
       "      <td>bmw</td>\n",
       "      <td>yes</td>\n",
       "      <td>2016-04-04 00:00:00</td>\n",
       "      <td>0</td>\n",
       "      <td>33775</td>\n",
       "      <td>2016-04-06 19:17:07</td>\n",
       "    </tr>\n",
       "    <tr>\n",
       "      <th>11</th>\n",
       "      <td>2016-04-07 10:06:22</td>\n",
       "      <td>2799</td>\n",
       "      <td>wagon</td>\n",
       "      <td>2005</td>\n",
       "      <td>manual</td>\n",
       "      <td>140</td>\n",
       "      <td>passat</td>\n",
       "      <td>150000</td>\n",
       "      <td>12</td>\n",
       "      <td>gasoline</td>\n",
       "      <td>volkswagen</td>\n",
       "      <td>yes</td>\n",
       "      <td>2016-04-07 00:00:00</td>\n",
       "      <td>0</td>\n",
       "      <td>57290</td>\n",
       "      <td>2016-04-07 10:25:17</td>\n",
       "    </tr>\n",
       "    <tr>\n",
       "      <th>24</th>\n",
       "      <td>2016-03-13 20:40:49</td>\n",
       "      <td>500</td>\n",
       "      <td>sedan</td>\n",
       "      <td>1990</td>\n",
       "      <td>manual</td>\n",
       "      <td>118</td>\n",
       "      <td>other</td>\n",
       "      <td>150000</td>\n",
       "      <td>10</td>\n",
       "      <td>petrol</td>\n",
       "      <td>mercedes_benz</td>\n",
       "      <td>yes</td>\n",
       "      <td>2016-03-13 00:00:00</td>\n",
       "      <td>0</td>\n",
       "      <td>35390</td>\n",
       "      <td>2016-03-13 20:40:49</td>\n",
       "    </tr>\n",
       "    <tr>\n",
       "      <th>25</th>\n",
       "      <td>2016-03-18 21:44:09</td>\n",
       "      <td>2500</td>\n",
       "      <td>wagon</td>\n",
       "      <td>2002</td>\n",
       "      <td>auto</td>\n",
       "      <td>193</td>\n",
       "      <td>5er</td>\n",
       "      <td>150000</td>\n",
       "      <td>9</td>\n",
       "      <td>gasoline</td>\n",
       "      <td>bmw</td>\n",
       "      <td>yes</td>\n",
       "      <td>2016-03-18 00:00:00</td>\n",
       "      <td>0</td>\n",
       "      <td>73765</td>\n",
       "      <td>2016-03-18 21:44:09</td>\n",
       "    </tr>\n",
       "  </tbody>\n",
       "</table>\n",
       "</div>"
      ],
      "text/plain": [
       "            DateCrawled  Price VehicleType  RegistrationYear Gearbox  Power  \\\n",
       "1   2016-03-24 10:58:45  18300       coupe              2011  manual    190   \n",
       "5   2016-04-04 17:36:23    650       sedan              1995  manual    102   \n",
       "11  2016-04-07 10:06:22   2799       wagon              2005  manual    140   \n",
       "24  2016-03-13 20:40:49    500       sedan              1990  manual    118   \n",
       "25  2016-03-18 21:44:09   2500       wagon              2002    auto    193   \n",
       "\n",
       "     Model  Kilometer  RegistrationMonth  FuelType          Brand Repaired  \\\n",
       "1      NaN     125000                  5  gasoline           audi      yes   \n",
       "5      3er     150000                 10    petrol            bmw      yes   \n",
       "11  passat     150000                 12  gasoline     volkswagen      yes   \n",
       "24   other     150000                 10    petrol  mercedes_benz      yes   \n",
       "25     5er     150000                  9  gasoline            bmw      yes   \n",
       "\n",
       "            DateCreated  NumberOfPictures  PostalCode             LastSeen  \n",
       "1   2016-03-24 00:00:00                 0       66954  2016-04-07 01:46:50  \n",
       "5   2016-04-04 00:00:00                 0       33775  2016-04-06 19:17:07  \n",
       "11  2016-04-07 00:00:00                 0       57290  2016-04-07 10:25:17  \n",
       "24  2016-03-13 00:00:00                 0       35390  2016-03-13 20:40:49  \n",
       "25  2016-03-18 00:00:00                 0       73765  2016-03-18 21:44:09  "
      ]
     },
     "execution_count": 6,
     "metadata": {},
     "output_type": "execute_result"
    }
   ],
   "source": [
    "data_repaired = data_old.query('Repaired == \"yes\"')\n",
    "\n",
    "data_repaired.head()"
   ]
  },
  {
   "cell_type": "code",
   "execution_count": 7,
   "metadata": {
    "scrolled": false
   },
   "outputs": [
    {
     "data": {
      "text/html": [
       "<div>\n",
       "<style scoped>\n",
       "    .dataframe tbody tr th:only-of-type {\n",
       "        vertical-align: middle;\n",
       "    }\n",
       "\n",
       "    .dataframe tbody tr th {\n",
       "        vertical-align: top;\n",
       "    }\n",
       "\n",
       "    .dataframe thead th {\n",
       "        text-align: right;\n",
       "    }\n",
       "</style>\n",
       "<table border=\"1\" class=\"dataframe\">\n",
       "  <thead>\n",
       "    <tr style=\"text-align: right;\">\n",
       "      <th></th>\n",
       "      <th>RegistrationYear</th>\n",
       "      <th>Kilometer</th>\n",
       "    </tr>\n",
       "  </thead>\n",
       "  <tbody>\n",
       "    <tr>\n",
       "      <th>count</th>\n",
       "      <td>36054.000000</td>\n",
       "      <td>36054.000000</td>\n",
       "    </tr>\n",
       "    <tr>\n",
       "      <th>mean</th>\n",
       "      <td>2001.617796</td>\n",
       "      <td>136178.093970</td>\n",
       "    </tr>\n",
       "    <tr>\n",
       "      <th>std</th>\n",
       "      <td>44.946167</td>\n",
       "      <td>32156.531739</td>\n",
       "    </tr>\n",
       "    <tr>\n",
       "      <th>min</th>\n",
       "      <td>1000.000000</td>\n",
       "      <td>5000.000000</td>\n",
       "    </tr>\n",
       "    <tr>\n",
       "      <th>25%</th>\n",
       "      <td>1998.000000</td>\n",
       "      <td>150000.000000</td>\n",
       "    </tr>\n",
       "    <tr>\n",
       "      <th>50%</th>\n",
       "      <td>2001.000000</td>\n",
       "      <td>150000.000000</td>\n",
       "    </tr>\n",
       "    <tr>\n",
       "      <th>75%</th>\n",
       "      <td>2005.000000</td>\n",
       "      <td>150000.000000</td>\n",
       "    </tr>\n",
       "    <tr>\n",
       "      <th>max</th>\n",
       "      <td>9000.000000</td>\n",
       "      <td>150000.000000</td>\n",
       "    </tr>\n",
       "  </tbody>\n",
       "</table>\n",
       "</div>"
      ],
      "text/plain": [
       "       RegistrationYear      Kilometer\n",
       "count      36054.000000   36054.000000\n",
       "mean        2001.617796  136178.093970\n",
       "std           44.946167   32156.531739\n",
       "min         1000.000000    5000.000000\n",
       "25%         1998.000000  150000.000000\n",
       "50%         2001.000000  150000.000000\n",
       "75%         2005.000000  150000.000000\n",
       "max         9000.000000  150000.000000"
      ]
     },
     "execution_count": 7,
     "metadata": {},
     "output_type": "execute_result"
    }
   ],
   "source": [
    "data_repaired[['RegistrationYear', 'Kilometer']].describe()"
   ]
  },
  {
   "cell_type": "code",
   "execution_count": 8,
   "metadata": {
    "scrolled": true
   },
   "outputs": [
    {
     "data": {
      "text/plain": [
       "array([150000, 125000,  90000,  40000,  30000,  70000,   5000, 100000,\n",
       "        60000,  20000,  80000,  50000,  10000])"
      ]
     },
     "execution_count": 8,
     "metadata": {},
     "output_type": "execute_result"
    }
   ],
   "source": [
    "data_old['Kilometer'].unique()"
   ]
  },
  {
   "cell_type": "markdown",
   "metadata": {},
   "source": [
    "Большинство автомобилей, которые имели ремонт, были выпущены до 2006 г. и с пробегом более 150000 км. Исходя из этого, сделаем допущение, что пропущенные значения для автомобилей с таким же пробегом и возрастом, соответствуют наличию ремонта. "
   ]
  },
  {
   "cell_type": "code",
   "execution_count": 9,
   "metadata": {},
   "outputs": [],
   "source": [
    "data_old.loc[(data_old['RegistrationYear'] <= 2005) \n",
    "         & (data_old['Kilometer'] >= 150000), 'Repaired'] = data_old.loc[(data_old['RegistrationYear'] <= 2005) & \n",
    "                                                                 (data_old['Kilometer'] >= 150000), 'Repaired'].fillna('yes')"
   ]
  },
  {
   "cell_type": "code",
   "execution_count": 10,
   "metadata": {
    "scrolled": false
   },
   "outputs": [
    {
     "data": {
      "text/html": [
       "<style  type=\"text/css\" >\n",
       "#T_a2f27_row0_col0{\n",
       "            background-color:  #b40426;\n",
       "            color:  #f1f1f1;\n",
       "        }#T_a2f27_row1_col0{\n",
       "            background-color:  #dd5f4b;\n",
       "            color:  #000000;\n",
       "        }#T_a2f27_row2_col0{\n",
       "            background-color:  #e8765c;\n",
       "            color:  #000000;\n",
       "        }#T_a2f27_row3_col0,#T_a2f27_row4_col0{\n",
       "            background-color:  #e4d9d2;\n",
       "            color:  #000000;\n",
       "        }#T_a2f27_row5_col0,#T_a2f27_row6_col0,#T_a2f27_row7_col0,#T_a2f27_row8_col0,#T_a2f27_row9_col0,#T_a2f27_row10_col0,#T_a2f27_row11_col0,#T_a2f27_row12_col0,#T_a2f27_row13_col0,#T_a2f27_row14_col0,#T_a2f27_row15_col0{\n",
       "            background-color:  #3b4cc0;\n",
       "            color:  #f1f1f1;\n",
       "        }</style><table id=\"T_a2f27_\" ><thead>    <tr>        <th class=\"blank level0\" ></th>        <th class=\"col_heading level0 col0\" >0</th>    </tr></thead><tbody>\n",
       "                <tr>\n",
       "                        <th id=\"T_a2f27_level0_row0\" class=\"row_heading level0 row0\" >VehicleType</th>\n",
       "                        <td id=\"T_a2f27_row0_col0\" class=\"data row0 col0\" >10.600000</td>\n",
       "            </tr>\n",
       "            <tr>\n",
       "                        <th id=\"T_a2f27_level0_row1\" class=\"row_heading level0 row1\" >FuelType</th>\n",
       "                        <td id=\"T_a2f27_row1_col0\" class=\"data row1 col0\" >9.300000</td>\n",
       "            </tr>\n",
       "            <tr>\n",
       "                        <th id=\"T_a2f27_level0_row2\" class=\"row_heading level0 row2\" >Repaired</th>\n",
       "                        <td id=\"T_a2f27_row2_col0\" class=\"data row2 col0\" >8.800000</td>\n",
       "            </tr>\n",
       "            <tr>\n",
       "                        <th id=\"T_a2f27_level0_row3\" class=\"row_heading level0 row3\" >Gearbox</th>\n",
       "                        <td id=\"T_a2f27_row3_col0\" class=\"data row3 col0\" >5.600000</td>\n",
       "            </tr>\n",
       "            <tr>\n",
       "                        <th id=\"T_a2f27_level0_row4\" class=\"row_heading level0 row4\" >Model</th>\n",
       "                        <td id=\"T_a2f27_row4_col0\" class=\"data row4 col0\" >5.600000</td>\n",
       "            </tr>\n",
       "            <tr>\n",
       "                        <th id=\"T_a2f27_level0_row5\" class=\"row_heading level0 row5\" >DateCrawled</th>\n",
       "                        <td id=\"T_a2f27_row5_col0\" class=\"data row5 col0\" >0.000000</td>\n",
       "            </tr>\n",
       "            <tr>\n",
       "                        <th id=\"T_a2f27_level0_row6\" class=\"row_heading level0 row6\" >Price</th>\n",
       "                        <td id=\"T_a2f27_row6_col0\" class=\"data row6 col0\" >0.000000</td>\n",
       "            </tr>\n",
       "            <tr>\n",
       "                        <th id=\"T_a2f27_level0_row7\" class=\"row_heading level0 row7\" >RegistrationYear</th>\n",
       "                        <td id=\"T_a2f27_row7_col0\" class=\"data row7 col0\" >0.000000</td>\n",
       "            </tr>\n",
       "            <tr>\n",
       "                        <th id=\"T_a2f27_level0_row8\" class=\"row_heading level0 row8\" >Power</th>\n",
       "                        <td id=\"T_a2f27_row8_col0\" class=\"data row8 col0\" >0.000000</td>\n",
       "            </tr>\n",
       "            <tr>\n",
       "                        <th id=\"T_a2f27_level0_row9\" class=\"row_heading level0 row9\" >Kilometer</th>\n",
       "                        <td id=\"T_a2f27_row9_col0\" class=\"data row9 col0\" >0.000000</td>\n",
       "            </tr>\n",
       "            <tr>\n",
       "                        <th id=\"T_a2f27_level0_row10\" class=\"row_heading level0 row10\" >RegistrationMonth</th>\n",
       "                        <td id=\"T_a2f27_row10_col0\" class=\"data row10 col0\" >0.000000</td>\n",
       "            </tr>\n",
       "            <tr>\n",
       "                        <th id=\"T_a2f27_level0_row11\" class=\"row_heading level0 row11\" >Brand</th>\n",
       "                        <td id=\"T_a2f27_row11_col0\" class=\"data row11 col0\" >0.000000</td>\n",
       "            </tr>\n",
       "            <tr>\n",
       "                        <th id=\"T_a2f27_level0_row12\" class=\"row_heading level0 row12\" >DateCreated</th>\n",
       "                        <td id=\"T_a2f27_row12_col0\" class=\"data row12 col0\" >0.000000</td>\n",
       "            </tr>\n",
       "            <tr>\n",
       "                        <th id=\"T_a2f27_level0_row13\" class=\"row_heading level0 row13\" >NumberOfPictures</th>\n",
       "                        <td id=\"T_a2f27_row13_col0\" class=\"data row13 col0\" >0.000000</td>\n",
       "            </tr>\n",
       "            <tr>\n",
       "                        <th id=\"T_a2f27_level0_row14\" class=\"row_heading level0 row14\" >PostalCode</th>\n",
       "                        <td id=\"T_a2f27_row14_col0\" class=\"data row14 col0\" >0.000000</td>\n",
       "            </tr>\n",
       "            <tr>\n",
       "                        <th id=\"T_a2f27_level0_row15\" class=\"row_heading level0 row15\" >LastSeen</th>\n",
       "                        <td id=\"T_a2f27_row15_col0\" class=\"data row15 col0\" >0.000000</td>\n",
       "            </tr>\n",
       "    </tbody></table>"
      ],
      "text/plain": [
       "<pandas.io.formats.style.Styler at 0x7fad4e156d90>"
      ]
     },
     "metadata": {},
     "output_type": "display_data"
    }
   ],
   "source": [
    "display(pd.DataFrame(round(data_old.isna().mean().sort_values(ascending=False)*100,1)).style.background_gradient('coolwarm'))"
   ]
  },
  {
   "cell_type": "code",
   "execution_count": 11,
   "metadata": {},
   "outputs": [
    {
     "data": {
      "text/plain": [
       "'2016-03-05 14:06:22'"
      ]
     },
     "metadata": {},
     "output_type": "display_data"
    },
    {
     "data": {
      "text/plain": [
       "'2016-04-07 14:36:58'"
      ]
     },
     "execution_count": 11,
     "metadata": {},
     "output_type": "execute_result"
    }
   ],
   "source": [
    "display(data_old['DateCrawled'].min())\n",
    "data_old['DateCrawled'].max()"
   ]
  },
  {
   "cell_type": "markdown",
   "metadata": {},
   "source": [
    "Удалим признаки, которые не будут влиять на стоимость автомобиля или будут, но незначимо. "
   ]
  },
  {
   "cell_type": "code",
   "execution_count": 12,
   "metadata": {},
   "outputs": [],
   "source": [
    "data = data_old.drop(['NumberOfPictures', 'RegistrationMonth', 'PostalCode', 'DateCrawled', 'DateCreated', 'LastSeen'], axis=1)"
   ]
  },
  {
   "cell_type": "markdown",
   "metadata": {},
   "source": [
    "<div class=\"alert alert-block alert-success\">\n",
    "<b>Успех:</b> Согласен с перечнем неинформативных колонок\n",
    "</div>"
   ]
  },
  {
   "cell_type": "markdown",
   "metadata": {},
   "source": [
    "Удалим строки, где нет указаний на модель, так как восстановить ее будет сложно, а признак, вероятно, будет определять стоимость. "
   ]
  },
  {
   "cell_type": "code",
   "execution_count": 13,
   "metadata": {},
   "outputs": [],
   "source": [
    "data = data.dropna(subset=['Model'], axis=0)"
   ]
  },
  {
   "cell_type": "code",
   "execution_count": 14,
   "metadata": {
    "scrolled": true
   },
   "outputs": [
    {
     "data": {
      "text/html": [
       "<div>\n",
       "<style scoped>\n",
       "    .dataframe tbody tr th:only-of-type {\n",
       "        vertical-align: middle;\n",
       "    }\n",
       "\n",
       "    .dataframe tbody tr th {\n",
       "        vertical-align: top;\n",
       "    }\n",
       "\n",
       "    .dataframe thead th {\n",
       "        text-align: right;\n",
       "    }\n",
       "</style>\n",
       "<table border=\"1\" class=\"dataframe\">\n",
       "  <thead>\n",
       "    <tr style=\"text-align: right;\">\n",
       "      <th></th>\n",
       "      <th>Price</th>\n",
       "      <th>VehicleType</th>\n",
       "      <th>RegistrationYear</th>\n",
       "      <th>Gearbox</th>\n",
       "      <th>Power</th>\n",
       "      <th>Model</th>\n",
       "      <th>Kilometer</th>\n",
       "      <th>FuelType</th>\n",
       "      <th>Brand</th>\n",
       "      <th>Repaired</th>\n",
       "    </tr>\n",
       "  </thead>\n",
       "  <tbody>\n",
       "    <tr>\n",
       "      <th>0</th>\n",
       "      <td>480</td>\n",
       "      <td>NaN</td>\n",
       "      <td>1993</td>\n",
       "      <td>manual</td>\n",
       "      <td>0</td>\n",
       "      <td>golf</td>\n",
       "      <td>150000</td>\n",
       "      <td>petrol</td>\n",
       "      <td>volkswagen</td>\n",
       "      <td>yes</td>\n",
       "    </tr>\n",
       "    <tr>\n",
       "      <th>2</th>\n",
       "      <td>9800</td>\n",
       "      <td>suv</td>\n",
       "      <td>2004</td>\n",
       "      <td>auto</td>\n",
       "      <td>163</td>\n",
       "      <td>grand</td>\n",
       "      <td>125000</td>\n",
       "      <td>gasoline</td>\n",
       "      <td>jeep</td>\n",
       "      <td>NaN</td>\n",
       "    </tr>\n",
       "    <tr>\n",
       "      <th>3</th>\n",
       "      <td>1500</td>\n",
       "      <td>small</td>\n",
       "      <td>2001</td>\n",
       "      <td>manual</td>\n",
       "      <td>75</td>\n",
       "      <td>golf</td>\n",
       "      <td>150000</td>\n",
       "      <td>petrol</td>\n",
       "      <td>volkswagen</td>\n",
       "      <td>no</td>\n",
       "    </tr>\n",
       "    <tr>\n",
       "      <th>4</th>\n",
       "      <td>3600</td>\n",
       "      <td>small</td>\n",
       "      <td>2008</td>\n",
       "      <td>manual</td>\n",
       "      <td>69</td>\n",
       "      <td>fabia</td>\n",
       "      <td>90000</td>\n",
       "      <td>gasoline</td>\n",
       "      <td>skoda</td>\n",
       "      <td>no</td>\n",
       "    </tr>\n",
       "    <tr>\n",
       "      <th>5</th>\n",
       "      <td>650</td>\n",
       "      <td>sedan</td>\n",
       "      <td>1995</td>\n",
       "      <td>manual</td>\n",
       "      <td>102</td>\n",
       "      <td>3er</td>\n",
       "      <td>150000</td>\n",
       "      <td>petrol</td>\n",
       "      <td>bmw</td>\n",
       "      <td>yes</td>\n",
       "    </tr>\n",
       "  </tbody>\n",
       "</table>\n",
       "</div>"
      ],
      "text/plain": [
       "   Price VehicleType  RegistrationYear Gearbox  Power  Model  Kilometer  \\\n",
       "0    480         NaN              1993  manual      0   golf     150000   \n",
       "2   9800         suv              2004    auto    163  grand     125000   \n",
       "3   1500       small              2001  manual     75   golf     150000   \n",
       "4   3600       small              2008  manual     69  fabia      90000   \n",
       "5    650       sedan              1995  manual    102    3er     150000   \n",
       "\n",
       "   FuelType       Brand Repaired  \n",
       "0    petrol  volkswagen      yes  \n",
       "2  gasoline        jeep      NaN  \n",
       "3    petrol  volkswagen       no  \n",
       "4  gasoline       skoda       no  \n",
       "5    petrol         bmw      yes  "
      ]
     },
     "execution_count": 14,
     "metadata": {},
     "output_type": "execute_result"
    }
   ],
   "source": [
    "data.head()"
   ]
  },
  {
   "cell_type": "code",
   "execution_count": 15,
   "metadata": {
    "scrolled": true
   },
   "outputs": [
    {
     "data": {
      "text/html": [
       "<div>\n",
       "<style scoped>\n",
       "    .dataframe tbody tr th:only-of-type {\n",
       "        vertical-align: middle;\n",
       "    }\n",
       "\n",
       "    .dataframe tbody tr th {\n",
       "        vertical-align: top;\n",
       "    }\n",
       "\n",
       "    .dataframe thead th {\n",
       "        text-align: right;\n",
       "    }\n",
       "</style>\n",
       "<table border=\"1\" class=\"dataframe\">\n",
       "  <thead>\n",
       "    <tr style=\"text-align: right;\">\n",
       "      <th></th>\n",
       "      <th>Price</th>\n",
       "      <th>RegistrationYear</th>\n",
       "      <th>Power</th>\n",
       "      <th>Kilometer</th>\n",
       "    </tr>\n",
       "  </thead>\n",
       "  <tbody>\n",
       "    <tr>\n",
       "      <th>count</th>\n",
       "      <td>334664.000000</td>\n",
       "      <td>334664.000000</td>\n",
       "      <td>334664.000000</td>\n",
       "      <td>334664.000000</td>\n",
       "    </tr>\n",
       "    <tr>\n",
       "      <th>mean</th>\n",
       "      <td>4504.346790</td>\n",
       "      <td>2003.923992</td>\n",
       "      <td>111.373195</td>\n",
       "      <td>128562.588148</td>\n",
       "    </tr>\n",
       "    <tr>\n",
       "      <th>std</th>\n",
       "      <td>4531.438572</td>\n",
       "      <td>69.377219</td>\n",
       "      <td>185.156439</td>\n",
       "      <td>37205.926976</td>\n",
       "    </tr>\n",
       "    <tr>\n",
       "      <th>min</th>\n",
       "      <td>0.000000</td>\n",
       "      <td>1000.000000</td>\n",
       "      <td>0.000000</td>\n",
       "      <td>5000.000000</td>\n",
       "    </tr>\n",
       "    <tr>\n",
       "      <th>25%</th>\n",
       "      <td>1150.000000</td>\n",
       "      <td>1999.000000</td>\n",
       "      <td>70.000000</td>\n",
       "      <td>125000.000000</td>\n",
       "    </tr>\n",
       "    <tr>\n",
       "      <th>50%</th>\n",
       "      <td>2800.000000</td>\n",
       "      <td>2003.000000</td>\n",
       "      <td>105.000000</td>\n",
       "      <td>150000.000000</td>\n",
       "    </tr>\n",
       "    <tr>\n",
       "      <th>75%</th>\n",
       "      <td>6500.000000</td>\n",
       "      <td>2008.000000</td>\n",
       "      <td>143.000000</td>\n",
       "      <td>150000.000000</td>\n",
       "    </tr>\n",
       "    <tr>\n",
       "      <th>max</th>\n",
       "      <td>20000.000000</td>\n",
       "      <td>9999.000000</td>\n",
       "      <td>20000.000000</td>\n",
       "      <td>150000.000000</td>\n",
       "    </tr>\n",
       "  </tbody>\n",
       "</table>\n",
       "</div>"
      ],
      "text/plain": [
       "               Price  RegistrationYear          Power      Kilometer\n",
       "count  334664.000000     334664.000000  334664.000000  334664.000000\n",
       "mean     4504.346790       2003.923992     111.373195  128562.588148\n",
       "std      4531.438572         69.377219     185.156439   37205.926976\n",
       "min         0.000000       1000.000000       0.000000    5000.000000\n",
       "25%      1150.000000       1999.000000      70.000000  125000.000000\n",
       "50%      2800.000000       2003.000000     105.000000  150000.000000\n",
       "75%      6500.000000       2008.000000     143.000000  150000.000000\n",
       "max     20000.000000       9999.000000   20000.000000  150000.000000"
      ]
     },
     "execution_count": 15,
     "metadata": {},
     "output_type": "execute_result"
    }
   ],
   "source": [
    "data.describe()"
   ]
  },
  {
   "cell_type": "markdown",
   "metadata": {},
   "source": [
    "Из таблицы видно, что в столбцах: цена, год регистрации, мощность могут находиться аномальные значения. "
   ]
  },
  {
   "cell_type": "code",
   "execution_count": 16,
   "metadata": {
    "scrolled": false
   },
   "outputs": [
    {
     "data": {
      "image/png": "[encoded data removed]",
      "text/plain": [
       "<Figure size 1080x216 with 1 Axes>"
      ]
     },
     "metadata": {
      "needs_background": "light"
     },
     "output_type": "display_data"
    }
   ],
   "source": [
    "data.boxplot('Price', vert=False, figsize=(15, 3))\n",
    "plt.xlabel('Price')\n",
    "plt.title('Price')\n",
    "plt.show()"
   ]
  },
  {
   "cell_type": "code",
   "execution_count": 17,
   "metadata": {
    "scrolled": false
   },
   "outputs": [
    {
     "data": {
      "text/html": [
       "<div>\n",
       "<style scoped>\n",
       "    .dataframe tbody tr th:only-of-type {\n",
       "        vertical-align: middle;\n",
       "    }\n",
       "\n",
       "    .dataframe tbody tr th {\n",
       "        vertical-align: top;\n",
       "    }\n",
       "\n",
       "    .dataframe thead th {\n",
       "        text-align: right;\n",
       "    }\n",
       "</style>\n",
       "<table border=\"1\" class=\"dataframe\">\n",
       "  <thead>\n",
       "    <tr style=\"text-align: right;\">\n",
       "      <th></th>\n",
       "      <th>Price</th>\n",
       "      <th>VehicleType</th>\n",
       "      <th>RegistrationYear</th>\n",
       "      <th>Gearbox</th>\n",
       "      <th>Power</th>\n",
       "      <th>Model</th>\n",
       "      <th>Kilometer</th>\n",
       "      <th>FuelType</th>\n",
       "      <th>Brand</th>\n",
       "      <th>Repaired</th>\n",
       "    </tr>\n",
       "  </thead>\n",
       "  <tbody>\n",
       "    <tr>\n",
       "      <th>7</th>\n",
       "      <td>0</td>\n",
       "      <td>sedan</td>\n",
       "      <td>1980</td>\n",
       "      <td>manual</td>\n",
       "      <td>50</td>\n",
       "      <td>other</td>\n",
       "      <td>40000</td>\n",
       "      <td>petrol</td>\n",
       "      <td>volkswagen</td>\n",
       "      <td>no</td>\n",
       "    </tr>\n",
       "    <tr>\n",
       "      <th>40</th>\n",
       "      <td>0</td>\n",
       "      <td>NaN</td>\n",
       "      <td>1990</td>\n",
       "      <td>NaN</td>\n",
       "      <td>0</td>\n",
       "      <td>corsa</td>\n",
       "      <td>150000</td>\n",
       "      <td>petrol</td>\n",
       "      <td>opel</td>\n",
       "      <td>yes</td>\n",
       "    </tr>\n",
       "    <tr>\n",
       "      <th>89</th>\n",
       "      <td>1</td>\n",
       "      <td>sedan</td>\n",
       "      <td>1995</td>\n",
       "      <td>manual</td>\n",
       "      <td>113</td>\n",
       "      <td>e_klasse</td>\n",
       "      <td>150000</td>\n",
       "      <td>gasoline</td>\n",
       "      <td>mercedes_benz</td>\n",
       "      <td>no</td>\n",
       "    </tr>\n",
       "    <tr>\n",
       "      <th>111</th>\n",
       "      <td>0</td>\n",
       "      <td>NaN</td>\n",
       "      <td>2017</td>\n",
       "      <td>manual</td>\n",
       "      <td>0</td>\n",
       "      <td>golf</td>\n",
       "      <td>5000</td>\n",
       "      <td>petrol</td>\n",
       "      <td>volkswagen</td>\n",
       "      <td>NaN</td>\n",
       "    </tr>\n",
       "    <tr>\n",
       "      <th>152</th>\n",
       "      <td>0</td>\n",
       "      <td>bus</td>\n",
       "      <td>2004</td>\n",
       "      <td>manual</td>\n",
       "      <td>101</td>\n",
       "      <td>meriva</td>\n",
       "      <td>150000</td>\n",
       "      <td>lpg</td>\n",
       "      <td>opel</td>\n",
       "      <td>yes</td>\n",
       "    </tr>\n",
       "    <tr>\n",
       "      <th>...</th>\n",
       "      <td>...</td>\n",
       "      <td>...</td>\n",
       "      <td>...</td>\n",
       "      <td>...</td>\n",
       "      <td>...</td>\n",
       "      <td>...</td>\n",
       "      <td>...</td>\n",
       "      <td>...</td>\n",
       "      <td>...</td>\n",
       "      <td>...</td>\n",
       "    </tr>\n",
       "    <tr>\n",
       "      <th>354238</th>\n",
       "      <td>0</td>\n",
       "      <td>small</td>\n",
       "      <td>2002</td>\n",
       "      <td>manual</td>\n",
       "      <td>60</td>\n",
       "      <td>fiesta</td>\n",
       "      <td>150000</td>\n",
       "      <td>petrol</td>\n",
       "      <td>ford</td>\n",
       "      <td>yes</td>\n",
       "    </tr>\n",
       "    <tr>\n",
       "      <th>354248</th>\n",
       "      <td>0</td>\n",
       "      <td>small</td>\n",
       "      <td>1999</td>\n",
       "      <td>manual</td>\n",
       "      <td>53</td>\n",
       "      <td>swift</td>\n",
       "      <td>150000</td>\n",
       "      <td>petrol</td>\n",
       "      <td>suzuki</td>\n",
       "      <td>yes</td>\n",
       "    </tr>\n",
       "    <tr>\n",
       "      <th>354277</th>\n",
       "      <td>0</td>\n",
       "      <td>small</td>\n",
       "      <td>1999</td>\n",
       "      <td>manual</td>\n",
       "      <td>37</td>\n",
       "      <td>arosa</td>\n",
       "      <td>150000</td>\n",
       "      <td>petrol</td>\n",
       "      <td>seat</td>\n",
       "      <td>yes</td>\n",
       "    </tr>\n",
       "    <tr>\n",
       "      <th>354309</th>\n",
       "      <td>99</td>\n",
       "      <td>small</td>\n",
       "      <td>1999</td>\n",
       "      <td>manual</td>\n",
       "      <td>60</td>\n",
       "      <td>arosa</td>\n",
       "      <td>150000</td>\n",
       "      <td>petrol</td>\n",
       "      <td>seat</td>\n",
       "      <td>yes</td>\n",
       "    </tr>\n",
       "    <tr>\n",
       "      <th>354364</th>\n",
       "      <td>0</td>\n",
       "      <td>NaN</td>\n",
       "      <td>2005</td>\n",
       "      <td>manual</td>\n",
       "      <td>0</td>\n",
       "      <td>colt</td>\n",
       "      <td>150000</td>\n",
       "      <td>petrol</td>\n",
       "      <td>mitsubishi</td>\n",
       "      <td>yes</td>\n",
       "    </tr>\n",
       "  </tbody>\n",
       "</table>\n",
       "<p>10642 rows × 10 columns</p>\n",
       "</div>"
      ],
      "text/plain": [
       "        Price VehicleType  RegistrationYear Gearbox  Power     Model  \\\n",
       "7           0       sedan              1980  manual     50     other   \n",
       "40          0         NaN              1990     NaN      0     corsa   \n",
       "89          1       sedan              1995  manual    113  e_klasse   \n",
       "111         0         NaN              2017  manual      0      golf   \n",
       "152         0         bus              2004  manual    101    meriva   \n",
       "...       ...         ...               ...     ...    ...       ...   \n",
       "354238      0       small              2002  manual     60    fiesta   \n",
       "354248      0       small              1999  manual     53     swift   \n",
       "354277      0       small              1999  manual     37     arosa   \n",
       "354309     99       small              1999  manual     60     arosa   \n",
       "354364      0         NaN              2005  manual      0      colt   \n",
       "\n",
       "        Kilometer  FuelType          Brand Repaired  \n",
       "7           40000    petrol     volkswagen       no  \n",
       "40         150000    petrol           opel      yes  \n",
       "89         150000  gasoline  mercedes_benz       no  \n",
       "111          5000    petrol     volkswagen      NaN  \n",
       "152        150000       lpg           opel      yes  \n",
       "...           ...       ...            ...      ...  \n",
       "354238     150000    petrol           ford      yes  \n",
       "354248     150000    petrol         suzuki      yes  \n",
       "354277     150000    petrol           seat      yes  \n",
       "354309     150000    petrol           seat      yes  \n",
       "354364     150000    petrol     mitsubishi      yes  \n",
       "\n",
       "[10642 rows x 10 columns]"
      ]
     },
     "execution_count": 17,
     "metadata": {},
     "output_type": "execute_result"
    }
   ],
   "source": [
    "data.query('Price < 100')"
   ]
  },
  {
   "cell_type": "markdown",
   "metadata": {},
   "source": [
    "0 в качестве цены указан у большинства значений, еще примерно у 1000 цена низкая. Конечно, можно подумать, что продавец хочет просто избавится от машины, но формальная логика говорит, что стоимость автомобиля как металлолома будет больше. Сделаем границу в 100 евро. "
   ]
  },
  {
   "cell_type": "code",
   "execution_count": 18,
   "metadata": {},
   "outputs": [],
   "source": [
    "data = data.drop(data.query('Price < 100').index)"
   ]
  },
  {
   "cell_type": "markdown",
   "metadata": {},
   "source": [
    "<div class=\"alert alert-block alert-success\">\n",
    "<b>Успех:</b>   Самое интересное, что на нескольких сайтов по продажам подержанных автомобилей в Германии (страну можно определить по почтовым индексам, большинство из них из Германии) показало, что цены начинаются действительно с 0 и 1 евро, но это единичные объявления и не понятно, то ли это ошибка при заполнении формы, то ли машины на металлолом. Но я  все-таки склоняюсь к тому, чтобы избавиться от таких данных\n",
    "</div>\n"
   ]
  },
  {
   "cell_type": "code",
   "execution_count": 19,
   "metadata": {
    "scrolled": false
   },
   "outputs": [
    {
     "data": {
      "text/plain": [
       "<AxesSubplot:>"
      ]
     },
     "execution_count": 19,
     "metadata": {},
     "output_type": "execute_result"
    },
    {
     "data": {
      "image/png": "[encoded data removed]",
      "text/plain": [
       "<Figure size 432x288 with 1 Axes>"
      ]
     },
     "metadata": {
      "needs_background": "light"
     },
     "output_type": "display_data"
    }
   ],
   "source": [
    "data['RegistrationYear'].hist(bins = 100)"
   ]
  },
  {
   "cell_type": "code",
   "execution_count": 20,
   "metadata": {},
   "outputs": [
    {
     "data": {
      "text/html": [
       "<div>\n",
       "<style scoped>\n",
       "    .dataframe tbody tr th:only-of-type {\n",
       "        vertical-align: middle;\n",
       "    }\n",
       "\n",
       "    .dataframe tbody tr th {\n",
       "        vertical-align: top;\n",
       "    }\n",
       "\n",
       "    .dataframe thead th {\n",
       "        text-align: right;\n",
       "    }\n",
       "</style>\n",
       "<table border=\"1\" class=\"dataframe\">\n",
       "  <thead>\n",
       "    <tr style=\"text-align: right;\">\n",
       "      <th></th>\n",
       "      <th>Price</th>\n",
       "      <th>VehicleType</th>\n",
       "      <th>RegistrationYear</th>\n",
       "      <th>Gearbox</th>\n",
       "      <th>Power</th>\n",
       "      <th>Model</th>\n",
       "      <th>Kilometer</th>\n",
       "      <th>FuelType</th>\n",
       "      <th>Brand</th>\n",
       "      <th>Repaired</th>\n",
       "    </tr>\n",
       "  </thead>\n",
       "  <tbody>\n",
       "    <tr>\n",
       "      <th>15</th>\n",
       "      <td>450</td>\n",
       "      <td>small</td>\n",
       "      <td>1910</td>\n",
       "      <td>NaN</td>\n",
       "      <td>0</td>\n",
       "      <td>ka</td>\n",
       "      <td>5000</td>\n",
       "      <td>petrol</td>\n",
       "      <td>ford</td>\n",
       "      <td>NaN</td>\n",
       "    </tr>\n",
       "    <tr>\n",
       "      <th>22</th>\n",
       "      <td>2900</td>\n",
       "      <td>NaN</td>\n",
       "      <td>2018</td>\n",
       "      <td>manual</td>\n",
       "      <td>90</td>\n",
       "      <td>meriva</td>\n",
       "      <td>150000</td>\n",
       "      <td>petrol</td>\n",
       "      <td>opel</td>\n",
       "      <td>no</td>\n",
       "    </tr>\n",
       "    <tr>\n",
       "      <th>26</th>\n",
       "      <td>5555</td>\n",
       "      <td>NaN</td>\n",
       "      <td>2017</td>\n",
       "      <td>manual</td>\n",
       "      <td>125</td>\n",
       "      <td>c4</td>\n",
       "      <td>125000</td>\n",
       "      <td>NaN</td>\n",
       "      <td>citroen</td>\n",
       "      <td>no</td>\n",
       "    </tr>\n",
       "    <tr>\n",
       "      <th>48</th>\n",
       "      <td>7750</td>\n",
       "      <td>NaN</td>\n",
       "      <td>2017</td>\n",
       "      <td>manual</td>\n",
       "      <td>80</td>\n",
       "      <td>golf</td>\n",
       "      <td>100000</td>\n",
       "      <td>petrol</td>\n",
       "      <td>volkswagen</td>\n",
       "      <td>NaN</td>\n",
       "    </tr>\n",
       "    <tr>\n",
       "      <th>51</th>\n",
       "      <td>2000</td>\n",
       "      <td>NaN</td>\n",
       "      <td>2017</td>\n",
       "      <td>manual</td>\n",
       "      <td>90</td>\n",
       "      <td>punto</td>\n",
       "      <td>150000</td>\n",
       "      <td>gasoline</td>\n",
       "      <td>fiat</td>\n",
       "      <td>yes</td>\n",
       "    </tr>\n",
       "    <tr>\n",
       "      <th>...</th>\n",
       "      <td>...</td>\n",
       "      <td>...</td>\n",
       "      <td>...</td>\n",
       "      <td>...</td>\n",
       "      <td>...</td>\n",
       "      <td>...</td>\n",
       "      <td>...</td>\n",
       "      <td>...</td>\n",
       "      <td>...</td>\n",
       "      <td>...</td>\n",
       "    </tr>\n",
       "    <tr>\n",
       "      <th>354112</th>\n",
       "      <td>3600</td>\n",
       "      <td>NaN</td>\n",
       "      <td>2017</td>\n",
       "      <td>manual</td>\n",
       "      <td>86</td>\n",
       "      <td>transit</td>\n",
       "      <td>150000</td>\n",
       "      <td>gasoline</td>\n",
       "      <td>ford</td>\n",
       "      <td>NaN</td>\n",
       "    </tr>\n",
       "    <tr>\n",
       "      <th>354140</th>\n",
       "      <td>1000</td>\n",
       "      <td>NaN</td>\n",
       "      <td>2017</td>\n",
       "      <td>manual</td>\n",
       "      <td>101</td>\n",
       "      <td>a4</td>\n",
       "      <td>150000</td>\n",
       "      <td>NaN</td>\n",
       "      <td>audi</td>\n",
       "      <td>NaN</td>\n",
       "    </tr>\n",
       "    <tr>\n",
       "      <th>354203</th>\n",
       "      <td>2140</td>\n",
       "      <td>NaN</td>\n",
       "      <td>2018</td>\n",
       "      <td>manual</td>\n",
       "      <td>80</td>\n",
       "      <td>fiesta</td>\n",
       "      <td>150000</td>\n",
       "      <td>NaN</td>\n",
       "      <td>ford</td>\n",
       "      <td>no</td>\n",
       "    </tr>\n",
       "    <tr>\n",
       "      <th>354253</th>\n",
       "      <td>1250</td>\n",
       "      <td>NaN</td>\n",
       "      <td>2018</td>\n",
       "      <td>NaN</td>\n",
       "      <td>0</td>\n",
       "      <td>corsa</td>\n",
       "      <td>150000</td>\n",
       "      <td>petrol</td>\n",
       "      <td>opel</td>\n",
       "      <td>NaN</td>\n",
       "    </tr>\n",
       "    <tr>\n",
       "      <th>354289</th>\n",
       "      <td>5000</td>\n",
       "      <td>NaN</td>\n",
       "      <td>2017</td>\n",
       "      <td>manual</td>\n",
       "      <td>120</td>\n",
       "      <td>other</td>\n",
       "      <td>150000</td>\n",
       "      <td>NaN</td>\n",
       "      <td>citroen</td>\n",
       "      <td>yes</td>\n",
       "    </tr>\n",
       "  </tbody>\n",
       "</table>\n",
       "<p>11927 rows × 10 columns</p>\n",
       "</div>"
      ],
      "text/plain": [
       "        Price VehicleType  RegistrationYear Gearbox  Power    Model  \\\n",
       "15        450       small              1910     NaN      0       ka   \n",
       "22       2900         NaN              2018  manual     90   meriva   \n",
       "26       5555         NaN              2017  manual    125       c4   \n",
       "48       7750         NaN              2017  manual     80     golf   \n",
       "51       2000         NaN              2017  manual     90    punto   \n",
       "...       ...         ...               ...     ...    ...      ...   \n",
       "354112   3600         NaN              2017  manual     86  transit   \n",
       "354140   1000         NaN              2017  manual    101       a4   \n",
       "354203   2140         NaN              2018  manual     80   fiesta   \n",
       "354253   1250         NaN              2018     NaN      0    corsa   \n",
       "354289   5000         NaN              2017  manual    120    other   \n",
       "\n",
       "        Kilometer  FuelType       Brand Repaired  \n",
       "15           5000    petrol        ford      NaN  \n",
       "22         150000    petrol        opel       no  \n",
       "26         125000       NaN     citroen       no  \n",
       "48         100000    petrol  volkswagen      NaN  \n",
       "51         150000  gasoline        fiat      yes  \n",
       "...           ...       ...         ...      ...  \n",
       "354112     150000  gasoline        ford      NaN  \n",
       "354140     150000       NaN        audi      NaN  \n",
       "354203     150000       NaN        ford       no  \n",
       "354253     150000    petrol        opel      NaN  \n",
       "354289     150000       NaN     citroen      yes  \n",
       "\n",
       "[11927 rows x 10 columns]"
      ]
     },
     "execution_count": 20,
     "metadata": {},
     "output_type": "execute_result"
    }
   ],
   "source": [
    "data.query('RegistrationYear > 2016 or RegistrationYear < 1950')"
   ]
  },
  {
   "cell_type": "markdown",
   "metadata": {},
   "source": [
    "Указаны колясницы и машины будущего. Последняя дата скачивания анкеты из базы 2016-04-07 14:36:58, но пристутствуют автомобили от 2017 г., что составляет 11844 наблюдений. Интерпретировать данные изменения лучше всего с руководителями сервиса  «Не бит, не крашен», возможно, что дата ошибочная. Скачали базу после обновления, например. Так как точная дата обращения заказчика неизвестна, а количество ошибочных записей большое, чтобы думать, что это несистемная ошибка, удалю данные актуальные на настоящий момент.  "
   ]
  },
  {
   "cell_type": "code",
   "execution_count": 21,
   "metadata": {},
   "outputs": [],
   "source": [
    "data = data.drop(data.query('RegistrationYear > 2023 or RegistrationYear < 1950').index)"
   ]
  },
  {
   "cell_type": "markdown",
   "metadata": {},
   "source": [
    "\n",
    "<div class=\"alert alert-block alert-info\">\n",
    "<b>Совет:</b> Советую посмотреть на дату выгрузки анкет - там тоже можно увидеть полезную информацию по поводу границ года регистраци.\n",
    "</div>"
   ]
  },
  {
   "cell_type": "markdown",
   "metadata": {},
   "source": [
    "<div class=\"alert alert-block alert-warning\">\n",
    "<b>Изменения:</b> Посмотрел дату выгрузки анкет, изменил умозаключение, которое было, но код оставил прежним. \n",
    "</div>"
   ]
  },
  {
   "cell_type": "markdown",
   "metadata": {},
   "source": [
    "\n",
    "<div class=\"alert alert-block alert-success\">\n",
    "<b>Успех[2]:</b> Ок\n",
    "</div>"
   ]
  },
  {
   "cell_type": "code",
   "execution_count": 22,
   "metadata": {
    "scrolled": true
   },
   "outputs": [
    {
     "data": {
      "text/plain": [
       "<AxesSubplot:>"
      ]
     },
     "execution_count": 22,
     "metadata": {},
     "output_type": "execute_result"
    },
    {
     "data": {
      "image/png": "[encoded data removed]",
      "text/plain": [
       "<Figure size 432x288 with 1 Axes>"
      ]
     },
     "metadata": {
      "needs_background": "light"
     },
     "output_type": "display_data"
    }
   ],
   "source": [
    "data['RegistrationYear'].hist(bins = 50)"
   ]
  },
  {
   "cell_type": "code",
   "execution_count": 23,
   "metadata": {
    "scrolled": true
   },
   "outputs": [
    {
     "data": {
      "text/plain": [
       "<AxesSubplot:>"
      ]
     },
     "execution_count": 23,
     "metadata": {},
     "output_type": "execute_result"
    },
    {
     "data": {
      "image/png": "[encoded data removed]",
      "text/plain": [
       "<Figure size 432x288 with 1 Axes>"
      ]
     },
     "metadata": {
      "needs_background": "light"
     },
     "output_type": "display_data"
    }
   ],
   "source": [
    "data['Power'].hist(bins = 50)"
   ]
  },
  {
   "cell_type": "code",
   "execution_count": 24,
   "metadata": {
    "scrolled": true
   },
   "outputs": [
    {
     "data": {
      "text/html": [
       "<div>\n",
       "<style scoped>\n",
       "    .dataframe tbody tr th:only-of-type {\n",
       "        vertical-align: middle;\n",
       "    }\n",
       "\n",
       "    .dataframe tbody tr th {\n",
       "        vertical-align: top;\n",
       "    }\n",
       "\n",
       "    .dataframe thead th {\n",
       "        text-align: right;\n",
       "    }\n",
       "</style>\n",
       "<table border=\"1\" class=\"dataframe\">\n",
       "  <thead>\n",
       "    <tr style=\"text-align: right;\">\n",
       "      <th></th>\n",
       "      <th>Price</th>\n",
       "      <th>VehicleType</th>\n",
       "      <th>RegistrationYear</th>\n",
       "      <th>Gearbox</th>\n",
       "      <th>Power</th>\n",
       "      <th>Model</th>\n",
       "      <th>Kilometer</th>\n",
       "      <th>FuelType</th>\n",
       "      <th>Brand</th>\n",
       "      <th>Repaired</th>\n",
       "    </tr>\n",
       "  </thead>\n",
       "  <tbody>\n",
       "    <tr>\n",
       "      <th>0</th>\n",
       "      <td>480</td>\n",
       "      <td>NaN</td>\n",
       "      <td>1993</td>\n",
       "      <td>manual</td>\n",
       "      <td>0</td>\n",
       "      <td>golf</td>\n",
       "      <td>150000</td>\n",
       "      <td>petrol</td>\n",
       "      <td>volkswagen</td>\n",
       "      <td>yes</td>\n",
       "    </tr>\n",
       "    <tr>\n",
       "      <th>32</th>\n",
       "      <td>245</td>\n",
       "      <td>sedan</td>\n",
       "      <td>1994</td>\n",
       "      <td>NaN</td>\n",
       "      <td>0</td>\n",
       "      <td>golf</td>\n",
       "      <td>150000</td>\n",
       "      <td>petrol</td>\n",
       "      <td>volkswagen</td>\n",
       "      <td>no</td>\n",
       "    </tr>\n",
       "    <tr>\n",
       "      <th>37</th>\n",
       "      <td>1500</td>\n",
       "      <td>NaN</td>\n",
       "      <td>2016</td>\n",
       "      <td>NaN</td>\n",
       "      <td>0</td>\n",
       "      <td>kangoo</td>\n",
       "      <td>150000</td>\n",
       "      <td>gasoline</td>\n",
       "      <td>renault</td>\n",
       "      <td>no</td>\n",
       "    </tr>\n",
       "    <tr>\n",
       "      <th>54</th>\n",
       "      <td>4700</td>\n",
       "      <td>wagon</td>\n",
       "      <td>2005</td>\n",
       "      <td>manual</td>\n",
       "      <td>0</td>\n",
       "      <td>signum</td>\n",
       "      <td>150000</td>\n",
       "      <td>NaN</td>\n",
       "      <td>opel</td>\n",
       "      <td>no</td>\n",
       "    </tr>\n",
       "    <tr>\n",
       "      <th>55</th>\n",
       "      <td>550</td>\n",
       "      <td>wagon</td>\n",
       "      <td>1999</td>\n",
       "      <td>manual</td>\n",
       "      <td>0</td>\n",
       "      <td>astra</td>\n",
       "      <td>150000</td>\n",
       "      <td>gasoline</td>\n",
       "      <td>opel</td>\n",
       "      <td>yes</td>\n",
       "    </tr>\n",
       "    <tr>\n",
       "      <th>...</th>\n",
       "      <td>...</td>\n",
       "      <td>...</td>\n",
       "      <td>...</td>\n",
       "      <td>...</td>\n",
       "      <td>...</td>\n",
       "      <td>...</td>\n",
       "      <td>...</td>\n",
       "      <td>...</td>\n",
       "      <td>...</td>\n",
       "      <td>...</td>\n",
       "    </tr>\n",
       "    <tr>\n",
       "      <th>354332</th>\n",
       "      <td>7900</td>\n",
       "      <td>bus</td>\n",
       "      <td>2007</td>\n",
       "      <td>manual</td>\n",
       "      <td>0</td>\n",
       "      <td>b_klasse</td>\n",
       "      <td>125000</td>\n",
       "      <td>petrol</td>\n",
       "      <td>mercedes_benz</td>\n",
       "      <td>no</td>\n",
       "    </tr>\n",
       "    <tr>\n",
       "      <th>354335</th>\n",
       "      <td>390</td>\n",
       "      <td>small</td>\n",
       "      <td>1997</td>\n",
       "      <td>auto</td>\n",
       "      <td>0</td>\n",
       "      <td>corsa</td>\n",
       "      <td>100000</td>\n",
       "      <td>petrol</td>\n",
       "      <td>opel</td>\n",
       "      <td>yes</td>\n",
       "    </tr>\n",
       "    <tr>\n",
       "      <th>354336</th>\n",
       "      <td>3299</td>\n",
       "      <td>NaN</td>\n",
       "      <td>2005</td>\n",
       "      <td>auto</td>\n",
       "      <td>0</td>\n",
       "      <td>outlander</td>\n",
       "      <td>150000</td>\n",
       "      <td>petrol</td>\n",
       "      <td>mitsubishi</td>\n",
       "      <td>yes</td>\n",
       "    </tr>\n",
       "    <tr>\n",
       "      <th>354346</th>\n",
       "      <td>2600</td>\n",
       "      <td>NaN</td>\n",
       "      <td>2005</td>\n",
       "      <td>auto</td>\n",
       "      <td>0</td>\n",
       "      <td>c_klasse</td>\n",
       "      <td>150000</td>\n",
       "      <td>NaN</td>\n",
       "      <td>mercedes_benz</td>\n",
       "      <td>yes</td>\n",
       "    </tr>\n",
       "    <tr>\n",
       "      <th>354363</th>\n",
       "      <td>1150</td>\n",
       "      <td>bus</td>\n",
       "      <td>2000</td>\n",
       "      <td>manual</td>\n",
       "      <td>0</td>\n",
       "      <td>zafira</td>\n",
       "      <td>150000</td>\n",
       "      <td>petrol</td>\n",
       "      <td>opel</td>\n",
       "      <td>no</td>\n",
       "    </tr>\n",
       "  </tbody>\n",
       "</table>\n",
       "<p>30687 rows × 10 columns</p>\n",
       "</div>"
      ],
      "text/plain": [
       "        Price VehicleType  RegistrationYear Gearbox  Power      Model  \\\n",
       "0         480         NaN              1993  manual      0       golf   \n",
       "32        245       sedan              1994     NaN      0       golf   \n",
       "37       1500         NaN              2016     NaN      0     kangoo   \n",
       "54       4700       wagon              2005  manual      0     signum   \n",
       "55        550       wagon              1999  manual      0      astra   \n",
       "...       ...         ...               ...     ...    ...        ...   \n",
       "354332   7900         bus              2007  manual      0   b_klasse   \n",
       "354335    390       small              1997    auto      0      corsa   \n",
       "354336   3299         NaN              2005    auto      0  outlander   \n",
       "354346   2600         NaN              2005    auto      0   c_klasse   \n",
       "354363   1150         bus              2000  manual      0     zafira   \n",
       "\n",
       "        Kilometer  FuelType          Brand Repaired  \n",
       "0          150000    petrol     volkswagen      yes  \n",
       "32         150000    petrol     volkswagen       no  \n",
       "37         150000  gasoline        renault       no  \n",
       "54         150000       NaN           opel       no  \n",
       "55         150000  gasoline           opel      yes  \n",
       "...           ...       ...            ...      ...  \n",
       "354332     125000    petrol  mercedes_benz       no  \n",
       "354335     100000    petrol           opel      yes  \n",
       "354336     150000    petrol     mitsubishi      yes  \n",
       "354346     150000       NaN  mercedes_benz      yes  \n",
       "354363     150000    petrol           opel       no  \n",
       "\n",
       "[30687 rows x 10 columns]"
      ]
     },
     "execution_count": 24,
     "metadata": {},
     "output_type": "execute_result"
    }
   ],
   "source": [
    "data.query('Power > 500 or Power < 0.75')"
   ]
  },
  {
   "cell_type": "code",
   "execution_count": 25,
   "metadata": {},
   "outputs": [
    {
     "data": {
      "text/plain": [
       "<AxesSubplot:>"
      ]
     },
     "execution_count": 25,
     "metadata": {},
     "output_type": "execute_result"
    },
    {
     "data": {
      "image/png": "[encoded data removed]",
      "text/plain": [
       "<Figure size 432x288 with 1 Axes>"
      ]
     },
     "metadata": {
      "needs_background": "light"
     },
     "output_type": "display_data"
    }
   ],
   "source": [
    "data.query('Power == 0')['Price'].hist(bins = 100)"
   ]
  },
  {
   "cell_type": "code",
   "execution_count": 26,
   "metadata": {
    "scrolled": true
   },
   "outputs": [
    {
     "data": {
      "text/plain": [
       "1816      1398\n",
       "4060       953\n",
       "5328      1001\n",
       "6296       603\n",
       "6504       771\n",
       "          ... \n",
       "348968    1241\n",
       "351947    1001\n",
       "353493    2000\n",
       "353633     650\n",
       "354260    1103\n",
       "Name: Power, Length: 366, dtype: int64"
      ]
     },
     "execution_count": 26,
     "metadata": {},
     "output_type": "execute_result"
    }
   ],
   "source": [
    "data.loc[(data['Power'] > 500) | ((data['Power'] < 0.75) & (data['Power'] != 0)),'Power']"
   ]
  },
  {
   "cell_type": "markdown",
   "metadata": {},
   "source": [
    "366 машин имеют мощность, которая не соответствует раельности. Заменим значения на пропуски, чтоб потом их можно было заполнить."
   ]
  },
  {
   "cell_type": "code",
   "execution_count": 27,
   "metadata": {},
   "outputs": [],
   "source": [
    "data.loc[(data['Power'] > 500) | ((data['Power'] < 0.75) & (data['Power'] != 0)),'Power'] = np.nan"
   ]
  },
  {
   "cell_type": "markdown",
   "metadata": {},
   "source": [
    "\n",
    "\n",
    "<div class=\"alert alert-block alert-info\">\n",
    "<b>Совет:</b>  Вопрос на подумать: Как думаешь а машины с 0-ой мощностью могут быть просто без двигателя?\n",
    "</div>"
   ]
  },
  {
   "cell_type": "markdown",
   "metadata": {},
   "source": [
    "<div class=\"alert alert-block alert-warning\">\n",
    "<b>Изменения:</b> Веротяно, да. Оставил машины с 0 мощностью без изменений.\n",
    "</div>"
   ]
  },
  {
   "cell_type": "markdown",
   "metadata": {},
   "source": [
    "\n",
    "<div class=\"alert alert-block alert-success\">\n",
    "<b>Успех[2]:</b> Но здесь я бы не спешил. Нужно подумать нужны ли нашему сервису такие автомобили в качестве примеров?\n",
    "</div>"
   ]
  },
  {
   "cell_type": "code",
   "execution_count": 28,
   "metadata": {
    "scrolled": false
   },
   "outputs": [
    {
     "name": "stdout",
     "output_type": "stream",
     "text": [
      "Количество пропущенных значений в столбце Power: 366\n"
     ]
    }
   ],
   "source": [
    "missing_values = data['Power'].isnull().sum()\n",
    "print(\"Количество пропущенных значений в столбце Power:\", missing_values)"
   ]
  },
  {
   "cell_type": "code",
   "execution_count": 29,
   "metadata": {},
   "outputs": [],
   "source": [
    "data['Power'] = data.groupby(['Model', 'Brand'])['Power'].transform(lambda x: x.fillna(x.median()) if x.notnull().any() else x)"
   ]
  },
  {
   "cell_type": "code",
   "execution_count": 30,
   "metadata": {},
   "outputs": [
    {
     "name": "stdout",
     "output_type": "stream",
     "text": [
      "Количество пропущенных значений в столбце Power: 0\n"
     ]
    }
   ],
   "source": [
    "missing_values = data['Power'].isnull().sum()\n",
    "print(\"Количество пропущенных значений в столбце Power:\", missing_values)"
   ]
  },
  {
   "cell_type": "code",
   "execution_count": 31,
   "metadata": {
    "scrolled": true
   },
   "outputs": [
    {
     "data": {
      "text/plain": [
       "<AxesSubplot:>"
      ]
     },
     "execution_count": 31,
     "metadata": {},
     "output_type": "execute_result"
    },
    {
     "data": {
      "image/png": "[encoded data removed]",
      "text/plain": [
       "<Figure size 432x288 with 1 Axes>"
      ]
     },
     "metadata": {
      "needs_background": "light"
     },
     "output_type": "display_data"
    }
   ],
   "source": [
    "data['Power'].hist(bins = 100)"
   ]
  },
  {
   "cell_type": "code",
   "execution_count": 32,
   "metadata": {
    "scrolled": false
   },
   "outputs": [
    {
     "data": {
      "text/plain": [
       "<AxesSubplot:>"
      ]
     },
     "execution_count": 32,
     "metadata": {},
     "output_type": "execute_result"
    },
    {
     "data": {
      "image/png": "[encoded data removed]",
      "text/plain": [
       "<Figure size 1080x216 with 1 Axes>"
      ]
     },
     "metadata": {
      "needs_background": "light"
     },
     "output_type": "display_data"
    }
   ],
   "source": [
    "data.boxplot('Power', vert = False, figsize = (15,3))"
   ]
  },
  {
   "cell_type": "code",
   "execution_count": 33,
   "metadata": {},
   "outputs": [
    {
     "data": {
      "text/plain": [
       "0         0.0\n",
       "32        0.0\n",
       "37        0.0\n",
       "54        0.0\n",
       "55        0.0\n",
       "         ... \n",
       "354332    0.0\n",
       "354335    0.0\n",
       "354336    0.0\n",
       "354346    0.0\n",
       "354363    0.0\n",
       "Name: Power, Length: 30321, dtype: float64"
      ]
     },
     "execution_count": 33,
     "metadata": {},
     "output_type": "execute_result"
    }
   ],
   "source": [
    "data.loc[data['Power'] == 0,'Power']"
   ]
  },
  {
   "cell_type": "code",
   "execution_count": 34,
   "metadata": {
    "scrolled": false
   },
   "outputs": [
    {
     "data": {
      "image/png": "[encoded data removed]",
      "text/plain": [
       "<Figure size 432x288 with 1 Axes>"
      ]
     },
     "metadata": {},
     "output_type": "display_data"
    }
   ],
   "source": [
    "repaired_counts = data.loc[data['Power'] == 0, 'Repaired'].value_counts()\n",
    "repaired_counts.plot(kind='pie')\n",
    "plt.show()"
   ]
  },
  {
   "cell_type": "code",
   "execution_count": 35,
   "metadata": {},
   "outputs": [
    {
     "name": "stdout",
     "output_type": "stream",
     "text": [
      "Медиана стоимости автомобиля без двигателя: 1399.0\n",
      "Медиана стоимости автомобиля с двигателем: 3200.0\n"
     ]
    }
   ],
   "source": [
    "print('Медиана стоимости автомобиля без двигателя:', data.loc[data['Power'] == 0,'Price'].median())\n",
    "print('Медиана стоимости автомобиля с двигателем:', data.loc[data['Power'] != 0,'Price'].median())"
   ]
  },
  {
   "cell_type": "markdown",
   "metadata": {},
   "source": [
    "Если решить, что мощность, равная 0, соответствует машинам без двигателя, то смущает такое большое количество (более 30321). Стоит посоветоваться с экспертами рынка, чтобы узнать, является ли это аномалией. Половина этих машин не подвергалась ремонту, то есть, как только сгорал двигатель, то машину сразу стремились продать. Тоже вопрос, соответствует ли это реальной жизни...Но судя по медиане стоимости, машины без двигателя в среднем стоят в 2 раза меньше, что похоже на правду.  "
   ]
  },
  {
   "cell_type": "code",
   "execution_count": 36,
   "metadata": {},
   "outputs": [
    {
     "data": {
      "text/html": [
       "<style  type=\"text/css\" >\n",
       "#T_dc8c4_row0_col0{\n",
       "            background-color:  #b40426;\n",
       "            color:  #f1f1f1;\n",
       "        }#T_dc8c4_row1_col0{\n",
       "            background-color:  #d85646;\n",
       "            color:  #000000;\n",
       "        }#T_dc8c4_row2_col0{\n",
       "            background-color:  #e7745b;\n",
       "            color:  #000000;\n",
       "        }#T_dc8c4_row3_col0{\n",
       "            background-color:  #dddcdc;\n",
       "            color:  #000000;\n",
       "        }#T_dc8c4_row4_col0,#T_dc8c4_row5_col0,#T_dc8c4_row6_col0,#T_dc8c4_row7_col0,#T_dc8c4_row8_col0,#T_dc8c4_row9_col0{\n",
       "            background-color:  #3b4cc0;\n",
       "            color:  #f1f1f1;\n",
       "        }</style><table id=\"T_dc8c4_\" ><thead>    <tr>        <th class=\"blank level0\" ></th>        <th class=\"col_heading level0 col0\" >0</th>    </tr></thead><tbody>\n",
       "                <tr>\n",
       "                        <th id=\"T_dc8c4_level0_row0\" class=\"row_heading level0 row0\" >VehicleType</th>\n",
       "                        <td id=\"T_dc8c4_row0_col0\" class=\"data row0 col0\" >8.400000</td>\n",
       "            </tr>\n",
       "            <tr>\n",
       "                        <th id=\"T_dc8c4_level0_row1\" class=\"row_heading level0 row1\" >Repaired</th>\n",
       "                        <td id=\"T_dc8c4_row1_col0\" class=\"data row1 col0\" >7.500000</td>\n",
       "            </tr>\n",
       "            <tr>\n",
       "                        <th id=\"T_dc8c4_level0_row2\" class=\"row_heading level0 row2\" >FuelType</th>\n",
       "                        <td id=\"T_dc8c4_row2_col0\" class=\"data row2 col0\" >7.000000</td>\n",
       "            </tr>\n",
       "            <tr>\n",
       "                        <th id=\"T_dc8c4_level0_row3\" class=\"row_heading level0 row3\" >Gearbox</th>\n",
       "                        <td id=\"T_dc8c4_row3_col0\" class=\"data row3 col0\" >4.200000</td>\n",
       "            </tr>\n",
       "            <tr>\n",
       "                        <th id=\"T_dc8c4_level0_row4\" class=\"row_heading level0 row4\" >Price</th>\n",
       "                        <td id=\"T_dc8c4_row4_col0\" class=\"data row4 col0\" >0.000000</td>\n",
       "            </tr>\n",
       "            <tr>\n",
       "                        <th id=\"T_dc8c4_level0_row5\" class=\"row_heading level0 row5\" >RegistrationYear</th>\n",
       "                        <td id=\"T_dc8c4_row5_col0\" class=\"data row5 col0\" >0.000000</td>\n",
       "            </tr>\n",
       "            <tr>\n",
       "                        <th id=\"T_dc8c4_level0_row6\" class=\"row_heading level0 row6\" >Power</th>\n",
       "                        <td id=\"T_dc8c4_row6_col0\" class=\"data row6 col0\" >0.000000</td>\n",
       "            </tr>\n",
       "            <tr>\n",
       "                        <th id=\"T_dc8c4_level0_row7\" class=\"row_heading level0 row7\" >Model</th>\n",
       "                        <td id=\"T_dc8c4_row7_col0\" class=\"data row7 col0\" >0.000000</td>\n",
       "            </tr>\n",
       "            <tr>\n",
       "                        <th id=\"T_dc8c4_level0_row8\" class=\"row_heading level0 row8\" >Kilometer</th>\n",
       "                        <td id=\"T_dc8c4_row8_col0\" class=\"data row8 col0\" >0.000000</td>\n",
       "            </tr>\n",
       "            <tr>\n",
       "                        <th id=\"T_dc8c4_level0_row9\" class=\"row_heading level0 row9\" >Brand</th>\n",
       "                        <td id=\"T_dc8c4_row9_col0\" class=\"data row9 col0\" >0.000000</td>\n",
       "            </tr>\n",
       "    </tbody></table>"
      ],
      "text/plain": [
       "<pandas.io.formats.style.Styler at 0x7fad4de882e0>"
      ]
     },
     "metadata": {},
     "output_type": "display_data"
    }
   ],
   "source": [
    "display(pd.DataFrame(round(data.isna().mean().sort_values(ascending=False)*100,1)).style.background_gradient('coolwarm'))"
   ]
  },
  {
   "cell_type": "markdown",
   "metadata": {},
   "source": [
    "Тип коробки передач, вид топлива, тип кузова можно примерно восстановить, зная модель и марку автомобиля."
   ]
  },
  {
   "cell_type": "code",
   "execution_count": 37,
   "metadata": {},
   "outputs": [],
   "source": [
    "data['Gearbox'] = data.groupby(['Model', 'Brand'])['Gearbox'].transform(lambda x: x.fillna(x.mode().iloc[0]) if x.notnull().any() else x)"
   ]
  },
  {
   "cell_type": "code",
   "execution_count": 38,
   "metadata": {},
   "outputs": [],
   "source": [
    "#data['FuelType'] = data.groupby(['Model', 'Brand'])['FuelType'].transform(lambda x: x.fillna(x.mode().iloc[0]))\n",
    "\n",
    "data['FuelType'] = data.groupby(['Model', 'Brand', 'Gearbox'])['FuelType'].transform(lambda x: x.fillna(x.mode().iloc[0]) if x.notnull().any() else x)"
   ]
  },
  {
   "cell_type": "code",
   "execution_count": 39,
   "metadata": {},
   "outputs": [],
   "source": [
    "data['Repaired'] = data.groupby(['Model', 'Brand', 'Gearbox', 'FuelType'])['Repaired'].transform(lambda x: x.fillna(x.mode().iloc[0]) if x.notnull().any() else x)"
   ]
  },
  {
   "cell_type": "code",
   "execution_count": 40,
   "metadata": {
    "scrolled": false
   },
   "outputs": [
    {
     "data": {
      "text/plain": [
       "array([nan, 'small', 'sedan', 'bus', 'other', 'wagon', 'convertible',\n",
       "       'coupe', 'suv'], dtype=object)"
      ]
     },
     "execution_count": 40,
     "metadata": {},
     "output_type": "execute_result"
    }
   ],
   "source": [
    "data.loc[data['Model'] == 'golf']['VehicleType'].unique()"
   ]
  },
  {
   "cell_type": "code",
   "execution_count": 41,
   "metadata": {},
   "outputs": [],
   "source": [
    "data['VehicleType'] = data.groupby(['Model', 'Brand', 'Gearbox', 'FuelType'])['VehicleType'].transform(lambda x: x.fillna(x.mode().iloc[0]) if x.notnull().any() else x)"
   ]
  },
  {
   "cell_type": "code",
   "execution_count": 42,
   "metadata": {
    "scrolled": true
   },
   "outputs": [
    {
     "data": {
      "text/html": [
       "<style  type=\"text/css\" >\n",
       "#T_f7821_row0_col0,#T_f7821_row1_col0,#T_f7821_row2_col0,#T_f7821_row3_col0,#T_f7821_row4_col0,#T_f7821_row5_col0,#T_f7821_row6_col0,#T_f7821_row7_col0,#T_f7821_row8_col0,#T_f7821_row9_col0{\n",
       "            background-color:  #3b4cc0;\n",
       "            color:  #f1f1f1;\n",
       "        }</style><table id=\"T_f7821_\" ><thead>    <tr>        <th class=\"blank level0\" ></th>        <th class=\"col_heading level0 col0\" >0</th>    </tr></thead><tbody>\n",
       "                <tr>\n",
       "                        <th id=\"T_f7821_level0_row0\" class=\"row_heading level0 row0\" >VehicleType</th>\n",
       "                        <td id=\"T_f7821_row0_col0\" class=\"data row0 col0\" >0.000000</td>\n",
       "            </tr>\n",
       "            <tr>\n",
       "                        <th id=\"T_f7821_level0_row1\" class=\"row_heading level0 row1\" >Repaired</th>\n",
       "                        <td id=\"T_f7821_row1_col0\" class=\"data row1 col0\" >0.000000</td>\n",
       "            </tr>\n",
       "            <tr>\n",
       "                        <th id=\"T_f7821_level0_row2\" class=\"row_heading level0 row2\" >Price</th>\n",
       "                        <td id=\"T_f7821_row2_col0\" class=\"data row2 col0\" >0.000000</td>\n",
       "            </tr>\n",
       "            <tr>\n",
       "                        <th id=\"T_f7821_level0_row3\" class=\"row_heading level0 row3\" >RegistrationYear</th>\n",
       "                        <td id=\"T_f7821_row3_col0\" class=\"data row3 col0\" >0.000000</td>\n",
       "            </tr>\n",
       "            <tr>\n",
       "                        <th id=\"T_f7821_level0_row4\" class=\"row_heading level0 row4\" >Gearbox</th>\n",
       "                        <td id=\"T_f7821_row4_col0\" class=\"data row4 col0\" >0.000000</td>\n",
       "            </tr>\n",
       "            <tr>\n",
       "                        <th id=\"T_f7821_level0_row5\" class=\"row_heading level0 row5\" >Power</th>\n",
       "                        <td id=\"T_f7821_row5_col0\" class=\"data row5 col0\" >0.000000</td>\n",
       "            </tr>\n",
       "            <tr>\n",
       "                        <th id=\"T_f7821_level0_row6\" class=\"row_heading level0 row6\" >Model</th>\n",
       "                        <td id=\"T_f7821_row6_col0\" class=\"data row6 col0\" >0.000000</td>\n",
       "            </tr>\n",
       "            <tr>\n",
       "                        <th id=\"T_f7821_level0_row7\" class=\"row_heading level0 row7\" >Kilometer</th>\n",
       "                        <td id=\"T_f7821_row7_col0\" class=\"data row7 col0\" >0.000000</td>\n",
       "            </tr>\n",
       "            <tr>\n",
       "                        <th id=\"T_f7821_level0_row8\" class=\"row_heading level0 row8\" >FuelType</th>\n",
       "                        <td id=\"T_f7821_row8_col0\" class=\"data row8 col0\" >0.000000</td>\n",
       "            </tr>\n",
       "            <tr>\n",
       "                        <th id=\"T_f7821_level0_row9\" class=\"row_heading level0 row9\" >Brand</th>\n",
       "                        <td id=\"T_f7821_row9_col0\" class=\"data row9 col0\" >0.000000</td>\n",
       "            </tr>\n",
       "    </tbody></table>"
      ],
      "text/plain": [
       "<pandas.io.formats.style.Styler at 0x7fad4dd4bb50>"
      ]
     },
     "metadata": {},
     "output_type": "display_data"
    }
   ],
   "source": [
    "display(pd.DataFrame(round(data.isna().mean().sort_values(ascending=False)*100,1)).style.background_gradient('coolwarm'))"
   ]
  },
  {
   "cell_type": "code",
   "execution_count": 43,
   "metadata": {
    "scrolled": true
   },
   "outputs": [
    {
     "data": {
      "text/plain": [
       "array(['petrol', 'gasoline', 'lpg', 'other', 'hybrid', 'cng', 'electric'],\n",
       "      dtype=object)"
      ]
     },
     "execution_count": 43,
     "metadata": {},
     "output_type": "execute_result"
    }
   ],
   "source": [
    "data['FuelType'].unique()"
   ]
  },
  {
   "cell_type": "markdown",
   "metadata": {},
   "source": [
    "- petrol', 'gasoline' - вид топлива бензин;\n",
    "- 'lpg', 'cng' - - вид топлива газ.\n",
    "\n",
    "Объединим их."
   ]
  },
  {
   "cell_type": "code",
   "execution_count": 44,
   "metadata": {},
   "outputs": [],
   "source": [
    "data.loc[data['FuelType'] == 'petrol', 'FuelType'] = 'gasoline'\n",
    "data.loc[data['FuelType'] == 'lpg', 'FuelType'] = 'cng'"
   ]
  },
  {
   "cell_type": "code",
   "execution_count": 45,
   "metadata": {},
   "outputs": [
    {
     "data": {
      "text/plain": [
       "array(['gasoline', 'cng', 'other', 'hybrid', 'electric'], dtype=object)"
      ]
     },
     "execution_count": 45,
     "metadata": {},
     "output_type": "execute_result"
    }
   ],
   "source": [
    "data['FuelType'].unique()"
   ]
  },
  {
   "cell_type": "markdown",
   "metadata": {},
   "source": [
    "<div class=\"alert alert-block alert-success\">\n",
    "<b>Успех:</b>  Пропуски обработаны хорошим образом\n",
    "</div>\n",
    "\n",
    "\n",
    "<div class=\"alert alert-block alert-info\">\n",
    "<b>Совет:</b> У fuel_type есть категории, которые означают одно и тоже - их можно объединить, либо подумать может они действительно означают, что-то разное.\n",
    "</div>\n"
   ]
  },
  {
   "cell_type": "markdown",
   "metadata": {},
   "source": [
    "<div class=\"alert alert-block alert-warning\">\n",
    "<b>Изменения:</b> Поправил fuel_type.\n",
    "</div>"
   ]
  },
  {
   "cell_type": "markdown",
   "metadata": {},
   "source": [
    "\n",
    "<div class=\"alert alert-block alert-info\">\n",
    "<b>Совет[2]:</b> Насчет бензина согласен, а вот газ, как по мне, имеет важные различия, поэтому газ лучше не объединять\n",
    "</div>"
   ]
  },
  {
   "cell_type": "code",
   "execution_count": 46,
   "metadata": {
    "scrolled": false
   },
   "outputs": [],
   "source": [
    "data = data.dropna()"
   ]
  },
  {
   "cell_type": "markdown",
   "metadata": {},
   "source": [
    "**Промежуточный вывод**\n",
    "\n",
    "Были предоставлены данные, которые имели 15 колонок и 354369 строк.\n",
    "\n",
    "1) Признаки: DateCrawled, DateCreated, LastSeen относились к типу данных object, хотя это дата и время;\n",
    "\n",
    "2) Пропущенные значения были в колонках: Repaired (20%), VehicleType (10%), FuelType (9%), Gearbox (5%), Model (5%);\n",
    "\n",
    "3) Количество явных дубликатов было: 4;\n",
    "\n",
    "4) Корреляции между признаками не было, кроме слабой - между пробегом и целевым признаком ценой.\n",
    "\n",
    "5) В столбцах: цена, год регистрации, мощность находились аномальные значения.\n",
    "\n",
    "Столбцы NumberOfPictures, RegistrationMonth, PostalCode, DateCrawled, DateCreated, LastSeen были удалены, так как их значение на стоимость автомобиля, вероятно, незначимо. Также были удаления строки, где не была указана модель, так как восстановить признак было бы невозможно логическим путем. 10642 наблюдений имели 0 в качестве цены, еще около 1000 цена была очень низкая. Учитывая, что это целевой признак, были сохранены только наблюдения с ценой выше 99 евро. Также были удалены наблюдения с годом регистрации автомобиля позже 2023 и раньше 1950 гг. \n",
    "\n",
    "Обратить внимание. Последняя дата скачивания анкеты из базы 2016-04-07 14:36:58, но пристутствуют автомобили от 2017 г., что составляет 11844 наблюдений. Интерпретировать данные изменения лучше всего с руководителями сервиса «Не бит, не крашен», возможно, что дата ошибочная. Скачали базу после обновления, например. Поэтому было принято решения их сохранить на данный момент.\n",
    "\n",
    "Часть пропусков в столбце Repaired (автомобили, которые имели ремонт), были заполнены с использованием допущения, что большинство машин, согласно заполненным данным, выпущенных до 2006 г. и с пробегом более 150000 км. имели ремонт. 366 значений в столбце Power (мощность) имели значения, которые мало соответствовали раельности. Они были заменены на медианные значения мощности в соответствии с моделью и брендом. VehicleType (тип кузова), FuelType (вид топлива), Gearbox (тип коробки передач), часть Repaired (ремонт) были приблизетельно восстановлены по моде (самым частым значениям) для своей модель и марки. В столбце вид топлива petrol и gasoline (бензин) и lpg и cng (газ) были объединены."
   ]
  },
  {
   "cell_type": "markdown",
   "metadata": {},
   "source": [
    "<div class=\"alert alert-block alert-success\">\n",
    "<b>Успех:</b> В целом хорошая, детальная предобработка - идем дальше\n",
    "</div>"
   ]
  },
  {
   "cell_type": "markdown",
   "metadata": {},
   "source": [
    "### Поработаем с признаками"
   ]
  },
  {
   "cell_type": "code",
   "execution_count": 47,
   "metadata": {},
   "outputs": [],
   "source": [
    "target = data['Price']\n",
    "features = data.drop(['Price'], axis = 1)"
   ]
  },
  {
   "cell_type": "code",
   "execution_count": 48,
   "metadata": {
    "scrolled": true
   },
   "outputs": [],
   "source": [
    "#features = pd.get_dummies(features_old, columns=['VehicleType', 'Gearbox', 'Model', 'FuelType', 'Brand', 'Repaired'], drop_first=True)"
   ]
  },
  {
   "cell_type": "markdown",
   "metadata": {},
   "source": [
    "\n",
    "<div class=\"alert alert-block alert-danger\">\n",
    "\n",
    "<b>Ошибка:</b>  OHE правильный выбор для линейных моделей. Но для всех других моделей выбор плохой (из-за фактора модели, который порождает много факторов), для заказчика важно время обучения и скорость предсказания, а данные модели могут работать и с другими методами кодировками значительно быстреее, не теряя при этом в качестве.\n",
    "\n",
    "Я тебе могу предложить, что можно сделать:\n",
    "    \n",
    "- Сделать 1 набор данных: \n",
    "    - Закодировать для всех моделей методом TargetEncoder, BinaryEncoder - вполне универсальные варианты\n",
    "    - Закодировать все признаки методом OHE, а модель машины методом OE\n",
    "    - Заменить использование линейных моделей (так как их рассмотрение не обязательно) и использовать единственный метод кодировки OE.\n",
    "- Сделать 2 набора данных\n",
    "    - Закодировать для линейных моделей методом OHE, для остальных OE (или внутренний метод кодирования данных)\n",
    "    \n",
    "P.S. Отмечу, что encoder правильно применять после разбиения данных и обучать только на обучающей выборке, для остальных выборок просто использовать transform. Примеры использования с объяснениями можно найти посмотреь https://colab.research.google.com/drive/1_gAMXcQKoCShB_l8FNtYEejMnosm9mvt?usp=sharing \n",
    "\n",
    "И не забывай использовать параметр `handle_unknown`\n",
    "  \n",
    "</div>\n"
   ]
  },
  {
   "cell_type": "code",
   "execution_count": 49,
   "metadata": {},
   "outputs": [],
   "source": [
    "#pd.set_option('display.max_columns', 400)\n",
    "#features"
   ]
  },
  {
   "cell_type": "code",
   "execution_count": 50,
   "metadata": {},
   "outputs": [],
   "source": [
    "features_train_old, features_test_old, target_train_old, target_test_old = train_test_split(\n",
    "    features, target, test_size = 0.4, random_state = 12345)"
   ]
  },
  {
   "cell_type": "code",
   "execution_count": 51,
   "metadata": {},
   "outputs": [],
   "source": [
    "features_valid_old, features_test_old, target_valid_old, target_test_old = train_test_split(\n",
    "    features_test_old, target_test_old, test_size = 0.5, random_state = 12345)"
   ]
  },
  {
   "cell_type": "code",
   "execution_count": 52,
   "metadata": {},
   "outputs": [],
   "source": [
    "# Создание экземпляра класса BinaryEncoder\n",
    "encoder = ce.BinaryEncoder(cols=['VehicleType', 'Gearbox', 'Model', 'FuelType', 'Brand', 'Repaired'])\n",
    "\n",
    "# Преобразование тренировочных и тестовых данных\n",
    "features_train = encoder.fit_transform(features_train_old)\n",
    "features_valid = encoder.transform(features_valid_old)\n",
    "features_test = encoder.transform(features_test_old)"
   ]
  },
  {
   "cell_type": "markdown",
   "metadata": {},
   "source": [
    "<div class=\"alert alert-block alert-warning\">\n",
    "<b>Изменения:</b> Воспользовался BinaryEncoder. Сделал валидационную выборку, ранее была только обучающая и тестовая. \n",
    "</div>"
   ]
  },
  {
   "cell_type": "markdown",
   "metadata": {},
   "source": [
    "\n",
    "<div class=\"alert alert-block alert-success\">\n",
    "<b>Успех[2]:</b> Есть контакт\n",
    "</div>"
   ]
  },
  {
   "cell_type": "code",
   "execution_count": 53,
   "metadata": {},
   "outputs": [
    {
     "data": {
      "text/html": [
       "<div>\n",
       "<style scoped>\n",
       "    .dataframe tbody tr th:only-of-type {\n",
       "        vertical-align: middle;\n",
       "    }\n",
       "\n",
       "    .dataframe tbody tr th {\n",
       "        vertical-align: top;\n",
       "    }\n",
       "\n",
       "    .dataframe thead th {\n",
       "        text-align: right;\n",
       "    }\n",
       "</style>\n",
       "<table border=\"1\" class=\"dataframe\">\n",
       "  <thead>\n",
       "    <tr style=\"text-align: right;\">\n",
       "      <th></th>\n",
       "      <th>VehicleType_0</th>\n",
       "      <th>VehicleType_1</th>\n",
       "      <th>VehicleType_2</th>\n",
       "      <th>VehicleType_3</th>\n",
       "      <th>RegistrationYear</th>\n",
       "      <th>Gearbox_0</th>\n",
       "      <th>Gearbox_1</th>\n",
       "      <th>Power</th>\n",
       "      <th>Model_0</th>\n",
       "      <th>Model_1</th>\n",
       "      <th>Model_2</th>\n",
       "      <th>Model_3</th>\n",
       "      <th>Model_4</th>\n",
       "      <th>Model_5</th>\n",
       "      <th>Model_6</th>\n",
       "      <th>Model_7</th>\n",
       "      <th>Kilometer</th>\n",
       "      <th>FuelType_0</th>\n",
       "      <th>FuelType_1</th>\n",
       "      <th>FuelType_2</th>\n",
       "      <th>Brand_0</th>\n",
       "      <th>Brand_1</th>\n",
       "      <th>Brand_2</th>\n",
       "      <th>Brand_3</th>\n",
       "      <th>Brand_4</th>\n",
       "      <th>Brand_5</th>\n",
       "      <th>Repaired_0</th>\n",
       "      <th>Repaired_1</th>\n",
       "    </tr>\n",
       "  </thead>\n",
       "  <tbody>\n",
       "    <tr>\n",
       "      <th>343446</th>\n",
       "      <td>0</td>\n",
       "      <td>0</td>\n",
       "      <td>0</td>\n",
       "      <td>1</td>\n",
       "      <td>2006</td>\n",
       "      <td>0</td>\n",
       "      <td>1</td>\n",
       "      <td>77.0</td>\n",
       "      <td>0</td>\n",
       "      <td>0</td>\n",
       "      <td>0</td>\n",
       "      <td>0</td>\n",
       "      <td>0</td>\n",
       "      <td>0</td>\n",
       "      <td>0</td>\n",
       "      <td>1</td>\n",
       "      <td>50000</td>\n",
       "      <td>0</td>\n",
       "      <td>0</td>\n",
       "      <td>1</td>\n",
       "      <td>0</td>\n",
       "      <td>0</td>\n",
       "      <td>0</td>\n",
       "      <td>0</td>\n",
       "      <td>0</td>\n",
       "      <td>1</td>\n",
       "      <td>0</td>\n",
       "      <td>1</td>\n",
       "    </tr>\n",
       "    <tr>\n",
       "      <th>337352</th>\n",
       "      <td>0</td>\n",
       "      <td>0</td>\n",
       "      <td>1</td>\n",
       "      <td>0</td>\n",
       "      <td>2010</td>\n",
       "      <td>0</td>\n",
       "      <td>1</td>\n",
       "      <td>84.0</td>\n",
       "      <td>0</td>\n",
       "      <td>0</td>\n",
       "      <td>0</td>\n",
       "      <td>0</td>\n",
       "      <td>0</td>\n",
       "      <td>0</td>\n",
       "      <td>1</td>\n",
       "      <td>0</td>\n",
       "      <td>150000</td>\n",
       "      <td>0</td>\n",
       "      <td>0</td>\n",
       "      <td>1</td>\n",
       "      <td>0</td>\n",
       "      <td>0</td>\n",
       "      <td>0</td>\n",
       "      <td>0</td>\n",
       "      <td>1</td>\n",
       "      <td>0</td>\n",
       "      <td>0</td>\n",
       "      <td>1</td>\n",
       "    </tr>\n",
       "    <tr>\n",
       "      <th>337879</th>\n",
       "      <td>0</td>\n",
       "      <td>0</td>\n",
       "      <td>0</td>\n",
       "      <td>1</td>\n",
       "      <td>2012</td>\n",
       "      <td>1</td>\n",
       "      <td>0</td>\n",
       "      <td>170.0</td>\n",
       "      <td>0</td>\n",
       "      <td>0</td>\n",
       "      <td>0</td>\n",
       "      <td>0</td>\n",
       "      <td>0</td>\n",
       "      <td>0</td>\n",
       "      <td>1</td>\n",
       "      <td>1</td>\n",
       "      <td>40000</td>\n",
       "      <td>0</td>\n",
       "      <td>0</td>\n",
       "      <td>1</td>\n",
       "      <td>0</td>\n",
       "      <td>0</td>\n",
       "      <td>0</td>\n",
       "      <td>0</td>\n",
       "      <td>1</td>\n",
       "      <td>1</td>\n",
       "      <td>0</td>\n",
       "      <td>1</td>\n",
       "    </tr>\n",
       "    <tr>\n",
       "      <th>286848</th>\n",
       "      <td>0</td>\n",
       "      <td>0</td>\n",
       "      <td>1</td>\n",
       "      <td>1</td>\n",
       "      <td>2011</td>\n",
       "      <td>0</td>\n",
       "      <td>1</td>\n",
       "      <td>69.0</td>\n",
       "      <td>0</td>\n",
       "      <td>0</td>\n",
       "      <td>0</td>\n",
       "      <td>0</td>\n",
       "      <td>0</td>\n",
       "      <td>1</td>\n",
       "      <td>0</td>\n",
       "      <td>0</td>\n",
       "      <td>70000</td>\n",
       "      <td>0</td>\n",
       "      <td>0</td>\n",
       "      <td>1</td>\n",
       "      <td>0</td>\n",
       "      <td>0</td>\n",
       "      <td>0</td>\n",
       "      <td>1</td>\n",
       "      <td>0</td>\n",
       "      <td>0</td>\n",
       "      <td>1</td>\n",
       "      <td>0</td>\n",
       "    </tr>\n",
       "    <tr>\n",
       "      <th>149184</th>\n",
       "      <td>0</td>\n",
       "      <td>1</td>\n",
       "      <td>0</td>\n",
       "      <td>0</td>\n",
       "      <td>2011</td>\n",
       "      <td>1</td>\n",
       "      <td>0</td>\n",
       "      <td>111.0</td>\n",
       "      <td>0</td>\n",
       "      <td>0</td>\n",
       "      <td>0</td>\n",
       "      <td>0</td>\n",
       "      <td>0</td>\n",
       "      <td>1</td>\n",
       "      <td>0</td>\n",
       "      <td>1</td>\n",
       "      <td>150000</td>\n",
       "      <td>0</td>\n",
       "      <td>0</td>\n",
       "      <td>1</td>\n",
       "      <td>0</td>\n",
       "      <td>0</td>\n",
       "      <td>0</td>\n",
       "      <td>1</td>\n",
       "      <td>0</td>\n",
       "      <td>1</td>\n",
       "      <td>0</td>\n",
       "      <td>1</td>\n",
       "    </tr>\n",
       "    <tr>\n",
       "      <th>...</th>\n",
       "      <td>...</td>\n",
       "      <td>...</td>\n",
       "      <td>...</td>\n",
       "      <td>...</td>\n",
       "      <td>...</td>\n",
       "      <td>...</td>\n",
       "      <td>...</td>\n",
       "      <td>...</td>\n",
       "      <td>...</td>\n",
       "      <td>...</td>\n",
       "      <td>...</td>\n",
       "      <td>...</td>\n",
       "      <td>...</td>\n",
       "      <td>...</td>\n",
       "      <td>...</td>\n",
       "      <td>...</td>\n",
       "      <td>...</td>\n",
       "      <td>...</td>\n",
       "      <td>...</td>\n",
       "      <td>...</td>\n",
       "      <td>...</td>\n",
       "      <td>...</td>\n",
       "      <td>...</td>\n",
       "      <td>...</td>\n",
       "      <td>...</td>\n",
       "      <td>...</td>\n",
       "      <td>...</td>\n",
       "      <td>...</td>\n",
       "    </tr>\n",
       "    <tr>\n",
       "      <th>173920</th>\n",
       "      <td>0</td>\n",
       "      <td>0</td>\n",
       "      <td>1</td>\n",
       "      <td>0</td>\n",
       "      <td>1999</td>\n",
       "      <td>0</td>\n",
       "      <td>1</td>\n",
       "      <td>0.0</td>\n",
       "      <td>0</td>\n",
       "      <td>0</td>\n",
       "      <td>0</td>\n",
       "      <td>0</td>\n",
       "      <td>0</td>\n",
       "      <td>0</td>\n",
       "      <td>1</td>\n",
       "      <td>1</td>\n",
       "      <td>150000</td>\n",
       "      <td>0</td>\n",
       "      <td>0</td>\n",
       "      <td>1</td>\n",
       "      <td>0</td>\n",
       "      <td>0</td>\n",
       "      <td>1</td>\n",
       "      <td>1</td>\n",
       "      <td>1</td>\n",
       "      <td>0</td>\n",
       "      <td>0</td>\n",
       "      <td>1</td>\n",
       "    </tr>\n",
       "    <tr>\n",
       "      <th>52406</th>\n",
       "      <td>0</td>\n",
       "      <td>1</td>\n",
       "      <td>0</td>\n",
       "      <td>0</td>\n",
       "      <td>1990</td>\n",
       "      <td>0</td>\n",
       "      <td>1</td>\n",
       "      <td>94.0</td>\n",
       "      <td>0</td>\n",
       "      <td>1</td>\n",
       "      <td>1</td>\n",
       "      <td>1</td>\n",
       "      <td>1</td>\n",
       "      <td>1</td>\n",
       "      <td>1</td>\n",
       "      <td>0</td>\n",
       "      <td>70000</td>\n",
       "      <td>0</td>\n",
       "      <td>0</td>\n",
       "      <td>1</td>\n",
       "      <td>0</td>\n",
       "      <td>0</td>\n",
       "      <td>0</td>\n",
       "      <td>1</td>\n",
       "      <td>0</td>\n",
       "      <td>1</td>\n",
       "      <td>0</td>\n",
       "      <td>1</td>\n",
       "    </tr>\n",
       "    <tr>\n",
       "      <th>94553</th>\n",
       "      <td>0</td>\n",
       "      <td>1</td>\n",
       "      <td>0</td>\n",
       "      <td>0</td>\n",
       "      <td>2001</td>\n",
       "      <td>1</td>\n",
       "      <td>0</td>\n",
       "      <td>0.0</td>\n",
       "      <td>0</td>\n",
       "      <td>0</td>\n",
       "      <td>0</td>\n",
       "      <td>1</td>\n",
       "      <td>0</td>\n",
       "      <td>1</td>\n",
       "      <td>1</td>\n",
       "      <td>1</td>\n",
       "      <td>150000</td>\n",
       "      <td>0</td>\n",
       "      <td>0</td>\n",
       "      <td>1</td>\n",
       "      <td>0</td>\n",
       "      <td>0</td>\n",
       "      <td>1</td>\n",
       "      <td>0</td>\n",
       "      <td>0</td>\n",
       "      <td>0</td>\n",
       "      <td>1</td>\n",
       "      <td>0</td>\n",
       "    </tr>\n",
       "    <tr>\n",
       "      <th>84593</th>\n",
       "      <td>0</td>\n",
       "      <td>1</td>\n",
       "      <td>0</td>\n",
       "      <td>0</td>\n",
       "      <td>2017</td>\n",
       "      <td>0</td>\n",
       "      <td>1</td>\n",
       "      <td>143.0</td>\n",
       "      <td>0</td>\n",
       "      <td>0</td>\n",
       "      <td>0</td>\n",
       "      <td>1</td>\n",
       "      <td>0</td>\n",
       "      <td>0</td>\n",
       "      <td>1</td>\n",
       "      <td>0</td>\n",
       "      <td>100000</td>\n",
       "      <td>0</td>\n",
       "      <td>0</td>\n",
       "      <td>1</td>\n",
       "      <td>0</td>\n",
       "      <td>0</td>\n",
       "      <td>1</td>\n",
       "      <td>1</td>\n",
       "      <td>0</td>\n",
       "      <td>1</td>\n",
       "      <td>0</td>\n",
       "      <td>1</td>\n",
       "    </tr>\n",
       "    <tr>\n",
       "      <th>238326</th>\n",
       "      <td>0</td>\n",
       "      <td>1</td>\n",
       "      <td>0</td>\n",
       "      <td>1</td>\n",
       "      <td>2000</td>\n",
       "      <td>1</td>\n",
       "      <td>0</td>\n",
       "      <td>140.0</td>\n",
       "      <td>0</td>\n",
       "      <td>0</td>\n",
       "      <td>1</td>\n",
       "      <td>0</td>\n",
       "      <td>0</td>\n",
       "      <td>1</td>\n",
       "      <td>0</td>\n",
       "      <td>0</td>\n",
       "      <td>150000</td>\n",
       "      <td>0</td>\n",
       "      <td>0</td>\n",
       "      <td>1</td>\n",
       "      <td>0</td>\n",
       "      <td>1</td>\n",
       "      <td>0</td>\n",
       "      <td>0</td>\n",
       "      <td>1</td>\n",
       "      <td>1</td>\n",
       "      <td>0</td>\n",
       "      <td>1</td>\n",
       "    </tr>\n",
       "  </tbody>\n",
       "</table>\n",
       "<p>194305 rows × 28 columns</p>\n",
       "</div>"
      ],
      "text/plain": [
       "        VehicleType_0  VehicleType_1  VehicleType_2  VehicleType_3  \\\n",
       "343446              0              0              0              1   \n",
       "337352              0              0              1              0   \n",
       "337879              0              0              0              1   \n",
       "286848              0              0              1              1   \n",
       "149184              0              1              0              0   \n",
       "...               ...            ...            ...            ...   \n",
       "173920              0              0              1              0   \n",
       "52406               0              1              0              0   \n",
       "94553               0              1              0              0   \n",
       "84593               0              1              0              0   \n",
       "238326              0              1              0              1   \n",
       "\n",
       "        RegistrationYear  Gearbox_0  Gearbox_1  Power  Model_0  Model_1  \\\n",
       "343446              2006          0          1   77.0        0        0   \n",
       "337352              2010          0          1   84.0        0        0   \n",
       "337879              2012          1          0  170.0        0        0   \n",
       "286848              2011          0          1   69.0        0        0   \n",
       "149184              2011          1          0  111.0        0        0   \n",
       "...                  ...        ...        ...    ...      ...      ...   \n",
       "173920              1999          0          1    0.0        0        0   \n",
       "52406               1990          0          1   94.0        0        1   \n",
       "94553               2001          1          0    0.0        0        0   \n",
       "84593               2017          0          1  143.0        0        0   \n",
       "238326              2000          1          0  140.0        0        0   \n",
       "\n",
       "        Model_2  Model_3  Model_4  Model_5  Model_6  Model_7  Kilometer  \\\n",
       "343446        0        0        0        0        0        1      50000   \n",
       "337352        0        0        0        0        1        0     150000   \n",
       "337879        0        0        0        0        1        1      40000   \n",
       "286848        0        0        0        1        0        0      70000   \n",
       "149184        0        0        0        1        0        1     150000   \n",
       "...         ...      ...      ...      ...      ...      ...        ...   \n",
       "173920        0        0        0        0        1        1     150000   \n",
       "52406         1        1        1        1        1        0      70000   \n",
       "94553         0        1        0        1        1        1     150000   \n",
       "84593         0        1        0        0        1        0     100000   \n",
       "238326        1        0        0        1        0        0     150000   \n",
       "\n",
       "        FuelType_0  FuelType_1  FuelType_2  Brand_0  Brand_1  Brand_2  \\\n",
       "343446           0           0           1        0        0        0   \n",
       "337352           0           0           1        0        0        0   \n",
       "337879           0           0           1        0        0        0   \n",
       "286848           0           0           1        0        0        0   \n",
       "149184           0           0           1        0        0        0   \n",
       "...            ...         ...         ...      ...      ...      ...   \n",
       "173920           0           0           1        0        0        1   \n",
       "52406            0           0           1        0        0        0   \n",
       "94553            0           0           1        0        0        1   \n",
       "84593            0           0           1        0        0        1   \n",
       "238326           0           0           1        0        1        0   \n",
       "\n",
       "        Brand_3  Brand_4  Brand_5  Repaired_0  Repaired_1  \n",
       "343446        0        0        1           0           1  \n",
       "337352        0        1        0           0           1  \n",
       "337879        0        1        1           0           1  \n",
       "286848        1        0        0           1           0  \n",
       "149184        1        0        1           0           1  \n",
       "...         ...      ...      ...         ...         ...  \n",
       "173920        1        1        0           0           1  \n",
       "52406         1        0        1           0           1  \n",
       "94553         0        0        0           1           0  \n",
       "84593         1        0        1           0           1  \n",
       "238326        0        1        1           0           1  \n",
       "\n",
       "[194305 rows x 28 columns]"
      ]
     },
     "execution_count": 53,
     "metadata": {},
     "output_type": "execute_result"
    }
   ],
   "source": [
    "pd.set_option('display.max_columns', 50)\n",
    "features_train"
   ]
  },
  {
   "cell_type": "code",
   "execution_count": 54,
   "metadata": {},
   "outputs": [
    {
     "name": "stdout",
     "output_type": "stream",
     "text": [
      "        VehicleType_0  VehicleType_1  VehicleType_2  VehicleType_3  \\\n",
      "311764              0              1              0              0   \n",
      "140943              0              1              0              0   \n",
      "270740              0              1              0              0   \n",
      "340664              0              1              1              0   \n",
      "84441               0              1              0              0   \n",
      "\n",
      "        RegistrationYear  Gearbox_0  Gearbox_1     Power  Model_0  Model_1  \\\n",
      "311764          0.819439          0          1 -1.774648        0        0   \n",
      "140943          0.819439          0          1  0.001314        0        0   \n",
      "270740         -0.622125          0          1 -0.552656        0        0   \n",
      "340664          0.675283          0          1 -0.063859        0        1   \n",
      "84441          -0.477968          0          1  0.180539        1        0   \n",
      "\n",
      "        Model_2  Model_3  Model_4  Model_5  Model_6  Model_7  Kilometer  \\\n",
      "311764        0        0        0        0        1        1  -1.586973   \n",
      "140943        0        0        0        0        1        1   0.580844   \n",
      "270740        1        1        0        1        0        1   0.580844   \n",
      "340664        1        1        0        0        1        0  -1.586973   \n",
      "84441         1        0        1        1        0        0   0.580844   \n",
      "\n",
      "        FuelType_0  FuelType_1  FuelType_2  Brand_0  Brand_1  Brand_2  \\\n",
      "311764           0           0           1        0        1        1   \n",
      "140943           0           0           1        1        0        0   \n",
      "270740           0           0           1        0        1        0   \n",
      "340664           0           0           1        0        0        0   \n",
      "84441            0           0           1        1        0        0   \n",
      "\n",
      "        Brand_3  Brand_4  Brand_5  Repaired_0  Repaired_1  \n",
      "311764        0        0        0           0           1  \n",
      "140943        0        1        0           0           1  \n",
      "270740        0        0        0           0           1  \n",
      "340664        0        1        0           0           1  \n",
      "84441         0        0        1           0           1  \n"
     ]
    },
    {
     "name": "stderr",
     "output_type": "stream",
     "text": [
      "/tmp/ipykernel_48/945447738.py:12: SettingWithCopyWarning: \n",
      "A value is trying to be set on a copy of a slice from a DataFrame.\n",
      "Try using .loc[row_indexer,col_indexer] = value instead\n",
      "\n",
      "See the caveats in the documentation: https://pandas.pydata.org/pandas-docs/stable/user_guide/indexing.html#returning-a-view-versus-a-copy\n",
      "  features_train_old[numeric] = scaler.transform(features_train_old[numeric])\n",
      "/opt/conda/lib/python3.9/site-packages/pandas/core/indexing.py:1738: SettingWithCopyWarning: \n",
      "A value is trying to be set on a copy of a slice from a DataFrame.\n",
      "Try using .loc[row_indexer,col_indexer] = value instead\n",
      "\n",
      "See the caveats in the documentation: https://pandas.pydata.org/pandas-docs/stable/user_guide/indexing.html#returning-a-view-versus-a-copy\n",
      "  self._setitem_single_column(loc, value[:, i].tolist(), pi)\n"
     ]
    }
   ],
   "source": [
    "numeric = ['RegistrationYear', 'Power', 'Kilometer']\n",
    "\n",
    "scaler = StandardScaler()\n",
    "scaler.fit(features_train[numeric]) \n",
    "features_train[numeric] = scaler.transform(features_train[numeric])\n",
    "features_valid[numeric] = scaler.transform(features_valid[numeric])\n",
    "features_test[numeric] = scaler.transform(features_test[numeric])\n",
    "\n",
    "# масштабируем количественные признаки, которые затем будут использованы в моделях градиентного бустинга, так как они имеют свои\n",
    "# внутренние методы кодировки\n",
    "\n",
    "features_train_old[numeric] = scaler.transform(features_train_old[numeric])\n",
    "features_valid_old[numeric] = scaler.transform(features_valid_old[numeric])\n",
    "features_test_old[numeric] = scaler.transform(features_test_old[numeric])\n",
    "\n",
    "print(features_valid.head())"
   ]
  },
  {
   "cell_type": "markdown",
   "metadata": {},
   "source": [
    "<div class=\"alert alert-block alert-success\">\n",
    "<b>Успех:</b>  Масштабирование проведено корректно"
   ]
  },
  {
   "cell_type": "markdown",
   "metadata": {},
   "source": [
    "**Промежуточный вывод**\n",
    "\n",
    "Категориальные переменные были преобразованы в числовые значения методом BinaryEncoder, количественные признаки были масштабированы. Выборка была поделена на обучающую, валидационную и тестовую."
   ]
  },
  {
   "cell_type": "markdown",
   "metadata": {},
   "source": [
    "## Обучение моделей"
   ]
  },
  {
   "cell_type": "markdown",
   "metadata": {},
   "source": [
    "Обучим разные модели, одна из которых — LightGBM, как минимум одна — не бустинг. Для каждой модели попробуем разные гиперпараметры."
   ]
  },
  {
   "cell_type": "markdown",
   "metadata": {},
   "source": [
    "### Дерево решений"
   ]
  },
  {
   "cell_type": "code",
   "execution_count": 55,
   "metadata": {},
   "outputs": [
    {
     "name": "stdout",
     "output_type": "stream",
     "text": [
      "RMSE на обучающей выборке: 2059.121793387171 и максимальную глубину: 10\n"
     ]
    }
   ],
   "source": [
    "best_model_tree = None\n",
    "best_result = 5000000\n",
    "max_depth = None\n",
    "scores = []\n",
    "\n",
    "for depth in range(1,11,3):\n",
    "    model = DecisionTreeRegressor(max_depth = depth, random_state = 12345)\n",
    "    scoring = make_scorer(mean_squared_error, greater_is_better=False)\n",
    "    scores = cross_val_score(model, features_train, target_train_old, cv = 5, scoring=scoring)\n",
    "    final_score = abs(np.mean(scores))       \n",
    "    rmse = final_score ** 0.5\n",
    "    result = rmse\n",
    "    if result < best_result:\n",
    "        best_result = result\n",
    "        best_model_tree = model\n",
    "        max_depth = depth        \n",
    "\n",
    "print(\"RMSE на обучающей выборке:\", best_result, 'и максимальную глубину:', max_depth)"
   ]
  },
  {
   "cell_type": "code",
   "execution_count": 56,
   "metadata": {},
   "outputs": [
    {
     "name": "stdout",
     "output_type": "stream",
     "text": [
      "CPU times: user 631 ms, sys: 3.87 ms, total: 635 ms\n",
      "Wall time: 639 ms\n"
     ]
    },
    {
     "data": {
      "text/plain": [
       "DecisionTreeRegressor(max_depth=10, random_state=12345)"
      ]
     },
     "execution_count": 56,
     "metadata": {},
     "output_type": "execute_result"
    }
   ],
   "source": [
    "%%time\n",
    "\n",
    "best_model_tree.fit(features_train, target_train_old)"
   ]
  },
  {
   "cell_type": "code",
   "execution_count": 57,
   "metadata": {},
   "outputs": [
    {
     "name": "stdout",
     "output_type": "stream",
     "text": [
      "CPU times: user 15.3 ms, sys: 3.96 ms, total: 19.3 ms\n",
      "Wall time: 17.9 ms\n"
     ]
    }
   ],
   "source": [
    "%%time\n",
    "\n",
    "predict_valid_tree = best_model_tree.predict(features_valid)"
   ]
  },
  {
   "cell_type": "code",
   "execution_count": 58,
   "metadata": {},
   "outputs": [
    {
     "name": "stdout",
     "output_type": "stream",
     "text": [
      "RMSE на валидационной выборке: 2052.8470228799742\n"
     ]
    }
   ],
   "source": [
    "mse = mean_squared_error(target_valid_old, predict_valid_tree)\n",
    "rmse = mse ** 0.5\n",
    "\n",
    "print(\"RMSE на валидационной выборке:\", rmse)"
   ]
  },
  {
   "cell_type": "markdown",
   "metadata": {},
   "source": [
    "### Случайный лес"
   ]
  },
  {
   "cell_type": "code",
   "execution_count": 59,
   "metadata": {
    "scrolled": true
   },
   "outputs": [
    {
     "name": "stdout",
     "output_type": "stream",
     "text": [
      "RMSE на обучающей выборке: 2180.467946549201 , число деревьев: 20  и максимальную глубину: 7\n"
     ]
    }
   ],
   "source": [
    "best_model_forest = None\n",
    "best_result = 5000000\n",
    "max_depth = None\n",
    "n_estimators = None\n",
    "scores = []\n",
    "\n",
    "for depth in range(1,10,3):\n",
    "     for est in range(20,40,20):\n",
    "        model = RandomForestRegressor(max_depth = depth, n_estimators = est, random_state = 12345)\n",
    "        scores = cross_val_score(model, features_train, target_train_old, cv = 5, scoring=scoring)\n",
    "        final_score = abs(np.mean(scores))       \n",
    "        rmse = final_score ** 0.5\n",
    "        result = rmse\n",
    "        if result < best_result:\n",
    "            best_result = result\n",
    "            best_model_forest = model\n",
    "            max_depth = depth\n",
    "            n_estimators = est\n",
    "\n",
    "print(\"RMSE на обучающей выборке:\", best_result,',','число деревьев:', n_estimators,' и максимальную глубину:', max_depth)"
   ]
  },
  {
   "cell_type": "code",
   "execution_count": 60,
   "metadata": {},
   "outputs": [
    {
     "name": "stdout",
     "output_type": "stream",
     "text": [
      "CPU times: user 6.01 s, sys: 7.46 ms, total: 6.02 s\n",
      "Wall time: 6.03 s\n"
     ]
    },
    {
     "data": {
      "text/plain": [
       "RandomForestRegressor(max_depth=7, n_estimators=20, random_state=12345)"
      ]
     },
     "execution_count": 60,
     "metadata": {},
     "output_type": "execute_result"
    }
   ],
   "source": [
    "%%time\n",
    "\n",
    "best_model_forest.fit(features_train, target_train_old)"
   ]
  },
  {
   "cell_type": "code",
   "execution_count": 61,
   "metadata": {},
   "outputs": [
    {
     "name": "stdout",
     "output_type": "stream",
     "text": [
      "CPU times: user 81.8 ms, sys: 44 µs, total: 81.8 ms\n",
      "Wall time: 84.9 ms\n"
     ]
    }
   ],
   "source": [
    "%%time\n",
    "\n",
    "predict_valid_forest = best_model_forest.predict(features_valid)"
   ]
  },
  {
   "cell_type": "code",
   "execution_count": 62,
   "metadata": {},
   "outputs": [
    {
     "name": "stdout",
     "output_type": "stream",
     "text": [
      "RMSE на валидационной выборке: 2191.090518153201\n"
     ]
    }
   ],
   "source": [
    "mse = mean_squared_error(target_valid_old, predict_valid_forest)\n",
    "rmse = mse ** 0.5\n",
    "\n",
    "print(\"RMSE на валидационной выборке:\", rmse)"
   ]
  },
  {
   "cell_type": "markdown",
   "metadata": {},
   "source": [
    "### CatBoost"
   ]
  },
  {
   "cell_type": "markdown",
   "metadata": {},
   "source": [
    "При использовании CatBoost мы не должны пользоваться one-hot кодированием, поскольку это влияет на скорость обучения и на качество прогнозов. Вместо этого зададим категориальные признаки с помощью параметра cat_features."
   ]
  },
  {
   "cell_type": "markdown",
   "metadata": {},
   "source": [
    "<div class=\"alert alert-block alert-success\">\n",
    "<b>Успех:</b> Верно, но с другими моделями аналогичный нюанс\n",
    "</div>"
   ]
  },
  {
   "cell_type": "code",
   "execution_count": 63,
   "metadata": {
    "scrolled": true
   },
   "outputs": [
    {
     "data": {
      "application/vnd.jupyter.widget-view+json": {
       "model_id": "3b1c835b67864511a2fd41c76cd93a9a",
       "version_major": 2,
       "version_minor": 0
      },
      "text/plain": [
       "MetricVisualizer(layout=Layout(align_self='stretch', height='500px'))"
      ]
     },
     "metadata": {},
     "output_type": "display_data"
    },
    {
     "name": "stdout",
     "output_type": "stream",
     "text": [
      "Learning rate set to 0.094909\n",
      "0:\tlearn: 4268.8942823\ttotal: 286ms\tremaining: 4m 42s\n",
      "100:\tlearn: 1810.0575352\ttotal: 13.6s\tremaining: 1m 59s\n",
      "200:\tlearn: 1726.4290721\ttotal: 27.3s\tremaining: 1m 47s\n",
      "300:\tlearn: 1683.5363531\ttotal: 40.6s\tremaining: 1m 32s\n",
      "400:\tlearn: 1657.4342149\ttotal: 54.5s\tremaining: 1m 20s\n",
      "500:\tlearn: 1638.3172451\ttotal: 1m 8s\tremaining: 1m 6s\n",
      "600:\tlearn: 1620.7361912\ttotal: 1m 22s\tremaining: 53.2s\n",
      "700:\tlearn: 1606.6548928\ttotal: 1m 36s\tremaining: 39.7s\n",
      "800:\tlearn: 1594.1336106\ttotal: 1m 49s\tremaining: 25.9s\n",
      "900:\tlearn: 1584.3112480\ttotal: 2m 4s\tremaining: 12.2s\n",
      "989:\tlearn: 1576.6581435\ttotal: 2m 16s\tremaining: 0us\n",
      "Learning rate set to 0.085064\n",
      "0:\tlearn: 4281.5345436\ttotal: 91ms\tremaining: 1m 30s\n",
      "1:\tlearn: 4057.5037789\ttotal: 174ms\tremaining: 1m 25s\n",
      "2:\tlearn: 3861.3291395\ttotal: 273ms\tremaining: 1m 29s\n",
      "3:\tlearn: 3679.6383056\ttotal: 375ms\tremaining: 1m 32s\n",
      "4:\tlearn: 3517.9779464\ttotal: 459ms\tremaining: 1m 30s\n",
      "5:\tlearn: 3377.5331566\ttotal: 530ms\tremaining: 1m 26s\n",
      "6:\tlearn: 3250.3468672\ttotal: 637ms\tremaining: 1m 29s\n",
      "7:\tlearn: 3135.6405490\ttotal: 717ms\tremaining: 1m 28s\n",
      "8:\tlearn: 3023.0646387\ttotal: 796ms\tremaining: 1m 26s\n",
      "9:\tlearn: 2925.3107673\ttotal: 880ms\tremaining: 1m 26s\n",
      "10:\tlearn: 2836.5437869\ttotal: 970ms\tremaining: 1m 26s\n",
      "11:\tlearn: 2758.8634781\ttotal: 1.04s\tremaining: 1m 25s\n",
      "12:\tlearn: 2683.7912089\ttotal: 1.13s\tremaining: 1m 24s\n",
      "13:\tlearn: 2619.6838919\ttotal: 1.2s\tremaining: 1m 23s\n",
      "14:\tlearn: 2564.8712050\ttotal: 1.27s\tremaining: 1m 22s\n",
      "15:\tlearn: 2513.3768032\ttotal: 1.35s\tremaining: 1m 22s\n",
      "16:\tlearn: 2463.7729863\ttotal: 1.43s\tremaining: 1m 22s\n",
      "17:\tlearn: 2418.0765526\ttotal: 1.52s\tremaining: 1m 21s\n",
      "18:\tlearn: 2377.6739395\ttotal: 1.59s\tremaining: 1m 21s\n",
      "19:\tlearn: 2342.2618282\ttotal: 1.67s\tremaining: 1m 21s\n",
      "20:\tlearn: 2309.8685719\ttotal: 1.76s\tremaining: 1m 21s\n",
      "21:\tlearn: 2274.4939704\ttotal: 1.84s\tremaining: 1m 21s\n",
      "22:\tlearn: 2243.9817045\ttotal: 1.91s\tremaining: 1m 20s\n",
      "23:\tlearn: 2218.3148796\ttotal: 1.99s\tremaining: 1m 20s\n",
      "24:\tlearn: 2189.7443414\ttotal: 2.07s\tremaining: 1m 19s\n",
      "25:\tlearn: 2168.0695753\ttotal: 2.13s\tremaining: 1m 18s\n",
      "26:\tlearn: 2147.1680344\ttotal: 2.18s\tremaining: 1m 17s\n",
      "27:\tlearn: 2128.8731812\ttotal: 2.24s\tremaining: 1m 17s\n",
      "28:\tlearn: 2109.7962737\ttotal: 2.3s\tremaining: 1m 16s\n",
      "29:\tlearn: 2094.0132016\ttotal: 2.39s\tremaining: 1m 16s\n",
      "30:\tlearn: 2080.4129954\ttotal: 2.46s\tremaining: 1m 16s\n",
      "31:\tlearn: 2066.3481234\ttotal: 2.52s\tremaining: 1m 15s\n",
      "32:\tlearn: 2055.5843477\ttotal: 2.59s\tremaining: 1m 14s\n",
      "33:\tlearn: 2045.1864067\ttotal: 2.65s\tremaining: 1m 14s\n",
      "34:\tlearn: 2034.8997297\ttotal: 2.7s\tremaining: 1m 13s\n",
      "35:\tlearn: 2026.7959775\ttotal: 2.77s\tremaining: 1m 13s\n",
      "36:\tlearn: 2019.9043377\ttotal: 2.83s\tremaining: 1m 12s\n",
      "37:\tlearn: 2009.6008004\ttotal: 2.89s\tremaining: 1m 12s\n",
      "38:\tlearn: 2002.3345388\ttotal: 2.94s\tremaining: 1m 11s\n",
      "39:\tlearn: 1996.2759297\ttotal: 3s\tremaining: 1m 11s\n",
      "40:\tlearn: 1990.1665347\ttotal: 3.07s\tremaining: 1m 11s\n",
      "41:\tlearn: 1984.5482466\ttotal: 3.12s\tremaining: 1m 10s\n",
      "42:\tlearn: 1979.1258688\ttotal: 3.19s\tremaining: 1m 10s\n",
      "43:\tlearn: 1974.3016349\ttotal: 3.27s\tremaining: 1m 10s\n",
      "44:\tlearn: 1966.7398892\ttotal: 3.33s\tremaining: 1m 9s\n",
      "45:\tlearn: 1961.6631342\ttotal: 3.4s\tremaining: 1m 9s\n",
      "46:\tlearn: 1956.9876405\ttotal: 3.47s\tremaining: 1m 9s\n",
      "47:\tlearn: 1951.7086876\ttotal: 3.54s\tremaining: 1m 9s\n",
      "48:\tlearn: 1946.5745537\ttotal: 3.62s\tremaining: 1m 9s\n",
      "49:\tlearn: 1943.1374519\ttotal: 3.69s\tremaining: 1m 9s\n",
      "50:\tlearn: 1937.8104522\ttotal: 3.75s\tremaining: 1m 9s\n",
      "51:\tlearn: 1932.2703817\ttotal: 3.85s\tremaining: 1m 9s\n",
      "52:\tlearn: 1927.7938030\ttotal: 3.9s\tremaining: 1m 8s\n",
      "53:\tlearn: 1924.3156327\ttotal: 3.95s\tremaining: 1m 8s\n",
      "54:\tlearn: 1921.6781335\ttotal: 4.01s\tremaining: 1m 8s\n",
      "55:\tlearn: 1917.6400632\ttotal: 4.07s\tremaining: 1m 7s\n",
      "56:\tlearn: 1914.9798077\ttotal: 4.13s\tremaining: 1m 7s\n",
      "57:\tlearn: 1912.3167266\ttotal: 4.21s\tremaining: 1m 7s\n",
      "58:\tlearn: 1908.9907010\ttotal: 4.33s\tremaining: 1m 8s\n",
      "59:\tlearn: 1904.6278402\ttotal: 4.49s\tremaining: 1m 9s\n",
      "60:\tlearn: 1901.5393313\ttotal: 4.57s\tremaining: 1m 9s\n",
      "61:\tlearn: 1898.8899881\ttotal: 4.64s\tremaining: 1m 9s\n",
      "62:\tlearn: 1895.8589672\ttotal: 4.72s\tremaining: 1m 9s\n",
      "63:\tlearn: 1892.8558868\ttotal: 4.8s\tremaining: 1m 9s\n",
      "64:\tlearn: 1890.1860173\ttotal: 4.87s\tremaining: 1m 9s\n",
      "65:\tlearn: 1887.7197964\ttotal: 4.93s\tremaining: 1m 9s\n",
      "66:\tlearn: 1885.4245076\ttotal: 5.01s\tremaining: 1m 9s\n",
      "67:\tlearn: 1883.6035959\ttotal: 5.07s\tremaining: 1m 8s\n",
      "68:\tlearn: 1881.2358732\ttotal: 5.13s\tremaining: 1m 8s\n",
      "69:\tlearn: 1878.6360313\ttotal: 5.18s\tremaining: 1m 8s\n",
      "70:\tlearn: 1876.2649376\ttotal: 5.25s\tremaining: 1m 8s\n",
      "71:\tlearn: 1874.3282369\ttotal: 5.33s\tremaining: 1m 7s\n",
      "72:\tlearn: 1872.1173448\ttotal: 5.38s\tremaining: 1m 7s\n",
      "73:\tlearn: 1869.4761885\ttotal: 5.42s\tremaining: 1m 7s\n",
      "74:\tlearn: 1867.2543092\ttotal: 5.46s\tremaining: 1m 6s\n",
      "75:\tlearn: 1865.4906480\ttotal: 5.53s\tremaining: 1m 6s\n",
      "76:\tlearn: 1862.6989575\ttotal: 5.62s\tremaining: 1m 6s\n",
      "77:\tlearn: 1861.1499787\ttotal: 5.69s\tremaining: 1m 6s\n",
      "78:\tlearn: 1859.1129227\ttotal: 5.75s\tremaining: 1m 6s\n",
      "79:\tlearn: 1857.5979875\ttotal: 5.81s\tremaining: 1m 6s\n",
      "80:\tlearn: 1856.1676569\ttotal: 5.9s\tremaining: 1m 6s\n",
      "81:\tlearn: 1854.6124156\ttotal: 5.96s\tremaining: 1m 5s\n",
      "82:\tlearn: 1852.6232839\ttotal: 6.01s\tremaining: 1m 5s\n",
      "83:\tlearn: 1851.2596003\ttotal: 6.08s\tremaining: 1m 5s\n",
      "84:\tlearn: 1849.4904761\ttotal: 6.17s\tremaining: 1m 5s\n",
      "85:\tlearn: 1848.2826946\ttotal: 6.22s\tremaining: 1m 5s\n",
      "86:\tlearn: 1846.7091035\ttotal: 6.29s\tremaining: 1m 5s\n",
      "87:\tlearn: 1844.8475154\ttotal: 6.35s\tremaining: 1m 5s\n",
      "88:\tlearn: 1842.9867671\ttotal: 6.43s\tremaining: 1m 5s\n",
      "89:\tlearn: 1842.4652111\ttotal: 6.49s\tremaining: 1m 4s\n",
      "90:\tlearn: 1840.7692992\ttotal: 6.55s\tremaining: 1m 4s\n",
      "91:\tlearn: 1839.4964843\ttotal: 6.6s\tremaining: 1m 4s\n",
      "92:\tlearn: 1838.4276226\ttotal: 6.66s\tremaining: 1m 4s\n",
      "93:\tlearn: 1836.5739833\ttotal: 6.7s\tremaining: 1m 3s\n",
      "94:\tlearn: 1835.3344406\ttotal: 6.76s\tremaining: 1m 3s\n",
      "95:\tlearn: 1834.2906920\ttotal: 6.81s\tremaining: 1m 3s\n",
      "96:\tlearn: 1833.3505461\ttotal: 6.86s\tremaining: 1m 3s\n",
      "97:\tlearn: 1832.1564615\ttotal: 6.92s\tremaining: 1m 2s\n",
      "98:\tlearn: 1829.8537321\ttotal: 6.98s\tremaining: 1m 2s\n",
      "99:\tlearn: 1828.4431165\ttotal: 7.04s\tremaining: 1m 2s\n",
      "100:\tlearn: 1827.1295647\ttotal: 7.13s\tremaining: 1m 2s\n",
      "101:\tlearn: 1825.1186718\ttotal: 7.21s\tremaining: 1m 2s\n",
      "102:\tlearn: 1823.5190168\ttotal: 7.3s\tremaining: 1m 2s\n",
      "103:\tlearn: 1822.5429683\ttotal: 7.36s\tremaining: 1m 2s\n",
      "104:\tlearn: 1820.6657392\ttotal: 7.42s\tremaining: 1m 2s\n",
      "105:\tlearn: 1818.9122006\ttotal: 7.5s\tremaining: 1m 2s\n",
      "106:\tlearn: 1817.7003706\ttotal: 7.56s\tremaining: 1m 2s\n",
      "107:\tlearn: 1816.0707190\ttotal: 7.62s\tremaining: 1m 2s\n",
      "108:\tlearn: 1815.0228479\ttotal: 7.69s\tremaining: 1m 2s\n",
      "109:\tlearn: 1813.8763514\ttotal: 7.75s\tremaining: 1m 2s\n",
      "110:\tlearn: 1812.3355954\ttotal: 7.81s\tremaining: 1m 1s\n",
      "111:\tlearn: 1811.5220355\ttotal: 7.87s\tremaining: 1m 1s\n",
      "112:\tlearn: 1810.4830192\ttotal: 7.92s\tremaining: 1m 1s\n",
      "113:\tlearn: 1809.2330611\ttotal: 7.98s\tremaining: 1m 1s\n",
      "114:\tlearn: 1807.9237360\ttotal: 8.06s\tremaining: 1m 1s\n",
      "115:\tlearn: 1806.9430006\ttotal: 8.09s\tremaining: 1m\n",
      "116:\tlearn: 1805.5869755\ttotal: 8.17s\tremaining: 1m\n",
      "117:\tlearn: 1804.4376613\ttotal: 8.25s\tremaining: 1m\n",
      "118:\tlearn: 1802.6888862\ttotal: 8.32s\tremaining: 1m\n",
      "119:\tlearn: 1801.6274172\ttotal: 8.41s\tremaining: 1m\n",
      "120:\tlearn: 1799.8972310\ttotal: 8.47s\tremaining: 1m\n",
      "121:\tlearn: 1798.1470478\ttotal: 8.54s\tremaining: 1m\n",
      "122:\tlearn: 1796.4244463\ttotal: 8.64s\tremaining: 1m\n",
      "123:\tlearn: 1795.1167620\ttotal: 8.69s\tremaining: 1m\n",
      "124:\tlearn: 1794.3100577\ttotal: 8.77s\tremaining: 1m\n",
      "125:\tlearn: 1793.9760895\ttotal: 8.82s\tremaining: 1m\n",
      "126:\tlearn: 1792.6914672\ttotal: 8.87s\tremaining: 1m\n",
      "127:\tlearn: 1791.9217262\ttotal: 8.95s\tremaining: 1m\n",
      "128:\tlearn: 1791.3684940\ttotal: 9.02s\tremaining: 1m\n",
      "129:\tlearn: 1790.1714633\ttotal: 9.09s\tremaining: 1m\n",
      "130:\tlearn: 1789.1086548\ttotal: 9.14s\tremaining: 60s\n",
      "131:\tlearn: 1788.3079293\ttotal: 9.21s\tremaining: 59.8s\n",
      "132:\tlearn: 1787.4503770\ttotal: 9.27s\tremaining: 59.7s\n",
      "133:\tlearn: 1786.1539994\ttotal: 9.32s\tremaining: 59.5s\n",
      "134:\tlearn: 1785.1197744\ttotal: 9.39s\tremaining: 59.5s\n",
      "135:\tlearn: 1784.1258711\ttotal: 9.46s\tremaining: 59.4s\n",
      "136:\tlearn: 1783.2313057\ttotal: 9.53s\tremaining: 59.3s\n",
      "137:\tlearn: 1782.4745873\ttotal: 9.58s\tremaining: 59.2s\n",
      "138:\tlearn: 1781.1626958\ttotal: 9.66s\tremaining: 59.1s\n",
      "139:\tlearn: 1780.1346644\ttotal: 9.71s\tremaining: 59s\n",
      "140:\tlearn: 1779.2394563\ttotal: 9.78s\tremaining: 58.9s\n",
      "141:\tlearn: 1778.8003148\ttotal: 9.84s\tremaining: 58.8s\n",
      "142:\tlearn: 1777.7253872\ttotal: 9.91s\tremaining: 58.7s\n",
      "143:\tlearn: 1776.9184938\ttotal: 9.98s\tremaining: 58.6s\n",
      "144:\tlearn: 1776.2528364\ttotal: 10.1s\tremaining: 58.6s\n",
      "145:\tlearn: 1775.6263054\ttotal: 10.1s\tremaining: 58.5s\n",
      "146:\tlearn: 1774.4600355\ttotal: 10.2s\tremaining: 58.4s\n",
      "147:\tlearn: 1773.0401972\ttotal: 10.3s\tremaining: 58.4s\n",
      "148:\tlearn: 1772.4342330\ttotal: 10.3s\tremaining: 58.3s\n",
      "149:\tlearn: 1771.4258483\ttotal: 10.4s\tremaining: 58.3s\n",
      "150:\tlearn: 1770.3304535\ttotal: 10.5s\tremaining: 58.2s\n",
      "151:\tlearn: 1769.7571121\ttotal: 10.5s\tremaining: 58.1s\n",
      "152:\tlearn: 1769.2308293\ttotal: 10.6s\tremaining: 58s\n",
      "153:\tlearn: 1768.0501088\ttotal: 10.7s\tremaining: 57.9s\n",
      "154:\tlearn: 1766.8524798\ttotal: 10.7s\tremaining: 57.9s\n",
      "155:\tlearn: 1765.8703849\ttotal: 10.8s\tremaining: 57.8s\n",
      "156:\tlearn: 1764.8763635\ttotal: 10.9s\tremaining: 57.7s\n",
      "157:\tlearn: 1764.1969838\ttotal: 11s\tremaining: 57.7s\n",
      "158:\tlearn: 1763.8463514\ttotal: 11.1s\tremaining: 57.8s\n",
      "159:\tlearn: 1763.4758086\ttotal: 11.1s\tremaining: 57.7s\n",
      "160:\tlearn: 1762.5503180\ttotal: 11.2s\tremaining: 57.6s\n",
      "161:\tlearn: 1761.7226845\ttotal: 11.2s\tremaining: 57.5s\n",
      "162:\tlearn: 1761.0435652\ttotal: 11.3s\tremaining: 57.5s\n",
      "163:\tlearn: 1760.2348030\ttotal: 11.4s\tremaining: 57.3s\n",
      "164:\tlearn: 1759.6242145\ttotal: 11.4s\tremaining: 57.2s\n",
      "165:\tlearn: 1758.9220689\ttotal: 11.5s\tremaining: 57.1s\n",
      "166:\tlearn: 1758.5386122\ttotal: 11.6s\tremaining: 57.1s\n",
      "167:\tlearn: 1757.7573136\ttotal: 11.7s\tremaining: 57s\n",
      "168:\tlearn: 1756.8690837\ttotal: 11.7s\tremaining: 57s\n",
      "169:\tlearn: 1755.7405162\ttotal: 11.8s\tremaining: 57s\n",
      "170:\tlearn: 1754.8918616\ttotal: 11.9s\tremaining: 56.8s\n",
      "171:\tlearn: 1754.0959020\ttotal: 11.9s\tremaining: 56.8s\n",
      "172:\tlearn: 1753.3336281\ttotal: 12s\tremaining: 56.8s\n",
      "173:\tlearn: 1752.4073564\ttotal: 12.1s\tremaining: 56.7s\n",
      "174:\tlearn: 1751.4905055\ttotal: 12.2s\tremaining: 56.6s\n",
      "175:\tlearn: 1751.0722019\ttotal: 12.2s\tremaining: 56.5s\n",
      "176:\tlearn: 1749.8749643\ttotal: 12.3s\tremaining: 56.5s\n",
      "177:\tlearn: 1749.0456553\ttotal: 12.4s\tremaining: 56.4s\n",
      "178:\tlearn: 1748.3466574\ttotal: 12.4s\tremaining: 56.3s\n",
      "179:\tlearn: 1747.3598493\ttotal: 12.5s\tremaining: 56.3s\n",
      "180:\tlearn: 1746.8184080\ttotal: 12.6s\tremaining: 56.2s\n",
      "181:\tlearn: 1746.3302259\ttotal: 12.6s\tremaining: 56.1s\n",
      "182:\tlearn: 1745.7460372\ttotal: 12.7s\tremaining: 56.1s\n",
      "183:\tlearn: 1744.9484786\ttotal: 12.8s\tremaining: 56s\n",
      "184:\tlearn: 1744.8273213\ttotal: 12.9s\tremaining: 56s\n",
      "185:\tlearn: 1744.0249184\ttotal: 12.9s\tremaining: 55.9s\n",
      "186:\tlearn: 1743.5500924\ttotal: 13s\tremaining: 55.8s\n",
      "187:\tlearn: 1742.7421506\ttotal: 13.1s\tremaining: 55.7s\n",
      "188:\tlearn: 1742.2629280\ttotal: 13.1s\tremaining: 55.6s\n",
      "189:\tlearn: 1741.7520426\ttotal: 13.2s\tremaining: 55.6s\n",
      "190:\tlearn: 1741.3110774\ttotal: 13.3s\tremaining: 55.5s\n",
      "191:\tlearn: 1740.8171614\ttotal: 13.3s\tremaining: 55.4s\n",
      "192:\tlearn: 1740.0139542\ttotal: 13.4s\tremaining: 55.3s\n",
      "193:\tlearn: 1739.9122793\ttotal: 13.5s\tremaining: 55.3s\n",
      "194:\tlearn: 1739.0950763\ttotal: 13.6s\tremaining: 55.2s\n",
      "195:\tlearn: 1738.3487917\ttotal: 13.6s\tremaining: 55.1s\n",
      "196:\tlearn: 1737.8421788\ttotal: 13.7s\tremaining: 55.1s\n",
      "197:\tlearn: 1737.2754784\ttotal: 13.8s\tremaining: 55.1s\n",
      "198:\tlearn: 1736.4012773\ttotal: 13.9s\tremaining: 55.2s\n",
      "199:\tlearn: 1736.0196278\ttotal: 13.9s\tremaining: 55.1s\n",
      "200:\tlearn: 1735.2034687\ttotal: 14s\tremaining: 55.1s\n",
      "201:\tlearn: 1734.6991936\ttotal: 14.1s\tremaining: 55.1s\n",
      "202:\tlearn: 1734.0212175\ttotal: 14.2s\tremaining: 54.9s\n",
      "203:\tlearn: 1733.3889947\ttotal: 14.2s\tremaining: 54.9s\n",
      "204:\tlearn: 1733.0531839\ttotal: 14.3s\tremaining: 54.9s\n",
      "205:\tlearn: 1732.3380979\ttotal: 14.4s\tremaining: 54.7s\n",
      "206:\tlearn: 1731.7798690\ttotal: 14.4s\tremaining: 54.6s\n",
      "207:\tlearn: 1731.4271255\ttotal: 14.5s\tremaining: 54.5s\n",
      "208:\tlearn: 1730.6835315\ttotal: 14.6s\tremaining: 54.4s\n",
      "209:\tlearn: 1730.3978160\ttotal: 14.6s\tremaining: 54.3s\n",
      "210:\tlearn: 1729.8308875\ttotal: 14.7s\tremaining: 54.3s\n",
      "211:\tlearn: 1729.3443168\ttotal: 14.8s\tremaining: 54.2s\n",
      "212:\tlearn: 1728.5008515\ttotal: 14.8s\tremaining: 54.2s\n",
      "213:\tlearn: 1728.1694441\ttotal: 14.9s\tremaining: 54.1s\n",
      "214:\tlearn: 1727.5867136\ttotal: 15s\tremaining: 54s\n",
      "215:\tlearn: 1727.0752219\ttotal: 15s\tremaining: 53.9s\n",
      "216:\tlearn: 1726.5342179\ttotal: 15.1s\tremaining: 53.9s\n",
      "217:\tlearn: 1726.2096199\ttotal: 15.2s\tremaining: 53.8s\n",
      "218:\tlearn: 1725.9502198\ttotal: 15.2s\tremaining: 53.7s\n",
      "219:\tlearn: 1725.3082532\ttotal: 15.3s\tremaining: 53.6s\n",
      "220:\tlearn: 1724.8127434\ttotal: 15.4s\tremaining: 53.5s\n",
      "221:\tlearn: 1724.3565723\ttotal: 15.4s\tremaining: 53.4s\n",
      "222:\tlearn: 1723.9435216\ttotal: 15.5s\tremaining: 53.3s\n",
      "223:\tlearn: 1723.4946625\ttotal: 15.5s\tremaining: 53.1s\n",
      "224:\tlearn: 1722.9200247\ttotal: 15.6s\tremaining: 53s\n",
      "225:\tlearn: 1722.4511611\ttotal: 15.7s\tremaining: 52.9s\n",
      "226:\tlearn: 1721.5713159\ttotal: 15.7s\tremaining: 52.9s\n",
      "227:\tlearn: 1721.3002217\ttotal: 15.8s\tremaining: 52.8s\n",
      "228:\tlearn: 1720.9013946\ttotal: 15.9s\tremaining: 52.8s\n",
      "229:\tlearn: 1720.4204795\ttotal: 16s\tremaining: 52.7s\n",
      "230:\tlearn: 1719.9694803\ttotal: 16s\tremaining: 52.7s\n",
      "231:\tlearn: 1719.5142211\ttotal: 16.1s\tremaining: 52.6s\n",
      "232:\tlearn: 1718.8381772\ttotal: 16.2s\tremaining: 52.5s\n",
      "233:\tlearn: 1718.6004080\ttotal: 16.2s\tremaining: 52.5s\n",
      "234:\tlearn: 1718.2359788\ttotal: 16.3s\tremaining: 52.4s\n",
      "235:\tlearn: 1717.3935715\ttotal: 16.4s\tremaining: 52.2s\n",
      "236:\tlearn: 1716.8871186\ttotal: 16.4s\tremaining: 52.2s\n",
      "237:\tlearn: 1716.7034176\ttotal: 16.5s\tremaining: 52.1s\n",
      "238:\tlearn: 1715.7964601\ttotal: 16.5s\tremaining: 52s\n",
      "239:\tlearn: 1715.5779940\ttotal: 16.6s\tremaining: 52s\n",
      "240:\tlearn: 1714.7451381\ttotal: 16.7s\tremaining: 51.9s\n",
      "241:\tlearn: 1713.9500050\ttotal: 16.8s\tremaining: 51.8s\n",
      "242:\tlearn: 1713.5028812\ttotal: 16.8s\tremaining: 51.7s\n",
      "243:\tlearn: 1713.2751757\ttotal: 16.9s\tremaining: 51.6s\n",
      "244:\tlearn: 1712.8693714\ttotal: 16.9s\tremaining: 51.5s\n",
      "245:\tlearn: 1712.3230123\ttotal: 17s\tremaining: 51.4s\n",
      "246:\tlearn: 1711.9601907\ttotal: 17.1s\tremaining: 51.3s\n",
      "247:\tlearn: 1711.3310924\ttotal: 17.1s\tremaining: 51.2s\n",
      "248:\tlearn: 1711.0834318\ttotal: 17.2s\tremaining: 51.2s\n",
      "249:\tlearn: 1710.8063473\ttotal: 17.3s\tremaining: 51.1s\n",
      "250:\tlearn: 1710.5287422\ttotal: 17.3s\tremaining: 50.9s\n",
      "251:\tlearn: 1710.1017133\ttotal: 17.4s\tremaining: 50.9s\n",
      "252:\tlearn: 1709.4143450\ttotal: 17.4s\tremaining: 50.8s\n",
      "253:\tlearn: 1708.7695817\ttotal: 17.5s\tremaining: 50.7s\n",
      "254:\tlearn: 1708.2256506\ttotal: 17.5s\tremaining: 50.6s\n",
      "255:\tlearn: 1707.8752913\ttotal: 17.6s\tremaining: 50.5s\n",
      "256:\tlearn: 1707.5734663\ttotal: 17.7s\tremaining: 50.5s\n",
      "257:\tlearn: 1707.0328087\ttotal: 17.8s\tremaining: 50.4s\n",
      "258:\tlearn: 1706.4213526\ttotal: 17.8s\tremaining: 50.4s\n",
      "259:\tlearn: 1706.2278978\ttotal: 17.9s\tremaining: 50.3s\n",
      "260:\tlearn: 1705.5883261\ttotal: 18s\tremaining: 50.2s\n",
      "261:\tlearn: 1705.0208700\ttotal: 18.1s\tremaining: 50.2s\n",
      "262:\tlearn: 1704.9055831\ttotal: 18.1s\tremaining: 50.1s\n",
      "263:\tlearn: 1704.4429940\ttotal: 18.2s\tremaining: 50s\n",
      "264:\tlearn: 1704.2372447\ttotal: 18.2s\tremaining: 49.9s\n",
      "265:\tlearn: 1703.8995924\ttotal: 18.3s\tremaining: 49.9s\n",
      "266:\tlearn: 1703.6869689\ttotal: 18.4s\tremaining: 49.7s\n",
      "267:\tlearn: 1703.1516986\ttotal: 18.4s\tremaining: 49.6s\n",
      "268:\tlearn: 1702.8687365\ttotal: 18.5s\tremaining: 49.6s\n",
      "269:\tlearn: 1702.5372308\ttotal: 18.6s\tremaining: 49.6s\n",
      "270:\tlearn: 1702.1089463\ttotal: 18.7s\tremaining: 49.5s\n",
      "271:\tlearn: 1701.5264302\ttotal: 18.7s\tremaining: 49.4s\n",
      "272:\tlearn: 1701.0566958\ttotal: 18.8s\tremaining: 49.4s\n",
      "273:\tlearn: 1700.5929020\ttotal: 18.9s\tremaining: 49.4s\n",
      "274:\tlearn: 1700.4623374\ttotal: 19s\tremaining: 49.4s\n",
      "275:\tlearn: 1699.8976369\ttotal: 19.1s\tremaining: 49.3s\n",
      "276:\tlearn: 1699.7196916\ttotal: 19.1s\tremaining: 49.2s\n",
      "277:\tlearn: 1699.7054684\ttotal: 19.2s\tremaining: 49.1s\n",
      "278:\tlearn: 1699.1913059\ttotal: 19.2s\tremaining: 49s\n",
      "279:\tlearn: 1698.6476446\ttotal: 19.3s\tremaining: 49s\n",
      "280:\tlearn: 1698.4519394\ttotal: 19.4s\tremaining: 49s\n",
      "281:\tlearn: 1698.1337353\ttotal: 19.5s\tremaining: 48.9s\n",
      "282:\tlearn: 1697.6584196\ttotal: 19.6s\tremaining: 48.9s\n",
      "283:\tlearn: 1697.0096377\ttotal: 19.6s\tremaining: 48.8s\n",
      "284:\tlearn: 1696.8499136\ttotal: 19.7s\tremaining: 48.7s\n",
      "285:\tlearn: 1696.6396638\ttotal: 19.7s\tremaining: 48.5s\n",
      "286:\tlearn: 1696.5566928\ttotal: 19.8s\tremaining: 48.4s\n",
      "287:\tlearn: 1696.2523806\ttotal: 19.8s\tremaining: 48.4s\n",
      "288:\tlearn: 1695.8445887\ttotal: 19.9s\tremaining: 48.3s\n",
      "289:\tlearn: 1695.3659076\ttotal: 20s\tremaining: 48.2s\n",
      "290:\tlearn: 1694.9860736\ttotal: 20s\tremaining: 48.1s\n",
      "291:\tlearn: 1694.7193155\ttotal: 20.1s\tremaining: 48s\n",
      "292:\tlearn: 1694.1848950\ttotal: 20.2s\tremaining: 48s\n",
      "293:\tlearn: 1693.9421913\ttotal: 20.2s\tremaining: 47.9s\n",
      "294:\tlearn: 1693.1284044\ttotal: 20.3s\tremaining: 47.8s\n",
      "295:\tlearn: 1692.7376194\ttotal: 20.4s\tremaining: 47.8s\n",
      "296:\tlearn: 1692.2559132\ttotal: 20.4s\tremaining: 47.7s\n",
      "297:\tlearn: 1691.6512871\ttotal: 20.5s\tremaining: 47.6s\n",
      "298:\tlearn: 1691.4007888\ttotal: 20.6s\tremaining: 47.6s\n",
      "299:\tlearn: 1691.1570973\ttotal: 20.7s\tremaining: 47.5s\n",
      "300:\tlearn: 1690.5442372\ttotal: 20.7s\tremaining: 47.4s\n",
      "301:\tlearn: 1690.1360032\ttotal: 20.8s\tremaining: 47.4s\n",
      "302:\tlearn: 1689.8352847\ttotal: 20.9s\tremaining: 47.3s\n",
      "303:\tlearn: 1689.4882161\ttotal: 20.9s\tremaining: 47.2s\n",
      "304:\tlearn: 1689.1826965\ttotal: 21s\tremaining: 47.1s\n",
      "305:\tlearn: 1688.7119898\ttotal: 21.1s\tremaining: 47.1s\n",
      "306:\tlearn: 1688.3721186\ttotal: 21.1s\tremaining: 47s\n",
      "307:\tlearn: 1687.7893886\ttotal: 21.2s\tremaining: 46.9s\n",
      "308:\tlearn: 1687.6830139\ttotal: 21.3s\tremaining: 46.9s\n",
      "309:\tlearn: 1687.4411927\ttotal: 21.3s\tremaining: 46.8s\n",
      "310:\tlearn: 1686.8684562\ttotal: 21.4s\tremaining: 46.7s\n",
      "311:\tlearn: 1686.4834822\ttotal: 21.4s\tremaining: 46.6s\n",
      "312:\tlearn: 1685.8520116\ttotal: 21.5s\tremaining: 46.5s\n",
      "313:\tlearn: 1685.5462155\ttotal: 21.6s\tremaining: 46.5s\n",
      "314:\tlearn: 1685.1616887\ttotal: 21.7s\tremaining: 46.4s\n",
      "315:\tlearn: 1684.7258533\ttotal: 21.7s\tremaining: 46.4s\n",
      "316:\tlearn: 1684.1120228\ttotal: 21.8s\tremaining: 46.3s\n",
      "317:\tlearn: 1683.7378475\ttotal: 21.9s\tremaining: 46.2s\n",
      "318:\tlearn: 1683.3412308\ttotal: 22s\tremaining: 46.2s\n",
      "319:\tlearn: 1683.0265187\ttotal: 22s\tremaining: 46.1s\n",
      "320:\tlearn: 1682.4882090\ttotal: 22.1s\tremaining: 46.1s\n",
      "321:\tlearn: 1682.3211454\ttotal: 22.2s\tremaining: 46s\n",
      "322:\tlearn: 1681.7052026\ttotal: 22.3s\tremaining: 46s\n",
      "323:\tlearn: 1681.3401003\ttotal: 22.3s\tremaining: 45.9s\n",
      "324:\tlearn: 1681.1462252\ttotal: 22.4s\tremaining: 45.8s\n",
      "325:\tlearn: 1680.9088710\ttotal: 22.5s\tremaining: 45.8s\n",
      "326:\tlearn: 1680.5059523\ttotal: 22.5s\tremaining: 45.7s\n",
      "327:\tlearn: 1680.1349430\ttotal: 22.6s\tremaining: 45.6s\n",
      "328:\tlearn: 1679.8246309\ttotal: 22.7s\tremaining: 45.6s\n",
      "329:\tlearn: 1679.1824916\ttotal: 22.7s\tremaining: 45.4s\n",
      "330:\tlearn: 1678.9749768\ttotal: 22.8s\tremaining: 45.4s\n",
      "331:\tlearn: 1678.5949665\ttotal: 22.9s\tremaining: 45.3s\n",
      "332:\tlearn: 1678.3332169\ttotal: 22.9s\tremaining: 45.3s\n",
      "333:\tlearn: 1678.1340529\ttotal: 23s\tremaining: 45.2s\n",
      "334:\tlearn: 1677.9656383\ttotal: 23.1s\tremaining: 45.2s\n",
      "335:\tlearn: 1677.6475044\ttotal: 23.2s\tremaining: 45.1s\n",
      "336:\tlearn: 1677.2712143\ttotal: 23.2s\tremaining: 45s\n",
      "337:\tlearn: 1677.2507177\ttotal: 23.3s\tremaining: 44.9s\n",
      "338:\tlearn: 1677.1812789\ttotal: 23.4s\tremaining: 44.9s\n",
      "339:\tlearn: 1676.8808047\ttotal: 23.4s\tremaining: 44.8s\n",
      "340:\tlearn: 1676.5886141\ttotal: 23.5s\tremaining: 44.7s\n",
      "341:\tlearn: 1676.3212468\ttotal: 23.6s\tremaining: 44.7s\n",
      "342:\tlearn: 1675.8188852\ttotal: 23.7s\tremaining: 44.6s\n",
      "343:\tlearn: 1675.2269638\ttotal: 23.7s\tremaining: 44.5s\n",
      "344:\tlearn: 1675.0141000\ttotal: 23.8s\tremaining: 44.5s\n",
      "345:\tlearn: 1674.8481461\ttotal: 23.9s\tremaining: 44.4s\n",
      "346:\tlearn: 1674.4654816\ttotal: 24s\tremaining: 44.4s\n",
      "347:\tlearn: 1674.1753300\ttotal: 24s\tremaining: 44.3s\n",
      "348:\tlearn: 1674.1696562\ttotal: 24.1s\tremaining: 44.2s\n",
      "349:\tlearn: 1673.7533881\ttotal: 24.2s\tremaining: 44.2s\n",
      "350:\tlearn: 1673.4708947\ttotal: 24.3s\tremaining: 44.2s\n",
      "351:\tlearn: 1672.9977633\ttotal: 24.4s\tremaining: 44.1s\n",
      "352:\tlearn: 1672.7669791\ttotal: 24.4s\tremaining: 44.1s\n",
      "353:\tlearn: 1672.5046732\ttotal: 24.5s\tremaining: 44s\n",
      "354:\tlearn: 1671.9886502\ttotal: 24.6s\tremaining: 44s\n",
      "355:\tlearn: 1671.7383656\ttotal: 24.7s\tremaining: 43.9s\n",
      "356:\tlearn: 1671.6794592\ttotal: 24.7s\tremaining: 43.8s\n",
      "357:\tlearn: 1671.1924660\ttotal: 24.8s\tremaining: 43.8s\n",
      "358:\tlearn: 1670.7480882\ttotal: 24.9s\tremaining: 43.7s\n",
      "359:\tlearn: 1670.3494787\ttotal: 25s\tremaining: 43.7s\n",
      "360:\tlearn: 1670.0037922\ttotal: 25s\tremaining: 43.6s\n",
      "361:\tlearn: 1669.9363092\ttotal: 25.1s\tremaining: 43.5s\n",
      "362:\tlearn: 1669.8338653\ttotal: 25.2s\tremaining: 43.5s\n",
      "363:\tlearn: 1669.3464473\ttotal: 25.2s\tremaining: 43.4s\n",
      "364:\tlearn: 1669.2861126\ttotal: 25.3s\tremaining: 43.3s\n",
      "365:\tlearn: 1669.1653730\ttotal: 25.4s\tremaining: 43.2s\n",
      "366:\tlearn: 1668.8500905\ttotal: 25.4s\tremaining: 43.2s\n",
      "367:\tlearn: 1668.5465126\ttotal: 25.5s\tremaining: 43.1s\n",
      "368:\tlearn: 1668.1681360\ttotal: 25.6s\tremaining: 43s\n",
      "369:\tlearn: 1667.9984588\ttotal: 25.6s\tremaining: 42.9s\n",
      "370:\tlearn: 1667.7588719\ttotal: 25.7s\tremaining: 42.8s\n",
      "371:\tlearn: 1667.3839480\ttotal: 25.7s\tremaining: 42.8s\n",
      "372:\tlearn: 1667.0717554\ttotal: 25.8s\tremaining: 42.7s\n",
      "373:\tlearn: 1666.9544267\ttotal: 25.9s\tremaining: 42.6s\n",
      "374:\tlearn: 1666.4072264\ttotal: 26s\tremaining: 42.6s\n",
      "375:\tlearn: 1666.1500791\ttotal: 26s\tremaining: 42.5s\n",
      "376:\tlearn: 1665.8100497\ttotal: 26.1s\tremaining: 42.5s\n",
      "377:\tlearn: 1665.6335072\ttotal: 26.2s\tremaining: 42.4s\n",
      "378:\tlearn: 1665.2526056\ttotal: 26.3s\tremaining: 42.3s\n",
      "379:\tlearn: 1665.0359534\ttotal: 26.3s\tremaining: 42.3s\n",
      "380:\tlearn: 1664.7664824\ttotal: 26.4s\tremaining: 42.2s\n",
      "381:\tlearn: 1664.7574162\ttotal: 26.4s\tremaining: 42.1s\n",
      "382:\tlearn: 1664.5840154\ttotal: 26.5s\tremaining: 42s\n",
      "383:\tlearn: 1664.3778377\ttotal: 26.6s\tremaining: 41.9s\n",
      "384:\tlearn: 1663.9905359\ttotal: 26.6s\tremaining: 41.9s\n",
      "385:\tlearn: 1663.7917735\ttotal: 26.7s\tremaining: 41.8s\n",
      "386:\tlearn: 1663.7838504\ttotal: 26.8s\tremaining: 41.7s\n",
      "387:\tlearn: 1663.4854163\ttotal: 26.8s\tremaining: 41.6s\n",
      "388:\tlearn: 1663.2862983\ttotal: 26.9s\tremaining: 41.6s\n",
      "389:\tlearn: 1662.9855853\ttotal: 26.9s\tremaining: 41.5s\n",
      "390:\tlearn: 1662.8258456\ttotal: 27s\tremaining: 41.4s\n",
      "391:\tlearn: 1662.4645453\ttotal: 27.1s\tremaining: 41.3s\n",
      "392:\tlearn: 1662.4089433\ttotal: 27.1s\tremaining: 41.2s\n",
      "393:\tlearn: 1662.1394027\ttotal: 27.2s\tremaining: 41.1s\n",
      "394:\tlearn: 1661.8825718\ttotal: 27.2s\tremaining: 41s\n",
      "395:\tlearn: 1661.7170778\ttotal: 27.3s\tremaining: 40.9s\n",
      "396:\tlearn: 1661.4162472\ttotal: 27.4s\tremaining: 40.9s\n",
      "397:\tlearn: 1661.0425986\ttotal: 27.5s\tremaining: 40.8s\n",
      "398:\tlearn: 1661.0356183\ttotal: 27.5s\tremaining: 40.7s\n",
      "399:\tlearn: 1660.9222549\ttotal: 27.6s\tremaining: 40.7s\n",
      "400:\tlearn: 1660.6495875\ttotal: 27.6s\tremaining: 40.6s\n",
      "401:\tlearn: 1660.5261989\ttotal: 27.7s\tremaining: 40.5s\n",
      "402:\tlearn: 1660.1642349\ttotal: 27.8s\tremaining: 40.4s\n",
      "403:\tlearn: 1660.0864434\ttotal: 27.8s\tremaining: 40.4s\n",
      "404:\tlearn: 1660.0004622\ttotal: 27.9s\tremaining: 40.3s\n",
      "405:\tlearn: 1659.7324673\ttotal: 27.9s\tremaining: 40.2s\n",
      "406:\tlearn: 1659.4818836\ttotal: 28s\tremaining: 40.1s\n",
      "407:\tlearn: 1659.0482315\ttotal: 28.1s\tremaining: 40s\n",
      "408:\tlearn: 1658.6742245\ttotal: 28.1s\tremaining: 40s\n",
      "409:\tlearn: 1658.4031249\ttotal: 28.2s\tremaining: 39.9s\n",
      "410:\tlearn: 1658.0951685\ttotal: 28.3s\tremaining: 39.9s\n",
      "411:\tlearn: 1657.7748851\ttotal: 28.4s\tremaining: 39.8s\n",
      "412:\tlearn: 1657.4701065\ttotal: 28.5s\tremaining: 39.8s\n",
      "413:\tlearn: 1657.2428088\ttotal: 28.5s\tremaining: 39.7s\n",
      "414:\tlearn: 1657.0358126\ttotal: 28.6s\tremaining: 39.6s\n",
      "415:\tlearn: 1656.5671089\ttotal: 28.6s\tremaining: 39.5s\n",
      "416:\tlearn: 1656.2663670\ttotal: 28.7s\tremaining: 39.5s\n",
      "417:\tlearn: 1656.0411636\ttotal: 28.8s\tremaining: 39.4s\n",
      "418:\tlearn: 1655.9691548\ttotal: 28.9s\tremaining: 39.3s\n",
      "419:\tlearn: 1655.7217197\ttotal: 28.9s\tremaining: 39.3s\n",
      "420:\tlearn: 1655.5200775\ttotal: 29s\tremaining: 39.2s\n",
      "421:\tlearn: 1655.3157819\ttotal: 29.1s\tremaining: 39.1s\n",
      "422:\tlearn: 1655.1951273\ttotal: 29.2s\tremaining: 39.1s\n",
      "423:\tlearn: 1655.1593692\ttotal: 29.2s\tremaining: 39s\n",
      "424:\tlearn: 1655.0665972\ttotal: 29.3s\tremaining: 38.9s\n",
      "425:\tlearn: 1655.0319104\ttotal: 29.3s\tremaining: 38.8s\n",
      "426:\tlearn: 1655.0084358\ttotal: 29.3s\tremaining: 38.7s\n",
      "427:\tlearn: 1654.5649396\ttotal: 29.4s\tremaining: 38.6s\n",
      "428:\tlearn: 1654.2841777\ttotal: 29.5s\tremaining: 38.6s\n",
      "429:\tlearn: 1654.0591966\ttotal: 29.6s\tremaining: 38.5s\n",
      "430:\tlearn: 1653.7065729\ttotal: 29.6s\tremaining: 38.5s\n",
      "431:\tlearn: 1653.5102687\ttotal: 29.7s\tremaining: 38.4s\n",
      "432:\tlearn: 1653.1706287\ttotal: 29.8s\tremaining: 38.3s\n",
      "433:\tlearn: 1652.7938613\ttotal: 29.9s\tremaining: 38.3s\n",
      "434:\tlearn: 1652.6607498\ttotal: 29.9s\tremaining: 38.2s\n",
      "435:\tlearn: 1652.4586030\ttotal: 30s\tremaining: 38.1s\n",
      "436:\tlearn: 1651.8796378\ttotal: 30.1s\tremaining: 38.1s\n",
      "437:\tlearn: 1651.5044799\ttotal: 30.1s\tremaining: 38s\n",
      "438:\tlearn: 1651.3099595\ttotal: 30.2s\tremaining: 37.9s\n",
      "439:\tlearn: 1651.1208211\ttotal: 30.3s\tremaining: 37.8s\n",
      "440:\tlearn: 1650.9042852\ttotal: 30.3s\tremaining: 37.8s\n",
      "441:\tlearn: 1650.7842286\ttotal: 30.4s\tremaining: 37.7s\n",
      "442:\tlearn: 1650.5784889\ttotal: 30.5s\tremaining: 37.6s\n",
      "443:\tlearn: 1650.3413296\ttotal: 30.6s\tremaining: 37.6s\n",
      "444:\tlearn: 1650.1379951\ttotal: 30.6s\tremaining: 37.5s\n",
      "445:\tlearn: 1649.8476940\ttotal: 30.7s\tremaining: 37.4s\n",
      "446:\tlearn: 1649.7604872\ttotal: 30.7s\tremaining: 37.3s\n",
      "447:\tlearn: 1649.6983023\ttotal: 30.8s\tremaining: 37.3s\n",
      "448:\tlearn: 1649.5336880\ttotal: 30.9s\tremaining: 37.2s\n",
      "449:\tlearn: 1649.5284548\ttotal: 30.9s\tremaining: 37.1s\n",
      "450:\tlearn: 1649.3876528\ttotal: 31s\tremaining: 37s\n",
      "451:\tlearn: 1649.2956020\ttotal: 31s\tremaining: 37s\n",
      "452:\tlearn: 1649.1237808\ttotal: 31.1s\tremaining: 36.8s\n",
      "453:\tlearn: 1649.1190783\ttotal: 31.1s\tremaining: 36.7s\n",
      "454:\tlearn: 1648.8369319\ttotal: 31.2s\tremaining: 36.6s\n",
      "455:\tlearn: 1648.5169241\ttotal: 31.2s\tremaining: 36.6s\n",
      "456:\tlearn: 1648.2387865\ttotal: 31.3s\tremaining: 36.5s\n",
      "457:\tlearn: 1648.1618338\ttotal: 31.4s\tremaining: 36.4s\n",
      "458:\tlearn: 1647.7442472\ttotal: 31.4s\tremaining: 36.3s\n",
      "459:\tlearn: 1647.6398945\ttotal: 31.5s\tremaining: 36.3s\n",
      "460:\tlearn: 1647.4400644\ttotal: 31.6s\tremaining: 36.2s\n",
      "461:\tlearn: 1647.2701780\ttotal: 31.6s\tremaining: 36.1s\n",
      "462:\tlearn: 1646.9722035\ttotal: 31.7s\tremaining: 36.1s\n",
      "463:\tlearn: 1646.7989063\ttotal: 31.8s\tremaining: 36s\n",
      "464:\tlearn: 1646.5851557\ttotal: 31.8s\tremaining: 35.9s\n",
      "465:\tlearn: 1646.4574763\ttotal: 31.9s\tremaining: 35.8s\n",
      "466:\tlearn: 1646.2769179\ttotal: 31.9s\tremaining: 35.8s\n",
      "467:\tlearn: 1646.0687190\ttotal: 32s\tremaining: 35.7s\n",
      "468:\tlearn: 1645.8149397\ttotal: 32s\tremaining: 35.6s\n",
      "469:\tlearn: 1645.6139990\ttotal: 32.1s\tremaining: 35.6s\n",
      "470:\tlearn: 1645.3688703\ttotal: 32.2s\tremaining: 35.5s\n",
      "471:\tlearn: 1645.2667752\ttotal: 32.3s\tremaining: 35.4s\n",
      "472:\tlearn: 1645.1160750\ttotal: 32.3s\tremaining: 35.4s\n",
      "473:\tlearn: 1645.0246073\ttotal: 32.4s\tremaining: 35.3s\n",
      "474:\tlearn: 1644.8868511\ttotal: 32.5s\tremaining: 35.2s\n",
      "475:\tlearn: 1644.5721879\ttotal: 32.5s\tremaining: 35.1s\n",
      "476:\tlearn: 1644.3087459\ttotal: 32.6s\tremaining: 35.1s\n",
      "477:\tlearn: 1644.0601894\ttotal: 32.7s\tremaining: 35s\n",
      "478:\tlearn: 1644.0200646\ttotal: 32.8s\tremaining: 35s\n",
      "479:\tlearn: 1644.0074160\ttotal: 32.9s\tremaining: 34.9s\n",
      "480:\tlearn: 1643.8507153\ttotal: 32.9s\tremaining: 34.8s\n",
      "481:\tlearn: 1643.7808587\ttotal: 33s\tremaining: 34.8s\n",
      "482:\tlearn: 1643.7517409\ttotal: 33s\tremaining: 34.7s\n",
      "483:\tlearn: 1643.6128825\ttotal: 33.1s\tremaining: 34.6s\n",
      "484:\tlearn: 1643.3653791\ttotal: 33.2s\tremaining: 34.6s\n",
      "485:\tlearn: 1643.2942290\ttotal: 33.2s\tremaining: 34.5s\n",
      "486:\tlearn: 1643.0281198\ttotal: 33.3s\tremaining: 34.4s\n",
      "487:\tlearn: 1642.5604520\ttotal: 33.4s\tremaining: 34.3s\n",
      "488:\tlearn: 1642.3747421\ttotal: 33.4s\tremaining: 34.3s\n",
      "489:\tlearn: 1642.2173564\ttotal: 33.5s\tremaining: 34.2s\n",
      "490:\tlearn: 1642.1849314\ttotal: 33.6s\tremaining: 34.1s\n",
      "491:\tlearn: 1641.8908051\ttotal: 33.6s\tremaining: 34s\n",
      "492:\tlearn: 1641.5262114\ttotal: 33.7s\tremaining: 34s\n",
      "493:\tlearn: 1641.4066435\ttotal: 33.8s\tremaining: 33.9s\n",
      "494:\tlearn: 1641.1586479\ttotal: 33.8s\tremaining: 33.8s\n",
      "495:\tlearn: 1640.8169383\ttotal: 33.9s\tremaining: 33.8s\n",
      "496:\tlearn: 1640.7191592\ttotal: 34s\tremaining: 33.7s\n",
      "497:\tlearn: 1640.5685094\ttotal: 34s\tremaining: 33.6s\n",
      "498:\tlearn: 1640.5656986\ttotal: 34.1s\tremaining: 33.6s\n",
      "499:\tlearn: 1640.3658516\ttotal: 34.2s\tremaining: 33.5s\n",
      "500:\tlearn: 1639.9755107\ttotal: 34.2s\tremaining: 33.4s\n",
      "501:\tlearn: 1639.7986911\ttotal: 34.3s\tremaining: 33.3s\n",
      "502:\tlearn: 1639.4736451\ttotal: 34.3s\tremaining: 33.3s\n",
      "503:\tlearn: 1639.0773083\ttotal: 34.4s\tremaining: 33.2s\n",
      "504:\tlearn: 1638.8144899\ttotal: 34.5s\tremaining: 33.1s\n",
      "505:\tlearn: 1638.7348258\ttotal: 34.6s\tremaining: 33s\n",
      "506:\tlearn: 1638.6813805\ttotal: 34.6s\tremaining: 33s\n",
      "507:\tlearn: 1638.3335583\ttotal: 34.7s\tremaining: 32.9s\n",
      "508:\tlearn: 1638.2477200\ttotal: 34.7s\tremaining: 32.8s\n",
      "509:\tlearn: 1637.9333369\ttotal: 34.8s\tremaining: 32.8s\n",
      "510:\tlearn: 1637.5936404\ttotal: 34.9s\tremaining: 32.7s\n",
      "511:\tlearn: 1637.5422991\ttotal: 34.9s\tremaining: 32.6s\n",
      "512:\tlearn: 1637.3433651\ttotal: 35s\tremaining: 32.5s\n",
      "513:\tlearn: 1637.1320579\ttotal: 35s\tremaining: 32.5s\n",
      "514:\tlearn: 1636.8451797\ttotal: 35.1s\tremaining: 32.4s\n",
      "515:\tlearn: 1636.6147097\ttotal: 35.2s\tremaining: 32.3s\n",
      "516:\tlearn: 1636.5026638\ttotal: 35.2s\tremaining: 32.2s\n",
      "517:\tlearn: 1636.4066021\ttotal: 35.3s\tremaining: 32.2s\n",
      "518:\tlearn: 1636.3905578\ttotal: 35.4s\tremaining: 32.1s\n",
      "519:\tlearn: 1636.1435470\ttotal: 35.5s\tremaining: 32.1s\n",
      "520:\tlearn: 1635.9410181\ttotal: 35.5s\tremaining: 32s\n",
      "521:\tlearn: 1635.9295077\ttotal: 35.6s\tremaining: 31.9s\n",
      "522:\tlearn: 1635.8287715\ttotal: 35.6s\tremaining: 31.8s\n",
      "523:\tlearn: 1635.6457461\ttotal: 35.7s\tremaining: 31.7s\n",
      "524:\tlearn: 1635.4724201\ttotal: 35.8s\tremaining: 31.7s\n",
      "525:\tlearn: 1635.1521260\ttotal: 35.8s\tremaining: 31.6s\n",
      "526:\tlearn: 1635.1006904\ttotal: 35.9s\tremaining: 31.5s\n",
      "527:\tlearn: 1634.9317616\ttotal: 35.9s\tremaining: 31.4s\n",
      "528:\tlearn: 1634.9028818\ttotal: 36s\tremaining: 31.4s\n",
      "529:\tlearn: 1634.5074539\ttotal: 36.1s\tremaining: 31.3s\n",
      "530:\tlearn: 1634.2524422\ttotal: 36.1s\tremaining: 31.2s\n",
      "531:\tlearn: 1634.1724117\ttotal: 36.2s\tremaining: 31.2s\n",
      "532:\tlearn: 1634.0225976\ttotal: 36.3s\tremaining: 31.1s\n",
      "533:\tlearn: 1633.7482465\ttotal: 36.3s\tremaining: 31s\n",
      "534:\tlearn: 1633.5600014\ttotal: 36.4s\tremaining: 30.9s\n",
      "535:\tlearn: 1633.4196395\ttotal: 36.4s\tremaining: 30.9s\n",
      "536:\tlearn: 1633.3372459\ttotal: 36.5s\tremaining: 30.8s\n",
      "537:\tlearn: 1633.0832399\ttotal: 36.5s\tremaining: 30.7s\n",
      "538:\tlearn: 1632.7478700\ttotal: 36.6s\tremaining: 30.6s\n",
      "539:\tlearn: 1632.4867099\ttotal: 36.7s\tremaining: 30.6s\n",
      "540:\tlearn: 1632.3358125\ttotal: 36.7s\tremaining: 30.5s\n",
      "541:\tlearn: 1632.2020023\ttotal: 36.8s\tremaining: 30.4s\n",
      "542:\tlearn: 1632.1358188\ttotal: 36.9s\tremaining: 30.3s\n",
      "543:\tlearn: 1631.9058361\ttotal: 36.9s\tremaining: 30.3s\n",
      "544:\tlearn: 1631.6379906\ttotal: 37s\tremaining: 30.2s\n",
      "545:\tlearn: 1631.4732977\ttotal: 37.1s\tremaining: 30.1s\n",
      "546:\tlearn: 1631.2287247\ttotal: 37.1s\tremaining: 30.1s\n",
      "547:\tlearn: 1631.0506217\ttotal: 37.2s\tremaining: 30s\n",
      "548:\tlearn: 1630.8811702\ttotal: 37.2s\tremaining: 29.9s\n",
      "549:\tlearn: 1630.8062772\ttotal: 37.3s\tremaining: 29.8s\n",
      "550:\tlearn: 1630.6636630\ttotal: 37.4s\tremaining: 29.8s\n",
      "551:\tlearn: 1630.5091351\ttotal: 37.4s\tremaining: 29.7s\n",
      "552:\tlearn: 1630.2911473\ttotal: 37.5s\tremaining: 29.6s\n",
      "553:\tlearn: 1629.9695907\ttotal: 37.6s\tremaining: 29.6s\n",
      "554:\tlearn: 1629.7322097\ttotal: 37.7s\tremaining: 29.5s\n",
      "555:\tlearn: 1629.4573419\ttotal: 37.7s\tremaining: 29.5s\n",
      "556:\tlearn: 1629.1469197\ttotal: 37.8s\tremaining: 29.4s\n",
      "557:\tlearn: 1628.9530204\ttotal: 37.9s\tremaining: 29.3s\n",
      "558:\tlearn: 1628.7474825\ttotal: 37.9s\tremaining: 29.3s\n",
      "559:\tlearn: 1628.4957689\ttotal: 38s\tremaining: 29.2s\n",
      "560:\tlearn: 1628.3582762\ttotal: 38.1s\tremaining: 29.1s\n",
      "561:\tlearn: 1628.2551923\ttotal: 38.2s\tremaining: 29.1s\n",
      "562:\tlearn: 1628.0627080\ttotal: 38.3s\tremaining: 29s\n",
      "563:\tlearn: 1628.0109540\ttotal: 38.3s\tremaining: 28.9s\n",
      "564:\tlearn: 1627.9089907\ttotal: 38.4s\tremaining: 28.9s\n",
      "565:\tlearn: 1627.5997246\ttotal: 38.5s\tremaining: 28.8s\n",
      "566:\tlearn: 1627.4871908\ttotal: 38.6s\tremaining: 28.8s\n",
      "567:\tlearn: 1627.4605617\ttotal: 38.6s\tremaining: 28.7s\n",
      "568:\tlearn: 1627.1060637\ttotal: 38.7s\tremaining: 28.6s\n",
      "569:\tlearn: 1626.9985505\ttotal: 38.8s\tremaining: 28.6s\n",
      "570:\tlearn: 1626.7934376\ttotal: 38.9s\tremaining: 28.5s\n",
      "571:\tlearn: 1626.6820630\ttotal: 38.9s\tremaining: 28.4s\n",
      "572:\tlearn: 1626.6219803\ttotal: 39s\tremaining: 28.4s\n",
      "573:\tlearn: 1626.3592489\ttotal: 39s\tremaining: 28.3s\n",
      "574:\tlearn: 1626.2659613\ttotal: 39.1s\tremaining: 28.2s\n",
      "575:\tlearn: 1626.1128937\ttotal: 39.1s\tremaining: 28.1s\n",
      "576:\tlearn: 1626.0433958\ttotal: 39.2s\tremaining: 28.1s\n",
      "577:\tlearn: 1625.8577615\ttotal: 39.3s\tremaining: 28s\n",
      "578:\tlearn: 1625.5819238\ttotal: 39.3s\tremaining: 27.9s\n",
      "579:\tlearn: 1625.2465928\ttotal: 39.4s\tremaining: 27.8s\n",
      "580:\tlearn: 1625.0161262\ttotal: 39.4s\tremaining: 27.8s\n",
      "581:\tlearn: 1624.8872783\ttotal: 39.5s\tremaining: 27.7s\n",
      "582:\tlearn: 1624.8801029\ttotal: 39.5s\tremaining: 27.6s\n",
      "583:\tlearn: 1624.7460216\ttotal: 39.6s\tremaining: 27.5s\n",
      "584:\tlearn: 1624.5836010\ttotal: 39.7s\tremaining: 27.5s\n",
      "585:\tlearn: 1624.2670853\ttotal: 39.8s\tremaining: 27.4s\n",
      "586:\tlearn: 1624.0609848\ttotal: 39.8s\tremaining: 27.3s\n",
      "587:\tlearn: 1624.0217647\ttotal: 39.9s\tremaining: 27.3s\n",
      "588:\tlearn: 1623.8991412\ttotal: 39.9s\tremaining: 27.2s\n",
      "589:\tlearn: 1623.6566508\ttotal: 40s\tremaining: 27.1s\n",
      "590:\tlearn: 1623.5611784\ttotal: 40.1s\tremaining: 27s\n",
      "591:\tlearn: 1623.1805026\ttotal: 40.1s\tremaining: 27s\n",
      "592:\tlearn: 1623.0174735\ttotal: 40.2s\tremaining: 26.9s\n",
      "593:\tlearn: 1622.7602950\ttotal: 40.2s\tremaining: 26.8s\n",
      "594:\tlearn: 1622.6899453\ttotal: 40.3s\tremaining: 26.7s\n",
      "595:\tlearn: 1622.5236917\ttotal: 40.4s\tremaining: 26.7s\n",
      "596:\tlearn: 1622.4374320\ttotal: 40.4s\tremaining: 26.6s\n",
      "597:\tlearn: 1622.3542604\ttotal: 40.5s\tremaining: 26.5s\n",
      "598:\tlearn: 1622.2775633\ttotal: 40.6s\tremaining: 26.5s\n",
      "599:\tlearn: 1622.0030779\ttotal: 40.6s\tremaining: 26.4s\n",
      "600:\tlearn: 1621.8554557\ttotal: 40.7s\tremaining: 26.4s\n",
      "601:\tlearn: 1621.7335607\ttotal: 40.8s\tremaining: 26.3s\n",
      "602:\tlearn: 1621.6034579\ttotal: 40.9s\tremaining: 26.2s\n",
      "603:\tlearn: 1621.5191756\ttotal: 40.9s\tremaining: 26.2s\n",
      "604:\tlearn: 1621.2329958\ttotal: 41s\tremaining: 26.1s\n",
      "605:\tlearn: 1621.1513804\ttotal: 41.1s\tremaining: 26s\n",
      "606:\tlearn: 1621.0591913\ttotal: 41.1s\tremaining: 26s\n",
      "607:\tlearn: 1620.6782640\ttotal: 41.2s\tremaining: 25.9s\n",
      "608:\tlearn: 1620.5926875\ttotal: 41.3s\tremaining: 25.8s\n",
      "609:\tlearn: 1620.5233910\ttotal: 41.3s\tremaining: 25.8s\n",
      "610:\tlearn: 1620.4334199\ttotal: 41.4s\tremaining: 25.7s\n",
      "611:\tlearn: 1620.1893068\ttotal: 41.5s\tremaining: 25.6s\n",
      "612:\tlearn: 1620.0277381\ttotal: 41.5s\tremaining: 25.5s\n",
      "613:\tlearn: 1619.9214101\ttotal: 41.6s\tremaining: 25.5s\n",
      "614:\tlearn: 1619.7596883\ttotal: 41.7s\tremaining: 25.4s\n",
      "615:\tlearn: 1619.6808733\ttotal: 41.7s\tremaining: 25.3s\n",
      "616:\tlearn: 1619.5257203\ttotal: 41.8s\tremaining: 25.3s\n",
      "617:\tlearn: 1619.3147613\ttotal: 41.9s\tremaining: 25.2s\n",
      "618:\tlearn: 1619.2587439\ttotal: 41.9s\tremaining: 25.1s\n",
      "619:\tlearn: 1619.1061319\ttotal: 42s\tremaining: 25.1s\n",
      "620:\tlearn: 1618.9757849\ttotal: 42.1s\tremaining: 25s\n",
      "621:\tlearn: 1618.9016372\ttotal: 42.1s\tremaining: 24.9s\n",
      "622:\tlearn: 1618.8813600\ttotal: 42.2s\tremaining: 24.9s\n",
      "623:\tlearn: 1618.6583629\ttotal: 42.3s\tremaining: 24.8s\n",
      "624:\tlearn: 1618.6544917\ttotal: 42.3s\tremaining: 24.7s\n",
      "625:\tlearn: 1618.5291510\ttotal: 42.4s\tremaining: 24.7s\n",
      "626:\tlearn: 1618.4176551\ttotal: 42.5s\tremaining: 24.6s\n",
      "627:\tlearn: 1618.3292073\ttotal: 42.5s\tremaining: 24.5s\n",
      "628:\tlearn: 1618.0161057\ttotal: 42.6s\tremaining: 24.4s\n",
      "629:\tlearn: 1617.7016671\ttotal: 42.7s\tremaining: 24.4s\n",
      "630:\tlearn: 1617.6356802\ttotal: 42.7s\tremaining: 24.3s\n",
      "631:\tlearn: 1617.3175880\ttotal: 42.8s\tremaining: 24.2s\n",
      "632:\tlearn: 1617.2885874\ttotal: 42.9s\tremaining: 24.2s\n",
      "633:\tlearn: 1617.1446889\ttotal: 42.9s\tremaining: 24.1s\n",
      "634:\tlearn: 1617.1342591\ttotal: 43s\tremaining: 24s\n",
      "635:\tlearn: 1617.1150524\ttotal: 43s\tremaining: 24s\n",
      "636:\tlearn: 1616.8413034\ttotal: 43.1s\tremaining: 23.9s\n",
      "637:\tlearn: 1616.3931183\ttotal: 43.2s\tremaining: 23.8s\n",
      "638:\tlearn: 1616.3814018\ttotal: 43.2s\tremaining: 23.8s\n",
      "639:\tlearn: 1615.9931243\ttotal: 43.3s\tremaining: 23.7s\n",
      "640:\tlearn: 1615.8752955\ttotal: 43.4s\tremaining: 23.6s\n",
      "641:\tlearn: 1615.5322275\ttotal: 43.5s\tremaining: 23.6s\n",
      "642:\tlearn: 1615.3293517\ttotal: 43.5s\tremaining: 23.5s\n",
      "643:\tlearn: 1615.2883712\ttotal: 43.6s\tremaining: 23.4s\n",
      "644:\tlearn: 1615.2823549\ttotal: 43.7s\tremaining: 23.4s\n",
      "645:\tlearn: 1615.0530996\ttotal: 43.8s\tremaining: 23.3s\n",
      "646:\tlearn: 1614.7693503\ttotal: 43.8s\tremaining: 23.2s\n",
      "647:\tlearn: 1614.6135649\ttotal: 43.9s\tremaining: 23.2s\n",
      "648:\tlearn: 1614.3728789\ttotal: 44s\tremaining: 23.1s\n",
      "649:\tlearn: 1614.2747226\ttotal: 44s\tremaining: 23s\n",
      "650:\tlearn: 1614.1319890\ttotal: 44.1s\tremaining: 23s\n",
      "651:\tlearn: 1614.0726442\ttotal: 44.2s\tremaining: 22.9s\n",
      "652:\tlearn: 1613.8912385\ttotal: 44.3s\tremaining: 22.8s\n",
      "653:\tlearn: 1613.6883139\ttotal: 44.3s\tremaining: 22.8s\n",
      "654:\tlearn: 1613.4192837\ttotal: 44.4s\tremaining: 22.7s\n",
      "655:\tlearn: 1613.1247798\ttotal: 44.5s\tremaining: 22.6s\n",
      "656:\tlearn: 1613.1166216\ttotal: 44.5s\tremaining: 22.6s\n",
      "657:\tlearn: 1612.9814273\ttotal: 44.6s\tremaining: 22.5s\n",
      "658:\tlearn: 1612.9661294\ttotal: 44.7s\tremaining: 22.4s\n",
      "659:\tlearn: 1612.7995907\ttotal: 44.7s\tremaining: 22.4s\n",
      "660:\tlearn: 1612.7224415\ttotal: 44.8s\tremaining: 22.3s\n",
      "661:\tlearn: 1612.7058155\ttotal: 44.9s\tremaining: 22.2s\n",
      "662:\tlearn: 1612.5814043\ttotal: 44.9s\tremaining: 22.2s\n",
      "663:\tlearn: 1612.3306136\ttotal: 45s\tremaining: 22.1s\n",
      "664:\tlearn: 1611.9105167\ttotal: 45.1s\tremaining: 22s\n",
      "665:\tlearn: 1611.7575971\ttotal: 45.1s\tremaining: 22s\n",
      "666:\tlearn: 1611.3783073\ttotal: 45.2s\tremaining: 21.9s\n",
      "667:\tlearn: 1611.2847427\ttotal: 45.3s\tremaining: 21.8s\n",
      "668:\tlearn: 1611.2571451\ttotal: 45.4s\tremaining: 21.8s\n",
      "669:\tlearn: 1611.2480680\ttotal: 45.4s\tremaining: 21.7s\n",
      "670:\tlearn: 1611.2153925\ttotal: 45.5s\tremaining: 21.6s\n",
      "671:\tlearn: 1610.9934055\ttotal: 45.6s\tremaining: 21.6s\n",
      "672:\tlearn: 1610.6342831\ttotal: 45.6s\tremaining: 21.5s\n",
      "673:\tlearn: 1610.5150956\ttotal: 45.7s\tremaining: 21.4s\n",
      "674:\tlearn: 1610.3967096\ttotal: 45.8s\tremaining: 21.4s\n",
      "675:\tlearn: 1610.3137731\ttotal: 45.8s\tremaining: 21.3s\n",
      "676:\tlearn: 1610.1233013\ttotal: 45.9s\tremaining: 21.2s\n",
      "677:\tlearn: 1609.9864707\ttotal: 46s\tremaining: 21.2s\n",
      "678:\tlearn: 1609.7145262\ttotal: 46.1s\tremaining: 21.1s\n",
      "679:\tlearn: 1609.6037298\ttotal: 46.1s\tremaining: 21s\n",
      "680:\tlearn: 1609.4844839\ttotal: 46.2s\tremaining: 21s\n",
      "681:\tlearn: 1609.4586471\ttotal: 46.3s\tremaining: 20.9s\n",
      "682:\tlearn: 1609.2445808\ttotal: 46.4s\tremaining: 20.8s\n",
      "683:\tlearn: 1609.0818171\ttotal: 46.4s\tremaining: 20.8s\n",
      "684:\tlearn: 1608.9393663\ttotal: 46.5s\tremaining: 20.7s\n",
      "685:\tlearn: 1608.7994472\ttotal: 46.5s\tremaining: 20.6s\n",
      "686:\tlearn: 1608.7446365\ttotal: 46.6s\tremaining: 20.6s\n",
      "687:\tlearn: 1608.7009608\ttotal: 46.7s\tremaining: 20.5s\n",
      "688:\tlearn: 1608.5512560\ttotal: 46.7s\tremaining: 20.4s\n",
      "689:\tlearn: 1608.3875962\ttotal: 46.8s\tremaining: 20.3s\n",
      "690:\tlearn: 1608.3175005\ttotal: 46.8s\tremaining: 20.3s\n",
      "691:\tlearn: 1608.1762423\ttotal: 46.9s\tremaining: 20.2s\n",
      "692:\tlearn: 1608.0645513\ttotal: 47s\tremaining: 20.1s\n",
      "693:\tlearn: 1607.9329810\ttotal: 47s\tremaining: 20.1s\n",
      "694:\tlearn: 1607.7741949\ttotal: 47.1s\tremaining: 20s\n",
      "695:\tlearn: 1607.6501894\ttotal: 47.2s\tremaining: 19.9s\n",
      "696:\tlearn: 1607.4340982\ttotal: 47.2s\tremaining: 19.9s\n",
      "697:\tlearn: 1607.3688021\ttotal: 47.3s\tremaining: 19.8s\n",
      "698:\tlearn: 1607.3163417\ttotal: 47.4s\tremaining: 19.7s\n",
      "699:\tlearn: 1607.2175189\ttotal: 47.5s\tremaining: 19.7s\n",
      "700:\tlearn: 1607.1060131\ttotal: 47.5s\tremaining: 19.6s\n",
      "701:\tlearn: 1606.9766022\ttotal: 47.6s\tremaining: 19.5s\n",
      "702:\tlearn: 1606.8462716\ttotal: 47.7s\tremaining: 19.5s\n",
      "703:\tlearn: 1606.6422892\ttotal: 47.7s\tremaining: 19.4s\n",
      "704:\tlearn: 1606.5971053\ttotal: 47.8s\tremaining: 19.3s\n",
      "705:\tlearn: 1606.4879839\ttotal: 47.8s\tremaining: 19.2s\n",
      "706:\tlearn: 1606.4372652\ttotal: 47.9s\tremaining: 19.2s\n",
      "707:\tlearn: 1606.2007737\ttotal: 48s\tremaining: 19.1s\n",
      "708:\tlearn: 1606.1363213\ttotal: 48s\tremaining: 19s\n",
      "709:\tlearn: 1606.0174077\ttotal: 48.1s\tremaining: 19s\n",
      "710:\tlearn: 1605.8721812\ttotal: 48.2s\tremaining: 18.9s\n",
      "711:\tlearn: 1605.7528630\ttotal: 48.2s\tremaining: 18.8s\n",
      "712:\tlearn: 1605.7261064\ttotal: 48.3s\tremaining: 18.8s\n",
      "713:\tlearn: 1605.5766543\ttotal: 48.3s\tremaining: 18.7s\n",
      "714:\tlearn: 1605.5580142\ttotal: 48.4s\tremaining: 18.6s\n",
      "715:\tlearn: 1605.5012438\ttotal: 48.5s\tremaining: 18.5s\n",
      "716:\tlearn: 1605.3980620\ttotal: 48.5s\tremaining: 18.5s\n",
      "717:\tlearn: 1605.2332966\ttotal: 48.6s\tremaining: 18.4s\n",
      "718:\tlearn: 1604.8678589\ttotal: 48.7s\tremaining: 18.3s\n",
      "719:\tlearn: 1604.7619389\ttotal: 48.7s\tremaining: 18.3s\n",
      "720:\tlearn: 1604.6214303\ttotal: 48.8s\tremaining: 18.2s\n",
      "721:\tlearn: 1604.5401799\ttotal: 48.8s\tremaining: 18.1s\n",
      "722:\tlearn: 1604.4395133\ttotal: 48.9s\tremaining: 18.1s\n",
      "723:\tlearn: 1604.1542257\ttotal: 49s\tremaining: 18s\n",
      "724:\tlearn: 1603.8265709\ttotal: 49s\tremaining: 17.9s\n",
      "725:\tlearn: 1603.6200609\ttotal: 49.1s\tremaining: 17.9s\n",
      "726:\tlearn: 1603.4278170\ttotal: 49.2s\tremaining: 17.8s\n",
      "727:\tlearn: 1603.2806446\ttotal: 49.3s\tremaining: 17.7s\n",
      "728:\tlearn: 1602.9762488\ttotal: 49.3s\tremaining: 17.7s\n",
      "729:\tlearn: 1602.8696882\ttotal: 49.4s\tremaining: 17.6s\n",
      "730:\tlearn: 1602.7833269\ttotal: 49.5s\tremaining: 17.5s\n",
      "731:\tlearn: 1602.5154560\ttotal: 49.5s\tremaining: 17.5s\n",
      "732:\tlearn: 1602.3437531\ttotal: 49.6s\tremaining: 17.4s\n",
      "733:\tlearn: 1602.1137957\ttotal: 49.6s\tremaining: 17.3s\n",
      "734:\tlearn: 1602.0200504\ttotal: 49.7s\tremaining: 17.3s\n",
      "735:\tlearn: 1601.7211057\ttotal: 49.8s\tremaining: 17.2s\n",
      "736:\tlearn: 1601.4874890\ttotal: 49.9s\tremaining: 17.1s\n",
      "737:\tlearn: 1601.3488373\ttotal: 50s\tremaining: 17.1s\n",
      "738:\tlearn: 1601.3117589\ttotal: 50s\tremaining: 17s\n",
      "739:\tlearn: 1601.0907304\ttotal: 50.1s\tremaining: 16.9s\n",
      "740:\tlearn: 1601.0330342\ttotal: 50.1s\tremaining: 16.9s\n",
      "741:\tlearn: 1600.8857972\ttotal: 50.2s\tremaining: 16.8s\n",
      "742:\tlearn: 1600.6670660\ttotal: 50.3s\tremaining: 16.7s\n",
      "743:\tlearn: 1600.3854333\ttotal: 50.4s\tremaining: 16.7s\n",
      "744:\tlearn: 1600.3276345\ttotal: 50.5s\tremaining: 16.6s\n",
      "745:\tlearn: 1600.2213105\ttotal: 50.5s\tremaining: 16.5s\n",
      "746:\tlearn: 1600.1005122\ttotal: 50.6s\tremaining: 16.5s\n",
      "747:\tlearn: 1600.0231365\ttotal: 50.7s\tremaining: 16.4s\n",
      "748:\tlearn: 1599.9118601\ttotal: 50.8s\tremaining: 16.3s\n",
      "749:\tlearn: 1599.7427688\ttotal: 50.8s\tremaining: 16.3s\n",
      "750:\tlearn: 1599.5646097\ttotal: 50.9s\tremaining: 16.2s\n",
      "751:\tlearn: 1599.2646446\ttotal: 50.9s\tremaining: 16.1s\n",
      "752:\tlearn: 1599.0641453\ttotal: 51s\tremaining: 16.1s\n",
      "753:\tlearn: 1598.9068542\ttotal: 51.1s\tremaining: 16s\n",
      "754:\tlearn: 1598.8538732\ttotal: 51.1s\tremaining: 15.9s\n",
      "755:\tlearn: 1598.6315309\ttotal: 51.2s\tremaining: 15.9s\n",
      "756:\tlearn: 1598.5659675\ttotal: 51.3s\tremaining: 15.8s\n",
      "757:\tlearn: 1598.4994493\ttotal: 51.4s\tremaining: 15.7s\n",
      "758:\tlearn: 1598.2940378\ttotal: 51.5s\tremaining: 15.7s\n",
      "759:\tlearn: 1598.2112205\ttotal: 51.5s\tremaining: 15.6s\n",
      "760:\tlearn: 1598.1387876\ttotal: 51.6s\tremaining: 15.5s\n",
      "761:\tlearn: 1597.9439539\ttotal: 51.7s\tremaining: 15.5s\n",
      "762:\tlearn: 1597.7465137\ttotal: 51.8s\tremaining: 15.4s\n",
      "763:\tlearn: 1597.6333465\ttotal: 51.9s\tremaining: 15.3s\n",
      "764:\tlearn: 1597.3803008\ttotal: 51.9s\tremaining: 15.3s\n",
      "765:\tlearn: 1597.1704295\ttotal: 52s\tremaining: 15.2s\n",
      "766:\tlearn: 1596.9721523\ttotal: 52.1s\tremaining: 15.1s\n",
      "767:\tlearn: 1596.9308543\ttotal: 52.2s\tremaining: 15.1s\n",
      "768:\tlearn: 1596.8541280\ttotal: 52.2s\tremaining: 15s\n",
      "769:\tlearn: 1596.6680459\ttotal: 52.3s\tremaining: 14.9s\n",
      "770:\tlearn: 1596.5165670\ttotal: 52.3s\tremaining: 14.9s\n",
      "771:\tlearn: 1596.3849798\ttotal: 52.4s\tremaining: 14.8s\n",
      "772:\tlearn: 1596.3459433\ttotal: 52.5s\tremaining: 14.7s\n",
      "773:\tlearn: 1596.1637250\ttotal: 52.5s\tremaining: 14.7s\n",
      "774:\tlearn: 1596.0021437\ttotal: 52.6s\tremaining: 14.6s\n",
      "775:\tlearn: 1595.9223215\ttotal: 52.7s\tremaining: 14.5s\n",
      "776:\tlearn: 1595.8171341\ttotal: 52.8s\tremaining: 14.5s\n",
      "777:\tlearn: 1595.6658311\ttotal: 52.8s\tremaining: 14.4s\n",
      "778:\tlearn: 1595.6219043\ttotal: 52.9s\tremaining: 14.3s\n",
      "779:\tlearn: 1595.3926373\ttotal: 52.9s\tremaining: 14.3s\n",
      "780:\tlearn: 1595.2135556\ttotal: 53s\tremaining: 14.2s\n",
      "781:\tlearn: 1595.1145510\ttotal: 53s\tremaining: 14.1s\n",
      "782:\tlearn: 1594.9510921\ttotal: 53.1s\tremaining: 14s\n",
      "783:\tlearn: 1594.8144208\ttotal: 53.2s\tremaining: 14s\n",
      "784:\tlearn: 1594.7481322\ttotal: 53.2s\tremaining: 13.9s\n",
      "785:\tlearn: 1594.4689088\ttotal: 53.3s\tremaining: 13.8s\n",
      "786:\tlearn: 1594.1505054\ttotal: 53.4s\tremaining: 13.8s\n",
      "787:\tlearn: 1593.9536695\ttotal: 53.4s\tremaining: 13.7s\n",
      "788:\tlearn: 1593.7858424\ttotal: 53.5s\tremaining: 13.6s\n",
      "789:\tlearn: 1593.6459610\ttotal: 53.5s\tremaining: 13.6s\n",
      "790:\tlearn: 1593.5253868\ttotal: 53.6s\tremaining: 13.5s\n",
      "791:\tlearn: 1593.4300513\ttotal: 53.7s\tremaining: 13.4s\n",
      "792:\tlearn: 1593.3439999\ttotal: 53.7s\tremaining: 13.3s\n",
      "793:\tlearn: 1593.2703536\ttotal: 53.8s\tremaining: 13.3s\n",
      "794:\tlearn: 1592.9721483\ttotal: 53.9s\tremaining: 13.2s\n",
      "795:\tlearn: 1592.8432392\ttotal: 54s\tremaining: 13.2s\n",
      "796:\tlearn: 1592.5595845\ttotal: 54s\tremaining: 13.1s\n",
      "797:\tlearn: 1592.2141915\ttotal: 54.1s\tremaining: 13s\n",
      "798:\tlearn: 1592.1661532\ttotal: 54.2s\tremaining: 13s\n",
      "799:\tlearn: 1592.0697098\ttotal: 54.3s\tremaining: 12.9s\n",
      "800:\tlearn: 1591.8398554\ttotal: 54.4s\tremaining: 12.8s\n",
      "801:\tlearn: 1591.6445347\ttotal: 54.4s\tremaining: 12.8s\n",
      "802:\tlearn: 1591.4874652\ttotal: 54.5s\tremaining: 12.7s\n",
      "803:\tlearn: 1591.3334136\ttotal: 54.6s\tremaining: 12.6s\n",
      "804:\tlearn: 1591.2722031\ttotal: 54.6s\tremaining: 12.6s\n",
      "805:\tlearn: 1590.9922602\ttotal: 54.7s\tremaining: 12.5s\n",
      "806:\tlearn: 1590.8207606\ttotal: 54.8s\tremaining: 12.4s\n",
      "807:\tlearn: 1590.7010502\ttotal: 54.9s\tremaining: 12.4s\n",
      "808:\tlearn: 1590.3066593\ttotal: 54.9s\tremaining: 12.3s\n",
      "809:\tlearn: 1590.2785531\ttotal: 55s\tremaining: 12.2s\n",
      "810:\tlearn: 1590.0832756\ttotal: 55.1s\tremaining: 12.2s\n",
      "811:\tlearn: 1590.0641714\ttotal: 55.2s\tremaining: 12.1s\n",
      "812:\tlearn: 1589.9682593\ttotal: 55.3s\tremaining: 12s\n",
      "813:\tlearn: 1589.9173741\ttotal: 55.3s\tremaining: 12s\n",
      "814:\tlearn: 1589.5474306\ttotal: 55.4s\tremaining: 11.9s\n",
      "815:\tlearn: 1589.3647770\ttotal: 55.4s\tremaining: 11.8s\n",
      "816:\tlearn: 1589.2698582\ttotal: 55.5s\tremaining: 11.8s\n",
      "817:\tlearn: 1589.1696472\ttotal: 55.6s\tremaining: 11.7s\n",
      "818:\tlearn: 1589.1419601\ttotal: 55.6s\tremaining: 11.6s\n",
      "819:\tlearn: 1589.0226118\ttotal: 55.7s\tremaining: 11.5s\n",
      "820:\tlearn: 1588.8604499\ttotal: 55.8s\tremaining: 11.5s\n",
      "821:\tlearn: 1588.7563684\ttotal: 55.8s\tremaining: 11.4s\n",
      "822:\tlearn: 1588.5616923\ttotal: 55.9s\tremaining: 11.3s\n",
      "823:\tlearn: 1588.4721298\ttotal: 55.9s\tremaining: 11.3s\n",
      "824:\tlearn: 1588.4388739\ttotal: 56s\tremaining: 11.2s\n",
      "825:\tlearn: 1588.2823167\ttotal: 56.1s\tremaining: 11.1s\n",
      "826:\tlearn: 1588.1082246\ttotal: 56.1s\tremaining: 11.1s\n",
      "827:\tlearn: 1587.9386019\ttotal: 56.2s\tremaining: 11s\n",
      "828:\tlearn: 1587.7306648\ttotal: 56.3s\tremaining: 10.9s\n",
      "829:\tlearn: 1587.5520459\ttotal: 56.3s\tremaining: 10.9s\n",
      "830:\tlearn: 1587.4759276\ttotal: 56.4s\tremaining: 10.8s\n",
      "831:\tlearn: 1587.3932661\ttotal: 56.5s\tremaining: 10.7s\n",
      "832:\tlearn: 1587.1765953\ttotal: 56.6s\tremaining: 10.7s\n",
      "833:\tlearn: 1587.0493761\ttotal: 56.6s\tremaining: 10.6s\n",
      "834:\tlearn: 1586.9519569\ttotal: 56.7s\tremaining: 10.5s\n",
      "835:\tlearn: 1586.7793485\ttotal: 56.8s\tremaining: 10.5s\n",
      "836:\tlearn: 1586.6901015\ttotal: 56.9s\tremaining: 10.4s\n",
      "837:\tlearn: 1586.4690705\ttotal: 57s\tremaining: 10.3s\n",
      "838:\tlearn: 1586.1679668\ttotal: 57s\tremaining: 10.3s\n",
      "839:\tlearn: 1585.9273271\ttotal: 57.1s\tremaining: 10.2s\n",
      "840:\tlearn: 1585.8679720\ttotal: 57.2s\tremaining: 10.1s\n",
      "841:\tlearn: 1585.8414605\ttotal: 57.3s\tremaining: 10.1s\n",
      "842:\tlearn: 1585.6239282\ttotal: 57.3s\tremaining: 10s\n",
      "843:\tlearn: 1585.5058453\ttotal: 57.4s\tremaining: 9.93s\n",
      "844:\tlearn: 1585.3965907\ttotal: 57.5s\tremaining: 9.86s\n",
      "845:\tlearn: 1585.3074310\ttotal: 57.6s\tremaining: 9.8s\n",
      "846:\tlearn: 1585.0994064\ttotal: 57.6s\tremaining: 9.73s\n",
      "847:\tlearn: 1585.0665753\ttotal: 57.7s\tremaining: 9.66s\n",
      "848:\tlearn: 1584.9374301\ttotal: 57.8s\tremaining: 9.59s\n",
      "849:\tlearn: 1584.7952899\ttotal: 57.8s\tremaining: 9.53s\n",
      "850:\tlearn: 1584.7632171\ttotal: 57.9s\tremaining: 9.46s\n",
      "851:\tlearn: 1584.4705577\ttotal: 58s\tremaining: 9.39s\n",
      "852:\tlearn: 1584.3390260\ttotal: 58s\tremaining: 9.32s\n",
      "853:\tlearn: 1584.2311062\ttotal: 58.1s\tremaining: 9.25s\n",
      "854:\tlearn: 1584.1473230\ttotal: 58.2s\tremaining: 9.19s\n",
      "855:\tlearn: 1583.9629671\ttotal: 58.2s\tremaining: 9.12s\n",
      "856:\tlearn: 1583.8178336\ttotal: 58.3s\tremaining: 9.05s\n",
      "857:\tlearn: 1583.6061700\ttotal: 58.4s\tremaining: 8.98s\n",
      "858:\tlearn: 1583.4459076\ttotal: 58.5s\tremaining: 8.91s\n",
      "859:\tlearn: 1583.3399243\ttotal: 58.5s\tremaining: 8.85s\n",
      "860:\tlearn: 1583.0649546\ttotal: 58.6s\tremaining: 8.78s\n",
      "861:\tlearn: 1583.0125725\ttotal: 58.7s\tremaining: 8.71s\n",
      "862:\tlearn: 1582.7732814\ttotal: 58.7s\tremaining: 8.64s\n",
      "863:\tlearn: 1582.6649454\ttotal: 58.8s\tremaining: 8.58s\n",
      "864:\tlearn: 1582.5246260\ttotal: 58.9s\tremaining: 8.51s\n",
      "865:\tlearn: 1582.3822561\ttotal: 58.9s\tremaining: 8.44s\n",
      "866:\tlearn: 1582.3158758\ttotal: 59s\tremaining: 8.37s\n",
      "867:\tlearn: 1582.1149759\ttotal: 59.1s\tremaining: 8.3s\n",
      "868:\tlearn: 1581.9901978\ttotal: 59.1s\tremaining: 8.23s\n",
      "869:\tlearn: 1581.9163473\ttotal: 59.2s\tremaining: 8.16s\n",
      "870:\tlearn: 1581.7027623\ttotal: 59.3s\tremaining: 8.1s\n",
      "871:\tlearn: 1581.6515405\ttotal: 59.4s\tremaining: 8.03s\n",
      "872:\tlearn: 1581.5229857\ttotal: 59.4s\tremaining: 7.96s\n",
      "873:\tlearn: 1581.2669244\ttotal: 59.5s\tremaining: 7.9s\n",
      "874:\tlearn: 1581.0965391\ttotal: 59.6s\tremaining: 7.83s\n",
      "875:\tlearn: 1580.8890609\ttotal: 59.6s\tremaining: 7.76s\n",
      "876:\tlearn: 1580.6663025\ttotal: 59.7s\tremaining: 7.69s\n",
      "877:\tlearn: 1580.4504311\ttotal: 59.8s\tremaining: 7.63s\n",
      "878:\tlearn: 1580.3301971\ttotal: 59.9s\tremaining: 7.56s\n",
      "879:\tlearn: 1580.1251243\ttotal: 59.9s\tremaining: 7.49s\n",
      "880:\tlearn: 1580.0089951\ttotal: 60s\tremaining: 7.42s\n",
      "881:\tlearn: 1579.7457232\ttotal: 1m\tremaining: 7.35s\n",
      "882:\tlearn: 1579.6761407\ttotal: 1m\tremaining: 7.28s\n",
      "883:\tlearn: 1579.5711353\ttotal: 1m\tremaining: 7.22s\n",
      "884:\tlearn: 1579.5016701\ttotal: 1m\tremaining: 7.15s\n",
      "885:\tlearn: 1579.2812126\ttotal: 1m\tremaining: 7.08s\n",
      "886:\tlearn: 1579.2068279\ttotal: 1m\tremaining: 7.01s\n",
      "887:\tlearn: 1579.0065228\ttotal: 1m\tremaining: 6.94s\n",
      "888:\tlearn: 1578.7494994\ttotal: 1m\tremaining: 6.87s\n",
      "889:\tlearn: 1578.5995626\ttotal: 1m\tremaining: 6.81s\n",
      "890:\tlearn: 1578.4293720\ttotal: 1m\tremaining: 6.74s\n",
      "891:\tlearn: 1578.1768272\ttotal: 1m\tremaining: 6.67s\n",
      "892:\tlearn: 1577.7882816\ttotal: 1m\tremaining: 6.6s\n",
      "893:\tlearn: 1577.5949202\ttotal: 1m\tremaining: 6.54s\n",
      "894:\tlearn: 1577.5335206\ttotal: 1m\tremaining: 6.47s\n",
      "895:\tlearn: 1577.3755902\ttotal: 1m 1s\tremaining: 6.4s\n",
      "896:\tlearn: 1577.2091800\ttotal: 1m 1s\tremaining: 6.33s\n",
      "897:\tlearn: 1577.1070969\ttotal: 1m 1s\tremaining: 6.26s\n",
      "898:\tlearn: 1576.8999074\ttotal: 1m 1s\tremaining: 6.2s\n",
      "899:\tlearn: 1576.7413416\ttotal: 1m 1s\tremaining: 6.13s\n",
      "900:\tlearn: 1576.6773485\ttotal: 1m 1s\tremaining: 6.06s\n",
      "901:\tlearn: 1576.5407927\ttotal: 1m 1s\tremaining: 5.99s\n",
      "902:\tlearn: 1576.4281824\ttotal: 1m 1s\tremaining: 5.92s\n",
      "903:\tlearn: 1576.2762614\ttotal: 1m 1s\tremaining: 5.85s\n",
      "904:\tlearn: 1576.2275104\ttotal: 1m 1s\tremaining: 5.79s\n",
      "905:\tlearn: 1575.9686218\ttotal: 1m 1s\tremaining: 5.72s\n",
      "906:\tlearn: 1575.9354356\ttotal: 1m 1s\tremaining: 5.65s\n",
      "907:\tlearn: 1575.8061135\ttotal: 1m 1s\tremaining: 5.58s\n",
      "908:\tlearn: 1575.6665946\ttotal: 1m 1s\tremaining: 5.51s\n",
      "909:\tlearn: 1575.6210460\ttotal: 1m 1s\tremaining: 5.45s\n",
      "910:\tlearn: 1575.5267012\ttotal: 1m 2s\tremaining: 5.38s\n",
      "911:\tlearn: 1575.4841263\ttotal: 1m 2s\tremaining: 5.31s\n",
      "912:\tlearn: 1575.3629501\ttotal: 1m 2s\tremaining: 5.25s\n",
      "913:\tlearn: 1575.3396104\ttotal: 1m 2s\tremaining: 5.18s\n",
      "914:\tlearn: 1575.2250876\ttotal: 1m 2s\tremaining: 5.11s\n",
      "915:\tlearn: 1575.0523649\ttotal: 1m 2s\tremaining: 5.04s\n",
      "916:\tlearn: 1574.9460232\ttotal: 1m 2s\tremaining: 4.97s\n",
      "917:\tlearn: 1574.8914823\ttotal: 1m 2s\tremaining: 4.91s\n",
      "918:\tlearn: 1574.8074767\ttotal: 1m 2s\tremaining: 4.84s\n",
      "919:\tlearn: 1574.6331277\ttotal: 1m 2s\tremaining: 4.77s\n",
      "920:\tlearn: 1574.5590582\ttotal: 1m 2s\tremaining: 4.7s\n",
      "921:\tlearn: 1574.2339225\ttotal: 1m 2s\tremaining: 4.63s\n",
      "922:\tlearn: 1574.1849795\ttotal: 1m 2s\tremaining: 4.57s\n",
      "923:\tlearn: 1573.8990418\ttotal: 1m 3s\tremaining: 4.5s\n",
      "924:\tlearn: 1573.7268024\ttotal: 1m 3s\tremaining: 4.43s\n",
      "925:\tlearn: 1573.6571504\ttotal: 1m 3s\tremaining: 4.36s\n",
      "926:\tlearn: 1573.5465968\ttotal: 1m 3s\tremaining: 4.29s\n",
      "927:\tlearn: 1573.4868590\ttotal: 1m 3s\tremaining: 4.23s\n",
      "928:\tlearn: 1573.4064695\ttotal: 1m 3s\tremaining: 4.16s\n",
      "929:\tlearn: 1573.2596864\ttotal: 1m 3s\tremaining: 4.09s\n",
      "930:\tlearn: 1573.1471380\ttotal: 1m 3s\tremaining: 4.02s\n",
      "931:\tlearn: 1573.0103304\ttotal: 1m 3s\tremaining: 3.96s\n",
      "932:\tlearn: 1572.9184333\ttotal: 1m 3s\tremaining: 3.89s\n",
      "933:\tlearn: 1572.7861525\ttotal: 1m 3s\tremaining: 3.82s\n",
      "934:\tlearn: 1572.5757061\ttotal: 1m 3s\tremaining: 3.75s\n",
      "935:\tlearn: 1572.5264886\ttotal: 1m 3s\tremaining: 3.68s\n",
      "936:\tlearn: 1572.4698916\ttotal: 1m 3s\tremaining: 3.61s\n",
      "937:\tlearn: 1572.2020716\ttotal: 1m 3s\tremaining: 3.55s\n",
      "938:\tlearn: 1572.0156299\ttotal: 1m 4s\tremaining: 3.48s\n",
      "939:\tlearn: 1571.8815304\ttotal: 1m 4s\tremaining: 3.41s\n",
      "940:\tlearn: 1571.6627983\ttotal: 1m 4s\tremaining: 3.34s\n",
      "941:\tlearn: 1571.5619668\ttotal: 1m 4s\tremaining: 3.27s\n",
      "942:\tlearn: 1571.4241956\ttotal: 1m 4s\tremaining: 3.2s\n",
      "943:\tlearn: 1571.2667739\ttotal: 1m 4s\tremaining: 3.13s\n",
      "944:\tlearn: 1571.2266512\ttotal: 1m 4s\tremaining: 3.07s\n",
      "945:\tlearn: 1571.1383695\ttotal: 1m 4s\tremaining: 3s\n",
      "946:\tlearn: 1570.9547359\ttotal: 1m 4s\tremaining: 2.93s\n",
      "947:\tlearn: 1570.9141816\ttotal: 1m 4s\tremaining: 2.86s\n",
      "948:\tlearn: 1570.7716908\ttotal: 1m 4s\tremaining: 2.79s\n",
      "949:\tlearn: 1570.5908870\ttotal: 1m 4s\tremaining: 2.73s\n",
      "950:\tlearn: 1570.5433361\ttotal: 1m 4s\tremaining: 2.66s\n",
      "951:\tlearn: 1570.4103407\ttotal: 1m 4s\tremaining: 2.59s\n",
      "952:\tlearn: 1570.2701788\ttotal: 1m 4s\tremaining: 2.52s\n",
      "953:\tlearn: 1570.1335519\ttotal: 1m 4s\tremaining: 2.45s\n",
      "954:\tlearn: 1569.9131504\ttotal: 1m 5s\tremaining: 2.38s\n",
      "955:\tlearn: 1569.7460083\ttotal: 1m 5s\tremaining: 2.31s\n",
      "956:\tlearn: 1569.6470624\ttotal: 1m 5s\tremaining: 2.25s\n",
      "957:\tlearn: 1569.5576639\ttotal: 1m 5s\tremaining: 2.18s\n",
      "958:\tlearn: 1569.4095373\ttotal: 1m 5s\tremaining: 2.11s\n",
      "959:\tlearn: 1569.2739659\ttotal: 1m 5s\tremaining: 2.04s\n",
      "960:\tlearn: 1569.2046467\ttotal: 1m 5s\tremaining: 1.97s\n",
      "961:\tlearn: 1569.1443048\ttotal: 1m 5s\tremaining: 1.91s\n",
      "962:\tlearn: 1568.9538727\ttotal: 1m 5s\tremaining: 1.84s\n",
      "963:\tlearn: 1568.8605038\ttotal: 1m 5s\tremaining: 1.77s\n",
      "964:\tlearn: 1568.8044707\ttotal: 1m 5s\tremaining: 1.7s\n",
      "965:\tlearn: 1568.6914518\ttotal: 1m 5s\tremaining: 1.63s\n",
      "966:\tlearn: 1568.5908954\ttotal: 1m 5s\tremaining: 1.56s\n",
      "967:\tlearn: 1568.5109112\ttotal: 1m 5s\tremaining: 1.5s\n",
      "968:\tlearn: 1568.4187567\ttotal: 1m 5s\tremaining: 1.43s\n",
      "969:\tlearn: 1568.1817811\ttotal: 1m 6s\tremaining: 1.36s\n",
      "970:\tlearn: 1568.0474023\ttotal: 1m 6s\tremaining: 1.29s\n",
      "971:\tlearn: 1567.9511994\ttotal: 1m 6s\tremaining: 1.23s\n",
      "972:\tlearn: 1567.9221476\ttotal: 1m 6s\tremaining: 1.16s\n",
      "973:\tlearn: 1567.7399160\ttotal: 1m 6s\tremaining: 1.09s\n",
      "974:\tlearn: 1567.6031783\ttotal: 1m 6s\tremaining: 1.02s\n",
      "975:\tlearn: 1567.4518318\ttotal: 1m 6s\tremaining: 953ms\n",
      "976:\tlearn: 1567.4322696\ttotal: 1m 6s\tremaining: 885ms\n",
      "977:\tlearn: 1567.3026226\ttotal: 1m 6s\tremaining: 817ms\n",
      "978:\tlearn: 1567.2813262\ttotal: 1m 6s\tremaining: 749ms\n",
      "979:\tlearn: 1567.2058532\ttotal: 1m 6s\tremaining: 681ms\n",
      "980:\tlearn: 1567.0561367\ttotal: 1m 6s\tremaining: 613ms\n",
      "981:\tlearn: 1567.0326348\ttotal: 1m 6s\tremaining: 545ms\n",
      "982:\tlearn: 1566.8412631\ttotal: 1m 6s\tremaining: 477ms\n",
      "983:\tlearn: 1566.7696807\ttotal: 1m 7s\tremaining: 409ms\n",
      "984:\tlearn: 1566.7182474\ttotal: 1m 7s\tremaining: 340ms\n",
      "985:\tlearn: 1566.6281199\ttotal: 1m 7s\tremaining: 272ms\n",
      "986:\tlearn: 1566.5449332\ttotal: 1m 7s\tremaining: 204ms\n",
      "987:\tlearn: 1566.4597137\ttotal: 1m 7s\tremaining: 136ms\n",
      "988:\tlearn: 1566.3309123\ttotal: 1m 7s\tremaining: 68.1ms\n",
      "989:\tlearn: 1566.1768937\ttotal: 1m 7s\tremaining: 0us\n",
      "Learning rate set to 0.085064\n",
      "0:\tlearn: 4300.0046113\ttotal: 83.8ms\tremaining: 1m 22s\n",
      "1:\tlearn: 4074.5641122\ttotal: 161ms\tremaining: 1m 19s\n",
      "2:\tlearn: 3868.9395724\ttotal: 232ms\tremaining: 1m 16s\n",
      "3:\tlearn: 3689.4850574\ttotal: 300ms\tremaining: 1m 13s\n",
      "4:\tlearn: 3528.7959441\ttotal: 373ms\tremaining: 1m 13s\n",
      "5:\tlearn: 3376.4187441\ttotal: 449ms\tremaining: 1m 13s\n",
      "6:\tlearn: 3239.7633030\ttotal: 537ms\tremaining: 1m 15s\n",
      "7:\tlearn: 3116.4193636\ttotal: 609ms\tremaining: 1m 14s\n",
      "8:\tlearn: 3012.3882410\ttotal: 679ms\tremaining: 1m 14s\n",
      "9:\tlearn: 2910.3616639\ttotal: 761ms\tremaining: 1m 14s\n",
      "10:\tlearn: 2823.8283150\ttotal: 843ms\tremaining: 1m 15s\n",
      "11:\tlearn: 2750.0640348\ttotal: 903ms\tremaining: 1m 13s\n",
      "12:\tlearn: 2676.0157773\ttotal: 992ms\tremaining: 1m 14s\n",
      "13:\tlearn: 2608.7298031\ttotal: 1.06s\tremaining: 1m 14s\n",
      "14:\tlearn: 2549.8206976\ttotal: 1.14s\tremaining: 1m 14s\n",
      "15:\tlearn: 2497.2947026\ttotal: 1.22s\tremaining: 1m 14s\n",
      "16:\tlearn: 2448.2726577\ttotal: 1.3s\tremaining: 1m 14s\n",
      "17:\tlearn: 2405.8600687\ttotal: 1.36s\tremaining: 1m 13s\n",
      "18:\tlearn: 2369.0158734\ttotal: 1.44s\tremaining: 1m 13s\n",
      "19:\tlearn: 2332.7212031\ttotal: 1.51s\tremaining: 1m 13s\n",
      "20:\tlearn: 2294.2456246\ttotal: 1.57s\tremaining: 1m 12s\n",
      "21:\tlearn: 2263.8877412\ttotal: 1.64s\tremaining: 1m 12s\n",
      "22:\tlearn: 2232.5699826\ttotal: 1.73s\tremaining: 1m 12s\n",
      "23:\tlearn: 2205.5239598\ttotal: 1.79s\tremaining: 1m 12s\n",
      "24:\tlearn: 2179.4495749\ttotal: 1.87s\tremaining: 1m 12s\n",
      "25:\tlearn: 2158.7434751\ttotal: 1.94s\tremaining: 1m 12s\n",
      "26:\tlearn: 2138.9725314\ttotal: 2.02s\tremaining: 1m 11s\n",
      "27:\tlearn: 2121.0088828\ttotal: 2.08s\tremaining: 1m 11s\n",
      "28:\tlearn: 2102.8483003\ttotal: 2.15s\tremaining: 1m 11s\n",
      "29:\tlearn: 2089.5812904\ttotal: 2.21s\tremaining: 1m 10s\n",
      "30:\tlearn: 2074.6543505\ttotal: 2.27s\tremaining: 1m 10s\n",
      "31:\tlearn: 2062.4615653\ttotal: 2.34s\tremaining: 1m 10s\n",
      "32:\tlearn: 2049.8188766\ttotal: 2.41s\tremaining: 1m 9s\n",
      "33:\tlearn: 2038.9034052\ttotal: 2.47s\tremaining: 1m 9s\n",
      "34:\tlearn: 2029.2365180\ttotal: 2.53s\tremaining: 1m 9s\n",
      "35:\tlearn: 2019.9840667\ttotal: 2.6s\tremaining: 1m 8s\n",
      "36:\tlearn: 2012.0952471\ttotal: 2.65s\tremaining: 1m 8s\n",
      "37:\tlearn: 2003.7049475\ttotal: 2.74s\tremaining: 1m 8s\n",
      "38:\tlearn: 1995.5593909\ttotal: 2.81s\tremaining: 1m 8s\n",
      "39:\tlearn: 1988.8684160\ttotal: 2.88s\tremaining: 1m 8s\n",
      "40:\tlearn: 1980.5340353\ttotal: 2.94s\tremaining: 1m 8s\n",
      "41:\tlearn: 1973.7930822\ttotal: 2.99s\tremaining: 1m 7s\n",
      "42:\tlearn: 1967.0524362\ttotal: 3.04s\tremaining: 1m 6s\n",
      "43:\tlearn: 1962.3545460\ttotal: 3.11s\tremaining: 1m 6s\n",
      "44:\tlearn: 1957.5017095\ttotal: 3.17s\tremaining: 1m 6s\n",
      "45:\tlearn: 1953.1748474\ttotal: 3.22s\tremaining: 1m 6s\n",
      "46:\tlearn: 1946.9259939\ttotal: 3.29s\tremaining: 1m 6s\n",
      "47:\tlearn: 1941.7055779\ttotal: 3.37s\tremaining: 1m 6s\n",
      "48:\tlearn: 1937.9001928\ttotal: 3.42s\tremaining: 1m 5s\n",
      "49:\tlearn: 1933.2383262\ttotal: 3.49s\tremaining: 1m 5s\n",
      "50:\tlearn: 1929.6857943\ttotal: 3.58s\tremaining: 1m 5s\n",
      "51:\tlearn: 1926.1625247\ttotal: 3.68s\tremaining: 1m 6s\n",
      "52:\tlearn: 1922.8118796\ttotal: 3.77s\tremaining: 1m 6s\n",
      "53:\tlearn: 1919.0964620\ttotal: 3.86s\tremaining: 1m 6s\n",
      "54:\tlearn: 1915.0385369\ttotal: 3.94s\tremaining: 1m 6s\n",
      "55:\tlearn: 1912.3274414\ttotal: 4s\tremaining: 1m 6s\n",
      "56:\tlearn: 1907.7882605\ttotal: 4.06s\tremaining: 1m 6s\n",
      "57:\tlearn: 1904.8817663\ttotal: 4.11s\tremaining: 1m 6s\n",
      "58:\tlearn: 1901.4524679\ttotal: 4.16s\tremaining: 1m 5s\n",
      "59:\tlearn: 1898.9094459\ttotal: 4.2s\tremaining: 1m 5s\n",
      "60:\tlearn: 1895.3121059\ttotal: 4.28s\tremaining: 1m 5s\n",
      "61:\tlearn: 1892.0077257\ttotal: 4.33s\tremaining: 1m 4s\n",
      "62:\tlearn: 1889.4947172\ttotal: 4.41s\tremaining: 1m 4s\n",
      "63:\tlearn: 1886.7354020\ttotal: 4.46s\tremaining: 1m 4s\n",
      "64:\tlearn: 1883.3623730\ttotal: 4.51s\tremaining: 1m 4s\n",
      "65:\tlearn: 1881.5298982\ttotal: 4.58s\tremaining: 1m 4s\n",
      "66:\tlearn: 1879.3077552\ttotal: 4.64s\tremaining: 1m 3s\n",
      "67:\tlearn: 1877.4722932\ttotal: 4.71s\tremaining: 1m 3s\n",
      "68:\tlearn: 1874.5762525\ttotal: 4.78s\tremaining: 1m 3s\n",
      "69:\tlearn: 1872.1552195\ttotal: 4.84s\tremaining: 1m 3s\n",
      "70:\tlearn: 1870.2538894\ttotal: 4.91s\tremaining: 1m 3s\n",
      "71:\tlearn: 1868.4287841\ttotal: 4.99s\tremaining: 1m 3s\n",
      "72:\tlearn: 1866.0165522\ttotal: 5.03s\tremaining: 1m 3s\n",
      "73:\tlearn: 1863.7682448\ttotal: 5.08s\tremaining: 1m 2s\n",
      "74:\tlearn: 1861.5376602\ttotal: 5.16s\tremaining: 1m 2s\n",
      "75:\tlearn: 1859.1068068\ttotal: 5.23s\tremaining: 1m 2s\n",
      "76:\tlearn: 1857.2848418\ttotal: 5.3s\tremaining: 1m 2s\n",
      "77:\tlearn: 1855.5868582\ttotal: 5.36s\tremaining: 1m 2s\n",
      "78:\tlearn: 1854.3088906\ttotal: 5.42s\tremaining: 1m 2s\n",
      "79:\tlearn: 1852.0742277\ttotal: 5.47s\tremaining: 1m 2s\n",
      "80:\tlearn: 1850.9656164\ttotal: 5.54s\tremaining: 1m 2s\n",
      "81:\tlearn: 1849.6315003\ttotal: 5.61s\tremaining: 1m 2s\n",
      "82:\tlearn: 1848.0460420\ttotal: 5.68s\tremaining: 1m 2s\n",
      "83:\tlearn: 1846.1994003\ttotal: 5.73s\tremaining: 1m 1s\n",
      "84:\tlearn: 1844.3911357\ttotal: 5.8s\tremaining: 1m 1s\n",
      "85:\tlearn: 1842.4412003\ttotal: 5.85s\tremaining: 1m 1s\n",
      "86:\tlearn: 1840.9390004\ttotal: 5.91s\tremaining: 1m 1s\n",
      "87:\tlearn: 1837.7639469\ttotal: 5.98s\tremaining: 1m 1s\n",
      "88:\tlearn: 1836.3309869\ttotal: 6.05s\tremaining: 1m 1s\n",
      "89:\tlearn: 1834.8174656\ttotal: 6.12s\tremaining: 1m 1s\n",
      "90:\tlearn: 1833.2630312\ttotal: 6.19s\tremaining: 1m 1s\n",
      "91:\tlearn: 1831.5443666\ttotal: 6.25s\tremaining: 1m\n",
      "92:\tlearn: 1830.2257976\ttotal: 6.33s\tremaining: 1m 1s\n",
      "93:\tlearn: 1829.0069924\ttotal: 6.39s\tremaining: 1m\n",
      "94:\tlearn: 1827.8100134\ttotal: 6.46s\tremaining: 1m\n",
      "95:\tlearn: 1826.0219519\ttotal: 6.52s\tremaining: 1m\n",
      "96:\tlearn: 1825.1850062\ttotal: 6.58s\tremaining: 1m\n",
      "97:\tlearn: 1823.9941070\ttotal: 6.64s\tremaining: 1m\n",
      "98:\tlearn: 1821.9696732\ttotal: 6.7s\tremaining: 1m\n",
      "99:\tlearn: 1820.4758685\ttotal: 6.76s\tremaining: 1m\n",
      "100:\tlearn: 1818.7476102\ttotal: 6.81s\tremaining: 60s\n",
      "101:\tlearn: 1818.1901376\ttotal: 6.88s\tremaining: 59.9s\n",
      "102:\tlearn: 1817.1830561\ttotal: 6.95s\tremaining: 59.8s\n",
      "103:\tlearn: 1815.8835226\ttotal: 7.02s\tremaining: 59.8s\n",
      "104:\tlearn: 1814.8806531\ttotal: 7.09s\tremaining: 59.7s\n",
      "105:\tlearn: 1813.5626775\ttotal: 7.16s\tremaining: 59.7s\n",
      "106:\tlearn: 1812.4945949\ttotal: 7.21s\tremaining: 59.5s\n",
      "107:\tlearn: 1811.6955140\ttotal: 7.27s\tremaining: 59.3s\n",
      "108:\tlearn: 1810.4734017\ttotal: 7.33s\tremaining: 59.3s\n",
      "109:\tlearn: 1809.3745040\ttotal: 7.4s\tremaining: 59.2s\n",
      "110:\tlearn: 1807.8080763\ttotal: 7.5s\tremaining: 59.4s\n",
      "111:\tlearn: 1806.9629216\ttotal: 7.57s\tremaining: 59.3s\n",
      "112:\tlearn: 1806.2827038\ttotal: 7.64s\tremaining: 59.3s\n",
      "113:\tlearn: 1805.2977150\ttotal: 7.71s\tremaining: 59.2s\n",
      "114:\tlearn: 1803.9139729\ttotal: 7.77s\tremaining: 59.2s\n",
      "115:\tlearn: 1802.6380460\ttotal: 7.85s\tremaining: 59.1s\n",
      "116:\tlearn: 1801.5587359\ttotal: 7.92s\tremaining: 59.1s\n",
      "117:\tlearn: 1800.6789706\ttotal: 7.99s\tremaining: 59s\n",
      "118:\tlearn: 1799.3583463\ttotal: 8.05s\tremaining: 58.9s\n",
      "119:\tlearn: 1798.3708143\ttotal: 8.11s\tremaining: 58.8s\n",
      "120:\tlearn: 1796.8725661\ttotal: 8.17s\tremaining: 58.7s\n",
      "121:\tlearn: 1795.7624743\ttotal: 8.25s\tremaining: 58.7s\n",
      "122:\tlearn: 1795.0067760\ttotal: 8.33s\tremaining: 58.7s\n",
      "123:\tlearn: 1793.7123097\ttotal: 8.39s\tremaining: 58.6s\n",
      "124:\tlearn: 1792.4240009\ttotal: 8.47s\tremaining: 58.6s\n",
      "125:\tlearn: 1791.2877527\ttotal: 8.54s\tremaining: 58.5s\n",
      "126:\tlearn: 1790.5096118\ttotal: 8.61s\tremaining: 58.5s\n",
      "127:\tlearn: 1789.1922744\ttotal: 8.66s\tremaining: 58.3s\n",
      "128:\tlearn: 1788.6939682\ttotal: 8.74s\tremaining: 58.4s\n",
      "129:\tlearn: 1787.8001450\ttotal: 8.83s\tremaining: 58.4s\n",
      "130:\tlearn: 1786.9879814\ttotal: 8.9s\tremaining: 58.3s\n",
      "131:\tlearn: 1785.8065645\ttotal: 8.94s\tremaining: 58.1s\n",
      "132:\tlearn: 1784.8940596\ttotal: 9.01s\tremaining: 58s\n",
      "133:\tlearn: 1783.5001069\ttotal: 9.12s\tremaining: 58.3s\n",
      "134:\tlearn: 1782.8861471\ttotal: 9.2s\tremaining: 58.3s\n",
      "135:\tlearn: 1782.3738053\ttotal: 9.26s\tremaining: 58.2s\n",
      "136:\tlearn: 1781.4637822\ttotal: 9.31s\tremaining: 58s\n",
      "137:\tlearn: 1780.5323975\ttotal: 9.39s\tremaining: 58s\n",
      "138:\tlearn: 1779.4851401\ttotal: 9.44s\tremaining: 57.8s\n",
      "139:\tlearn: 1778.9065659\ttotal: 9.49s\tremaining: 57.6s\n",
      "140:\tlearn: 1777.6868766\ttotal: 9.55s\tremaining: 57.5s\n",
      "141:\tlearn: 1776.7867767\ttotal: 9.62s\tremaining: 57.5s\n",
      "142:\tlearn: 1775.3945617\ttotal: 9.69s\tremaining: 57.4s\n",
      "143:\tlearn: 1774.4030224\ttotal: 9.77s\tremaining: 57.4s\n",
      "144:\tlearn: 1773.8622806\ttotal: 9.83s\tremaining: 57.3s\n",
      "145:\tlearn: 1772.7819643\ttotal: 9.88s\tremaining: 57.1s\n",
      "146:\tlearn: 1771.8399907\ttotal: 9.96s\tremaining: 57.1s\n",
      "147:\tlearn: 1770.8785252\ttotal: 10s\tremaining: 57.1s\n",
      "148:\tlearn: 1770.2264586\ttotal: 10.1s\tremaining: 57s\n",
      "149:\tlearn: 1769.4037413\ttotal: 10.2s\tremaining: 56.9s\n",
      "150:\tlearn: 1769.1053016\ttotal: 10.2s\tremaining: 56.9s\n",
      "151:\tlearn: 1768.3654529\ttotal: 10.3s\tremaining: 56.9s\n",
      "152:\tlearn: 1767.3293991\ttotal: 10.4s\tremaining: 56.9s\n",
      "153:\tlearn: 1766.4386568\ttotal: 10.5s\tremaining: 56.9s\n",
      "154:\tlearn: 1765.3886266\ttotal: 10.5s\tremaining: 56.8s\n",
      "155:\tlearn: 1764.7538190\ttotal: 10.6s\tremaining: 56.7s\n",
      "156:\tlearn: 1763.8129528\ttotal: 10.7s\tremaining: 56.6s\n",
      "157:\tlearn: 1763.3989998\ttotal: 10.7s\tremaining: 56.6s\n",
      "158:\tlearn: 1762.2222562\ttotal: 10.8s\tremaining: 56.5s\n",
      "159:\tlearn: 1761.3485771\ttotal: 10.9s\tremaining: 56.4s\n",
      "160:\tlearn: 1760.0421016\ttotal: 10.9s\tremaining: 56.4s\n",
      "161:\tlearn: 1758.9959206\ttotal: 11s\tremaining: 56.4s\n",
      "162:\tlearn: 1758.3130242\ttotal: 11.1s\tremaining: 56.3s\n",
      "163:\tlearn: 1757.4312253\ttotal: 11.2s\tremaining: 56.4s\n",
      "164:\tlearn: 1756.8347895\ttotal: 11.3s\tremaining: 56.3s\n",
      "165:\tlearn: 1756.3520580\ttotal: 11.3s\tremaining: 56.3s\n",
      "166:\tlearn: 1755.8953851\ttotal: 11.4s\tremaining: 56.3s\n",
      "167:\tlearn: 1755.2130797\ttotal: 11.5s\tremaining: 56.1s\n",
      "168:\tlearn: 1754.4790774\ttotal: 11.6s\tremaining: 56.1s\n",
      "169:\tlearn: 1753.7922078\ttotal: 11.6s\tremaining: 56s\n",
      "170:\tlearn: 1753.3932309\ttotal: 11.7s\tremaining: 56s\n",
      "171:\tlearn: 1752.7329714\ttotal: 11.8s\tremaining: 55.9s\n",
      "172:\tlearn: 1752.0797411\ttotal: 11.8s\tremaining: 55.8s\n",
      "173:\tlearn: 1751.0988105\ttotal: 11.9s\tremaining: 55.7s\n",
      "174:\tlearn: 1750.6953619\ttotal: 11.9s\tremaining: 55.6s\n",
      "175:\tlearn: 1750.0633646\ttotal: 12s\tremaining: 55.5s\n",
      "176:\tlearn: 1749.5110155\ttotal: 12.1s\tremaining: 55.4s\n",
      "177:\tlearn: 1748.8023492\ttotal: 12.1s\tremaining: 55.3s\n",
      "178:\tlearn: 1748.0474452\ttotal: 12.2s\tremaining: 55.2s\n",
      "179:\tlearn: 1747.4483543\ttotal: 12.2s\tremaining: 55.1s\n",
      "180:\tlearn: 1746.9016197\ttotal: 12.3s\tremaining: 55s\n",
      "181:\tlearn: 1746.5312247\ttotal: 12.4s\tremaining: 54.9s\n",
      "182:\tlearn: 1745.2762069\ttotal: 12.4s\tremaining: 54.8s\n",
      "183:\tlearn: 1744.8410966\ttotal: 12.5s\tremaining: 54.7s\n",
      "184:\tlearn: 1744.4347342\ttotal: 12.6s\tremaining: 54.6s\n",
      "185:\tlearn: 1743.3391204\ttotal: 12.6s\tremaining: 54.6s\n",
      "186:\tlearn: 1742.6778757\ttotal: 12.7s\tremaining: 54.5s\n",
      "187:\tlearn: 1741.8082382\ttotal: 12.8s\tremaining: 54.5s\n",
      "188:\tlearn: 1741.5181085\ttotal: 12.8s\tremaining: 54.4s\n",
      "189:\tlearn: 1740.6633931\ttotal: 12.9s\tremaining: 54.3s\n",
      "190:\tlearn: 1739.7791428\ttotal: 13s\tremaining: 54.3s\n",
      "191:\tlearn: 1739.7298836\ttotal: 13s\tremaining: 54.2s\n",
      "192:\tlearn: 1739.4403255\ttotal: 13.1s\tremaining: 54.2s\n",
      "193:\tlearn: 1738.8999415\ttotal: 13.2s\tremaining: 54.2s\n",
      "194:\tlearn: 1738.2051594\ttotal: 13.3s\tremaining: 54.1s\n",
      "195:\tlearn: 1737.4671893\ttotal: 13.3s\tremaining: 54.1s\n",
      "196:\tlearn: 1736.7763239\ttotal: 13.4s\tremaining: 54s\n",
      "197:\tlearn: 1736.2519555\ttotal: 13.5s\tremaining: 54s\n",
      "198:\tlearn: 1735.9705482\ttotal: 13.5s\tremaining: 53.9s\n",
      "199:\tlearn: 1735.5557547\ttotal: 13.6s\tremaining: 53.8s\n",
      "200:\tlearn: 1734.7300227\ttotal: 13.7s\tremaining: 53.8s\n",
      "201:\tlearn: 1734.5835606\ttotal: 13.8s\tremaining: 53.7s\n",
      "202:\tlearn: 1733.3060689\ttotal: 13.8s\tremaining: 53.6s\n",
      "203:\tlearn: 1732.8073686\ttotal: 13.9s\tremaining: 53.6s\n",
      "204:\tlearn: 1732.1064614\ttotal: 14s\tremaining: 53.5s\n",
      "205:\tlearn: 1731.3350233\ttotal: 14s\tremaining: 53.4s\n",
      "206:\tlearn: 1730.3614103\ttotal: 14.1s\tremaining: 53.3s\n",
      "207:\tlearn: 1729.9020369\ttotal: 14.2s\tremaining: 53.3s\n",
      "208:\tlearn: 1729.0250028\ttotal: 14.2s\tremaining: 53.2s\n",
      "209:\tlearn: 1728.7271274\ttotal: 14.3s\tremaining: 53.1s\n",
      "210:\tlearn: 1728.3891081\ttotal: 14.4s\tremaining: 53.1s\n",
      "211:\tlearn: 1728.0487360\ttotal: 14.4s\tremaining: 53s\n",
      "212:\tlearn: 1727.4134447\ttotal: 14.5s\tremaining: 53s\n",
      "213:\tlearn: 1726.5446726\ttotal: 14.6s\tremaining: 52.9s\n",
      "214:\tlearn: 1726.0279681\ttotal: 14.7s\tremaining: 52.9s\n",
      "215:\tlearn: 1725.6123759\ttotal: 14.7s\tremaining: 52.8s\n",
      "216:\tlearn: 1724.6177205\ttotal: 14.8s\tremaining: 52.7s\n",
      "217:\tlearn: 1724.1769708\ttotal: 14.9s\tremaining: 52.8s\n",
      "218:\tlearn: 1723.9331455\ttotal: 15s\tremaining: 52.7s\n",
      "219:\tlearn: 1723.5727121\ttotal: 15s\tremaining: 52.6s\n",
      "220:\tlearn: 1722.9254352\ttotal: 15.1s\tremaining: 52.6s\n",
      "221:\tlearn: 1722.1357748\ttotal: 15.2s\tremaining: 52.5s\n",
      "222:\tlearn: 1721.4300953\ttotal: 15.2s\tremaining: 52.4s\n",
      "223:\tlearn: 1721.0695953\ttotal: 15.3s\tremaining: 52.3s\n",
      "224:\tlearn: 1720.2911752\ttotal: 15.4s\tremaining: 52.2s\n",
      "225:\tlearn: 1719.7547549\ttotal: 15.4s\tremaining: 52.1s\n",
      "226:\tlearn: 1719.6814189\ttotal: 15.5s\tremaining: 52s\n",
      "227:\tlearn: 1719.2106537\ttotal: 15.5s\tremaining: 52s\n",
      "228:\tlearn: 1718.5824404\ttotal: 15.6s\tremaining: 51.9s\n",
      "229:\tlearn: 1718.1922496\ttotal: 15.7s\tremaining: 51.8s\n",
      "230:\tlearn: 1717.7270796\ttotal: 15.8s\tremaining: 51.8s\n",
      "231:\tlearn: 1717.1237301\ttotal: 15.8s\tremaining: 51.8s\n",
      "232:\tlearn: 1716.9604194\ttotal: 15.9s\tremaining: 51.7s\n",
      "233:\tlearn: 1716.4594868\ttotal: 16s\tremaining: 51.7s\n",
      "234:\tlearn: 1715.8258349\ttotal: 16.1s\tremaining: 51.6s\n",
      "235:\tlearn: 1715.3279308\ttotal: 16.1s\tremaining: 51.5s\n",
      "236:\tlearn: 1715.0175798\ttotal: 16.2s\tremaining: 51.5s\n",
      "237:\tlearn: 1714.4710963\ttotal: 16.3s\tremaining: 51.4s\n",
      "238:\tlearn: 1714.3056033\ttotal: 16.3s\tremaining: 51.3s\n",
      "239:\tlearn: 1713.8434714\ttotal: 16.4s\tremaining: 51.2s\n",
      "240:\tlearn: 1713.1888192\ttotal: 16.5s\tremaining: 51.1s\n",
      "241:\tlearn: 1712.9408684\ttotal: 16.5s\tremaining: 51.1s\n",
      "242:\tlearn: 1712.3375813\ttotal: 16.6s\tremaining: 51.1s\n",
      "243:\tlearn: 1712.0218703\ttotal: 16.7s\tremaining: 50.9s\n",
      "244:\tlearn: 1711.4233975\ttotal: 16.7s\tremaining: 50.9s\n",
      "245:\tlearn: 1710.9621277\ttotal: 16.8s\tremaining: 50.8s\n",
      "246:\tlearn: 1710.6641647\ttotal: 16.9s\tremaining: 50.7s\n",
      "247:\tlearn: 1710.0471348\ttotal: 16.9s\tremaining: 50.6s\n",
      "248:\tlearn: 1709.6478181\ttotal: 17s\tremaining: 50.6s\n",
      "249:\tlearn: 1709.6147319\ttotal: 17.1s\tremaining: 50.5s\n",
      "250:\tlearn: 1709.1893711\ttotal: 17.1s\tremaining: 50.4s\n",
      "251:\tlearn: 1708.7867225\ttotal: 17.2s\tremaining: 50.3s\n",
      "252:\tlearn: 1708.7554880\ttotal: 17.2s\tremaining: 50.2s\n",
      "253:\tlearn: 1708.1134751\ttotal: 17.3s\tremaining: 50.1s\n",
      "254:\tlearn: 1707.7955659\ttotal: 17.3s\tremaining: 50s\n",
      "255:\tlearn: 1707.2747094\ttotal: 17.4s\tremaining: 49.9s\n",
      "256:\tlearn: 1706.8604577\ttotal: 17.5s\tremaining: 49.8s\n",
      "257:\tlearn: 1706.8315779\ttotal: 17.5s\tremaining: 49.7s\n",
      "258:\tlearn: 1706.8052524\ttotal: 17.5s\tremaining: 49.5s\n",
      "259:\tlearn: 1706.0860873\ttotal: 17.6s\tremaining: 49.5s\n",
      "260:\tlearn: 1705.5951024\ttotal: 17.7s\tremaining: 49.4s\n",
      "261:\tlearn: 1705.3959680\ttotal: 17.8s\tremaining: 49.3s\n",
      "262:\tlearn: 1704.9702227\ttotal: 17.8s\tremaining: 49.3s\n",
      "263:\tlearn: 1704.4688322\ttotal: 17.9s\tremaining: 49.3s\n",
      "264:\tlearn: 1703.8714758\ttotal: 18s\tremaining: 49.1s\n",
      "265:\tlearn: 1703.7862464\ttotal: 18s\tremaining: 49.1s\n",
      "266:\tlearn: 1703.5663206\ttotal: 18.1s\tremaining: 49s\n",
      "267:\tlearn: 1703.0345778\ttotal: 18.2s\tremaining: 49s\n",
      "268:\tlearn: 1702.7570475\ttotal: 18.2s\tremaining: 48.9s\n",
      "269:\tlearn: 1702.2329025\ttotal: 18.3s\tremaining: 48.8s\n",
      "270:\tlearn: 1702.2007377\ttotal: 18.3s\tremaining: 48.7s\n",
      "271:\tlearn: 1701.5768292\ttotal: 18.4s\tremaining: 48.6s\n",
      "272:\tlearn: 1701.4755572\ttotal: 18.5s\tremaining: 48.5s\n",
      "273:\tlearn: 1701.4577803\ttotal: 18.5s\tremaining: 48.4s\n",
      "274:\tlearn: 1700.9653401\ttotal: 18.6s\tremaining: 48.4s\n",
      "275:\tlearn: 1700.3204294\ttotal: 18.7s\tremaining: 48.4s\n",
      "276:\tlearn: 1699.9409885\ttotal: 18.8s\tremaining: 48.3s\n",
      "277:\tlearn: 1699.8876150\ttotal: 18.8s\tremaining: 48.3s\n",
      "278:\tlearn: 1699.4781121\ttotal: 18.9s\tremaining: 48.2s\n",
      "279:\tlearn: 1699.2572459\ttotal: 18.9s\tremaining: 48.1s\n",
      "280:\tlearn: 1699.1189288\ttotal: 19s\tremaining: 48s\n",
      "281:\tlearn: 1698.8127757\ttotal: 19.1s\tremaining: 47.9s\n",
      "282:\tlearn: 1698.2253044\ttotal: 19.2s\tremaining: 47.9s\n",
      "283:\tlearn: 1697.8886582\ttotal: 19.2s\tremaining: 47.8s\n",
      "284:\tlearn: 1697.4378598\ttotal: 19.3s\tremaining: 47.8s\n",
      "285:\tlearn: 1697.0092999\ttotal: 19.4s\tremaining: 47.6s\n",
      "286:\tlearn: 1696.6217721\ttotal: 19.4s\tremaining: 47.5s\n",
      "287:\tlearn: 1696.1038106\ttotal: 19.5s\tremaining: 47.5s\n",
      "288:\tlearn: 1696.0513806\ttotal: 19.6s\tremaining: 47.4s\n",
      "289:\tlearn: 1695.7498267\ttotal: 19.6s\tremaining: 47.3s\n",
      "290:\tlearn: 1695.6857377\ttotal: 19.7s\tremaining: 47.3s\n",
      "291:\tlearn: 1695.4439061\ttotal: 19.8s\tremaining: 47.3s\n",
      "292:\tlearn: 1695.2639709\ttotal: 19.8s\tremaining: 47.2s\n",
      "293:\tlearn: 1694.7726773\ttotal: 19.9s\tremaining: 47.1s\n",
      "294:\tlearn: 1694.2754975\ttotal: 20s\tremaining: 47.1s\n",
      "295:\tlearn: 1693.8612138\ttotal: 20.1s\tremaining: 47s\n",
      "296:\tlearn: 1693.4323692\ttotal: 20.1s\tremaining: 46.9s\n",
      "297:\tlearn: 1693.2417053\ttotal: 20.2s\tremaining: 46.8s\n",
      "298:\tlearn: 1692.7230186\ttotal: 20.2s\tremaining: 46.8s\n",
      "299:\tlearn: 1692.2009560\ttotal: 20.3s\tremaining: 46.7s\n",
      "300:\tlearn: 1692.1167655\ttotal: 20.4s\tremaining: 46.6s\n",
      "301:\tlearn: 1691.6937282\ttotal: 20.4s\tremaining: 46.6s\n",
      "302:\tlearn: 1691.3156841\ttotal: 20.5s\tremaining: 46.5s\n",
      "303:\tlearn: 1691.2001854\ttotal: 20.6s\tremaining: 46.5s\n",
      "304:\tlearn: 1691.1548414\ttotal: 20.7s\tremaining: 46.4s\n",
      "305:\tlearn: 1690.8164656\ttotal: 20.7s\tremaining: 46.3s\n",
      "306:\tlearn: 1690.4091528\ttotal: 20.8s\tremaining: 46.2s\n",
      "307:\tlearn: 1690.0883178\ttotal: 20.9s\tremaining: 46.2s\n",
      "308:\tlearn: 1690.0746900\ttotal: 20.9s\tremaining: 46.2s\n",
      "309:\tlearn: 1689.9304606\ttotal: 21s\tremaining: 46.1s\n",
      "310:\tlearn: 1689.5045004\ttotal: 21.1s\tremaining: 46s\n",
      "311:\tlearn: 1689.1761498\ttotal: 21.2s\tremaining: 46s\n",
      "312:\tlearn: 1688.7881243\ttotal: 21.2s\tremaining: 45.9s\n",
      "313:\tlearn: 1688.2733197\ttotal: 21.3s\tremaining: 45.9s\n",
      "314:\tlearn: 1688.1347918\ttotal: 21.4s\tremaining: 45.8s\n",
      "315:\tlearn: 1687.7829226\ttotal: 21.4s\tremaining: 45.7s\n",
      "316:\tlearn: 1687.5169795\ttotal: 21.5s\tremaining: 45.7s\n",
      "317:\tlearn: 1687.3952474\ttotal: 21.6s\tremaining: 45.6s\n",
      "318:\tlearn: 1687.2651603\ttotal: 21.6s\tremaining: 45.5s\n",
      "319:\tlearn: 1686.6368173\ttotal: 21.7s\tremaining: 45.4s\n",
      "320:\tlearn: 1686.2940755\ttotal: 21.8s\tremaining: 45.4s\n",
      "321:\tlearn: 1685.9357618\ttotal: 21.8s\tremaining: 45.3s\n",
      "322:\tlearn: 1685.4824876\ttotal: 21.9s\tremaining: 45.2s\n",
      "323:\tlearn: 1685.1044524\ttotal: 22s\tremaining: 45.2s\n",
      "324:\tlearn: 1684.6009669\ttotal: 22s\tremaining: 45.1s\n",
      "325:\tlearn: 1684.1064393\ttotal: 22.1s\tremaining: 45s\n",
      "326:\tlearn: 1683.8923949\ttotal: 22.2s\tremaining: 44.9s\n",
      "327:\tlearn: 1683.6983614\ttotal: 22.2s\tremaining: 44.9s\n",
      "328:\tlearn: 1683.5911803\ttotal: 22.3s\tremaining: 44.8s\n",
      "329:\tlearn: 1683.2485159\ttotal: 22.4s\tremaining: 44.8s\n",
      "330:\tlearn: 1682.3346288\ttotal: 22.5s\tremaining: 44.7s\n",
      "331:\tlearn: 1682.2387871\ttotal: 22.5s\tremaining: 44.6s\n",
      "332:\tlearn: 1682.0249861\ttotal: 22.6s\tremaining: 44.6s\n",
      "333:\tlearn: 1681.4980154\ttotal: 22.7s\tremaining: 44.5s\n",
      "334:\tlearn: 1681.1770922\ttotal: 22.7s\tremaining: 44.5s\n",
      "335:\tlearn: 1681.0645094\ttotal: 22.8s\tremaining: 44.4s\n",
      "336:\tlearn: 1680.7150995\ttotal: 22.9s\tremaining: 44.3s\n",
      "337:\tlearn: 1680.3442736\ttotal: 22.9s\tremaining: 44.2s\n",
      "338:\tlearn: 1680.2909783\ttotal: 23s\tremaining: 44.1s\n",
      "339:\tlearn: 1680.2027756\ttotal: 23.1s\tremaining: 44.1s\n",
      "340:\tlearn: 1679.7873190\ttotal: 23.1s\tremaining: 44s\n",
      "341:\tlearn: 1679.7515233\ttotal: 23.2s\tremaining: 44s\n",
      "342:\tlearn: 1679.5149717\ttotal: 23.3s\tremaining: 43.9s\n",
      "343:\tlearn: 1679.2959346\ttotal: 23.3s\tremaining: 43.8s\n",
      "344:\tlearn: 1679.0512078\ttotal: 23.4s\tremaining: 43.8s\n",
      "345:\tlearn: 1678.7235881\ttotal: 23.5s\tremaining: 43.7s\n",
      "346:\tlearn: 1678.4660519\ttotal: 23.6s\tremaining: 43.6s\n",
      "347:\tlearn: 1678.0408730\ttotal: 23.6s\tremaining: 43.6s\n",
      "348:\tlearn: 1677.8631406\ttotal: 23.7s\tremaining: 43.5s\n",
      "349:\tlearn: 1677.4976620\ttotal: 23.8s\tremaining: 43.5s\n",
      "350:\tlearn: 1677.0561588\ttotal: 23.9s\tremaining: 43.4s\n",
      "351:\tlearn: 1676.6105363\ttotal: 23.9s\tremaining: 43.3s\n",
      "352:\tlearn: 1676.3245604\ttotal: 24s\tremaining: 43.2s\n",
      "353:\tlearn: 1675.7132892\ttotal: 24s\tremaining: 43.2s\n",
      "354:\tlearn: 1675.2656082\ttotal: 24.1s\tremaining: 43.1s\n",
      "355:\tlearn: 1674.8613124\ttotal: 24.2s\tremaining: 43s\n",
      "356:\tlearn: 1674.5795550\ttotal: 24.2s\tremaining: 43s\n",
      "357:\tlearn: 1674.0572899\ttotal: 24.3s\tremaining: 42.9s\n",
      "358:\tlearn: 1673.6531316\ttotal: 24.4s\tremaining: 42.9s\n",
      "359:\tlearn: 1673.3347142\ttotal: 24.4s\tremaining: 42.8s\n",
      "360:\tlearn: 1672.8430146\ttotal: 24.5s\tremaining: 42.7s\n",
      "361:\tlearn: 1672.7350868\ttotal: 24.6s\tremaining: 42.6s\n",
      "362:\tlearn: 1672.7052613\ttotal: 24.6s\tremaining: 42.6s\n",
      "363:\tlearn: 1672.2911808\ttotal: 24.7s\tremaining: 42.5s\n",
      "364:\tlearn: 1672.0581313\ttotal: 24.8s\tremaining: 42.4s\n",
      "365:\tlearn: 1672.0355333\ttotal: 24.8s\tremaining: 42.4s\n",
      "366:\tlearn: 1671.4254570\ttotal: 24.9s\tremaining: 42.3s\n",
      "367:\tlearn: 1671.2391577\ttotal: 25s\tremaining: 42.2s\n",
      "368:\tlearn: 1671.1427365\ttotal: 25.1s\tremaining: 42.2s\n",
      "369:\tlearn: 1670.8298264\ttotal: 25.2s\tremaining: 42.1s\n",
      "370:\tlearn: 1670.2930291\ttotal: 25.2s\tremaining: 42s\n",
      "371:\tlearn: 1670.1203518\ttotal: 25.3s\tremaining: 42s\n",
      "372:\tlearn: 1669.7708564\ttotal: 25.4s\tremaining: 41.9s\n",
      "373:\tlearn: 1669.6548666\ttotal: 25.4s\tremaining: 41.8s\n",
      "374:\tlearn: 1669.3120235\ttotal: 25.5s\tremaining: 41.8s\n",
      "375:\tlearn: 1669.1478141\ttotal: 25.5s\tremaining: 41.7s\n",
      "376:\tlearn: 1668.7268182\ttotal: 25.6s\tremaining: 41.6s\n",
      "377:\tlearn: 1668.6014215\ttotal: 25.7s\tremaining: 41.5s\n",
      "378:\tlearn: 1668.1106502\ttotal: 25.7s\tremaining: 41.5s\n",
      "379:\tlearn: 1667.9552334\ttotal: 25.8s\tremaining: 41.4s\n",
      "380:\tlearn: 1667.9316288\ttotal: 25.9s\tremaining: 41.4s\n",
      "381:\tlearn: 1667.7608300\ttotal: 25.9s\tremaining: 41.3s\n",
      "382:\tlearn: 1667.3364127\ttotal: 26s\tremaining: 41.2s\n",
      "383:\tlearn: 1667.1366140\ttotal: 26.1s\tremaining: 41.1s\n",
      "384:\tlearn: 1666.8471903\ttotal: 26.1s\tremaining: 41.1s\n",
      "385:\tlearn: 1666.3619535\ttotal: 26.2s\tremaining: 41s\n",
      "386:\tlearn: 1665.8636960\ttotal: 26.3s\tremaining: 40.9s\n",
      "387:\tlearn: 1665.5817998\ttotal: 26.3s\tremaining: 40.8s\n",
      "388:\tlearn: 1665.1612299\ttotal: 26.4s\tremaining: 40.8s\n",
      "389:\tlearn: 1664.7135923\ttotal: 26.5s\tremaining: 40.7s\n",
      "390:\tlearn: 1664.5052973\ttotal: 26.5s\tremaining: 40.7s\n",
      "391:\tlearn: 1664.3786114\ttotal: 26.6s\tremaining: 40.6s\n",
      "392:\tlearn: 1664.2315391\ttotal: 26.7s\tremaining: 40.5s\n",
      "393:\tlearn: 1663.9950798\ttotal: 26.7s\tremaining: 40.4s\n",
      "394:\tlearn: 1663.7628404\ttotal: 26.8s\tremaining: 40.3s\n",
      "395:\tlearn: 1663.3709155\ttotal: 26.8s\tremaining: 40.2s\n",
      "396:\tlearn: 1663.1926828\ttotal: 26.9s\tremaining: 40.2s\n",
      "397:\tlearn: 1662.9907741\ttotal: 27s\tremaining: 40.1s\n",
      "398:\tlearn: 1662.8057024\ttotal: 27s\tremaining: 40s\n",
      "399:\tlearn: 1662.4691892\ttotal: 27.1s\tremaining: 39.9s\n",
      "400:\tlearn: 1662.3108108\ttotal: 27.1s\tremaining: 39.9s\n",
      "401:\tlearn: 1661.8367816\ttotal: 27.2s\tremaining: 39.8s\n",
      "402:\tlearn: 1661.5999646\ttotal: 27.3s\tremaining: 39.7s\n",
      "403:\tlearn: 1661.0763776\ttotal: 27.3s\tremaining: 39.6s\n",
      "404:\tlearn: 1660.9452584\ttotal: 27.4s\tremaining: 39.6s\n",
      "405:\tlearn: 1660.5263247\ttotal: 27.4s\tremaining: 39.5s\n",
      "406:\tlearn: 1660.4018678\ttotal: 27.5s\tremaining: 39.4s\n",
      "407:\tlearn: 1660.1927097\ttotal: 27.6s\tremaining: 39.3s\n",
      "408:\tlearn: 1659.8965656\ttotal: 27.6s\tremaining: 39.3s\n",
      "409:\tlearn: 1659.7147380\ttotal: 27.7s\tremaining: 39.2s\n",
      "410:\tlearn: 1659.3068184\ttotal: 27.8s\tremaining: 39.2s\n",
      "411:\tlearn: 1658.8420240\ttotal: 27.9s\tremaining: 39.1s\n",
      "412:\tlearn: 1658.4402171\ttotal: 27.9s\tremaining: 39s\n",
      "413:\tlearn: 1658.0364963\ttotal: 28s\tremaining: 38.9s\n",
      "414:\tlearn: 1657.8694200\ttotal: 28s\tremaining: 38.8s\n",
      "415:\tlearn: 1657.8079006\ttotal: 28.1s\tremaining: 38.8s\n",
      "416:\tlearn: 1657.4947799\ttotal: 28.1s\tremaining: 38.7s\n",
      "417:\tlearn: 1657.3055169\ttotal: 28.2s\tremaining: 38.6s\n",
      "418:\tlearn: 1656.6755776\ttotal: 28.3s\tremaining: 38.5s\n",
      "419:\tlearn: 1656.6579794\ttotal: 28.3s\tremaining: 38.4s\n",
      "420:\tlearn: 1656.5083386\ttotal: 28.4s\tremaining: 38.4s\n",
      "421:\tlearn: 1656.2444066\ttotal: 28.5s\tremaining: 38.3s\n",
      "422:\tlearn: 1655.9166149\ttotal: 28.5s\tremaining: 38.2s\n",
      "423:\tlearn: 1655.6982041\ttotal: 28.6s\tremaining: 38.2s\n",
      "424:\tlearn: 1655.6158999\ttotal: 28.6s\tremaining: 38.1s\n",
      "425:\tlearn: 1655.4295713\ttotal: 28.7s\tremaining: 38s\n",
      "426:\tlearn: 1655.0154189\ttotal: 28.7s\tremaining: 37.9s\n",
      "427:\tlearn: 1654.7684340\ttotal: 28.8s\tremaining: 37.8s\n",
      "428:\tlearn: 1654.6653843\ttotal: 28.9s\tremaining: 37.7s\n",
      "429:\tlearn: 1654.2747395\ttotal: 28.9s\tremaining: 37.7s\n",
      "430:\tlearn: 1654.1317750\ttotal: 29s\tremaining: 37.6s\n",
      "431:\tlearn: 1653.8134644\ttotal: 29.1s\tremaining: 37.5s\n",
      "432:\tlearn: 1653.5529184\ttotal: 29.1s\tremaining: 37.5s\n",
      "433:\tlearn: 1653.3399173\ttotal: 29.2s\tremaining: 37.4s\n",
      "434:\tlearn: 1653.1476718\ttotal: 29.3s\tremaining: 37.3s\n",
      "435:\tlearn: 1652.6794906\ttotal: 29.3s\tremaining: 37.3s\n",
      "436:\tlearn: 1652.6615864\ttotal: 29.4s\tremaining: 37.2s\n",
      "437:\tlearn: 1652.5115664\ttotal: 29.5s\tremaining: 37.1s\n",
      "438:\tlearn: 1652.2285698\ttotal: 29.5s\tremaining: 37.1s\n",
      "439:\tlearn: 1652.1178286\ttotal: 29.6s\tremaining: 37s\n",
      "440:\tlearn: 1651.9861067\ttotal: 29.7s\tremaining: 36.9s\n",
      "441:\tlearn: 1651.7998362\ttotal: 29.7s\tremaining: 36.9s\n",
      "442:\tlearn: 1651.5514042\ttotal: 29.8s\tremaining: 36.8s\n",
      "443:\tlearn: 1651.3617666\ttotal: 29.9s\tremaining: 36.8s\n",
      "444:\tlearn: 1650.7914893\ttotal: 30s\tremaining: 36.7s\n",
      "445:\tlearn: 1650.5258542\ttotal: 30s\tremaining: 36.6s\n",
      "446:\tlearn: 1650.3384683\ttotal: 30.1s\tremaining: 36.6s\n",
      "447:\tlearn: 1650.0813060\ttotal: 30.2s\tremaining: 36.5s\n",
      "448:\tlearn: 1649.6607136\ttotal: 30.2s\tremaining: 36.4s\n",
      "449:\tlearn: 1649.5437296\ttotal: 30.3s\tremaining: 36.4s\n",
      "450:\tlearn: 1649.4096355\ttotal: 30.4s\tremaining: 36.3s\n",
      "451:\tlearn: 1649.2370230\ttotal: 30.4s\tremaining: 36.2s\n",
      "452:\tlearn: 1649.0474385\ttotal: 30.5s\tremaining: 36.1s\n",
      "453:\tlearn: 1648.9335553\ttotal: 30.6s\tremaining: 36.1s\n",
      "454:\tlearn: 1648.7119071\ttotal: 30.6s\tremaining: 36s\n",
      "455:\tlearn: 1648.3440779\ttotal: 30.7s\tremaining: 35.9s\n",
      "456:\tlearn: 1648.0215594\ttotal: 30.8s\tremaining: 35.9s\n",
      "457:\tlearn: 1647.7359778\ttotal: 30.8s\tremaining: 35.8s\n",
      "458:\tlearn: 1647.6350840\ttotal: 30.9s\tremaining: 35.7s\n",
      "459:\tlearn: 1647.1881609\ttotal: 31s\tremaining: 35.7s\n",
      "460:\tlearn: 1647.0269359\ttotal: 31s\tremaining: 35.6s\n",
      "461:\tlearn: 1646.8457004\ttotal: 31.1s\tremaining: 35.5s\n",
      "462:\tlearn: 1646.6345112\ttotal: 31.1s\tremaining: 35.4s\n",
      "463:\tlearn: 1646.5057372\ttotal: 31.2s\tremaining: 35.4s\n",
      "464:\tlearn: 1646.0988257\ttotal: 31.3s\tremaining: 35.3s\n",
      "465:\tlearn: 1645.8779107\ttotal: 31.3s\tremaining: 35.2s\n",
      "466:\tlearn: 1645.4791617\ttotal: 31.4s\tremaining: 35.2s\n",
      "467:\tlearn: 1645.1375178\ttotal: 31.5s\tremaining: 35.1s\n",
      "468:\tlearn: 1644.8251278\ttotal: 31.5s\tremaining: 35s\n",
      "469:\tlearn: 1644.5000351\ttotal: 31.6s\tremaining: 35s\n",
      "470:\tlearn: 1644.2054771\ttotal: 31.7s\tremaining: 34.9s\n",
      "471:\tlearn: 1644.0464183\ttotal: 31.7s\tremaining: 34.8s\n",
      "472:\tlearn: 1643.8916557\ttotal: 31.8s\tremaining: 34.7s\n",
      "473:\tlearn: 1643.5589182\ttotal: 31.9s\tremaining: 34.7s\n",
      "474:\tlearn: 1643.2903312\ttotal: 31.9s\tremaining: 34.6s\n",
      "475:\tlearn: 1643.1626011\ttotal: 32s\tremaining: 34.5s\n",
      "476:\tlearn: 1642.9323631\ttotal: 32s\tremaining: 34.5s\n",
      "477:\tlearn: 1642.5850579\ttotal: 32.1s\tremaining: 34.4s\n",
      "478:\tlearn: 1642.3905569\ttotal: 32.2s\tremaining: 34.3s\n",
      "479:\tlearn: 1642.3047140\ttotal: 32.2s\tremaining: 34.2s\n",
      "480:\tlearn: 1642.1446394\ttotal: 32.3s\tremaining: 34.2s\n",
      "481:\tlearn: 1641.8661303\ttotal: 32.3s\tremaining: 34.1s\n",
      "482:\tlearn: 1641.5481700\ttotal: 32.4s\tremaining: 34s\n",
      "483:\tlearn: 1641.2829160\ttotal: 32.5s\tremaining: 34s\n",
      "484:\tlearn: 1641.1495674\ttotal: 32.5s\tremaining: 33.9s\n",
      "485:\tlearn: 1640.9391030\ttotal: 32.6s\tremaining: 33.8s\n",
      "486:\tlearn: 1640.6863388\ttotal: 32.7s\tremaining: 33.8s\n",
      "487:\tlearn: 1640.4224710\ttotal: 32.7s\tremaining: 33.7s\n",
      "488:\tlearn: 1640.1509158\ttotal: 32.8s\tremaining: 33.6s\n",
      "489:\tlearn: 1639.6880741\ttotal: 32.9s\tremaining: 33.5s\n",
      "490:\tlearn: 1639.5119667\ttotal: 32.9s\tremaining: 33.5s\n",
      "491:\tlearn: 1639.3883416\ttotal: 33s\tremaining: 33.4s\n",
      "492:\tlearn: 1639.0493186\ttotal: 33s\tremaining: 33.3s\n",
      "493:\tlearn: 1638.8246545\ttotal: 33.1s\tremaining: 33.3s\n",
      "494:\tlearn: 1638.6543150\ttotal: 33.2s\tremaining: 33.2s\n",
      "495:\tlearn: 1638.4958431\ttotal: 33.3s\tremaining: 33.1s\n",
      "496:\tlearn: 1638.3052322\ttotal: 33.3s\tremaining: 33s\n",
      "497:\tlearn: 1638.1768720\ttotal: 33.4s\tremaining: 33s\n",
      "498:\tlearn: 1637.7923637\ttotal: 33.4s\tremaining: 32.9s\n",
      "499:\tlearn: 1637.5572357\ttotal: 33.5s\tremaining: 32.8s\n",
      "500:\tlearn: 1637.3790611\ttotal: 33.6s\tremaining: 32.8s\n",
      "501:\tlearn: 1637.2985288\ttotal: 33.7s\tremaining: 32.7s\n",
      "502:\tlearn: 1637.0840159\ttotal: 33.7s\tremaining: 32.7s\n",
      "503:\tlearn: 1636.9662482\ttotal: 33.8s\tremaining: 32.6s\n",
      "504:\tlearn: 1636.7674437\ttotal: 33.9s\tremaining: 32.6s\n",
      "505:\tlearn: 1636.6787012\ttotal: 34s\tremaining: 32.5s\n",
      "506:\tlearn: 1636.3896289\ttotal: 34s\tremaining: 32.4s\n",
      "507:\tlearn: 1636.0959826\ttotal: 34.1s\tremaining: 32.4s\n",
      "508:\tlearn: 1635.6799339\ttotal: 34.2s\tremaining: 32.3s\n",
      "509:\tlearn: 1635.3687364\ttotal: 34.3s\tremaining: 32.2s\n",
      "510:\tlearn: 1635.2592789\ttotal: 34.3s\tremaining: 32.2s\n",
      "511:\tlearn: 1635.2079037\ttotal: 34.4s\tremaining: 32.1s\n",
      "512:\tlearn: 1635.0349307\ttotal: 34.5s\tremaining: 32s\n",
      "513:\tlearn: 1634.7909542\ttotal: 34.5s\tremaining: 32s\n",
      "514:\tlearn: 1634.4775837\ttotal: 34.6s\tremaining: 31.9s\n",
      "515:\tlearn: 1634.1958248\ttotal: 34.7s\tremaining: 31.9s\n",
      "516:\tlearn: 1633.9441167\ttotal: 34.7s\tremaining: 31.8s\n",
      "517:\tlearn: 1633.8314865\ttotal: 34.8s\tremaining: 31.7s\n",
      "518:\tlearn: 1633.6067255\ttotal: 34.8s\tremaining: 31.6s\n",
      "519:\tlearn: 1633.4465673\ttotal: 34.9s\tremaining: 31.6s\n",
      "520:\tlearn: 1633.2587071\ttotal: 35s\tremaining: 31.5s\n",
      "521:\tlearn: 1633.1824744\ttotal: 35.1s\tremaining: 31.4s\n",
      "522:\tlearn: 1633.0615669\ttotal: 35.1s\tremaining: 31.4s\n",
      "523:\tlearn: 1632.9920969\ttotal: 35.2s\tremaining: 31.3s\n",
      "524:\tlearn: 1632.8613353\ttotal: 35.2s\tremaining: 31.2s\n",
      "525:\tlearn: 1632.6931033\ttotal: 35.3s\tremaining: 31.1s\n",
      "526:\tlearn: 1632.5977891\ttotal: 35.4s\tremaining: 31.1s\n",
      "527:\tlearn: 1632.2596564\ttotal: 35.5s\tremaining: 31s\n",
      "528:\tlearn: 1632.0737946\ttotal: 35.5s\tremaining: 31s\n",
      "529:\tlearn: 1631.9874080\ttotal: 35.6s\tremaining: 30.9s\n",
      "530:\tlearn: 1631.9085766\ttotal: 35.7s\tremaining: 30.8s\n",
      "531:\tlearn: 1631.8292213\ttotal: 35.7s\tremaining: 30.8s\n",
      "532:\tlearn: 1631.5506923\ttotal: 35.8s\tremaining: 30.7s\n",
      "533:\tlearn: 1631.3396846\ttotal: 35.9s\tremaining: 30.6s\n",
      "534:\tlearn: 1631.1842892\ttotal: 35.9s\tremaining: 30.6s\n",
      "535:\tlearn: 1630.9789815\ttotal: 36s\tremaining: 30.5s\n",
      "536:\tlearn: 1630.6770715\ttotal: 36.1s\tremaining: 30.5s\n",
      "537:\tlearn: 1630.6361371\ttotal: 36.2s\tremaining: 30.4s\n",
      "538:\tlearn: 1630.4545746\ttotal: 36.2s\tremaining: 30.3s\n",
      "539:\tlearn: 1630.3616278\ttotal: 36.3s\tremaining: 30.2s\n",
      "540:\tlearn: 1630.2143304\ttotal: 36.4s\tremaining: 30.2s\n",
      "541:\tlearn: 1629.9200178\ttotal: 36.4s\tremaining: 30.1s\n",
      "542:\tlearn: 1629.6082030\ttotal: 36.5s\tremaining: 30s\n",
      "543:\tlearn: 1629.3074491\ttotal: 36.6s\tremaining: 30s\n",
      "544:\tlearn: 1629.1176251\ttotal: 36.6s\tremaining: 29.9s\n",
      "545:\tlearn: 1628.9556743\ttotal: 36.7s\tremaining: 29.9s\n",
      "546:\tlearn: 1628.7843316\ttotal: 36.8s\tremaining: 29.8s\n",
      "547:\tlearn: 1628.6073681\ttotal: 36.9s\tremaining: 29.7s\n",
      "548:\tlearn: 1628.4101171\ttotal: 36.9s\tremaining: 29.6s\n",
      "549:\tlearn: 1628.2461086\ttotal: 37s\tremaining: 29.6s\n",
      "550:\tlearn: 1628.0696093\ttotal: 37s\tremaining: 29.5s\n",
      "551:\tlearn: 1627.9393283\ttotal: 37.1s\tremaining: 29.5s\n",
      "552:\tlearn: 1627.7631165\ttotal: 37.2s\tremaining: 29.4s\n",
      "553:\tlearn: 1627.1789219\ttotal: 37.3s\tremaining: 29.3s\n",
      "554:\tlearn: 1627.0508422\ttotal: 37.4s\tremaining: 29.3s\n",
      "555:\tlearn: 1626.9721856\ttotal: 37.4s\tremaining: 29.2s\n",
      "556:\tlearn: 1626.6936654\ttotal: 37.5s\tremaining: 29.1s\n",
      "557:\tlearn: 1626.5275825\ttotal: 37.5s\tremaining: 29.1s\n",
      "558:\tlearn: 1626.4042976\ttotal: 37.6s\tremaining: 29s\n",
      "559:\tlearn: 1626.3673970\ttotal: 37.7s\tremaining: 28.9s\n",
      "560:\tlearn: 1625.8794504\ttotal: 37.7s\tremaining: 28.9s\n",
      "561:\tlearn: 1625.6131035\ttotal: 37.8s\tremaining: 28.8s\n",
      "562:\tlearn: 1625.5365802\ttotal: 37.9s\tremaining: 28.7s\n",
      "563:\tlearn: 1625.1143901\ttotal: 37.9s\tremaining: 28.7s\n",
      "564:\tlearn: 1624.8988179\ttotal: 38s\tremaining: 28.6s\n",
      "565:\tlearn: 1624.7518806\ttotal: 38.1s\tremaining: 28.5s\n",
      "566:\tlearn: 1624.6068779\ttotal: 38.1s\tremaining: 28.5s\n",
      "567:\tlearn: 1624.4703005\ttotal: 38.2s\tremaining: 28.4s\n",
      "568:\tlearn: 1624.3731734\ttotal: 38.2s\tremaining: 28.3s\n",
      "569:\tlearn: 1624.0001230\ttotal: 38.3s\tremaining: 28.2s\n",
      "570:\tlearn: 1623.8457348\ttotal: 38.4s\tremaining: 28.2s\n",
      "571:\tlearn: 1623.4961417\ttotal: 38.5s\tremaining: 28.1s\n",
      "572:\tlearn: 1623.2749494\ttotal: 38.5s\tremaining: 28s\n",
      "573:\tlearn: 1623.1202327\ttotal: 38.6s\tremaining: 28s\n",
      "574:\tlearn: 1622.8349575\ttotal: 38.7s\tremaining: 27.9s\n",
      "575:\tlearn: 1622.6708167\ttotal: 38.7s\tremaining: 27.8s\n",
      "576:\tlearn: 1622.4024676\ttotal: 38.8s\tremaining: 27.8s\n",
      "577:\tlearn: 1622.2277620\ttotal: 38.9s\tremaining: 27.7s\n",
      "578:\tlearn: 1622.1034491\ttotal: 38.9s\tremaining: 27.6s\n",
      "579:\tlearn: 1621.9262230\ttotal: 39s\tremaining: 27.5s\n",
      "580:\tlearn: 1621.5978922\ttotal: 39s\tremaining: 27.5s\n",
      "581:\tlearn: 1621.2146263\ttotal: 39.1s\tremaining: 27.4s\n",
      "582:\tlearn: 1621.0789202\ttotal: 39.2s\tremaining: 27.3s\n",
      "583:\tlearn: 1620.9893413\ttotal: 39.2s\tremaining: 27.3s\n",
      "584:\tlearn: 1620.8134104\ttotal: 39.3s\tremaining: 27.2s\n",
      "585:\tlearn: 1620.7128093\ttotal: 39.4s\tremaining: 27.1s\n",
      "586:\tlearn: 1620.6349596\ttotal: 39.4s\tremaining: 27.1s\n",
      "587:\tlearn: 1620.6203251\ttotal: 39.5s\tremaining: 27s\n",
      "588:\tlearn: 1620.3559484\ttotal: 39.5s\tremaining: 26.9s\n",
      "589:\tlearn: 1620.1840093\ttotal: 39.6s\tremaining: 26.9s\n",
      "590:\tlearn: 1620.0730599\ttotal: 39.7s\tremaining: 26.8s\n",
      "591:\tlearn: 1619.7833208\ttotal: 39.8s\tremaining: 26.7s\n",
      "592:\tlearn: 1619.5188962\ttotal: 39.9s\tremaining: 26.7s\n",
      "593:\tlearn: 1619.2979259\ttotal: 39.9s\tremaining: 26.6s\n",
      "594:\tlearn: 1619.1176017\ttotal: 40s\tremaining: 26.6s\n",
      "595:\tlearn: 1618.8640335\ttotal: 40.1s\tremaining: 26.5s\n",
      "596:\tlearn: 1618.6484024\ttotal: 40.1s\tremaining: 26.4s\n",
      "597:\tlearn: 1618.4956007\ttotal: 40.2s\tremaining: 26.4s\n",
      "598:\tlearn: 1618.4871760\ttotal: 40.2s\tremaining: 26.3s\n",
      "599:\tlearn: 1618.4250282\ttotal: 40.3s\tremaining: 26.2s\n",
      "600:\tlearn: 1618.2539550\ttotal: 40.4s\tremaining: 26.1s\n",
      "601:\tlearn: 1618.1255141\ttotal: 40.5s\tremaining: 26.1s\n",
      "602:\tlearn: 1618.0098477\ttotal: 40.5s\tremaining: 26s\n",
      "603:\tlearn: 1617.7591947\ttotal: 40.6s\tremaining: 25.9s\n",
      "604:\tlearn: 1617.3833653\ttotal: 40.6s\tremaining: 25.9s\n",
      "605:\tlearn: 1617.2338965\ttotal: 40.7s\tremaining: 25.8s\n",
      "606:\tlearn: 1617.1739078\ttotal: 40.8s\tremaining: 25.7s\n",
      "607:\tlearn: 1616.8062268\ttotal: 40.8s\tremaining: 25.7s\n",
      "608:\tlearn: 1616.5955544\ttotal: 40.9s\tremaining: 25.6s\n",
      "609:\tlearn: 1616.5109936\ttotal: 41s\tremaining: 25.5s\n",
      "610:\tlearn: 1616.2248797\ttotal: 41.1s\tremaining: 25.5s\n",
      "611:\tlearn: 1616.1387016\ttotal: 41.2s\tremaining: 25.4s\n",
      "612:\tlearn: 1615.8864448\ttotal: 41.2s\tremaining: 25.4s\n",
      "613:\tlearn: 1615.8098339\ttotal: 41.3s\tremaining: 25.3s\n",
      "614:\tlearn: 1615.6635683\ttotal: 41.4s\tremaining: 25.2s\n",
      "615:\tlearn: 1615.5113669\ttotal: 41.4s\tremaining: 25.2s\n",
      "616:\tlearn: 1615.2800313\ttotal: 41.5s\tremaining: 25.1s\n",
      "617:\tlearn: 1615.1120368\ttotal: 41.6s\tremaining: 25s\n",
      "618:\tlearn: 1614.8024155\ttotal: 41.7s\tremaining: 25s\n",
      "619:\tlearn: 1614.7108380\ttotal: 41.7s\tremaining: 24.9s\n",
      "620:\tlearn: 1614.5978687\ttotal: 41.8s\tremaining: 24.8s\n",
      "621:\tlearn: 1614.5208540\ttotal: 41.9s\tremaining: 24.8s\n",
      "622:\tlearn: 1614.4232255\ttotal: 42s\tremaining: 24.7s\n",
      "623:\tlearn: 1614.3416723\ttotal: 42.1s\tremaining: 24.7s\n",
      "624:\tlearn: 1614.1704891\ttotal: 42.1s\tremaining: 24.6s\n",
      "625:\tlearn: 1614.1311260\ttotal: 42.2s\tremaining: 24.5s\n",
      "626:\tlearn: 1613.9994826\ttotal: 42.3s\tremaining: 24.5s\n",
      "627:\tlearn: 1613.9658907\ttotal: 42.4s\tremaining: 24.4s\n",
      "628:\tlearn: 1613.8759276\ttotal: 42.4s\tremaining: 24.4s\n",
      "629:\tlearn: 1613.6824114\ttotal: 42.5s\tremaining: 24.3s\n",
      "630:\tlearn: 1613.3768319\ttotal: 42.6s\tremaining: 24.2s\n",
      "631:\tlearn: 1613.1405859\ttotal: 42.6s\tremaining: 24.1s\n",
      "632:\tlearn: 1613.0355189\ttotal: 42.7s\tremaining: 24.1s\n",
      "633:\tlearn: 1612.8679071\ttotal: 42.8s\tremaining: 24s\n",
      "634:\tlearn: 1612.7204968\ttotal: 42.8s\tremaining: 23.9s\n",
      "635:\tlearn: 1612.5543932\ttotal: 42.9s\tremaining: 23.9s\n",
      "636:\tlearn: 1612.2805487\ttotal: 43s\tremaining: 23.8s\n",
      "637:\tlearn: 1612.1025350\ttotal: 43s\tremaining: 23.7s\n",
      "638:\tlearn: 1611.9987597\ttotal: 43.1s\tremaining: 23.7s\n",
      "639:\tlearn: 1611.8298010\ttotal: 43.2s\tremaining: 23.6s\n",
      "640:\tlearn: 1611.4528022\ttotal: 43.3s\tremaining: 23.6s\n",
      "641:\tlearn: 1611.3358589\ttotal: 43.4s\tremaining: 23.5s\n",
      "642:\tlearn: 1610.9803024\ttotal: 43.5s\tremaining: 23.5s\n",
      "643:\tlearn: 1610.8445903\ttotal: 43.5s\tremaining: 23.4s\n",
      "644:\tlearn: 1610.6235126\ttotal: 43.6s\tremaining: 23.3s\n",
      "645:\tlearn: 1610.4096556\ttotal: 43.7s\tremaining: 23.3s\n",
      "646:\tlearn: 1610.3357979\ttotal: 43.8s\tremaining: 23.2s\n",
      "647:\tlearn: 1610.0784176\ttotal: 43.8s\tremaining: 23.1s\n",
      "648:\tlearn: 1609.8861120\ttotal: 43.9s\tremaining: 23.1s\n",
      "649:\tlearn: 1609.7810446\ttotal: 43.9s\tremaining: 23s\n",
      "650:\tlearn: 1609.6553065\ttotal: 44s\tremaining: 22.9s\n",
      "651:\tlearn: 1609.5684564\ttotal: 44.1s\tremaining: 22.9s\n",
      "652:\tlearn: 1609.4373506\ttotal: 44.1s\tremaining: 22.8s\n",
      "653:\tlearn: 1609.3191432\ttotal: 44.2s\tremaining: 22.7s\n",
      "654:\tlearn: 1609.2728266\ttotal: 44.3s\tremaining: 22.6s\n",
      "655:\tlearn: 1609.2349627\ttotal: 44.4s\tremaining: 22.6s\n",
      "656:\tlearn: 1609.0512556\ttotal: 44.5s\tremaining: 22.5s\n",
      "657:\tlearn: 1608.9665651\ttotal: 44.5s\tremaining: 22.5s\n",
      "658:\tlearn: 1608.8735318\ttotal: 44.6s\tremaining: 22.4s\n",
      "659:\tlearn: 1608.7845946\ttotal: 44.7s\tremaining: 22.3s\n",
      "660:\tlearn: 1608.5560820\ttotal: 44.8s\tremaining: 22.3s\n",
      "661:\tlearn: 1608.4820760\ttotal: 44.8s\tremaining: 22.2s\n",
      "662:\tlearn: 1608.3548180\ttotal: 44.9s\tremaining: 22.1s\n",
      "663:\tlearn: 1608.0733526\ttotal: 45s\tremaining: 22.1s\n",
      "664:\tlearn: 1607.9733488\ttotal: 45s\tremaining: 22s\n",
      "665:\tlearn: 1607.9058969\ttotal: 45.1s\tremaining: 22s\n",
      "666:\tlearn: 1607.7469138\ttotal: 45.2s\tremaining: 21.9s\n",
      "667:\tlearn: 1607.6101178\ttotal: 45.3s\tremaining: 21.8s\n",
      "668:\tlearn: 1607.5483754\ttotal: 45.3s\tremaining: 21.8s\n",
      "669:\tlearn: 1607.3575549\ttotal: 45.4s\tremaining: 21.7s\n",
      "670:\tlearn: 1607.2126505\ttotal: 45.5s\tremaining: 21.6s\n",
      "671:\tlearn: 1607.2023462\ttotal: 45.5s\tremaining: 21.5s\n",
      "672:\tlearn: 1607.1220744\ttotal: 45.6s\tremaining: 21.5s\n",
      "673:\tlearn: 1607.0945497\ttotal: 45.7s\tremaining: 21.4s\n",
      "674:\tlearn: 1606.9552532\ttotal: 45.7s\tremaining: 21.3s\n",
      "675:\tlearn: 1606.9059450\ttotal: 45.8s\tremaining: 21.3s\n",
      "676:\tlearn: 1606.6691194\ttotal: 45.8s\tremaining: 21.2s\n",
      "677:\tlearn: 1606.5206357\ttotal: 45.9s\tremaining: 21.1s\n",
      "678:\tlearn: 1606.3153766\ttotal: 46s\tremaining: 21.1s\n",
      "679:\tlearn: 1606.1800697\ttotal: 46s\tremaining: 21s\n",
      "680:\tlearn: 1605.9598396\ttotal: 46.1s\tremaining: 20.9s\n",
      "681:\tlearn: 1605.7592763\ttotal: 46.2s\tremaining: 20.8s\n",
      "682:\tlearn: 1605.5782809\ttotal: 46.2s\tremaining: 20.8s\n",
      "683:\tlearn: 1605.4445959\ttotal: 46.3s\tremaining: 20.7s\n",
      "684:\tlearn: 1605.2118235\ttotal: 46.4s\tremaining: 20.7s\n",
      "685:\tlearn: 1605.0316417\ttotal: 46.4s\tremaining: 20.6s\n",
      "686:\tlearn: 1604.8699115\ttotal: 46.5s\tremaining: 20.5s\n",
      "687:\tlearn: 1604.7381691\ttotal: 46.5s\tremaining: 20.4s\n",
      "688:\tlearn: 1604.6709777\ttotal: 46.6s\tremaining: 20.4s\n",
      "689:\tlearn: 1604.6377283\ttotal: 46.7s\tremaining: 20.3s\n",
      "690:\tlearn: 1604.5875730\ttotal: 46.8s\tremaining: 20.2s\n",
      "691:\tlearn: 1604.4528480\ttotal: 46.8s\tremaining: 20.2s\n",
      "692:\tlearn: 1604.3055672\ttotal: 46.9s\tremaining: 20.1s\n",
      "693:\tlearn: 1604.1841283\ttotal: 47s\tremaining: 20s\n",
      "694:\tlearn: 1603.9348825\ttotal: 47.1s\tremaining: 20s\n",
      "695:\tlearn: 1603.6984243\ttotal: 47.1s\tremaining: 19.9s\n",
      "696:\tlearn: 1603.6072376\ttotal: 47.2s\tremaining: 19.8s\n",
      "697:\tlearn: 1603.5165258\ttotal: 47.3s\tremaining: 19.8s\n",
      "698:\tlearn: 1603.3263118\ttotal: 47.3s\tremaining: 19.7s\n",
      "699:\tlearn: 1603.0727501\ttotal: 47.4s\tremaining: 19.6s\n",
      "700:\tlearn: 1602.9135291\ttotal: 47.5s\tremaining: 19.6s\n",
      "701:\tlearn: 1602.6814219\ttotal: 47.6s\tremaining: 19.5s\n",
      "702:\tlearn: 1602.4279626\ttotal: 47.6s\tremaining: 19.4s\n",
      "703:\tlearn: 1602.2359065\ttotal: 47.7s\tremaining: 19.4s\n",
      "704:\tlearn: 1602.1824786\ttotal: 47.8s\tremaining: 19.3s\n",
      "705:\tlearn: 1601.9661371\ttotal: 47.8s\tremaining: 19.2s\n",
      "706:\tlearn: 1601.8421381\ttotal: 47.9s\tremaining: 19.2s\n",
      "707:\tlearn: 1601.6668585\ttotal: 48s\tremaining: 19.1s\n",
      "708:\tlearn: 1601.5522539\ttotal: 48s\tremaining: 19s\n",
      "709:\tlearn: 1601.2846272\ttotal: 48.1s\tremaining: 19s\n",
      "710:\tlearn: 1601.1921487\ttotal: 48.2s\tremaining: 18.9s\n",
      "711:\tlearn: 1601.1523176\ttotal: 48.3s\tremaining: 18.8s\n",
      "712:\tlearn: 1601.1324509\ttotal: 48.3s\tremaining: 18.8s\n",
      "713:\tlearn: 1601.0643865\ttotal: 48.4s\tremaining: 18.7s\n",
      "714:\tlearn: 1600.6629168\ttotal: 48.5s\tremaining: 18.6s\n",
      "715:\tlearn: 1600.5676682\ttotal: 48.6s\tremaining: 18.6s\n",
      "716:\tlearn: 1600.4333491\ttotal: 48.6s\tremaining: 18.5s\n",
      "717:\tlearn: 1600.2084608\ttotal: 48.7s\tremaining: 18.4s\n",
      "718:\tlearn: 1599.9341831\ttotal: 48.8s\tremaining: 18.4s\n",
      "719:\tlearn: 1599.8312993\ttotal: 48.8s\tremaining: 18.3s\n",
      "720:\tlearn: 1599.7136022\ttotal: 48.9s\tremaining: 18.2s\n",
      "721:\tlearn: 1599.5211399\ttotal: 49s\tremaining: 18.2s\n",
      "722:\tlearn: 1599.3746130\ttotal: 49.1s\tremaining: 18.1s\n",
      "723:\tlearn: 1599.1279675\ttotal: 49.1s\tremaining: 18.1s\n",
      "724:\tlearn: 1598.7497487\ttotal: 49.2s\tremaining: 18s\n",
      "725:\tlearn: 1598.6121484\ttotal: 49.3s\tremaining: 17.9s\n",
      "726:\tlearn: 1598.4561693\ttotal: 49.3s\tremaining: 17.8s\n",
      "727:\tlearn: 1598.4222572\ttotal: 49.4s\tremaining: 17.8s\n",
      "728:\tlearn: 1598.1294570\ttotal: 49.5s\tremaining: 17.7s\n",
      "729:\tlearn: 1597.8325077\ttotal: 49.5s\tremaining: 17.6s\n",
      "730:\tlearn: 1597.7140326\ttotal: 49.6s\tremaining: 17.6s\n",
      "731:\tlearn: 1597.6367223\ttotal: 49.7s\tremaining: 17.5s\n",
      "732:\tlearn: 1597.3637964\ttotal: 49.7s\tremaining: 17.4s\n",
      "733:\tlearn: 1597.2859575\ttotal: 49.8s\tremaining: 17.4s\n",
      "734:\tlearn: 1597.0161390\ttotal: 49.8s\tremaining: 17.3s\n",
      "735:\tlearn: 1596.9676194\ttotal: 49.9s\tremaining: 17.2s\n",
      "736:\tlearn: 1596.8994787\ttotal: 50s\tremaining: 17.2s\n",
      "737:\tlearn: 1596.7051072\ttotal: 50.1s\tremaining: 17.1s\n",
      "738:\tlearn: 1596.4152650\ttotal: 50.1s\tremaining: 17s\n",
      "739:\tlearn: 1596.3584896\ttotal: 50.2s\tremaining: 17s\n",
      "740:\tlearn: 1596.2052168\ttotal: 50.3s\tremaining: 16.9s\n",
      "741:\tlearn: 1596.1235092\ttotal: 50.3s\tremaining: 16.8s\n",
      "742:\tlearn: 1595.9079232\ttotal: 50.4s\tremaining: 16.8s\n",
      "743:\tlearn: 1595.8491462\ttotal: 50.5s\tremaining: 16.7s\n",
      "744:\tlearn: 1595.6684490\ttotal: 50.6s\tremaining: 16.6s\n",
      "745:\tlearn: 1595.5598322\ttotal: 50.7s\tremaining: 16.6s\n",
      "746:\tlearn: 1595.3603672\ttotal: 50.7s\tremaining: 16.5s\n",
      "747:\tlearn: 1595.3075852\ttotal: 50.8s\tremaining: 16.4s\n",
      "748:\tlearn: 1595.2137481\ttotal: 50.9s\tremaining: 16.4s\n",
      "749:\tlearn: 1595.0790979\ttotal: 50.9s\tremaining: 16.3s\n",
      "750:\tlearn: 1595.0224948\ttotal: 51s\tremaining: 16.2s\n",
      "751:\tlearn: 1594.9902648\ttotal: 51s\tremaining: 16.2s\n",
      "752:\tlearn: 1594.9461512\ttotal: 51.1s\tremaining: 16.1s\n",
      "753:\tlearn: 1594.7811126\ttotal: 51.2s\tremaining: 16s\n",
      "754:\tlearn: 1594.4710519\ttotal: 51.2s\tremaining: 16s\n",
      "755:\tlearn: 1594.3949678\ttotal: 51.3s\tremaining: 15.9s\n",
      "756:\tlearn: 1594.3014226\ttotal: 51.4s\tremaining: 15.8s\n",
      "757:\tlearn: 1594.2190637\ttotal: 51.5s\tremaining: 15.8s\n",
      "758:\tlearn: 1594.0902400\ttotal: 51.5s\tremaining: 15.7s\n",
      "759:\tlearn: 1593.8820271\ttotal: 51.6s\tremaining: 15.6s\n",
      "760:\tlearn: 1593.7788320\ttotal: 51.6s\tremaining: 15.5s\n",
      "761:\tlearn: 1593.7413936\ttotal: 51.7s\tremaining: 15.5s\n",
      "762:\tlearn: 1593.6516077\ttotal: 51.8s\tremaining: 15.4s\n",
      "763:\tlearn: 1593.6255315\ttotal: 51.8s\tremaining: 15.3s\n",
      "764:\tlearn: 1593.4892458\ttotal: 51.9s\tremaining: 15.3s\n",
      "765:\tlearn: 1593.4517272\ttotal: 52s\tremaining: 15.2s\n",
      "766:\tlearn: 1593.4142406\ttotal: 52.1s\tremaining: 15.1s\n",
      "767:\tlearn: 1593.2992286\ttotal: 52.1s\tremaining: 15.1s\n",
      "768:\tlearn: 1593.1083470\ttotal: 52.2s\tremaining: 15s\n",
      "769:\tlearn: 1593.0815863\ttotal: 52.3s\tremaining: 14.9s\n",
      "770:\tlearn: 1593.0342207\ttotal: 52.4s\tremaining: 14.9s\n",
      "771:\tlearn: 1592.8584898\ttotal: 52.4s\tremaining: 14.8s\n",
      "772:\tlearn: 1592.6831881\ttotal: 52.6s\tremaining: 14.8s\n",
      "773:\tlearn: 1592.5407743\ttotal: 52.7s\tremaining: 14.7s\n",
      "774:\tlearn: 1592.3376804\ttotal: 52.8s\tremaining: 14.6s\n",
      "775:\tlearn: 1592.1334222\ttotal: 52.9s\tremaining: 14.6s\n",
      "776:\tlearn: 1591.9378277\ttotal: 52.9s\tremaining: 14.5s\n",
      "777:\tlearn: 1591.7657099\ttotal: 53s\tremaining: 14.4s\n",
      "778:\tlearn: 1591.5978371\ttotal: 53.1s\tremaining: 14.4s\n",
      "779:\tlearn: 1591.5192842\ttotal: 53.2s\tremaining: 14.3s\n",
      "780:\tlearn: 1591.3465440\ttotal: 53.2s\tremaining: 14.2s\n",
      "781:\tlearn: 1591.2518500\ttotal: 53.3s\tremaining: 14.2s\n",
      "782:\tlearn: 1591.0872512\ttotal: 53.4s\tremaining: 14.1s\n",
      "783:\tlearn: 1590.9916708\ttotal: 53.5s\tremaining: 14.1s\n",
      "784:\tlearn: 1590.9501433\ttotal: 53.5s\tremaining: 14s\n",
      "785:\tlearn: 1590.7346099\ttotal: 53.6s\tremaining: 13.9s\n",
      "786:\tlearn: 1590.4800271\ttotal: 53.6s\tremaining: 13.8s\n",
      "787:\tlearn: 1590.2992784\ttotal: 53.7s\tremaining: 13.8s\n",
      "788:\tlearn: 1590.2064247\ttotal: 53.8s\tremaining: 13.7s\n",
      "789:\tlearn: 1590.1840245\ttotal: 53.8s\tremaining: 13.6s\n",
      "790:\tlearn: 1590.0051329\ttotal: 53.9s\tremaining: 13.6s\n",
      "791:\tlearn: 1589.6984438\ttotal: 54s\tremaining: 13.5s\n",
      "792:\tlearn: 1589.6128404\ttotal: 54s\tremaining: 13.4s\n",
      "793:\tlearn: 1589.4881545\ttotal: 54.1s\tremaining: 13.4s\n",
      "794:\tlearn: 1589.3733556\ttotal: 54.2s\tremaining: 13.3s\n",
      "795:\tlearn: 1589.2290460\ttotal: 54.2s\tremaining: 13.2s\n",
      "796:\tlearn: 1588.7584176\ttotal: 54.3s\tremaining: 13.2s\n",
      "797:\tlearn: 1588.4893378\ttotal: 54.4s\tremaining: 13.1s\n",
      "798:\tlearn: 1588.3663599\ttotal: 54.5s\tremaining: 13s\n",
      "799:\tlearn: 1588.1481523\ttotal: 54.5s\tremaining: 12.9s\n",
      "800:\tlearn: 1588.0750553\ttotal: 54.6s\tremaining: 12.9s\n",
      "801:\tlearn: 1588.0345131\ttotal: 54.6s\tremaining: 12.8s\n",
      "802:\tlearn: 1587.9362791\ttotal: 54.7s\tremaining: 12.7s\n",
      "803:\tlearn: 1587.7383596\ttotal: 54.7s\tremaining: 12.7s\n",
      "804:\tlearn: 1587.5908371\ttotal: 54.8s\tremaining: 12.6s\n",
      "805:\tlearn: 1587.5583828\ttotal: 54.8s\tremaining: 12.5s\n",
      "806:\tlearn: 1587.4175923\ttotal: 54.9s\tremaining: 12.5s\n",
      "807:\tlearn: 1587.1761730\ttotal: 55s\tremaining: 12.4s\n",
      "808:\tlearn: 1586.9589184\ttotal: 55.1s\tremaining: 12.3s\n",
      "809:\tlearn: 1586.8352071\ttotal: 55.1s\tremaining: 12.2s\n",
      "810:\tlearn: 1586.6955195\ttotal: 55.2s\tremaining: 12.2s\n",
      "811:\tlearn: 1586.4898696\ttotal: 55.3s\tremaining: 12.1s\n",
      "812:\tlearn: 1586.2475985\ttotal: 55.3s\tremaining: 12s\n",
      "813:\tlearn: 1586.0706829\ttotal: 55.4s\tremaining: 12s\n",
      "814:\tlearn: 1585.9941295\ttotal: 55.4s\tremaining: 11.9s\n",
      "815:\tlearn: 1585.8590973\ttotal: 55.5s\tremaining: 11.8s\n",
      "816:\tlearn: 1585.7838499\ttotal: 55.6s\tremaining: 11.8s\n",
      "817:\tlearn: 1585.7602953\ttotal: 55.6s\tremaining: 11.7s\n",
      "818:\tlearn: 1585.6191094\ttotal: 55.7s\tremaining: 11.6s\n",
      "819:\tlearn: 1585.5244532\ttotal: 55.8s\tremaining: 11.6s\n",
      "820:\tlearn: 1585.4513995\ttotal: 55.8s\tremaining: 11.5s\n",
      "821:\tlearn: 1585.2921705\ttotal: 55.9s\tremaining: 11.4s\n",
      "822:\tlearn: 1585.2072312\ttotal: 56s\tremaining: 11.4s\n",
      "823:\tlearn: 1585.1310260\ttotal: 56s\tremaining: 11.3s\n",
      "824:\tlearn: 1584.9947119\ttotal: 56.1s\tremaining: 11.2s\n",
      "825:\tlearn: 1584.8647629\ttotal: 56.2s\tremaining: 11.2s\n",
      "826:\tlearn: 1584.6642602\ttotal: 56.2s\tremaining: 11.1s\n",
      "827:\tlearn: 1584.5337906\ttotal: 56.3s\tremaining: 11s\n",
      "828:\tlearn: 1584.2590638\ttotal: 56.4s\tremaining: 11s\n",
      "829:\tlearn: 1583.9969519\ttotal: 56.5s\tremaining: 10.9s\n",
      "830:\tlearn: 1583.9122654\ttotal: 56.5s\tremaining: 10.8s\n",
      "831:\tlearn: 1583.7077002\ttotal: 56.6s\tremaining: 10.8s\n",
      "832:\tlearn: 1583.6179942\ttotal: 56.7s\tremaining: 10.7s\n",
      "833:\tlearn: 1583.4134750\ttotal: 56.7s\tremaining: 10.6s\n",
      "834:\tlearn: 1583.2168973\ttotal: 56.8s\tremaining: 10.5s\n",
      "835:\tlearn: 1583.1420724\ttotal: 56.9s\tremaining: 10.5s\n",
      "836:\tlearn: 1583.0742072\ttotal: 57s\tremaining: 10.4s\n",
      "837:\tlearn: 1582.8926848\ttotal: 57s\tremaining: 10.3s\n",
      "838:\tlearn: 1582.6201787\ttotal: 57.1s\tremaining: 10.3s\n",
      "839:\tlearn: 1582.5096836\ttotal: 57.2s\tremaining: 10.2s\n",
      "840:\tlearn: 1582.4570776\ttotal: 57.3s\tremaining: 10.1s\n",
      "841:\tlearn: 1582.2985912\ttotal: 57.3s\tremaining: 10.1s\n",
      "842:\tlearn: 1582.1318704\ttotal: 57.4s\tremaining: 10s\n",
      "843:\tlearn: 1582.0762214\ttotal: 57.4s\tremaining: 9.94s\n",
      "844:\tlearn: 1581.9779368\ttotal: 57.5s\tremaining: 9.87s\n",
      "845:\tlearn: 1581.9234526\ttotal: 57.6s\tremaining: 9.8s\n",
      "846:\tlearn: 1581.8580276\ttotal: 57.6s\tremaining: 9.73s\n",
      "847:\tlearn: 1581.6631697\ttotal: 57.7s\tremaining: 9.66s\n",
      "848:\tlearn: 1581.6248600\ttotal: 57.8s\tremaining: 9.59s\n",
      "849:\tlearn: 1581.6061290\ttotal: 57.8s\tremaining: 9.52s\n",
      "850:\tlearn: 1581.4331913\ttotal: 57.9s\tremaining: 9.46s\n",
      "851:\tlearn: 1581.4099486\ttotal: 58s\tremaining: 9.39s\n",
      "852:\tlearn: 1581.3637273\ttotal: 58s\tremaining: 9.32s\n",
      "853:\tlearn: 1581.2920272\ttotal: 58.1s\tremaining: 9.25s\n",
      "854:\tlearn: 1581.0930503\ttotal: 58.2s\tremaining: 9.19s\n",
      "855:\tlearn: 1580.9900098\ttotal: 58.3s\tremaining: 9.12s\n",
      "856:\tlearn: 1580.9276956\ttotal: 58.3s\tremaining: 9.05s\n",
      "857:\tlearn: 1580.7185221\ttotal: 58.4s\tremaining: 8.98s\n",
      "858:\tlearn: 1580.4889736\ttotal: 58.5s\tremaining: 8.91s\n",
      "859:\tlearn: 1580.4066551\ttotal: 58.5s\tremaining: 8.84s\n",
      "860:\tlearn: 1580.3509334\ttotal: 58.6s\tremaining: 8.78s\n",
      "861:\tlearn: 1580.2087855\ttotal: 58.6s\tremaining: 8.7s\n",
      "862:\tlearn: 1580.1632766\ttotal: 58.7s\tremaining: 8.64s\n",
      "863:\tlearn: 1580.0127762\ttotal: 58.8s\tremaining: 8.57s\n",
      "864:\tlearn: 1579.9679808\ttotal: 58.8s\tremaining: 8.5s\n",
      "865:\tlearn: 1579.9101374\ttotal: 58.9s\tremaining: 8.43s\n",
      "866:\tlearn: 1579.7366051\ttotal: 59s\tremaining: 8.37s\n",
      "867:\tlearn: 1579.6490076\ttotal: 59s\tremaining: 8.3s\n",
      "868:\tlearn: 1579.6075099\ttotal: 59.1s\tremaining: 8.23s\n",
      "869:\tlearn: 1579.4692763\ttotal: 59.2s\tremaining: 8.16s\n",
      "870:\tlearn: 1579.3920412\ttotal: 59.2s\tremaining: 8.09s\n",
      "871:\tlearn: 1579.2544283\ttotal: 59.3s\tremaining: 8.02s\n",
      "872:\tlearn: 1579.2079231\ttotal: 59.3s\tremaining: 7.95s\n",
      "873:\tlearn: 1578.9350204\ttotal: 59.4s\tremaining: 7.89s\n",
      "874:\tlearn: 1578.8774020\ttotal: 59.5s\tremaining: 7.82s\n",
      "875:\tlearn: 1578.6881551\ttotal: 59.6s\tremaining: 7.75s\n",
      "876:\tlearn: 1578.6226969\ttotal: 59.7s\tremaining: 7.69s\n",
      "877:\tlearn: 1578.5122188\ttotal: 59.7s\tremaining: 7.62s\n",
      "878:\tlearn: 1578.3925408\ttotal: 59.8s\tremaining: 7.55s\n",
      "879:\tlearn: 1578.3274529\ttotal: 59.9s\tremaining: 7.49s\n",
      "880:\tlearn: 1578.2009998\ttotal: 60s\tremaining: 7.42s\n",
      "881:\tlearn: 1578.1490904\ttotal: 1m\tremaining: 7.35s\n",
      "882:\tlearn: 1578.0906817\ttotal: 1m\tremaining: 7.28s\n",
      "883:\tlearn: 1577.9749523\ttotal: 1m\tremaining: 7.21s\n",
      "884:\tlearn: 1577.8493432\ttotal: 1m\tremaining: 7.15s\n",
      "885:\tlearn: 1577.8112473\ttotal: 1m\tremaining: 7.08s\n",
      "886:\tlearn: 1577.8091368\ttotal: 1m\tremaining: 7.01s\n",
      "887:\tlearn: 1577.6560733\ttotal: 1m\tremaining: 6.94s\n",
      "888:\tlearn: 1577.5584113\ttotal: 1m\tremaining: 6.87s\n",
      "889:\tlearn: 1577.4737190\ttotal: 1m\tremaining: 6.81s\n",
      "890:\tlearn: 1577.3031530\ttotal: 1m\tremaining: 6.74s\n",
      "891:\tlearn: 1577.2795309\ttotal: 1m\tremaining: 6.67s\n",
      "892:\tlearn: 1577.0053220\ttotal: 1m\tremaining: 6.6s\n",
      "893:\tlearn: 1576.9530322\ttotal: 1m\tremaining: 6.53s\n",
      "894:\tlearn: 1576.8681926\ttotal: 1m\tremaining: 6.46s\n",
      "895:\tlearn: 1576.6968010\ttotal: 1m\tremaining: 6.39s\n",
      "896:\tlearn: 1576.5945973\ttotal: 1m 1s\tremaining: 6.33s\n",
      "897:\tlearn: 1576.5578509\ttotal: 1m 1s\tremaining: 6.26s\n",
      "898:\tlearn: 1576.4422450\ttotal: 1m 1s\tremaining: 6.19s\n",
      "899:\tlearn: 1576.4000213\ttotal: 1m 1s\tremaining: 6.12s\n",
      "900:\tlearn: 1576.2788274\ttotal: 1m 1s\tremaining: 6.06s\n",
      "901:\tlearn: 1576.2493056\ttotal: 1m 1s\tremaining: 5.99s\n",
      "902:\tlearn: 1576.0906188\ttotal: 1m 1s\tremaining: 5.92s\n",
      "903:\tlearn: 1576.0138453\ttotal: 1m 1s\tremaining: 5.85s\n",
      "904:\tlearn: 1575.9712577\ttotal: 1m 1s\tremaining: 5.79s\n",
      "905:\tlearn: 1575.9291902\ttotal: 1m 1s\tremaining: 5.72s\n",
      "906:\tlearn: 1575.7926188\ttotal: 1m 1s\tremaining: 5.65s\n",
      "907:\tlearn: 1575.7166981\ttotal: 1m 1s\tremaining: 5.58s\n",
      "908:\tlearn: 1575.6869169\ttotal: 1m 1s\tremaining: 5.51s\n",
      "909:\tlearn: 1575.6216605\ttotal: 1m 1s\tremaining: 5.45s\n",
      "910:\tlearn: 1575.2916307\ttotal: 1m 2s\tremaining: 5.38s\n",
      "911:\tlearn: 1575.2736204\ttotal: 1m 2s\tremaining: 5.31s\n",
      "912:\tlearn: 1575.1722112\ttotal: 1m 2s\tremaining: 5.24s\n",
      "913:\tlearn: 1575.1443384\ttotal: 1m 2s\tremaining: 5.17s\n",
      "914:\tlearn: 1575.1074014\ttotal: 1m 2s\tremaining: 5.11s\n",
      "915:\tlearn: 1575.0616103\ttotal: 1m 2s\tremaining: 5.04s\n",
      "916:\tlearn: 1574.6674611\ttotal: 1m 2s\tremaining: 4.97s\n",
      "917:\tlearn: 1574.6468056\ttotal: 1m 2s\tremaining: 4.91s\n",
      "918:\tlearn: 1574.5102746\ttotal: 1m 2s\tremaining: 4.84s\n",
      "919:\tlearn: 1574.3384999\ttotal: 1m 2s\tremaining: 4.77s\n",
      "920:\tlearn: 1574.2283370\ttotal: 1m 2s\tremaining: 4.7s\n",
      "921:\tlearn: 1574.1807695\ttotal: 1m 2s\tremaining: 4.63s\n",
      "922:\tlearn: 1574.1191717\ttotal: 1m 2s\tremaining: 4.57s\n",
      "923:\tlearn: 1573.9493890\ttotal: 1m 2s\tremaining: 4.5s\n",
      "924:\tlearn: 1573.9426998\ttotal: 1m 3s\tremaining: 4.43s\n",
      "925:\tlearn: 1573.9069741\ttotal: 1m 3s\tremaining: 4.36s\n",
      "926:\tlearn: 1573.8688819\ttotal: 1m 3s\tremaining: 4.29s\n",
      "927:\tlearn: 1573.8038173\ttotal: 1m 3s\tremaining: 4.22s\n",
      "928:\tlearn: 1573.7138241\ttotal: 1m 3s\tremaining: 4.16s\n",
      "929:\tlearn: 1573.4842313\ttotal: 1m 3s\tremaining: 4.09s\n",
      "930:\tlearn: 1573.3577722\ttotal: 1m 3s\tremaining: 4.02s\n",
      "931:\tlearn: 1573.2373617\ttotal: 1m 3s\tremaining: 3.95s\n",
      "932:\tlearn: 1573.1585529\ttotal: 1m 3s\tremaining: 3.88s\n",
      "933:\tlearn: 1573.0452751\ttotal: 1m 3s\tremaining: 3.81s\n",
      "934:\tlearn: 1572.9025894\ttotal: 1m 3s\tremaining: 3.75s\n",
      "935:\tlearn: 1572.8327541\ttotal: 1m 3s\tremaining: 3.68s\n",
      "936:\tlearn: 1572.6003042\ttotal: 1m 3s\tremaining: 3.61s\n",
      "937:\tlearn: 1572.5412617\ttotal: 1m 3s\tremaining: 3.54s\n",
      "938:\tlearn: 1572.4359640\ttotal: 1m 3s\tremaining: 3.47s\n",
      "939:\tlearn: 1572.3815261\ttotal: 1m 4s\tremaining: 3.4s\n",
      "940:\tlearn: 1572.3500403\ttotal: 1m 4s\tremaining: 3.34s\n",
      "941:\tlearn: 1572.2260731\ttotal: 1m 4s\tremaining: 3.27s\n",
      "942:\tlearn: 1572.1660490\ttotal: 1m 4s\tremaining: 3.2s\n",
      "943:\tlearn: 1572.0998838\ttotal: 1m 4s\tremaining: 3.13s\n",
      "944:\tlearn: 1571.9002289\ttotal: 1m 4s\tremaining: 3.06s\n",
      "945:\tlearn: 1571.7730230\ttotal: 1m 4s\tremaining: 3s\n",
      "946:\tlearn: 1571.6705261\ttotal: 1m 4s\tremaining: 2.93s\n",
      "947:\tlearn: 1571.6279908\ttotal: 1m 4s\tremaining: 2.86s\n",
      "948:\tlearn: 1571.5892653\ttotal: 1m 4s\tremaining: 2.79s\n",
      "949:\tlearn: 1571.3509191\ttotal: 1m 4s\tremaining: 2.73s\n",
      "950:\tlearn: 1571.2054454\ttotal: 1m 4s\tremaining: 2.66s\n",
      "951:\tlearn: 1571.0667154\ttotal: 1m 4s\tremaining: 2.59s\n",
      "952:\tlearn: 1571.0436295\ttotal: 1m 4s\tremaining: 2.52s\n",
      "953:\tlearn: 1570.9601775\ttotal: 1m 5s\tremaining: 2.45s\n",
      "954:\tlearn: 1570.9283257\ttotal: 1m 5s\tremaining: 2.38s\n",
      "955:\tlearn: 1570.8206156\ttotal: 1m 5s\tremaining: 2.32s\n",
      "956:\tlearn: 1570.7156874\ttotal: 1m 5s\tremaining: 2.25s\n",
      "957:\tlearn: 1570.6224742\ttotal: 1m 5s\tremaining: 2.18s\n",
      "958:\tlearn: 1570.3111517\ttotal: 1m 5s\tremaining: 2.11s\n",
      "959:\tlearn: 1570.2591907\ttotal: 1m 5s\tremaining: 2.04s\n",
      "960:\tlearn: 1570.1966921\ttotal: 1m 5s\tremaining: 1.98s\n",
      "961:\tlearn: 1570.0123275\ttotal: 1m 5s\tremaining: 1.91s\n",
      "962:\tlearn: 1569.7694622\ttotal: 1m 5s\tremaining: 1.84s\n",
      "963:\tlearn: 1569.7329549\ttotal: 1m 5s\tremaining: 1.77s\n",
      "964:\tlearn: 1569.7258518\ttotal: 1m 5s\tremaining: 1.7s\n",
      "965:\tlearn: 1569.6958923\ttotal: 1m 5s\tremaining: 1.64s\n",
      "966:\tlearn: 1569.6823744\ttotal: 1m 5s\tremaining: 1.57s\n",
      "967:\tlearn: 1569.5418902\ttotal: 1m 6s\tremaining: 1.5s\n",
      "968:\tlearn: 1569.5174563\ttotal: 1m 6s\tremaining: 1.43s\n",
      "969:\tlearn: 1569.4723786\ttotal: 1m 6s\tremaining: 1.36s\n",
      "970:\tlearn: 1569.3330489\ttotal: 1m 6s\tremaining: 1.29s\n",
      "971:\tlearn: 1569.2236909\ttotal: 1m 6s\tremaining: 1.23s\n",
      "972:\tlearn: 1569.0541359\ttotal: 1m 6s\tremaining: 1.16s\n",
      "973:\tlearn: 1568.9829042\ttotal: 1m 6s\tremaining: 1.09s\n",
      "974:\tlearn: 1568.9281039\ttotal: 1m 6s\tremaining: 1.02s\n",
      "975:\tlearn: 1568.8641478\ttotal: 1m 6s\tremaining: 955ms\n",
      "976:\tlearn: 1568.8040697\ttotal: 1m 6s\tremaining: 887ms\n",
      "977:\tlearn: 1568.8011417\ttotal: 1m 6s\tremaining: 819ms\n",
      "978:\tlearn: 1568.5514398\ttotal: 1m 6s\tremaining: 751ms\n",
      "979:\tlearn: 1568.4522402\ttotal: 1m 6s\tremaining: 682ms\n",
      "980:\tlearn: 1568.3558839\ttotal: 1m 6s\tremaining: 614ms\n",
      "981:\tlearn: 1568.2988310\ttotal: 1m 7s\tremaining: 546ms\n",
      "982:\tlearn: 1568.1508455\ttotal: 1m 7s\tremaining: 478ms\n",
      "983:\tlearn: 1568.1026149\ttotal: 1m 7s\tremaining: 409ms\n",
      "984:\tlearn: 1567.9808100\ttotal: 1m 7s\tremaining: 341ms\n",
      "985:\tlearn: 1567.7476786\ttotal: 1m 7s\tremaining: 273ms\n",
      "986:\tlearn: 1567.7093637\ttotal: 1m 7s\tremaining: 205ms\n",
      "987:\tlearn: 1567.6770157\ttotal: 1m 7s\tremaining: 136ms\n",
      "988:\tlearn: 1567.5842395\ttotal: 1m 7s\tremaining: 68.2ms\n",
      "989:\tlearn: 1567.3531458\ttotal: 1m 7s\tremaining: 0us\n"
     ]
    },
    {
     "data": {
      "application/vnd.jupyter.widget-view+json": {
       "model_id": "0590e64baad94513b67faeb0f0cc52fe",
       "version_major": 2,
       "version_minor": 0
      },
      "text/plain": [
       "MetricVisualizer(layout=Layout(align_self='stretch', height='500px'))"
      ]
     },
     "metadata": {},
     "output_type": "display_data"
    },
    {
     "name": "stdout",
     "output_type": "stream",
     "text": [
      "Learning rate set to 0.094137\n",
      "0:\tlearn: 4270.9967512\ttotal: 189ms\tremaining: 3m 9s\n",
      "100:\tlearn: 1814.7350909\ttotal: 13.4s\tremaining: 1m 59s\n",
      "200:\tlearn: 1730.8580126\ttotal: 26.6s\tremaining: 1m 45s\n",
      "300:\tlearn: 1687.1351904\ttotal: 40.1s\tremaining: 1m 33s\n",
      "400:\tlearn: 1661.1033353\ttotal: 53.4s\tremaining: 1m 19s\n",
      "500:\tlearn: 1639.8473668\ttotal: 1m 6s\tremaining: 1m 6s\n",
      "600:\tlearn: 1623.3726159\ttotal: 1m 20s\tremaining: 53.6s\n",
      "700:\tlearn: 1609.7369084\ttotal: 1m 34s\tremaining: 40.4s\n",
      "800:\tlearn: 1596.4610316\ttotal: 1m 49s\tremaining: 27.3s\n",
      "900:\tlearn: 1584.9770387\ttotal: 2m 3s\tremaining: 13.6s\n",
      "999:\tlearn: 1576.0929785\ttotal: 2m 17s\tremaining: 0us\n",
      "Learning rate set to 0.084372\n",
      "0:\tlearn: 4283.4689248\ttotal: 87.3ms\tremaining: 1m 27s\n",
      "1:\tlearn: 4061.0338609\ttotal: 170ms\tremaining: 1m 24s\n",
      "2:\tlearn: 3866.0555463\ttotal: 267ms\tremaining: 1m 28s\n",
      "3:\tlearn: 3685.3833385\ttotal: 368ms\tremaining: 1m 31s\n",
      "4:\tlearn: 3524.4642423\ttotal: 448ms\tremaining: 1m 29s\n",
      "5:\tlearn: 3384.4926029\ttotal: 516ms\tremaining: 1m 25s\n",
      "6:\tlearn: 3257.6179338\ttotal: 608ms\tremaining: 1m 26s\n",
      "7:\tlearn: 3143.0663347\ttotal: 699ms\tremaining: 1m 26s\n",
      "8:\tlearn: 3030.5877581\ttotal: 784ms\tremaining: 1m 26s\n",
      "9:\tlearn: 2933.2493068\ttotal: 865ms\tremaining: 1m 25s\n",
      "10:\tlearn: 2844.1490168\ttotal: 953ms\tremaining: 1m 25s\n",
      "11:\tlearn: 2766.3806071\ttotal: 1.03s\tremaining: 1m 25s\n",
      "12:\tlearn: 2699.2707581\ttotal: 1.12s\tremaining: 1m 24s\n",
      "13:\tlearn: 2636.2259873\ttotal: 1.2s\tremaining: 1m 24s\n",
      "14:\tlearn: 2575.4707530\ttotal: 1.28s\tremaining: 1m 24s\n",
      "15:\tlearn: 2525.6515751\ttotal: 1.36s\tremaining: 1m 23s\n",
      "16:\tlearn: 2480.4671973\ttotal: 1.43s\tremaining: 1m 22s\n",
      "17:\tlearn: 2440.7420428\ttotal: 1.5s\tremaining: 1m 21s\n",
      "18:\tlearn: 2399.1730536\ttotal: 1.58s\tremaining: 1m 21s\n",
      "19:\tlearn: 2358.1261120\ttotal: 1.65s\tremaining: 1m 20s\n",
      "20:\tlearn: 2319.8278635\ttotal: 1.72s\tremaining: 1m 20s\n",
      "21:\tlearn: 2285.7455719\ttotal: 1.8s\tremaining: 1m 19s\n",
      "22:\tlearn: 2256.0045519\ttotal: 1.87s\tremaining: 1m 19s\n",
      "23:\tlearn: 2226.2169735\ttotal: 1.95s\tremaining: 1m 19s\n",
      "24:\tlearn: 2196.4862273\ttotal: 2.02s\tremaining: 1m 18s\n",
      "25:\tlearn: 2173.4924572\ttotal: 2.09s\tremaining: 1m 18s\n",
      "26:\tlearn: 2150.5174001\ttotal: 2.15s\tremaining: 1m 17s\n",
      "27:\tlearn: 2133.0278951\ttotal: 2.2s\tremaining: 1m 16s\n",
      "28:\tlearn: 2116.1810506\ttotal: 2.27s\tremaining: 1m 16s\n",
      "29:\tlearn: 2100.6443795\ttotal: 2.35s\tremaining: 1m 15s\n",
      "30:\tlearn: 2085.6883906\ttotal: 2.41s\tremaining: 1m 15s\n",
      "31:\tlearn: 2073.8672339\ttotal: 2.46s\tremaining: 1m 14s\n",
      "32:\tlearn: 2062.8212307\ttotal: 2.52s\tremaining: 1m 13s\n",
      "33:\tlearn: 2051.8125066\ttotal: 2.58s\tremaining: 1m 13s\n",
      "34:\tlearn: 2042.4740092\ttotal: 2.62s\tremaining: 1m 12s\n",
      "35:\tlearn: 2032.6644113\ttotal: 2.7s\tremaining: 1m 12s\n",
      "36:\tlearn: 2022.8185371\ttotal: 2.77s\tremaining: 1m 11s\n",
      "37:\tlearn: 2015.2791193\ttotal: 2.84s\tremaining: 1m 11s\n",
      "38:\tlearn: 2009.0417734\ttotal: 2.9s\tremaining: 1m 11s\n",
      "39:\tlearn: 2001.3853034\ttotal: 2.95s\tremaining: 1m 10s\n",
      "40:\tlearn: 1994.4430703\ttotal: 3.04s\tremaining: 1m 11s\n",
      "41:\tlearn: 1985.9667936\ttotal: 3.12s\tremaining: 1m 11s\n",
      "42:\tlearn: 1981.3942949\ttotal: 3.18s\tremaining: 1m 10s\n",
      "43:\tlearn: 1976.3910693\ttotal: 3.24s\tremaining: 1m 10s\n",
      "44:\tlearn: 1972.2853774\ttotal: 3.3s\tremaining: 1m 10s\n",
      "45:\tlearn: 1967.0599747\ttotal: 3.37s\tremaining: 1m 9s\n",
      "46:\tlearn: 1961.2703951\ttotal: 3.45s\tremaining: 1m 9s\n",
      "47:\tlearn: 1956.3055371\ttotal: 3.52s\tremaining: 1m 9s\n",
      "48:\tlearn: 1951.8313426\ttotal: 3.56s\tremaining: 1m 9s\n",
      "49:\tlearn: 1946.8119528\ttotal: 3.63s\tremaining: 1m 8s\n",
      "50:\tlearn: 1942.0919639\ttotal: 3.69s\tremaining: 1m 8s\n",
      "51:\tlearn: 1936.2135354\ttotal: 3.78s\tremaining: 1m 8s\n",
      "52:\tlearn: 1932.6536279\ttotal: 3.84s\tremaining: 1m 8s\n",
      "53:\tlearn: 1928.8283446\ttotal: 3.91s\tremaining: 1m 8s\n",
      "54:\tlearn: 1926.0104205\ttotal: 3.99s\tremaining: 1m 8s\n",
      "55:\tlearn: 1921.9656485\ttotal: 4.05s\tremaining: 1m 8s\n",
      "56:\tlearn: 1919.0812090\ttotal: 4.11s\tremaining: 1m 8s\n",
      "57:\tlearn: 1915.7383211\ttotal: 4.18s\tremaining: 1m 7s\n",
      "58:\tlearn: 1912.2164137\ttotal: 4.26s\tremaining: 1m 7s\n",
      "59:\tlearn: 1909.0068785\ttotal: 4.36s\tremaining: 1m 8s\n",
      "60:\tlearn: 1905.2562648\ttotal: 4.45s\tremaining: 1m 8s\n",
      "61:\tlearn: 1902.6676472\ttotal: 4.53s\tremaining: 1m 8s\n",
      "62:\tlearn: 1898.7376483\ttotal: 4.58s\tremaining: 1m 8s\n",
      "63:\tlearn: 1896.6395865\ttotal: 4.65s\tremaining: 1m 8s\n",
      "64:\tlearn: 1894.1707820\ttotal: 4.72s\tremaining: 1m 7s\n",
      "65:\tlearn: 1891.4513964\ttotal: 4.8s\tremaining: 1m 7s\n",
      "66:\tlearn: 1889.0702734\ttotal: 4.87s\tremaining: 1m 7s\n",
      "67:\tlearn: 1886.7446827\ttotal: 4.94s\tremaining: 1m 7s\n",
      "68:\tlearn: 1884.7198735\ttotal: 5s\tremaining: 1m 7s\n",
      "69:\tlearn: 1881.6113097\ttotal: 5.08s\tremaining: 1m 7s\n",
      "70:\tlearn: 1878.4254057\ttotal: 5.18s\tremaining: 1m 7s\n",
      "71:\tlearn: 1876.6803134\ttotal: 5.24s\tremaining: 1m 7s\n",
      "72:\tlearn: 1874.2554572\ttotal: 5.3s\tremaining: 1m 7s\n",
      "73:\tlearn: 1871.7472467\ttotal: 5.37s\tremaining: 1m 7s\n",
      "74:\tlearn: 1869.8882324\ttotal: 5.45s\tremaining: 1m 7s\n",
      "75:\tlearn: 1867.2051875\ttotal: 5.5s\tremaining: 1m 6s\n",
      "76:\tlearn: 1865.5609787\ttotal: 5.55s\tremaining: 1m 6s\n",
      "77:\tlearn: 1863.3599299\ttotal: 5.65s\tremaining: 1m 6s\n",
      "78:\tlearn: 1861.9233364\ttotal: 5.74s\tremaining: 1m 6s\n",
      "79:\tlearn: 1859.5829141\ttotal: 5.82s\tremaining: 1m 6s\n",
      "80:\tlearn: 1858.3803667\ttotal: 5.88s\tremaining: 1m 6s\n",
      "81:\tlearn: 1856.6288990\ttotal: 5.96s\tremaining: 1m 6s\n",
      "82:\tlearn: 1855.0835177\ttotal: 6.02s\tremaining: 1m 6s\n",
      "83:\tlearn: 1854.0177013\ttotal: 6.09s\tremaining: 1m 6s\n",
      "84:\tlearn: 1852.7619933\ttotal: 6.15s\tremaining: 1m 6s\n",
      "85:\tlearn: 1851.3473357\ttotal: 6.2s\tremaining: 1m 5s\n",
      "86:\tlearn: 1849.4773354\ttotal: 6.26s\tremaining: 1m 5s\n",
      "87:\tlearn: 1847.9161601\ttotal: 6.33s\tremaining: 1m 5s\n",
      "88:\tlearn: 1845.8228415\ttotal: 6.4s\tremaining: 1m 5s\n",
      "89:\tlearn: 1844.0433514\ttotal: 6.44s\tremaining: 1m 5s\n",
      "90:\tlearn: 1842.8885719\ttotal: 6.5s\tremaining: 1m 4s\n",
      "91:\tlearn: 1841.0176996\ttotal: 6.57s\tremaining: 1m 4s\n",
      "92:\tlearn: 1839.0688081\ttotal: 6.61s\tremaining: 1m 4s\n",
      "93:\tlearn: 1837.5552120\ttotal: 6.68s\tremaining: 1m 4s\n",
      "94:\tlearn: 1836.5123249\ttotal: 6.76s\tremaining: 1m 4s\n",
      "95:\tlearn: 1835.4400379\ttotal: 6.83s\tremaining: 1m 4s\n",
      "96:\tlearn: 1833.9431112\ttotal: 6.91s\tremaining: 1m 4s\n",
      "97:\tlearn: 1832.0009692\ttotal: 6.98s\tremaining: 1m 4s\n",
      "98:\tlearn: 1830.1112994\ttotal: 7.04s\tremaining: 1m 4s\n",
      "99:\tlearn: 1828.9740475\ttotal: 7.11s\tremaining: 1m 4s\n",
      "100:\tlearn: 1826.8584682\ttotal: 7.17s\tremaining: 1m 3s\n",
      "101:\tlearn: 1825.7457301\ttotal: 7.22s\tremaining: 1m 3s\n",
      "102:\tlearn: 1824.6612818\ttotal: 7.29s\tremaining: 1m 3s\n",
      "103:\tlearn: 1823.3273494\ttotal: 7.35s\tremaining: 1m 3s\n",
      "104:\tlearn: 1821.6986941\ttotal: 7.41s\tremaining: 1m 3s\n",
      "105:\tlearn: 1820.5595737\ttotal: 7.49s\tremaining: 1m 3s\n",
      "106:\tlearn: 1819.6482465\ttotal: 7.54s\tremaining: 1m 2s\n",
      "107:\tlearn: 1818.3836426\ttotal: 7.61s\tremaining: 1m 2s\n",
      "108:\tlearn: 1817.5838595\ttotal: 7.66s\tremaining: 1m 2s\n",
      "109:\tlearn: 1816.6436816\ttotal: 7.74s\tremaining: 1m 2s\n",
      "110:\tlearn: 1815.0588376\ttotal: 7.8s\tremaining: 1m 2s\n",
      "111:\tlearn: 1814.2894239\ttotal: 7.87s\tremaining: 1m 2s\n",
      "112:\tlearn: 1812.6501452\ttotal: 7.93s\tremaining: 1m 2s\n",
      "113:\tlearn: 1811.6234842\ttotal: 7.98s\tremaining: 1m 2s\n",
      "114:\tlearn: 1810.6383483\ttotal: 8.05s\tremaining: 1m 1s\n",
      "115:\tlearn: 1809.4689582\ttotal: 8.1s\tremaining: 1m 1s\n",
      "116:\tlearn: 1807.7346343\ttotal: 8.19s\tremaining: 1m 1s\n",
      "117:\tlearn: 1806.8685514\ttotal: 8.26s\tremaining: 1m 1s\n",
      "118:\tlearn: 1806.0428261\ttotal: 8.33s\tremaining: 1m 1s\n",
      "119:\tlearn: 1804.9865554\ttotal: 8.37s\tremaining: 1m 1s\n",
      "120:\tlearn: 1803.1383350\ttotal: 8.43s\tremaining: 1m 1s\n",
      "121:\tlearn: 1802.4652383\ttotal: 8.48s\tremaining: 1m 1s\n",
      "122:\tlearn: 1801.8807591\ttotal: 8.55s\tremaining: 1m\n",
      "123:\tlearn: 1801.0063649\ttotal: 8.6s\tremaining: 1m\n",
      "124:\tlearn: 1799.7564364\ttotal: 8.65s\tremaining: 1m\n",
      "125:\tlearn: 1798.6757256\ttotal: 8.71s\tremaining: 1m\n",
      "126:\tlearn: 1797.7691100\ttotal: 8.78s\tremaining: 1m\n",
      "127:\tlearn: 1796.5674550\ttotal: 8.84s\tremaining: 1m\n",
      "128:\tlearn: 1795.5892616\ttotal: 8.91s\tremaining: 1m\n",
      "129:\tlearn: 1794.8045421\ttotal: 8.98s\tremaining: 1m\n",
      "130:\tlearn: 1793.8431124\ttotal: 9.05s\tremaining: 1m\n",
      "131:\tlearn: 1792.7580052\ttotal: 9.12s\tremaining: 59.9s\n",
      "132:\tlearn: 1792.0699744\ttotal: 9.18s\tremaining: 59.9s\n",
      "133:\tlearn: 1791.0850685\ttotal: 9.24s\tremaining: 59.7s\n",
      "134:\tlearn: 1790.0716811\ttotal: 9.3s\tremaining: 59.6s\n",
      "135:\tlearn: 1788.8738705\ttotal: 9.35s\tremaining: 59.4s\n",
      "136:\tlearn: 1788.0333596\ttotal: 9.43s\tremaining: 59.4s\n",
      "137:\tlearn: 1787.0768613\ttotal: 9.5s\tremaining: 59.3s\n",
      "138:\tlearn: 1786.2246555\ttotal: 9.55s\tremaining: 59.2s\n",
      "139:\tlearn: 1785.4367881\ttotal: 9.62s\tremaining: 59.1s\n",
      "140:\tlearn: 1784.7733755\ttotal: 9.7s\tremaining: 59.1s\n",
      "141:\tlearn: 1784.2461960\ttotal: 9.76s\tremaining: 59s\n",
      "142:\tlearn: 1782.9727176\ttotal: 9.85s\tremaining: 59s\n",
      "143:\tlearn: 1782.0111873\ttotal: 9.92s\tremaining: 59s\n",
      "144:\tlearn: 1781.1698327\ttotal: 9.99s\tremaining: 58.9s\n",
      "145:\tlearn: 1779.8751972\ttotal: 10s\tremaining: 58.8s\n",
      "146:\tlearn: 1779.4877829\ttotal: 10.1s\tremaining: 58.7s\n",
      "147:\tlearn: 1778.2699065\ttotal: 10.2s\tremaining: 58.5s\n",
      "148:\tlearn: 1777.4530052\ttotal: 10.3s\tremaining: 58.6s\n",
      "149:\tlearn: 1777.0859124\ttotal: 10.3s\tremaining: 58.5s\n",
      "150:\tlearn: 1775.9644600\ttotal: 10.4s\tremaining: 58.6s\n",
      "151:\tlearn: 1774.8871988\ttotal: 10.5s\tremaining: 58.4s\n",
      "152:\tlearn: 1774.0926485\ttotal: 10.5s\tremaining: 58.4s\n",
      "153:\tlearn: 1773.0141503\ttotal: 10.6s\tremaining: 58.3s\n",
      "154:\tlearn: 1771.8982481\ttotal: 10.7s\tremaining: 58.3s\n",
      "155:\tlearn: 1771.0726531\ttotal: 10.8s\tremaining: 58.2s\n",
      "156:\tlearn: 1769.7616604\ttotal: 10.8s\tremaining: 58.1s\n",
      "157:\tlearn: 1769.0974911\ttotal: 10.9s\tremaining: 58.1s\n",
      "158:\tlearn: 1768.6229342\ttotal: 11s\tremaining: 58.2s\n",
      "159:\tlearn: 1767.6211598\ttotal: 11.1s\tremaining: 58.2s\n",
      "160:\tlearn: 1766.2497342\ttotal: 11.1s\tremaining: 58s\n",
      "161:\tlearn: 1765.6568479\ttotal: 11.2s\tremaining: 58s\n",
      "162:\tlearn: 1765.1024072\ttotal: 11.3s\tremaining: 57.9s\n",
      "163:\tlearn: 1764.0081580\ttotal: 11.3s\tremaining: 57.8s\n",
      "164:\tlearn: 1763.0560284\ttotal: 11.4s\tremaining: 57.6s\n",
      "165:\tlearn: 1762.7785530\ttotal: 11.4s\tremaining: 57.5s\n",
      "166:\tlearn: 1761.8437454\ttotal: 11.5s\tremaining: 57.3s\n",
      "167:\tlearn: 1761.0119875\ttotal: 11.6s\tremaining: 57.3s\n",
      "168:\tlearn: 1760.6397468\ttotal: 11.6s\tremaining: 57.2s\n",
      "169:\tlearn: 1760.1306779\ttotal: 11.7s\tremaining: 57.2s\n",
      "170:\tlearn: 1759.4218769\ttotal: 11.8s\tremaining: 57.1s\n",
      "171:\tlearn: 1758.7780373\ttotal: 11.9s\tremaining: 57.1s\n",
      "172:\tlearn: 1758.3471431\ttotal: 11.9s\tremaining: 57s\n",
      "173:\tlearn: 1757.6588398\ttotal: 12s\tremaining: 56.9s\n",
      "174:\tlearn: 1756.6772136\ttotal: 12.1s\tremaining: 56.9s\n",
      "175:\tlearn: 1755.8912541\ttotal: 12.1s\tremaining: 56.8s\n",
      "176:\tlearn: 1754.9789233\ttotal: 12.2s\tremaining: 56.8s\n",
      "177:\tlearn: 1754.8598644\ttotal: 12.3s\tremaining: 56.7s\n",
      "178:\tlearn: 1754.5428952\ttotal: 12.4s\tremaining: 56.7s\n",
      "179:\tlearn: 1753.9367260\ttotal: 12.4s\tremaining: 56.5s\n",
      "180:\tlearn: 1753.1642311\ttotal: 12.5s\tremaining: 56.4s\n",
      "181:\tlearn: 1752.2711508\ttotal: 12.5s\tremaining: 56.3s\n",
      "182:\tlearn: 1751.5677134\ttotal: 12.6s\tremaining: 56.3s\n",
      "183:\tlearn: 1750.6077032\ttotal: 12.7s\tremaining: 56.2s\n",
      "184:\tlearn: 1749.6889638\ttotal: 12.7s\tremaining: 56.1s\n",
      "185:\tlearn: 1749.0483528\ttotal: 12.8s\tremaining: 56.1s\n",
      "186:\tlearn: 1748.4373026\ttotal: 12.9s\tremaining: 56.1s\n",
      "187:\tlearn: 1747.6470466\ttotal: 13s\tremaining: 56s\n",
      "188:\tlearn: 1746.9707508\ttotal: 13s\tremaining: 56s\n",
      "189:\tlearn: 1746.4451886\ttotal: 13.1s\tremaining: 55.9s\n",
      "190:\tlearn: 1745.6532442\ttotal: 13.2s\tremaining: 55.7s\n",
      "191:\tlearn: 1744.9516403\ttotal: 13.2s\tremaining: 55.6s\n",
      "192:\tlearn: 1744.3498249\ttotal: 13.3s\tremaining: 55.5s\n",
      "193:\tlearn: 1743.9075379\ttotal: 13.3s\tremaining: 55.4s\n",
      "194:\tlearn: 1743.2454858\ttotal: 13.4s\tremaining: 55.4s\n",
      "195:\tlearn: 1742.9356096\ttotal: 13.5s\tremaining: 55.4s\n",
      "196:\tlearn: 1742.3332062\ttotal: 13.6s\tremaining: 55.4s\n",
      "197:\tlearn: 1741.4918142\ttotal: 13.7s\tremaining: 55.4s\n",
      "198:\tlearn: 1740.7655038\ttotal: 13.8s\tremaining: 55.4s\n",
      "199:\tlearn: 1739.8647546\ttotal: 13.8s\tremaining: 55.4s\n",
      "200:\tlearn: 1739.4551647\ttotal: 13.9s\tremaining: 55.3s\n",
      "201:\tlearn: 1738.6073008\ttotal: 14s\tremaining: 55.3s\n",
      "202:\tlearn: 1737.9117412\ttotal: 14.1s\tremaining: 55.2s\n",
      "203:\tlearn: 1737.7045002\ttotal: 14.1s\tremaining: 55.2s\n",
      "204:\tlearn: 1737.3281792\ttotal: 14.2s\tremaining: 55.1s\n",
      "205:\tlearn: 1736.9216616\ttotal: 14.3s\tremaining: 55.1s\n",
      "206:\tlearn: 1735.8979327\ttotal: 14.4s\tremaining: 55s\n",
      "207:\tlearn: 1735.7561556\ttotal: 14.4s\tremaining: 55s\n",
      "208:\tlearn: 1735.0839646\ttotal: 14.5s\tremaining: 54.9s\n",
      "209:\tlearn: 1734.6875167\ttotal: 14.6s\tremaining: 54.8s\n",
      "210:\tlearn: 1734.1311906\ttotal: 14.6s\tremaining: 54.7s\n",
      "211:\tlearn: 1733.3135853\ttotal: 14.7s\tremaining: 54.6s\n",
      "212:\tlearn: 1732.5733703\ttotal: 14.8s\tremaining: 54.5s\n",
      "213:\tlearn: 1731.8316418\ttotal: 14.8s\tremaining: 54.5s\n",
      "214:\tlearn: 1731.6129741\ttotal: 14.9s\tremaining: 54.4s\n",
      "215:\tlearn: 1731.1262776\ttotal: 14.9s\tremaining: 54.3s\n",
      "216:\tlearn: 1730.9638189\ttotal: 15.1s\tremaining: 54.3s\n",
      "217:\tlearn: 1730.1105214\ttotal: 15.1s\tremaining: 54.3s\n",
      "218:\tlearn: 1729.8087284\ttotal: 15.2s\tremaining: 54.2s\n",
      "219:\tlearn: 1729.3109309\ttotal: 15.3s\tremaining: 54.2s\n",
      "220:\tlearn: 1728.9967424\ttotal: 15.3s\tremaining: 54.1s\n",
      "221:\tlearn: 1728.3808968\ttotal: 15.4s\tremaining: 54s\n",
      "222:\tlearn: 1727.8835726\ttotal: 15.5s\tremaining: 53.9s\n",
      "223:\tlearn: 1727.8020892\ttotal: 15.6s\tremaining: 53.9s\n",
      "224:\tlearn: 1727.5173940\ttotal: 15.6s\tremaining: 53.9s\n",
      "225:\tlearn: 1727.4344410\ttotal: 15.7s\tremaining: 53.8s\n",
      "226:\tlearn: 1726.9816145\ttotal: 15.8s\tremaining: 53.7s\n",
      "227:\tlearn: 1726.3188294\ttotal: 15.8s\tremaining: 53.6s\n",
      "228:\tlearn: 1725.7522612\ttotal: 15.9s\tremaining: 53.5s\n",
      "229:\tlearn: 1725.2323269\ttotal: 15.9s\tremaining: 53.4s\n",
      "230:\tlearn: 1724.9247188\ttotal: 16s\tremaining: 53.3s\n",
      "231:\tlearn: 1724.0647980\ttotal: 16s\tremaining: 53.1s\n",
      "232:\tlearn: 1723.6908405\ttotal: 16.1s\tremaining: 53s\n",
      "233:\tlearn: 1723.1815550\ttotal: 16.2s\tremaining: 53s\n",
      "234:\tlearn: 1722.1143407\ttotal: 16.3s\tremaining: 52.9s\n",
      "235:\tlearn: 1721.7400117\ttotal: 16.3s\tremaining: 52.8s\n",
      "236:\tlearn: 1721.4070539\ttotal: 16.4s\tremaining: 52.7s\n",
      "237:\tlearn: 1720.9339805\ttotal: 16.4s\tremaining: 52.6s\n",
      "238:\tlearn: 1720.2756321\ttotal: 16.5s\tremaining: 52.5s\n",
      "239:\tlearn: 1719.7845285\ttotal: 16.6s\tremaining: 52.5s\n",
      "240:\tlearn: 1719.4945159\ttotal: 16.6s\tremaining: 52.4s\n",
      "241:\tlearn: 1719.0710579\ttotal: 16.7s\tremaining: 52.3s\n",
      "242:\tlearn: 1718.8777371\ttotal: 16.7s\tremaining: 52.2s\n",
      "243:\tlearn: 1718.0637624\ttotal: 16.8s\tremaining: 52.1s\n",
      "244:\tlearn: 1717.7012479\ttotal: 16.9s\tremaining: 52s\n",
      "245:\tlearn: 1717.3549849\ttotal: 16.9s\tremaining: 51.9s\n",
      "246:\tlearn: 1716.9321737\ttotal: 17s\tremaining: 51.8s\n",
      "247:\tlearn: 1716.2559480\ttotal: 17s\tremaining: 51.6s\n",
      "248:\tlearn: 1715.9661732\ttotal: 17.1s\tremaining: 51.4s\n",
      "249:\tlearn: 1715.4806860\ttotal: 17.1s\tremaining: 51.4s\n",
      "250:\tlearn: 1714.9766269\ttotal: 17.2s\tremaining: 51.3s\n",
      "251:\tlearn: 1714.4593640\ttotal: 17.3s\tremaining: 51.2s\n",
      "252:\tlearn: 1714.1106141\ttotal: 17.3s\tremaining: 51.2s\n",
      "253:\tlearn: 1713.6862951\ttotal: 17.4s\tremaining: 51.1s\n",
      "254:\tlearn: 1713.2760430\ttotal: 17.4s\tremaining: 51s\n",
      "255:\tlearn: 1712.6066389\ttotal: 17.5s\tremaining: 51s\n",
      "256:\tlearn: 1711.8531401\ttotal: 17.6s\tremaining: 50.9s\n",
      "257:\tlearn: 1711.5297028\ttotal: 17.7s\tremaining: 51s\n",
      "258:\tlearn: 1711.4182598\ttotal: 17.8s\tremaining: 50.9s\n",
      "259:\tlearn: 1710.9886604\ttotal: 17.9s\tremaining: 50.8s\n",
      "260:\tlearn: 1710.5497516\ttotal: 17.9s\tremaining: 50.8s\n",
      "261:\tlearn: 1710.2331345\ttotal: 18s\tremaining: 50.7s\n",
      "262:\tlearn: 1709.8704518\ttotal: 18.1s\tremaining: 50.7s\n",
      "263:\tlearn: 1709.6389033\ttotal: 18.1s\tremaining: 50.6s\n",
      "264:\tlearn: 1709.3210456\ttotal: 18.2s\tremaining: 50.5s\n",
      "265:\tlearn: 1708.8168726\ttotal: 18.3s\tremaining: 50.5s\n",
      "266:\tlearn: 1708.4665018\ttotal: 18.4s\tremaining: 50.5s\n",
      "267:\tlearn: 1708.0094573\ttotal: 18.5s\tremaining: 50.4s\n",
      "268:\tlearn: 1707.6505999\ttotal: 18.5s\tremaining: 50.3s\n",
      "269:\tlearn: 1707.1785688\ttotal: 18.6s\tremaining: 50.3s\n",
      "270:\tlearn: 1706.6424519\ttotal: 18.7s\tremaining: 50.2s\n",
      "271:\tlearn: 1706.1480986\ttotal: 18.7s\tremaining: 50.1s\n",
      "272:\tlearn: 1705.7370050\ttotal: 18.8s\tremaining: 50.1s\n",
      "273:\tlearn: 1705.4872672\ttotal: 18.9s\tremaining: 50s\n",
      "274:\tlearn: 1704.9297164\ttotal: 18.9s\tremaining: 49.9s\n",
      "275:\tlearn: 1704.9289546\ttotal: 18.9s\tremaining: 49.7s\n",
      "276:\tlearn: 1704.0142268\ttotal: 19s\tremaining: 49.6s\n",
      "277:\tlearn: 1703.7473713\ttotal: 19.1s\tremaining: 49.5s\n",
      "278:\tlearn: 1703.6076519\ttotal: 19.1s\tremaining: 49.5s\n",
      "279:\tlearn: 1703.0807513\ttotal: 19.2s\tremaining: 49.5s\n",
      "280:\tlearn: 1702.7468555\ttotal: 19.3s\tremaining: 49.4s\n",
      "281:\tlearn: 1702.2558376\ttotal: 19.4s\tremaining: 49.3s\n",
      "282:\tlearn: 1701.9283431\ttotal: 19.4s\tremaining: 49.2s\n",
      "283:\tlearn: 1701.9038305\ttotal: 19.5s\tremaining: 49.1s\n",
      "284:\tlearn: 1701.5038103\ttotal: 19.6s\tremaining: 49.1s\n",
      "285:\tlearn: 1700.9440011\ttotal: 19.6s\tremaining: 49s\n",
      "286:\tlearn: 1700.7848188\ttotal: 19.7s\tremaining: 48.9s\n",
      "287:\tlearn: 1700.4196528\ttotal: 19.8s\tremaining: 48.8s\n",
      "288:\tlearn: 1700.2911357\ttotal: 19.8s\tremaining: 48.8s\n",
      "289:\tlearn: 1699.6695268\ttotal: 19.9s\tremaining: 48.7s\n",
      "290:\tlearn: 1699.2907929\ttotal: 19.9s\tremaining: 48.6s\n",
      "291:\tlearn: 1698.7025233\ttotal: 20s\tremaining: 48.5s\n",
      "292:\tlearn: 1698.2553561\ttotal: 20.1s\tremaining: 48.4s\n",
      "293:\tlearn: 1697.8281139\ttotal: 20.2s\tremaining: 48.4s\n",
      "294:\tlearn: 1697.0878913\ttotal: 20.2s\tremaining: 48.4s\n",
      "295:\tlearn: 1697.0275214\ttotal: 20.3s\tremaining: 48.3s\n",
      "296:\tlearn: 1696.7937883\ttotal: 20.4s\tremaining: 48.2s\n",
      "297:\tlearn: 1696.3010860\ttotal: 20.4s\tremaining: 48.1s\n",
      "298:\tlearn: 1696.0085397\ttotal: 20.5s\tremaining: 48.1s\n",
      "299:\tlearn: 1695.7215231\ttotal: 20.6s\tremaining: 48s\n",
      "300:\tlearn: 1695.3551691\ttotal: 20.6s\tremaining: 47.9s\n",
      "301:\tlearn: 1694.9913376\ttotal: 20.7s\tremaining: 47.9s\n",
      "302:\tlearn: 1694.9241959\ttotal: 20.8s\tremaining: 47.8s\n",
      "303:\tlearn: 1694.3001959\ttotal: 20.8s\tremaining: 47.7s\n",
      "304:\tlearn: 1693.7326089\ttotal: 20.9s\tremaining: 47.7s\n",
      "305:\tlearn: 1693.3184395\ttotal: 21s\tremaining: 47.6s\n",
      "306:\tlearn: 1692.6489935\ttotal: 21.1s\tremaining: 47.5s\n",
      "307:\tlearn: 1692.3701864\ttotal: 21.1s\tremaining: 47.5s\n",
      "308:\tlearn: 1692.3696241\ttotal: 21.1s\tremaining: 47.3s\n",
      "309:\tlearn: 1692.0811396\ttotal: 21.2s\tremaining: 47.2s\n",
      "310:\tlearn: 1691.7816745\ttotal: 21.3s\tremaining: 47.1s\n",
      "311:\tlearn: 1691.5260838\ttotal: 21.3s\tremaining: 47.1s\n",
      "312:\tlearn: 1690.9560088\ttotal: 21.4s\tremaining: 47s\n",
      "313:\tlearn: 1690.8975606\ttotal: 21.5s\tremaining: 47s\n",
      "314:\tlearn: 1690.5662486\ttotal: 21.6s\tremaining: 46.9s\n",
      "315:\tlearn: 1690.3000579\ttotal: 21.6s\tremaining: 46.8s\n",
      "316:\tlearn: 1690.2995030\ttotal: 21.7s\tremaining: 46.7s\n",
      "317:\tlearn: 1689.6507626\ttotal: 21.7s\tremaining: 46.6s\n",
      "318:\tlearn: 1689.5316752\ttotal: 21.8s\tremaining: 46.5s\n",
      "319:\tlearn: 1689.0292016\ttotal: 21.9s\tremaining: 46.4s\n",
      "320:\tlearn: 1688.9438824\ttotal: 21.9s\tremaining: 46.4s\n",
      "321:\tlearn: 1688.7301786\ttotal: 22s\tremaining: 46.3s\n",
      "322:\tlearn: 1688.7191361\ttotal: 22s\tremaining: 46.1s\n",
      "323:\tlearn: 1688.5380938\ttotal: 22.1s\tremaining: 46.1s\n",
      "324:\tlearn: 1688.1536446\ttotal: 22.2s\tremaining: 46.1s\n",
      "325:\tlearn: 1687.7900739\ttotal: 22.3s\tremaining: 46.1s\n",
      "326:\tlearn: 1687.6532796\ttotal: 22.3s\tremaining: 46s\n",
      "327:\tlearn: 1687.0388959\ttotal: 22.4s\tremaining: 45.9s\n",
      "328:\tlearn: 1686.5510459\ttotal: 22.5s\tremaining: 45.9s\n",
      "329:\tlearn: 1686.1629394\ttotal: 22.6s\tremaining: 45.8s\n",
      "330:\tlearn: 1685.5981447\ttotal: 22.6s\tremaining: 45.7s\n",
      "331:\tlearn: 1685.0391295\ttotal: 22.7s\tremaining: 45.7s\n",
      "332:\tlearn: 1684.8577321\ttotal: 22.8s\tremaining: 45.6s\n",
      "333:\tlearn: 1684.2978673\ttotal: 22.8s\tremaining: 45.5s\n",
      "334:\tlearn: 1683.9885423\ttotal: 22.9s\tremaining: 45.4s\n",
      "335:\tlearn: 1683.3433699\ttotal: 23s\tremaining: 45.4s\n",
      "336:\tlearn: 1682.9155425\ttotal: 23s\tremaining: 45.3s\n",
      "337:\tlearn: 1682.7004090\ttotal: 23.1s\tremaining: 45.2s\n",
      "338:\tlearn: 1682.1189929\ttotal: 23.2s\tremaining: 45.2s\n",
      "339:\tlearn: 1682.0357028\ttotal: 23.2s\tremaining: 45.1s\n",
      "340:\tlearn: 1681.9430897\ttotal: 23.3s\tremaining: 45s\n",
      "341:\tlearn: 1681.5914979\ttotal: 23.4s\tremaining: 45s\n",
      "342:\tlearn: 1681.2256894\ttotal: 23.4s\tremaining: 44.9s\n",
      "343:\tlearn: 1680.9863945\ttotal: 23.5s\tremaining: 44.8s\n",
      "344:\tlearn: 1680.8457381\ttotal: 23.6s\tremaining: 44.7s\n",
      "345:\tlearn: 1680.3225622\ttotal: 23.7s\tremaining: 44.7s\n",
      "346:\tlearn: 1679.6517775\ttotal: 23.7s\tremaining: 44.6s\n",
      "347:\tlearn: 1679.6377079\ttotal: 23.8s\tremaining: 44.5s\n",
      "348:\tlearn: 1679.4998007\ttotal: 23.8s\tremaining: 44.5s\n",
      "349:\tlearn: 1679.0565046\ttotal: 23.9s\tremaining: 44.4s\n",
      "350:\tlearn: 1678.8987742\ttotal: 24s\tremaining: 44.3s\n",
      "351:\tlearn: 1678.5623169\ttotal: 24.1s\tremaining: 44.3s\n",
      "352:\tlearn: 1678.2211052\ttotal: 24.1s\tremaining: 44.2s\n",
      "353:\tlearn: 1678.0385776\ttotal: 24.2s\tremaining: 44.1s\n",
      "354:\tlearn: 1677.3486887\ttotal: 24.2s\tremaining: 44.1s\n",
      "355:\tlearn: 1677.1337082\ttotal: 24.3s\tremaining: 44s\n",
      "356:\tlearn: 1676.9530502\ttotal: 24.4s\tremaining: 43.9s\n",
      "357:\tlearn: 1676.7379777\ttotal: 24.5s\tremaining: 43.9s\n",
      "358:\tlearn: 1676.5260719\ttotal: 24.5s\tremaining: 43.8s\n",
      "359:\tlearn: 1676.0552811\ttotal: 24.6s\tremaining: 43.7s\n",
      "360:\tlearn: 1675.7760652\ttotal: 24.6s\tremaining: 43.6s\n",
      "361:\tlearn: 1675.5068361\ttotal: 24.7s\tremaining: 43.5s\n",
      "362:\tlearn: 1674.9383584\ttotal: 24.8s\tremaining: 43.4s\n",
      "363:\tlearn: 1674.6997087\ttotal: 24.8s\tremaining: 43.4s\n",
      "364:\tlearn: 1674.5787503\ttotal: 24.9s\tremaining: 43.3s\n",
      "365:\tlearn: 1674.5719369\ttotal: 24.9s\tremaining: 43.2s\n",
      "366:\tlearn: 1674.5348774\ttotal: 25s\tremaining: 43.1s\n",
      "367:\tlearn: 1673.9626269\ttotal: 25s\tremaining: 43s\n",
      "368:\tlearn: 1673.7503265\ttotal: 25.1s\tremaining: 42.9s\n",
      "369:\tlearn: 1673.6034966\ttotal: 25.2s\tremaining: 42.9s\n",
      "370:\tlearn: 1673.3886961\ttotal: 25.3s\tremaining: 42.8s\n",
      "371:\tlearn: 1673.1705656\ttotal: 25.3s\tremaining: 42.7s\n",
      "372:\tlearn: 1673.1318165\ttotal: 25.4s\tremaining: 42.7s\n",
      "373:\tlearn: 1672.5314231\ttotal: 25.5s\tremaining: 42.6s\n",
      "374:\tlearn: 1672.3384950\ttotal: 25.5s\tremaining: 42.5s\n",
      "375:\tlearn: 1672.1333817\ttotal: 25.6s\tremaining: 42.5s\n",
      "376:\tlearn: 1671.8557194\ttotal: 25.7s\tremaining: 42.4s\n",
      "377:\tlearn: 1671.5068550\ttotal: 25.7s\tremaining: 42.4s\n",
      "378:\tlearn: 1671.1254388\ttotal: 25.8s\tremaining: 42.3s\n",
      "379:\tlearn: 1670.5900908\ttotal: 25.9s\tremaining: 42.2s\n",
      "380:\tlearn: 1670.2681802\ttotal: 26s\tremaining: 42.2s\n",
      "381:\tlearn: 1669.8847772\ttotal: 26s\tremaining: 42.1s\n",
      "382:\tlearn: 1669.5869526\ttotal: 26.1s\tremaining: 42s\n",
      "383:\tlearn: 1669.2242218\ttotal: 26.2s\tremaining: 42s\n",
      "384:\tlearn: 1668.7813407\ttotal: 26.2s\tremaining: 41.9s\n",
      "385:\tlearn: 1668.4799304\ttotal: 26.3s\tremaining: 41.9s\n",
      "386:\tlearn: 1668.3629080\ttotal: 26.4s\tremaining: 41.8s\n",
      "387:\tlearn: 1668.0171810\ttotal: 26.5s\tremaining: 41.7s\n",
      "388:\tlearn: 1667.7302155\ttotal: 26.5s\tremaining: 41.7s\n",
      "389:\tlearn: 1667.4710191\ttotal: 26.6s\tremaining: 41.6s\n",
      "390:\tlearn: 1667.2681900\ttotal: 26.7s\tremaining: 41.5s\n",
      "391:\tlearn: 1666.9828109\ttotal: 26.7s\tremaining: 41.5s\n",
      "392:\tlearn: 1666.6538537\ttotal: 26.8s\tremaining: 41.4s\n",
      "393:\tlearn: 1666.4956726\ttotal: 26.9s\tremaining: 41.3s\n",
      "394:\tlearn: 1666.4278169\ttotal: 26.9s\tremaining: 41.2s\n",
      "395:\tlearn: 1666.2694012\ttotal: 27s\tremaining: 41.2s\n",
      "396:\tlearn: 1666.2012967\ttotal: 27.1s\tremaining: 41.2s\n",
      "397:\tlearn: 1665.8764802\ttotal: 27.2s\tremaining: 41.1s\n",
      "398:\tlearn: 1665.7502386\ttotal: 27.2s\tremaining: 41s\n",
      "399:\tlearn: 1665.4150029\ttotal: 27.3s\tremaining: 40.9s\n",
      "400:\tlearn: 1665.3876683\ttotal: 27.3s\tremaining: 40.8s\n",
      "401:\tlearn: 1665.3105689\ttotal: 27.4s\tremaining: 40.8s\n",
      "402:\tlearn: 1664.8594687\ttotal: 27.5s\tremaining: 40.7s\n",
      "403:\tlearn: 1664.2690632\ttotal: 27.5s\tremaining: 40.6s\n",
      "404:\tlearn: 1664.1666059\ttotal: 27.6s\tremaining: 40.5s\n",
      "405:\tlearn: 1663.7625986\ttotal: 27.7s\tremaining: 40.5s\n",
      "406:\tlearn: 1663.5444219\ttotal: 27.7s\tremaining: 40.4s\n",
      "407:\tlearn: 1663.1938825\ttotal: 27.8s\tremaining: 40.3s\n",
      "408:\tlearn: 1662.8156672\ttotal: 27.8s\tremaining: 40.2s\n",
      "409:\tlearn: 1662.6545841\ttotal: 27.9s\tremaining: 40.1s\n",
      "410:\tlearn: 1662.4771628\ttotal: 27.9s\tremaining: 40s\n",
      "411:\tlearn: 1662.4322656\ttotal: 28s\tremaining: 39.9s\n",
      "412:\tlearn: 1662.2186000\ttotal: 28s\tremaining: 39.8s\n",
      "413:\tlearn: 1661.9695046\ttotal: 28.1s\tremaining: 39.8s\n",
      "414:\tlearn: 1661.7712085\ttotal: 28.2s\tremaining: 39.8s\n",
      "415:\tlearn: 1661.6347764\ttotal: 28.3s\tremaining: 39.7s\n",
      "416:\tlearn: 1661.5535766\ttotal: 28.4s\tremaining: 39.7s\n",
      "417:\tlearn: 1661.4551736\ttotal: 28.4s\tremaining: 39.6s\n",
      "418:\tlearn: 1661.0374399\ttotal: 28.5s\tremaining: 39.5s\n",
      "419:\tlearn: 1660.7020581\ttotal: 28.6s\tremaining: 39.5s\n",
      "420:\tlearn: 1660.3926335\ttotal: 28.6s\tremaining: 39.4s\n",
      "421:\tlearn: 1660.1804591\ttotal: 28.7s\tremaining: 39.3s\n",
      "422:\tlearn: 1659.9128887\ttotal: 28.8s\tremaining: 39.3s\n",
      "423:\tlearn: 1659.7195101\ttotal: 28.8s\tremaining: 39.2s\n",
      "424:\tlearn: 1659.5719098\ttotal: 28.9s\tremaining: 39.1s\n",
      "425:\tlearn: 1659.2880330\ttotal: 29s\tremaining: 39s\n",
      "426:\tlearn: 1659.0956798\ttotal: 29s\tremaining: 38.9s\n",
      "427:\tlearn: 1658.8722290\ttotal: 29s\tremaining: 38.8s\n",
      "428:\tlearn: 1658.7124085\ttotal: 29.1s\tremaining: 38.8s\n",
      "429:\tlearn: 1658.3072514\ttotal: 29.2s\tremaining: 38.7s\n",
      "430:\tlearn: 1658.1244371\ttotal: 29.3s\tremaining: 38.6s\n",
      "431:\tlearn: 1657.7297863\ttotal: 29.3s\tremaining: 38.6s\n",
      "432:\tlearn: 1657.5008560\ttotal: 29.4s\tremaining: 38.5s\n",
      "433:\tlearn: 1657.1534821\ttotal: 29.5s\tremaining: 38.4s\n",
      "434:\tlearn: 1656.6466169\ttotal: 29.5s\tremaining: 38.4s\n",
      "435:\tlearn: 1656.3273838\ttotal: 29.6s\tremaining: 38.3s\n",
      "436:\tlearn: 1656.2588674\ttotal: 29.7s\tremaining: 38.2s\n",
      "437:\tlearn: 1656.0036115\ttotal: 29.8s\tremaining: 38.2s\n",
      "438:\tlearn: 1655.7143482\ttotal: 29.8s\tremaining: 38.1s\n",
      "439:\tlearn: 1655.5561198\ttotal: 29.9s\tremaining: 38.1s\n",
      "440:\tlearn: 1655.4454172\ttotal: 30s\tremaining: 38s\n",
      "441:\tlearn: 1654.9544662\ttotal: 30s\tremaining: 37.9s\n",
      "442:\tlearn: 1654.5993237\ttotal: 30.1s\tremaining: 37.8s\n",
      "443:\tlearn: 1654.1776842\ttotal: 30.2s\tremaining: 37.8s\n",
      "444:\tlearn: 1653.9896905\ttotal: 30.2s\tremaining: 37.7s\n",
      "445:\tlearn: 1653.9536156\ttotal: 30.3s\tremaining: 37.6s\n",
      "446:\tlearn: 1653.6243541\ttotal: 30.3s\tremaining: 37.5s\n",
      "447:\tlearn: 1653.1334163\ttotal: 30.4s\tremaining: 37.5s\n",
      "448:\tlearn: 1652.7657661\ttotal: 30.5s\tremaining: 37.4s\n",
      "449:\tlearn: 1652.3249960\ttotal: 30.5s\tremaining: 37.3s\n",
      "450:\tlearn: 1651.8207114\ttotal: 30.6s\tremaining: 37.3s\n",
      "451:\tlearn: 1651.7544056\ttotal: 30.7s\tremaining: 37.2s\n",
      "452:\tlearn: 1651.4503343\ttotal: 30.7s\tremaining: 37.1s\n",
      "453:\tlearn: 1651.0418931\ttotal: 30.8s\tremaining: 37.1s\n",
      "454:\tlearn: 1650.9592582\ttotal: 30.9s\tremaining: 37s\n",
      "455:\tlearn: 1650.7282549\ttotal: 30.9s\tremaining: 36.9s\n",
      "456:\tlearn: 1650.4778409\ttotal: 31s\tremaining: 36.8s\n",
      "457:\tlearn: 1650.1892725\ttotal: 31.1s\tremaining: 36.8s\n",
      "458:\tlearn: 1649.9742588\ttotal: 31.1s\tremaining: 36.7s\n",
      "459:\tlearn: 1649.8148960\ttotal: 31.2s\tremaining: 36.6s\n",
      "460:\tlearn: 1649.6685193\ttotal: 31.3s\tremaining: 36.6s\n",
      "461:\tlearn: 1649.4224712\ttotal: 31.3s\tremaining: 36.5s\n",
      "462:\tlearn: 1649.2551231\ttotal: 31.4s\tremaining: 36.4s\n",
      "463:\tlearn: 1649.0484913\ttotal: 31.5s\tremaining: 36.4s\n",
      "464:\tlearn: 1648.8192185\ttotal: 31.6s\tremaining: 36.3s\n",
      "465:\tlearn: 1648.7294993\ttotal: 31.6s\tremaining: 36.2s\n",
      "466:\tlearn: 1648.4103190\ttotal: 31.7s\tremaining: 36.2s\n",
      "467:\tlearn: 1648.0765797\ttotal: 31.8s\tremaining: 36.1s\n",
      "468:\tlearn: 1647.9075217\ttotal: 31.8s\tremaining: 36s\n",
      "469:\tlearn: 1647.9010260\ttotal: 31.9s\tremaining: 36s\n",
      "470:\tlearn: 1647.8443346\ttotal: 32s\tremaining: 35.9s\n",
      "471:\tlearn: 1647.5804007\ttotal: 32s\tremaining: 35.8s\n",
      "472:\tlearn: 1647.1260294\ttotal: 32.1s\tremaining: 35.7s\n",
      "473:\tlearn: 1646.6815828\ttotal: 32.1s\tremaining: 35.7s\n",
      "474:\tlearn: 1646.5166275\ttotal: 32.2s\tremaining: 35.6s\n",
      "475:\tlearn: 1646.4273700\ttotal: 32.2s\tremaining: 35.5s\n",
      "476:\tlearn: 1646.1105644\ttotal: 32.3s\tremaining: 35.4s\n",
      "477:\tlearn: 1645.9732370\ttotal: 32.4s\tremaining: 35.4s\n",
      "478:\tlearn: 1645.7645680\ttotal: 32.5s\tremaining: 35.3s\n",
      "479:\tlearn: 1645.5061651\ttotal: 32.5s\tremaining: 35.3s\n",
      "480:\tlearn: 1645.1954565\ttotal: 32.6s\tremaining: 35.2s\n",
      "481:\tlearn: 1644.8537687\ttotal: 32.7s\tremaining: 35.1s\n",
      "482:\tlearn: 1644.8307128\ttotal: 32.7s\tremaining: 35s\n",
      "483:\tlearn: 1644.5303302\ttotal: 32.8s\tremaining: 35s\n",
      "484:\tlearn: 1644.3786764\ttotal: 32.9s\tremaining: 34.9s\n",
      "485:\tlearn: 1643.8458740\ttotal: 32.9s\tremaining: 34.8s\n",
      "486:\tlearn: 1643.7632178\ttotal: 33s\tremaining: 34.8s\n",
      "487:\tlearn: 1643.4993302\ttotal: 33.1s\tremaining: 34.7s\n",
      "488:\tlearn: 1642.9902681\ttotal: 33.1s\tremaining: 34.6s\n",
      "489:\tlearn: 1642.5521940\ttotal: 33.2s\tremaining: 34.6s\n",
      "490:\tlearn: 1642.2713253\ttotal: 33.3s\tremaining: 34.5s\n",
      "491:\tlearn: 1641.9213409\ttotal: 33.3s\tremaining: 34.4s\n",
      "492:\tlearn: 1641.5369010\ttotal: 33.4s\tremaining: 34.4s\n",
      "493:\tlearn: 1641.3587733\ttotal: 33.5s\tremaining: 34.3s\n",
      "494:\tlearn: 1641.0718234\ttotal: 33.6s\tremaining: 34.3s\n",
      "495:\tlearn: 1640.8976210\ttotal: 33.6s\tremaining: 34.2s\n",
      "496:\tlearn: 1640.7933840\ttotal: 33.7s\tremaining: 34.1s\n",
      "497:\tlearn: 1640.5168328\ttotal: 33.8s\tremaining: 34s\n",
      "498:\tlearn: 1640.2375808\ttotal: 33.9s\tremaining: 34s\n",
      "499:\tlearn: 1639.9300270\ttotal: 33.9s\tremaining: 33.9s\n",
      "500:\tlearn: 1639.7931240\ttotal: 34s\tremaining: 33.8s\n",
      "501:\tlearn: 1639.6921649\ttotal: 34s\tremaining: 33.8s\n",
      "502:\tlearn: 1639.4435421\ttotal: 34.1s\tremaining: 33.7s\n",
      "503:\tlearn: 1639.3122020\ttotal: 34.2s\tremaining: 33.6s\n",
      "504:\tlearn: 1638.9706972\ttotal: 34.2s\tremaining: 33.6s\n",
      "505:\tlearn: 1638.8279323\ttotal: 34.3s\tremaining: 33.5s\n",
      "506:\tlearn: 1638.6356738\ttotal: 34.4s\tremaining: 33.4s\n",
      "507:\tlearn: 1638.4171429\ttotal: 34.5s\tremaining: 33.4s\n",
      "508:\tlearn: 1638.0397652\ttotal: 34.5s\tremaining: 33.3s\n",
      "509:\tlearn: 1637.6471049\ttotal: 34.6s\tremaining: 33.2s\n",
      "510:\tlearn: 1637.4650087\ttotal: 34.6s\tremaining: 33.2s\n",
      "511:\tlearn: 1637.3228246\ttotal: 34.7s\tremaining: 33.1s\n",
      "512:\tlearn: 1637.0747375\ttotal: 34.8s\tremaining: 33s\n",
      "513:\tlearn: 1636.7421937\ttotal: 34.9s\tremaining: 33s\n",
      "514:\tlearn: 1636.3805892\ttotal: 34.9s\tremaining: 32.9s\n",
      "515:\tlearn: 1636.1028850\ttotal: 35s\tremaining: 32.8s\n",
      "516:\tlearn: 1635.9240229\ttotal: 35.1s\tremaining: 32.8s\n",
      "517:\tlearn: 1635.5405328\ttotal: 35.1s\tremaining: 32.7s\n",
      "518:\tlearn: 1635.2814077\ttotal: 35.2s\tremaining: 32.6s\n",
      "519:\tlearn: 1634.9486877\ttotal: 35.3s\tremaining: 32.6s\n",
      "520:\tlearn: 1634.8707384\ttotal: 35.3s\tremaining: 32.5s\n",
      "521:\tlearn: 1634.6402229\ttotal: 35.4s\tremaining: 32.4s\n",
      "522:\tlearn: 1634.2260999\ttotal: 35.5s\tremaining: 32.3s\n",
      "523:\tlearn: 1634.0196183\ttotal: 35.5s\tremaining: 32.3s\n",
      "524:\tlearn: 1633.9870681\ttotal: 35.6s\tremaining: 32.2s\n",
      "525:\tlearn: 1633.6967125\ttotal: 35.7s\tremaining: 32.2s\n",
      "526:\tlearn: 1633.6931603\ttotal: 35.7s\tremaining: 32.1s\n",
      "527:\tlearn: 1633.3311292\ttotal: 35.8s\tremaining: 32s\n",
      "528:\tlearn: 1633.1365960\ttotal: 35.9s\tremaining: 31.9s\n",
      "529:\tlearn: 1632.8076258\ttotal: 35.9s\tremaining: 31.9s\n",
      "530:\tlearn: 1632.6161268\ttotal: 36s\tremaining: 31.8s\n",
      "531:\tlearn: 1632.4759893\ttotal: 36.1s\tremaining: 31.7s\n",
      "532:\tlearn: 1632.2793085\ttotal: 36.2s\tremaining: 31.7s\n",
      "533:\tlearn: 1631.9005964\ttotal: 36.2s\tremaining: 31.6s\n",
      "534:\tlearn: 1631.6988536\ttotal: 36.3s\tremaining: 31.6s\n",
      "535:\tlearn: 1631.6240879\ttotal: 36.4s\tremaining: 31.5s\n",
      "536:\tlearn: 1631.4424892\ttotal: 36.5s\tremaining: 31.4s\n",
      "537:\tlearn: 1631.2483696\ttotal: 36.5s\tremaining: 31.4s\n",
      "538:\tlearn: 1631.0992167\ttotal: 36.6s\tremaining: 31.3s\n",
      "539:\tlearn: 1630.7356539\ttotal: 36.6s\tremaining: 31.2s\n",
      "540:\tlearn: 1630.5531534\ttotal: 36.7s\tremaining: 31.1s\n",
      "541:\tlearn: 1630.4200703\ttotal: 36.8s\tremaining: 31.1s\n",
      "542:\tlearn: 1630.1677120\ttotal: 36.9s\tremaining: 31s\n",
      "543:\tlearn: 1629.9772064\ttotal: 36.9s\tremaining: 30.9s\n",
      "544:\tlearn: 1629.8114065\ttotal: 37s\tremaining: 30.9s\n",
      "545:\tlearn: 1629.6329297\ttotal: 37s\tremaining: 30.8s\n",
      "546:\tlearn: 1629.5084674\ttotal: 37.1s\tremaining: 30.7s\n",
      "547:\tlearn: 1629.2708856\ttotal: 37.1s\tremaining: 30.6s\n",
      "548:\tlearn: 1629.0120972\ttotal: 37.2s\tremaining: 30.6s\n",
      "549:\tlearn: 1628.7338819\ttotal: 37.3s\tremaining: 30.5s\n",
      "550:\tlearn: 1628.6224770\ttotal: 37.3s\tremaining: 30.4s\n",
      "551:\tlearn: 1628.5358255\ttotal: 37.4s\tremaining: 30.3s\n",
      "552:\tlearn: 1628.3434008\ttotal: 37.4s\tremaining: 30.2s\n",
      "553:\tlearn: 1628.1462430\ttotal: 37.5s\tremaining: 30.2s\n",
      "554:\tlearn: 1627.9154738\ttotal: 37.5s\tremaining: 30.1s\n",
      "555:\tlearn: 1627.7655276\ttotal: 37.6s\tremaining: 30s\n",
      "556:\tlearn: 1627.5318486\ttotal: 37.7s\tremaining: 30s\n",
      "557:\tlearn: 1627.3087320\ttotal: 37.7s\tremaining: 29.9s\n",
      "558:\tlearn: 1627.1726969\ttotal: 37.8s\tremaining: 29.8s\n",
      "559:\tlearn: 1627.1453921\ttotal: 37.9s\tremaining: 29.7s\n",
      "560:\tlearn: 1626.9210739\ttotal: 37.9s\tremaining: 29.7s\n",
      "561:\tlearn: 1626.7315773\ttotal: 38s\tremaining: 29.6s\n",
      "562:\tlearn: 1626.7075284\ttotal: 38s\tremaining: 29.5s\n",
      "563:\tlearn: 1626.6154687\ttotal: 38.1s\tremaining: 29.4s\n",
      "564:\tlearn: 1626.5495903\ttotal: 38.1s\tremaining: 29.4s\n",
      "565:\tlearn: 1626.2739489\ttotal: 38.2s\tremaining: 29.3s\n",
      "566:\tlearn: 1626.0479926\ttotal: 38.3s\tremaining: 29.2s\n",
      "567:\tlearn: 1625.9868378\ttotal: 38.3s\tremaining: 29.2s\n",
      "568:\tlearn: 1625.9586715\ttotal: 38.4s\tremaining: 29.1s\n",
      "569:\tlearn: 1625.8303774\ttotal: 38.4s\tremaining: 29s\n",
      "570:\tlearn: 1625.7820497\ttotal: 38.5s\tremaining: 28.9s\n",
      "571:\tlearn: 1625.6489535\ttotal: 38.6s\tremaining: 28.9s\n",
      "572:\tlearn: 1625.3020243\ttotal: 38.7s\tremaining: 28.8s\n",
      "573:\tlearn: 1625.0293526\ttotal: 38.7s\tremaining: 28.7s\n",
      "574:\tlearn: 1624.8345973\ttotal: 38.8s\tremaining: 28.7s\n",
      "575:\tlearn: 1624.6639815\ttotal: 38.9s\tremaining: 28.6s\n",
      "576:\tlearn: 1624.4880003\ttotal: 39s\tremaining: 28.6s\n",
      "577:\tlearn: 1624.3385608\ttotal: 39s\tremaining: 28.5s\n",
      "578:\tlearn: 1624.1828205\ttotal: 39.1s\tremaining: 28.4s\n",
      "579:\tlearn: 1624.0740429\ttotal: 39.1s\tremaining: 28.3s\n",
      "580:\tlearn: 1623.8297631\ttotal: 39.2s\tremaining: 28.3s\n",
      "581:\tlearn: 1623.6787500\ttotal: 39.3s\tremaining: 28.2s\n",
      "582:\tlearn: 1623.3968892\ttotal: 39.3s\tremaining: 28.1s\n",
      "583:\tlearn: 1623.2472370\ttotal: 39.4s\tremaining: 28.1s\n",
      "584:\tlearn: 1623.1230860\ttotal: 39.5s\tremaining: 28s\n",
      "585:\tlearn: 1622.9095175\ttotal: 39.5s\tremaining: 27.9s\n",
      "586:\tlearn: 1622.6511593\ttotal: 39.6s\tremaining: 27.9s\n",
      "587:\tlearn: 1622.5128571\ttotal: 39.7s\tremaining: 27.8s\n",
      "588:\tlearn: 1622.4224516\ttotal: 39.7s\tremaining: 27.7s\n",
      "589:\tlearn: 1622.0810079\ttotal: 39.8s\tremaining: 27.7s\n",
      "590:\tlearn: 1621.8522271\ttotal: 39.9s\tremaining: 27.6s\n",
      "591:\tlearn: 1621.5532327\ttotal: 40s\tremaining: 27.5s\n",
      "592:\tlearn: 1621.3942626\ttotal: 40s\tremaining: 27.5s\n",
      "593:\tlearn: 1621.0015076\ttotal: 40.1s\tremaining: 27.4s\n",
      "594:\tlearn: 1620.7670563\ttotal: 40.2s\tremaining: 27.4s\n",
      "595:\tlearn: 1620.6703088\ttotal: 40.2s\tremaining: 27.3s\n",
      "596:\tlearn: 1620.3788052\ttotal: 40.3s\tremaining: 27.2s\n",
      "597:\tlearn: 1620.1367798\ttotal: 40.4s\tremaining: 27.2s\n",
      "598:\tlearn: 1619.9430769\ttotal: 40.5s\tremaining: 27.1s\n",
      "599:\tlearn: 1619.7114369\ttotal: 40.5s\tremaining: 27s\n",
      "600:\tlearn: 1619.6227280\ttotal: 40.6s\tremaining: 27s\n",
      "601:\tlearn: 1619.5136697\ttotal: 40.7s\tremaining: 26.9s\n",
      "602:\tlearn: 1619.4127705\ttotal: 40.8s\tremaining: 26.8s\n",
      "603:\tlearn: 1619.0014310\ttotal: 40.8s\tremaining: 26.8s\n",
      "604:\tlearn: 1618.9002775\ttotal: 40.9s\tremaining: 26.7s\n",
      "605:\tlearn: 1618.7933294\ttotal: 40.9s\tremaining: 26.6s\n",
      "606:\tlearn: 1618.6307453\ttotal: 41s\tremaining: 26.5s\n",
      "607:\tlearn: 1618.5372373\ttotal: 41.1s\tremaining: 26.5s\n",
      "608:\tlearn: 1618.2964613\ttotal: 41.1s\tremaining: 26.4s\n",
      "609:\tlearn: 1618.1741120\ttotal: 41.2s\tremaining: 26.3s\n",
      "610:\tlearn: 1618.0627436\ttotal: 41.3s\tremaining: 26.3s\n",
      "611:\tlearn: 1617.9412172\ttotal: 41.3s\tremaining: 26.2s\n",
      "612:\tlearn: 1617.7628343\ttotal: 41.4s\tremaining: 26.1s\n",
      "613:\tlearn: 1617.6822266\ttotal: 41.4s\tremaining: 26.1s\n",
      "614:\tlearn: 1617.5497914\ttotal: 41.5s\tremaining: 26s\n",
      "615:\tlearn: 1617.2422389\ttotal: 41.6s\tremaining: 25.9s\n",
      "616:\tlearn: 1617.1261824\ttotal: 41.7s\tremaining: 25.9s\n",
      "617:\tlearn: 1617.0639326\ttotal: 41.7s\tremaining: 25.8s\n",
      "618:\tlearn: 1616.8294078\ttotal: 41.8s\tremaining: 25.7s\n",
      "619:\tlearn: 1616.7173164\ttotal: 41.9s\tremaining: 25.6s\n",
      "620:\tlearn: 1616.6419176\ttotal: 41.9s\tremaining: 25.6s\n",
      "621:\tlearn: 1616.4278189\ttotal: 42s\tremaining: 25.5s\n",
      "622:\tlearn: 1616.2266871\ttotal: 42s\tremaining: 25.4s\n",
      "623:\tlearn: 1616.0788062\ttotal: 42.1s\tremaining: 25.4s\n",
      "624:\tlearn: 1616.0626725\ttotal: 42.2s\tremaining: 25.3s\n",
      "625:\tlearn: 1616.0115181\ttotal: 42.2s\tremaining: 25.2s\n",
      "626:\tlearn: 1615.7676046\ttotal: 42.3s\tremaining: 25.2s\n",
      "627:\tlearn: 1615.5101215\ttotal: 42.4s\tremaining: 25.1s\n",
      "628:\tlearn: 1615.3008458\ttotal: 42.4s\tremaining: 25s\n",
      "629:\tlearn: 1615.1576305\ttotal: 42.5s\tremaining: 25s\n",
      "630:\tlearn: 1614.8165245\ttotal: 42.6s\tremaining: 24.9s\n",
      "631:\tlearn: 1614.7504150\ttotal: 42.6s\tremaining: 24.8s\n",
      "632:\tlearn: 1614.5125996\ttotal: 42.7s\tremaining: 24.8s\n",
      "633:\tlearn: 1614.3504610\ttotal: 42.8s\tremaining: 24.7s\n",
      "634:\tlearn: 1614.0825382\ttotal: 42.8s\tremaining: 24.6s\n",
      "635:\tlearn: 1613.9710975\ttotal: 42.9s\tremaining: 24.6s\n",
      "636:\tlearn: 1613.8813377\ttotal: 43s\tremaining: 24.5s\n",
      "637:\tlearn: 1613.7504912\ttotal: 43.1s\tremaining: 24.5s\n",
      "638:\tlearn: 1613.6355922\ttotal: 43.1s\tremaining: 24.4s\n",
      "639:\tlearn: 1613.4437318\ttotal: 43.2s\tremaining: 24.3s\n",
      "640:\tlearn: 1613.2738312\ttotal: 43.3s\tremaining: 24.2s\n",
      "641:\tlearn: 1613.1518535\ttotal: 43.3s\tremaining: 24.2s\n",
      "642:\tlearn: 1612.9639272\ttotal: 43.4s\tremaining: 24.1s\n",
      "643:\tlearn: 1612.8337405\ttotal: 43.5s\tremaining: 24s\n",
      "644:\tlearn: 1612.5337008\ttotal: 43.6s\tremaining: 24s\n",
      "645:\tlearn: 1612.4150494\ttotal: 43.6s\tremaining: 23.9s\n",
      "646:\tlearn: 1612.2344605\ttotal: 43.7s\tremaining: 23.8s\n",
      "647:\tlearn: 1611.9503369\ttotal: 43.8s\tremaining: 23.8s\n",
      "648:\tlearn: 1611.7278252\ttotal: 43.8s\tremaining: 23.7s\n",
      "649:\tlearn: 1611.4737397\ttotal: 43.9s\tremaining: 23.6s\n",
      "650:\tlearn: 1611.4148166\ttotal: 43.9s\tremaining: 23.6s\n",
      "651:\tlearn: 1611.0734195\ttotal: 44s\tremaining: 23.5s\n",
      "652:\tlearn: 1611.0235254\ttotal: 44.1s\tremaining: 23.4s\n",
      "653:\tlearn: 1610.8218100\ttotal: 44.1s\tremaining: 23.3s\n",
      "654:\tlearn: 1610.5884521\ttotal: 44.2s\tremaining: 23.3s\n",
      "655:\tlearn: 1610.3425354\ttotal: 44.2s\tremaining: 23.2s\n",
      "656:\tlearn: 1610.3297067\ttotal: 44.3s\tremaining: 23.1s\n",
      "657:\tlearn: 1610.1497413\ttotal: 44.4s\tremaining: 23.1s\n",
      "658:\tlearn: 1610.0525706\ttotal: 44.5s\tremaining: 23s\n",
      "659:\tlearn: 1609.9745485\ttotal: 44.5s\tremaining: 22.9s\n",
      "660:\tlearn: 1609.6421836\ttotal: 44.6s\tremaining: 22.9s\n",
      "661:\tlearn: 1609.3410660\ttotal: 44.6s\tremaining: 22.8s\n",
      "662:\tlearn: 1609.1858699\ttotal: 44.7s\tremaining: 22.7s\n",
      "663:\tlearn: 1609.0567538\ttotal: 44.8s\tremaining: 22.7s\n",
      "664:\tlearn: 1608.9081222\ttotal: 44.8s\tremaining: 22.6s\n",
      "665:\tlearn: 1608.7344726\ttotal: 44.9s\tremaining: 22.5s\n",
      "666:\tlearn: 1608.4990439\ttotal: 45s\tremaining: 22.4s\n",
      "667:\tlearn: 1608.2791831\ttotal: 45s\tremaining: 22.4s\n",
      "668:\tlearn: 1608.2105128\ttotal: 45.1s\tremaining: 22.3s\n",
      "669:\tlearn: 1608.0656642\ttotal: 45.1s\tremaining: 22.2s\n",
      "670:\tlearn: 1607.9571859\ttotal: 45.2s\tremaining: 22.2s\n",
      "671:\tlearn: 1607.8254855\ttotal: 45.3s\tremaining: 22.1s\n",
      "672:\tlearn: 1607.7300306\ttotal: 45.3s\tremaining: 22s\n",
      "673:\tlearn: 1607.3597449\ttotal: 45.4s\tremaining: 22s\n",
      "674:\tlearn: 1607.1979908\ttotal: 45.5s\tremaining: 21.9s\n",
      "675:\tlearn: 1607.1294111\ttotal: 45.5s\tremaining: 21.8s\n",
      "676:\tlearn: 1607.0267565\ttotal: 45.6s\tremaining: 21.8s\n",
      "677:\tlearn: 1606.9067363\ttotal: 45.7s\tremaining: 21.7s\n",
      "678:\tlearn: 1606.8454901\ttotal: 45.8s\tremaining: 21.6s\n",
      "679:\tlearn: 1606.7459626\ttotal: 45.8s\tremaining: 21.6s\n",
      "680:\tlearn: 1606.5621145\ttotal: 45.9s\tremaining: 21.5s\n",
      "681:\tlearn: 1606.3291063\ttotal: 46s\tremaining: 21.4s\n",
      "682:\tlearn: 1606.1405076\ttotal: 46s\tremaining: 21.4s\n",
      "683:\tlearn: 1605.8761283\ttotal: 46.1s\tremaining: 21.3s\n",
      "684:\tlearn: 1605.7298689\ttotal: 46.2s\tremaining: 21.2s\n",
      "685:\tlearn: 1605.6274857\ttotal: 46.2s\tremaining: 21.2s\n",
      "686:\tlearn: 1605.4351492\ttotal: 46.3s\tremaining: 21.1s\n",
      "687:\tlearn: 1605.2645034\ttotal: 46.4s\tremaining: 21s\n",
      "688:\tlearn: 1605.1607341\ttotal: 46.4s\tremaining: 21s\n",
      "689:\tlearn: 1604.9873423\ttotal: 46.5s\tremaining: 20.9s\n",
      "690:\tlearn: 1604.8781522\ttotal: 46.6s\tremaining: 20.8s\n",
      "691:\tlearn: 1604.8442118\ttotal: 46.6s\tremaining: 20.8s\n",
      "692:\tlearn: 1604.6865604\ttotal: 46.7s\tremaining: 20.7s\n",
      "693:\tlearn: 1604.5504051\ttotal: 46.8s\tremaining: 20.6s\n",
      "694:\tlearn: 1604.3520618\ttotal: 46.8s\tremaining: 20.5s\n",
      "695:\tlearn: 1604.2391855\ttotal: 46.9s\tremaining: 20.5s\n",
      "696:\tlearn: 1604.1706847\ttotal: 47s\tremaining: 20.4s\n",
      "697:\tlearn: 1604.1380260\ttotal: 47.1s\tremaining: 20.4s\n",
      "698:\tlearn: 1604.0086165\ttotal: 47.1s\tremaining: 20.3s\n",
      "699:\tlearn: 1603.8665169\ttotal: 47.2s\tremaining: 20.2s\n",
      "700:\tlearn: 1603.7505829\ttotal: 47.2s\tremaining: 20.2s\n",
      "701:\tlearn: 1603.6259156\ttotal: 47.3s\tremaining: 20.1s\n",
      "702:\tlearn: 1603.4872493\ttotal: 47.4s\tremaining: 20s\n",
      "703:\tlearn: 1603.2848528\ttotal: 47.4s\tremaining: 19.9s\n",
      "704:\tlearn: 1603.2146378\ttotal: 47.5s\tremaining: 19.9s\n",
      "705:\tlearn: 1602.9974924\ttotal: 47.6s\tremaining: 19.8s\n",
      "706:\tlearn: 1602.7789878\ttotal: 47.7s\tremaining: 19.8s\n",
      "707:\tlearn: 1602.4897941\ttotal: 47.7s\tremaining: 19.7s\n",
      "708:\tlearn: 1602.3808320\ttotal: 47.8s\tremaining: 19.6s\n",
      "709:\tlearn: 1602.1180532\ttotal: 47.9s\tremaining: 19.6s\n",
      "710:\tlearn: 1602.0022454\ttotal: 48s\tremaining: 19.5s\n",
      "711:\tlearn: 1601.7584763\ttotal: 48s\tremaining: 19.4s\n",
      "712:\tlearn: 1601.6084680\ttotal: 48.1s\tremaining: 19.4s\n",
      "713:\tlearn: 1601.5869662\ttotal: 48.2s\tremaining: 19.3s\n",
      "714:\tlearn: 1601.4965881\ttotal: 48.2s\tremaining: 19.2s\n",
      "715:\tlearn: 1601.4067612\ttotal: 48.3s\tremaining: 19.2s\n",
      "716:\tlearn: 1601.2624221\ttotal: 48.4s\tremaining: 19.1s\n",
      "717:\tlearn: 1601.2426602\ttotal: 48.5s\tremaining: 19s\n",
      "718:\tlearn: 1601.0261389\ttotal: 48.5s\tremaining: 19s\n",
      "719:\tlearn: 1600.8813521\ttotal: 48.6s\tremaining: 18.9s\n",
      "720:\tlearn: 1600.7854556\ttotal: 48.6s\tremaining: 18.8s\n",
      "721:\tlearn: 1600.6714370\ttotal: 48.7s\tremaining: 18.7s\n",
      "722:\tlearn: 1600.6234410\ttotal: 48.8s\tremaining: 18.7s\n",
      "723:\tlearn: 1600.5226865\ttotal: 48.8s\tremaining: 18.6s\n",
      "724:\tlearn: 1600.3984408\ttotal: 48.9s\tremaining: 18.5s\n",
      "725:\tlearn: 1600.2888074\ttotal: 48.9s\tremaining: 18.5s\n",
      "726:\tlearn: 1600.1678727\ttotal: 49s\tremaining: 18.4s\n",
      "727:\tlearn: 1600.1475446\ttotal: 49.1s\tremaining: 18.3s\n",
      "728:\tlearn: 1600.0184187\ttotal: 49.1s\tremaining: 18.3s\n",
      "729:\tlearn: 1599.8033301\ttotal: 49.2s\tremaining: 18.2s\n",
      "730:\tlearn: 1599.7444398\ttotal: 49.2s\tremaining: 18.1s\n",
      "731:\tlearn: 1599.5886632\ttotal: 49.3s\tremaining: 18s\n",
      "732:\tlearn: 1599.4323949\ttotal: 49.4s\tremaining: 18s\n",
      "733:\tlearn: 1599.3603418\ttotal: 49.4s\tremaining: 17.9s\n",
      "734:\tlearn: 1599.1547281\ttotal: 49.5s\tremaining: 17.8s\n",
      "735:\tlearn: 1598.9430291\ttotal: 49.6s\tremaining: 17.8s\n",
      "736:\tlearn: 1598.7257986\ttotal: 49.6s\tremaining: 17.7s\n",
      "737:\tlearn: 1598.6457756\ttotal: 49.7s\tremaining: 17.7s\n",
      "738:\tlearn: 1598.6308665\ttotal: 49.8s\tremaining: 17.6s\n",
      "739:\tlearn: 1598.5890394\ttotal: 49.8s\tremaining: 17.5s\n",
      "740:\tlearn: 1598.4508577\ttotal: 49.9s\tremaining: 17.4s\n",
      "741:\tlearn: 1598.3198609\ttotal: 49.9s\tremaining: 17.4s\n",
      "742:\tlearn: 1598.2757366\ttotal: 50s\tremaining: 17.3s\n",
      "743:\tlearn: 1598.1556475\ttotal: 50.1s\tremaining: 17.2s\n",
      "744:\tlearn: 1598.0049076\ttotal: 50.1s\tremaining: 17.2s\n",
      "745:\tlearn: 1597.8360737\ttotal: 50.2s\tremaining: 17.1s\n",
      "746:\tlearn: 1597.8265574\ttotal: 50.3s\tremaining: 17s\n",
      "747:\tlearn: 1597.7853772\ttotal: 50.3s\tremaining: 17s\n",
      "748:\tlearn: 1597.5759103\ttotal: 50.4s\tremaining: 16.9s\n",
      "749:\tlearn: 1597.3079002\ttotal: 50.4s\tremaining: 16.8s\n",
      "750:\tlearn: 1597.0784757\ttotal: 50.5s\tremaining: 16.7s\n",
      "751:\tlearn: 1596.9074627\ttotal: 50.6s\tremaining: 16.7s\n",
      "752:\tlearn: 1596.6020687\ttotal: 50.6s\tremaining: 16.6s\n",
      "753:\tlearn: 1596.5127266\ttotal: 50.7s\tremaining: 16.5s\n",
      "754:\tlearn: 1596.2620926\ttotal: 50.8s\tremaining: 16.5s\n",
      "755:\tlearn: 1596.2464330\ttotal: 50.9s\tremaining: 16.4s\n",
      "756:\tlearn: 1596.2274945\ttotal: 50.9s\tremaining: 16.3s\n",
      "757:\tlearn: 1596.1464123\ttotal: 51s\tremaining: 16.3s\n",
      "758:\tlearn: 1596.0893224\ttotal: 51s\tremaining: 16.2s\n",
      "759:\tlearn: 1595.8967778\ttotal: 51.1s\tremaining: 16.1s\n",
      "760:\tlearn: 1595.6873500\ttotal: 51.2s\tremaining: 16.1s\n",
      "761:\tlearn: 1595.6045727\ttotal: 51.3s\tremaining: 16s\n",
      "762:\tlearn: 1595.3845767\ttotal: 51.3s\tremaining: 15.9s\n",
      "763:\tlearn: 1595.0597309\ttotal: 51.4s\tremaining: 15.9s\n",
      "764:\tlearn: 1594.9479219\ttotal: 51.5s\tremaining: 15.8s\n",
      "765:\tlearn: 1594.7829357\ttotal: 51.5s\tremaining: 15.7s\n",
      "766:\tlearn: 1594.6684397\ttotal: 51.6s\tremaining: 15.7s\n",
      "767:\tlearn: 1594.5440624\ttotal: 51.6s\tremaining: 15.6s\n",
      "768:\tlearn: 1594.4450543\ttotal: 51.7s\tremaining: 15.5s\n",
      "769:\tlearn: 1594.2059619\ttotal: 51.8s\tremaining: 15.5s\n",
      "770:\tlearn: 1594.0350942\ttotal: 51.8s\tremaining: 15.4s\n",
      "771:\tlearn: 1593.8932072\ttotal: 51.9s\tremaining: 15.3s\n",
      "772:\tlearn: 1593.7782891\ttotal: 52s\tremaining: 15.3s\n",
      "773:\tlearn: 1593.5369153\ttotal: 52s\tremaining: 15.2s\n",
      "774:\tlearn: 1593.4106464\ttotal: 52.1s\tremaining: 15.1s\n",
      "775:\tlearn: 1593.3446821\ttotal: 52.2s\tremaining: 15.1s\n",
      "776:\tlearn: 1593.1720061\ttotal: 52.2s\tremaining: 15s\n",
      "777:\tlearn: 1593.1162084\ttotal: 52.3s\tremaining: 14.9s\n",
      "778:\tlearn: 1592.8792448\ttotal: 52.4s\tremaining: 14.9s\n",
      "779:\tlearn: 1592.7809036\ttotal: 52.4s\tremaining: 14.8s\n",
      "780:\tlearn: 1592.5536263\ttotal: 52.5s\tremaining: 14.7s\n",
      "781:\tlearn: 1592.3726897\ttotal: 52.6s\tremaining: 14.7s\n",
      "782:\tlearn: 1592.1647850\ttotal: 52.6s\tremaining: 14.6s\n",
      "783:\tlearn: 1592.1174005\ttotal: 52.7s\tremaining: 14.5s\n",
      "784:\tlearn: 1591.8600178\ttotal: 52.7s\tremaining: 14.4s\n",
      "785:\tlearn: 1591.6690306\ttotal: 52.8s\tremaining: 14.4s\n",
      "786:\tlearn: 1591.4613849\ttotal: 52.9s\tremaining: 14.3s\n",
      "787:\tlearn: 1591.3786449\ttotal: 52.9s\tremaining: 14.2s\n",
      "788:\tlearn: 1591.2704508\ttotal: 53s\tremaining: 14.2s\n",
      "789:\tlearn: 1591.1529896\ttotal: 53.1s\tremaining: 14.1s\n",
      "790:\tlearn: 1591.0543526\ttotal: 53.1s\tremaining: 14s\n",
      "791:\tlearn: 1590.9161776\ttotal: 53.2s\tremaining: 14s\n",
      "792:\tlearn: 1590.7573034\ttotal: 53.3s\tremaining: 13.9s\n",
      "793:\tlearn: 1590.4653022\ttotal: 53.4s\tremaining: 13.8s\n",
      "794:\tlearn: 1590.3562917\ttotal: 53.4s\tremaining: 13.8s\n",
      "795:\tlearn: 1590.3011576\ttotal: 53.5s\tremaining: 13.7s\n",
      "796:\tlearn: 1590.1540196\ttotal: 53.6s\tremaining: 13.6s\n",
      "797:\tlearn: 1590.0219075\ttotal: 53.6s\tremaining: 13.6s\n",
      "798:\tlearn: 1589.9137909\ttotal: 53.7s\tremaining: 13.5s\n",
      "799:\tlearn: 1589.9115939\ttotal: 53.8s\tremaining: 13.4s\n",
      "800:\tlearn: 1589.8337605\ttotal: 53.8s\tremaining: 13.4s\n",
      "801:\tlearn: 1589.8081698\ttotal: 53.9s\tremaining: 13.3s\n",
      "802:\tlearn: 1589.5911370\ttotal: 54s\tremaining: 13.2s\n",
      "803:\tlearn: 1589.5022786\ttotal: 54s\tremaining: 13.2s\n",
      "804:\tlearn: 1589.2640928\ttotal: 54.1s\tremaining: 13.1s\n",
      "805:\tlearn: 1589.0500078\ttotal: 54.1s\tremaining: 13s\n",
      "806:\tlearn: 1588.9647672\ttotal: 54.2s\tremaining: 13s\n",
      "807:\tlearn: 1588.8560204\ttotal: 54.3s\tremaining: 12.9s\n",
      "808:\tlearn: 1588.7242972\ttotal: 54.4s\tremaining: 12.8s\n",
      "809:\tlearn: 1588.4879152\ttotal: 54.4s\tremaining: 12.8s\n",
      "810:\tlearn: 1588.4859168\ttotal: 54.5s\tremaining: 12.7s\n",
      "811:\tlearn: 1588.3842416\ttotal: 54.5s\tremaining: 12.6s\n",
      "812:\tlearn: 1588.2394751\ttotal: 54.6s\tremaining: 12.6s\n",
      "813:\tlearn: 1588.1222319\ttotal: 54.7s\tremaining: 12.5s\n",
      "814:\tlearn: 1588.0046045\ttotal: 54.7s\tremaining: 12.4s\n",
      "815:\tlearn: 1587.9254949\ttotal: 54.8s\tremaining: 12.4s\n",
      "816:\tlearn: 1587.8691009\ttotal: 54.9s\tremaining: 12.3s\n",
      "817:\tlearn: 1587.8229446\ttotal: 54.9s\tremaining: 12.2s\n",
      "818:\tlearn: 1587.7283605\ttotal: 55s\tremaining: 12.2s\n",
      "819:\tlearn: 1587.5389285\ttotal: 55.1s\tremaining: 12.1s\n",
      "820:\tlearn: 1587.3859411\ttotal: 55.1s\tremaining: 12s\n",
      "821:\tlearn: 1587.3233528\ttotal: 55.2s\tremaining: 12s\n",
      "822:\tlearn: 1587.2568860\ttotal: 55.3s\tremaining: 11.9s\n",
      "823:\tlearn: 1587.1505933\ttotal: 55.3s\tremaining: 11.8s\n",
      "824:\tlearn: 1587.1056534\ttotal: 55.4s\tremaining: 11.8s\n",
      "825:\tlearn: 1586.9159533\ttotal: 55.5s\tremaining: 11.7s\n",
      "826:\tlearn: 1586.7545481\ttotal: 55.5s\tremaining: 11.6s\n",
      "827:\tlearn: 1586.4857436\ttotal: 55.6s\tremaining: 11.5s\n",
      "828:\tlearn: 1586.4186199\ttotal: 55.7s\tremaining: 11.5s\n",
      "829:\tlearn: 1586.2118212\ttotal: 55.7s\tremaining: 11.4s\n",
      "830:\tlearn: 1586.1244349\ttotal: 55.8s\tremaining: 11.3s\n",
      "831:\tlearn: 1585.9625846\ttotal: 55.9s\tremaining: 11.3s\n",
      "832:\tlearn: 1585.9115278\ttotal: 55.9s\tremaining: 11.2s\n",
      "833:\tlearn: 1585.8209185\ttotal: 56s\tremaining: 11.1s\n",
      "834:\tlearn: 1585.6503523\ttotal: 56.1s\tremaining: 11.1s\n",
      "835:\tlearn: 1585.6060985\ttotal: 56.1s\tremaining: 11s\n",
      "836:\tlearn: 1585.4444404\ttotal: 56.2s\tremaining: 10.9s\n",
      "837:\tlearn: 1585.3299977\ttotal: 56.3s\tremaining: 10.9s\n",
      "838:\tlearn: 1585.0839645\ttotal: 56.3s\tremaining: 10.8s\n",
      "839:\tlearn: 1584.9793558\ttotal: 56.4s\tremaining: 10.7s\n",
      "840:\tlearn: 1584.8341281\ttotal: 56.5s\tremaining: 10.7s\n",
      "841:\tlearn: 1584.7223230\ttotal: 56.6s\tremaining: 10.6s\n",
      "842:\tlearn: 1584.6038243\ttotal: 56.6s\tremaining: 10.5s\n",
      "843:\tlearn: 1584.3261755\ttotal: 56.7s\tremaining: 10.5s\n",
      "844:\tlearn: 1584.0915844\ttotal: 56.7s\tremaining: 10.4s\n",
      "845:\tlearn: 1584.0481288\ttotal: 56.8s\tremaining: 10.3s\n",
      "846:\tlearn: 1583.9644663\ttotal: 56.8s\tremaining: 10.3s\n",
      "847:\tlearn: 1583.5288311\ttotal: 56.9s\tremaining: 10.2s\n",
      "848:\tlearn: 1583.4200521\ttotal: 57s\tremaining: 10.1s\n",
      "849:\tlearn: 1583.4187406\ttotal: 57s\tremaining: 10.1s\n",
      "850:\tlearn: 1583.1408419\ttotal: 57.1s\tremaining: 10s\n",
      "851:\tlearn: 1582.8593538\ttotal: 57.2s\tremaining: 9.93s\n",
      "852:\tlearn: 1582.6962385\ttotal: 57.2s\tremaining: 9.86s\n",
      "853:\tlearn: 1582.6937593\ttotal: 57.3s\tremaining: 9.79s\n",
      "854:\tlearn: 1582.5112398\ttotal: 57.3s\tremaining: 9.72s\n",
      "855:\tlearn: 1582.4439800\ttotal: 57.4s\tremaining: 9.66s\n",
      "856:\tlearn: 1582.1770042\ttotal: 57.5s\tremaining: 9.59s\n",
      "857:\tlearn: 1581.8713953\ttotal: 57.5s\tremaining: 9.52s\n",
      "858:\tlearn: 1581.5987761\ttotal: 57.6s\tremaining: 9.45s\n",
      "859:\tlearn: 1581.4054886\ttotal: 57.7s\tremaining: 9.38s\n",
      "860:\tlearn: 1581.3467647\ttotal: 57.7s\tremaining: 9.31s\n",
      "861:\tlearn: 1581.3363400\ttotal: 57.8s\tremaining: 9.25s\n",
      "862:\tlearn: 1581.3176746\ttotal: 57.8s\tremaining: 9.18s\n",
      "863:\tlearn: 1581.2568194\ttotal: 57.9s\tremaining: 9.11s\n",
      "864:\tlearn: 1581.2394019\ttotal: 58s\tremaining: 9.05s\n",
      "865:\tlearn: 1581.0413229\ttotal: 58s\tremaining: 8.98s\n",
      "866:\tlearn: 1580.9879032\ttotal: 58.1s\tremaining: 8.91s\n",
      "867:\tlearn: 1580.8649171\ttotal: 58.2s\tremaining: 8.85s\n",
      "868:\tlearn: 1580.7221742\ttotal: 58.2s\tremaining: 8.78s\n",
      "869:\tlearn: 1580.6120286\ttotal: 58.3s\tremaining: 8.71s\n",
      "870:\tlearn: 1580.3995978\ttotal: 58.4s\tremaining: 8.64s\n",
      "871:\tlearn: 1580.2993323\ttotal: 58.4s\tremaining: 8.58s\n",
      "872:\tlearn: 1580.1696336\ttotal: 58.5s\tremaining: 8.51s\n",
      "873:\tlearn: 1579.9993479\ttotal: 58.6s\tremaining: 8.45s\n",
      "874:\tlearn: 1579.8400368\ttotal: 58.7s\tremaining: 8.38s\n",
      "875:\tlearn: 1579.6887829\ttotal: 58.7s\tremaining: 8.31s\n",
      "876:\tlearn: 1579.6357571\ttotal: 58.8s\tremaining: 8.25s\n",
      "877:\tlearn: 1579.4000627\ttotal: 58.9s\tremaining: 8.18s\n",
      "878:\tlearn: 1579.2355396\ttotal: 58.9s\tremaining: 8.11s\n",
      "879:\tlearn: 1579.0638857\ttotal: 59s\tremaining: 8.05s\n",
      "880:\tlearn: 1578.8573526\ttotal: 59.1s\tremaining: 7.98s\n",
      "881:\tlearn: 1578.7109541\ttotal: 59.1s\tremaining: 7.91s\n",
      "882:\tlearn: 1578.6709161\ttotal: 59.2s\tremaining: 7.84s\n",
      "883:\tlearn: 1578.5654133\ttotal: 59.3s\tremaining: 7.78s\n",
      "884:\tlearn: 1578.4594064\ttotal: 59.3s\tremaining: 7.71s\n",
      "885:\tlearn: 1578.2387517\ttotal: 59.4s\tremaining: 7.65s\n",
      "886:\tlearn: 1578.1049398\ttotal: 59.5s\tremaining: 7.58s\n",
      "887:\tlearn: 1577.9356279\ttotal: 59.5s\tremaining: 7.51s\n",
      "888:\tlearn: 1577.7276375\ttotal: 59.6s\tremaining: 7.44s\n",
      "889:\tlearn: 1577.4202203\ttotal: 59.7s\tremaining: 7.38s\n",
      "890:\tlearn: 1577.3237863\ttotal: 59.8s\tremaining: 7.31s\n",
      "891:\tlearn: 1577.1222574\ttotal: 59.8s\tremaining: 7.24s\n",
      "892:\tlearn: 1576.9691830\ttotal: 59.9s\tremaining: 7.18s\n",
      "893:\tlearn: 1576.7867171\ttotal: 60s\tremaining: 7.11s\n",
      "894:\tlearn: 1576.6922894\ttotal: 1m\tremaining: 7.04s\n",
      "895:\tlearn: 1576.5281410\ttotal: 1m\tremaining: 6.98s\n",
      "896:\tlearn: 1576.3601062\ttotal: 1m\tremaining: 6.91s\n",
      "897:\tlearn: 1576.0356019\ttotal: 1m\tremaining: 6.85s\n",
      "898:\tlearn: 1575.8625118\ttotal: 1m\tremaining: 6.78s\n",
      "899:\tlearn: 1575.8259179\ttotal: 1m\tremaining: 6.71s\n",
      "900:\tlearn: 1575.8123423\ttotal: 1m\tremaining: 6.65s\n",
      "901:\tlearn: 1575.6653526\ttotal: 1m\tremaining: 6.58s\n",
      "902:\tlearn: 1575.4293822\ttotal: 1m\tremaining: 6.51s\n",
      "903:\tlearn: 1575.2195747\ttotal: 1m\tremaining: 6.44s\n",
      "904:\tlearn: 1575.1241398\ttotal: 1m\tremaining: 6.38s\n",
      "905:\tlearn: 1575.0562390\ttotal: 1m\tremaining: 6.31s\n",
      "906:\tlearn: 1574.8871130\ttotal: 1m\tremaining: 6.24s\n",
      "907:\tlearn: 1574.8306187\ttotal: 1m\tremaining: 6.18s\n",
      "908:\tlearn: 1574.8282842\ttotal: 1m 1s\tremaining: 6.11s\n",
      "909:\tlearn: 1574.6419474\ttotal: 1m 1s\tremaining: 6.04s\n",
      "910:\tlearn: 1574.5764248\ttotal: 1m 1s\tremaining: 5.97s\n",
      "911:\tlearn: 1574.5192701\ttotal: 1m 1s\tremaining: 5.91s\n",
      "912:\tlearn: 1574.4965911\ttotal: 1m 1s\tremaining: 5.84s\n",
      "913:\tlearn: 1574.3427940\ttotal: 1m 1s\tremaining: 5.78s\n",
      "914:\tlearn: 1574.0287046\ttotal: 1m 1s\tremaining: 5.71s\n",
      "915:\tlearn: 1573.9405184\ttotal: 1m 1s\tremaining: 5.64s\n",
      "916:\tlearn: 1573.7806406\ttotal: 1m 1s\tremaining: 5.58s\n",
      "917:\tlearn: 1573.5562166\ttotal: 1m 1s\tremaining: 5.51s\n",
      "918:\tlearn: 1573.3434635\ttotal: 1m 1s\tremaining: 5.44s\n",
      "919:\tlearn: 1573.3036837\ttotal: 1m 1s\tremaining: 5.38s\n",
      "920:\tlearn: 1573.1883776\ttotal: 1m 1s\tremaining: 5.31s\n",
      "921:\tlearn: 1573.0613573\ttotal: 1m 1s\tremaining: 5.24s\n",
      "922:\tlearn: 1573.0157426\ttotal: 1m 2s\tremaining: 5.18s\n",
      "923:\tlearn: 1572.9395875\ttotal: 1m 2s\tremaining: 5.11s\n",
      "924:\tlearn: 1572.7606479\ttotal: 1m 2s\tremaining: 5.04s\n",
      "925:\tlearn: 1572.6144474\ttotal: 1m 2s\tremaining: 4.98s\n",
      "926:\tlearn: 1572.5222827\ttotal: 1m 2s\tremaining: 4.91s\n",
      "927:\tlearn: 1572.4219797\ttotal: 1m 2s\tremaining: 4.84s\n",
      "928:\tlearn: 1572.2502035\ttotal: 1m 2s\tremaining: 4.78s\n",
      "929:\tlearn: 1572.0041240\ttotal: 1m 2s\tremaining: 4.71s\n",
      "930:\tlearn: 1571.7800357\ttotal: 1m 2s\tremaining: 4.64s\n",
      "931:\tlearn: 1571.7280601\ttotal: 1m 2s\tremaining: 4.57s\n",
      "932:\tlearn: 1571.6615156\ttotal: 1m 2s\tremaining: 4.51s\n",
      "933:\tlearn: 1571.4980181\ttotal: 1m 2s\tremaining: 4.44s\n",
      "934:\tlearn: 1571.2448226\ttotal: 1m 2s\tremaining: 4.37s\n",
      "935:\tlearn: 1571.1719781\ttotal: 1m 2s\tremaining: 4.3s\n",
      "936:\tlearn: 1570.9627935\ttotal: 1m 3s\tremaining: 4.24s\n",
      "937:\tlearn: 1570.7502471\ttotal: 1m 3s\tremaining: 4.17s\n",
      "938:\tlearn: 1570.6948629\ttotal: 1m 3s\tremaining: 4.1s\n",
      "939:\tlearn: 1570.5618527\ttotal: 1m 3s\tremaining: 4.03s\n",
      "940:\tlearn: 1570.5473344\ttotal: 1m 3s\tremaining: 3.97s\n",
      "941:\tlearn: 1570.4981315\ttotal: 1m 3s\tremaining: 3.9s\n",
      "942:\tlearn: 1570.4404546\ttotal: 1m 3s\tremaining: 3.83s\n",
      "943:\tlearn: 1570.2932520\ttotal: 1m 3s\tremaining: 3.76s\n",
      "944:\tlearn: 1570.1763343\ttotal: 1m 3s\tremaining: 3.7s\n",
      "945:\tlearn: 1569.8872827\ttotal: 1m 3s\tremaining: 3.63s\n",
      "946:\tlearn: 1569.6506933\ttotal: 1m 3s\tremaining: 3.56s\n",
      "947:\tlearn: 1569.5562436\ttotal: 1m 3s\tremaining: 3.5s\n",
      "948:\tlearn: 1569.4716609\ttotal: 1m 3s\tremaining: 3.43s\n",
      "949:\tlearn: 1569.1199953\ttotal: 1m 3s\tremaining: 3.36s\n",
      "950:\tlearn: 1569.1056112\ttotal: 1m 3s\tremaining: 3.29s\n",
      "951:\tlearn: 1568.9580152\ttotal: 1m 3s\tremaining: 3.23s\n",
      "952:\tlearn: 1568.8742712\ttotal: 1m 4s\tremaining: 3.16s\n",
      "953:\tlearn: 1568.7379550\ttotal: 1m 4s\tremaining: 3.09s\n",
      "954:\tlearn: 1568.6644551\ttotal: 1m 4s\tremaining: 3.02s\n",
      "955:\tlearn: 1568.5557222\ttotal: 1m 4s\tremaining: 2.96s\n",
      "956:\tlearn: 1568.4228920\ttotal: 1m 4s\tremaining: 2.89s\n",
      "957:\tlearn: 1568.3070048\ttotal: 1m 4s\tremaining: 2.82s\n",
      "958:\tlearn: 1568.1358522\ttotal: 1m 4s\tremaining: 2.76s\n",
      "959:\tlearn: 1568.0781260\ttotal: 1m 4s\tremaining: 2.69s\n",
      "960:\tlearn: 1568.0762933\ttotal: 1m 4s\tremaining: 2.62s\n",
      "961:\tlearn: 1568.0152236\ttotal: 1m 4s\tremaining: 2.56s\n",
      "962:\tlearn: 1567.8519591\ttotal: 1m 4s\tremaining: 2.49s\n",
      "963:\tlearn: 1567.7967679\ttotal: 1m 4s\tremaining: 2.42s\n",
      "964:\tlearn: 1567.7420519\ttotal: 1m 4s\tremaining: 2.35s\n",
      "965:\tlearn: 1567.4504663\ttotal: 1m 4s\tremaining: 2.29s\n",
      "966:\tlearn: 1567.2108900\ttotal: 1m 5s\tremaining: 2.22s\n",
      "967:\tlearn: 1567.0746676\ttotal: 1m 5s\tremaining: 2.15s\n",
      "968:\tlearn: 1566.8949694\ttotal: 1m 5s\tremaining: 2.09s\n",
      "969:\tlearn: 1566.8004155\ttotal: 1m 5s\tremaining: 2.02s\n",
      "970:\tlearn: 1566.7630142\ttotal: 1m 5s\tremaining: 1.95s\n",
      "971:\tlearn: 1566.7239729\ttotal: 1m 5s\tremaining: 1.88s\n",
      "972:\tlearn: 1566.6563992\ttotal: 1m 5s\tremaining: 1.82s\n",
      "973:\tlearn: 1566.6120046\ttotal: 1m 5s\tremaining: 1.75s\n",
      "974:\tlearn: 1566.5039358\ttotal: 1m 5s\tremaining: 1.68s\n",
      "975:\tlearn: 1566.4667421\ttotal: 1m 5s\tremaining: 1.61s\n",
      "976:\tlearn: 1566.3944773\ttotal: 1m 5s\tremaining: 1.55s\n",
      "977:\tlearn: 1566.2906308\ttotal: 1m 5s\tremaining: 1.48s\n",
      "978:\tlearn: 1566.2345684\ttotal: 1m 5s\tremaining: 1.41s\n",
      "979:\tlearn: 1565.9984702\ttotal: 1m 5s\tremaining: 1.34s\n",
      "980:\tlearn: 1565.8385352\ttotal: 1m 5s\tremaining: 1.28s\n",
      "981:\tlearn: 1565.8200053\ttotal: 1m 6s\tremaining: 1.21s\n",
      "982:\tlearn: 1565.7104668\ttotal: 1m 6s\tremaining: 1.14s\n",
      "983:\tlearn: 1565.6271893\ttotal: 1m 6s\tremaining: 1.07s\n",
      "984:\tlearn: 1565.4913112\ttotal: 1m 6s\tremaining: 1.01s\n",
      "985:\tlearn: 1565.4578552\ttotal: 1m 6s\tremaining: 941ms\n",
      "986:\tlearn: 1565.3989023\ttotal: 1m 6s\tremaining: 873ms\n",
      "987:\tlearn: 1565.2799980\ttotal: 1m 6s\tremaining: 806ms\n",
      "988:\tlearn: 1565.2347540\ttotal: 1m 6s\tremaining: 739ms\n",
      "989:\tlearn: 1565.2087699\ttotal: 1m 6s\tremaining: 672ms\n",
      "990:\tlearn: 1565.0264720\ttotal: 1m 6s\tremaining: 605ms\n",
      "991:\tlearn: 1564.8595390\ttotal: 1m 6s\tremaining: 538ms\n",
      "992:\tlearn: 1564.6232259\ttotal: 1m 6s\tremaining: 470ms\n",
      "993:\tlearn: 1564.5777648\ttotal: 1m 6s\tremaining: 403ms\n",
      "994:\tlearn: 1564.5103675\ttotal: 1m 6s\tremaining: 336ms\n",
      "995:\tlearn: 1564.3327023\ttotal: 1m 6s\tremaining: 269ms\n",
      "996:\tlearn: 1564.3183360\ttotal: 1m 7s\tremaining: 202ms\n",
      "997:\tlearn: 1564.0959562\ttotal: 1m 7s\tremaining: 134ms\n",
      "998:\tlearn: 1563.9615082\ttotal: 1m 7s\tremaining: 67.2ms\n",
      "999:\tlearn: 1563.9318368\ttotal: 1m 7s\tremaining: 0us\n",
      "Learning rate set to 0.084372\n",
      "0:\tlearn: 4301.9377938\ttotal: 83.2ms\tremaining: 1m 23s\n",
      "1:\tlearn: 4078.1105630\ttotal: 165ms\tremaining: 1m 22s\n",
      "2:\tlearn: 3873.7823749\ttotal: 240ms\tremaining: 1m 19s\n",
      "3:\tlearn: 3695.2974661\ttotal: 307ms\tremaining: 1m 16s\n",
      "4:\tlearn: 3535.3372262\ttotal: 388ms\tremaining: 1m 17s\n",
      "5:\tlearn: 3383.5036269\ttotal: 469ms\tremaining: 1m 17s\n",
      "6:\tlearn: 3247.2055255\ttotal: 565ms\tremaining: 1m 20s\n",
      "7:\tlearn: 3124.0459535\ttotal: 645ms\tremaining: 1m 20s\n",
      "8:\tlearn: 3020.0438457\ttotal: 732ms\tremaining: 1m 20s\n",
      "9:\tlearn: 2918.0196785\ttotal: 808ms\tremaining: 1m 19s\n",
      "10:\tlearn: 2831.3813300\ttotal: 893ms\tremaining: 1m 20s\n",
      "11:\tlearn: 2757.4556164\ttotal: 963ms\tremaining: 1m 19s\n",
      "12:\tlearn: 2683.2264935\ttotal: 1.06s\tremaining: 1m 20s\n",
      "13:\tlearn: 2615.6802950\ttotal: 1.14s\tremaining: 1m 20s\n",
      "14:\tlearn: 2556.4808705\ttotal: 1.22s\tremaining: 1m 20s\n",
      "15:\tlearn: 2503.6619398\ttotal: 1.29s\tremaining: 1m 19s\n",
      "16:\tlearn: 2454.3996504\ttotal: 1.38s\tremaining: 1m 19s\n",
      "17:\tlearn: 2411.7695529\ttotal: 1.44s\tremaining: 1m 18s\n",
      "18:\tlearn: 2374.5988824\ttotal: 1.51s\tremaining: 1m 18s\n",
      "19:\tlearn: 2338.0145624\ttotal: 1.58s\tremaining: 1m 17s\n",
      "20:\tlearn: 2299.2866560\ttotal: 1.65s\tremaining: 1m 16s\n",
      "21:\tlearn: 2268.7267000\ttotal: 1.72s\tremaining: 1m 16s\n",
      "22:\tlearn: 2237.1131710\ttotal: 1.81s\tremaining: 1m 17s\n",
      "23:\tlearn: 2208.0318896\ttotal: 1.87s\tremaining: 1m 16s\n",
      "24:\tlearn: 2183.7259395\ttotal: 1.95s\tremaining: 1m 15s\n",
      "25:\tlearn: 2161.1508949\ttotal: 1.99s\tremaining: 1m 14s\n",
      "26:\tlearn: 2138.4175999\ttotal: 2.07s\tremaining: 1m 14s\n",
      "27:\tlearn: 2122.2699846\ttotal: 2.13s\tremaining: 1m 13s\n",
      "28:\tlearn: 2106.4472567\ttotal: 2.19s\tremaining: 1m 13s\n",
      "29:\tlearn: 2093.1929324\ttotal: 2.25s\tremaining: 1m 12s\n",
      "30:\tlearn: 2078.2359633\ttotal: 2.33s\tremaining: 1m 12s\n",
      "31:\tlearn: 2066.3100712\ttotal: 2.39s\tremaining: 1m 12s\n",
      "32:\tlearn: 2053.5835004\ttotal: 2.45s\tremaining: 1m 11s\n",
      "33:\tlearn: 2042.6187141\ttotal: 2.53s\tremaining: 1m 12s\n",
      "34:\tlearn: 2032.5514093\ttotal: 2.61s\tremaining: 1m 12s\n",
      "35:\tlearn: 2023.3262673\ttotal: 2.69s\tremaining: 1m 11s\n",
      "36:\tlearn: 2015.7018655\ttotal: 2.75s\tremaining: 1m 11s\n",
      "37:\tlearn: 2007.3546899\ttotal: 2.8s\tremaining: 1m 10s\n",
      "38:\tlearn: 1998.5306265\ttotal: 2.87s\tremaining: 1m 10s\n",
      "39:\tlearn: 1991.2620294\ttotal: 2.96s\tremaining: 1m 11s\n",
      "40:\tlearn: 1985.3490868\ttotal: 3.02s\tremaining: 1m 10s\n",
      "41:\tlearn: 1978.7951130\ttotal: 3.07s\tremaining: 1m 10s\n",
      "42:\tlearn: 1972.6605783\ttotal: 3.14s\tremaining: 1m 9s\n",
      "43:\tlearn: 1967.0977211\ttotal: 3.22s\tremaining: 1m 9s\n",
      "44:\tlearn: 1961.8431958\ttotal: 3.3s\tremaining: 1m 10s\n",
      "45:\tlearn: 1956.8304561\ttotal: 3.37s\tremaining: 1m 9s\n",
      "46:\tlearn: 1951.5751265\ttotal: 3.46s\tremaining: 1m 10s\n",
      "47:\tlearn: 1947.0454649\ttotal: 3.52s\tremaining: 1m 9s\n",
      "48:\tlearn: 1942.5146080\ttotal: 3.6s\tremaining: 1m 9s\n",
      "49:\tlearn: 1936.7860228\ttotal: 3.67s\tremaining: 1m 9s\n",
      "50:\tlearn: 1932.4364062\ttotal: 3.75s\tremaining: 1m 9s\n",
      "51:\tlearn: 1928.3893518\ttotal: 3.81s\tremaining: 1m 9s\n",
      "52:\tlearn: 1923.4696333\ttotal: 3.88s\tremaining: 1m 9s\n",
      "53:\tlearn: 1920.8322508\ttotal: 3.93s\tremaining: 1m 8s\n",
      "54:\tlearn: 1917.6311273\ttotal: 3.99s\tremaining: 1m 8s\n",
      "55:\tlearn: 1914.4912595\ttotal: 4.06s\tremaining: 1m 8s\n",
      "56:\tlearn: 1910.6142690\ttotal: 4.13s\tremaining: 1m 8s\n",
      "57:\tlearn: 1907.2496468\ttotal: 4.2s\tremaining: 1m 8s\n",
      "58:\tlearn: 1903.9289460\ttotal: 4.25s\tremaining: 1m 7s\n",
      "59:\tlearn: 1900.3643272\ttotal: 4.29s\tremaining: 1m 7s\n",
      "60:\tlearn: 1897.7935640\ttotal: 4.36s\tremaining: 1m 7s\n",
      "61:\tlearn: 1894.6536539\ttotal: 4.41s\tremaining: 1m 6s\n",
      "62:\tlearn: 1892.3002091\ttotal: 4.46s\tremaining: 1m 6s\n",
      "63:\tlearn: 1889.4220965\ttotal: 4.51s\tremaining: 1m 6s\n",
      "64:\tlearn: 1887.0333575\ttotal: 4.6s\tremaining: 1m 6s\n",
      "65:\tlearn: 1884.1241007\ttotal: 4.68s\tremaining: 1m 6s\n",
      "66:\tlearn: 1880.6715871\ttotal: 4.76s\tremaining: 1m 6s\n",
      "67:\tlearn: 1878.4948519\ttotal: 4.82s\tremaining: 1m 6s\n",
      "68:\tlearn: 1875.8971028\ttotal: 4.9s\tremaining: 1m 6s\n",
      "69:\tlearn: 1873.2859267\ttotal: 4.99s\tremaining: 1m 6s\n",
      "70:\tlearn: 1871.6885047\ttotal: 5.08s\tremaining: 1m 6s\n",
      "71:\tlearn: 1869.1502581\ttotal: 5.13s\tremaining: 1m 6s\n",
      "72:\tlearn: 1867.3271812\ttotal: 5.19s\tremaining: 1m 5s\n",
      "73:\tlearn: 1864.8554396\ttotal: 5.26s\tremaining: 1m 5s\n",
      "74:\tlearn: 1862.6153361\ttotal: 5.34s\tremaining: 1m 5s\n",
      "75:\tlearn: 1860.4165968\ttotal: 5.4s\tremaining: 1m 5s\n",
      "76:\tlearn: 1857.4027963\ttotal: 5.47s\tremaining: 1m 5s\n",
      "77:\tlearn: 1855.1150542\ttotal: 5.53s\tremaining: 1m 5s\n",
      "78:\tlearn: 1853.1536071\ttotal: 5.61s\tremaining: 1m 5s\n",
      "79:\tlearn: 1850.5232594\ttotal: 5.68s\tremaining: 1m 5s\n",
      "80:\tlearn: 1849.0234674\ttotal: 5.73s\tremaining: 1m 5s\n",
      "81:\tlearn: 1847.6643132\ttotal: 5.79s\tremaining: 1m 4s\n",
      "82:\tlearn: 1846.2805580\ttotal: 5.86s\tremaining: 1m 4s\n",
      "83:\tlearn: 1844.3833817\ttotal: 5.91s\tremaining: 1m 4s\n",
      "84:\tlearn: 1842.9158588\ttotal: 5.98s\tremaining: 1m 4s\n",
      "85:\tlearn: 1841.5635553\ttotal: 6.05s\tremaining: 1m 4s\n",
      "86:\tlearn: 1840.1562986\ttotal: 6.12s\tremaining: 1m 4s\n",
      "87:\tlearn: 1839.4342285\ttotal: 6.2s\tremaining: 1m 4s\n",
      "88:\tlearn: 1837.4709225\ttotal: 6.25s\tremaining: 1m 3s\n",
      "89:\tlearn: 1836.3618067\ttotal: 6.31s\tremaining: 1m 3s\n",
      "90:\tlearn: 1835.1392601\ttotal: 6.39s\tremaining: 1m 3s\n",
      "91:\tlearn: 1833.6778088\ttotal: 6.45s\tremaining: 1m 3s\n",
      "92:\tlearn: 1831.6692188\ttotal: 6.52s\tremaining: 1m 3s\n",
      "93:\tlearn: 1829.9425410\ttotal: 6.58s\tremaining: 1m 3s\n",
      "94:\tlearn: 1828.7341353\ttotal: 6.65s\tremaining: 1m 3s\n",
      "95:\tlearn: 1827.7662260\ttotal: 6.71s\tremaining: 1m 3s\n",
      "96:\tlearn: 1826.5966508\ttotal: 6.76s\tremaining: 1m 2s\n",
      "97:\tlearn: 1824.8911830\ttotal: 6.83s\tremaining: 1m 2s\n",
      "98:\tlearn: 1824.1801373\ttotal: 6.88s\tremaining: 1m 2s\n",
      "99:\tlearn: 1823.3311758\ttotal: 6.96s\tremaining: 1m 2s\n",
      "100:\tlearn: 1822.2442662\ttotal: 7.05s\tremaining: 1m 2s\n",
      "101:\tlearn: 1820.9777418\ttotal: 7.13s\tremaining: 1m 2s\n",
      "102:\tlearn: 1820.1650491\ttotal: 7.18s\tremaining: 1m 2s\n",
      "103:\tlearn: 1819.0039723\ttotal: 7.24s\tremaining: 1m 2s\n",
      "104:\tlearn: 1817.1291281\ttotal: 7.31s\tremaining: 1m 2s\n",
      "105:\tlearn: 1816.1235713\ttotal: 7.39s\tremaining: 1m 2s\n",
      "106:\tlearn: 1814.2619144\ttotal: 7.46s\tremaining: 1m 2s\n",
      "107:\tlearn: 1812.8887193\ttotal: 7.54s\tremaining: 1m 2s\n",
      "108:\tlearn: 1811.3137827\ttotal: 7.61s\tremaining: 1m 2s\n",
      "109:\tlearn: 1810.1508014\ttotal: 7.67s\tremaining: 1m 2s\n",
      "110:\tlearn: 1808.9903160\ttotal: 7.74s\tremaining: 1m 1s\n",
      "111:\tlearn: 1807.8322818\ttotal: 7.81s\tremaining: 1m 1s\n",
      "112:\tlearn: 1806.9953198\ttotal: 7.87s\tremaining: 1m 1s\n",
      "113:\tlearn: 1805.5974827\ttotal: 7.93s\tremaining: 1m 1s\n",
      "114:\tlearn: 1805.1239858\ttotal: 8s\tremaining: 1m 1s\n",
      "115:\tlearn: 1804.4830250\ttotal: 8.06s\tremaining: 1m 1s\n",
      "116:\tlearn: 1803.8505722\ttotal: 8.12s\tremaining: 1m 1s\n",
      "117:\tlearn: 1803.7097702\ttotal: 8.18s\tremaining: 1m 1s\n",
      "118:\tlearn: 1802.4151893\ttotal: 8.25s\tremaining: 1m 1s\n",
      "119:\tlearn: 1801.5668899\ttotal: 8.31s\tremaining: 1m\n",
      "120:\tlearn: 1800.1615517\ttotal: 8.36s\tremaining: 1m\n",
      "121:\tlearn: 1798.9673583\ttotal: 8.44s\tremaining: 1m\n",
      "122:\tlearn: 1797.9568661\ttotal: 8.51s\tremaining: 1m\n",
      "123:\tlearn: 1797.5748569\ttotal: 8.58s\tremaining: 1m\n",
      "124:\tlearn: 1796.2271928\ttotal: 8.65s\tremaining: 1m\n",
      "125:\tlearn: 1795.0524327\ttotal: 8.71s\tremaining: 1m\n",
      "126:\tlearn: 1794.3413937\ttotal: 8.77s\tremaining: 1m\n",
      "127:\tlearn: 1792.8406388\ttotal: 8.84s\tremaining: 1m\n",
      "128:\tlearn: 1792.0901433\ttotal: 8.93s\tremaining: 1m\n",
      "129:\tlearn: 1791.1175526\ttotal: 8.98s\tremaining: 1m\n",
      "130:\tlearn: 1789.6050453\ttotal: 9.06s\tremaining: 1m\n",
      "131:\tlearn: 1788.9751921\ttotal: 9.13s\tremaining: 1m\n",
      "132:\tlearn: 1787.5415280\ttotal: 9.21s\tremaining: 1m\n",
      "133:\tlearn: 1786.2944031\ttotal: 9.29s\tremaining: 1m\n",
      "134:\tlearn: 1785.0374497\ttotal: 9.35s\tremaining: 59.9s\n",
      "135:\tlearn: 1783.7235552\ttotal: 9.42s\tremaining: 59.9s\n",
      "136:\tlearn: 1782.7993850\ttotal: 9.49s\tremaining: 59.8s\n",
      "137:\tlearn: 1781.6389390\ttotal: 9.55s\tremaining: 59.7s\n",
      "138:\tlearn: 1781.0027636\ttotal: 9.62s\tremaining: 59.6s\n",
      "139:\tlearn: 1779.5671239\ttotal: 9.68s\tremaining: 59.5s\n",
      "140:\tlearn: 1778.1169217\ttotal: 9.76s\tremaining: 59.5s\n",
      "141:\tlearn: 1777.4728249\ttotal: 9.84s\tremaining: 59.5s\n",
      "142:\tlearn: 1776.6736298\ttotal: 9.91s\tremaining: 59.4s\n",
      "143:\tlearn: 1775.3564702\ttotal: 9.98s\tremaining: 59.3s\n",
      "144:\tlearn: 1774.6112425\ttotal: 10.1s\tremaining: 59.3s\n",
      "145:\tlearn: 1773.7314727\ttotal: 10.1s\tremaining: 59.3s\n",
      "146:\tlearn: 1773.3766369\ttotal: 10.2s\tremaining: 59.2s\n",
      "147:\tlearn: 1772.7138087\ttotal: 10.3s\tremaining: 59.1s\n",
      "148:\tlearn: 1772.2093659\ttotal: 10.3s\tremaining: 59.1s\n",
      "149:\tlearn: 1771.9014954\ttotal: 10.4s\tremaining: 59s\n",
      "150:\tlearn: 1771.4334186\ttotal: 10.5s\tremaining: 58.8s\n",
      "151:\tlearn: 1770.5893227\ttotal: 10.5s\tremaining: 58.7s\n",
      "152:\tlearn: 1769.6200952\ttotal: 10.6s\tremaining: 58.7s\n",
      "153:\tlearn: 1768.1822766\ttotal: 10.7s\tremaining: 58.7s\n",
      "154:\tlearn: 1767.7884911\ttotal: 10.7s\tremaining: 58.6s\n",
      "155:\tlearn: 1766.9516170\ttotal: 10.8s\tremaining: 58.4s\n",
      "156:\tlearn: 1766.6061617\ttotal: 10.9s\tremaining: 58.3s\n",
      "157:\tlearn: 1765.7637360\ttotal: 10.9s\tremaining: 58.3s\n",
      "158:\tlearn: 1764.9853957\ttotal: 11s\tremaining: 58.2s\n",
      "159:\tlearn: 1763.9212578\ttotal: 11.1s\tremaining: 58s\n",
      "160:\tlearn: 1763.1793007\ttotal: 11.1s\tremaining: 57.8s\n",
      "161:\tlearn: 1762.0722787\ttotal: 11.2s\tremaining: 57.8s\n",
      "162:\tlearn: 1761.0208526\ttotal: 11.2s\tremaining: 57.6s\n",
      "163:\tlearn: 1759.9351897\ttotal: 11.3s\tremaining: 57.6s\n",
      "164:\tlearn: 1758.6223039\ttotal: 11.4s\tremaining: 57.5s\n",
      "165:\tlearn: 1757.8462299\ttotal: 11.4s\tremaining: 57.5s\n",
      "166:\tlearn: 1757.2108733\ttotal: 11.5s\tremaining: 57.4s\n",
      "167:\tlearn: 1756.4856358\ttotal: 11.6s\tremaining: 57.4s\n",
      "168:\tlearn: 1755.9545943\ttotal: 11.6s\tremaining: 57.2s\n",
      "169:\tlearn: 1755.2865855\ttotal: 11.7s\tremaining: 57.1s\n",
      "170:\tlearn: 1754.5925303\ttotal: 11.8s\tremaining: 57s\n",
      "171:\tlearn: 1753.7413605\ttotal: 11.8s\tremaining: 57s\n",
      "172:\tlearn: 1753.4123899\ttotal: 11.9s\tremaining: 57s\n",
      "173:\tlearn: 1752.9743137\ttotal: 12s\tremaining: 56.9s\n",
      "174:\tlearn: 1752.5941010\ttotal: 12.1s\tremaining: 57s\n",
      "175:\tlearn: 1751.5346043\ttotal: 12.1s\tremaining: 56.8s\n",
      "176:\tlearn: 1750.7836875\ttotal: 12.2s\tremaining: 56.6s\n",
      "177:\tlearn: 1750.4268287\ttotal: 12.2s\tremaining: 56.5s\n",
      "178:\tlearn: 1750.0700166\ttotal: 12.3s\tremaining: 56.4s\n",
      "179:\tlearn: 1749.4336964\ttotal: 12.3s\tremaining: 56.2s\n",
      "180:\tlearn: 1748.7438678\ttotal: 12.4s\tremaining: 56.1s\n",
      "181:\tlearn: 1748.3101049\ttotal: 12.5s\tremaining: 56s\n",
      "182:\tlearn: 1747.6851948\ttotal: 12.5s\tremaining: 56s\n",
      "183:\tlearn: 1746.9194056\ttotal: 12.6s\tremaining: 55.9s\n",
      "184:\tlearn: 1746.2835167\ttotal: 12.7s\tremaining: 55.8s\n",
      "185:\tlearn: 1745.5083295\ttotal: 12.8s\tremaining: 55.9s\n",
      "186:\tlearn: 1744.5735339\ttotal: 12.9s\tremaining: 55.9s\n",
      "187:\tlearn: 1743.9102589\ttotal: 12.9s\tremaining: 55.9s\n",
      "188:\tlearn: 1743.6368808\ttotal: 13s\tremaining: 55.8s\n",
      "189:\tlearn: 1743.0473900\ttotal: 13.1s\tremaining: 55.7s\n",
      "190:\tlearn: 1742.3794944\ttotal: 13.2s\tremaining: 56.1s\n",
      "191:\tlearn: 1741.8479602\ttotal: 13.3s\tremaining: 55.9s\n",
      "192:\tlearn: 1741.2697736\ttotal: 13.4s\tremaining: 56s\n",
      "193:\tlearn: 1740.5923769\ttotal: 13.5s\tremaining: 55.9s\n",
      "194:\tlearn: 1740.5341606\ttotal: 13.5s\tremaining: 55.9s\n",
      "195:\tlearn: 1740.1223021\ttotal: 13.6s\tremaining: 55.7s\n",
      "196:\tlearn: 1739.6937089\ttotal: 13.7s\tremaining: 55.6s\n",
      "197:\tlearn: 1739.2378389\ttotal: 13.7s\tremaining: 55.5s\n",
      "198:\tlearn: 1739.1713168\ttotal: 13.8s\tremaining: 55.5s\n",
      "199:\tlearn: 1738.7136663\ttotal: 13.9s\tremaining: 55.5s\n",
      "200:\tlearn: 1738.4189114\ttotal: 13.9s\tremaining: 55.3s\n",
      "201:\tlearn: 1738.2268763\ttotal: 14s\tremaining: 55.2s\n",
      "202:\tlearn: 1737.8239534\ttotal: 14.1s\tremaining: 55.2s\n",
      "203:\tlearn: 1737.6031009\ttotal: 14.1s\tremaining: 55.2s\n",
      "204:\tlearn: 1736.7998330\ttotal: 14.2s\tremaining: 55.2s\n",
      "205:\tlearn: 1736.3142179\ttotal: 14.3s\tremaining: 55.1s\n",
      "206:\tlearn: 1735.3186724\ttotal: 14.4s\tremaining: 55.1s\n",
      "207:\tlearn: 1734.5801592\ttotal: 14.4s\tremaining: 55s\n",
      "208:\tlearn: 1733.9532713\ttotal: 14.5s\tremaining: 54.9s\n",
      "209:\tlearn: 1733.6307098\ttotal: 14.6s\tremaining: 54.8s\n",
      "210:\tlearn: 1733.3322714\ttotal: 14.6s\tremaining: 54.7s\n",
      "211:\tlearn: 1733.0777299\ttotal: 14.7s\tremaining: 54.6s\n",
      "212:\tlearn: 1732.2958056\ttotal: 14.8s\tremaining: 54.6s\n",
      "213:\tlearn: 1731.7568324\ttotal: 14.8s\tremaining: 54.5s\n",
      "214:\tlearn: 1731.5674597\ttotal: 14.9s\tremaining: 54.4s\n",
      "215:\tlearn: 1731.4178824\ttotal: 15s\tremaining: 54.4s\n",
      "216:\tlearn: 1731.3402622\ttotal: 15.1s\tremaining: 54.3s\n",
      "217:\tlearn: 1730.5689381\ttotal: 15.1s\tremaining: 54.3s\n",
      "218:\tlearn: 1729.7493897\ttotal: 15.2s\tremaining: 54.2s\n",
      "219:\tlearn: 1729.6153353\ttotal: 15.3s\tremaining: 54.1s\n",
      "220:\tlearn: 1729.0819868\ttotal: 15.3s\tremaining: 54s\n",
      "221:\tlearn: 1729.0201278\ttotal: 15.4s\tremaining: 53.9s\n",
      "222:\tlearn: 1728.4785789\ttotal: 15.4s\tremaining: 53.8s\n",
      "223:\tlearn: 1727.8306079\ttotal: 15.5s\tremaining: 53.7s\n",
      "224:\tlearn: 1726.5782359\ttotal: 15.6s\tremaining: 53.7s\n",
      "225:\tlearn: 1726.2468072\ttotal: 15.7s\tremaining: 53.6s\n",
      "226:\tlearn: 1725.7210437\ttotal: 15.7s\tremaining: 53.6s\n",
      "227:\tlearn: 1724.9423139\ttotal: 15.8s\tremaining: 53.6s\n",
      "228:\tlearn: 1724.7420509\ttotal: 15.9s\tremaining: 53.5s\n",
      "229:\tlearn: 1724.2114680\ttotal: 16s\tremaining: 53.5s\n",
      "230:\tlearn: 1724.1573914\ttotal: 16.1s\tremaining: 53.5s\n",
      "231:\tlearn: 1724.0648923\ttotal: 16.1s\tremaining: 53.4s\n",
      "232:\tlearn: 1723.3489221\ttotal: 16.2s\tremaining: 53.4s\n",
      "233:\tlearn: 1722.7281485\ttotal: 16.3s\tremaining: 53.3s\n",
      "234:\tlearn: 1722.5631847\ttotal: 16.4s\tremaining: 53.2s\n",
      "235:\tlearn: 1721.9374996\ttotal: 16.4s\tremaining: 53.2s\n",
      "236:\tlearn: 1721.4607699\ttotal: 16.5s\tremaining: 53s\n",
      "237:\tlearn: 1720.6753249\ttotal: 16.6s\tremaining: 53s\n",
      "238:\tlearn: 1720.0827413\ttotal: 16.6s\tremaining: 52.9s\n",
      "239:\tlearn: 1719.8879130\ttotal: 16.7s\tremaining: 52.8s\n",
      "240:\tlearn: 1719.5214385\ttotal: 16.7s\tremaining: 52.7s\n",
      "241:\tlearn: 1719.4699521\ttotal: 16.8s\tremaining: 52.7s\n",
      "242:\tlearn: 1719.0341148\ttotal: 16.9s\tremaining: 52.6s\n",
      "243:\tlearn: 1718.4828441\ttotal: 16.9s\tremaining: 52.5s\n",
      "244:\tlearn: 1718.0170146\ttotal: 17s\tremaining: 52.4s\n",
      "245:\tlearn: 1717.5164490\ttotal: 17.1s\tremaining: 52.3s\n",
      "246:\tlearn: 1717.0609657\ttotal: 17.2s\tremaining: 52.3s\n",
      "247:\tlearn: 1716.6742225\ttotal: 17.2s\tremaining: 52.3s\n",
      "248:\tlearn: 1716.2629592\ttotal: 17.3s\tremaining: 52.2s\n",
      "249:\tlearn: 1716.1253346\ttotal: 17.4s\tremaining: 52.1s\n",
      "250:\tlearn: 1715.2111715\ttotal: 17.4s\tremaining: 52s\n",
      "251:\tlearn: 1714.5488992\ttotal: 17.5s\tremaining: 51.9s\n",
      "252:\tlearn: 1714.3529317\ttotal: 17.5s\tremaining: 51.8s\n",
      "253:\tlearn: 1714.3071380\ttotal: 17.6s\tremaining: 51.8s\n",
      "254:\tlearn: 1713.6515629\ttotal: 17.7s\tremaining: 51.7s\n",
      "255:\tlearn: 1713.4882870\ttotal: 17.8s\tremaining: 51.6s\n",
      "256:\tlearn: 1712.9134063\ttotal: 17.8s\tremaining: 51.5s\n",
      "257:\tlearn: 1712.3341993\ttotal: 17.9s\tremaining: 51.5s\n",
      "258:\tlearn: 1711.7246432\ttotal: 18s\tremaining: 51.4s\n",
      "259:\tlearn: 1711.1374518\ttotal: 18s\tremaining: 51.3s\n",
      "260:\tlearn: 1710.8034576\ttotal: 18.1s\tremaining: 51.3s\n",
      "261:\tlearn: 1710.5979492\ttotal: 18.2s\tremaining: 51.2s\n",
      "262:\tlearn: 1710.2878911\ttotal: 18.2s\tremaining: 51.1s\n",
      "263:\tlearn: 1709.8916029\ttotal: 18.3s\tremaining: 51s\n",
      "264:\tlearn: 1709.3913256\ttotal: 18.3s\tremaining: 50.9s\n",
      "265:\tlearn: 1708.9737400\ttotal: 18.4s\tremaining: 50.8s\n",
      "266:\tlearn: 1708.4161379\ttotal: 18.5s\tremaining: 50.7s\n",
      "267:\tlearn: 1708.2938962\ttotal: 18.5s\tremaining: 50.6s\n",
      "268:\tlearn: 1707.9661275\ttotal: 18.6s\tremaining: 50.5s\n",
      "269:\tlearn: 1707.3768215\ttotal: 18.7s\tremaining: 50.5s\n",
      "270:\tlearn: 1706.9847213\ttotal: 18.7s\tremaining: 50.4s\n",
      "271:\tlearn: 1706.5752458\ttotal: 18.8s\tremaining: 50.3s\n",
      "272:\tlearn: 1706.1323353\ttotal: 18.9s\tremaining: 50.2s\n",
      "273:\tlearn: 1705.6610117\ttotal: 18.9s\tremaining: 50.1s\n",
      "274:\tlearn: 1705.3154374\ttotal: 19s\tremaining: 50.1s\n",
      "275:\tlearn: 1705.1539028\ttotal: 19s\tremaining: 50s\n",
      "276:\tlearn: 1704.5356604\ttotal: 19.1s\tremaining: 49.9s\n",
      "277:\tlearn: 1704.0258690\ttotal: 19.2s\tremaining: 49.8s\n",
      "278:\tlearn: 1703.4457132\ttotal: 19.2s\tremaining: 49.7s\n",
      "279:\tlearn: 1702.9605672\ttotal: 19.3s\tremaining: 49.6s\n",
      "280:\tlearn: 1702.4868849\ttotal: 19.4s\tremaining: 49.6s\n",
      "281:\tlearn: 1702.2252135\ttotal: 19.5s\tremaining: 49.5s\n",
      "282:\tlearn: 1701.9799196\ttotal: 19.5s\tremaining: 49.4s\n",
      "283:\tlearn: 1701.8192622\ttotal: 19.6s\tremaining: 49.3s\n",
      "284:\tlearn: 1701.0101216\ttotal: 19.6s\tremaining: 49.3s\n",
      "285:\tlearn: 1700.7315338\ttotal: 19.7s\tremaining: 49.2s\n",
      "286:\tlearn: 1700.7033648\ttotal: 19.8s\tremaining: 49.1s\n",
      "287:\tlearn: 1700.3147946\ttotal: 19.8s\tremaining: 49s\n",
      "288:\tlearn: 1699.8390349\ttotal: 19.9s\tremaining: 48.9s\n",
      "289:\tlearn: 1699.2308673\ttotal: 20s\tremaining: 48.9s\n",
      "290:\tlearn: 1698.7996149\ttotal: 20.1s\tremaining: 48.9s\n",
      "291:\tlearn: 1698.6335717\ttotal: 20.1s\tremaining: 48.8s\n",
      "292:\tlearn: 1698.3022414\ttotal: 20.2s\tremaining: 48.7s\n",
      "293:\tlearn: 1697.8758783\ttotal: 20.3s\tremaining: 48.7s\n",
      "294:\tlearn: 1697.8041782\ttotal: 20.3s\tremaining: 48.6s\n",
      "295:\tlearn: 1697.2874097\ttotal: 20.4s\tremaining: 48.5s\n",
      "296:\tlearn: 1696.6262575\ttotal: 20.4s\tremaining: 48.4s\n",
      "297:\tlearn: 1696.0581450\ttotal: 20.5s\tremaining: 48.3s\n",
      "298:\tlearn: 1695.7793807\ttotal: 20.6s\tremaining: 48.2s\n",
      "299:\tlearn: 1695.5433785\ttotal: 20.6s\tremaining: 48.1s\n",
      "300:\tlearn: 1695.2773289\ttotal: 20.7s\tremaining: 48s\n",
      "301:\tlearn: 1694.6749272\ttotal: 20.8s\tremaining: 48s\n",
      "302:\tlearn: 1694.1182610\ttotal: 20.8s\tremaining: 47.9s\n",
      "303:\tlearn: 1694.0857881\ttotal: 20.9s\tremaining: 47.8s\n",
      "304:\tlearn: 1693.4755196\ttotal: 21s\tremaining: 47.8s\n",
      "305:\tlearn: 1692.8284317\ttotal: 21s\tremaining: 47.7s\n",
      "306:\tlearn: 1692.2778154\ttotal: 21.1s\tremaining: 47.6s\n",
      "307:\tlearn: 1692.1866833\ttotal: 21.2s\tremaining: 47.5s\n",
      "308:\tlearn: 1692.1744870\ttotal: 21.2s\tremaining: 47.4s\n",
      "309:\tlearn: 1691.8526776\ttotal: 21.3s\tremaining: 47.4s\n",
      "310:\tlearn: 1691.3599049\ttotal: 21.4s\tremaining: 47.3s\n",
      "311:\tlearn: 1690.8818081\ttotal: 21.4s\tremaining: 47.3s\n",
      "312:\tlearn: 1689.8911563\ttotal: 21.5s\tremaining: 47.2s\n",
      "313:\tlearn: 1689.3548804\ttotal: 21.6s\tremaining: 47.1s\n",
      "314:\tlearn: 1688.9611963\ttotal: 21.6s\tremaining: 47.1s\n",
      "315:\tlearn: 1688.5623554\ttotal: 21.7s\tremaining: 47s\n",
      "316:\tlearn: 1687.9340862\ttotal: 21.8s\tremaining: 46.9s\n",
      "317:\tlearn: 1687.9227811\ttotal: 21.8s\tremaining: 46.8s\n",
      "318:\tlearn: 1687.6027590\ttotal: 21.9s\tremaining: 46.8s\n",
      "319:\tlearn: 1687.0853191\ttotal: 22s\tremaining: 46.7s\n",
      "320:\tlearn: 1686.8616171\ttotal: 22s\tremaining: 46.6s\n",
      "321:\tlearn: 1686.6530148\ttotal: 22.1s\tremaining: 46.6s\n",
      "322:\tlearn: 1686.4881969\ttotal: 22.2s\tremaining: 46.5s\n",
      "323:\tlearn: 1686.0055798\ttotal: 22.3s\tremaining: 46.5s\n",
      "324:\tlearn: 1685.9072041\ttotal: 22.4s\tremaining: 46.4s\n",
      "325:\tlearn: 1685.3644915\ttotal: 22.4s\tremaining: 46.4s\n",
      "326:\tlearn: 1685.1348020\ttotal: 22.5s\tremaining: 46.3s\n",
      "327:\tlearn: 1684.7239697\ttotal: 22.6s\tremaining: 46.2s\n",
      "328:\tlearn: 1684.3004791\ttotal: 22.6s\tremaining: 46.1s\n",
      "329:\tlearn: 1683.6965502\ttotal: 22.7s\tremaining: 46s\n",
      "330:\tlearn: 1683.3278052\ttotal: 22.8s\tremaining: 46s\n",
      "331:\tlearn: 1682.8518483\ttotal: 22.8s\tremaining: 45.9s\n",
      "332:\tlearn: 1682.6726328\ttotal: 22.9s\tremaining: 45.8s\n",
      "333:\tlearn: 1682.0057815\ttotal: 23s\tremaining: 45.8s\n",
      "334:\tlearn: 1681.4333865\ttotal: 23s\tremaining: 45.7s\n",
      "335:\tlearn: 1680.9413163\ttotal: 23.1s\tremaining: 45.6s\n",
      "336:\tlearn: 1680.6068580\ttotal: 23.1s\tremaining: 45.5s\n",
      "337:\tlearn: 1680.2244378\ttotal: 23.2s\tremaining: 45.5s\n",
      "338:\tlearn: 1679.9071232\ttotal: 23.3s\tremaining: 45.4s\n",
      "339:\tlearn: 1679.8213727\ttotal: 23.4s\tremaining: 45.3s\n",
      "340:\tlearn: 1679.7878320\ttotal: 23.4s\tremaining: 45.2s\n",
      "341:\tlearn: 1679.7228104\ttotal: 23.5s\tremaining: 45.1s\n",
      "342:\tlearn: 1679.6292279\ttotal: 23.5s\tremaining: 45s\n",
      "343:\tlearn: 1679.5988117\ttotal: 23.6s\tremaining: 44.9s\n",
      "344:\tlearn: 1679.5805013\ttotal: 23.6s\tremaining: 44.8s\n",
      "345:\tlearn: 1679.0530482\ttotal: 23.7s\tremaining: 44.7s\n",
      "346:\tlearn: 1678.6387224\ttotal: 23.8s\tremaining: 44.7s\n",
      "347:\tlearn: 1678.1815326\ttotal: 23.8s\tremaining: 44.6s\n",
      "348:\tlearn: 1677.8896490\ttotal: 23.9s\tremaining: 44.6s\n",
      "349:\tlearn: 1677.5737237\ttotal: 23.9s\tremaining: 44.5s\n",
      "350:\tlearn: 1677.5648305\ttotal: 24s\tremaining: 44.4s\n",
      "351:\tlearn: 1677.2723662\ttotal: 24.1s\tremaining: 44.3s\n",
      "352:\tlearn: 1676.9942502\ttotal: 24.2s\tremaining: 44.3s\n",
      "353:\tlearn: 1676.9634692\ttotal: 24.2s\tremaining: 44.2s\n",
      "354:\tlearn: 1676.3445270\ttotal: 24.3s\tremaining: 44.1s\n",
      "355:\tlearn: 1676.0315192\ttotal: 24.3s\tremaining: 44s\n",
      "356:\tlearn: 1675.6132014\ttotal: 24.4s\tremaining: 43.9s\n",
      "357:\tlearn: 1675.5182886\ttotal: 24.5s\tremaining: 43.9s\n",
      "358:\tlearn: 1675.4931641\ttotal: 24.5s\tremaining: 43.8s\n",
      "359:\tlearn: 1675.2848994\ttotal: 24.6s\tremaining: 43.7s\n",
      "360:\tlearn: 1674.9522638\ttotal: 24.6s\tremaining: 43.6s\n",
      "361:\tlearn: 1674.8549453\ttotal: 24.7s\tremaining: 43.6s\n",
      "362:\tlearn: 1674.6356875\ttotal: 24.8s\tremaining: 43.5s\n",
      "363:\tlearn: 1674.2908615\ttotal: 24.9s\tremaining: 43.4s\n",
      "364:\tlearn: 1674.2598842\ttotal: 24.9s\tremaining: 43.3s\n",
      "365:\tlearn: 1673.8921688\ttotal: 25s\tremaining: 43.3s\n",
      "366:\tlearn: 1673.5787238\ttotal: 25.1s\tremaining: 43.2s\n",
      "367:\tlearn: 1673.5581491\ttotal: 25.1s\tremaining: 43.1s\n",
      "368:\tlearn: 1673.2512671\ttotal: 25.2s\tremaining: 43s\n",
      "369:\tlearn: 1672.9660400\ttotal: 25.2s\tremaining: 43s\n",
      "370:\tlearn: 1672.5977267\ttotal: 25.3s\tremaining: 42.9s\n",
      "371:\tlearn: 1672.1364303\ttotal: 25.4s\tremaining: 42.8s\n",
      "372:\tlearn: 1671.8467004\ttotal: 25.4s\tremaining: 42.8s\n",
      "373:\tlearn: 1671.3444455\ttotal: 25.5s\tremaining: 42.7s\n",
      "374:\tlearn: 1671.0987685\ttotal: 25.6s\tremaining: 42.7s\n",
      "375:\tlearn: 1670.7344594\ttotal: 25.7s\tremaining: 42.6s\n",
      "376:\tlearn: 1670.6609019\ttotal: 25.7s\tremaining: 42.5s\n",
      "377:\tlearn: 1670.3609179\ttotal: 25.8s\tremaining: 42.4s\n",
      "378:\tlearn: 1670.3460681\ttotal: 25.8s\tremaining: 42.3s\n",
      "379:\tlearn: 1670.2935075\ttotal: 25.9s\tremaining: 42.2s\n",
      "380:\tlearn: 1670.2776939\ttotal: 25.9s\tremaining: 42.1s\n",
      "381:\tlearn: 1669.9792041\ttotal: 26s\tremaining: 42s\n",
      "382:\tlearn: 1669.9363929\ttotal: 26.1s\tremaining: 42s\n",
      "383:\tlearn: 1669.6104557\ttotal: 26.1s\tremaining: 41.9s\n",
      "384:\tlearn: 1669.5903058\ttotal: 26.2s\tremaining: 41.8s\n",
      "385:\tlearn: 1669.5804230\ttotal: 26.2s\tremaining: 41.7s\n",
      "386:\tlearn: 1669.3585464\ttotal: 26.3s\tremaining: 41.6s\n",
      "387:\tlearn: 1669.0071030\ttotal: 26.3s\tremaining: 41.5s\n",
      "388:\tlearn: 1668.9568552\ttotal: 26.4s\tremaining: 41.4s\n",
      "389:\tlearn: 1668.9326200\ttotal: 26.4s\tremaining: 41.3s\n",
      "390:\tlearn: 1668.7076113\ttotal: 26.5s\tremaining: 41.3s\n",
      "391:\tlearn: 1668.6718361\ttotal: 26.5s\tremaining: 41.2s\n",
      "392:\tlearn: 1668.6549878\ttotal: 26.6s\tremaining: 41s\n",
      "393:\tlearn: 1668.4330963\ttotal: 26.6s\tremaining: 40.9s\n",
      "394:\tlearn: 1668.3443500\ttotal: 26.7s\tremaining: 40.9s\n",
      "395:\tlearn: 1667.8578330\ttotal: 26.7s\tremaining: 40.8s\n",
      "396:\tlearn: 1667.6273737\ttotal: 26.8s\tremaining: 40.7s\n",
      "397:\tlearn: 1667.5684309\ttotal: 26.8s\tremaining: 40.6s\n",
      "398:\tlearn: 1667.4586565\ttotal: 26.9s\tremaining: 40.5s\n",
      "399:\tlearn: 1667.3411117\ttotal: 27s\tremaining: 40.5s\n",
      "400:\tlearn: 1666.9097137\ttotal: 27s\tremaining: 40.4s\n",
      "401:\tlearn: 1666.4742004\ttotal: 27.1s\tremaining: 40.3s\n",
      "402:\tlearn: 1666.0385237\ttotal: 27.2s\tremaining: 40.2s\n",
      "403:\tlearn: 1666.0114299\ttotal: 27.2s\tremaining: 40.1s\n",
      "404:\tlearn: 1665.7537079\ttotal: 27.2s\tremaining: 40s\n",
      "405:\tlearn: 1665.5096609\ttotal: 27.3s\tremaining: 39.9s\n",
      "406:\tlearn: 1665.0999583\ttotal: 27.4s\tremaining: 39.9s\n",
      "407:\tlearn: 1664.9094166\ttotal: 27.4s\tremaining: 39.8s\n",
      "408:\tlearn: 1664.7415660\ttotal: 27.5s\tremaining: 39.7s\n",
      "409:\tlearn: 1664.5850903\ttotal: 27.6s\tremaining: 39.7s\n",
      "410:\tlearn: 1664.3853651\ttotal: 27.6s\tremaining: 39.6s\n",
      "411:\tlearn: 1663.9321400\ttotal: 27.7s\tremaining: 39.5s\n",
      "412:\tlearn: 1663.5154125\ttotal: 27.8s\tremaining: 39.5s\n",
      "413:\tlearn: 1663.3835608\ttotal: 27.8s\tremaining: 39.4s\n",
      "414:\tlearn: 1663.0041351\ttotal: 27.9s\tremaining: 39.3s\n",
      "415:\tlearn: 1662.8166525\ttotal: 28s\tremaining: 39.3s\n",
      "416:\tlearn: 1662.7112900\ttotal: 28s\tremaining: 39.2s\n",
      "417:\tlearn: 1662.4199805\ttotal: 28.1s\tremaining: 39.1s\n",
      "418:\tlearn: 1662.2427370\ttotal: 28.2s\tremaining: 39s\n",
      "419:\tlearn: 1661.8767078\ttotal: 28.2s\tremaining: 39s\n",
      "420:\tlearn: 1661.8521757\ttotal: 28.3s\tremaining: 38.9s\n",
      "421:\tlearn: 1661.6830139\ttotal: 28.3s\tremaining: 38.8s\n",
      "422:\tlearn: 1661.3502136\ttotal: 28.4s\tremaining: 38.7s\n",
      "423:\tlearn: 1660.8577709\ttotal: 28.5s\tremaining: 38.7s\n",
      "424:\tlearn: 1660.7045725\ttotal: 28.5s\tremaining: 38.6s\n",
      "425:\tlearn: 1660.1098572\ttotal: 28.6s\tremaining: 38.5s\n",
      "426:\tlearn: 1659.9437331\ttotal: 28.7s\tremaining: 38.5s\n",
      "427:\tlearn: 1659.4127657\ttotal: 28.7s\tremaining: 38.4s\n",
      "428:\tlearn: 1659.2109962\ttotal: 28.8s\tremaining: 38.3s\n",
      "429:\tlearn: 1658.9870251\ttotal: 28.9s\tremaining: 38.3s\n",
      "430:\tlearn: 1658.9719351\ttotal: 28.9s\tremaining: 38.2s\n",
      "431:\tlearn: 1658.7456254\ttotal: 29s\tremaining: 38.1s\n",
      "432:\tlearn: 1658.3896804\ttotal: 29.1s\tremaining: 38.1s\n",
      "433:\tlearn: 1658.1905667\ttotal: 29.1s\tremaining: 38s\n",
      "434:\tlearn: 1658.0880362\ttotal: 29.2s\tremaining: 37.9s\n",
      "435:\tlearn: 1657.3953873\ttotal: 29.3s\tremaining: 37.8s\n",
      "436:\tlearn: 1657.3046818\ttotal: 29.3s\tremaining: 37.8s\n",
      "437:\tlearn: 1657.2924645\ttotal: 29.3s\tremaining: 37.6s\n",
      "438:\tlearn: 1657.0001662\ttotal: 29.4s\tremaining: 37.6s\n",
      "439:\tlearn: 1656.9201255\ttotal: 29.5s\tremaining: 37.5s\n",
      "440:\tlearn: 1656.5927497\ttotal: 29.5s\tremaining: 37.4s\n",
      "441:\tlearn: 1656.4820814\ttotal: 29.6s\tremaining: 37.4s\n",
      "442:\tlearn: 1656.2732174\ttotal: 29.7s\tremaining: 37.3s\n",
      "443:\tlearn: 1656.1712244\ttotal: 29.7s\tremaining: 37.2s\n",
      "444:\tlearn: 1655.9430839\ttotal: 29.8s\tremaining: 37.1s\n",
      "445:\tlearn: 1655.7890475\ttotal: 29.8s\tremaining: 37s\n",
      "446:\tlearn: 1655.4058464\ttotal: 29.9s\tremaining: 37s\n",
      "447:\tlearn: 1655.3425531\ttotal: 29.9s\tremaining: 36.9s\n",
      "448:\tlearn: 1655.0608680\ttotal: 30s\tremaining: 36.8s\n",
      "449:\tlearn: 1654.8866821\ttotal: 30.1s\tremaining: 36.7s\n",
      "450:\tlearn: 1654.8652479\ttotal: 30.1s\tremaining: 36.6s\n",
      "451:\tlearn: 1654.3946636\ttotal: 30.2s\tremaining: 36.6s\n",
      "452:\tlearn: 1654.2443085\ttotal: 30.2s\tremaining: 36.5s\n",
      "453:\tlearn: 1654.0071414\ttotal: 30.3s\tremaining: 36.5s\n",
      "454:\tlearn: 1653.9911519\ttotal: 30.4s\tremaining: 36.4s\n",
      "455:\tlearn: 1653.7129083\ttotal: 30.4s\tremaining: 36.3s\n",
      "456:\tlearn: 1653.3475143\ttotal: 30.5s\tremaining: 36.3s\n",
      "457:\tlearn: 1652.9068738\ttotal: 30.6s\tremaining: 36.2s\n",
      "458:\tlearn: 1652.7965308\ttotal: 30.7s\tremaining: 36.1s\n",
      "459:\tlearn: 1652.5706023\ttotal: 30.7s\tremaining: 36.1s\n",
      "460:\tlearn: 1652.2141100\ttotal: 30.8s\tremaining: 36s\n",
      "461:\tlearn: 1652.0637781\ttotal: 30.8s\tremaining: 35.9s\n",
      "462:\tlearn: 1651.9743317\ttotal: 30.9s\tremaining: 35.9s\n",
      "463:\tlearn: 1651.7774848\ttotal: 31s\tremaining: 35.8s\n",
      "464:\tlearn: 1651.5715019\ttotal: 31.1s\tremaining: 35.7s\n",
      "465:\tlearn: 1651.5517220\ttotal: 31.1s\tremaining: 35.6s\n",
      "466:\tlearn: 1651.4743994\ttotal: 31.1s\tremaining: 35.6s\n",
      "467:\tlearn: 1651.3268877\ttotal: 31.2s\tremaining: 35.5s\n",
      "468:\tlearn: 1651.0220146\ttotal: 31.3s\tremaining: 35.4s\n",
      "469:\tlearn: 1650.5939331\ttotal: 31.4s\tremaining: 35.4s\n",
      "470:\tlearn: 1650.4860158\ttotal: 31.4s\tremaining: 35.3s\n",
      "471:\tlearn: 1650.2101136\ttotal: 31.5s\tremaining: 35.2s\n",
      "472:\tlearn: 1649.9631376\ttotal: 31.6s\tremaining: 35.2s\n",
      "473:\tlearn: 1649.8557864\ttotal: 31.6s\tremaining: 35.1s\n",
      "474:\tlearn: 1649.6572643\ttotal: 31.7s\tremaining: 35s\n",
      "475:\tlearn: 1649.5328344\ttotal: 31.7s\tremaining: 34.9s\n",
      "476:\tlearn: 1649.4159764\ttotal: 31.8s\tremaining: 34.9s\n",
      "477:\tlearn: 1649.2592743\ttotal: 31.9s\tremaining: 34.8s\n",
      "478:\tlearn: 1648.9275818\ttotal: 31.9s\tremaining: 34.7s\n",
      "479:\tlearn: 1648.6627951\ttotal: 32s\tremaining: 34.7s\n",
      "480:\tlearn: 1648.4433129\ttotal: 32.1s\tremaining: 34.6s\n",
      "481:\tlearn: 1648.3916505\ttotal: 32.1s\tremaining: 34.5s\n",
      "482:\tlearn: 1648.2315785\ttotal: 32.2s\tremaining: 34.4s\n",
      "483:\tlearn: 1648.0367716\ttotal: 32.3s\tremaining: 34.4s\n",
      "484:\tlearn: 1647.9277516\ttotal: 32.3s\tremaining: 34.3s\n",
      "485:\tlearn: 1647.6991155\ttotal: 32.4s\tremaining: 34.3s\n",
      "486:\tlearn: 1647.5671015\ttotal: 32.5s\tremaining: 34.2s\n",
      "487:\tlearn: 1647.4342516\ttotal: 32.5s\tremaining: 34.1s\n",
      "488:\tlearn: 1647.3466693\ttotal: 32.6s\tremaining: 34s\n",
      "489:\tlearn: 1647.0970822\ttotal: 32.7s\tremaining: 34s\n",
      "490:\tlearn: 1646.9502410\ttotal: 32.7s\tremaining: 33.9s\n",
      "491:\tlearn: 1646.7728222\ttotal: 32.8s\tremaining: 33.8s\n",
      "492:\tlearn: 1646.5309278\ttotal: 32.8s\tremaining: 33.8s\n",
      "493:\tlearn: 1646.4591305\ttotal: 32.9s\tremaining: 33.7s\n",
      "494:\tlearn: 1646.2080973\ttotal: 33s\tremaining: 33.7s\n",
      "495:\tlearn: 1645.8312121\ttotal: 33.1s\tremaining: 33.6s\n",
      "496:\tlearn: 1645.4280114\ttotal: 33.2s\tremaining: 33.6s\n",
      "497:\tlearn: 1645.2100126\ttotal: 33.2s\tremaining: 33.5s\n",
      "498:\tlearn: 1645.0020752\ttotal: 33.3s\tremaining: 33.5s\n",
      "499:\tlearn: 1644.6550575\ttotal: 33.4s\tremaining: 33.4s\n",
      "500:\tlearn: 1644.4571059\ttotal: 33.4s\tremaining: 33.3s\n",
      "501:\tlearn: 1644.3133842\ttotal: 33.5s\tremaining: 33.2s\n",
      "502:\tlearn: 1644.0532205\ttotal: 33.5s\tremaining: 33.1s\n",
      "503:\tlearn: 1643.6851916\ttotal: 33.6s\tremaining: 33.1s\n",
      "504:\tlearn: 1643.5118933\ttotal: 33.7s\tremaining: 33s\n",
      "505:\tlearn: 1643.4994644\ttotal: 33.8s\tremaining: 33s\n",
      "506:\tlearn: 1643.3711063\ttotal: 33.8s\tremaining: 32.9s\n",
      "507:\tlearn: 1643.3469010\ttotal: 33.9s\tremaining: 32.8s\n",
      "508:\tlearn: 1643.1645371\ttotal: 34s\tremaining: 32.8s\n",
      "509:\tlearn: 1643.0206794\ttotal: 34s\tremaining: 32.7s\n",
      "510:\tlearn: 1642.8012673\ttotal: 34.1s\tremaining: 32.6s\n",
      "511:\tlearn: 1642.6471194\ttotal: 34.2s\tremaining: 32.6s\n",
      "512:\tlearn: 1642.3467654\ttotal: 34.3s\tremaining: 32.5s\n",
      "513:\tlearn: 1642.2960224\ttotal: 34.3s\tremaining: 32.5s\n",
      "514:\tlearn: 1642.0569424\ttotal: 34.4s\tremaining: 32.4s\n",
      "515:\tlearn: 1641.9996656\ttotal: 34.5s\tremaining: 32.4s\n",
      "516:\tlearn: 1641.7653554\ttotal: 34.6s\tremaining: 32.3s\n",
      "517:\tlearn: 1641.5348868\ttotal: 34.6s\tremaining: 32.2s\n",
      "518:\tlearn: 1641.5057812\ttotal: 34.7s\tremaining: 32.1s\n",
      "519:\tlearn: 1641.4785286\ttotal: 34.7s\tremaining: 32s\n",
      "520:\tlearn: 1641.3109669\ttotal: 34.8s\tremaining: 32s\n",
      "521:\tlearn: 1641.1229962\ttotal: 34.8s\tremaining: 31.9s\n",
      "522:\tlearn: 1640.9242062\ttotal: 34.9s\tremaining: 31.8s\n",
      "523:\tlearn: 1640.7920329\ttotal: 35s\tremaining: 31.8s\n",
      "524:\tlearn: 1640.7161158\ttotal: 35.1s\tremaining: 31.7s\n",
      "525:\tlearn: 1640.6660895\ttotal: 35.1s\tremaining: 31.7s\n",
      "526:\tlearn: 1640.5011357\ttotal: 35.2s\tremaining: 31.6s\n",
      "527:\tlearn: 1640.4290279\ttotal: 35.3s\tremaining: 31.5s\n",
      "528:\tlearn: 1640.1164187\ttotal: 35.3s\tremaining: 31.5s\n",
      "529:\tlearn: 1639.8322279\ttotal: 35.4s\tremaining: 31.4s\n",
      "530:\tlearn: 1639.5637463\ttotal: 35.5s\tremaining: 31.3s\n",
      "531:\tlearn: 1639.5206045\ttotal: 35.5s\tremaining: 31.3s\n",
      "532:\tlearn: 1639.3419894\ttotal: 35.6s\tremaining: 31.2s\n",
      "533:\tlearn: 1639.2473703\ttotal: 35.7s\tremaining: 31.1s\n",
      "534:\tlearn: 1639.0796566\ttotal: 35.7s\tremaining: 31.1s\n",
      "535:\tlearn: 1638.8760188\ttotal: 35.8s\tremaining: 31s\n",
      "536:\tlearn: 1638.6691722\ttotal: 35.9s\tremaining: 30.9s\n",
      "537:\tlearn: 1638.4992242\ttotal: 35.9s\tremaining: 30.9s\n",
      "538:\tlearn: 1638.2900693\ttotal: 36s\tremaining: 30.8s\n",
      "539:\tlearn: 1637.9792988\ttotal: 36.1s\tremaining: 30.7s\n",
      "540:\tlearn: 1637.7343075\ttotal: 36.2s\tremaining: 30.7s\n",
      "541:\tlearn: 1637.5049720\ttotal: 36.2s\tremaining: 30.6s\n",
      "542:\tlearn: 1637.4101845\ttotal: 36.3s\tremaining: 30.5s\n",
      "543:\tlearn: 1637.2428734\ttotal: 36.3s\tremaining: 30.5s\n",
      "544:\tlearn: 1636.9947621\ttotal: 36.4s\tremaining: 30.4s\n",
      "545:\tlearn: 1636.7525360\ttotal: 36.5s\tremaining: 30.3s\n",
      "546:\tlearn: 1636.4696012\ttotal: 36.5s\tremaining: 30.3s\n",
      "547:\tlearn: 1636.2867498\ttotal: 36.6s\tremaining: 30.2s\n",
      "548:\tlearn: 1635.9644327\ttotal: 36.7s\tremaining: 30.1s\n",
      "549:\tlearn: 1635.9126578\ttotal: 36.7s\tremaining: 30.1s\n",
      "550:\tlearn: 1635.6611132\ttotal: 36.8s\tremaining: 30s\n",
      "551:\tlearn: 1635.5326983\ttotal: 36.9s\tremaining: 29.9s\n",
      "552:\tlearn: 1635.2934563\ttotal: 36.9s\tremaining: 29.9s\n",
      "553:\tlearn: 1635.2296281\ttotal: 37s\tremaining: 29.8s\n",
      "554:\tlearn: 1635.0539357\ttotal: 37.1s\tremaining: 29.8s\n",
      "555:\tlearn: 1634.9316662\ttotal: 37.2s\tremaining: 29.7s\n",
      "556:\tlearn: 1634.6735803\ttotal: 37.3s\tremaining: 29.6s\n",
      "557:\tlearn: 1634.5704961\ttotal: 37.3s\tremaining: 29.6s\n",
      "558:\tlearn: 1634.4124377\ttotal: 37.4s\tremaining: 29.5s\n",
      "559:\tlearn: 1634.2431950\ttotal: 37.5s\tremaining: 29.4s\n",
      "560:\tlearn: 1634.0320190\ttotal: 37.5s\tremaining: 29.4s\n",
      "561:\tlearn: 1633.8445236\ttotal: 37.6s\tremaining: 29.3s\n",
      "562:\tlearn: 1633.5690268\ttotal: 37.7s\tremaining: 29.2s\n",
      "563:\tlearn: 1633.4663195\ttotal: 37.7s\tremaining: 29.2s\n",
      "564:\tlearn: 1633.2300936\ttotal: 37.8s\tremaining: 29.1s\n",
      "565:\tlearn: 1633.1360017\ttotal: 37.9s\tremaining: 29.1s\n",
      "566:\tlearn: 1632.8564465\ttotal: 38s\tremaining: 29s\n",
      "567:\tlearn: 1632.6180661\ttotal: 38s\tremaining: 28.9s\n",
      "568:\tlearn: 1632.5199339\ttotal: 38.1s\tremaining: 28.8s\n",
      "569:\tlearn: 1632.2775363\ttotal: 38.1s\tremaining: 28.8s\n",
      "570:\tlearn: 1632.1964628\ttotal: 38.2s\tremaining: 28.7s\n",
      "571:\tlearn: 1631.9238084\ttotal: 38.3s\tremaining: 28.6s\n",
      "572:\tlearn: 1631.7424800\ttotal: 38.3s\tremaining: 28.6s\n",
      "573:\tlearn: 1631.5991101\ttotal: 38.4s\tremaining: 28.5s\n",
      "574:\tlearn: 1631.3967164\ttotal: 38.5s\tremaining: 28.4s\n",
      "575:\tlearn: 1631.2669568\ttotal: 38.6s\tremaining: 28.4s\n",
      "576:\tlearn: 1631.1221770\ttotal: 38.6s\tremaining: 28.3s\n",
      "577:\tlearn: 1630.9040417\ttotal: 38.7s\tremaining: 28.3s\n",
      "578:\tlearn: 1630.7462534\ttotal: 38.8s\tremaining: 28.2s\n",
      "579:\tlearn: 1630.4104509\ttotal: 38.9s\tremaining: 28.1s\n",
      "580:\tlearn: 1630.0513588\ttotal: 38.9s\tremaining: 28.1s\n",
      "581:\tlearn: 1629.6870405\ttotal: 39s\tremaining: 28s\n",
      "582:\tlearn: 1629.6167264\ttotal: 39.1s\tremaining: 27.9s\n",
      "583:\tlearn: 1629.3843931\ttotal: 39.1s\tremaining: 27.9s\n",
      "584:\tlearn: 1629.2555074\ttotal: 39.2s\tremaining: 27.8s\n",
      "585:\tlearn: 1629.2287589\ttotal: 39.3s\tremaining: 27.7s\n",
      "586:\tlearn: 1628.8190360\ttotal: 39.3s\tremaining: 27.7s\n",
      "587:\tlearn: 1628.7250307\ttotal: 39.4s\tremaining: 27.6s\n",
      "588:\tlearn: 1628.6200005\ttotal: 39.5s\tremaining: 27.5s\n",
      "589:\tlearn: 1628.3984934\ttotal: 39.5s\tremaining: 27.5s\n",
      "590:\tlearn: 1628.1096140\ttotal: 39.6s\tremaining: 27.4s\n",
      "591:\tlearn: 1628.0261048\ttotal: 39.7s\tremaining: 27.3s\n",
      "592:\tlearn: 1627.9074643\ttotal: 39.7s\tremaining: 27.3s\n",
      "593:\tlearn: 1627.5982623\ttotal: 39.8s\tremaining: 27.2s\n",
      "594:\tlearn: 1627.4786144\ttotal: 39.9s\tremaining: 27.1s\n",
      "595:\tlearn: 1627.1611124\ttotal: 39.9s\tremaining: 27.1s\n",
      "596:\tlearn: 1627.0003155\ttotal: 40s\tremaining: 27s\n",
      "597:\tlearn: 1626.9263905\ttotal: 40.1s\tremaining: 26.9s\n",
      "598:\tlearn: 1626.7000175\ttotal: 40.1s\tremaining: 26.9s\n",
      "599:\tlearn: 1626.3417820\ttotal: 40.2s\tremaining: 26.8s\n",
      "600:\tlearn: 1626.2520879\ttotal: 40.3s\tremaining: 26.7s\n",
      "601:\tlearn: 1626.0658930\ttotal: 40.4s\tremaining: 26.7s\n",
      "602:\tlearn: 1625.7597743\ttotal: 40.4s\tremaining: 26.6s\n",
      "603:\tlearn: 1625.7205010\ttotal: 40.5s\tremaining: 26.5s\n",
      "604:\tlearn: 1625.5674871\ttotal: 40.6s\tremaining: 26.5s\n",
      "605:\tlearn: 1625.2565315\ttotal: 40.6s\tremaining: 26.4s\n",
      "606:\tlearn: 1625.1213885\ttotal: 40.7s\tremaining: 26.4s\n",
      "607:\tlearn: 1624.9722816\ttotal: 40.8s\tremaining: 26.3s\n",
      "608:\tlearn: 1624.7944154\ttotal: 40.9s\tremaining: 26.2s\n",
      "609:\tlearn: 1624.6736665\ttotal: 40.9s\tremaining: 26.2s\n",
      "610:\tlearn: 1624.5069026\ttotal: 41s\tremaining: 26.1s\n",
      "611:\tlearn: 1624.4413846\ttotal: 41.1s\tremaining: 26.1s\n",
      "612:\tlearn: 1624.3420208\ttotal: 41.2s\tremaining: 26s\n",
      "613:\tlearn: 1623.9863846\ttotal: 41.2s\tremaining: 25.9s\n",
      "614:\tlearn: 1623.9094498\ttotal: 41.3s\tremaining: 25.9s\n",
      "615:\tlearn: 1623.7674081\ttotal: 41.4s\tremaining: 25.8s\n",
      "616:\tlearn: 1623.3886106\ttotal: 41.5s\tremaining: 25.7s\n",
      "617:\tlearn: 1623.1095989\ttotal: 41.5s\tremaining: 25.7s\n",
      "618:\tlearn: 1623.0136073\ttotal: 41.6s\tremaining: 25.6s\n",
      "619:\tlearn: 1622.9115138\ttotal: 41.7s\tremaining: 25.5s\n",
      "620:\tlearn: 1622.8046151\ttotal: 41.7s\tremaining: 25.5s\n",
      "621:\tlearn: 1622.6438754\ttotal: 41.8s\tremaining: 25.4s\n",
      "622:\tlearn: 1622.3962226\ttotal: 41.9s\tremaining: 25.3s\n",
      "623:\tlearn: 1622.3902523\ttotal: 42s\tremaining: 25.3s\n",
      "624:\tlearn: 1622.2640616\ttotal: 42s\tremaining: 25.2s\n",
      "625:\tlearn: 1621.9784198\ttotal: 42.1s\tremaining: 25.1s\n",
      "626:\tlearn: 1621.8819921\ttotal: 42.2s\tremaining: 25.1s\n",
      "627:\tlearn: 1621.6515932\ttotal: 42.2s\tremaining: 25s\n",
      "628:\tlearn: 1621.5417942\ttotal: 42.3s\tremaining: 25s\n",
      "629:\tlearn: 1621.4685658\ttotal: 42.4s\tremaining: 24.9s\n",
      "630:\tlearn: 1621.3600213\ttotal: 42.5s\tremaining: 24.8s\n",
      "631:\tlearn: 1621.2240514\ttotal: 42.5s\tremaining: 24.8s\n",
      "632:\tlearn: 1620.9876048\ttotal: 42.6s\tremaining: 24.7s\n",
      "633:\tlearn: 1620.7310578\ttotal: 42.7s\tremaining: 24.6s\n",
      "634:\tlearn: 1620.5696075\ttotal: 42.8s\tremaining: 24.6s\n",
      "635:\tlearn: 1620.3754504\ttotal: 42.8s\tremaining: 24.5s\n",
      "636:\tlearn: 1620.2928630\ttotal: 42.9s\tremaining: 24.4s\n",
      "637:\tlearn: 1620.0901021\ttotal: 43s\tremaining: 24.4s\n",
      "638:\tlearn: 1619.9063192\ttotal: 43s\tremaining: 24.3s\n",
      "639:\tlearn: 1619.7369829\ttotal: 43.1s\tremaining: 24.2s\n",
      "640:\tlearn: 1619.5289788\ttotal: 43.1s\tremaining: 24.2s\n",
      "641:\tlearn: 1619.1751658\ttotal: 43.2s\tremaining: 24.1s\n",
      "642:\tlearn: 1619.0707901\ttotal: 43.3s\tremaining: 24s\n",
      "643:\tlearn: 1618.9830409\ttotal: 43.3s\tremaining: 23.9s\n",
      "644:\tlearn: 1618.7418813\ttotal: 43.4s\tremaining: 23.9s\n",
      "645:\tlearn: 1618.3793738\ttotal: 43.5s\tremaining: 23.8s\n",
      "646:\tlearn: 1618.3242267\ttotal: 43.6s\tremaining: 23.8s\n",
      "647:\tlearn: 1617.9696118\ttotal: 43.7s\tremaining: 23.7s\n",
      "648:\tlearn: 1617.9302611\ttotal: 43.7s\tremaining: 23.6s\n",
      "649:\tlearn: 1617.6665961\ttotal: 43.8s\tremaining: 23.6s\n",
      "650:\tlearn: 1617.3969776\ttotal: 43.8s\tremaining: 23.5s\n",
      "651:\tlearn: 1617.2835003\ttotal: 43.9s\tremaining: 23.4s\n",
      "652:\tlearn: 1617.2654104\ttotal: 44s\tremaining: 23.4s\n",
      "653:\tlearn: 1617.2009169\ttotal: 44s\tremaining: 23.3s\n",
      "654:\tlearn: 1616.9747289\ttotal: 44.1s\tremaining: 23.2s\n",
      "655:\tlearn: 1616.9337446\ttotal: 44.1s\tremaining: 23.1s\n",
      "656:\tlearn: 1616.8057529\ttotal: 44.2s\tremaining: 23.1s\n",
      "657:\tlearn: 1616.7002187\ttotal: 44.3s\tremaining: 23s\n",
      "658:\tlearn: 1616.5839213\ttotal: 44.3s\tremaining: 22.9s\n",
      "659:\tlearn: 1616.5035791\ttotal: 44.4s\tremaining: 22.9s\n",
      "660:\tlearn: 1616.3557802\ttotal: 44.5s\tremaining: 22.8s\n",
      "661:\tlearn: 1616.1574487\ttotal: 44.5s\tremaining: 22.7s\n",
      "662:\tlearn: 1616.0935828\ttotal: 44.6s\tremaining: 22.7s\n",
      "663:\tlearn: 1615.9151438\ttotal: 44.7s\tremaining: 22.6s\n",
      "664:\tlearn: 1615.7422064\ttotal: 44.7s\tremaining: 22.5s\n",
      "665:\tlearn: 1615.5616668\ttotal: 44.8s\tremaining: 22.5s\n",
      "666:\tlearn: 1615.2164833\ttotal: 44.9s\tremaining: 22.4s\n",
      "667:\tlearn: 1615.0982170\ttotal: 44.9s\tremaining: 22.3s\n",
      "668:\tlearn: 1614.8539667\ttotal: 45s\tremaining: 22.3s\n",
      "669:\tlearn: 1614.5606720\ttotal: 45.1s\tremaining: 22.2s\n",
      "670:\tlearn: 1614.5066572\ttotal: 45.2s\tremaining: 22.1s\n",
      "671:\tlearn: 1614.4683865\ttotal: 45.2s\tremaining: 22.1s\n",
      "672:\tlearn: 1614.2988918\ttotal: 45.3s\tremaining: 22s\n",
      "673:\tlearn: 1614.1930948\ttotal: 45.4s\tremaining: 21.9s\n",
      "674:\tlearn: 1614.0785795\ttotal: 45.4s\tremaining: 21.9s\n",
      "675:\tlearn: 1613.9242817\ttotal: 45.5s\tremaining: 21.8s\n",
      "676:\tlearn: 1613.7092532\ttotal: 45.6s\tremaining: 21.7s\n",
      "677:\tlearn: 1613.5787367\ttotal: 45.6s\tremaining: 21.7s\n",
      "678:\tlearn: 1613.4792902\ttotal: 45.7s\tremaining: 21.6s\n",
      "679:\tlearn: 1613.4111556\ttotal: 45.8s\tremaining: 21.5s\n",
      "680:\tlearn: 1613.1411522\ttotal: 45.8s\tremaining: 21.5s\n",
      "681:\tlearn: 1612.7020809\ttotal: 45.9s\tremaining: 21.4s\n",
      "682:\tlearn: 1612.4542890\ttotal: 46s\tremaining: 21.4s\n",
      "683:\tlearn: 1612.3118956\ttotal: 46.1s\tremaining: 21.3s\n",
      "684:\tlearn: 1612.2127596\ttotal: 46.2s\tremaining: 21.2s\n",
      "685:\tlearn: 1611.8049476\ttotal: 46.2s\tremaining: 21.2s\n",
      "686:\tlearn: 1611.5076684\ttotal: 46.3s\tremaining: 21.1s\n",
      "687:\tlearn: 1611.4198123\ttotal: 46.4s\tremaining: 21s\n",
      "688:\tlearn: 1611.2496562\ttotal: 46.5s\tremaining: 21s\n",
      "689:\tlearn: 1611.0631766\ttotal: 46.5s\tremaining: 20.9s\n",
      "690:\tlearn: 1610.9865610\ttotal: 46.6s\tremaining: 20.8s\n",
      "691:\tlearn: 1610.5672931\ttotal: 46.7s\tremaining: 20.8s\n",
      "692:\tlearn: 1610.5012420\ttotal: 46.8s\tremaining: 20.7s\n",
      "693:\tlearn: 1610.3732818\ttotal: 46.8s\tremaining: 20.7s\n",
      "694:\tlearn: 1610.0792696\ttotal: 46.9s\tremaining: 20.6s\n",
      "695:\tlearn: 1609.9386451\ttotal: 47s\tremaining: 20.5s\n",
      "696:\tlearn: 1609.8200614\ttotal: 47s\tremaining: 20.4s\n",
      "697:\tlearn: 1609.6884892\ttotal: 47.1s\tremaining: 20.4s\n",
      "698:\tlearn: 1609.5878499\ttotal: 47.2s\tremaining: 20.3s\n",
      "699:\tlearn: 1609.4943443\ttotal: 47.2s\tremaining: 20.2s\n",
      "700:\tlearn: 1609.4491598\ttotal: 47.3s\tremaining: 20.2s\n",
      "701:\tlearn: 1609.3773548\ttotal: 47.3s\tremaining: 20.1s\n",
      "702:\tlearn: 1609.0632572\ttotal: 47.4s\tremaining: 20s\n",
      "703:\tlearn: 1608.8716683\ttotal: 47.5s\tremaining: 20s\n",
      "704:\tlearn: 1608.7618337\ttotal: 47.5s\tremaining: 19.9s\n",
      "705:\tlearn: 1608.5050388\ttotal: 47.6s\tremaining: 19.8s\n",
      "706:\tlearn: 1608.3904971\ttotal: 47.7s\tremaining: 19.8s\n",
      "707:\tlearn: 1608.2283538\ttotal: 47.7s\tremaining: 19.7s\n",
      "708:\tlearn: 1608.1273861\ttotal: 47.8s\tremaining: 19.6s\n",
      "709:\tlearn: 1607.9816648\ttotal: 47.9s\tremaining: 19.6s\n",
      "710:\tlearn: 1607.6602387\ttotal: 48s\tremaining: 19.5s\n",
      "711:\tlearn: 1607.6057286\ttotal: 48s\tremaining: 19.4s\n",
      "712:\tlearn: 1607.4186880\ttotal: 48.1s\tremaining: 19.4s\n",
      "713:\tlearn: 1607.3334259\ttotal: 48.2s\tremaining: 19.3s\n",
      "714:\tlearn: 1607.1917832\ttotal: 48.2s\tremaining: 19.2s\n",
      "715:\tlearn: 1606.9249304\ttotal: 48.3s\tremaining: 19.2s\n",
      "716:\tlearn: 1606.8207618\ttotal: 48.4s\tremaining: 19.1s\n",
      "717:\tlearn: 1606.5169651\ttotal: 48.4s\tremaining: 19s\n",
      "718:\tlearn: 1606.3534982\ttotal: 48.5s\tremaining: 18.9s\n",
      "719:\tlearn: 1606.0900228\ttotal: 48.6s\tremaining: 18.9s\n",
      "720:\tlearn: 1605.9038501\ttotal: 48.6s\tremaining: 18.8s\n",
      "721:\tlearn: 1605.7625783\ttotal: 48.7s\tremaining: 18.8s\n",
      "722:\tlearn: 1605.6847368\ttotal: 48.8s\tremaining: 18.7s\n",
      "723:\tlearn: 1605.6823914\ttotal: 48.9s\tremaining: 18.6s\n",
      "724:\tlearn: 1605.4601942\ttotal: 48.9s\tremaining: 18.6s\n",
      "725:\tlearn: 1605.3716146\ttotal: 49s\tremaining: 18.5s\n",
      "726:\tlearn: 1605.1861346\ttotal: 49.1s\tremaining: 18.4s\n",
      "727:\tlearn: 1605.1820995\ttotal: 49.1s\tremaining: 18.3s\n",
      "728:\tlearn: 1605.1799931\ttotal: 49.2s\tremaining: 18.3s\n",
      "729:\tlearn: 1604.9555569\ttotal: 49.2s\tremaining: 18.2s\n",
      "730:\tlearn: 1604.9299405\ttotal: 49.3s\tremaining: 18.1s\n",
      "731:\tlearn: 1604.7670762\ttotal: 49.3s\tremaining: 18.1s\n",
      "732:\tlearn: 1604.4942635\ttotal: 49.4s\tremaining: 18s\n",
      "733:\tlearn: 1604.1632052\ttotal: 49.5s\tremaining: 17.9s\n",
      "734:\tlearn: 1603.9716145\ttotal: 49.5s\tremaining: 17.9s\n",
      "735:\tlearn: 1603.5712149\ttotal: 49.6s\tremaining: 17.8s\n",
      "736:\tlearn: 1603.4761897\ttotal: 49.7s\tremaining: 17.7s\n",
      "737:\tlearn: 1603.2027710\ttotal: 49.7s\tremaining: 17.7s\n",
      "738:\tlearn: 1603.0515839\ttotal: 49.8s\tremaining: 17.6s\n",
      "739:\tlearn: 1602.8738521\ttotal: 49.9s\tremaining: 17.5s\n",
      "740:\tlearn: 1602.4871947\ttotal: 49.9s\tremaining: 17.5s\n",
      "741:\tlearn: 1602.3199912\ttotal: 50s\tremaining: 17.4s\n",
      "742:\tlearn: 1602.2346999\ttotal: 50.1s\tremaining: 17.3s\n",
      "743:\tlearn: 1602.1100480\ttotal: 50.2s\tremaining: 17.3s\n",
      "744:\tlearn: 1601.7488196\ttotal: 50.2s\tremaining: 17.2s\n",
      "745:\tlearn: 1601.5567994\ttotal: 50.3s\tremaining: 17.1s\n",
      "746:\tlearn: 1601.1916808\ttotal: 50.4s\tremaining: 17.1s\n",
      "747:\tlearn: 1601.0931445\ttotal: 50.5s\tremaining: 17s\n",
      "748:\tlearn: 1600.9606137\ttotal: 50.5s\tremaining: 16.9s\n",
      "749:\tlearn: 1600.8336916\ttotal: 50.6s\tremaining: 16.9s\n",
      "750:\tlearn: 1600.6872290\ttotal: 50.7s\tremaining: 16.8s\n",
      "751:\tlearn: 1600.5609249\ttotal: 50.8s\tremaining: 16.7s\n",
      "752:\tlearn: 1600.4952027\ttotal: 50.8s\tremaining: 16.7s\n",
      "753:\tlearn: 1600.3591707\ttotal: 50.9s\tremaining: 16.6s\n",
      "754:\tlearn: 1600.2022772\ttotal: 50.9s\tremaining: 16.5s\n",
      "755:\tlearn: 1600.1845790\ttotal: 51s\tremaining: 16.5s\n",
      "756:\tlearn: 1600.0574829\ttotal: 51.1s\tremaining: 16.4s\n",
      "757:\tlearn: 1599.8227189\ttotal: 51.1s\tremaining: 16.3s\n",
      "758:\tlearn: 1599.7487062\ttotal: 51.2s\tremaining: 16.2s\n",
      "759:\tlearn: 1599.5380330\ttotal: 51.2s\tremaining: 16.2s\n",
      "760:\tlearn: 1599.5349837\ttotal: 51.3s\tremaining: 16.1s\n",
      "761:\tlearn: 1599.3386103\ttotal: 51.4s\tremaining: 16s\n",
      "762:\tlearn: 1599.1504217\ttotal: 51.4s\tremaining: 16s\n",
      "763:\tlearn: 1599.0105972\ttotal: 51.5s\tremaining: 15.9s\n",
      "764:\tlearn: 1598.8793916\ttotal: 51.6s\tremaining: 15.9s\n",
      "765:\tlearn: 1598.7359134\ttotal: 51.7s\tremaining: 15.8s\n",
      "766:\tlearn: 1598.5883921\ttotal: 51.8s\tremaining: 15.7s\n",
      "767:\tlearn: 1598.3109938\ttotal: 51.8s\tremaining: 15.7s\n",
      "768:\tlearn: 1598.1857693\ttotal: 51.9s\tremaining: 15.6s\n",
      "769:\tlearn: 1598.0376512\ttotal: 52s\tremaining: 15.5s\n",
      "770:\tlearn: 1597.9162115\ttotal: 52s\tremaining: 15.4s\n",
      "771:\tlearn: 1597.7083465\ttotal: 52s\tremaining: 15.4s\n",
      "772:\tlearn: 1597.5879077\ttotal: 52.1s\tremaining: 15.3s\n",
      "773:\tlearn: 1597.3227390\ttotal: 52.2s\tremaining: 15.2s\n",
      "774:\tlearn: 1597.2151928\ttotal: 52.2s\tremaining: 15.2s\n",
      "775:\tlearn: 1597.1150610\ttotal: 52.3s\tremaining: 15.1s\n",
      "776:\tlearn: 1597.0135879\ttotal: 52.4s\tremaining: 15s\n",
      "777:\tlearn: 1596.9178601\ttotal: 52.4s\tremaining: 15s\n",
      "778:\tlearn: 1596.8785239\ttotal: 52.5s\tremaining: 14.9s\n",
      "779:\tlearn: 1596.7247020\ttotal: 52.5s\tremaining: 14.8s\n",
      "780:\tlearn: 1596.5847680\ttotal: 52.6s\tremaining: 14.8s\n",
      "781:\tlearn: 1596.3790041\ttotal: 52.7s\tremaining: 14.7s\n",
      "782:\tlearn: 1596.3691820\ttotal: 52.8s\tremaining: 14.6s\n",
      "783:\tlearn: 1596.2869457\ttotal: 52.9s\tremaining: 14.6s\n",
      "784:\tlearn: 1596.2343554\ttotal: 52.9s\tremaining: 14.5s\n",
      "785:\tlearn: 1596.1191236\ttotal: 53s\tremaining: 14.4s\n",
      "786:\tlearn: 1595.9464979\ttotal: 53.1s\tremaining: 14.4s\n",
      "787:\tlearn: 1595.7152529\ttotal: 53.1s\tremaining: 14.3s\n",
      "788:\tlearn: 1595.6983559\ttotal: 53.2s\tremaining: 14.2s\n",
      "789:\tlearn: 1595.6920151\ttotal: 53.3s\tremaining: 14.2s\n",
      "790:\tlearn: 1595.6032823\ttotal: 53.3s\tremaining: 14.1s\n",
      "791:\tlearn: 1595.3839716\ttotal: 53.4s\tremaining: 14s\n",
      "792:\tlearn: 1595.1572219\ttotal: 53.4s\tremaining: 13.9s\n",
      "793:\tlearn: 1595.0941447\ttotal: 53.5s\tremaining: 13.9s\n",
      "794:\tlearn: 1594.9477653\ttotal: 53.6s\tremaining: 13.8s\n",
      "795:\tlearn: 1594.7427875\ttotal: 53.6s\tremaining: 13.7s\n",
      "796:\tlearn: 1594.7343886\ttotal: 53.7s\tremaining: 13.7s\n",
      "797:\tlearn: 1594.5513078\ttotal: 53.8s\tremaining: 13.6s\n",
      "798:\tlearn: 1594.4289859\ttotal: 53.8s\tremaining: 13.5s\n",
      "799:\tlearn: 1594.3719772\ttotal: 53.9s\tremaining: 13.5s\n",
      "800:\tlearn: 1594.3172093\ttotal: 54s\tremaining: 13.4s\n",
      "801:\tlearn: 1594.1675854\ttotal: 54.1s\tremaining: 13.3s\n",
      "802:\tlearn: 1594.0287811\ttotal: 54.1s\tremaining: 13.3s\n",
      "803:\tlearn: 1593.9657180\ttotal: 54.2s\tremaining: 13.2s\n",
      "804:\tlearn: 1593.8150428\ttotal: 54.3s\tremaining: 13.1s\n",
      "805:\tlearn: 1593.6387273\ttotal: 54.3s\tremaining: 13.1s\n",
      "806:\tlearn: 1593.5679096\ttotal: 54.4s\tremaining: 13s\n",
      "807:\tlearn: 1593.3322058\ttotal: 54.5s\tremaining: 12.9s\n",
      "808:\tlearn: 1593.2620398\ttotal: 54.6s\tremaining: 12.9s\n",
      "809:\tlearn: 1593.1369991\ttotal: 54.6s\tremaining: 12.8s\n",
      "810:\tlearn: 1593.0413136\ttotal: 54.7s\tremaining: 12.8s\n",
      "811:\tlearn: 1593.0216817\ttotal: 54.8s\tremaining: 12.7s\n",
      "812:\tlearn: 1592.9484376\ttotal: 54.8s\tremaining: 12.6s\n",
      "813:\tlearn: 1592.8470146\ttotal: 54.9s\tremaining: 12.5s\n",
      "814:\tlearn: 1592.6860655\ttotal: 55s\tremaining: 12.5s\n",
      "815:\tlearn: 1592.5675461\ttotal: 55.1s\tremaining: 12.4s\n",
      "816:\tlearn: 1592.4419481\ttotal: 55.1s\tremaining: 12.3s\n",
      "817:\tlearn: 1592.1985242\ttotal: 55.2s\tremaining: 12.3s\n",
      "818:\tlearn: 1592.0685642\ttotal: 55.3s\tremaining: 12.2s\n",
      "819:\tlearn: 1591.9671541\ttotal: 55.3s\tremaining: 12.1s\n",
      "820:\tlearn: 1591.9016805\ttotal: 55.4s\tremaining: 12.1s\n",
      "821:\tlearn: 1591.6690475\ttotal: 55.5s\tremaining: 12s\n",
      "822:\tlearn: 1591.5465812\ttotal: 55.5s\tremaining: 11.9s\n",
      "823:\tlearn: 1591.2210733\ttotal: 55.6s\tremaining: 11.9s\n",
      "824:\tlearn: 1590.9718828\ttotal: 55.7s\tremaining: 11.8s\n",
      "825:\tlearn: 1590.9180004\ttotal: 55.7s\tremaining: 11.7s\n",
      "826:\tlearn: 1590.8492865\ttotal: 55.8s\tremaining: 11.7s\n",
      "827:\tlearn: 1590.5991158\ttotal: 55.9s\tremaining: 11.6s\n",
      "828:\tlearn: 1590.3616394\ttotal: 55.9s\tremaining: 11.5s\n",
      "829:\tlearn: 1590.2946878\ttotal: 56s\tremaining: 11.5s\n",
      "830:\tlearn: 1590.0552462\ttotal: 56s\tremaining: 11.4s\n",
      "831:\tlearn: 1589.9678624\ttotal: 56.1s\tremaining: 11.3s\n",
      "832:\tlearn: 1589.6763532\ttotal: 56.2s\tremaining: 11.3s\n",
      "833:\tlearn: 1589.5855046\ttotal: 56.3s\tremaining: 11.2s\n",
      "834:\tlearn: 1589.5619553\ttotal: 56.3s\tremaining: 11.1s\n",
      "835:\tlearn: 1589.3532566\ttotal: 56.4s\tremaining: 11.1s\n",
      "836:\tlearn: 1589.2923754\ttotal: 56.4s\tremaining: 11s\n",
      "837:\tlearn: 1589.2043334\ttotal: 56.5s\tremaining: 10.9s\n",
      "838:\tlearn: 1589.0965652\ttotal: 56.5s\tremaining: 10.8s\n",
      "839:\tlearn: 1588.8782447\ttotal: 56.6s\tremaining: 10.8s\n",
      "840:\tlearn: 1588.7463427\ttotal: 56.7s\tremaining: 10.7s\n",
      "841:\tlearn: 1588.6559531\ttotal: 56.8s\tremaining: 10.7s\n",
      "842:\tlearn: 1588.4641752\ttotal: 56.8s\tremaining: 10.6s\n",
      "843:\tlearn: 1588.2877420\ttotal: 56.9s\tremaining: 10.5s\n",
      "844:\tlearn: 1588.2030507\ttotal: 57s\tremaining: 10.4s\n",
      "845:\tlearn: 1588.1251982\ttotal: 57s\tremaining: 10.4s\n",
      "846:\tlearn: 1588.0026948\ttotal: 57.1s\tremaining: 10.3s\n",
      "847:\tlearn: 1587.9129899\ttotal: 57.1s\tremaining: 10.2s\n",
      "848:\tlearn: 1587.8154794\ttotal: 57.2s\tremaining: 10.2s\n",
      "849:\tlearn: 1587.7363973\ttotal: 57.3s\tremaining: 10.1s\n",
      "850:\tlearn: 1587.5646169\ttotal: 57.4s\tremaining: 10s\n",
      "851:\tlearn: 1587.4166758\ttotal: 57.5s\tremaining: 9.98s\n",
      "852:\tlearn: 1587.3562607\ttotal: 57.5s\tremaining: 9.92s\n",
      "853:\tlearn: 1587.2843374\ttotal: 57.6s\tremaining: 9.85s\n",
      "854:\tlearn: 1587.2825052\ttotal: 57.7s\tremaining: 9.78s\n",
      "855:\tlearn: 1587.1230676\ttotal: 57.8s\tremaining: 9.72s\n",
      "856:\tlearn: 1587.0474596\ttotal: 57.8s\tremaining: 9.65s\n",
      "857:\tlearn: 1586.9054035\ttotal: 57.9s\tremaining: 9.58s\n",
      "858:\tlearn: 1586.8462621\ttotal: 58s\tremaining: 9.51s\n",
      "859:\tlearn: 1586.8067396\ttotal: 58s\tremaining: 9.45s\n",
      "860:\tlearn: 1586.7641948\ttotal: 58.1s\tremaining: 9.38s\n",
      "861:\tlearn: 1586.6299744\ttotal: 58.1s\tremaining: 9.31s\n",
      "862:\tlearn: 1586.5772631\ttotal: 58.2s\tremaining: 9.24s\n",
      "863:\tlearn: 1586.4553647\ttotal: 58.3s\tremaining: 9.17s\n",
      "864:\tlearn: 1586.3017501\ttotal: 58.3s\tremaining: 9.1s\n",
      "865:\tlearn: 1586.2223898\ttotal: 58.4s\tremaining: 9.04s\n",
      "866:\tlearn: 1586.0639378\ttotal: 58.5s\tremaining: 8.97s\n",
      "867:\tlearn: 1585.9108866\ttotal: 58.5s\tremaining: 8.9s\n",
      "868:\tlearn: 1585.6361298\ttotal: 58.6s\tremaining: 8.84s\n",
      "869:\tlearn: 1585.5746673\ttotal: 58.7s\tremaining: 8.77s\n",
      "870:\tlearn: 1585.3670248\ttotal: 58.8s\tremaining: 8.7s\n",
      "871:\tlearn: 1585.2949490\ttotal: 58.8s\tremaining: 8.63s\n",
      "872:\tlearn: 1585.2003713\ttotal: 58.9s\tremaining: 8.57s\n",
      "873:\tlearn: 1584.9551725\ttotal: 59s\tremaining: 8.5s\n",
      "874:\tlearn: 1584.6829462\ttotal: 59.1s\tremaining: 8.44s\n",
      "875:\tlearn: 1584.5980082\ttotal: 59.1s\tremaining: 8.37s\n",
      "876:\tlearn: 1584.5286004\ttotal: 59.2s\tremaining: 8.3s\n",
      "877:\tlearn: 1584.3006874\ttotal: 59.2s\tremaining: 8.23s\n",
      "878:\tlearn: 1584.2504072\ttotal: 59.3s\tremaining: 8.16s\n",
      "879:\tlearn: 1584.1232977\ttotal: 59.4s\tremaining: 8.1s\n",
      "880:\tlearn: 1584.0945018\ttotal: 59.4s\tremaining: 8.03s\n",
      "881:\tlearn: 1583.9779313\ttotal: 59.5s\tremaining: 7.96s\n",
      "882:\tlearn: 1583.9013951\ttotal: 59.6s\tremaining: 7.9s\n",
      "883:\tlearn: 1583.8311944\ttotal: 59.7s\tremaining: 7.83s\n",
      "884:\tlearn: 1583.7550063\ttotal: 59.7s\tremaining: 7.76s\n",
      "885:\tlearn: 1583.6555949\ttotal: 59.8s\tremaining: 7.69s\n",
      "886:\tlearn: 1583.5201951\ttotal: 59.8s\tremaining: 7.62s\n",
      "887:\tlearn: 1583.3745123\ttotal: 59.9s\tremaining: 7.56s\n",
      "888:\tlearn: 1583.3055068\ttotal: 1m\tremaining: 7.49s\n",
      "889:\tlearn: 1583.2141359\ttotal: 1m\tremaining: 7.43s\n",
      "890:\tlearn: 1583.1361116\ttotal: 1m\tremaining: 7.36s\n",
      "891:\tlearn: 1582.8889769\ttotal: 1m\tremaining: 7.29s\n",
      "892:\tlearn: 1582.7636803\ttotal: 1m\tremaining: 7.23s\n",
      "893:\tlearn: 1582.6988588\ttotal: 1m\tremaining: 7.16s\n",
      "894:\tlearn: 1582.6626530\ttotal: 1m\tremaining: 7.09s\n",
      "895:\tlearn: 1582.6145427\ttotal: 1m\tremaining: 7.02s\n",
      "896:\tlearn: 1582.4359435\ttotal: 1m\tremaining: 6.96s\n",
      "897:\tlearn: 1582.3655209\ttotal: 1m\tremaining: 6.89s\n",
      "898:\tlearn: 1582.3247002\ttotal: 1m\tremaining: 6.82s\n",
      "899:\tlearn: 1582.3028868\ttotal: 1m\tremaining: 6.75s\n",
      "900:\tlearn: 1582.1869299\ttotal: 1m\tremaining: 6.69s\n",
      "901:\tlearn: 1581.9972803\ttotal: 1m\tremaining: 6.62s\n",
      "902:\tlearn: 1581.8785107\ttotal: 1m 1s\tremaining: 6.55s\n",
      "903:\tlearn: 1581.7566032\ttotal: 1m 1s\tremaining: 6.49s\n",
      "904:\tlearn: 1581.7135298\ttotal: 1m 1s\tremaining: 6.42s\n",
      "905:\tlearn: 1581.4038825\ttotal: 1m 1s\tremaining: 6.36s\n",
      "906:\tlearn: 1581.1664613\ttotal: 1m 1s\tremaining: 6.29s\n",
      "907:\tlearn: 1581.0993262\ttotal: 1m 1s\tremaining: 6.22s\n",
      "908:\tlearn: 1580.8576490\ttotal: 1m 1s\tremaining: 6.15s\n",
      "909:\tlearn: 1580.7785819\ttotal: 1m 1s\tremaining: 6.08s\n",
      "910:\tlearn: 1580.5803827\ttotal: 1m 1s\tremaining: 6.02s\n",
      "911:\tlearn: 1580.5645964\ttotal: 1m 1s\tremaining: 5.95s\n",
      "912:\tlearn: 1580.3817887\ttotal: 1m 1s\tremaining: 5.88s\n",
      "913:\tlearn: 1580.1701350\ttotal: 1m 1s\tremaining: 5.82s\n",
      "914:\tlearn: 1580.1177872\ttotal: 1m 1s\tremaining: 5.75s\n",
      "915:\tlearn: 1580.0268057\ttotal: 1m 2s\tremaining: 5.69s\n",
      "916:\tlearn: 1579.9771998\ttotal: 1m 2s\tremaining: 5.62s\n",
      "917:\tlearn: 1579.9047083\ttotal: 1m 2s\tremaining: 5.55s\n",
      "918:\tlearn: 1579.7658020\ttotal: 1m 2s\tremaining: 5.49s\n",
      "919:\tlearn: 1579.6723562\ttotal: 1m 2s\tremaining: 5.42s\n",
      "920:\tlearn: 1579.5303777\ttotal: 1m 2s\tremaining: 5.35s\n",
      "921:\tlearn: 1579.4305441\ttotal: 1m 2s\tremaining: 5.29s\n",
      "922:\tlearn: 1579.4299179\ttotal: 1m 2s\tremaining: 5.22s\n",
      "923:\tlearn: 1579.3767015\ttotal: 1m 2s\tremaining: 5.15s\n",
      "924:\tlearn: 1579.2606959\ttotal: 1m 2s\tremaining: 5.08s\n",
      "925:\tlearn: 1579.1447100\ttotal: 1m 2s\tremaining: 5.01s\n",
      "926:\tlearn: 1578.8675440\ttotal: 1m 2s\tremaining: 4.94s\n",
      "927:\tlearn: 1578.8379963\ttotal: 1m 2s\tremaining: 4.87s\n",
      "928:\tlearn: 1578.4284375\ttotal: 1m 2s\tremaining: 4.81s\n",
      "929:\tlearn: 1578.2729634\ttotal: 1m 2s\tremaining: 4.74s\n",
      "930:\tlearn: 1578.1035506\ttotal: 1m 3s\tremaining: 4.67s\n",
      "931:\tlearn: 1578.0606751\ttotal: 1m 3s\tremaining: 4.6s\n",
      "932:\tlearn: 1577.9675851\ttotal: 1m 3s\tremaining: 4.54s\n",
      "933:\tlearn: 1577.6245865\ttotal: 1m 3s\tremaining: 4.47s\n",
      "934:\tlearn: 1577.4736949\ttotal: 1m 3s\tremaining: 4.4s\n",
      "935:\tlearn: 1577.4523121\ttotal: 1m 3s\tremaining: 4.33s\n",
      "936:\tlearn: 1577.2767802\ttotal: 1m 3s\tremaining: 4.27s\n",
      "937:\tlearn: 1577.2083288\ttotal: 1m 3s\tremaining: 4.2s\n",
      "938:\tlearn: 1577.0770408\ttotal: 1m 3s\tremaining: 4.13s\n",
      "939:\tlearn: 1577.0701759\ttotal: 1m 3s\tremaining: 4.06s\n",
      "940:\tlearn: 1577.0368527\ttotal: 1m 3s\tremaining: 3.99s\n",
      "941:\tlearn: 1576.9554826\ttotal: 1m 3s\tremaining: 3.92s\n",
      "942:\tlearn: 1576.7628985\ttotal: 1m 3s\tremaining: 3.86s\n",
      "943:\tlearn: 1576.6515978\ttotal: 1m 3s\tremaining: 3.79s\n",
      "944:\tlearn: 1576.5138345\ttotal: 1m 3s\tremaining: 3.72s\n",
      "945:\tlearn: 1576.3474960\ttotal: 1m 3s\tremaining: 3.65s\n",
      "946:\tlearn: 1576.2267076\ttotal: 1m 4s\tremaining: 3.58s\n",
      "947:\tlearn: 1575.9381167\ttotal: 1m 4s\tremaining: 3.52s\n",
      "948:\tlearn: 1575.8019382\ttotal: 1m 4s\tremaining: 3.45s\n",
      "949:\tlearn: 1575.7615302\ttotal: 1m 4s\tremaining: 3.38s\n",
      "950:\tlearn: 1575.6129131\ttotal: 1m 4s\tremaining: 3.31s\n",
      "951:\tlearn: 1575.5025095\ttotal: 1m 4s\tremaining: 3.25s\n",
      "952:\tlearn: 1575.3491496\ttotal: 1m 4s\tremaining: 3.18s\n",
      "953:\tlearn: 1575.1235092\ttotal: 1m 4s\tremaining: 3.11s\n",
      "954:\tlearn: 1575.0310452\ttotal: 1m 4s\tremaining: 3.04s\n",
      "955:\tlearn: 1574.9690949\ttotal: 1m 4s\tremaining: 2.98s\n",
      "956:\tlearn: 1574.9618954\ttotal: 1m 4s\tremaining: 2.91s\n",
      "957:\tlearn: 1574.9592151\ttotal: 1m 4s\tremaining: 2.84s\n",
      "958:\tlearn: 1574.8740621\ttotal: 1m 4s\tremaining: 2.77s\n",
      "959:\tlearn: 1574.8307407\ttotal: 1m 4s\tremaining: 2.71s\n",
      "960:\tlearn: 1574.7360986\ttotal: 1m 5s\tremaining: 2.64s\n",
      "961:\tlearn: 1574.7257002\ttotal: 1m 5s\tremaining: 2.57s\n",
      "962:\tlearn: 1574.6545719\ttotal: 1m 5s\tremaining: 2.5s\n",
      "963:\tlearn: 1574.5722431\ttotal: 1m 5s\tremaining: 2.44s\n",
      "964:\tlearn: 1574.5065896\ttotal: 1m 5s\tremaining: 2.37s\n",
      "965:\tlearn: 1574.4626649\ttotal: 1m 5s\tremaining: 2.3s\n",
      "966:\tlearn: 1574.3008643\ttotal: 1m 5s\tremaining: 2.23s\n",
      "967:\tlearn: 1574.2343674\ttotal: 1m 5s\tremaining: 2.17s\n",
      "968:\tlearn: 1574.1196386\ttotal: 1m 5s\tremaining: 2.1s\n",
      "969:\tlearn: 1574.0502249\ttotal: 1m 5s\tremaining: 2.03s\n",
      "970:\tlearn: 1573.9423343\ttotal: 1m 5s\tremaining: 1.96s\n",
      "971:\tlearn: 1573.8554657\ttotal: 1m 5s\tremaining: 1.9s\n",
      "972:\tlearn: 1573.8323564\ttotal: 1m 5s\tremaining: 1.83s\n",
      "973:\tlearn: 1573.6599803\ttotal: 1m 5s\tremaining: 1.76s\n",
      "974:\tlearn: 1573.5931812\ttotal: 1m 6s\tremaining: 1.69s\n",
      "975:\tlearn: 1573.4323431\ttotal: 1m 6s\tremaining: 1.63s\n",
      "976:\tlearn: 1573.2692309\ttotal: 1m 6s\tremaining: 1.56s\n",
      "977:\tlearn: 1573.0747498\ttotal: 1m 6s\tremaining: 1.49s\n",
      "978:\tlearn: 1572.9767833\ttotal: 1m 6s\tremaining: 1.42s\n",
      "979:\tlearn: 1572.9544285\ttotal: 1m 6s\tremaining: 1.35s\n",
      "980:\tlearn: 1572.8576786\ttotal: 1m 6s\tremaining: 1.29s\n",
      "981:\tlearn: 1572.7101673\ttotal: 1m 6s\tremaining: 1.22s\n",
      "982:\tlearn: 1572.5398752\ttotal: 1m 6s\tremaining: 1.15s\n",
      "983:\tlearn: 1572.4710366\ttotal: 1m 6s\tremaining: 1.08s\n",
      "984:\tlearn: 1572.4055108\ttotal: 1m 6s\tremaining: 1.02s\n",
      "985:\tlearn: 1572.3212501\ttotal: 1m 6s\tremaining: 948ms\n",
      "986:\tlearn: 1572.2787174\ttotal: 1m 6s\tremaining: 881ms\n",
      "987:\tlearn: 1572.2221254\ttotal: 1m 6s\tremaining: 813ms\n",
      "988:\tlearn: 1572.1407593\ttotal: 1m 7s\tremaining: 745ms\n",
      "989:\tlearn: 1572.1132422\ttotal: 1m 7s\tremaining: 678ms\n",
      "990:\tlearn: 1572.0524227\ttotal: 1m 7s\tremaining: 610ms\n",
      "991:\tlearn: 1571.9995818\ttotal: 1m 7s\tremaining: 542ms\n",
      "992:\tlearn: 1571.9783010\ttotal: 1m 7s\tremaining: 474ms\n",
      "993:\tlearn: 1571.8363463\ttotal: 1m 7s\tremaining: 406ms\n",
      "994:\tlearn: 1571.7518472\ttotal: 1m 7s\tremaining: 339ms\n",
      "995:\tlearn: 1571.7251153\ttotal: 1m 7s\tremaining: 271ms\n",
      "996:\tlearn: 1571.6821121\ttotal: 1m 7s\tremaining: 203ms\n",
      "997:\tlearn: 1571.5621408\ttotal: 1m 7s\tremaining: 135ms\n",
      "998:\tlearn: 1571.5173481\ttotal: 1m 7s\tremaining: 67.7ms\n",
      "999:\tlearn: 1571.4982231\ttotal: 1m 7s\tremaining: 0us\n",
      "RMSE на обучающей выборке: 1672.4948328333667 , число деревьев: 990\n"
     ]
    }
   ],
   "source": [
    "best_model_cat = None\n",
    "best_result = 5000000\n",
    "max_iter = None\n",
    "scores = []\n",
    "\n",
    "for iter in range(990,1001,10):\n",
    "    cat_features = ['VehicleType', 'Gearbox', 'Model', 'FuelType', 'Brand', 'Repaired']\n",
    "    model = CatBoostRegressor(iterations=iter, random_state=12345, cat_features=cat_features)\n",
    "    scoring = make_scorer(mean_squared_error, greater_is_better=False)\n",
    "    model.fit(features_train_old, target_train_old, verbose=100, plot=True)\n",
    "    scores = cross_val_score(model, features_train_old, target_train_old, cv=2, scoring=scoring)\n",
    "    final_score = abs(np.mean(scores))\n",
    "    rmse = final_score ** 0.5\n",
    "    result = rmse\n",
    "    if result < best_result:\n",
    "        best_result = result\n",
    "        best_model_cat = model\n",
    "        max_iter = iter\n",
    "               \n",
    "print(\"RMSE на обучающей выборке:\", best_result,', число деревьев:', max_iter)"
   ]
  },
  {
   "cell_type": "code",
   "execution_count": 64,
   "metadata": {},
   "outputs": [
    {
     "name": "stdout",
     "output_type": "stream",
     "text": [
      "CPU times: user 2min 12s, sys: 536 ms, total: 2min 13s\n",
      "Wall time: 2min 14s\n"
     ]
    },
    {
     "data": {
      "text/plain": [
       "<catboost.core.CatBoostRegressor at 0x7fad3b59c1f0>"
      ]
     },
     "execution_count": 64,
     "metadata": {},
     "output_type": "execute_result"
    }
   ],
   "source": [
    "%%time\n",
    "\n",
    "best_model_cat.fit(features_train_old, target_train_old, cat_features=cat_features, verbose = 0)"
   ]
  },
  {
   "cell_type": "code",
   "execution_count": 65,
   "metadata": {},
   "outputs": [
    {
     "name": "stdout",
     "output_type": "stream",
     "text": [
      "CPU times: user 443 ms, sys: 0 ns, total: 443 ms\n",
      "Wall time: 446 ms\n"
     ]
    }
   ],
   "source": [
    "%%time\n",
    "\n",
    "predict_valid_cat = best_model_cat.predict(features_valid_old)"
   ]
  },
  {
   "cell_type": "code",
   "execution_count": 66,
   "metadata": {},
   "outputs": [
    {
     "name": "stdout",
     "output_type": "stream",
     "text": [
      "RMSE на валидационной выборке: 1640.6311770658974\n"
     ]
    }
   ],
   "source": [
    "mse = mean_squared_error(target_valid_old, predict_valid_cat)\n",
    "rmse = mse ** 0.5\n",
    "\n",
    "print(\"RMSE на валидационной выборке:\", rmse)"
   ]
  },
  {
   "cell_type": "markdown",
   "metadata": {},
   "source": [
    "### LGBMBoost"
   ]
  },
  {
   "cell_type": "markdown",
   "metadata": {},
   "source": [
    "\n",
    "<div class=\"alert alert-block alert-info\">\n",
    "<b>Совет:</b>  У LGBM тоже есть внутренний метод кодировки данных, который хорошо было бы попробовать\n",
    "</div>\n"
   ]
  },
  {
   "cell_type": "code",
   "execution_count": 67,
   "metadata": {
    "scrolled": true
   },
   "outputs": [
    {
     "name": "stdout",
     "output_type": "stream",
     "text": [
      "[LightGBM] [Warning] Unknown parameter: cat_features\n"
     ]
    },
    {
     "name": "stderr",
     "output_type": "stream",
     "text": [
      "/opt/conda/lib/python3.9/site-packages/pandas/core/frame.py:3191: SettingWithCopyWarning: \n",
      "A value is trying to be set on a copy of a slice from a DataFrame.\n",
      "Try using .loc[row_indexer,col_indexer] = value instead\n",
      "\n",
      "See the caveats in the documentation: https://pandas.pydata.org/pandas-docs/stable/user_guide/indexing.html#returning-a-view-versus-a-copy\n",
      "  self[k1] = value[k2]\n",
      "/opt/conda/lib/python3.9/site-packages/sklearn/model_selection/_search.py:285: UserWarning: The total space of parameters 4 is smaller than n_iter=10. Running 4 iterations. For exhaustive searches, use GridSearchCV.\n",
      "  warnings.warn(\n"
     ]
    },
    {
     "name": "stdout",
     "output_type": "stream",
     "text": [
      "[LightGBM] [Warning] Unknown parameter: cat_features\n",
      "[LightGBM] [Debug] Dataset::GetMultiBinFromSparseFeatures: sparse rate 0.863304\n",
      "[LightGBM] [Debug] Dataset::GetMultiBinFromAllFeatures: sparse rate 0.299272\n",
      "[LightGBM] [Debug] init for col-wise cost 0.086875 seconds, init for row-wise cost 0.007743 seconds\n",
      "[LightGBM] [Warning] Auto-choosing row-wise multi-threading, the overhead of testing was 0.176731 seconds.\n",
      "You can set `force_row_wise=true` to remove the overhead.\n",
      "And if memory is not enough, you can set `force_col_wise=true`.\n",
      "[LightGBM] [Debug] Using Sparse Multi-Val Bin\n",
      "[LightGBM] [Info] Total Bins 624\n",
      "[LightGBM] [Info] Number of data points in the train set: 129536, number of used features: 9\n",
      "[LightGBM] [Info] Start training from score 4658.354542\n",
      "[LightGBM] [Debug] Trained a tree with leaves = 2 and depth = 1\n",
      "[LightGBM] [Debug] Trained a tree with leaves = 2 and depth = 1\n",
      "[LightGBM] [Debug] Trained a tree with leaves = 2 and depth = 1\n",
      "[LightGBM] [Debug] Trained a tree with leaves = 2 and depth = 1\n",
      "[LightGBM] [Debug] Trained a tree with leaves = 2 and depth = 1\n",
      "[LightGBM] [Debug] Trained a tree with leaves = 2 and depth = 1\n",
      "[LightGBM] [Debug] Trained a tree with leaves = 2 and depth = 1\n",
      "[LightGBM] [Debug] Trained a tree with leaves = 2 and depth = 1\n",
      "[LightGBM] [Debug] Trained a tree with leaves = 2 and depth = 1\n",
      "[LightGBM] [Debug] Trained a tree with leaves = 2 and depth = 1\n",
      "[LightGBM] [Debug] Trained a tree with leaves = 2 and depth = 1\n",
      "[LightGBM] [Debug] Trained a tree with leaves = 2 and depth = 1\n",
      "[LightGBM] [Debug] Trained a tree with leaves = 2 and depth = 1\n",
      "[LightGBM] [Debug] Trained a tree with leaves = 2 and depth = 1\n",
      "[LightGBM] [Debug] Trained a tree with leaves = 2 and depth = 1\n",
      "[LightGBM] [Debug] Trained a tree with leaves = 2 and depth = 1\n",
      "[LightGBM] [Debug] Trained a tree with leaves = 2 and depth = 1\n",
      "[LightGBM] [Debug] Trained a tree with leaves = 2 and depth = 1\n",
      "[LightGBM] [Debug] Trained a tree with leaves = 2 and depth = 1\n",
      "[LightGBM] [Debug] Trained a tree with leaves = 2 and depth = 1\n",
      "[LightGBM] [Warning] Unknown parameter: cat_features\n",
      "[LightGBM] [Warning] Unknown parameter: cat_features\n",
      "[LightGBM] [Debug] Dataset::GetMultiBinFromSparseFeatures: sparse rate 0.862737\n",
      "[LightGBM] [Debug] Dataset::GetMultiBinFromAllFeatures: sparse rate 0.299089\n",
      "[LightGBM] [Debug] init for col-wise cost 0.087096 seconds, init for row-wise cost 0.007714 seconds\n",
      "[LightGBM] [Warning] Auto-choosing row-wise multi-threading, the overhead of testing was 0.176778 seconds.\n",
      "You can set `force_row_wise=true` to remove the overhead.\n",
      "And if memory is not enough, you can set `force_col_wise=true`.\n",
      "[LightGBM] [Debug] Using Sparse Multi-Val Bin\n",
      "[LightGBM] [Info] Total Bins 625\n",
      "[LightGBM] [Info] Number of data points in the train set: 129537, number of used features: 9\n",
      "[LightGBM] [Info] Start training from score 4646.441881\n",
      "[LightGBM] [Debug] Trained a tree with leaves = 2 and depth = 1\n",
      "[LightGBM] [Debug] Trained a tree with leaves = 2 and depth = 1\n",
      "[LightGBM] [Debug] Trained a tree with leaves = 2 and depth = 1\n",
      "[LightGBM] [Debug] Trained a tree with leaves = 2 and depth = 1\n",
      "[LightGBM] [Debug] Trained a tree with leaves = 2 and depth = 1\n",
      "[LightGBM] [Debug] Trained a tree with leaves = 2 and depth = 1\n",
      "[LightGBM] [Debug] Trained a tree with leaves = 2 and depth = 1\n",
      "[LightGBM] [Debug] Trained a tree with leaves = 2 and depth = 1\n",
      "[LightGBM] [Debug] Trained a tree with leaves = 2 and depth = 1\n",
      "[LightGBM] [Debug] Trained a tree with leaves = 2 and depth = 1\n",
      "[LightGBM] [Debug] Trained a tree with leaves = 2 and depth = 1\n",
      "[LightGBM] [Debug] Trained a tree with leaves = 2 and depth = 1\n",
      "[LightGBM] [Debug] Trained a tree with leaves = 2 and depth = 1\n",
      "[LightGBM] [Debug] Trained a tree with leaves = 2 and depth = 1\n",
      "[LightGBM] [Debug] Trained a tree with leaves = 2 and depth = 1\n",
      "[LightGBM] [Debug] Trained a tree with leaves = 2 and depth = 1\n",
      "[LightGBM] [Debug] Trained a tree with leaves = 2 and depth = 1\n",
      "[LightGBM] [Debug] Trained a tree with leaves = 2 and depth = 1\n",
      "[LightGBM] [Debug] Trained a tree with leaves = 2 and depth = 1\n",
      "[LightGBM] [Debug] Trained a tree with leaves = 2 and depth = 1\n",
      "[LightGBM] [Warning] Unknown parameter: cat_features\n",
      "[LightGBM] [Warning] Unknown parameter: cat_features\n",
      "[LightGBM] [Debug] Dataset::GetMultiBinFromSparseFeatures: sparse rate 0.863167\n",
      "[LightGBM] [Debug] Dataset::GetMultiBinFromAllFeatures: sparse rate 0.299129\n",
      "[LightGBM] [Debug] init for col-wise cost 0.002567 seconds, init for row-wise cost 0.006673 seconds\n",
      "[LightGBM] [Warning] Auto-choosing row-wise multi-threading, the overhead of testing was 0.192502 seconds.\n",
      "You can set `force_row_wise=true` to remove the overhead.\n",
      "And if memory is not enough, you can set `force_col_wise=true`.\n",
      "[LightGBM] [Debug] Using Sparse Multi-Val Bin\n",
      "[LightGBM] [Info] Total Bins 625\n",
      "[LightGBM] [Info] Number of data points in the train set: 129537, number of used features: 9\n",
      "[LightGBM] [Info] Start training from score 4672.959216\n",
      "[LightGBM] [Debug] Trained a tree with leaves = 2 and depth = 1\n",
      "[LightGBM] [Debug] Trained a tree with leaves = 2 and depth = 1\n",
      "[LightGBM] [Debug] Trained a tree with leaves = 2 and depth = 1\n",
      "[LightGBM] [Debug] Trained a tree with leaves = 2 and depth = 1\n",
      "[LightGBM] [Debug] Trained a tree with leaves = 2 and depth = 1\n",
      "[LightGBM] [Debug] Trained a tree with leaves = 2 and depth = 1\n",
      "[LightGBM] [Debug] Trained a tree with leaves = 2 and depth = 1\n",
      "[LightGBM] [Debug] Trained a tree with leaves = 2 and depth = 1\n",
      "[LightGBM] [Debug] Trained a tree with leaves = 2 and depth = 1\n",
      "[LightGBM] [Debug] Trained a tree with leaves = 2 and depth = 1\n",
      "[LightGBM] [Debug] Trained a tree with leaves = 2 and depth = 1\n",
      "[LightGBM] [Debug] Trained a tree with leaves = 2 and depth = 1\n",
      "[LightGBM] [Debug] Trained a tree with leaves = 2 and depth = 1\n",
      "[LightGBM] [Debug] Trained a tree with leaves = 2 and depth = 1\n",
      "[LightGBM] [Debug] Trained a tree with leaves = 2 and depth = 1\n",
      "[LightGBM] [Debug] Trained a tree with leaves = 2 and depth = 1\n",
      "[LightGBM] [Debug] Trained a tree with leaves = 2 and depth = 1\n",
      "[LightGBM] [Debug] Trained a tree with leaves = 2 and depth = 1\n",
      "[LightGBM] [Debug] Trained a tree with leaves = 2 and depth = 1\n",
      "[LightGBM] [Debug] Trained a tree with leaves = 2 and depth = 1\n",
      "[LightGBM] [Warning] Unknown parameter: cat_features\n",
      "[LightGBM] [Warning] Unknown parameter: cat_features\n",
      "[LightGBM] [Debug] Dataset::GetMultiBinFromSparseFeatures: sparse rate 0.863304\n",
      "[LightGBM] [Debug] Dataset::GetMultiBinFromAllFeatures: sparse rate 0.299272\n",
      "[LightGBM] [Debug] init for col-wise cost 0.002546 seconds, init for row-wise cost 0.092681 seconds\n",
      "[LightGBM] [Warning] Auto-choosing row-wise multi-threading, the overhead of testing was 0.004345 seconds.\n",
      "You can set `force_row_wise=true` to remove the overhead.\n",
      "And if memory is not enough, you can set `force_col_wise=true`.\n",
      "[LightGBM] [Debug] Using Sparse Multi-Val Bin\n",
      "[LightGBM] [Info] Total Bins 624\n",
      "[LightGBM] [Info] Number of data points in the train set: 129536, number of used features: 9\n",
      "[LightGBM] [Info] Start training from score 4658.354542\n",
      "[LightGBM] [Debug] Trained a tree with leaves = 2 and depth = 1\n",
      "[LightGBM] [Debug] Trained a tree with leaves = 2 and depth = 1\n",
      "[LightGBM] [Debug] Trained a tree with leaves = 2 and depth = 1\n",
      "[LightGBM] [Debug] Trained a tree with leaves = 2 and depth = 1\n",
      "[LightGBM] [Debug] Trained a tree with leaves = 2 and depth = 1\n",
      "[LightGBM] [Debug] Trained a tree with leaves = 2 and depth = 1\n",
      "[LightGBM] [Debug] Trained a tree with leaves = 2 and depth = 1\n",
      "[LightGBM] [Debug] Trained a tree with leaves = 2 and depth = 1\n",
      "[LightGBM] [Debug] Trained a tree with leaves = 2 and depth = 1\n",
      "[LightGBM] [Debug] Trained a tree with leaves = 2 and depth = 1\n",
      "[LightGBM] [Debug] Trained a tree with leaves = 2 and depth = 1\n",
      "[LightGBM] [Debug] Trained a tree with leaves = 2 and depth = 1\n",
      "[LightGBM] [Debug] Trained a tree with leaves = 2 and depth = 1\n",
      "[LightGBM] [Debug] Trained a tree with leaves = 2 and depth = 1\n",
      "[LightGBM] [Debug] Trained a tree with leaves = 2 and depth = 1\n",
      "[LightGBM] [Debug] Trained a tree with leaves = 2 and depth = 1\n",
      "[LightGBM] [Debug] Trained a tree with leaves = 2 and depth = 1\n",
      "[LightGBM] [Debug] Trained a tree with leaves = 2 and depth = 1\n",
      "[LightGBM] [Debug] Trained a tree with leaves = 2 and depth = 1\n",
      "[LightGBM] [Debug] Trained a tree with leaves = 2 and depth = 1\n",
      "[LightGBM] [Debug] Trained a tree with leaves = 2 and depth = 1\n",
      "[LightGBM] [Debug] Trained a tree with leaves = 2 and depth = 1\n",
      "[LightGBM] [Debug] Trained a tree with leaves = 2 and depth = 1\n",
      "[LightGBM] [Debug] Trained a tree with leaves = 2 and depth = 1\n",
      "[LightGBM] [Debug] Trained a tree with leaves = 2 and depth = 1\n",
      "[LightGBM] [Debug] Trained a tree with leaves = 2 and depth = 1\n",
      "[LightGBM] [Debug] Trained a tree with leaves = 2 and depth = 1\n",
      "[LightGBM] [Debug] Trained a tree with leaves = 2 and depth = 1\n",
      "[LightGBM] [Debug] Trained a tree with leaves = 2 and depth = 1\n",
      "[LightGBM] [Debug] Trained a tree with leaves = 2 and depth = 1\n",
      "[LightGBM] [Debug] Trained a tree with leaves = 2 and depth = 1\n",
      "[LightGBM] [Debug] Trained a tree with leaves = 2 and depth = 1\n",
      "[LightGBM] [Debug] Trained a tree with leaves = 2 and depth = 1\n",
      "[LightGBM] [Debug] Trained a tree with leaves = 2 and depth = 1\n",
      "[LightGBM] [Debug] Trained a tree with leaves = 2 and depth = 1\n",
      "[LightGBM] [Debug] Trained a tree with leaves = 2 and depth = 1\n",
      "[LightGBM] [Debug] Trained a tree with leaves = 2 and depth = 1\n",
      "[LightGBM] [Debug] Trained a tree with leaves = 2 and depth = 1\n",
      "[LightGBM] [Debug] Trained a tree with leaves = 2 and depth = 1\n",
      "[LightGBM] [Debug] Trained a tree with leaves = 2 and depth = 1\n",
      "[LightGBM] [Warning] Unknown parameter: cat_features\n",
      "[LightGBM] [Warning] Unknown parameter: cat_features\n",
      "[LightGBM] [Debug] Dataset::GetMultiBinFromSparseFeatures: sparse rate 0.862737\n",
      "[LightGBM] [Debug] Dataset::GetMultiBinFromAllFeatures: sparse rate 0.299089\n",
      "[LightGBM] [Debug] init for col-wise cost 0.091305 seconds, init for row-wise cost 0.008579 seconds\n",
      "[LightGBM] [Warning] Auto-choosing row-wise multi-threading, the overhead of testing was 0.284488 seconds.\n",
      "You can set `force_row_wise=true` to remove the overhead.\n",
      "And if memory is not enough, you can set `force_col_wise=true`.\n",
      "[LightGBM] [Debug] Using Sparse Multi-Val Bin\n",
      "[LightGBM] [Info] Total Bins 625\n",
      "[LightGBM] [Info] Number of data points in the train set: 129537, number of used features: 9\n",
      "[LightGBM] [Info] Start training from score 4646.441881\n",
      "[LightGBM] [Debug] Trained a tree with leaves = 2 and depth = 1\n",
      "[LightGBM] [Debug] Trained a tree with leaves = 2 and depth = 1\n",
      "[LightGBM] [Debug] Trained a tree with leaves = 2 and depth = 1\n",
      "[LightGBM] [Debug] Trained a tree with leaves = 2 and depth = 1\n",
      "[LightGBM] [Debug] Trained a tree with leaves = 2 and depth = 1\n",
      "[LightGBM] [Debug] Trained a tree with leaves = 2 and depth = 1\n",
      "[LightGBM] [Debug] Trained a tree with leaves = 2 and depth = 1\n",
      "[LightGBM] [Debug] Trained a tree with leaves = 2 and depth = 1\n",
      "[LightGBM] [Debug] Trained a tree with leaves = 2 and depth = 1\n",
      "[LightGBM] [Debug] Trained a tree with leaves = 2 and depth = 1\n",
      "[LightGBM] [Debug] Trained a tree with leaves = 2 and depth = 1\n",
      "[LightGBM] [Debug] Trained a tree with leaves = 2 and depth = 1\n",
      "[LightGBM] [Debug] Trained a tree with leaves = 2 and depth = 1\n",
      "[LightGBM] [Debug] Trained a tree with leaves = 2 and depth = 1\n",
      "[LightGBM] [Debug] Trained a tree with leaves = 2 and depth = 1\n",
      "[LightGBM] [Debug] Trained a tree with leaves = 2 and depth = 1\n",
      "[LightGBM] [Debug] Trained a tree with leaves = 2 and depth = 1\n",
      "[LightGBM] [Debug] Trained a tree with leaves = 2 and depth = 1\n",
      "[LightGBM] [Debug] Trained a tree with leaves = 2 and depth = 1\n",
      "[LightGBM] [Debug] Trained a tree with leaves = 2 and depth = 1\n",
      "[LightGBM] [Debug] Trained a tree with leaves = 2 and depth = 1\n",
      "[LightGBM] [Debug] Trained a tree with leaves = 2 and depth = 1\n",
      "[LightGBM] [Debug] Trained a tree with leaves = 2 and depth = 1\n",
      "[LightGBM] [Debug] Trained a tree with leaves = 2 and depth = 1\n",
      "[LightGBM] [Debug] Trained a tree with leaves = 2 and depth = 1\n",
      "[LightGBM] [Debug] Trained a tree with leaves = 2 and depth = 1\n",
      "[LightGBM] [Debug] Trained a tree with leaves = 2 and depth = 1\n",
      "[LightGBM] [Debug] Trained a tree with leaves = 2 and depth = 1\n",
      "[LightGBM] [Debug] Trained a tree with leaves = 2 and depth = 1\n",
      "[LightGBM] [Debug] Trained a tree with leaves = 2 and depth = 1\n",
      "[LightGBM] [Debug] Trained a tree with leaves = 2 and depth = 1\n",
      "[LightGBM] [Debug] Trained a tree with leaves = 2 and depth = 1\n",
      "[LightGBM] [Debug] Trained a tree with leaves = 2 and depth = 1\n",
      "[LightGBM] [Debug] Trained a tree with leaves = 2 and depth = 1\n",
      "[LightGBM] [Debug] Trained a tree with leaves = 2 and depth = 1\n",
      "[LightGBM] [Debug] Trained a tree with leaves = 2 and depth = 1\n",
      "[LightGBM] [Debug] Trained a tree with leaves = 2 and depth = 1\n",
      "[LightGBM] [Debug] Trained a tree with leaves = 2 and depth = 1\n",
      "[LightGBM] [Debug] Trained a tree with leaves = 2 and depth = 1\n",
      "[LightGBM] [Debug] Trained a tree with leaves = 2 and depth = 1\n",
      "[LightGBM] [Warning] Unknown parameter: cat_features\n",
      "[LightGBM] [Warning] Unknown parameter: cat_features\n",
      "[LightGBM] [Debug] Dataset::GetMultiBinFromSparseFeatures: sparse rate 0.863167\n",
      "[LightGBM] [Debug] Dataset::GetMultiBinFromAllFeatures: sparse rate 0.299129\n",
      "[LightGBM] [Debug] init for col-wise cost 0.002373 seconds, init for row-wise cost 0.093239 seconds\n",
      "[LightGBM] [Warning] Auto-choosing row-wise multi-threading, the overhead of testing was 0.004176 seconds.\n",
      "You can set `force_row_wise=true` to remove the overhead.\n",
      "And if memory is not enough, you can set `force_col_wise=true`.\n",
      "[LightGBM] [Debug] Using Sparse Multi-Val Bin\n",
      "[LightGBM] [Info] Total Bins 625\n",
      "[LightGBM] [Info] Number of data points in the train set: 129537, number of used features: 9\n",
      "[LightGBM] [Info] Start training from score 4672.959216\n",
      "[LightGBM] [Debug] Trained a tree with leaves = 2 and depth = 1\n",
      "[LightGBM] [Debug] Trained a tree with leaves = 2 and depth = 1\n",
      "[LightGBM] [Debug] Trained a tree with leaves = 2 and depth = 1\n",
      "[LightGBM] [Debug] Trained a tree with leaves = 2 and depth = 1\n",
      "[LightGBM] [Debug] Trained a tree with leaves = 2 and depth = 1\n",
      "[LightGBM] [Debug] Trained a tree with leaves = 2 and depth = 1\n",
      "[LightGBM] [Debug] Trained a tree with leaves = 2 and depth = 1\n",
      "[LightGBM] [Debug] Trained a tree with leaves = 2 and depth = 1\n",
      "[LightGBM] [Debug] Trained a tree with leaves = 2 and depth = 1\n",
      "[LightGBM] [Debug] Trained a tree with leaves = 2 and depth = 1\n",
      "[LightGBM] [Debug] Trained a tree with leaves = 2 and depth = 1\n",
      "[LightGBM] [Debug] Trained a tree with leaves = 2 and depth = 1\n",
      "[LightGBM] [Debug] Trained a tree with leaves = 2 and depth = 1\n",
      "[LightGBM] [Debug] Trained a tree with leaves = 2 and depth = 1\n",
      "[LightGBM] [Debug] Trained a tree with leaves = 2 and depth = 1\n",
      "[LightGBM] [Debug] Trained a tree with leaves = 2 and depth = 1\n",
      "[LightGBM] [Debug] Trained a tree with leaves = 2 and depth = 1\n",
      "[LightGBM] [Debug] Trained a tree with leaves = 2 and depth = 1\n",
      "[LightGBM] [Debug] Trained a tree with leaves = 2 and depth = 1\n",
      "[LightGBM] [Debug] Trained a tree with leaves = 2 and depth = 1\n",
      "[LightGBM] [Debug] Trained a tree with leaves = 2 and depth = 1\n",
      "[LightGBM] [Debug] Trained a tree with leaves = 2 and depth = 1\n",
      "[LightGBM] [Debug] Trained a tree with leaves = 2 and depth = 1\n",
      "[LightGBM] [Debug] Trained a tree with leaves = 2 and depth = 1\n",
      "[LightGBM] [Debug] Trained a tree with leaves = 2 and depth = 1\n",
      "[LightGBM] [Debug] Trained a tree with leaves = 2 and depth = 1\n",
      "[LightGBM] [Debug] Trained a tree with leaves = 2 and depth = 1\n",
      "[LightGBM] [Debug] Trained a tree with leaves = 2 and depth = 1\n",
      "[LightGBM] [Debug] Trained a tree with leaves = 2 and depth = 1\n",
      "[LightGBM] [Debug] Trained a tree with leaves = 2 and depth = 1\n",
      "[LightGBM] [Debug] Trained a tree with leaves = 2 and depth = 1\n",
      "[LightGBM] [Debug] Trained a tree with leaves = 2 and depth = 1\n",
      "[LightGBM] [Debug] Trained a tree with leaves = 2 and depth = 1\n",
      "[LightGBM] [Debug] Trained a tree with leaves = 2 and depth = 1\n",
      "[LightGBM] [Debug] Trained a tree with leaves = 2 and depth = 1\n",
      "[LightGBM] [Debug] Trained a tree with leaves = 2 and depth = 1\n",
      "[LightGBM] [Debug] Trained a tree with leaves = 2 and depth = 1\n",
      "[LightGBM] [Debug] Trained a tree with leaves = 2 and depth = 1\n",
      "[LightGBM] [Debug] Trained a tree with leaves = 2 and depth = 1\n",
      "[LightGBM] [Debug] Trained a tree with leaves = 2 and depth = 1\n",
      "[LightGBM] [Warning] Unknown parameter: cat_features\n",
      "[LightGBM] [Warning] Unknown parameter: cat_features\n",
      "[LightGBM] [Debug] Dataset::GetMultiBinFromSparseFeatures: sparse rate 0.863304\n",
      "[LightGBM] [Debug] Dataset::GetMultiBinFromAllFeatures: sparse rate 0.299272\n",
      "[LightGBM] [Debug] init for col-wise cost 0.002625 seconds, init for row-wise cost 0.096678 seconds\n",
      "[LightGBM] [Warning] Auto-choosing row-wise multi-threading, the overhead of testing was 0.003888 seconds.\n",
      "You can set `force_row_wise=true` to remove the overhead.\n",
      "And if memory is not enough, you can set `force_col_wise=true`.\n",
      "[LightGBM] [Debug] Using Sparse Multi-Val Bin\n",
      "[LightGBM] [Info] Total Bins 624\n",
      "[LightGBM] [Info] Number of data points in the train set: 129536, number of used features: 9\n",
      "[LightGBM] [Info] Start training from score 4658.354542\n",
      "[LightGBM] [Debug] Trained a tree with leaves = 16 and depth = 4\n",
      "[LightGBM] [Debug] Trained a tree with leaves = 16 and depth = 4\n",
      "[LightGBM] [Debug] Trained a tree with leaves = 16 and depth = 4\n",
      "[LightGBM] [Debug] Trained a tree with leaves = 16 and depth = 4\n",
      "[LightGBM] [Debug] Trained a tree with leaves = 16 and depth = 4\n",
      "[LightGBM] [Debug] Trained a tree with leaves = 16 and depth = 4\n",
      "[LightGBM] [Debug] Trained a tree with leaves = 16 and depth = 4\n",
      "[LightGBM] [Debug] Trained a tree with leaves = 16 and depth = 4\n",
      "[LightGBM] [Debug] Trained a tree with leaves = 16 and depth = 4\n",
      "[LightGBM] [Debug] Trained a tree with leaves = 16 and depth = 4\n",
      "[LightGBM] [Debug] Trained a tree with leaves = 16 and depth = 4\n",
      "[LightGBM] [Debug] Trained a tree with leaves = 16 and depth = 4\n",
      "[LightGBM] [Debug] Trained a tree with leaves = 16 and depth = 4\n",
      "[LightGBM] [Debug] Trained a tree with leaves = 16 and depth = 4\n",
      "[LightGBM] [Debug] Trained a tree with leaves = 16 and depth = 4\n",
      "[LightGBM] [Debug] Trained a tree with leaves = 16 and depth = 4\n",
      "[LightGBM] [Debug] Trained a tree with leaves = 16 and depth = 4\n",
      "[LightGBM] [Debug] Trained a tree with leaves = 16 and depth = 4\n",
      "[LightGBM] [Debug] Trained a tree with leaves = 16 and depth = 4\n",
      "[LightGBM] [Debug] Trained a tree with leaves = 16 and depth = 4\n",
      "[LightGBM] [Warning] Unknown parameter: cat_features\n",
      "[LightGBM] [Warning] Unknown parameter: cat_features\n",
      "[LightGBM] [Debug] Dataset::GetMultiBinFromSparseFeatures: sparse rate 0.862737\n",
      "[LightGBM] [Debug] Dataset::GetMultiBinFromAllFeatures: sparse rate 0.299089\n",
      "[LightGBM] [Debug] init for col-wise cost 0.002560 seconds, init for row-wise cost 0.094480 seconds\n",
      "[LightGBM] [Warning] Auto-choosing row-wise multi-threading, the overhead of testing was 0.004227 seconds.\n",
      "You can set `force_row_wise=true` to remove the overhead.\n",
      "And if memory is not enough, you can set `force_col_wise=true`.\n",
      "[LightGBM] [Debug] Using Sparse Multi-Val Bin\n",
      "[LightGBM] [Info] Total Bins 625\n",
      "[LightGBM] [Info] Number of data points in the train set: 129537, number of used features: 9\n",
      "[LightGBM] [Info] Start training from score 4646.441881\n",
      "[LightGBM] [Debug] Trained a tree with leaves = 16 and depth = 4\n",
      "[LightGBM] [Debug] Trained a tree with leaves = 16 and depth = 4\n",
      "[LightGBM] [Debug] Trained a tree with leaves = 16 and depth = 4\n",
      "[LightGBM] [Debug] Trained a tree with leaves = 16 and depth = 4\n",
      "[LightGBM] [Debug] Trained a tree with leaves = 16 and depth = 4\n",
      "[LightGBM] [Debug] Trained a tree with leaves = 16 and depth = 4\n",
      "[LightGBM] [Debug] Trained a tree with leaves = 16 and depth = 4\n",
      "[LightGBM] [Debug] Trained a tree with leaves = 16 and depth = 4\n",
      "[LightGBM] [Debug] Trained a tree with leaves = 16 and depth = 4\n",
      "[LightGBM] [Debug] Trained a tree with leaves = 16 and depth = 4\n",
      "[LightGBM] [Debug] Trained a tree with leaves = 16 and depth = 4\n",
      "[LightGBM] [Debug] Trained a tree with leaves = 16 and depth = 4\n",
      "[LightGBM] [Debug] Trained a tree with leaves = 16 and depth = 4\n",
      "[LightGBM] [Debug] Trained a tree with leaves = 16 and depth = 4\n",
      "[LightGBM] [Debug] Trained a tree with leaves = 16 and depth = 4\n",
      "[LightGBM] [Debug] Trained a tree with leaves = 16 and depth = 4\n",
      "[LightGBM] [Debug] Trained a tree with leaves = 16 and depth = 4\n",
      "[LightGBM] [Debug] Trained a tree with leaves = 16 and depth = 4\n",
      "[LightGBM] [Debug] Trained a tree with leaves = 16 and depth = 4\n",
      "[LightGBM] [Debug] Trained a tree with leaves = 16 and depth = 4\n",
      "[LightGBM] [Warning] Unknown parameter: cat_features\n",
      "[LightGBM] [Warning] Unknown parameter: cat_features\n",
      "[LightGBM] [Debug] Dataset::GetMultiBinFromSparseFeatures: sparse rate 0.863167\n",
      "[LightGBM] [Debug] Dataset::GetMultiBinFromAllFeatures: sparse rate 0.299129\n",
      "[LightGBM] [Debug] init for col-wise cost 0.002495 seconds, init for row-wise cost 0.094153 seconds\n",
      "[LightGBM] [Warning] Auto-choosing row-wise multi-threading, the overhead of testing was 0.004341 seconds.\n",
      "You can set `force_row_wise=true` to remove the overhead.\n",
      "And if memory is not enough, you can set `force_col_wise=true`.\n",
      "[LightGBM] [Debug] Using Sparse Multi-Val Bin\n",
      "[LightGBM] [Info] Total Bins 625\n",
      "[LightGBM] [Info] Number of data points in the train set: 129537, number of used features: 9\n",
      "[LightGBM] [Info] Start training from score 4672.959216\n",
      "[LightGBM] [Debug] Trained a tree with leaves = 16 and depth = 4\n",
      "[LightGBM] [Debug] Trained a tree with leaves = 16 and depth = 4\n",
      "[LightGBM] [Debug] Trained a tree with leaves = 16 and depth = 4\n",
      "[LightGBM] [Debug] Trained a tree with leaves = 16 and depth = 4\n",
      "[LightGBM] [Debug] Trained a tree with leaves = 16 and depth = 4\n",
      "[LightGBM] [Debug] Trained a tree with leaves = 16 and depth = 4\n",
      "[LightGBM] [Debug] Trained a tree with leaves = 16 and depth = 4\n",
      "[LightGBM] [Debug] Trained a tree with leaves = 16 and depth = 4\n",
      "[LightGBM] [Debug] Trained a tree with leaves = 16 and depth = 4\n",
      "[LightGBM] [Debug] Trained a tree with leaves = 16 and depth = 4\n",
      "[LightGBM] [Debug] Trained a tree with leaves = 16 and depth = 4\n",
      "[LightGBM] [Debug] Trained a tree with leaves = 16 and depth = 4\n",
      "[LightGBM] [Debug] Trained a tree with leaves = 16 and depth = 4\n",
      "[LightGBM] [Debug] Trained a tree with leaves = 16 and depth = 4\n",
      "[LightGBM] [Debug] Trained a tree with leaves = 16 and depth = 4\n",
      "[LightGBM] [Debug] Trained a tree with leaves = 16 and depth = 4\n",
      "[LightGBM] [Debug] Trained a tree with leaves = 16 and depth = 4\n",
      "[LightGBM] [Debug] Trained a tree with leaves = 16 and depth = 4\n",
      "[LightGBM] [Debug] Trained a tree with leaves = 16 and depth = 4\n",
      "[LightGBM] [Debug] Trained a tree with leaves = 16 and depth = 4\n",
      "[LightGBM] [Warning] Unknown parameter: cat_features\n",
      "[LightGBM] [Warning] Unknown parameter: cat_features\n",
      "[LightGBM] [Debug] Dataset::GetMultiBinFromSparseFeatures: sparse rate 0.863304\n",
      "[LightGBM] [Debug] Dataset::GetMultiBinFromAllFeatures: sparse rate 0.299272\n",
      "[LightGBM] [Debug] init for col-wise cost 0.002498 seconds, init for row-wise cost 0.091671 seconds\n",
      "[LightGBM] [Warning] Auto-choosing row-wise multi-threading, the overhead of testing was 0.003779 seconds.\n",
      "You can set `force_row_wise=true` to remove the overhead.\n",
      "And if memory is not enough, you can set `force_col_wise=true`.\n",
      "[LightGBM] [Debug] Using Sparse Multi-Val Bin\n",
      "[LightGBM] [Info] Total Bins 624\n",
      "[LightGBM] [Info] Number of data points in the train set: 129536, number of used features: 9\n",
      "[LightGBM] [Info] Start training from score 4658.354542\n",
      "[LightGBM] [Debug] Trained a tree with leaves = 16 and depth = 4\n",
      "[LightGBM] [Debug] Trained a tree with leaves = 16 and depth = 4\n",
      "[LightGBM] [Debug] Trained a tree with leaves = 16 and depth = 4\n",
      "[LightGBM] [Debug] Trained a tree with leaves = 16 and depth = 4\n",
      "[LightGBM] [Debug] Trained a tree with leaves = 16 and depth = 4\n",
      "[LightGBM] [Debug] Trained a tree with leaves = 16 and depth = 4\n",
      "[LightGBM] [Debug] Trained a tree with leaves = 16 and depth = 4\n",
      "[LightGBM] [Debug] Trained a tree with leaves = 16 and depth = 4\n",
      "[LightGBM] [Debug] Trained a tree with leaves = 16 and depth = 4\n",
      "[LightGBM] [Debug] Trained a tree with leaves = 16 and depth = 4\n",
      "[LightGBM] [Debug] Trained a tree with leaves = 16 and depth = 4\n",
      "[LightGBM] [Debug] Trained a tree with leaves = 16 and depth = 4\n",
      "[LightGBM] [Debug] Trained a tree with leaves = 16 and depth = 4\n",
      "[LightGBM] [Debug] Trained a tree with leaves = 16 and depth = 4\n",
      "[LightGBM] [Debug] Trained a tree with leaves = 16 and depth = 4\n",
      "[LightGBM] [Debug] Trained a tree with leaves = 16 and depth = 4\n",
      "[LightGBM] [Debug] Trained a tree with leaves = 16 and depth = 4\n",
      "[LightGBM] [Debug] Trained a tree with leaves = 16 and depth = 4\n",
      "[LightGBM] [Debug] Trained a tree with leaves = 16 and depth = 4\n",
      "[LightGBM] [Debug] Trained a tree with leaves = 16 and depth = 4\n",
      "[LightGBM] [Debug] Trained a tree with leaves = 16 and depth = 4\n",
      "[LightGBM] [Debug] Trained a tree with leaves = 16 and depth = 4\n",
      "[LightGBM] [Debug] Trained a tree with leaves = 16 and depth = 4\n",
      "[LightGBM] [Debug] Trained a tree with leaves = 16 and depth = 4\n",
      "[LightGBM] [Debug] Trained a tree with leaves = 16 and depth = 4\n",
      "[LightGBM] [Debug] Trained a tree with leaves = 16 and depth = 4\n",
      "[LightGBM] [Debug] Trained a tree with leaves = 16 and depth = 4\n",
      "[LightGBM] [Debug] Trained a tree with leaves = 16 and depth = 4\n",
      "[LightGBM] [Debug] Trained a tree with leaves = 16 and depth = 4\n",
      "[LightGBM] [Debug] Trained a tree with leaves = 16 and depth = 4\n",
      "[LightGBM] [Debug] Trained a tree with leaves = 16 and depth = 4\n",
      "[LightGBM] [Debug] Trained a tree with leaves = 16 and depth = 4\n",
      "[LightGBM] [Debug] Trained a tree with leaves = 16 and depth = 4\n",
      "[LightGBM] [Debug] Trained a tree with leaves = 16 and depth = 4\n",
      "[LightGBM] [Debug] Trained a tree with leaves = 16 and depth = 4\n",
      "[LightGBM] [Debug] Trained a tree with leaves = 16 and depth = 4\n",
      "[LightGBM] [Debug] Trained a tree with leaves = 16 and depth = 4\n",
      "[LightGBM] [Debug] Trained a tree with leaves = 16 and depth = 4\n",
      "[LightGBM] [Debug] Trained a tree with leaves = 16 and depth = 4\n",
      "[LightGBM] [Debug] Trained a tree with leaves = 16 and depth = 4\n",
      "[LightGBM] [Warning] Unknown parameter: cat_features\n",
      "[LightGBM] [Warning] Unknown parameter: cat_features\n",
      "[LightGBM] [Debug] Dataset::GetMultiBinFromSparseFeatures: sparse rate 0.862737\n",
      "[LightGBM] [Debug] Dataset::GetMultiBinFromAllFeatures: sparse rate 0.299089\n",
      "[LightGBM] [Debug] init for col-wise cost 0.002594 seconds, init for row-wise cost 0.093367 seconds\n",
      "[LightGBM] [Warning] Auto-choosing row-wise multi-threading, the overhead of testing was 0.004413 seconds.\n",
      "You can set `force_row_wise=true` to remove the overhead.\n",
      "And if memory is not enough, you can set `force_col_wise=true`.\n",
      "[LightGBM] [Debug] Using Sparse Multi-Val Bin\n",
      "[LightGBM] [Info] Total Bins 625\n",
      "[LightGBM] [Info] Number of data points in the train set: 129537, number of used features: 9\n",
      "[LightGBM] [Info] Start training from score 4646.441881\n",
      "[LightGBM] [Debug] Trained a tree with leaves = 16 and depth = 4\n",
      "[LightGBM] [Debug] Trained a tree with leaves = 16 and depth = 4\n",
      "[LightGBM] [Debug] Trained a tree with leaves = 16 and depth = 4\n",
      "[LightGBM] [Debug] Trained a tree with leaves = 16 and depth = 4\n",
      "[LightGBM] [Debug] Trained a tree with leaves = 16 and depth = 4\n",
      "[LightGBM] [Debug] Trained a tree with leaves = 16 and depth = 4\n",
      "[LightGBM] [Debug] Trained a tree with leaves = 16 and depth = 4\n",
      "[LightGBM] [Debug] Trained a tree with leaves = 16 and depth = 4\n",
      "[LightGBM] [Debug] Trained a tree with leaves = 16 and depth = 4\n",
      "[LightGBM] [Debug] Trained a tree with leaves = 16 and depth = 4\n",
      "[LightGBM] [Debug] Trained a tree with leaves = 16 and depth = 4\n",
      "[LightGBM] [Debug] Trained a tree with leaves = 16 and depth = 4\n",
      "[LightGBM] [Debug] Trained a tree with leaves = 16 and depth = 4\n",
      "[LightGBM] [Debug] Trained a tree with leaves = 16 and depth = 4\n",
      "[LightGBM] [Debug] Trained a tree with leaves = 16 and depth = 4\n",
      "[LightGBM] [Debug] Trained a tree with leaves = 16 and depth = 4\n",
      "[LightGBM] [Debug] Trained a tree with leaves = 16 and depth = 4\n",
      "[LightGBM] [Debug] Trained a tree with leaves = 16 and depth = 4\n",
      "[LightGBM] [Debug] Trained a tree with leaves = 16 and depth = 4\n",
      "[LightGBM] [Debug] Trained a tree with leaves = 16 and depth = 4\n",
      "[LightGBM] [Debug] Trained a tree with leaves = 16 and depth = 4\n",
      "[LightGBM] [Debug] Trained a tree with leaves = 16 and depth = 4\n",
      "[LightGBM] [Warning] No further splits with positive gain, best gain: -inf\n",
      "[LightGBM] [Debug] Trained a tree with leaves = 15 and depth = 4\n",
      "[LightGBM] [Debug] Trained a tree with leaves = 16 and depth = 4\n",
      "[LightGBM] [Debug] Trained a tree with leaves = 16 and depth = 4\n",
      "[LightGBM] [Debug] Trained a tree with leaves = 16 and depth = 4\n",
      "[LightGBM] [Debug] Trained a tree with leaves = 16 and depth = 4\n",
      "[LightGBM] [Warning] No further splits with positive gain, best gain: -inf\n",
      "[LightGBM] [Debug] Trained a tree with leaves = 15 and depth = 4\n",
      "[LightGBM] [Debug] Trained a tree with leaves = 16 and depth = 4\n",
      "[LightGBM] [Debug] Trained a tree with leaves = 16 and depth = 4\n",
      "[LightGBM] [Debug] Trained a tree with leaves = 16 and depth = 4\n",
      "[LightGBM] [Debug] Trained a tree with leaves = 16 and depth = 4\n",
      "[LightGBM] [Debug] Trained a tree with leaves = 16 and depth = 4\n",
      "[LightGBM] [Debug] Trained a tree with leaves = 16 and depth = 4\n",
      "[LightGBM] [Debug] Trained a tree with leaves = 16 and depth = 4\n",
      "[LightGBM] [Debug] Trained a tree with leaves = 16 and depth = 4\n",
      "[LightGBM] [Warning] No further splits with positive gain, best gain: -inf\n",
      "[LightGBM] [Debug] Trained a tree with leaves = 15 and depth = 4\n",
      "[LightGBM] [Debug] Trained a tree with leaves = 16 and depth = 4\n",
      "[LightGBM] [Debug] Trained a tree with leaves = 16 and depth = 4\n",
      "[LightGBM] [Debug] Trained a tree with leaves = 16 and depth = 4\n",
      "[LightGBM] [Warning] Unknown parameter: cat_features\n",
      "[LightGBM] [Warning] Unknown parameter: cat_features\n",
      "[LightGBM] [Debug] Dataset::GetMultiBinFromSparseFeatures: sparse rate 0.863167\n",
      "[LightGBM] [Debug] Dataset::GetMultiBinFromAllFeatures: sparse rate 0.299129\n",
      "[LightGBM] [Debug] init for col-wise cost 0.002331 seconds, init for row-wise cost 0.097938 seconds\n",
      "[LightGBM] [Warning] Auto-choosing row-wise multi-threading, the overhead of testing was 0.004095 seconds.\n",
      "You can set `force_row_wise=true` to remove the overhead.\n",
      "And if memory is not enough, you can set `force_col_wise=true`.\n",
      "[LightGBM] [Debug] Using Sparse Multi-Val Bin\n",
      "[LightGBM] [Info] Total Bins 625\n",
      "[LightGBM] [Info] Number of data points in the train set: 129537, number of used features: 9\n",
      "[LightGBM] [Info] Start training from score 4672.959216\n",
      "[LightGBM] [Debug] Trained a tree with leaves = 16 and depth = 4\n",
      "[LightGBM] [Debug] Trained a tree with leaves = 16 and depth = 4\n",
      "[LightGBM] [Debug] Trained a tree with leaves = 16 and depth = 4\n",
      "[LightGBM] [Debug] Trained a tree with leaves = 16 and depth = 4\n",
      "[LightGBM] [Debug] Trained a tree with leaves = 16 and depth = 4\n",
      "[LightGBM] [Debug] Trained a tree with leaves = 16 and depth = 4\n",
      "[LightGBM] [Debug] Trained a tree with leaves = 16 and depth = 4\n",
      "[LightGBM] [Debug] Trained a tree with leaves = 16 and depth = 4\n",
      "[LightGBM] [Debug] Trained a tree with leaves = 16 and depth = 4\n",
      "[LightGBM] [Debug] Trained a tree with leaves = 16 and depth = 4\n",
      "[LightGBM] [Debug] Trained a tree with leaves = 16 and depth = 4\n",
      "[LightGBM] [Debug] Trained a tree with leaves = 16 and depth = 4\n",
      "[LightGBM] [Debug] Trained a tree with leaves = 16 and depth = 4\n",
      "[LightGBM] [Debug] Trained a tree with leaves = 16 and depth = 4\n",
      "[LightGBM] [Debug] Trained a tree with leaves = 16 and depth = 4\n",
      "[LightGBM] [Debug] Trained a tree with leaves = 16 and depth = 4\n",
      "[LightGBM] [Debug] Trained a tree with leaves = 16 and depth = 4\n",
      "[LightGBM] [Debug] Trained a tree with leaves = 16 and depth = 4\n",
      "[LightGBM] [Debug] Trained a tree with leaves = 16 and depth = 4\n",
      "[LightGBM] [Debug] Trained a tree with leaves = 16 and depth = 4\n",
      "[LightGBM] [Debug] Trained a tree with leaves = 16 and depth = 4\n",
      "[LightGBM] [Debug] Trained a tree with leaves = 16 and depth = 4\n",
      "[LightGBM] [Debug] Trained a tree with leaves = 16 and depth = 4\n",
      "[LightGBM] [Debug] Trained a tree with leaves = 16 and depth = 4\n",
      "[LightGBM] [Debug] Trained a tree with leaves = 16 and depth = 4\n",
      "[LightGBM] [Debug] Trained a tree with leaves = 16 and depth = 4\n",
      "[LightGBM] [Debug] Trained a tree with leaves = 16 and depth = 4\n",
      "[LightGBM] [Debug] Trained a tree with leaves = 16 and depth = 4\n",
      "[LightGBM] [Debug] Trained a tree with leaves = 16 and depth = 4\n",
      "[LightGBM] [Debug] Trained a tree with leaves = 16 and depth = 4\n",
      "[LightGBM] [Debug] Trained a tree with leaves = 16 and depth = 4\n",
      "[LightGBM] [Debug] Trained a tree with leaves = 16 and depth = 4\n",
      "[LightGBM] [Debug] Trained a tree with leaves = 16 and depth = 4\n",
      "[LightGBM] [Debug] Trained a tree with leaves = 16 and depth = 4\n",
      "[LightGBM] [Debug] Trained a tree with leaves = 16 and depth = 4\n",
      "[LightGBM] [Debug] Trained a tree with leaves = 16 and depth = 4\n",
      "[LightGBM] [Warning] No further splits with positive gain, best gain: -inf\n",
      "[LightGBM] [Debug] Trained a tree with leaves = 15 and depth = 4\n",
      "[LightGBM] [Debug] Trained a tree with leaves = 16 and depth = 4\n",
      "[LightGBM] [Debug] Trained a tree with leaves = 16 and depth = 4\n",
      "[LightGBM] [Debug] Trained a tree with leaves = 16 and depth = 4\n",
      "[LightGBM] [Warning] Unknown parameter: cat_features\n",
      "[LightGBM] [Warning] Unknown parameter: cat_features\n",
      "[LightGBM] [Debug] Dataset::GetMultiBinFromSparseFeatures: sparse rate 0.863069\n",
      "[LightGBM] [Debug] Dataset::GetMultiBinFromAllFeatures: sparse rate 0.299163\n",
      "[LightGBM] [Debug] init for col-wise cost 0.003724 seconds, init for row-wise cost 0.185243 seconds\n",
      "[LightGBM] [Warning] Auto-choosing row-wise multi-threading, the overhead of testing was 0.005197 seconds.\n",
      "You can set `force_row_wise=true` to remove the overhead.\n",
      "And if memory is not enough, you can set `force_col_wise=true`.\n",
      "[LightGBM] [Debug] Using Sparse Multi-Val Bin\n",
      "[LightGBM] [Info] Total Bins 630\n",
      "[LightGBM] [Info] Number of data points in the train set: 194305, number of used features: 9\n",
      "[LightGBM] [Info] Start training from score 4659.251882\n",
      "[LightGBM] [Debug] Trained a tree with leaves = 16 and depth = 4\n",
      "[LightGBM] [Debug] Trained a tree with leaves = 16 and depth = 4\n",
      "[LightGBM] [Debug] Trained a tree with leaves = 16 and depth = 4\n",
      "[LightGBM] [Debug] Trained a tree with leaves = 16 and depth = 4\n",
      "[LightGBM] [Debug] Trained a tree with leaves = 16 and depth = 4\n",
      "[LightGBM] [Debug] Trained a tree with leaves = 16 and depth = 4\n",
      "[LightGBM] [Debug] Trained a tree with leaves = 16 and depth = 4\n",
      "[LightGBM] [Debug] Trained a tree with leaves = 16 and depth = 4\n",
      "[LightGBM] [Debug] Trained a tree with leaves = 16 and depth = 4\n",
      "[LightGBM] [Debug] Trained a tree with leaves = 16 and depth = 4\n",
      "[LightGBM] [Debug] Trained a tree with leaves = 16 and depth = 4\n",
      "[LightGBM] [Debug] Trained a tree with leaves = 16 and depth = 4\n",
      "[LightGBM] [Debug] Trained a tree with leaves = 16 and depth = 4\n",
      "[LightGBM] [Debug] Trained a tree with leaves = 16 and depth = 4\n",
      "[LightGBM] [Debug] Trained a tree with leaves = 16 and depth = 4\n",
      "[LightGBM] [Debug] Trained a tree with leaves = 16 and depth = 4\n",
      "[LightGBM] [Debug] Trained a tree with leaves = 16 and depth = 4\n",
      "[LightGBM] [Debug] Trained a tree with leaves = 16 and depth = 4\n",
      "[LightGBM] [Debug] Trained a tree with leaves = 16 and depth = 4\n",
      "[LightGBM] [Debug] Trained a tree with leaves = 16 and depth = 4\n",
      "[LightGBM] [Debug] Trained a tree with leaves = 16 and depth = 4\n",
      "[LightGBM] [Debug] Trained a tree with leaves = 16 and depth = 4\n",
      "[LightGBM] [Debug] Trained a tree with leaves = 16 and depth = 4\n",
      "[LightGBM] [Debug] Trained a tree with leaves = 16 and depth = 4\n",
      "[LightGBM] [Debug] Trained a tree with leaves = 16 and depth = 4\n",
      "[LightGBM] [Debug] Trained a tree with leaves = 16 and depth = 4\n",
      "[LightGBM] [Debug] Trained a tree with leaves = 16 and depth = 4\n",
      "[LightGBM] [Debug] Trained a tree with leaves = 16 and depth = 4\n",
      "[LightGBM] [Debug] Trained a tree with leaves = 16 and depth = 4\n",
      "[LightGBM] [Debug] Trained a tree with leaves = 16 and depth = 4\n",
      "[LightGBM] [Debug] Trained a tree with leaves = 16 and depth = 4\n",
      "[LightGBM] [Warning] No further splits with positive gain, best gain: -inf\n",
      "[LightGBM] [Debug] Trained a tree with leaves = 15 and depth = 4\n",
      "[LightGBM] [Debug] Trained a tree with leaves = 16 and depth = 4\n",
      "[LightGBM] [Debug] Trained a tree with leaves = 16 and depth = 4\n",
      "[LightGBM] [Debug] Trained a tree with leaves = 16 and depth = 4\n",
      "[LightGBM] [Debug] Trained a tree with leaves = 16 and depth = 4\n",
      "[LightGBM] [Debug] Trained a tree with leaves = 16 and depth = 4\n",
      "[LightGBM] [Debug] Trained a tree with leaves = 16 and depth = 4\n",
      "[LightGBM] [Debug] Trained a tree with leaves = 16 and depth = 4\n",
      "[LightGBM] [Debug] Trained a tree with leaves = 16 and depth = 4\n",
      "RMSE на обучающей выборке: 1843.1285128321038 , Best Model Hyperparameters: {'n_estimators': 40, 'max_depth': 4}\n"
     ]
    }
   ],
   "source": [
    "param_grid = {\n",
    "    'max_depth': np.arange(1, 7, 3),\n",
    "    'n_estimators': np.arange(20, 41, 20)\n",
    "}\n",
    "\n",
    "categorical_features = ['VehicleType', 'Gearbox', 'Model', 'FuelType', 'Brand', 'Repaired']\n",
    "\n",
    "features_train_old[categorical_features] = features_train_old[categorical_features].astype('category')\n",
    "\n",
    "model = LGBMRegressor(verbose=200, cat_features = categorical_features, random_state=12345)\n",
    "\n",
    "random_search = RandomizedSearchCV(\n",
    "    estimator=model, param_distributions=param_grid, cv=3, n_iter=10, scoring='neg_mean_squared_error', random_state=123)\n",
    "random_search.fit(features_train_old, target_train_old)\n",
    "\n",
    "best_params = random_search.best_params_\n",
    "best_score = random_search.best_score_\n",
    "\n",
    "best_model = LGBMRegressor(**best_params)\n",
    "\n",
    "best_model.fit(features_train_old, target_train_old)\n",
    "\n",
    "predict_train_LGBM_RS = best_model.predict(features_train_old)\n",
    "mse = mean_squared_error(target_train_old, predict_train_LGBM_RS)\n",
    "rmse = mse ** 0.5\n",
    "\n",
    "print(\"RMSE на обучающей выборке:\", rmse, \", Best Model Hyperparameters:\", best_params)"
   ]
  },
  {
   "cell_type": "code",
   "execution_count": 68,
   "metadata": {},
   "outputs": [
    {
     "name": "stdout",
     "output_type": "stream",
     "text": [
      "CPU times: user 1.89 s, sys: 7.92 ms, total: 1.89 s\n",
      "Wall time: 1.9 s\n"
     ]
    },
    {
     "data": {
      "text/plain": [
       "LGBMRegressor(max_depth=4, n_estimators=40)"
      ]
     },
     "execution_count": 68,
     "metadata": {},
     "output_type": "execute_result"
    }
   ],
   "source": [
    "%%time\n",
    "\n",
    "best_model.fit(features_train_old, target_train_old)"
   ]
  },
  {
   "cell_type": "code",
   "execution_count": 69,
   "metadata": {},
   "outputs": [
    {
     "name": "stdout",
     "output_type": "stream",
     "text": [
      "CPU times: user 223 ms, sys: 51 µs, total: 223 ms\n",
      "Wall time: 202 ms\n"
     ]
    }
   ],
   "source": [
    "%%time\n",
    "\n",
    "features_valid_old[categorical_features] = features_valid_old[categorical_features].astype('category')\n",
    "\n",
    "predict_valid_lgbm = best_model.predict(features_valid_old)"
   ]
  },
  {
   "cell_type": "code",
   "execution_count": 70,
   "metadata": {},
   "outputs": [
    {
     "name": "stdout",
     "output_type": "stream",
     "text": [
      "RMSE на валидационной выборке: 1860.463627711722\n"
     ]
    }
   ],
   "source": [
    "mse = mean_squared_error(target_valid_old, predict_valid_lgbm)\n",
    "rmse = mse ** 0.5\n",
    "\n",
    "print(\"RMSE на валидационной выборке:\", rmse)"
   ]
  },
  {
   "cell_type": "markdown",
   "metadata": {},
   "source": [
    "**Промежуточный вывод**\n",
    "\n",
    "1) DecisionTree: обучение 623 ms, предсказание 19.7 ms и RMSE на валидационной выборке: 2052.\n",
    "\n",
    "2) RandomForest: обучение 6.51 s, предсказания 87.8 ms и RMSE на валидационной выборке: 2191.\n",
    "\n",
    "3) CatBoost: обучение 2min 17s, предсказания 417 ms и RMSE на валидационной выборке: 1640.\n",
    "\n",
    "4) LGBMBoost: обучение 1.63 s, предсказание 128 ms и RMSE на валидационной выборке: 1860.\n",
    "\n",
    "- качество предсказания:CatBoost, LGBMBoost, DecisionTree. \n",
    "- время обучения модели: DecisionTree, LGBMBoost, RandomForest.  \n",
    "- время предсказания модели: DecisionTree, RandomForest, LGBMBoost\n",
    "\n",
    "CatBoost обучается в разы медленнее, даже с испольщованием 2-кросс валидационных выборок (у LGBMBoost 3). Нельзя сказать, что разница с LGBMBoost в качестве незначительная, но все же, учитывая пожелания заказчика LGBMBoost предпочтительнее ввиду баланса времени обучения и качества предсказания."
   ]
  },
  {
   "cell_type": "markdown",
   "metadata": {},
   "source": [
    "\n",
    "<div class=\"alert alert-block alert-danger\">\n",
    "<b>Ошибка:</b> Ты немного не правильно понял метрики времени: Нам нужно время обучения и время предсказания  вычислить  и проанализировать отдельно друг от друга\n",
    "    \n",
    "- время обучения это  чистый `.fit()` модели - без подбора гиперпараметров и без предсказаний\n",
    "    \n",
    "- время предсказания это только `.predict()` без обучения\n",
    "\n",
    "p.s. можно вытаскивать  все  метрики  интересующие заказчика лаконично из GridSearchCV/RandomizedSearchCV, все они лежат в `.cv_results_`\n",
    "</div>\n",
    "\n"
   ]
  },
  {
   "cell_type": "markdown",
   "metadata": {},
   "source": [
    "<div class=\"alert alert-block alert-warning\">\n",
    "<b>Изменения:</b> Поправил.\n",
    "</div>"
   ]
  },
  {
   "cell_type": "markdown",
   "metadata": {},
   "source": [
    "\n",
    "<div class=\"alert alert-block alert-success\">\n",
    "<b>Успех[2]:</b> Все метрики корректно вычислены и проанализированы, выбор модели обоснован\n",
    "</div>"
   ]
  },
  {
   "cell_type": "markdown",
   "metadata": {},
   "source": [
    "## Анализ выбранной модели"
   ]
  },
  {
   "cell_type": "code",
   "execution_count": 71,
   "metadata": {
    "scrolled": false
   },
   "outputs": [
    {
     "name": "stdout",
     "output_type": "stream",
     "text": [
      "CPU times: user 219 ms, sys: 0 ns, total: 219 ms\n",
      "Wall time: 194 ms\n"
     ]
    }
   ],
   "source": [
    "%%time\n",
    "\n",
    "features_test_old[categorical_features] = features_test_old[categorical_features].astype('category')\n",
    "\n",
    "predict_test_lgbm = best_model.predict(features_test_old)"
   ]
  },
  {
   "cell_type": "code",
   "execution_count": 72,
   "metadata": {},
   "outputs": [
    {
     "name": "stdout",
     "output_type": "stream",
     "text": [
      "RMSE на тестовой выборке: 1860.3325205200229\n"
     ]
    }
   ],
   "source": [
    "mse = mean_squared_error(target_test_old, predict_test_lgbm)\n",
    "rmse = mse ** 0.5\n",
    "\n",
    "print(\"RMSE на тестовой выборке:\", rmse)"
   ]
  },
  {
   "cell_type": "code",
   "execution_count": 73,
   "metadata": {},
   "outputs": [],
   "source": [
    "def importances(model,features):\n",
    "    features=features.columns\n",
    "    importances = model.feature_importances_\n",
    "    indices = np.argsort(importances)\n",
    "    \n",
    "    plt.figure(figsize=(10, 5))\n",
    "    plt.title('Важность функции')\n",
    "    plt.barh(range(len(indices)), importances[indices])\n",
    "    plt.yticks(range(len(indices)), features[indices])\n",
    "    plt.xlabel('Относительная важность')\n",
    "    plt.show()"
   ]
  },
  {
   "cell_type": "code",
   "execution_count": 74,
   "metadata": {
    "scrolled": true
   },
   "outputs": [
    {
     "data": {
      "image/png": "[encoded data removed]",
      "text/plain": [
       "<Figure size 720x360 with 1 Axes>"
      ]
     },
     "metadata": {
      "needs_background": "light"
     },
     "output_type": "display_data"
    }
   ],
   "source": [
    "importances(best_model,features_test_old)"
   ]
  },
  {
   "cell_type": "markdown",
   "metadata": {},
   "source": [
    "\n",
    "<div class=\"alert alert-block alert-success\">\n",
    "<b>Успех[2]:</b> На тестовой выборке получено хорошее качество\n",
    "</div>"
   ]
  },
  {
   "cell_type": "markdown",
   "metadata": {},
   "source": [
    "**Промежуточный вывод**\n",
    "\n",
    "Модель LGBMboost показала воспроизводимую метрику RMSE на тествой выборке: 1860. Наиболее важные признаки, влияющие на предсказание модели, это:\n",
    "- год регистрации автомобиля\n",
    "- модель\n",
    "- мощность."
   ]
  },
  {
   "cell_type": "markdown",
   "metadata": {},
   "source": [
    "<div class=\"alert alert-block alert-danger\">\n",
    "   \n",
    "<b>Ошибка:</b>\n",
    "   \n",
    "- Тестовую выборку мы не должны использовать при вычислении метрик для анализа. Она должна использоваться только для единственной лучшей модели после анализа  в шаге с тестированием.\n",
    "- У нас заданы 3 метрики интересующие заказчика: `время обучения: .fit()`, `скорость предсказания: .predict()` и `качество: RMSE`. Эти метрики мы получаем и анализируем отдельно друг от друга (не на тестовой выборке и без учета времени подбора  гиперпаметров) \n",
    "- Получить их можем либо с помощью валидационной выборки либо используя кросс-валидационные методы (в GridSearchCV например есть все данные метрики в аттрибуте cv_results_).   В случае если не используется ни gridsearch ни валидационная выборка, то можно время предсказания замерить на тренировочной (качество так замерить нельзя).\n",
    "- Потом проводится анализ и выбирается ОДНА наилучшая модель.\n",
    "- И только затем для ОДНОЙ наилучшей модели  проводится тестирование.\n",
    "  \n",
    "Исправь пожалуйста это здесь и везде внизу\n",
    "</div>\n"
   ]
  },
  {
   "cell_type": "markdown",
   "metadata": {},
   "source": [
    "<div class=\"alert alert-block alert-danger\">\n",
    "<b>Ошибка:</b> После анализа и выбора одной наилучшей модели, должно идти  ее тестирование. Другие модели тестовую выборку использовать не должны.\n",
    "</div>\n"
   ]
  },
  {
   "cell_type": "markdown",
   "metadata": {},
   "source": [
    "## Общий вывод"
   ]
  },
  {
   "cell_type": "markdown",
   "metadata": {},
   "source": [
    "Были предоставлены данные, которые имели 15 колонок и 354369 строк. Были пропущенные и аномальные значения.\n",
    "\n",
    "Столбцы NumberOfPictures, RegistrationMonth, PostalCode, DateCrawled, DateCreated, LastSeen были удалены, так как их значение на стоимость автомобиля, вероятно, незначимо. Также были удаления строки, где не была указана модель, так как восстановить признак было бы невозможно логическим путем. 10642 наблюдений имели 0 в качестве цены, еще около 1000 цена была очень низкая. Учитывая, что это целевой признак, были сохранены только наблюдения с ценой выше 99 евро. Также были удалены наблюдения с годом регистрации автомобиля позже 2023 и раньше 1950 гг. \n",
    "\n",
    "Часть пропусков в столбце Repaired (автомобили, которые имели ремонт), были заполнены с использованием допущения, что большинство машин, согласно заполненным данным, выпущенных до 2006 г. и с пробегом более 150000 км. имели ремонт. 366 значений в столбце Power (мощность) имели значения, которые мало соответствовали раельности. Они были заменены на медианные значения мощности в соответствии с моделью и брендом. VehicleType (тип кузова), FuelType (вид топлива), Gearbox (тип коробки передач), часть Repaired (ремонт) были приблизетельно восстановлены по моде (самым частым значениям) для своей модель и марки. В столбце вид топлива petrol и gasoline (бензин) и lpg и cng (газ) были объединены.\n",
    "\n",
    "Категориальные переменные были преобразованы в числовые значения методом BinaryEncoder, количественные признаки были масштабированы. Выборка была поделена на обучающую, валидационную и тестовую. \n",
    "\n",
    "При предсказании на валидационное выборке CatBoost имела самый низкий rmse 1640, затраченное на обучение составило 2min 17s. \n",
    "\n",
    "В целом, модели можно было разделить по параметрам от лучшего к худшему в следующем порядке:\n",
    "\n",
    "- качество предсказания:CatBoost, LGBMBoost, DecisionTree.\n",
    "- время обучения модели: DecisionTree, LGBMBoost, RandomForest.\n",
    "- время предсказания модели: DecisionTree, RandomForest, LGBMBoost\n",
    "\n",
    "CatBoost обучается в раза медленнее. Нельзя сказать, что разница с LGBMBoost в качестве незначительная (1640 против 1860), но все же, учитывая пожелания заказчика LGBMBoost предпочтительнее ввиду баланса времени обучения и качества предсказания (2min 31s против 1.7s).\n",
    "\n",
    "Модель LGBMboost показала воспроизводимую метрику RMSE на тествой выборке: 1860. Наиболее важные признаки, влияющие на предсказание модели, это:\n",
    "- год регистрации автомобиля\n",
    "- модель\n",
    "- мощность.\n",
    "\n",
    "Учитывая важность этих признаков:\n",
    "1) Обратить внимание. Последняя дата скачивания анкеты из базы 2016-04-07 14:36:58, но пристутствуют автомобили от 2017 г., что составляет 11844 наблюдений. Интерпретировать данные изменения лучше всего с руководителями сервиса «Не бит, не крашен», возможно, что дата ошибочная. Скачали базу после обновления, например. В ходе предсказания данные от 2017 до 2023 г. были сохранены. \n",
    "\n",
    "2) 30321 автомобиля имели мощность 0. Было взято допущение, что это машины без двигателя, так как медианная цена на них в 2 раза ниже. Все же стоит посоветоваться с экспертами рынка, чтобы узнать, является ли это аномалией (около 10% база данных). "
   ]
  },
  {
   "cell_type": "markdown",
   "metadata": {},
   "source": [
    "\n",
    "<div class=\"alert alert-block alert-info\">\n",
    "<b>Совет:</b> \n",
    "\n",
    "Также если говорить, что можно ещё улучшить в подобных проектах, то я бы выделил такие моменты:<br>\n",
    "    \n",
    "1) Напомню, что для понимания, а какие в итоге факторы важны при моделировании, можно выводить их важность, использую feature_importances_\n",
    "    \n",
    "2) У нас разный возраст машин. Есть гипотеза, что для разных возрастов - своё ценообразование. Поэтому, можно попробовать ввести фактор \"тип возраста\" (ретро, супер-ретро, старая, новая... надо подумать..)..<br>\n",
    "\n",
    "\n",
    "</div>\n"
   ]
  },
  {
   "cell_type": "markdown",
   "metadata": {},
   "source": [
    "## Чек-лист проверки"
   ]
  },
  {
   "cell_type": "markdown",
   "metadata": {},
   "source": [
    "Поставьте 'x' в выполненных пунктах. Далее нажмите Shift+Enter."
   ]
  },
  {
   "cell_type": "markdown",
   "metadata": {},
   "source": [
    "- [x]  Jupyter Notebook открыт\n",
    "- [х]  Весь код выполняется без ошибок\n",
    "- [х]  Ячейки с кодом расположены в порядке исполнения\n",
    "- [х]  Выполнена загрузка и подготовка данных\n",
    "- [х]  Выполнено обучение моделей\n",
    "- [х]  Есть анализ скорости работы и качества моделей"
   ]
  },
  {
   "cell_type": "code",
   "execution_count": null,
   "metadata": {},
   "outputs": [],
   "source": []
  }
 ],
 "metadata": {
  "ExecuteTimeLog": [
   {
    "duration": 415,
    "start_time": "2023-11-10T06:05:28.194Z"
   },
   {
    "duration": 1131,
    "start_time": "2023-11-10T06:05:29.604Z"
   },
   {
    "duration": 882,
    "start_time": "2023-11-10T06:05:37.798Z"
   },
   {
    "duration": 833,
    "start_time": "2023-11-10T06:06:00.162Z"
   },
   {
    "duration": 20095,
    "start_time": "2023-11-10T06:10:33.448Z"
   },
   {
    "duration": 2647,
    "start_time": "2023-11-10T06:12:32.736Z"
   },
   {
    "duration": 988,
    "start_time": "2023-11-10T06:12:35.385Z"
   },
   {
    "duration": 33402,
    "start_time": "2023-11-10T06:12:54.276Z"
   },
   {
    "duration": 2628,
    "start_time": "2023-11-10T06:15:13.512Z"
   },
   {
    "duration": 2684,
    "start_time": "2023-11-10T06:15:18.471Z"
   },
   {
    "duration": 3,
    "start_time": "2023-11-10T06:15:22.332Z"
   },
   {
    "duration": 875,
    "start_time": "2023-11-10T06:15:23.308Z"
   },
   {
    "duration": 29892,
    "start_time": "2023-11-10T06:15:24.185Z"
   },
   {
    "duration": 3,
    "start_time": "2023-11-10T06:16:08.956Z"
   },
   {
    "duration": 854,
    "start_time": "2023-11-10T06:16:09.492Z"
   },
   {
    "duration": 160,
    "start_time": "2023-11-10T06:18:38.730Z"
   },
   {
    "duration": 849,
    "start_time": "2023-11-10T06:20:03.585Z"
   },
   {
    "duration": 3,
    "start_time": "2023-11-10T06:20:40.001Z"
   },
   {
    "duration": 891,
    "start_time": "2023-11-10T06:20:40.881Z"
   },
   {
    "duration": 1679,
    "start_time": "2023-11-10T06:20:42.149Z"
   },
   {
    "duration": 1426,
    "start_time": "2023-11-10T06:22:40.225Z"
   },
   {
    "duration": 1459,
    "start_time": "2023-11-10T06:23:10.101Z"
   },
   {
    "duration": 1498,
    "start_time": "2023-11-10T06:24:09.630Z"
   },
   {
    "duration": 843,
    "start_time": "2023-11-10T06:26:09.014Z"
   },
   {
    "duration": 1469,
    "start_time": "2023-11-10T06:26:13.182Z"
   },
   {
    "duration": 1452,
    "start_time": "2023-11-10T06:26:36.016Z"
   },
   {
    "duration": 24,
    "start_time": "2023-11-10T06:46:53.660Z"
   },
   {
    "duration": 33,
    "start_time": "2023-11-10T06:47:05.051Z"
   },
   {
    "duration": 29,
    "start_time": "2023-11-10T06:48:35.804Z"
   },
   {
    "duration": 29,
    "start_time": "2023-11-10T06:48:44.575Z"
   },
   {
    "duration": 76,
    "start_time": "2023-11-10T06:49:22.122Z"
   },
   {
    "duration": 34,
    "start_time": "2023-11-10T06:49:54.728Z"
   },
   {
    "duration": 803,
    "start_time": "2023-11-10T06:50:25.648Z"
   },
   {
    "duration": 41,
    "start_time": "2023-11-10T06:51:09.352Z"
   },
   {
    "duration": 562,
    "start_time": "2023-11-10T06:53:12.596Z"
   },
   {
    "duration": 2066,
    "start_time": "2023-11-10T06:53:27.325Z"
   },
   {
    "duration": 19,
    "start_time": "2023-11-10T06:54:04.767Z"
   },
   {
    "duration": 2316,
    "start_time": "2023-11-10T06:55:22.600Z"
   },
   {
    "duration": 2310,
    "start_time": "2023-11-10T06:55:47.877Z"
   },
   {
    "duration": 1033,
    "start_time": "2023-11-10T06:56:09.761Z"
   },
   {
    "duration": 1219,
    "start_time": "2023-11-10T06:56:35.586Z"
   },
   {
    "duration": 234,
    "start_time": "2023-11-10T06:56:57.196Z"
   },
   {
    "duration": 129,
    "start_time": "2023-11-10T06:57:02.355Z"
   },
   {
    "duration": 2402,
    "start_time": "2023-11-10T06:57:25.594Z"
   },
   {
    "duration": 22,
    "start_time": "2023-11-10T06:57:40.698Z"
   },
   {
    "duration": 1973,
    "start_time": "2023-11-10T06:57:47.951Z"
   },
   {
    "duration": 10,
    "start_time": "2023-11-10T06:58:26.196Z"
   },
   {
    "duration": 170,
    "start_time": "2023-11-10T06:59:34.100Z"
   },
   {
    "duration": 28,
    "start_time": "2023-11-10T07:00:14.743Z"
   },
   {
    "duration": 6,
    "start_time": "2023-11-10T07:00:17.960Z"
   },
   {
    "duration": 28,
    "start_time": "2023-11-10T07:00:32.053Z"
   },
   {
    "duration": 13,
    "start_time": "2023-11-10T07:01:28.587Z"
   },
   {
    "duration": 89,
    "start_time": "2023-11-10T07:01:54.397Z"
   },
   {
    "duration": 72,
    "start_time": "2023-11-10T07:02:22.851Z"
   },
   {
    "duration": 11,
    "start_time": "2023-11-10T07:02:27.591Z"
   },
   {
    "duration": 274,
    "start_time": "2023-11-10T07:02:40.198Z"
   },
   {
    "duration": 699,
    "start_time": "2023-11-10T07:02:58.457Z"
   },
   {
    "duration": 36,
    "start_time": "2023-11-10T07:03:15.000Z"
   },
   {
    "duration": 5,
    "start_time": "2023-11-10T07:04:22.567Z"
   },
   {
    "duration": 17,
    "start_time": "2023-11-10T07:05:18.639Z"
   },
   {
    "duration": 459,
    "start_time": "2023-11-10T07:05:38.196Z"
   },
   {
    "duration": 52,
    "start_time": "2023-11-10T07:09:06.589Z"
   },
   {
    "duration": 38,
    "start_time": "2023-11-10T07:09:17.294Z"
   },
   {
    "duration": 22,
    "start_time": "2023-11-10T07:09:25.214Z"
   },
   {
    "duration": 6,
    "start_time": "2023-11-10T07:09:32.048Z"
   },
   {
    "duration": 165,
    "start_time": "2023-11-10T07:09:32.982Z"
   },
   {
    "duration": 7,
    "start_time": "2023-11-10T07:11:12.746Z"
   },
   {
    "duration": 14,
    "start_time": "2023-11-10T07:11:24.463Z"
   },
   {
    "duration": 21,
    "start_time": "2023-11-10T07:11:39.470Z"
   },
   {
    "duration": 19,
    "start_time": "2023-11-10T07:13:31.522Z"
   },
   {
    "duration": 13,
    "start_time": "2023-11-10T07:14:17.486Z"
   },
   {
    "duration": 53,
    "start_time": "2023-11-10T07:14:42.032Z"
   },
   {
    "duration": 26,
    "start_time": "2023-11-10T07:15:27.003Z"
   },
   {
    "duration": 16,
    "start_time": "2023-11-10T07:15:39.302Z"
   },
   {
    "duration": 43,
    "start_time": "2023-11-10T07:18:23.840Z"
   },
   {
    "duration": 14,
    "start_time": "2023-11-10T07:20:03.244Z"
   },
   {
    "duration": 41,
    "start_time": "2023-11-10T07:20:51.817Z"
   },
   {
    "duration": 305,
    "start_time": "2023-11-10T07:21:22.496Z"
   },
   {
    "duration": 113,
    "start_time": "2023-11-10T07:21:36.445Z"
   },
   {
    "duration": 137,
    "start_time": "2023-11-10T07:21:43.984Z"
   },
   {
    "duration": 135,
    "start_time": "2023-11-10T07:24:09.932Z"
   },
   {
    "duration": 337,
    "start_time": "2023-11-10T07:24:23.797Z"
   },
   {
    "duration": 28,
    "start_time": "2023-11-10T07:24:41.478Z"
   },
   {
    "duration": 115,
    "start_time": "2023-11-10T07:24:50.698Z"
   },
   {
    "duration": 31,
    "start_time": "2023-11-10T07:24:59.782Z"
   },
   {
    "duration": 26,
    "start_time": "2023-11-10T07:25:40.566Z"
   },
   {
    "duration": 320,
    "start_time": "2023-11-10T07:26:28.742Z"
   },
   {
    "duration": 167,
    "start_time": "2023-11-10T07:27:30.190Z"
   },
   {
    "duration": 6,
    "start_time": "2023-11-10T07:31:41.359Z"
   },
   {
    "duration": 22,
    "start_time": "2023-11-10T07:31:53.532Z"
   },
   {
    "duration": 1454,
    "start_time": "2023-11-10T07:32:52.336Z"
   },
   {
    "duration": 20,
    "start_time": "2023-11-10T07:33:05.345Z"
   },
   {
    "duration": 20,
    "start_time": "2023-11-10T07:34:33.800Z"
   },
   {
    "duration": 13,
    "start_time": "2023-11-10T07:35:22.369Z"
   },
   {
    "duration": 14,
    "start_time": "2023-11-10T07:38:49.953Z"
   },
   {
    "duration": 12,
    "start_time": "2023-11-10T07:38:55.534Z"
   },
   {
    "duration": 81,
    "start_time": "2023-11-10T07:40:12.133Z"
   },
   {
    "duration": 49,
    "start_time": "2023-11-10T07:49:51.489Z"
   },
   {
    "duration": 2160,
    "start_time": "2023-11-10T07:50:01.445Z"
   },
   {
    "duration": 1183,
    "start_time": "2023-11-10T07:50:03.607Z"
   },
   {
    "duration": 1649,
    "start_time": "2023-11-10T07:50:04.792Z"
   },
   {
    "duration": 36,
    "start_time": "2023-11-10T07:50:06.442Z"
   },
   {
    "duration": 35,
    "start_time": "2023-11-10T07:50:06.479Z"
   },
   {
    "duration": 7,
    "start_time": "2023-11-10T07:50:06.517Z"
   },
   {
    "duration": 49,
    "start_time": "2023-11-10T07:50:06.525Z"
   },
   {
    "duration": 170,
    "start_time": "2023-11-10T07:50:06.576Z"
   },
   {
    "duration": 26,
    "start_time": "2023-11-10T07:50:06.747Z"
   },
   {
    "duration": 16,
    "start_time": "2023-11-10T07:50:20.091Z"
   },
   {
    "duration": 4,
    "start_time": "2023-11-10T07:54:25.334Z"
   },
   {
    "duration": 4,
    "start_time": "2023-11-10T07:54:34.533Z"
   },
   {
    "duration": 107,
    "start_time": "2023-11-10T07:55:13.469Z"
   },
   {
    "duration": 103,
    "start_time": "2023-11-10T07:56:40.439Z"
   },
   {
    "duration": 11,
    "start_time": "2023-11-10T07:56:51.394Z"
   },
   {
    "duration": 20,
    "start_time": "2023-11-10T07:58:04.601Z"
   },
   {
    "duration": 19,
    "start_time": "2023-11-10T07:58:10.167Z"
   },
   {
    "duration": 19,
    "start_time": "2023-11-10T07:59:01.470Z"
   },
   {
    "duration": 91,
    "start_time": "2023-11-10T07:59:04.602Z"
   },
   {
    "duration": 17,
    "start_time": "2023-11-10T08:00:11.386Z"
   },
   {
    "duration": 86,
    "start_time": "2023-11-10T08:00:58.422Z"
   },
   {
    "duration": 2307,
    "start_time": "2023-11-10T08:01:39.524Z"
   },
   {
    "duration": 116,
    "start_time": "2023-11-10T08:03:19.352Z"
   },
   {
    "duration": 97,
    "start_time": "2023-11-10T08:03:24.911Z"
   },
   {
    "duration": 107,
    "start_time": "2023-11-10T08:03:42.917Z"
   },
   {
    "duration": 138,
    "start_time": "2023-11-10T08:04:04.687Z"
   },
   {
    "duration": 14,
    "start_time": "2023-11-10T08:05:27.458Z"
   },
   {
    "duration": 1330,
    "start_time": "2023-11-10T08:08:38.813Z"
   },
   {
    "duration": 855,
    "start_time": "2023-11-10T08:08:40.145Z"
   },
   {
    "duration": 1511,
    "start_time": "2023-11-10T08:08:41.001Z"
   },
   {
    "duration": 37,
    "start_time": "2023-11-10T08:08:42.514Z"
   },
   {
    "duration": 18,
    "start_time": "2023-11-10T08:08:42.553Z"
   },
   {
    "duration": 6,
    "start_time": "2023-11-10T08:08:42.572Z"
   },
   {
    "duration": 67,
    "start_time": "2023-11-10T08:08:42.580Z"
   },
   {
    "duration": 146,
    "start_time": "2023-11-10T08:08:42.649Z"
   },
   {
    "duration": 121,
    "start_time": "2023-11-10T08:08:42.796Z"
   },
   {
    "duration": 106,
    "start_time": "2023-11-10T08:08:42.919Z"
   },
   {
    "duration": 0,
    "start_time": "2023-11-10T08:08:43.027Z"
   },
   {
    "duration": 11,
    "start_time": "2023-11-10T08:12:31.922Z"
   },
   {
    "duration": 2144,
    "start_time": "2023-11-10T08:19:03.149Z"
   },
   {
    "duration": 1476,
    "start_time": "2023-11-10T08:24:59.640Z"
   },
   {
    "duration": 941,
    "start_time": "2023-11-10T08:25:01.118Z"
   },
   {
    "duration": 1596,
    "start_time": "2023-11-10T08:25:02.061Z"
   },
   {
    "duration": 35,
    "start_time": "2023-11-10T08:25:03.659Z"
   },
   {
    "duration": 20,
    "start_time": "2023-11-10T08:25:03.708Z"
   },
   {
    "duration": 11,
    "start_time": "2023-11-10T08:25:03.730Z"
   },
   {
    "duration": 42,
    "start_time": "2023-11-10T08:25:03.743Z"
   },
   {
    "duration": 156,
    "start_time": "2023-11-10T08:25:03.787Z"
   },
   {
    "duration": 130,
    "start_time": "2023-11-10T08:25:03.944Z"
   },
   {
    "duration": 51,
    "start_time": "2023-11-10T08:25:25.279Z"
   },
   {
    "duration": 2210,
    "start_time": "2023-11-10T08:25:32.128Z"
   },
   {
    "duration": 1318,
    "start_time": "2023-11-10T08:25:34.340Z"
   },
   {
    "duration": 1721,
    "start_time": "2023-11-10T08:25:35.660Z"
   },
   {
    "duration": 39,
    "start_time": "2023-11-10T08:25:37.383Z"
   },
   {
    "duration": 23,
    "start_time": "2023-11-10T08:25:37.425Z"
   },
   {
    "duration": 10,
    "start_time": "2023-11-10T08:25:37.451Z"
   },
   {
    "duration": 56,
    "start_time": "2023-11-10T08:25:37.463Z"
   },
   {
    "duration": 152,
    "start_time": "2023-11-10T08:25:37.521Z"
   },
   {
    "duration": 122,
    "start_time": "2023-11-10T08:25:37.675Z"
   },
   {
    "duration": 2939,
    "start_time": "2023-11-10T08:25:58.130Z"
   },
   {
    "duration": 1123,
    "start_time": "2023-11-10T08:26:01.072Z"
   },
   {
    "duration": 1574,
    "start_time": "2023-11-10T08:26:02.199Z"
   },
   {
    "duration": 45,
    "start_time": "2023-11-10T08:26:03.776Z"
   },
   {
    "duration": 19,
    "start_time": "2023-11-10T08:26:03.823Z"
   },
   {
    "duration": 5,
    "start_time": "2023-11-10T08:26:03.844Z"
   },
   {
    "duration": 59,
    "start_time": "2023-11-10T08:26:03.851Z"
   },
   {
    "duration": 152,
    "start_time": "2023-11-10T08:26:03.913Z"
   },
   {
    "duration": 123,
    "start_time": "2023-11-10T08:26:04.067Z"
   },
   {
    "duration": 3,
    "start_time": "2023-11-10T08:26:04.192Z"
   },
   {
    "duration": 16,
    "start_time": "2023-11-10T08:26:04.196Z"
   },
   {
    "duration": 34,
    "start_time": "2023-11-10T08:26:04.214Z"
   },
   {
    "duration": 91,
    "start_time": "2023-11-10T08:26:47.630Z"
   },
   {
    "duration": 1873,
    "start_time": "2023-11-10T08:26:52.764Z"
   },
   {
    "duration": 1211,
    "start_time": "2023-11-10T08:26:54.639Z"
   },
   {
    "duration": 1608,
    "start_time": "2023-11-10T08:26:55.852Z"
   },
   {
    "duration": 50,
    "start_time": "2023-11-10T08:26:57.462Z"
   },
   {
    "duration": 19,
    "start_time": "2023-11-10T08:26:57.515Z"
   },
   {
    "duration": 7,
    "start_time": "2023-11-10T08:26:57.536Z"
   },
   {
    "duration": 51,
    "start_time": "2023-11-10T08:26:57.544Z"
   },
   {
    "duration": 146,
    "start_time": "2023-11-10T08:26:57.597Z"
   },
   {
    "duration": 119,
    "start_time": "2023-11-10T08:26:57.745Z"
   },
   {
    "duration": 1918,
    "start_time": "2023-11-10T08:27:37.841Z"
   },
   {
    "duration": 1087,
    "start_time": "2023-11-10T08:27:39.761Z"
   },
   {
    "duration": 1511,
    "start_time": "2023-11-10T08:27:40.850Z"
   },
   {
    "duration": 33,
    "start_time": "2023-11-10T08:27:42.363Z"
   },
   {
    "duration": 18,
    "start_time": "2023-11-10T08:27:42.408Z"
   },
   {
    "duration": 15,
    "start_time": "2023-11-10T08:27:42.428Z"
   },
   {
    "duration": 73,
    "start_time": "2023-11-10T08:27:42.445Z"
   },
   {
    "duration": 255,
    "start_time": "2023-11-10T08:27:42.519Z"
   },
   {
    "duration": 131,
    "start_time": "2023-11-10T08:27:42.776Z"
   },
   {
    "duration": 1528,
    "start_time": "2023-11-10T08:30:22.834Z"
   },
   {
    "duration": 1101,
    "start_time": "2023-11-10T08:30:24.365Z"
   },
   {
    "duration": 1562,
    "start_time": "2023-11-10T08:30:25.468Z"
   },
   {
    "duration": 33,
    "start_time": "2023-11-10T08:30:27.032Z"
   },
   {
    "duration": 17,
    "start_time": "2023-11-10T08:30:27.066Z"
   },
   {
    "duration": 27,
    "start_time": "2023-11-10T08:30:27.084Z"
   },
   {
    "duration": 36,
    "start_time": "2023-11-10T08:30:27.113Z"
   },
   {
    "duration": 146,
    "start_time": "2023-11-10T08:30:27.151Z"
   },
   {
    "duration": 127,
    "start_time": "2023-11-10T08:30:27.298Z"
   },
   {
    "duration": 139,
    "start_time": "2023-11-10T08:30:27.427Z"
   },
   {
    "duration": 0,
    "start_time": "2023-11-10T08:30:27.568Z"
   },
   {
    "duration": 0,
    "start_time": "2023-11-10T08:30:27.569Z"
   },
   {
    "duration": 179,
    "start_time": "2023-11-10T08:30:35.370Z"
   },
   {
    "duration": 11,
    "start_time": "2023-11-10T08:32:29.849Z"
   },
   {
    "duration": 3,
    "start_time": "2023-11-10T08:32:36.959Z"
   },
   {
    "duration": 9,
    "start_time": "2023-11-10T08:32:42.842Z"
   },
   {
    "duration": 13,
    "start_time": "2023-11-10T08:33:40.011Z"
   },
   {
    "duration": 1496,
    "start_time": "2023-11-10T08:35:09.170Z"
   },
   {
    "duration": 1166,
    "start_time": "2023-11-10T08:35:10.668Z"
   },
   {
    "duration": 1672,
    "start_time": "2023-11-10T08:35:11.836Z"
   },
   {
    "duration": 35,
    "start_time": "2023-11-10T08:35:13.510Z"
   },
   {
    "duration": 18,
    "start_time": "2023-11-10T08:35:13.548Z"
   },
   {
    "duration": 6,
    "start_time": "2023-11-10T08:35:13.567Z"
   },
   {
    "duration": 60,
    "start_time": "2023-11-10T08:35:13.574Z"
   },
   {
    "duration": 143,
    "start_time": "2023-11-10T08:35:13.635Z"
   },
   {
    "duration": 144,
    "start_time": "2023-11-10T08:35:13.780Z"
   },
   {
    "duration": 47,
    "start_time": "2023-11-10T08:36:39.013Z"
   },
   {
    "duration": 2053,
    "start_time": "2023-11-10T08:40:42.381Z"
   },
   {
    "duration": 1141,
    "start_time": "2023-11-10T08:40:44.436Z"
   },
   {
    "duration": 1535,
    "start_time": "2023-11-10T08:40:46.621Z"
   },
   {
    "duration": 31,
    "start_time": "2023-11-10T08:40:48.158Z"
   },
   {
    "duration": 19,
    "start_time": "2023-11-10T08:40:48.372Z"
   },
   {
    "duration": 6,
    "start_time": "2023-11-10T08:40:48.856Z"
   },
   {
    "duration": 35,
    "start_time": "2023-11-10T08:40:49.481Z"
   },
   {
    "duration": 145,
    "start_time": "2023-11-10T08:40:49.996Z"
   },
   {
    "duration": 111,
    "start_time": "2023-11-10T08:40:51.896Z"
   },
   {
    "duration": 20,
    "start_time": "2023-11-10T08:40:52.992Z"
   },
   {
    "duration": 1438,
    "start_time": "2023-11-10T08:50:21.686Z"
   },
   {
    "duration": 843,
    "start_time": "2023-11-10T08:50:23.126Z"
   },
   {
    "duration": 1459,
    "start_time": "2023-11-10T08:50:23.971Z"
   },
   {
    "duration": 31,
    "start_time": "2023-11-10T08:50:25.431Z"
   },
   {
    "duration": 16,
    "start_time": "2023-11-10T08:50:25.464Z"
   },
   {
    "duration": 28,
    "start_time": "2023-11-10T08:50:25.481Z"
   },
   {
    "duration": 33,
    "start_time": "2023-11-10T08:50:25.511Z"
   },
   {
    "duration": 162,
    "start_time": "2023-11-10T08:50:25.546Z"
   },
   {
    "duration": 122,
    "start_time": "2023-11-10T08:50:25.710Z"
   },
   {
    "duration": 21,
    "start_time": "2023-11-10T08:50:25.834Z"
   },
   {
    "duration": 14,
    "start_time": "2023-11-10T08:50:25.856Z"
   },
   {
    "duration": 18,
    "start_time": "2023-11-10T08:52:17.948Z"
   },
   {
    "duration": 1763,
    "start_time": "2023-11-10T08:59:35.947Z"
   },
   {
    "duration": 3762,
    "start_time": "2023-11-10T09:00:42.623Z"
   },
   {
    "duration": 140,
    "start_time": "2023-11-10T09:01:11.983Z"
   },
   {
    "duration": 1521,
    "start_time": "2023-11-10T09:04:14.390Z"
   },
   {
    "duration": 935,
    "start_time": "2023-11-10T09:04:15.913Z"
   },
   {
    "duration": 1514,
    "start_time": "2023-11-10T09:04:16.849Z"
   },
   {
    "duration": 45,
    "start_time": "2023-11-10T09:04:18.365Z"
   },
   {
    "duration": 17,
    "start_time": "2023-11-10T09:04:18.412Z"
   },
   {
    "duration": 29,
    "start_time": "2023-11-10T09:04:18.431Z"
   },
   {
    "duration": 68,
    "start_time": "2023-11-10T09:04:18.462Z"
   },
   {
    "duration": 139,
    "start_time": "2023-11-10T09:04:18.532Z"
   },
   {
    "duration": 24,
    "start_time": "2023-11-10T09:04:18.673Z"
   },
   {
    "duration": 3792,
    "start_time": "2023-11-10T09:04:18.699Z"
   },
   {
    "duration": 185,
    "start_time": "2023-11-10T09:04:22.492Z"
   },
   {
    "duration": 16,
    "start_time": "2023-11-10T09:05:24.007Z"
   },
   {
    "duration": 1419,
    "start_time": "2023-11-10T09:06:03.047Z"
   },
   {
    "duration": 872,
    "start_time": "2023-11-10T09:06:04.468Z"
   },
   {
    "duration": 1603,
    "start_time": "2023-11-10T09:06:05.341Z"
   },
   {
    "duration": 36,
    "start_time": "2023-11-10T09:06:06.945Z"
   },
   {
    "duration": 32,
    "start_time": "2023-11-10T09:06:06.982Z"
   },
   {
    "duration": 5,
    "start_time": "2023-11-10T09:06:07.016Z"
   },
   {
    "duration": 49,
    "start_time": "2023-11-10T09:06:07.023Z"
   },
   {
    "duration": 145,
    "start_time": "2023-11-10T09:06:07.074Z"
   },
   {
    "duration": 16,
    "start_time": "2023-11-10T09:06:07.221Z"
   },
   {
    "duration": 3879,
    "start_time": "2023-11-10T09:06:07.240Z"
   },
   {
    "duration": 143,
    "start_time": "2023-11-10T09:06:11.121Z"
   },
   {
    "duration": 16,
    "start_time": "2023-11-10T09:07:18.303Z"
   },
   {
    "duration": 1615,
    "start_time": "2023-11-10T09:09:52.678Z"
   },
   {
    "duration": 870,
    "start_time": "2023-11-10T09:09:54.295Z"
   },
   {
    "duration": 1581,
    "start_time": "2023-11-10T09:09:55.167Z"
   },
   {
    "duration": 37,
    "start_time": "2023-11-10T09:09:56.749Z"
   },
   {
    "duration": 28,
    "start_time": "2023-11-10T09:09:56.788Z"
   },
   {
    "duration": 6,
    "start_time": "2023-11-10T09:09:56.818Z"
   },
   {
    "duration": 48,
    "start_time": "2023-11-10T09:09:56.826Z"
   },
   {
    "duration": 137,
    "start_time": "2023-11-10T09:09:56.876Z"
   },
   {
    "duration": 14,
    "start_time": "2023-11-10T09:09:57.014Z"
   },
   {
    "duration": 868,
    "start_time": "2023-11-10T09:09:57.030Z"
   },
   {
    "duration": 0,
    "start_time": "2023-11-10T09:09:57.900Z"
   },
   {
    "duration": 0,
    "start_time": "2023-11-10T09:09:57.901Z"
   },
   {
    "duration": 1185,
    "start_time": "2023-11-10T09:10:46.361Z"
   },
   {
    "duration": 0,
    "start_time": "2023-11-10T09:10:47.548Z"
   },
   {
    "duration": 1504,
    "start_time": "2023-11-10T09:12:51.294Z"
   },
   {
    "duration": 1096,
    "start_time": "2023-11-10T09:12:52.800Z"
   },
   {
    "duration": 1505,
    "start_time": "2023-11-10T09:12:53.897Z"
   },
   {
    "duration": 37,
    "start_time": "2023-11-10T09:12:55.404Z"
   },
   {
    "duration": 19,
    "start_time": "2023-11-10T09:12:55.443Z"
   },
   {
    "duration": 26,
    "start_time": "2023-11-10T09:12:55.463Z"
   },
   {
    "duration": 40,
    "start_time": "2023-11-10T09:12:55.490Z"
   },
   {
    "duration": 139,
    "start_time": "2023-11-10T09:12:55.531Z"
   },
   {
    "duration": 19,
    "start_time": "2023-11-10T09:12:55.671Z"
   },
   {
    "duration": 146,
    "start_time": "2023-11-10T09:12:55.692Z"
   },
   {
    "duration": 14,
    "start_time": "2023-11-10T09:12:55.840Z"
   },
   {
    "duration": 103,
    "start_time": "2023-11-10T09:13:16.048Z"
   },
   {
    "duration": 96,
    "start_time": "2023-11-10T09:13:48.554Z"
   },
   {
    "duration": 85,
    "start_time": "2023-11-10T09:13:53.086Z"
   },
   {
    "duration": 84,
    "start_time": "2023-11-10T09:14:17.262Z"
   },
   {
    "duration": 135,
    "start_time": "2023-11-10T09:15:37.158Z"
   },
   {
    "duration": 154,
    "start_time": "2023-11-10T09:17:16.001Z"
   },
   {
    "duration": 120,
    "start_time": "2023-11-10T09:17:22.386Z"
   },
   {
    "duration": 123,
    "start_time": "2023-11-10T09:18:16.814Z"
   },
   {
    "duration": 164,
    "start_time": "2023-11-10T09:18:53.136Z"
   },
   {
    "duration": 9,
    "start_time": "2023-11-10T09:22:00.231Z"
   },
   {
    "duration": 10,
    "start_time": "2023-11-10T09:22:07.384Z"
   },
   {
    "duration": 25,
    "start_time": "2023-11-10T09:22:14.323Z"
   },
   {
    "duration": 49,
    "start_time": "2023-11-10T09:22:44.440Z"
   },
   {
    "duration": 1359,
    "start_time": "2023-11-10T09:26:09.085Z"
   },
   {
    "duration": 836,
    "start_time": "2023-11-10T09:26:11.689Z"
   },
   {
    "duration": 1510,
    "start_time": "2023-11-10T09:26:12.528Z"
   },
   {
    "duration": 32,
    "start_time": "2023-11-10T09:26:14.040Z"
   },
   {
    "duration": 35,
    "start_time": "2023-11-10T09:26:14.073Z"
   },
   {
    "duration": 10,
    "start_time": "2023-11-10T09:26:14.109Z"
   },
   {
    "duration": 50,
    "start_time": "2023-11-10T09:26:14.121Z"
   },
   {
    "duration": 134,
    "start_time": "2023-11-10T09:26:14.174Z"
   },
   {
    "duration": 173,
    "start_time": "2023-11-10T09:26:14.309Z"
   },
   {
    "duration": 45,
    "start_time": "2023-11-10T09:26:22.991Z"
   },
   {
    "duration": 135,
    "start_time": "2023-11-10T09:26:24.018Z"
   },
   {
    "duration": 15,
    "start_time": "2023-11-10T09:26:25.585Z"
   },
   {
    "duration": 16,
    "start_time": "2023-11-10T09:27:26.114Z"
   },
   {
    "duration": 38,
    "start_time": "2023-11-10T09:27:37.659Z"
   },
   {
    "duration": 1582,
    "start_time": "2023-11-10T09:27:49.555Z"
   },
   {
    "duration": 833,
    "start_time": "2023-11-10T09:27:51.139Z"
   },
   {
    "duration": 1547,
    "start_time": "2023-11-10T09:27:51.973Z"
   },
   {
    "duration": 31,
    "start_time": "2023-11-10T09:27:53.522Z"
   },
   {
    "duration": 17,
    "start_time": "2023-11-10T09:27:53.604Z"
   },
   {
    "duration": 5,
    "start_time": "2023-11-10T09:27:53.834Z"
   },
   {
    "duration": 31,
    "start_time": "2023-11-10T09:27:54.901Z"
   },
   {
    "duration": 141,
    "start_time": "2023-11-10T09:27:56.566Z"
   },
   {
    "duration": 99,
    "start_time": "2023-11-10T09:28:41.654Z"
   },
   {
    "duration": 9,
    "start_time": "2023-11-10T09:28:54.845Z"
   },
   {
    "duration": 73,
    "start_time": "2023-11-10T09:29:55.899Z"
   },
   {
    "duration": 127,
    "start_time": "2023-11-10T09:30:11.834Z"
   },
   {
    "duration": 14,
    "start_time": "2023-11-10T09:31:26.703Z"
   },
   {
    "duration": 13,
    "start_time": "2023-11-10T09:33:18.076Z"
   },
   {
    "duration": 9,
    "start_time": "2023-11-10T09:33:23.328Z"
   },
   {
    "duration": 415,
    "start_time": "2023-11-10T09:33:29.887Z"
   },
   {
    "duration": 435,
    "start_time": "2023-11-10T09:34:05.669Z"
   },
   {
    "duration": 403,
    "start_time": "2023-11-10T09:34:38.140Z"
   },
   {
    "duration": 416,
    "start_time": "2023-11-10T09:37:28.626Z"
   },
   {
    "duration": 392,
    "start_time": "2023-11-10T09:37:41.372Z"
   },
   {
    "duration": 34,
    "start_time": "2023-11-10T09:38:08.305Z"
   },
   {
    "duration": 209,
    "start_time": "2023-11-10T09:38:22.636Z"
   },
   {
    "duration": 34,
    "start_time": "2023-11-10T09:38:35.553Z"
   },
   {
    "duration": 10,
    "start_time": "2023-11-10T09:38:36.582Z"
   },
   {
    "duration": 9,
    "start_time": "2023-11-10T09:38:48.683Z"
   },
   {
    "duration": 14,
    "start_time": "2023-11-10T09:39:21.600Z"
   },
   {
    "duration": 10,
    "start_time": "2023-11-10T09:39:24.119Z"
   },
   {
    "duration": 43,
    "start_time": "2023-11-10T09:39:48.426Z"
   },
   {
    "duration": 1470,
    "start_time": "2023-11-10T09:39:52.823Z"
   },
   {
    "duration": 964,
    "start_time": "2023-11-10T09:39:54.295Z"
   },
   {
    "duration": 1660,
    "start_time": "2023-11-10T09:39:55.261Z"
   },
   {
    "duration": 33,
    "start_time": "2023-11-10T09:39:56.923Z"
   },
   {
    "duration": 19,
    "start_time": "2023-11-10T09:39:56.958Z"
   },
   {
    "duration": 38,
    "start_time": "2023-11-10T09:39:56.978Z"
   },
   {
    "duration": 68,
    "start_time": "2023-11-10T09:39:57.017Z"
   },
   {
    "duration": 135,
    "start_time": "2023-11-10T09:39:57.087Z"
   },
   {
    "duration": 71,
    "start_time": "2023-11-10T09:39:57.310Z"
   },
   {
    "duration": 148,
    "start_time": "2023-11-10T09:39:59.141Z"
   },
   {
    "duration": 133,
    "start_time": "2023-11-10T09:40:19.825Z"
   },
   {
    "duration": 83,
    "start_time": "2023-11-10T09:40:22.161Z"
   },
   {
    "duration": 144,
    "start_time": "2023-11-10T09:40:30.658Z"
   },
   {
    "duration": 411,
    "start_time": "2023-11-10T09:40:32.096Z"
   },
   {
    "duration": 19,
    "start_time": "2023-11-10T09:40:33.257Z"
   },
   {
    "duration": 198,
    "start_time": "2023-11-10T09:40:38.419Z"
   },
   {
    "duration": 1891,
    "start_time": "2023-11-10T09:41:34.093Z"
   },
   {
    "duration": 1008,
    "start_time": "2023-11-10T09:41:35.987Z"
   },
   {
    "duration": 1557,
    "start_time": "2023-11-10T09:41:36.997Z"
   },
   {
    "duration": 30,
    "start_time": "2023-11-10T09:41:38.556Z"
   },
   {
    "duration": 35,
    "start_time": "2023-11-10T09:41:38.588Z"
   },
   {
    "duration": 7,
    "start_time": "2023-11-10T09:41:38.624Z"
   },
   {
    "duration": 55,
    "start_time": "2023-11-10T09:41:38.632Z"
   },
   {
    "duration": 153,
    "start_time": "2023-11-10T09:41:38.689Z"
   },
   {
    "duration": 83,
    "start_time": "2023-11-10T09:41:38.843Z"
   },
   {
    "duration": 135,
    "start_time": "2023-11-10T09:41:38.927Z"
   },
   {
    "duration": 15,
    "start_time": "2023-11-10T09:41:39.064Z"
   },
   {
    "duration": 458,
    "start_time": "2023-11-10T09:41:39.080Z"
   },
   {
    "duration": 18,
    "start_time": "2023-11-10T09:41:39.539Z"
   },
   {
    "duration": 230,
    "start_time": "2023-11-10T09:41:39.559Z"
   },
   {
    "duration": 33,
    "start_time": "2023-11-10T09:41:39.791Z"
   },
   {
    "duration": 209,
    "start_time": "2023-11-10T09:41:39.826Z"
   },
   {
    "duration": 11,
    "start_time": "2023-11-10T09:41:40.037Z"
   },
   {
    "duration": 76,
    "start_time": "2023-11-10T09:45:12.014Z"
   },
   {
    "duration": 76,
    "start_time": "2023-11-10T09:45:24.954Z"
   },
   {
    "duration": 14,
    "start_time": "2023-11-10T09:45:35.464Z"
   },
   {
    "duration": 86,
    "start_time": "2023-11-10T09:45:44.366Z"
   },
   {
    "duration": 2064,
    "start_time": "2023-11-10T09:46:52.578Z"
   },
   {
    "duration": 2042,
    "start_time": "2023-11-10T09:47:02.749Z"
   },
   {
    "duration": 47,
    "start_time": "2023-11-10T09:50:20.111Z"
   },
   {
    "duration": 1814,
    "start_time": "2023-11-10T09:50:25.168Z"
   },
   {
    "duration": 1397,
    "start_time": "2023-11-10T09:50:36.102Z"
   },
   {
    "duration": 822,
    "start_time": "2023-11-10T09:50:37.501Z"
   },
   {
    "duration": 1485,
    "start_time": "2023-11-10T09:50:38.324Z"
   },
   {
    "duration": 34,
    "start_time": "2023-11-10T09:50:39.811Z"
   },
   {
    "duration": 17,
    "start_time": "2023-11-10T09:50:39.846Z"
   },
   {
    "duration": 7,
    "start_time": "2023-11-10T09:50:39.864Z"
   },
   {
    "duration": 57,
    "start_time": "2023-11-10T09:50:39.872Z"
   },
   {
    "duration": 140,
    "start_time": "2023-11-10T09:50:39.931Z"
   },
   {
    "duration": 87,
    "start_time": "2023-11-10T09:50:40.072Z"
   },
   {
    "duration": 128,
    "start_time": "2023-11-10T09:50:40.161Z"
   },
   {
    "duration": 24,
    "start_time": "2023-11-10T09:50:40.290Z"
   },
   {
    "duration": 378,
    "start_time": "2023-11-10T09:50:40.316Z"
   },
   {
    "duration": 21,
    "start_time": "2023-11-10T09:50:40.696Z"
   },
   {
    "duration": 210,
    "start_time": "2023-11-10T09:50:40.719Z"
   },
   {
    "duration": 24,
    "start_time": "2023-11-10T09:50:40.931Z"
   },
   {
    "duration": 207,
    "start_time": "2023-11-10T09:50:40.957Z"
   },
   {
    "duration": 2029,
    "start_time": "2023-11-10T09:50:41.166Z"
   },
   {
    "duration": 26,
    "start_time": "2023-11-10T09:51:21.787Z"
   },
   {
    "duration": 39,
    "start_time": "2023-11-10T09:51:41.710Z"
   },
   {
    "duration": 673,
    "start_time": "2023-11-10T09:57:16.731Z"
   },
   {
    "duration": 5977,
    "start_time": "2023-11-10T09:57:41.157Z"
   },
   {
    "duration": 13,
    "start_time": "2023-11-10T09:59:25.210Z"
   },
   {
    "duration": 0,
    "start_time": "2023-11-10T10:00:14.714Z"
   },
   {
    "duration": 9,
    "start_time": "2023-11-10T10:00:15.250Z"
   },
   {
    "duration": 9,
    "start_time": "2023-11-10T10:00:20.061Z"
   },
   {
    "duration": 74,
    "start_time": "2023-11-10T10:00:26.717Z"
   },
   {
    "duration": 206,
    "start_time": "2023-11-10T10:00:33.177Z"
   },
   {
    "duration": 9612,
    "start_time": "2023-11-10T10:02:51.877Z"
   },
   {
    "duration": 477,
    "start_time": "2023-11-10T10:03:12.013Z"
   },
   {
    "duration": 946,
    "start_time": "2023-11-10T10:04:06.551Z"
   },
   {
    "duration": 6,
    "start_time": "2023-11-10T10:05:28.428Z"
   },
   {
    "duration": 14,
    "start_time": "2023-11-10T10:06:35.357Z"
   },
   {
    "duration": 18,
    "start_time": "2023-11-10T10:06:54.868Z"
   },
   {
    "duration": 46,
    "start_time": "2023-11-10T10:07:24.491Z"
   },
   {
    "duration": 840,
    "start_time": "2023-11-10T10:07:25.958Z"
   },
   {
    "duration": 13,
    "start_time": "2023-11-10T10:07:43.618Z"
   },
   {
    "duration": 10,
    "start_time": "2023-11-10T10:09:11.182Z"
   },
   {
    "duration": 14,
    "start_time": "2023-11-10T10:09:24.000Z"
   },
   {
    "duration": 13,
    "start_time": "2023-11-10T10:09:35.880Z"
   },
   {
    "duration": 14,
    "start_time": "2023-11-10T10:10:02.367Z"
   },
   {
    "duration": 1554,
    "start_time": "2023-11-10T10:19:23.102Z"
   },
   {
    "duration": 1221,
    "start_time": "2023-11-10T10:19:24.657Z"
   },
   {
    "duration": 1771,
    "start_time": "2023-11-10T10:19:25.880Z"
   },
   {
    "duration": 34,
    "start_time": "2023-11-10T10:19:27.653Z"
   },
   {
    "duration": 37,
    "start_time": "2023-11-10T10:19:27.689Z"
   },
   {
    "duration": 6,
    "start_time": "2023-11-10T10:19:27.727Z"
   },
   {
    "duration": 34,
    "start_time": "2023-11-10T10:19:27.734Z"
   },
   {
    "duration": 32,
    "start_time": "2023-11-10T10:23:12.993Z"
   },
   {
    "duration": 171,
    "start_time": "2023-11-10T10:23:15.148Z"
   },
   {
    "duration": 6,
    "start_time": "2023-11-10T10:23:46.282Z"
   },
   {
    "duration": 82,
    "start_time": "2023-11-10T10:23:49.096Z"
   },
   {
    "duration": 6,
    "start_time": "2023-11-10T10:23:49.735Z"
   },
   {
    "duration": 54,
    "start_time": "2023-11-10T10:23:51.891Z"
   },
   {
    "duration": 12,
    "start_time": "2023-11-10T10:23:53.869Z"
   },
   {
    "duration": 795,
    "start_time": "2023-11-10T10:23:58.491Z"
   },
   {
    "duration": 113,
    "start_time": "2023-11-10T10:26:53.961Z"
   },
   {
    "duration": 1432,
    "start_time": "2023-11-10T10:27:03.729Z"
   },
   {
    "duration": 974,
    "start_time": "2023-11-10T10:27:05.163Z"
   },
   {
    "duration": 1628,
    "start_time": "2023-11-10T10:27:06.139Z"
   },
   {
    "duration": 50,
    "start_time": "2023-11-10T10:27:07.769Z"
   },
   {
    "duration": 18,
    "start_time": "2023-11-10T10:27:07.822Z"
   },
   {
    "duration": 5,
    "start_time": "2023-11-10T10:27:07.841Z"
   },
   {
    "duration": 39,
    "start_time": "2023-11-10T10:27:07.848Z"
   },
   {
    "duration": 160,
    "start_time": "2023-11-10T10:27:07.889Z"
   },
   {
    "duration": 88,
    "start_time": "2023-11-10T10:27:08.051Z"
   },
   {
    "duration": 7,
    "start_time": "2023-11-10T10:27:08.141Z"
   },
   {
    "duration": 54,
    "start_time": "2023-11-10T10:27:08.149Z"
   },
   {
    "duration": 37,
    "start_time": "2023-11-10T10:27:08.206Z"
   },
   {
    "duration": 679,
    "start_time": "2023-11-10T10:27:08.245Z"
   },
   {
    "duration": 14,
    "start_time": "2023-11-10T10:27:08.926Z"
   },
   {
    "duration": 1508,
    "start_time": "2023-11-10T10:29:15.552Z"
   },
   {
    "duration": 1175,
    "start_time": "2023-11-10T10:29:17.062Z"
   },
   {
    "duration": 1557,
    "start_time": "2023-11-10T10:29:18.239Z"
   },
   {
    "duration": 38,
    "start_time": "2023-11-10T10:29:19.799Z"
   },
   {
    "duration": 20,
    "start_time": "2023-11-10T10:29:19.839Z"
   },
   {
    "duration": 7,
    "start_time": "2023-11-10T10:29:19.861Z"
   },
   {
    "duration": 71,
    "start_time": "2023-11-10T10:29:19.870Z"
   },
   {
    "duration": 154,
    "start_time": "2023-11-10T10:29:19.943Z"
   },
   {
    "duration": 89,
    "start_time": "2023-11-10T10:29:20.099Z"
   },
   {
    "duration": 6,
    "start_time": "2023-11-10T10:29:20.190Z"
   },
   {
    "duration": 58,
    "start_time": "2023-11-10T10:29:20.198Z"
   },
   {
    "duration": 36,
    "start_time": "2023-11-10T10:29:20.257Z"
   },
   {
    "duration": 575,
    "start_time": "2023-11-10T10:29:20.295Z"
   },
   {
    "duration": 113,
    "start_time": "2023-11-10T10:29:20.872Z"
   },
   {
    "duration": 0,
    "start_time": "2023-11-10T10:29:20.987Z"
   },
   {
    "duration": 0,
    "start_time": "2023-11-10T10:29:20.988Z"
   },
   {
    "duration": 0,
    "start_time": "2023-11-10T10:29:20.989Z"
   },
   {
    "duration": 0,
    "start_time": "2023-11-10T10:29:20.990Z"
   },
   {
    "duration": 0,
    "start_time": "2023-11-10T10:29:20.991Z"
   },
   {
    "duration": 0,
    "start_time": "2023-11-10T10:29:20.992Z"
   },
   {
    "duration": 0,
    "start_time": "2023-11-10T10:29:20.993Z"
   },
   {
    "duration": 0,
    "start_time": "2023-11-10T10:29:21.007Z"
   },
   {
    "duration": 169,
    "start_time": "2023-11-10T10:29:43.372Z"
   },
   {
    "duration": 11,
    "start_time": "2023-11-10T10:30:07.332Z"
   },
   {
    "duration": 12,
    "start_time": "2023-11-10T10:30:11.620Z"
   },
   {
    "duration": 180,
    "start_time": "2023-11-10T10:30:19.760Z"
   },
   {
    "duration": 254,
    "start_time": "2023-11-10T10:30:30.996Z"
   },
   {
    "duration": 188,
    "start_time": "2023-11-10T10:30:36.239Z"
   },
   {
    "duration": 266,
    "start_time": "2023-11-10T10:30:45.082Z"
   },
   {
    "duration": 9,
    "start_time": "2023-11-10T10:31:57.124Z"
   },
   {
    "duration": 2370,
    "start_time": "2023-11-10T10:32:29.305Z"
   },
   {
    "duration": 10,
    "start_time": "2023-11-10T10:33:06.488Z"
   },
   {
    "duration": 450,
    "start_time": "2023-11-10T10:33:16.518Z"
   },
   {
    "duration": 453,
    "start_time": "2023-11-10T10:34:39.273Z"
   },
   {
    "duration": 509,
    "start_time": "2023-11-10T10:35:16.134Z"
   },
   {
    "duration": 463,
    "start_time": "2023-11-10T10:35:39.629Z"
   },
   {
    "duration": 161,
    "start_time": "2023-11-10T10:36:25.994Z"
   },
   {
    "duration": 139,
    "start_time": "2023-11-10T10:36:30.451Z"
   },
   {
    "duration": 149,
    "start_time": "2023-11-10T10:36:36.473Z"
   },
   {
    "duration": 132,
    "start_time": "2023-11-10T10:36:43.302Z"
   },
   {
    "duration": 485,
    "start_time": "2023-11-10T10:37:08.586Z"
   },
   {
    "duration": 452,
    "start_time": "2023-11-10T10:37:20.234Z"
   },
   {
    "duration": 583,
    "start_time": "2023-11-10T10:37:29.043Z"
   },
   {
    "duration": 462,
    "start_time": "2023-11-10T10:37:53.717Z"
   },
   {
    "duration": 461,
    "start_time": "2023-11-10T10:38:33.534Z"
   },
   {
    "duration": 150,
    "start_time": "2023-11-10T10:38:57.690Z"
   },
   {
    "duration": 152,
    "start_time": "2023-11-10T10:39:11.419Z"
   },
   {
    "duration": 250,
    "start_time": "2023-11-10T10:39:55.279Z"
   },
   {
    "duration": 370,
    "start_time": "2023-11-10T10:40:04.504Z"
   },
   {
    "duration": 149,
    "start_time": "2023-11-10T10:40:39.359Z"
   },
   {
    "duration": 360,
    "start_time": "2023-11-10T10:40:51.524Z"
   },
   {
    "duration": 7,
    "start_time": "2023-11-10T10:41:17.864Z"
   },
   {
    "duration": 120,
    "start_time": "2023-11-10T10:42:49.851Z"
   },
   {
    "duration": 66,
    "start_time": "2023-11-10T10:42:55.202Z"
   },
   {
    "duration": 65,
    "start_time": "2023-11-10T10:43:39.821Z"
   },
   {
    "duration": 64,
    "start_time": "2023-11-10T10:43:50.421Z"
   },
   {
    "duration": 24,
    "start_time": "2023-11-10T10:45:02.224Z"
   },
   {
    "duration": 12,
    "start_time": "2023-11-10T10:46:46.588Z"
   },
   {
    "duration": 24,
    "start_time": "2023-11-10T10:47:02.313Z"
   },
   {
    "duration": 90,
    "start_time": "2023-11-10T10:49:54.733Z"
   },
   {
    "duration": 3,
    "start_time": "2023-11-10T10:50:42.042Z"
   },
   {
    "duration": 56,
    "start_time": "2023-11-10T10:50:46.406Z"
   },
   {
    "duration": 232,
    "start_time": "2023-11-10T10:51:04.261Z"
   },
   {
    "duration": 75,
    "start_time": "2023-11-10T10:51:18.123Z"
   },
   {
    "duration": 230,
    "start_time": "2023-11-10T10:51:19.410Z"
   },
   {
    "duration": 185,
    "start_time": "2023-11-10T10:51:31.898Z"
   },
   {
    "duration": 58,
    "start_time": "2023-11-10T10:51:48.013Z"
   },
   {
    "duration": 195,
    "start_time": "2023-11-10T10:51:49.138Z"
   },
   {
    "duration": 439,
    "start_time": "2023-11-10T10:52:45.025Z"
   },
   {
    "duration": 340,
    "start_time": "2023-11-10T10:53:03.602Z"
   },
   {
    "duration": 58,
    "start_time": "2023-11-10T10:53:38.602Z"
   },
   {
    "duration": 351,
    "start_time": "2023-11-10T10:55:29.231Z"
   },
   {
    "duration": 4,
    "start_time": "2023-11-10T11:01:03.608Z"
   },
   {
    "duration": 37,
    "start_time": "2023-11-10T11:01:14.036Z"
   },
   {
    "duration": 30,
    "start_time": "2023-11-10T11:02:00.424Z"
   },
   {
    "duration": 30,
    "start_time": "2023-11-10T11:02:13.157Z"
   },
   {
    "duration": 29,
    "start_time": "2023-11-10T11:02:23.782Z"
   },
   {
    "duration": 37,
    "start_time": "2023-11-10T11:03:02.044Z"
   },
   {
    "duration": 8,
    "start_time": "2023-11-10T11:04:52.957Z"
   },
   {
    "duration": 11,
    "start_time": "2023-11-10T11:05:44.573Z"
   },
   {
    "duration": 12,
    "start_time": "2023-11-10T11:05:53.069Z"
   },
   {
    "duration": 12,
    "start_time": "2023-11-10T11:06:03.113Z"
   },
   {
    "duration": 9,
    "start_time": "2023-11-10T11:06:13.018Z"
   },
   {
    "duration": 10,
    "start_time": "2023-11-10T11:06:37.134Z"
   },
   {
    "duration": 16,
    "start_time": "2023-11-10T11:07:49.466Z"
   },
   {
    "duration": 19,
    "start_time": "2023-11-10T11:08:12.955Z"
   },
   {
    "duration": 318,
    "start_time": "2023-11-10T11:08:41.355Z"
   },
   {
    "duration": 306,
    "start_time": "2023-11-10T11:14:03.437Z"
   },
   {
    "duration": 302,
    "start_time": "2023-11-10T11:14:30.911Z"
   },
   {
    "duration": 13,
    "start_time": "2023-11-10T11:18:16.649Z"
   },
   {
    "duration": 67,
    "start_time": "2023-11-10T11:18:40.265Z"
   },
   {
    "duration": 13,
    "start_time": "2023-11-10T11:18:53.389Z"
   },
   {
    "duration": 387,
    "start_time": "2023-11-10T11:25:58.016Z"
   },
   {
    "duration": 383,
    "start_time": "2023-11-10T11:31:56.161Z"
   },
   {
    "duration": 1367,
    "start_time": "2023-11-10T11:32:11.753Z"
   },
   {
    "duration": 837,
    "start_time": "2023-11-10T11:32:13.122Z"
   },
   {
    "duration": 1540,
    "start_time": "2023-11-10T11:32:13.962Z"
   },
   {
    "duration": 35,
    "start_time": "2023-11-10T11:32:15.506Z"
   },
   {
    "duration": 33,
    "start_time": "2023-11-10T11:32:15.544Z"
   },
   {
    "duration": 29,
    "start_time": "2023-11-10T11:32:15.579Z"
   },
   {
    "duration": 54,
    "start_time": "2023-11-10T11:32:15.610Z"
   },
   {
    "duration": 146,
    "start_time": "2023-11-10T11:32:15.665Z"
   },
   {
    "duration": 107,
    "start_time": "2023-11-10T11:32:15.813Z"
   },
   {
    "duration": 5,
    "start_time": "2023-11-10T11:32:15.921Z"
   },
   {
    "duration": 83,
    "start_time": "2023-11-10T11:32:15.928Z"
   },
   {
    "duration": 32,
    "start_time": "2023-11-10T11:32:16.013Z"
   },
   {
    "duration": 78,
    "start_time": "2023-11-10T11:32:16.047Z"
   },
   {
    "duration": 446,
    "start_time": "2023-11-10T11:32:16.129Z"
   },
   {
    "duration": 231,
    "start_time": "2023-11-10T11:32:16.576Z"
   },
   {
    "duration": 55,
    "start_time": "2023-11-10T11:32:16.808Z"
   },
   {
    "duration": 273,
    "start_time": "2023-11-10T11:32:16.865Z"
   },
   {
    "duration": 195,
    "start_time": "2023-11-10T11:32:17.140Z"
   },
   {
    "duration": 12,
    "start_time": "2023-11-10T11:32:17.337Z"
   },
   {
    "duration": 535,
    "start_time": "2023-11-10T11:32:17.351Z"
   },
   {
    "duration": 0,
    "start_time": "2023-11-10T11:32:17.887Z"
   },
   {
    "duration": 0,
    "start_time": "2023-11-10T11:32:17.889Z"
   },
   {
    "duration": 0,
    "start_time": "2023-11-10T11:32:17.890Z"
   },
   {
    "duration": 0,
    "start_time": "2023-11-10T11:32:17.890Z"
   },
   {
    "duration": 0,
    "start_time": "2023-11-10T11:32:17.891Z"
   },
   {
    "duration": 0,
    "start_time": "2023-11-10T11:32:17.892Z"
   },
   {
    "duration": 0,
    "start_time": "2023-11-10T11:32:17.907Z"
   },
   {
    "duration": 0,
    "start_time": "2023-11-10T11:32:17.908Z"
   },
   {
    "duration": 0,
    "start_time": "2023-11-10T11:32:17.909Z"
   },
   {
    "duration": 1626,
    "start_time": "2023-11-10T11:34:54.795Z"
   },
   {
    "duration": 847,
    "start_time": "2023-11-10T11:34:56.423Z"
   },
   {
    "duration": 1553,
    "start_time": "2023-11-10T11:34:57.271Z"
   },
   {
    "duration": 33,
    "start_time": "2023-11-10T11:34:58.826Z"
   },
   {
    "duration": 16,
    "start_time": "2023-11-10T11:34:58.860Z"
   },
   {
    "duration": 11,
    "start_time": "2023-11-10T11:34:58.877Z"
   },
   {
    "duration": 45,
    "start_time": "2023-11-10T11:34:58.889Z"
   },
   {
    "duration": 140,
    "start_time": "2023-11-10T11:34:58.936Z"
   },
   {
    "duration": 86,
    "start_time": "2023-11-10T11:34:59.078Z"
   },
   {
    "duration": 5,
    "start_time": "2023-11-10T11:34:59.166Z"
   },
   {
    "duration": 58,
    "start_time": "2023-11-10T11:34:59.173Z"
   },
   {
    "duration": 12,
    "start_time": "2023-11-10T11:34:59.232Z"
   },
   {
    "duration": 66,
    "start_time": "2023-11-10T11:34:59.245Z"
   },
   {
    "duration": 427,
    "start_time": "2023-11-10T11:34:59.312Z"
   },
   {
    "duration": 221,
    "start_time": "2023-11-10T11:34:59.740Z"
   },
   {
    "duration": 67,
    "start_time": "2023-11-10T11:34:59.962Z"
   },
   {
    "duration": 268,
    "start_time": "2023-11-10T11:35:00.030Z"
   },
   {
    "duration": 205,
    "start_time": "2023-11-10T11:35:00.300Z"
   },
   {
    "duration": 13,
    "start_time": "2023-11-10T11:35:00.506Z"
   },
   {
    "duration": 99,
    "start_time": "2023-11-10T11:35:00.521Z"
   },
   {
    "duration": 53246,
    "start_time": "2023-11-10T11:35:00.622Z"
   },
   {
    "duration": 16,
    "start_time": "2023-11-10T11:35:53.870Z"
   },
   {
    "duration": 323,
    "start_time": "2023-11-10T11:35:53.888Z"
   },
   {
    "duration": 24,
    "start_time": "2023-11-10T11:35:54.213Z"
   },
   {
    "duration": 188,
    "start_time": "2023-11-10T11:35:54.238Z"
   },
   {
    "duration": 25,
    "start_time": "2023-11-10T11:35:54.428Z"
   },
   {
    "duration": 185,
    "start_time": "2023-11-10T11:35:54.454Z"
   },
   {
    "duration": 36,
    "start_time": "2023-11-10T11:35:54.643Z"
   },
   {
    "duration": 185,
    "start_time": "2023-11-10T11:35:54.681Z"
   },
   {
    "duration": 1440,
    "start_time": "2023-11-10T11:35:59.135Z"
   },
   {
    "duration": 875,
    "start_time": "2023-11-10T11:36:00.577Z"
   },
   {
    "duration": 1519,
    "start_time": "2023-11-10T11:36:01.454Z"
   },
   {
    "duration": 32,
    "start_time": "2023-11-10T11:36:02.975Z"
   },
   {
    "duration": 17,
    "start_time": "2023-11-10T11:36:03.010Z"
   },
   {
    "duration": 8,
    "start_time": "2023-11-10T11:36:03.028Z"
   },
   {
    "duration": 33,
    "start_time": "2023-11-10T11:36:03.037Z"
   },
   {
    "duration": 156,
    "start_time": "2023-11-10T11:36:03.072Z"
   },
   {
    "duration": 83,
    "start_time": "2023-11-10T11:36:03.229Z"
   },
   {
    "duration": 5,
    "start_time": "2023-11-10T11:36:03.314Z"
   },
   {
    "duration": 50,
    "start_time": "2023-11-10T11:36:03.320Z"
   },
   {
    "duration": 11,
    "start_time": "2023-11-10T11:36:03.371Z"
   },
   {
    "duration": 71,
    "start_time": "2023-11-10T11:36:03.384Z"
   },
   {
    "duration": 420,
    "start_time": "2023-11-10T11:36:03.458Z"
   },
   {
    "duration": 217,
    "start_time": "2023-11-10T11:36:03.879Z"
   },
   {
    "duration": 63,
    "start_time": "2023-11-10T11:36:04.097Z"
   },
   {
    "duration": 270,
    "start_time": "2023-11-10T11:36:04.161Z"
   },
   {
    "duration": 194,
    "start_time": "2023-11-10T11:36:04.433Z"
   },
   {
    "duration": 85,
    "start_time": "2023-11-10T11:36:04.628Z"
   },
   {
    "duration": 170,
    "start_time": "2023-11-10T11:36:04.715Z"
   },
   {
    "duration": 20,
    "start_time": "2023-11-10T11:36:04.887Z"
   },
   {
    "duration": 329,
    "start_time": "2023-11-10T11:36:04.909Z"
   },
   {
    "duration": 16,
    "start_time": "2023-11-10T11:36:05.240Z"
   },
   {
    "duration": 201,
    "start_time": "2023-11-10T11:36:05.257Z"
   },
   {
    "duration": 36,
    "start_time": "2023-11-10T11:36:05.459Z"
   },
   {
    "duration": 180,
    "start_time": "2023-11-10T11:36:05.497Z"
   },
   {
    "duration": 42,
    "start_time": "2023-11-10T11:36:05.679Z"
   },
   {
    "duration": 67,
    "start_time": "2023-11-10T11:36:25.142Z"
   },
   {
    "duration": 176,
    "start_time": "2023-11-10T11:36:28.106Z"
   },
   {
    "duration": 295,
    "start_time": "2023-11-10T11:37:45.731Z"
   },
   {
    "duration": 213,
    "start_time": "2023-11-10T11:38:02.587Z"
   },
   {
    "duration": 283,
    "start_time": "2023-11-10T11:38:08.711Z"
   },
   {
    "duration": 294,
    "start_time": "2023-11-10T11:38:34.348Z"
   },
   {
    "duration": 286,
    "start_time": "2023-11-10T11:38:52.880Z"
   },
   {
    "duration": 440,
    "start_time": "2023-11-10T11:39:03.968Z"
   },
   {
    "duration": 164,
    "start_time": "2023-11-10T11:40:17.744Z"
   },
   {
    "duration": 1392,
    "start_time": "2023-11-10T11:40:41.639Z"
   },
   {
    "duration": 838,
    "start_time": "2023-11-10T11:40:43.033Z"
   },
   {
    "duration": 1445,
    "start_time": "2023-11-10T11:40:43.873Z"
   },
   {
    "duration": 31,
    "start_time": "2023-11-10T11:40:45.320Z"
   },
   {
    "duration": 17,
    "start_time": "2023-11-10T11:40:45.353Z"
   },
   {
    "duration": 6,
    "start_time": "2023-11-10T11:40:45.372Z"
   },
   {
    "duration": 37,
    "start_time": "2023-11-10T11:40:45.407Z"
   },
   {
    "duration": 135,
    "start_time": "2023-11-10T11:40:45.446Z"
   },
   {
    "duration": 86,
    "start_time": "2023-11-10T11:40:45.583Z"
   },
   {
    "duration": 1388,
    "start_time": "2023-11-10T11:40:57.155Z"
   },
   {
    "duration": 872,
    "start_time": "2023-11-10T11:40:58.545Z"
   },
   {
    "duration": 1499,
    "start_time": "2023-11-10T11:40:59.419Z"
   },
   {
    "duration": 34,
    "start_time": "2023-11-10T11:41:00.920Z"
   },
   {
    "duration": 48,
    "start_time": "2023-11-10T11:41:00.956Z"
   },
   {
    "duration": 29,
    "start_time": "2023-11-10T11:41:01.005Z"
   },
   {
    "duration": 61,
    "start_time": "2023-11-10T11:41:01.035Z"
   },
   {
    "duration": 135,
    "start_time": "2023-11-10T11:41:02.188Z"
   },
   {
    "duration": 73,
    "start_time": "2023-11-10T11:41:02.767Z"
   },
   {
    "duration": 46,
    "start_time": "2023-11-10T11:41:02.995Z"
   },
   {
    "duration": 12,
    "start_time": "2023-11-10T11:41:03.243Z"
   },
   {
    "duration": 1394,
    "start_time": "2023-11-10T11:43:42.040Z"
   },
   {
    "duration": 873,
    "start_time": "2023-11-10T11:43:43.436Z"
   },
   {
    "duration": 1501,
    "start_time": "2023-11-10T11:43:44.310Z"
   },
   {
    "duration": 38,
    "start_time": "2023-11-10T11:43:45.813Z"
   },
   {
    "duration": 18,
    "start_time": "2023-11-10T11:43:45.852Z"
   },
   {
    "duration": 5,
    "start_time": "2023-11-10T11:43:45.871Z"
   },
   {
    "duration": 57,
    "start_time": "2023-11-10T11:43:45.877Z"
   },
   {
    "duration": 187,
    "start_time": "2023-11-10T11:43:45.936Z"
   },
   {
    "duration": 82,
    "start_time": "2023-11-10T11:43:46.125Z"
   },
   {
    "duration": 46,
    "start_time": "2023-11-10T11:43:46.210Z"
   },
   {
    "duration": 39,
    "start_time": "2023-11-10T11:43:46.257Z"
   },
   {
    "duration": 1425,
    "start_time": "2023-11-10T11:43:46.297Z"
   },
   {
    "duration": 0,
    "start_time": "2023-11-10T11:43:47.723Z"
   },
   {
    "duration": 0,
    "start_time": "2023-11-10T11:43:47.725Z"
   },
   {
    "duration": 0,
    "start_time": "2023-11-10T11:43:47.726Z"
   },
   {
    "duration": 0,
    "start_time": "2023-11-10T11:43:47.727Z"
   },
   {
    "duration": 0,
    "start_time": "2023-11-10T11:43:47.728Z"
   },
   {
    "duration": 0,
    "start_time": "2023-11-10T11:43:47.729Z"
   },
   {
    "duration": 0,
    "start_time": "2023-11-10T11:43:47.729Z"
   },
   {
    "duration": 0,
    "start_time": "2023-11-10T11:43:47.730Z"
   },
   {
    "duration": 0,
    "start_time": "2023-11-10T11:43:47.731Z"
   },
   {
    "duration": 0,
    "start_time": "2023-11-10T11:43:47.732Z"
   },
   {
    "duration": 0,
    "start_time": "2023-11-10T11:43:47.733Z"
   },
   {
    "duration": 0,
    "start_time": "2023-11-10T11:43:47.734Z"
   },
   {
    "duration": 0,
    "start_time": "2023-11-10T11:43:47.735Z"
   },
   {
    "duration": 0,
    "start_time": "2023-11-10T11:43:47.736Z"
   },
   {
    "duration": 0,
    "start_time": "2023-11-10T11:43:47.737Z"
   },
   {
    "duration": 0,
    "start_time": "2023-11-10T11:43:47.738Z"
   },
   {
    "duration": 49,
    "start_time": "2023-11-10T11:44:04.130Z"
   },
   {
    "duration": 410,
    "start_time": "2023-11-10T11:44:09.660Z"
   },
   {
    "duration": 222,
    "start_time": "2023-11-10T11:44:14.640Z"
   },
   {
    "duration": 57,
    "start_time": "2023-11-10T11:44:15.876Z"
   },
   {
    "duration": 270,
    "start_time": "2023-11-10T11:44:17.152Z"
   },
   {
    "duration": 185,
    "start_time": "2023-11-10T11:44:18.536Z"
   },
   {
    "duration": 84,
    "start_time": "2023-11-10T11:44:19.660Z"
   },
   {
    "duration": 179,
    "start_time": "2023-11-10T11:44:20.763Z"
   },
   {
    "duration": 290,
    "start_time": "2023-11-10T11:44:24.332Z"
   },
   {
    "duration": 12,
    "start_time": "2023-11-10T11:44:28.292Z"
   },
   {
    "duration": 12,
    "start_time": "2023-11-10T11:45:20.472Z"
   },
   {
    "duration": 87,
    "start_time": "2023-11-10T11:45:32.740Z"
   },
   {
    "duration": 152,
    "start_time": "2023-11-10T11:45:50.415Z"
   },
   {
    "duration": 102,
    "start_time": "2023-11-10T11:46:00.049Z"
   },
   {
    "duration": 82,
    "start_time": "2023-11-10T11:46:25.045Z"
   },
   {
    "duration": 118,
    "start_time": "2023-11-10T11:46:53.801Z"
   },
   {
    "duration": 181,
    "start_time": "2023-11-10T11:48:48.958Z"
   },
   {
    "duration": 254,
    "start_time": "2023-11-10T11:55:06.064Z"
   },
   {
    "duration": 19,
    "start_time": "2023-11-10T11:55:39.457Z"
   },
   {
    "duration": 13,
    "start_time": "2023-11-10T11:56:25.475Z"
   },
   {
    "duration": 125,
    "start_time": "2023-11-10T11:56:29.108Z"
   },
   {
    "duration": 13,
    "start_time": "2023-11-10T11:58:27.488Z"
   },
   {
    "duration": 1581,
    "start_time": "2023-11-10T11:58:49.942Z"
   },
   {
    "duration": 912,
    "start_time": "2023-11-10T11:58:51.525Z"
   },
   {
    "duration": 1619,
    "start_time": "2023-11-10T11:58:52.439Z"
   },
   {
    "duration": 34,
    "start_time": "2023-11-10T11:58:54.060Z"
   },
   {
    "duration": 29,
    "start_time": "2023-11-10T11:58:54.107Z"
   },
   {
    "duration": 35,
    "start_time": "2023-11-10T11:58:54.137Z"
   },
   {
    "duration": 56,
    "start_time": "2023-11-10T11:58:54.174Z"
   },
   {
    "duration": 142,
    "start_time": "2023-11-10T11:58:54.232Z"
   },
   {
    "duration": 92,
    "start_time": "2023-11-10T11:58:54.375Z"
   },
   {
    "duration": 55,
    "start_time": "2023-11-10T11:58:54.468Z"
   },
   {
    "duration": 48,
    "start_time": "2023-11-10T11:58:54.525Z"
   },
   {
    "duration": 103,
    "start_time": "2023-11-10T11:58:54.574Z"
   },
   {
    "duration": 473,
    "start_time": "2023-11-10T11:58:54.679Z"
   },
   {
    "duration": 269,
    "start_time": "2023-11-10T11:58:55.155Z"
   },
   {
    "duration": 51,
    "start_time": "2023-11-10T11:58:55.427Z"
   },
   {
    "duration": 290,
    "start_time": "2023-11-10T11:58:55.480Z"
   },
   {
    "duration": 256,
    "start_time": "2023-11-10T11:58:55.771Z"
   },
   {
    "duration": 108,
    "start_time": "2023-11-10T11:58:56.030Z"
   },
   {
    "duration": 236,
    "start_time": "2023-11-10T11:58:56.140Z"
   },
   {
    "duration": 329,
    "start_time": "2023-11-10T11:58:56.378Z"
   },
   {
    "duration": 128,
    "start_time": "2023-11-10T11:58:56.716Z"
   },
   {
    "duration": 35,
    "start_time": "2023-11-10T11:58:56.845Z"
   },
   {
    "duration": 77,
    "start_time": "2023-11-10T11:58:56.882Z"
   },
   {
    "duration": 234,
    "start_time": "2023-11-10T11:58:56.960Z"
   },
   {
    "duration": 17,
    "start_time": "2023-11-10T12:05:57.643Z"
   },
   {
    "duration": 1403,
    "start_time": "2023-11-10T12:06:27.154Z"
   },
   {
    "duration": 956,
    "start_time": "2023-11-10T12:06:30.783Z"
   },
   {
    "duration": 1625,
    "start_time": "2023-11-10T12:06:31.740Z"
   },
   {
    "duration": 48,
    "start_time": "2023-11-10T12:06:33.367Z"
   },
   {
    "duration": 21,
    "start_time": "2023-11-10T12:06:33.418Z"
   },
   {
    "duration": 6,
    "start_time": "2023-11-10T12:06:34.037Z"
   },
   {
    "duration": 44,
    "start_time": "2023-11-10T12:06:35.665Z"
   },
   {
    "duration": 154,
    "start_time": "2023-11-10T12:06:36.522Z"
   },
   {
    "duration": 71,
    "start_time": "2023-11-10T12:06:38.418Z"
   },
   {
    "duration": 38,
    "start_time": "2023-11-10T12:06:39.227Z"
   },
   {
    "duration": 16,
    "start_time": "2023-11-10T12:06:41.307Z"
   },
   {
    "duration": 55,
    "start_time": "2023-11-10T12:06:48.786Z"
   },
   {
    "duration": 472,
    "start_time": "2023-11-10T12:08:36.123Z"
   },
   {
    "duration": 21,
    "start_time": "2023-11-10T12:09:50.315Z"
   },
   {
    "duration": 21,
    "start_time": "2023-11-10T12:11:12.743Z"
   },
   {
    "duration": 20,
    "start_time": "2023-11-10T12:11:17.791Z"
   },
   {
    "duration": 21,
    "start_time": "2023-11-10T12:11:24.528Z"
   },
   {
    "duration": 20,
    "start_time": "2023-11-10T12:11:47.848Z"
   },
   {
    "duration": 21,
    "start_time": "2023-11-10T12:11:53.033Z"
   },
   {
    "duration": 30,
    "start_time": "2023-11-10T12:12:23.589Z"
   },
   {
    "duration": 22,
    "start_time": "2023-11-10T12:12:29.900Z"
   },
   {
    "duration": 23,
    "start_time": "2023-11-10T12:19:22.039Z"
   },
   {
    "duration": 33,
    "start_time": "2023-11-10T12:19:30.101Z"
   },
   {
    "duration": 22,
    "start_time": "2023-11-10T12:20:09.633Z"
   },
   {
    "duration": 68,
    "start_time": "2023-11-10T12:20:43.216Z"
   },
   {
    "duration": 256,
    "start_time": "2023-11-10T12:20:49.677Z"
   },
   {
    "duration": 53,
    "start_time": "2023-11-10T12:20:54.611Z"
   },
   {
    "duration": 265,
    "start_time": "2023-11-10T12:20:56.458Z"
   },
   {
    "duration": 178,
    "start_time": "2023-11-10T12:20:57.999Z"
   },
   {
    "duration": 49,
    "start_time": "2023-11-10T12:21:04.886Z"
   },
   {
    "duration": 176,
    "start_time": "2023-11-10T12:21:06.290Z"
   },
   {
    "duration": 277,
    "start_time": "2023-11-10T12:21:16.670Z"
   },
   {
    "duration": 83,
    "start_time": "2023-11-10T12:21:17.371Z"
   },
   {
    "duration": 203,
    "start_time": "2023-11-10T12:32:18.710Z"
   },
   {
    "duration": 101,
    "start_time": "2023-11-10T12:35:33.867Z"
   },
   {
    "duration": 311,
    "start_time": "2023-11-10T12:40:13.183Z"
   },
   {
    "duration": 97,
    "start_time": "2023-11-10T12:40:20.283Z"
   },
   {
    "duration": 85,
    "start_time": "2023-11-10T12:40:39.477Z"
   },
   {
    "duration": 91,
    "start_time": "2023-11-10T12:41:40.183Z"
   },
   {
    "duration": 371,
    "start_time": "2023-11-10T12:42:35.878Z"
   },
   {
    "duration": 284,
    "start_time": "2023-11-10T12:43:18.105Z"
   },
   {
    "duration": 103,
    "start_time": "2023-11-10T12:43:34.074Z"
   },
   {
    "duration": 123,
    "start_time": "2023-11-10T12:45:20.388Z"
   },
   {
    "duration": 280,
    "start_time": "2023-11-10T12:45:54.292Z"
   },
   {
    "duration": 90,
    "start_time": "2023-11-10T12:46:43.711Z"
   },
   {
    "duration": 114,
    "start_time": "2023-11-10T12:50:46.102Z"
   },
   {
    "duration": 25,
    "start_time": "2023-11-10T12:54:41.463Z"
   },
   {
    "duration": 82,
    "start_time": "2023-11-10T12:54:44.835Z"
   },
   {
    "duration": 1555,
    "start_time": "2023-11-10T12:54:58.339Z"
   },
   {
    "duration": 1092,
    "start_time": "2023-11-10T12:55:00.857Z"
   },
   {
    "duration": 1790,
    "start_time": "2023-11-10T12:55:01.951Z"
   },
   {
    "duration": 41,
    "start_time": "2023-11-10T12:55:04.593Z"
   },
   {
    "duration": 20,
    "start_time": "2023-11-10T12:55:05.980Z"
   },
   {
    "duration": 11,
    "start_time": "2023-11-10T12:55:08.001Z"
   },
   {
    "duration": 41,
    "start_time": "2023-11-10T12:55:10.092Z"
   },
   {
    "duration": 150,
    "start_time": "2023-11-10T12:55:11.124Z"
   },
   {
    "duration": 100,
    "start_time": "2023-11-10T12:57:32.584Z"
   },
   {
    "duration": 12,
    "start_time": "2023-11-10T12:57:37.889Z"
   },
   {
    "duration": 24,
    "start_time": "2023-11-10T12:57:47.361Z"
   },
   {
    "duration": 63,
    "start_time": "2023-11-10T12:57:48.999Z"
   },
   {
    "duration": 14,
    "start_time": "2023-11-10T12:57:50.021Z"
   },
   {
    "duration": 54,
    "start_time": "2023-11-10T12:57:54.940Z"
   },
   {
    "duration": 506,
    "start_time": "2023-11-10T12:58:06.945Z"
   },
   {
    "duration": 31,
    "start_time": "2023-11-10T12:58:14.117Z"
   },
   {
    "duration": 48,
    "start_time": "2023-11-10T13:02:07.469Z"
   },
   {
    "duration": 236,
    "start_time": "2023-11-10T13:02:11.894Z"
   },
   {
    "duration": 19,
    "start_time": "2023-11-10T13:02:57.574Z"
   },
   {
    "duration": 42,
    "start_time": "2023-11-10T13:03:05.549Z"
   },
   {
    "duration": 79,
    "start_time": "2023-11-10T13:03:46.671Z"
   },
   {
    "duration": 42,
    "start_time": "2023-11-10T13:03:55.750Z"
   },
   {
    "duration": 306,
    "start_time": "2023-11-10T13:03:59.290Z"
   },
   {
    "duration": 213,
    "start_time": "2023-11-10T13:04:09.147Z"
   },
   {
    "duration": 30,
    "start_time": "2023-11-10T13:04:52.924Z"
   },
   {
    "duration": 156,
    "start_time": "2023-11-10T13:09:04.476Z"
   },
   {
    "duration": 2798,
    "start_time": "2023-11-10T13:10:16.758Z"
   },
   {
    "duration": 23,
    "start_time": "2023-11-10T13:10:43.360Z"
   },
   {
    "duration": 2908,
    "start_time": "2023-11-10T13:12:24.056Z"
   },
   {
    "duration": 39,
    "start_time": "2023-11-10T13:12:28.904Z"
   },
   {
    "duration": 118,
    "start_time": "2023-11-10T13:13:34.657Z"
   },
   {
    "duration": 6,
    "start_time": "2023-11-10T13:14:36.378Z"
   },
   {
    "duration": 28,
    "start_time": "2023-11-10T13:14:59.190Z"
   },
   {
    "duration": 9,
    "start_time": "2023-11-10T13:15:34.758Z"
   },
   {
    "duration": 9,
    "start_time": "2023-11-10T13:15:36.253Z"
   },
   {
    "duration": 9,
    "start_time": "2023-11-10T13:16:41.030Z"
   },
   {
    "duration": 8,
    "start_time": "2023-11-10T13:16:56.986Z"
   },
   {
    "duration": 9,
    "start_time": "2023-11-10T13:17:10.288Z"
   },
   {
    "duration": 9,
    "start_time": "2023-11-10T13:17:58.271Z"
   },
   {
    "duration": 8,
    "start_time": "2023-11-10T13:17:59.280Z"
   },
   {
    "duration": 1418,
    "start_time": "2023-11-10T13:18:11.875Z"
   },
   {
    "duration": 956,
    "start_time": "2023-11-10T13:18:13.295Z"
   },
   {
    "duration": 1872,
    "start_time": "2023-11-10T13:18:15.067Z"
   },
   {
    "duration": 36,
    "start_time": "2023-11-10T13:18:16.941Z"
   },
   {
    "duration": 30,
    "start_time": "2023-11-10T13:18:16.978Z"
   },
   {
    "duration": 10,
    "start_time": "2023-11-10T13:18:17.010Z"
   },
   {
    "duration": 48,
    "start_time": "2023-11-10T13:18:17.022Z"
   },
   {
    "duration": 190,
    "start_time": "2023-11-10T13:18:17.490Z"
   },
   {
    "duration": 34,
    "start_time": "2023-11-10T13:18:18.152Z"
   },
   {
    "duration": 55,
    "start_time": "2023-11-10T13:18:19.327Z"
   },
   {
    "duration": 10,
    "start_time": "2023-11-10T13:18:20.054Z"
   },
   {
    "duration": 62,
    "start_time": "2023-11-10T13:18:21.110Z"
   },
   {
    "duration": 478,
    "start_time": "2023-11-10T13:18:23.839Z"
   },
   {
    "duration": 22,
    "start_time": "2023-11-10T13:18:24.777Z"
   },
   {
    "duration": 48,
    "start_time": "2023-11-10T13:18:27.851Z"
   },
   {
    "duration": 247,
    "start_time": "2023-11-10T13:18:30.454Z"
   },
   {
    "duration": 20,
    "start_time": "2023-11-10T13:18:30.852Z"
   },
   {
    "duration": 54,
    "start_time": "2023-11-10T13:18:31.385Z"
   },
   {
    "duration": 294,
    "start_time": "2023-11-10T13:18:32.151Z"
   },
   {
    "duration": 194,
    "start_time": "2023-11-10T13:18:32.953Z"
   },
   {
    "duration": 30,
    "start_time": "2023-11-10T13:18:34.303Z"
   },
   {
    "duration": 6,
    "start_time": "2023-11-10T13:18:34.953Z"
   },
   {
    "duration": 24,
    "start_time": "2023-11-10T13:18:35.154Z"
   },
   {
    "duration": 18,
    "start_time": "2023-11-10T13:19:28.202Z"
   },
   {
    "duration": 11,
    "start_time": "2023-11-10T13:19:29.880Z"
   },
   {
    "duration": 9,
    "start_time": "2023-11-10T13:20:25.087Z"
   },
   {
    "duration": 31,
    "start_time": "2023-11-10T13:20:33.035Z"
   },
   {
    "duration": 11,
    "start_time": "2023-11-10T13:21:03.858Z"
   },
   {
    "duration": 7,
    "start_time": "2023-11-10T13:21:30.815Z"
   },
   {
    "duration": 67,
    "start_time": "2023-11-10T13:21:32.878Z"
   },
   {
    "duration": 12,
    "start_time": "2023-11-10T13:21:49.190Z"
   },
   {
    "duration": 11,
    "start_time": "2023-11-10T13:22:03.832Z"
   },
   {
    "duration": 4,
    "start_time": "2023-11-10T13:22:14.824Z"
   },
   {
    "duration": 8,
    "start_time": "2023-11-10T13:22:27.663Z"
   },
   {
    "duration": 14,
    "start_time": "2023-11-10T13:22:32.811Z"
   },
   {
    "duration": 5,
    "start_time": "2023-11-10T13:22:42.935Z"
   },
   {
    "duration": 18,
    "start_time": "2023-11-10T13:22:56.974Z"
   },
   {
    "duration": 12,
    "start_time": "2023-11-10T13:25:56.784Z"
   },
   {
    "duration": 19,
    "start_time": "2023-11-10T13:25:57.984Z"
   },
   {
    "duration": 1358,
    "start_time": "2023-11-10T13:26:31.291Z"
   },
   {
    "duration": 867,
    "start_time": "2023-11-10T13:26:32.652Z"
   },
   {
    "duration": 1581,
    "start_time": "2023-11-10T13:26:33.520Z"
   },
   {
    "duration": 36,
    "start_time": "2023-11-10T13:26:35.104Z"
   },
   {
    "duration": 19,
    "start_time": "2023-11-10T13:26:35.142Z"
   },
   {
    "duration": 19,
    "start_time": "2023-11-10T13:26:35.163Z"
   },
   {
    "duration": 53,
    "start_time": "2023-11-10T13:26:35.183Z"
   },
   {
    "duration": 144,
    "start_time": "2023-11-10T13:26:35.238Z"
   },
   {
    "duration": 48,
    "start_time": "2023-11-10T13:26:35.384Z"
   },
   {
    "duration": 54,
    "start_time": "2023-11-10T13:26:35.434Z"
   },
   {
    "duration": 19,
    "start_time": "2023-11-10T13:26:35.489Z"
   },
   {
    "duration": 54,
    "start_time": "2023-11-10T13:26:35.510Z"
   },
   {
    "duration": 468,
    "start_time": "2023-11-10T13:26:35.566Z"
   },
   {
    "duration": 31,
    "start_time": "2023-11-10T13:26:36.036Z"
   },
   {
    "duration": 69,
    "start_time": "2023-11-10T13:26:36.069Z"
   },
   {
    "duration": 231,
    "start_time": "2023-11-10T13:26:36.140Z"
   },
   {
    "duration": 20,
    "start_time": "2023-11-10T13:26:36.373Z"
   },
   {
    "duration": 45,
    "start_time": "2023-11-10T13:26:38.824Z"
   },
   {
    "duration": 286,
    "start_time": "2023-11-10T13:26:39.031Z"
   },
   {
    "duration": 203,
    "start_time": "2023-11-10T13:26:39.319Z"
   },
   {
    "duration": 24,
    "start_time": "2023-11-10T13:26:39.724Z"
   },
   {
    "duration": 10,
    "start_time": "2023-11-10T13:26:40.607Z"
   },
   {
    "duration": 9,
    "start_time": "2023-11-10T13:26:43.259Z"
   },
   {
    "duration": 12,
    "start_time": "2023-11-10T13:27:12.364Z"
   },
   {
    "duration": 11,
    "start_time": "2023-11-10T13:27:28.255Z"
   },
   {
    "duration": 34,
    "start_time": "2023-11-10T13:27:47.860Z"
   },
   {
    "duration": 37,
    "start_time": "2023-11-10T13:28:31.832Z"
   },
   {
    "duration": 5,
    "start_time": "2023-11-10T13:30:03.861Z"
   },
   {
    "duration": 6,
    "start_time": "2023-11-10T13:31:07.655Z"
   },
   {
    "duration": 5,
    "start_time": "2023-11-10T13:31:22.353Z"
   },
   {
    "duration": 6,
    "start_time": "2023-11-10T13:31:30.920Z"
   },
   {
    "duration": 2712,
    "start_time": "2023-11-10T13:32:08.700Z"
   },
   {
    "duration": 204,
    "start_time": "2023-11-10T13:32:17.701Z"
   },
   {
    "duration": 247,
    "start_time": "2023-11-10T13:33:54.184Z"
   },
   {
    "duration": 5,
    "start_time": "2023-11-10T13:34:24.925Z"
   },
   {
    "duration": 11,
    "start_time": "2023-11-10T13:34:34.897Z"
   },
   {
    "duration": 164,
    "start_time": "2023-11-10T13:35:07.355Z"
   },
   {
    "duration": 341,
    "start_time": "2023-11-10T13:35:14.129Z"
   },
   {
    "duration": 242,
    "start_time": "2023-11-10T13:35:18.266Z"
   },
   {
    "duration": 1628,
    "start_time": "2023-11-10T14:23:15.916Z"
   },
   {
    "duration": 1001,
    "start_time": "2023-11-10T14:23:17.546Z"
   },
   {
    "duration": 1742,
    "start_time": "2023-11-10T14:23:18.549Z"
   },
   {
    "duration": 55,
    "start_time": "2023-11-10T14:23:20.293Z"
   },
   {
    "duration": 17,
    "start_time": "2023-11-10T14:23:20.351Z"
   },
   {
    "duration": 13,
    "start_time": "2023-11-10T14:23:20.369Z"
   },
   {
    "duration": 68,
    "start_time": "2023-11-10T14:23:20.383Z"
   },
   {
    "duration": 150,
    "start_time": "2023-11-10T14:23:20.453Z"
   },
   {
    "duration": 52,
    "start_time": "2023-11-10T14:23:20.604Z"
   },
   {
    "duration": 82,
    "start_time": "2023-11-10T14:23:20.658Z"
   },
   {
    "duration": 11,
    "start_time": "2023-11-10T14:23:20.742Z"
   },
   {
    "duration": 89,
    "start_time": "2023-11-10T14:23:20.755Z"
   },
   {
    "duration": 507,
    "start_time": "2023-11-10T14:23:20.845Z"
   },
   {
    "duration": 24,
    "start_time": "2023-11-10T14:23:21.355Z"
   },
   {
    "duration": 74,
    "start_time": "2023-11-10T14:23:21.381Z"
   },
   {
    "duration": 278,
    "start_time": "2023-11-10T14:23:21.457Z"
   },
   {
    "duration": 18,
    "start_time": "2023-11-10T14:23:21.738Z"
   },
   {
    "duration": 61,
    "start_time": "2023-11-10T14:23:21.758Z"
   },
   {
    "duration": 316,
    "start_time": "2023-11-10T14:23:21.822Z"
   },
   {
    "duration": 210,
    "start_time": "2023-11-10T14:23:22.140Z"
   },
   {
    "duration": 28,
    "start_time": "2023-11-10T14:23:22.352Z"
   },
   {
    "duration": 9,
    "start_time": "2023-11-10T14:23:22.382Z"
   },
   {
    "duration": 9,
    "start_time": "2023-11-10T14:23:22.410Z"
   },
   {
    "duration": 339,
    "start_time": "2023-11-10T14:23:22.421Z"
   },
   {
    "duration": 181,
    "start_time": "2023-11-10T14:23:22.762Z"
   },
   {
    "duration": 444,
    "start_time": "2023-11-10T14:23:22.945Z"
   },
   {
    "duration": 157,
    "start_time": "2023-11-10T14:23:23.391Z"
   },
   {
    "duration": 310,
    "start_time": "2023-11-10T14:23:23.549Z"
   },
   {
    "duration": 290,
    "start_time": "2023-11-10T14:23:23.861Z"
   },
   {
    "duration": 306,
    "start_time": "2023-11-10T14:23:24.153Z"
   },
   {
    "duration": 106,
    "start_time": "2023-11-10T14:23:24.463Z"
   },
   {
    "duration": 132,
    "start_time": "2023-11-10T14:23:24.570Z"
   },
   {
    "duration": 5,
    "start_time": "2023-11-10T14:27:40.229Z"
   },
   {
    "duration": 333,
    "start_time": "2023-11-10T14:29:21.197Z"
   },
   {
    "duration": 319,
    "start_time": "2023-11-10T14:30:58.633Z"
   },
   {
    "duration": 241,
    "start_time": "2023-11-10T14:31:01.477Z"
   },
   {
    "duration": 85,
    "start_time": "2023-11-10T14:31:02.296Z"
   },
   {
    "duration": 84,
    "start_time": "2023-11-10T14:31:08.284Z"
   },
   {
    "duration": 5,
    "start_time": "2023-11-10T14:31:09.261Z"
   },
   {
    "duration": 19,
    "start_time": "2023-11-10T14:31:59.535Z"
   },
   {
    "duration": 20,
    "start_time": "2023-11-10T14:32:14.758Z"
   },
   {
    "duration": 21,
    "start_time": "2023-11-10T14:35:43.406Z"
   },
   {
    "duration": 9,
    "start_time": "2023-11-10T14:36:30.460Z"
   },
   {
    "duration": 9,
    "start_time": "2023-11-10T14:36:38.115Z"
   },
   {
    "duration": 38,
    "start_time": "2023-11-10T14:36:43.711Z"
   },
   {
    "duration": 26,
    "start_time": "2023-11-10T14:37:31.955Z"
   },
   {
    "duration": 27,
    "start_time": "2023-11-10T14:37:41.162Z"
   },
   {
    "duration": 6191,
    "start_time": "2023-11-10T14:42:22.225Z"
   },
   {
    "duration": 33,
    "start_time": "2023-11-10T14:42:32.644Z"
   },
   {
    "duration": 99,
    "start_time": "2023-11-10T14:42:38.008Z"
   },
   {
    "duration": 1360,
    "start_time": "2023-11-10T14:43:24.533Z"
   },
   {
    "duration": 879,
    "start_time": "2023-11-10T14:43:25.896Z"
   },
   {
    "duration": 1542,
    "start_time": "2023-11-10T14:43:26.777Z"
   },
   {
    "duration": 36,
    "start_time": "2023-11-10T14:43:28.321Z"
   },
   {
    "duration": 17,
    "start_time": "2023-11-10T14:43:28.358Z"
   },
   {
    "duration": 18,
    "start_time": "2023-11-10T14:43:28.377Z"
   },
   {
    "duration": 36,
    "start_time": "2023-11-10T14:43:28.408Z"
   },
   {
    "duration": 141,
    "start_time": "2023-11-10T14:43:28.446Z"
   },
   {
    "duration": 45,
    "start_time": "2023-11-10T14:43:28.588Z"
   },
   {
    "duration": 52,
    "start_time": "2023-11-10T14:43:28.636Z"
   },
   {
    "duration": 25,
    "start_time": "2023-11-10T14:43:28.690Z"
   },
   {
    "duration": 77,
    "start_time": "2023-11-10T14:43:28.717Z"
   },
   {
    "duration": 396,
    "start_time": "2023-11-10T14:43:28.796Z"
   },
   {
    "duration": 23,
    "start_time": "2023-11-10T14:43:29.193Z"
   },
   {
    "duration": 62,
    "start_time": "2023-11-10T14:43:29.218Z"
   },
   {
    "duration": 223,
    "start_time": "2023-11-10T14:43:29.282Z"
   },
   {
    "duration": 18,
    "start_time": "2023-11-10T14:43:29.506Z"
   },
   {
    "duration": 43,
    "start_time": "2023-11-10T14:43:29.526Z"
   },
   {
    "duration": 294,
    "start_time": "2023-11-10T14:43:29.570Z"
   },
   {
    "duration": 196,
    "start_time": "2023-11-10T14:43:29.865Z"
   },
   {
    "duration": 24,
    "start_time": "2023-11-10T14:43:30.063Z"
   },
   {
    "duration": 52,
    "start_time": "2023-11-10T14:43:30.088Z"
   },
   {
    "duration": 26,
    "start_time": "2023-11-10T14:43:30.142Z"
   },
   {
    "duration": 275,
    "start_time": "2023-11-10T14:43:30.169Z"
   },
   {
    "duration": 178,
    "start_time": "2023-11-10T14:43:30.446Z"
   },
   {
    "duration": 381,
    "start_time": "2023-11-10T14:43:30.626Z"
   },
   {
    "duration": 87,
    "start_time": "2023-11-10T14:43:31.009Z"
   },
   {
    "duration": 499,
    "start_time": "2023-11-10T14:43:31.099Z"
   },
   {
    "duration": 271,
    "start_time": "2023-11-10T14:43:31.600Z"
   },
   {
    "duration": 336,
    "start_time": "2023-11-10T14:43:31.873Z"
   },
   {
    "duration": 28,
    "start_time": "2023-11-10T14:43:32.211Z"
   },
   {
    "duration": 403,
    "start_time": "2023-11-10T14:43:32.241Z"
   },
   {
    "duration": 0,
    "start_time": "2023-11-10T14:43:32.646Z"
   },
   {
    "duration": 0,
    "start_time": "2023-11-10T14:43:32.647Z"
   },
   {
    "duration": 135,
    "start_time": "2023-11-10T14:43:46.645Z"
   },
   {
    "duration": 289,
    "start_time": "2023-11-10T14:44:34.950Z"
   },
   {
    "duration": 143,
    "start_time": "2023-11-10T14:44:45.363Z"
   },
   {
    "duration": 1068,
    "start_time": "2023-11-10T14:48:02.541Z"
   },
   {
    "duration": 85,
    "start_time": "2023-11-10T14:48:25.594Z"
   },
   {
    "duration": 1640,
    "start_time": "2023-11-10T14:55:02.496Z"
   },
   {
    "duration": 948,
    "start_time": "2023-11-10T14:55:06.134Z"
   },
   {
    "duration": 1540,
    "start_time": "2023-11-10T14:55:07.083Z"
   },
   {
    "duration": 31,
    "start_time": "2023-11-10T14:55:08.624Z"
   },
   {
    "duration": 19,
    "start_time": "2023-11-10T14:55:09.568Z"
   },
   {
    "duration": 6,
    "start_time": "2023-11-10T14:55:10.184Z"
   },
   {
    "duration": 32,
    "start_time": "2023-11-10T14:55:11.338Z"
   },
   {
    "duration": 132,
    "start_time": "2023-11-10T14:55:11.876Z"
   },
   {
    "duration": 40,
    "start_time": "2023-11-10T14:55:13.632Z"
   },
   {
    "duration": 48,
    "start_time": "2023-11-10T14:55:17.058Z"
   },
   {
    "duration": 10,
    "start_time": "2023-11-10T14:55:17.823Z"
   },
   {
    "duration": 50,
    "start_time": "2023-11-10T14:55:18.304Z"
   },
   {
    "duration": 417,
    "start_time": "2023-11-10T14:55:18.792Z"
   },
   {
    "duration": 23,
    "start_time": "2023-11-10T14:55:19.211Z"
   },
   {
    "duration": 46,
    "start_time": "2023-11-10T14:55:19.464Z"
   },
   {
    "duration": 224,
    "start_time": "2023-11-10T14:55:19.660Z"
   },
   {
    "duration": 19,
    "start_time": "2023-11-10T14:55:19.916Z"
   },
   {
    "duration": 50,
    "start_time": "2023-11-10T14:55:20.700Z"
   },
   {
    "duration": 271,
    "start_time": "2023-11-10T14:55:20.928Z"
   },
   {
    "duration": 192,
    "start_time": "2023-11-10T14:55:21.207Z"
   },
   {
    "duration": 31,
    "start_time": "2023-11-10T14:55:21.401Z"
   },
   {
    "duration": 10,
    "start_time": "2023-11-10T14:55:21.784Z"
   },
   {
    "duration": 4,
    "start_time": "2023-11-10T14:55:22.459Z"
   },
   {
    "duration": 248,
    "start_time": "2023-11-10T14:55:22.672Z"
   },
   {
    "duration": 156,
    "start_time": "2023-11-10T14:55:22.922Z"
   },
   {
    "duration": 386,
    "start_time": "2023-11-10T14:55:23.701Z"
   },
   {
    "duration": 86,
    "start_time": "2023-11-10T14:55:24.108Z"
   },
   {
    "duration": 275,
    "start_time": "2023-11-10T14:55:25.850Z"
   },
   {
    "duration": 827,
    "start_time": "2023-11-10T14:55:26.764Z"
   },
   {
    "duration": 1013,
    "start_time": "2023-11-10T14:56:13.713Z"
   },
   {
    "duration": 336,
    "start_time": "2023-11-10T14:57:28.572Z"
   },
   {
    "duration": 601,
    "start_time": "2023-11-10T14:57:33.353Z"
   },
   {
    "duration": 1061,
    "start_time": "2023-11-10T14:57:36.163Z"
   },
   {
    "duration": 28,
    "start_time": "2023-11-10T14:57:38.169Z"
   },
   {
    "duration": 1019,
    "start_time": "2023-11-10T14:57:39.817Z"
   },
   {
    "duration": 85,
    "start_time": "2023-11-10T14:57:40.838Z"
   },
   {
    "duration": 1360,
    "start_time": "2023-11-10T14:57:48.662Z"
   },
   {
    "duration": 894,
    "start_time": "2023-11-10T14:57:50.024Z"
   },
   {
    "duration": 1513,
    "start_time": "2023-11-10T14:57:50.919Z"
   },
   {
    "duration": 35,
    "start_time": "2023-11-10T14:57:52.433Z"
   },
   {
    "duration": 17,
    "start_time": "2023-11-10T14:57:52.470Z"
   },
   {
    "duration": 27,
    "start_time": "2023-11-10T14:57:52.489Z"
   },
   {
    "duration": 68,
    "start_time": "2023-11-10T14:57:52.518Z"
   },
   {
    "duration": 156,
    "start_time": "2023-11-10T14:57:52.587Z"
   },
   {
    "duration": 37,
    "start_time": "2023-11-10T14:57:52.744Z"
   },
   {
    "duration": 69,
    "start_time": "2023-11-10T14:57:52.783Z"
   },
   {
    "duration": 10,
    "start_time": "2023-11-10T14:57:52.854Z"
   },
   {
    "duration": 72,
    "start_time": "2023-11-10T14:57:52.865Z"
   },
   {
    "duration": 431,
    "start_time": "2023-11-10T14:57:52.939Z"
   },
   {
    "duration": 34,
    "start_time": "2023-11-10T14:57:53.373Z"
   },
   {
    "duration": 53,
    "start_time": "2023-11-10T14:57:53.409Z"
   },
   {
    "duration": 237,
    "start_time": "2023-11-10T14:57:53.464Z"
   },
   {
    "duration": 19,
    "start_time": "2023-11-10T14:57:53.707Z"
   },
   {
    "duration": 48,
    "start_time": "2023-11-10T14:57:53.728Z"
   },
   {
    "duration": 296,
    "start_time": "2023-11-10T14:57:53.777Z"
   },
   {
    "duration": 191,
    "start_time": "2023-11-10T14:57:54.075Z"
   },
   {
    "duration": 25,
    "start_time": "2023-11-10T14:57:54.268Z"
   },
   {
    "duration": 11,
    "start_time": "2023-11-10T14:57:54.306Z"
   },
   {
    "duration": 22,
    "start_time": "2023-11-10T14:57:54.318Z"
   },
   {
    "duration": 265,
    "start_time": "2023-11-10T14:57:54.342Z"
   },
   {
    "duration": 175,
    "start_time": "2023-11-10T14:57:54.608Z"
   },
   {
    "duration": 383,
    "start_time": "2023-11-10T14:57:54.785Z"
   },
   {
    "duration": 96,
    "start_time": "2023-11-10T14:57:55.169Z"
   },
   {
    "duration": 321,
    "start_time": "2023-11-10T14:57:55.267Z"
   },
   {
    "duration": 542,
    "start_time": "2023-11-10T14:57:55.590Z"
   },
   {
    "duration": 1107,
    "start_time": "2023-11-10T14:57:56.134Z"
   },
   {
    "duration": 28,
    "start_time": "2023-11-10T14:57:57.242Z"
   },
   {
    "duration": 1040,
    "start_time": "2023-11-10T14:57:57.271Z"
   },
   {
    "duration": 84,
    "start_time": "2023-11-10T14:57:58.312Z"
   },
   {
    "duration": 29,
    "start_time": "2023-11-10T14:57:58.407Z"
   },
   {
    "duration": 1256,
    "start_time": "2023-11-10T14:58:38.557Z"
   },
   {
    "duration": 828,
    "start_time": "2023-11-10T14:58:39.814Z"
   },
   {
    "duration": 1466,
    "start_time": "2023-11-10T14:58:40.644Z"
   },
   {
    "duration": 33,
    "start_time": "2023-11-10T14:58:42.112Z"
   },
   {
    "duration": 16,
    "start_time": "2023-11-10T14:58:42.147Z"
   },
   {
    "duration": 5,
    "start_time": "2023-11-10T14:58:42.164Z"
   },
   {
    "duration": 59,
    "start_time": "2023-11-10T14:58:42.170Z"
   },
   {
    "duration": 134,
    "start_time": "2023-11-10T14:58:42.230Z"
   },
   {
    "duration": 45,
    "start_time": "2023-11-10T14:58:42.365Z"
   },
   {
    "duration": 53,
    "start_time": "2023-11-10T14:58:42.411Z"
   },
   {
    "duration": 11,
    "start_time": "2023-11-10T14:58:42.465Z"
   },
   {
    "duration": 74,
    "start_time": "2023-11-10T14:58:42.477Z"
   },
   {
    "duration": 446,
    "start_time": "2023-11-10T14:58:42.553Z"
   },
   {
    "duration": 23,
    "start_time": "2023-11-10T14:58:43.002Z"
   },
   {
    "duration": 44,
    "start_time": "2023-11-10T14:58:43.027Z"
   },
   {
    "duration": 236,
    "start_time": "2023-11-10T14:58:43.072Z"
   },
   {
    "duration": 19,
    "start_time": "2023-11-10T14:58:43.310Z"
   },
   {
    "duration": 45,
    "start_time": "2023-11-10T14:58:43.331Z"
   },
   {
    "duration": 274,
    "start_time": "2023-11-10T14:58:43.377Z"
   },
   {
    "duration": 181,
    "start_time": "2023-11-10T14:58:43.653Z"
   },
   {
    "duration": 23,
    "start_time": "2023-11-10T14:58:43.836Z"
   },
   {
    "duration": 14,
    "start_time": "2023-11-10T14:58:43.860Z"
   },
   {
    "duration": 4,
    "start_time": "2023-11-10T14:58:43.876Z"
   },
   {
    "duration": 276,
    "start_time": "2023-11-10T14:58:43.882Z"
   },
   {
    "duration": 169,
    "start_time": "2023-11-10T14:58:44.160Z"
   },
   {
    "duration": 353,
    "start_time": "2023-11-10T14:58:44.331Z"
   },
   {
    "duration": 90,
    "start_time": "2023-11-10T14:58:44.686Z"
   },
   {
    "duration": 1377,
    "start_time": "2023-11-10T14:58:44.778Z"
   },
   {
    "duration": 0,
    "start_time": "2023-11-10T14:58:46.157Z"
   },
   {
    "duration": 0,
    "start_time": "2023-11-10T14:58:46.158Z"
   },
   {
    "duration": 0,
    "start_time": "2023-11-10T14:58:46.160Z"
   },
   {
    "duration": 0,
    "start_time": "2023-11-10T14:58:46.162Z"
   },
   {
    "duration": 0,
    "start_time": "2023-11-10T14:58:46.163Z"
   },
   {
    "duration": 0,
    "start_time": "2023-11-10T14:58:46.165Z"
   },
   {
    "duration": 1414,
    "start_time": "2023-11-10T15:00:10.431Z"
   },
   {
    "duration": 845,
    "start_time": "2023-11-10T15:00:11.847Z"
   },
   {
    "duration": 1487,
    "start_time": "2023-11-10T15:00:12.694Z"
   },
   {
    "duration": 34,
    "start_time": "2023-11-10T15:00:14.182Z"
   },
   {
    "duration": 17,
    "start_time": "2023-11-10T15:00:14.218Z"
   },
   {
    "duration": 41,
    "start_time": "2023-11-10T15:00:14.236Z"
   },
   {
    "duration": 54,
    "start_time": "2023-11-10T15:00:14.278Z"
   },
   {
    "duration": 134,
    "start_time": "2023-11-10T15:00:14.333Z"
   },
   {
    "duration": 46,
    "start_time": "2023-11-10T15:00:14.469Z"
   },
   {
    "duration": 52,
    "start_time": "2023-11-10T15:00:14.517Z"
   },
   {
    "duration": 12,
    "start_time": "2023-11-10T15:00:14.570Z"
   },
   {
    "duration": 77,
    "start_time": "2023-11-10T15:00:14.583Z"
   },
   {
    "duration": 430,
    "start_time": "2023-11-10T15:00:14.662Z"
   },
   {
    "duration": 28,
    "start_time": "2023-11-10T15:00:15.096Z"
   },
   {
    "duration": 73,
    "start_time": "2023-11-10T15:00:15.126Z"
   },
   {
    "duration": 227,
    "start_time": "2023-11-10T15:00:15.201Z"
   },
   {
    "duration": 20,
    "start_time": "2023-11-10T15:00:15.430Z"
   },
   {
    "duration": 78,
    "start_time": "2023-11-10T15:00:15.452Z"
   },
   {
    "duration": 267,
    "start_time": "2023-11-10T15:00:15.531Z"
   },
   {
    "duration": 201,
    "start_time": "2023-11-10T15:00:15.799Z"
   },
   {
    "duration": 34,
    "start_time": "2023-11-10T15:00:16.002Z"
   },
   {
    "duration": 10,
    "start_time": "2023-11-10T15:00:16.038Z"
   },
   {
    "duration": 25,
    "start_time": "2023-11-10T15:00:16.050Z"
   },
   {
    "duration": 304,
    "start_time": "2023-11-10T15:00:16.077Z"
   },
   {
    "duration": 166,
    "start_time": "2023-11-10T15:00:16.382Z"
   },
   {
    "duration": 371,
    "start_time": "2023-11-10T15:00:16.550Z"
   },
   {
    "duration": 95,
    "start_time": "2023-11-10T15:00:16.922Z"
   },
   {
    "duration": 321,
    "start_time": "2023-11-10T15:00:17.019Z"
   },
   {
    "duration": 480,
    "start_time": "2023-11-10T15:00:17.342Z"
   },
   {
    "duration": 1074,
    "start_time": "2023-11-10T15:00:17.823Z"
   },
   {
    "duration": 28,
    "start_time": "2023-11-10T15:00:18.899Z"
   },
   {
    "duration": 1004,
    "start_time": "2023-11-10T15:00:18.928Z"
   },
   {
    "duration": 86,
    "start_time": "2023-11-10T15:00:19.934Z"
   },
   {
    "duration": 81,
    "start_time": "2023-11-10T15:00:20.022Z"
   },
   {
    "duration": 1651,
    "start_time": "2023-11-13T15:57:21.767Z"
   },
   {
    "duration": 1139,
    "start_time": "2023-11-13T15:57:23.420Z"
   },
   {
    "duration": 1616,
    "start_time": "2023-11-13T15:57:24.560Z"
   },
   {
    "duration": 33,
    "start_time": "2023-11-13T15:57:26.177Z"
   },
   {
    "duration": 17,
    "start_time": "2023-11-13T15:57:26.212Z"
   },
   {
    "duration": 11,
    "start_time": "2023-11-13T15:57:26.230Z"
   },
   {
    "duration": 55,
    "start_time": "2023-11-13T15:57:26.243Z"
   },
   {
    "duration": 154,
    "start_time": "2023-11-13T15:57:26.300Z"
   },
   {
    "duration": 35,
    "start_time": "2023-11-13T15:57:26.465Z"
   },
   {
    "duration": 75,
    "start_time": "2023-11-13T15:57:26.502Z"
   },
   {
    "duration": 10,
    "start_time": "2023-11-13T15:57:26.579Z"
   },
   {
    "duration": 76,
    "start_time": "2023-11-13T15:57:26.591Z"
   },
   {
    "duration": 484,
    "start_time": "2023-11-13T15:57:26.668Z"
   },
   {
    "duration": 29,
    "start_time": "2023-11-13T15:57:27.155Z"
   },
   {
    "duration": 45,
    "start_time": "2023-11-13T15:57:27.185Z"
   },
   {
    "duration": 266,
    "start_time": "2023-11-13T15:57:27.232Z"
   },
   {
    "duration": 20,
    "start_time": "2023-11-13T15:57:27.499Z"
   },
   {
    "duration": 59,
    "start_time": "2023-11-13T15:57:27.520Z"
   },
   {
    "duration": 300,
    "start_time": "2023-11-13T15:57:27.581Z"
   },
   {
    "duration": 204,
    "start_time": "2023-11-13T15:57:27.882Z"
   },
   {
    "duration": 23,
    "start_time": "2023-11-13T15:57:28.088Z"
   },
   {
    "duration": 8,
    "start_time": "2023-11-13T15:57:28.113Z"
   },
   {
    "duration": 25,
    "start_time": "2023-11-13T15:57:28.123Z"
   },
   {
    "duration": 273,
    "start_time": "2023-11-13T15:57:28.149Z"
   },
   {
    "duration": 189,
    "start_time": "2023-11-13T15:57:28.424Z"
   },
   {
    "duration": 432,
    "start_time": "2023-11-13T15:57:28.614Z"
   },
   {
    "duration": 100,
    "start_time": "2023-11-13T15:57:29.048Z"
   },
   {
    "duration": 356,
    "start_time": "2023-11-13T15:57:29.150Z"
   },
   {
    "duration": 540,
    "start_time": "2023-11-13T15:57:29.508Z"
   },
   {
    "duration": 1157,
    "start_time": "2023-11-13T15:57:30.050Z"
   },
   {
    "duration": 29,
    "start_time": "2023-11-13T15:57:31.209Z"
   },
   {
    "duration": 1113,
    "start_time": "2023-11-13T15:57:31.239Z"
   },
   {
    "duration": 116,
    "start_time": "2023-11-13T15:57:32.354Z"
   },
   {
    "duration": 15,
    "start_time": "2023-11-13T15:57:32.472Z"
   },
   {
    "duration": 20,
    "start_time": "2023-11-13T15:58:18.363Z"
   },
   {
    "duration": 172,
    "start_time": "2023-11-13T16:01:16.525Z"
   },
   {
    "duration": 118,
    "start_time": "2023-11-13T16:01:29.732Z"
   },
   {
    "duration": 18,
    "start_time": "2023-11-13T16:03:12.617Z"
   },
   {
    "duration": 81,
    "start_time": "2023-11-13T16:03:45.523Z"
   },
   {
    "duration": 22,
    "start_time": "2023-11-13T16:03:59.689Z"
   },
   {
    "duration": 17,
    "start_time": "2023-11-13T16:04:25.905Z"
   },
   {
    "duration": 149,
    "start_time": "2023-11-13T16:18:35.928Z"
   },
   {
    "duration": 1444,
    "start_time": "2023-11-13T16:19:07.368Z"
   },
   {
    "duration": 917,
    "start_time": "2023-11-13T16:19:08.814Z"
   },
   {
    "duration": 1594,
    "start_time": "2023-11-13T16:19:09.733Z"
   },
   {
    "duration": 37,
    "start_time": "2023-11-13T16:19:11.329Z"
   },
   {
    "duration": 17,
    "start_time": "2023-11-13T16:19:11.367Z"
   },
   {
    "duration": 5,
    "start_time": "2023-11-13T16:19:11.386Z"
   },
   {
    "duration": 51,
    "start_time": "2023-11-13T16:19:11.393Z"
   },
   {
    "duration": 159,
    "start_time": "2023-11-13T16:19:11.445Z"
   },
   {
    "duration": 40,
    "start_time": "2023-11-13T16:19:11.605Z"
   },
   {
    "duration": 69,
    "start_time": "2023-11-13T16:19:11.647Z"
   },
   {
    "duration": 11,
    "start_time": "2023-11-13T16:19:11.718Z"
   },
   {
    "duration": 71,
    "start_time": "2023-11-13T16:19:11.730Z"
   },
   {
    "duration": 464,
    "start_time": "2023-11-13T16:19:11.803Z"
   },
   {
    "duration": 23,
    "start_time": "2023-11-13T16:19:12.268Z"
   },
   {
    "duration": 47,
    "start_time": "2023-11-13T16:19:12.292Z"
   },
   {
    "duration": 279,
    "start_time": "2023-11-13T16:19:12.340Z"
   },
   {
    "duration": 22,
    "start_time": "2023-11-13T16:19:12.621Z"
   },
   {
    "duration": 66,
    "start_time": "2023-11-13T16:19:12.645Z"
   },
   {
    "duration": 297,
    "start_time": "2023-11-13T16:19:12.712Z"
   },
   {
    "duration": 208,
    "start_time": "2023-11-13T16:19:13.010Z"
   },
   {
    "duration": 25,
    "start_time": "2023-11-13T16:19:13.220Z"
   },
   {
    "duration": 26,
    "start_time": "2023-11-13T16:19:13.246Z"
   },
   {
    "duration": 5,
    "start_time": "2023-11-13T16:19:13.274Z"
   },
   {
    "duration": 263,
    "start_time": "2023-11-13T16:19:13.417Z"
   },
   {
    "duration": 185,
    "start_time": "2023-11-13T16:19:13.682Z"
   },
   {
    "duration": 373,
    "start_time": "2023-11-13T16:19:13.869Z"
   },
   {
    "duration": 99,
    "start_time": "2023-11-13T16:19:14.244Z"
   },
   {
    "duration": 329,
    "start_time": "2023-11-13T16:19:14.729Z"
   },
   {
    "duration": 516,
    "start_time": "2023-11-13T16:19:15.060Z"
   },
   {
    "duration": 1164,
    "start_time": "2023-11-13T16:19:15.578Z"
   },
   {
    "duration": 31,
    "start_time": "2023-11-13T16:19:16.745Z"
   },
   {
    "duration": 1055,
    "start_time": "2023-11-13T16:19:16.778Z"
   },
   {
    "duration": 98,
    "start_time": "2023-11-13T16:19:17.834Z"
   },
   {
    "duration": 18,
    "start_time": "2023-11-13T16:19:18.801Z"
   },
   {
    "duration": 14,
    "start_time": "2023-11-13T16:19:24.347Z"
   },
   {
    "duration": 134,
    "start_time": "2023-11-13T16:19:25.329Z"
   },
   {
    "duration": 872,
    "start_time": "2023-11-13T16:21:05.225Z"
   },
   {
    "duration": 760,
    "start_time": "2023-11-13T16:22:31.074Z"
   },
   {
    "duration": 18,
    "start_time": "2023-11-13T16:22:57.246Z"
   },
   {
    "duration": 798,
    "start_time": "2023-11-13T16:23:11.742Z"
   },
   {
    "duration": 32,
    "start_time": "2023-11-13T16:23:13.575Z"
   },
   {
    "duration": 126,
    "start_time": "2023-11-13T16:26:01.966Z"
   },
   {
    "duration": 118,
    "start_time": "2023-11-13T16:28:46.825Z"
   },
   {
    "duration": 3372,
    "start_time": "2023-11-13T16:29:01.248Z"
   },
   {
    "duration": 898,
    "start_time": "2023-11-13T16:29:04.622Z"
   },
   {
    "duration": 1667,
    "start_time": "2023-11-13T16:29:05.521Z"
   },
   {
    "duration": 31,
    "start_time": "2023-11-13T16:29:07.190Z"
   },
   {
    "duration": 18,
    "start_time": "2023-11-13T16:29:07.223Z"
   },
   {
    "duration": 24,
    "start_time": "2023-11-13T16:29:07.243Z"
   },
   {
    "duration": 35,
    "start_time": "2023-11-13T16:29:07.268Z"
   },
   {
    "duration": 174,
    "start_time": "2023-11-13T16:29:07.305Z"
   },
   {
    "duration": 36,
    "start_time": "2023-11-13T16:29:07.480Z"
   },
   {
    "duration": 56,
    "start_time": "2023-11-13T16:29:12.311Z"
   },
   {
    "duration": 11,
    "start_time": "2023-11-13T16:29:12.535Z"
   },
   {
    "duration": 54,
    "start_time": "2023-11-13T16:29:12.752Z"
   },
   {
    "duration": 471,
    "start_time": "2023-11-13T16:29:13.184Z"
   },
   {
    "duration": 26,
    "start_time": "2023-11-13T16:29:13.657Z"
   },
   {
    "duration": 49,
    "start_time": "2023-11-13T16:29:13.749Z"
   },
   {
    "duration": 247,
    "start_time": "2023-11-13T16:29:13.948Z"
   },
   {
    "duration": 21,
    "start_time": "2023-11-13T16:29:14.197Z"
   },
   {
    "duration": 48,
    "start_time": "2023-11-13T16:29:14.536Z"
   },
   {
    "duration": 282,
    "start_time": "2023-11-13T16:29:14.732Z"
   },
   {
    "duration": 216,
    "start_time": "2023-11-13T16:29:15.016Z"
   },
   {
    "duration": 35,
    "start_time": "2023-11-13T16:29:15.234Z"
   },
   {
    "duration": 9,
    "start_time": "2023-11-13T16:29:15.340Z"
   },
   {
    "duration": 5,
    "start_time": "2023-11-13T16:29:15.563Z"
   },
   {
    "duration": 281,
    "start_time": "2023-11-13T16:29:15.768Z"
   },
   {
    "duration": 196,
    "start_time": "2023-11-13T16:29:16.051Z"
   },
   {
    "duration": 407,
    "start_time": "2023-11-13T16:29:16.249Z"
   },
   {
    "duration": 108,
    "start_time": "2023-11-13T16:29:16.658Z"
   },
   {
    "duration": 356,
    "start_time": "2023-11-13T16:29:17.288Z"
   },
   {
    "duration": 532,
    "start_time": "2023-11-13T16:29:17.646Z"
   },
   {
    "duration": 1210,
    "start_time": "2023-11-13T16:29:18.180Z"
   },
   {
    "duration": 29,
    "start_time": "2023-11-13T16:29:19.392Z"
   },
   {
    "duration": 1113,
    "start_time": "2023-11-13T16:29:19.422Z"
   },
   {
    "duration": 96,
    "start_time": "2023-11-13T16:29:20.536Z"
   },
   {
    "duration": 32,
    "start_time": "2023-11-13T16:29:20.633Z"
   },
   {
    "duration": 14,
    "start_time": "2023-11-13T16:29:22.268Z"
   },
   {
    "duration": 112,
    "start_time": "2023-11-13T16:29:23.999Z"
   },
   {
    "duration": 687,
    "start_time": "2023-11-13T16:29:41.119Z"
   },
   {
    "duration": 132,
    "start_time": "2023-11-13T16:29:45.572Z"
   },
   {
    "duration": 1568,
    "start_time": "2023-11-13T16:30:43.820Z"
   },
   {
    "duration": 915,
    "start_time": "2023-11-13T16:30:45.390Z"
   },
   {
    "duration": 1630,
    "start_time": "2023-11-13T16:30:46.307Z"
   },
   {
    "duration": 55,
    "start_time": "2023-11-13T16:30:47.939Z"
   },
   {
    "duration": 18,
    "start_time": "2023-11-13T16:30:47.997Z"
   },
   {
    "duration": 5,
    "start_time": "2023-11-13T16:30:48.017Z"
   },
   {
    "duration": 60,
    "start_time": "2023-11-13T16:30:48.024Z"
   },
   {
    "duration": 158,
    "start_time": "2023-11-13T16:30:48.087Z"
   },
   {
    "duration": 45,
    "start_time": "2023-11-13T16:30:48.247Z"
   },
   {
    "duration": 61,
    "start_time": "2023-11-13T16:30:48.294Z"
   },
   {
    "duration": 12,
    "start_time": "2023-11-13T16:30:48.357Z"
   },
   {
    "duration": 59,
    "start_time": "2023-11-13T16:30:48.371Z"
   },
   {
    "duration": 528,
    "start_time": "2023-11-13T16:30:48.431Z"
   },
   {
    "duration": 33,
    "start_time": "2023-11-13T16:30:48.967Z"
   },
   {
    "duration": 66,
    "start_time": "2023-11-13T16:30:49.002Z"
   },
   {
    "duration": 263,
    "start_time": "2023-11-13T16:30:49.070Z"
   },
   {
    "duration": 34,
    "start_time": "2023-11-13T16:30:49.335Z"
   },
   {
    "duration": 63,
    "start_time": "2023-11-13T16:30:49.371Z"
   },
   {
    "duration": 313,
    "start_time": "2023-11-13T16:30:49.436Z"
   },
   {
    "duration": 234,
    "start_time": "2023-11-13T16:30:49.751Z"
   },
   {
    "duration": 24,
    "start_time": "2023-11-13T16:30:49.986Z"
   },
   {
    "duration": 10,
    "start_time": "2023-11-13T16:30:50.012Z"
   },
   {
    "duration": 29,
    "start_time": "2023-11-13T16:30:50.023Z"
   },
   {
    "duration": 303,
    "start_time": "2023-11-13T16:30:50.054Z"
   },
   {
    "duration": 196,
    "start_time": "2023-11-13T16:30:50.359Z"
   },
   {
    "duration": 416,
    "start_time": "2023-11-13T16:30:50.557Z"
   },
   {
    "duration": 104,
    "start_time": "2023-11-13T16:30:50.974Z"
   },
   {
    "duration": 370,
    "start_time": "2023-11-13T16:30:51.080Z"
   },
   {
    "duration": 559,
    "start_time": "2023-11-13T16:30:51.451Z"
   },
   {
    "duration": 1265,
    "start_time": "2023-11-13T16:30:52.012Z"
   },
   {
    "duration": 30,
    "start_time": "2023-11-13T16:30:53.279Z"
   },
   {
    "duration": 1131,
    "start_time": "2023-11-13T16:30:53.310Z"
   },
   {
    "duration": 122,
    "start_time": "2023-11-13T16:30:54.443Z"
   },
   {
    "duration": 22,
    "start_time": "2023-11-13T16:30:54.567Z"
   },
   {
    "duration": 46,
    "start_time": "2023-11-13T16:30:54.590Z"
   },
   {
    "duration": 804,
    "start_time": "2023-11-13T16:30:54.638Z"
   },
   {
    "duration": 141,
    "start_time": "2023-11-13T16:30:55.443Z"
   },
   {
    "duration": 381,
    "start_time": "2023-11-13T16:30:55.586Z"
   },
   {
    "duration": 1463,
    "start_time": "2023-11-13T16:32:56.656Z"
   },
   {
    "duration": 919,
    "start_time": "2023-11-13T16:32:58.120Z"
   },
   {
    "duration": 1651,
    "start_time": "2023-11-13T16:32:59.040Z"
   },
   {
    "duration": 40,
    "start_time": "2023-11-13T16:33:00.693Z"
   },
   {
    "duration": 32,
    "start_time": "2023-11-13T16:33:00.734Z"
   },
   {
    "duration": 6,
    "start_time": "2023-11-13T16:33:00.768Z"
   },
   {
    "duration": 87,
    "start_time": "2023-11-13T16:33:00.776Z"
   },
   {
    "duration": 189,
    "start_time": "2023-11-13T16:33:00.864Z"
   },
   {
    "duration": 62,
    "start_time": "2023-11-13T16:33:01.055Z"
   },
   {
    "duration": 69,
    "start_time": "2023-11-13T16:33:01.120Z"
   },
   {
    "duration": 23,
    "start_time": "2023-11-13T16:33:01.191Z"
   },
   {
    "duration": 95,
    "start_time": "2023-11-13T16:33:01.215Z"
   },
   {
    "duration": 475,
    "start_time": "2023-11-13T16:33:01.311Z"
   },
   {
    "duration": 23,
    "start_time": "2023-11-13T16:33:01.787Z"
   },
   {
    "duration": 63,
    "start_time": "2023-11-13T16:33:01.811Z"
   },
   {
    "duration": 249,
    "start_time": "2023-11-13T16:33:01.876Z"
   },
   {
    "duration": 19,
    "start_time": "2023-11-13T16:33:02.127Z"
   },
   {
    "duration": 56,
    "start_time": "2023-11-13T16:33:02.148Z"
   },
   {
    "duration": 304,
    "start_time": "2023-11-13T16:33:02.206Z"
   },
   {
    "duration": 213,
    "start_time": "2023-11-13T16:33:02.511Z"
   },
   {
    "duration": 26,
    "start_time": "2023-11-13T16:33:02.725Z"
   },
   {
    "duration": 19,
    "start_time": "2023-11-13T16:33:02.753Z"
   },
   {
    "duration": 22,
    "start_time": "2023-11-13T16:33:02.773Z"
   },
   {
    "duration": 294,
    "start_time": "2023-11-13T16:33:02.797Z"
   },
   {
    "duration": 182,
    "start_time": "2023-11-13T16:33:03.092Z"
   },
   {
    "duration": 402,
    "start_time": "2023-11-13T16:33:03.276Z"
   },
   {
    "duration": 100,
    "start_time": "2023-11-13T16:33:03.679Z"
   },
   {
    "duration": 366,
    "start_time": "2023-11-13T16:33:03.782Z"
   },
   {
    "duration": 537,
    "start_time": "2023-11-13T16:33:04.150Z"
   },
   {
    "duration": 1189,
    "start_time": "2023-11-13T16:33:04.689Z"
   },
   {
    "duration": 29,
    "start_time": "2023-11-13T16:33:05.880Z"
   },
   {
    "duration": 1101,
    "start_time": "2023-11-13T16:33:05.911Z"
   },
   {
    "duration": 98,
    "start_time": "2023-11-13T16:33:07.014Z"
   },
   {
    "duration": 19,
    "start_time": "2023-11-13T16:33:07.113Z"
   },
   {
    "duration": 36,
    "start_time": "2023-11-13T16:33:07.134Z"
   },
   {
    "duration": 738,
    "start_time": "2023-11-13T16:33:07.172Z"
   },
   {
    "duration": 132,
    "start_time": "2023-11-13T16:33:07.912Z"
   },
   {
    "duration": 368,
    "start_time": "2023-11-13T16:33:08.046Z"
   },
   {
    "duration": 605,
    "start_time": "2023-11-13T16:43:03.403Z"
   },
   {
    "duration": 487,
    "start_time": "2023-11-13T16:43:29.593Z"
   },
   {
    "duration": 131,
    "start_time": "2023-11-13T16:45:58.118Z"
   },
   {
    "duration": 44,
    "start_time": "2023-11-13T16:47:32.092Z"
   },
   {
    "duration": 30,
    "start_time": "2023-11-13T16:48:02.189Z"
   },
   {
    "duration": 1419,
    "start_time": "2023-11-13T16:48:57.396Z"
   },
   {
    "duration": 971,
    "start_time": "2023-11-13T16:48:58.816Z"
   },
   {
    "duration": 1641,
    "start_time": "2023-11-13T16:48:59.789Z"
   },
   {
    "duration": 42,
    "start_time": "2023-11-13T16:49:01.433Z"
   },
   {
    "duration": 28,
    "start_time": "2023-11-13T16:49:01.477Z"
   },
   {
    "duration": 16,
    "start_time": "2023-11-13T16:49:01.507Z"
   },
   {
    "duration": 68,
    "start_time": "2023-11-13T16:49:01.525Z"
   },
   {
    "duration": 156,
    "start_time": "2023-11-13T16:49:01.595Z"
   },
   {
    "duration": 61,
    "start_time": "2023-11-13T16:49:01.752Z"
   },
   {
    "duration": 60,
    "start_time": "2023-11-13T16:49:01.816Z"
   },
   {
    "duration": 11,
    "start_time": "2023-11-13T16:49:01.878Z"
   },
   {
    "duration": 80,
    "start_time": "2023-11-13T16:49:01.891Z"
   },
   {
    "duration": 471,
    "start_time": "2023-11-13T16:49:01.972Z"
   },
   {
    "duration": 33,
    "start_time": "2023-11-13T16:49:02.445Z"
   },
   {
    "duration": 48,
    "start_time": "2023-11-13T16:49:02.479Z"
   },
   {
    "duration": 262,
    "start_time": "2023-11-13T16:49:02.528Z"
   },
   {
    "duration": 20,
    "start_time": "2023-11-13T16:49:02.791Z"
   },
   {
    "duration": 62,
    "start_time": "2023-11-13T16:49:02.813Z"
   },
   {
    "duration": 294,
    "start_time": "2023-11-13T16:49:02.876Z"
   },
   {
    "duration": 211,
    "start_time": "2023-11-13T16:49:03.172Z"
   },
   {
    "duration": 24,
    "start_time": "2023-11-13T16:49:03.385Z"
   },
   {
    "duration": 10,
    "start_time": "2023-11-13T16:49:05.277Z"
   },
   {
    "duration": 4,
    "start_time": "2023-11-13T16:49:05.455Z"
   },
   {
    "duration": 289,
    "start_time": "2023-11-13T16:49:05.662Z"
   },
   {
    "duration": 193,
    "start_time": "2023-11-13T16:49:05.953Z"
   },
   {
    "duration": 401,
    "start_time": "2023-11-13T16:49:06.148Z"
   },
   {
    "duration": 106,
    "start_time": "2023-11-13T16:49:06.551Z"
   },
   {
    "duration": 352,
    "start_time": "2023-11-13T16:49:06.665Z"
   },
   {
    "duration": 574,
    "start_time": "2023-11-13T16:49:07.019Z"
   },
   {
    "duration": 1228,
    "start_time": "2023-11-13T16:49:07.595Z"
   },
   {
    "duration": 31,
    "start_time": "2023-11-13T16:49:08.825Z"
   },
   {
    "duration": 1144,
    "start_time": "2023-11-13T16:49:08.865Z"
   },
   {
    "duration": 94,
    "start_time": "2023-11-13T16:49:10.011Z"
   },
   {
    "duration": 86,
    "start_time": "2023-11-13T16:49:10.107Z"
   },
   {
    "duration": 0,
    "start_time": "2023-11-13T16:49:10.194Z"
   },
   {
    "duration": 128,
    "start_time": "2023-11-13T16:49:26.117Z"
   },
   {
    "duration": 96,
    "start_time": "2023-11-13T16:49:43.733Z"
   },
   {
    "duration": 85,
    "start_time": "2023-11-13T16:50:21.969Z"
   },
   {
    "duration": 112,
    "start_time": "2023-11-13T16:50:56.509Z"
   },
   {
    "duration": 141,
    "start_time": "2023-11-13T16:51:39.330Z"
   },
   {
    "duration": 21,
    "start_time": "2023-11-13T16:51:41.897Z"
   },
   {
    "duration": 748,
    "start_time": "2023-11-13T16:51:42.917Z"
   },
   {
    "duration": 130,
    "start_time": "2023-11-13T16:51:44.138Z"
   },
   {
    "duration": 384,
    "start_time": "2023-11-13T16:51:46.392Z"
   },
   {
    "duration": 998,
    "start_time": "2023-11-13T16:51:59.233Z"
   },
   {
    "duration": 1096,
    "start_time": "2023-11-13T16:54:15.319Z"
   },
   {
    "duration": 1079,
    "start_time": "2023-11-13T16:54:49.082Z"
   },
   {
    "duration": 1085,
    "start_time": "2023-11-13T16:55:16.367Z"
   },
   {
    "duration": 5473,
    "start_time": "2023-11-13T17:02:07.504Z"
   },
   {
    "duration": 5494,
    "start_time": "2023-11-13T17:02:22.064Z"
   },
   {
    "duration": 282893,
    "start_time": "2023-11-13T17:02:37.964Z"
   },
   {
    "duration": 1871,
    "start_time": "2023-11-14T03:37:39.070Z"
   },
   {
    "duration": 1213,
    "start_time": "2023-11-14T03:37:40.944Z"
   },
   {
    "duration": 1722,
    "start_time": "2023-11-14T03:37:42.159Z"
   },
   {
    "duration": 37,
    "start_time": "2023-11-14T03:37:43.883Z"
   },
   {
    "duration": 39,
    "start_time": "2023-11-14T03:37:43.922Z"
   },
   {
    "duration": 6,
    "start_time": "2023-11-14T03:37:43.963Z"
   },
   {
    "duration": 39,
    "start_time": "2023-11-14T03:37:43.970Z"
   },
   {
    "duration": 166,
    "start_time": "2023-11-14T03:37:44.010Z"
   },
   {
    "duration": 35,
    "start_time": "2023-11-14T03:37:44.178Z"
   },
   {
    "duration": 81,
    "start_time": "2023-11-14T03:37:44.215Z"
   },
   {
    "duration": 11,
    "start_time": "2023-11-14T03:37:44.298Z"
   },
   {
    "duration": 81,
    "start_time": "2023-11-14T03:37:44.312Z"
   },
   {
    "duration": 492,
    "start_time": "2023-11-14T03:37:44.394Z"
   },
   {
    "duration": 25,
    "start_time": "2023-11-14T03:37:44.891Z"
   },
   {
    "duration": 69,
    "start_time": "2023-11-14T03:37:44.918Z"
   },
   {
    "duration": 304,
    "start_time": "2023-11-14T03:37:44.989Z"
   },
   {
    "duration": 31,
    "start_time": "2023-11-14T03:37:45.294Z"
   },
   {
    "duration": 71,
    "start_time": "2023-11-14T03:37:45.327Z"
   },
   {
    "duration": 301,
    "start_time": "2023-11-14T03:37:45.400Z"
   },
   {
    "duration": 209,
    "start_time": "2023-11-14T03:37:45.703Z"
   },
   {
    "duration": 38,
    "start_time": "2023-11-14T03:37:45.915Z"
   },
   {
    "duration": 14,
    "start_time": "2023-11-14T03:37:45.955Z"
   },
   {
    "duration": 4,
    "start_time": "2023-11-14T03:37:45.971Z"
   },
   {
    "duration": 318,
    "start_time": "2023-11-14T03:37:45.977Z"
   },
   {
    "duration": 188,
    "start_time": "2023-11-14T03:37:46.296Z"
   },
   {
    "duration": 442,
    "start_time": "2023-11-14T03:37:46.486Z"
   },
   {
    "duration": 101,
    "start_time": "2023-11-14T03:37:46.930Z"
   },
   {
    "duration": 391,
    "start_time": "2023-11-14T03:37:47.033Z"
   },
   {
    "duration": 543,
    "start_time": "2023-11-14T03:37:47.426Z"
   },
   {
    "duration": 1224,
    "start_time": "2023-11-14T03:37:47.971Z"
   },
   {
    "duration": 33,
    "start_time": "2023-11-14T03:37:49.197Z"
   },
   {
    "duration": 1165,
    "start_time": "2023-11-14T03:37:49.231Z"
   },
   {
    "duration": 109,
    "start_time": "2023-11-14T03:37:50.398Z"
   },
   {
    "duration": 113,
    "start_time": "2023-11-14T03:37:50.508Z"
   },
   {
    "duration": 14,
    "start_time": "2023-11-14T03:37:50.623Z"
   },
   {
    "duration": 861,
    "start_time": "2023-11-14T03:37:50.639Z"
   },
   {
    "duration": 152,
    "start_time": "2023-11-14T03:37:51.502Z"
   },
   {
    "duration": 398,
    "start_time": "2023-11-14T03:37:51.656Z"
   },
   {
    "duration": 210,
    "start_time": "2023-11-14T03:37:52.056Z"
   },
   {
    "duration": 1142,
    "start_time": "2023-11-14T03:37:52.268Z"
   },
   {
    "duration": 283219,
    "start_time": "2023-11-14T03:37:53.415Z"
   },
   {
    "duration": 1498,
    "start_time": "2023-11-14T04:05:12.454Z"
   },
   {
    "duration": 985,
    "start_time": "2023-11-14T04:05:17.293Z"
   },
   {
    "duration": 1672,
    "start_time": "2023-11-14T04:05:18.280Z"
   },
   {
    "duration": 31,
    "start_time": "2023-11-14T04:05:19.954Z"
   },
   {
    "duration": 19,
    "start_time": "2023-11-14T04:05:19.988Z"
   },
   {
    "duration": 11,
    "start_time": "2023-11-14T04:05:20.009Z"
   },
   {
    "duration": 60,
    "start_time": "2023-11-14T04:05:20.022Z"
   },
   {
    "duration": 169,
    "start_time": "2023-11-14T04:05:20.084Z"
   },
   {
    "duration": 40,
    "start_time": "2023-11-14T04:05:20.255Z"
   },
   {
    "duration": 67,
    "start_time": "2023-11-14T04:05:20.296Z"
   },
   {
    "duration": 11,
    "start_time": "2023-11-14T04:05:20.365Z"
   },
   {
    "duration": 79,
    "start_time": "2023-11-14T04:05:20.378Z"
   },
   {
    "duration": 481,
    "start_time": "2023-11-14T04:05:20.674Z"
   },
   {
    "duration": 27,
    "start_time": "2023-11-14T04:05:21.157Z"
   },
   {
    "duration": 57,
    "start_time": "2023-11-14T04:05:21.238Z"
   },
   {
    "duration": 327,
    "start_time": "2023-11-14T04:05:21.462Z"
   },
   {
    "duration": 21,
    "start_time": "2023-11-14T04:05:21.791Z"
   },
   {
    "duration": 48,
    "start_time": "2023-11-14T04:05:23.838Z"
   },
   {
    "duration": 219,
    "start_time": "2023-11-14T04:05:24.074Z"
   },
   {
    "duration": 211,
    "start_time": "2023-11-14T04:05:24.306Z"
   },
   {
    "duration": 25,
    "start_time": "2023-11-14T04:05:24.934Z"
   },
   {
    "duration": 9,
    "start_time": "2023-11-14T04:05:25.883Z"
   },
   {
    "duration": 4,
    "start_time": "2023-11-14T04:05:26.069Z"
   },
   {
    "duration": 277,
    "start_time": "2023-11-14T04:05:27.626Z"
   },
   {
    "duration": 192,
    "start_time": "2023-11-14T04:05:27.906Z"
   },
   {
    "duration": 423,
    "start_time": "2023-11-14T04:05:28.520Z"
   },
   {
    "duration": 108,
    "start_time": "2023-11-14T04:05:28.945Z"
   },
   {
    "duration": 348,
    "start_time": "2023-11-14T04:05:29.709Z"
   },
   {
    "duration": 544,
    "start_time": "2023-11-14T04:05:30.059Z"
   },
   {
    "duration": 1248,
    "start_time": "2023-11-14T04:05:30.605Z"
   },
   {
    "duration": 30,
    "start_time": "2023-11-14T04:05:31.854Z"
   },
   {
    "duration": 1151,
    "start_time": "2023-11-14T04:05:31.886Z"
   },
   {
    "duration": 100,
    "start_time": "2023-11-14T04:05:33.038Z"
   },
   {
    "duration": 124,
    "start_time": "2023-11-14T04:05:33.141Z"
   },
   {
    "duration": 16,
    "start_time": "2023-11-14T04:05:33.267Z"
   },
   {
    "duration": 857,
    "start_time": "2023-11-14T04:05:33.285Z"
   },
   {
    "duration": 1489,
    "start_time": "2023-11-14T04:06:16.442Z"
   },
   {
    "duration": 965,
    "start_time": "2023-11-14T04:06:17.932Z"
   },
   {
    "duration": 1700,
    "start_time": "2023-11-14T04:06:18.900Z"
   },
   {
    "duration": 37,
    "start_time": "2023-11-14T04:06:20.602Z"
   },
   {
    "duration": 20,
    "start_time": "2023-11-14T04:06:20.651Z"
   },
   {
    "duration": 6,
    "start_time": "2023-11-14T04:06:20.673Z"
   },
   {
    "duration": 37,
    "start_time": "2023-11-14T04:06:20.680Z"
   },
   {
    "duration": 180,
    "start_time": "2023-11-14T04:06:20.719Z"
   },
   {
    "duration": 52,
    "start_time": "2023-11-14T04:06:20.900Z"
   },
   {
    "duration": 55,
    "start_time": "2023-11-14T04:06:20.955Z"
   },
   {
    "duration": 10,
    "start_time": "2023-11-14T04:06:21.012Z"
   },
   {
    "duration": 77,
    "start_time": "2023-11-14T04:06:21.024Z"
   },
   {
    "duration": 499,
    "start_time": "2023-11-14T04:06:21.103Z"
   },
   {
    "duration": 22,
    "start_time": "2023-11-14T04:06:21.604Z"
   },
   {
    "duration": 68,
    "start_time": "2023-11-14T04:06:21.628Z"
   },
   {
    "duration": 344,
    "start_time": "2023-11-14T04:06:21.697Z"
   },
   {
    "duration": 33,
    "start_time": "2023-11-14T04:06:22.043Z"
   },
   {
    "duration": 52,
    "start_time": "2023-11-14T04:06:22.079Z"
   },
   {
    "duration": 241,
    "start_time": "2023-11-14T04:06:22.133Z"
   },
   {
    "duration": 215,
    "start_time": "2023-11-14T04:06:22.377Z"
   },
   {
    "duration": 25,
    "start_time": "2023-11-14T04:06:22.594Z"
   },
   {
    "duration": 10,
    "start_time": "2023-11-14T04:06:22.620Z"
   },
   {
    "duration": 21,
    "start_time": "2023-11-14T04:06:22.631Z"
   },
   {
    "duration": 293,
    "start_time": "2023-11-14T04:06:22.654Z"
   },
   {
    "duration": 212,
    "start_time": "2023-11-14T04:06:22.949Z"
   },
   {
    "duration": 437,
    "start_time": "2023-11-14T04:06:23.164Z"
   },
   {
    "duration": 96,
    "start_time": "2023-11-14T04:06:28.382Z"
   },
   {
    "duration": 365,
    "start_time": "2023-11-14T04:06:31.292Z"
   },
   {
    "duration": 554,
    "start_time": "2023-11-14T04:06:32.070Z"
   },
   {
    "duration": 1197,
    "start_time": "2023-11-14T04:06:32.710Z"
   },
   {
    "duration": 30,
    "start_time": "2023-11-14T04:06:37.783Z"
   },
   {
    "duration": 1122,
    "start_time": "2023-11-14T04:06:38.389Z"
   },
   {
    "duration": 93,
    "start_time": "2023-11-14T04:06:39.519Z"
   },
   {
    "duration": 107,
    "start_time": "2023-11-14T04:06:43.499Z"
   },
   {
    "duration": 15,
    "start_time": "2023-11-14T04:06:51.971Z"
   },
   {
    "duration": 839,
    "start_time": "2023-11-14T04:07:19.688Z"
   },
   {
    "duration": 144,
    "start_time": "2023-11-14T04:07:25.598Z"
   },
   {
    "duration": 1463,
    "start_time": "2023-11-14T04:10:47.615Z"
   },
   {
    "duration": 992,
    "start_time": "2023-11-14T04:10:49.080Z"
   },
   {
    "duration": 1712,
    "start_time": "2023-11-14T04:10:50.074Z"
   },
   {
    "duration": 38,
    "start_time": "2023-11-14T04:10:51.789Z"
   },
   {
    "duration": 37,
    "start_time": "2023-11-14T04:10:51.830Z"
   },
   {
    "duration": 8,
    "start_time": "2023-11-14T04:10:51.869Z"
   },
   {
    "duration": 50,
    "start_time": "2023-11-14T04:10:51.879Z"
   },
   {
    "duration": 179,
    "start_time": "2023-11-14T04:10:51.931Z"
   },
   {
    "duration": 51,
    "start_time": "2023-11-14T04:10:52.112Z"
   },
   {
    "duration": 58,
    "start_time": "2023-11-14T04:10:52.165Z"
   },
   {
    "duration": 11,
    "start_time": "2023-11-14T04:10:52.225Z"
   },
   {
    "duration": 60,
    "start_time": "2023-11-14T04:10:52.253Z"
   },
   {
    "duration": 517,
    "start_time": "2023-11-14T04:10:52.315Z"
   },
   {
    "duration": 37,
    "start_time": "2023-11-14T04:10:52.834Z"
   },
   {
    "duration": 50,
    "start_time": "2023-11-14T04:10:52.873Z"
   },
   {
    "duration": 376,
    "start_time": "2023-11-14T04:10:52.925Z"
   },
   {
    "duration": 23,
    "start_time": "2023-11-14T04:10:53.303Z"
   },
   {
    "duration": 62,
    "start_time": "2023-11-14T04:10:53.327Z"
   },
   {
    "duration": 224,
    "start_time": "2023-11-14T04:10:53.391Z"
   },
   {
    "duration": 223,
    "start_time": "2023-11-14T04:10:53.618Z"
   },
   {
    "duration": 32,
    "start_time": "2023-11-14T04:10:53.843Z"
   },
   {
    "duration": 25,
    "start_time": "2023-11-14T04:10:53.877Z"
   },
   {
    "duration": 10,
    "start_time": "2023-11-14T04:10:53.903Z"
   },
   {
    "duration": 306,
    "start_time": "2023-11-14T04:10:53.914Z"
   },
   {
    "duration": 201,
    "start_time": "2023-11-14T04:10:54.222Z"
   },
   {
    "duration": 477,
    "start_time": "2023-11-14T04:10:54.425Z"
   },
   {
    "duration": 100,
    "start_time": "2023-11-14T04:10:54.904Z"
   },
   {
    "duration": 405,
    "start_time": "2023-11-14T04:10:55.006Z"
   },
   {
    "duration": 546,
    "start_time": "2023-11-14T04:10:55.413Z"
   },
   {
    "duration": 1240,
    "start_time": "2023-11-14T04:10:55.961Z"
   },
   {
    "duration": 30,
    "start_time": "2023-11-14T04:10:57.203Z"
   },
   {
    "duration": 1148,
    "start_time": "2023-11-14T04:10:57.235Z"
   },
   {
    "duration": 99,
    "start_time": "2023-11-14T04:10:58.385Z"
   },
   {
    "duration": 116,
    "start_time": "2023-11-14T04:10:58.486Z"
   },
   {
    "duration": 15,
    "start_time": "2023-11-14T04:10:58.604Z"
   },
   {
    "duration": 861,
    "start_time": "2023-11-14T04:10:58.621Z"
   },
   {
    "duration": 174,
    "start_time": "2023-11-14T04:10:59.484Z"
   },
   {
    "duration": 377,
    "start_time": "2023-11-14T04:10:59.660Z"
   },
   {
    "duration": 194,
    "start_time": "2023-11-14T04:11:12.099Z"
   },
   {
    "duration": 282,
    "start_time": "2023-11-14T04:12:26.272Z"
   },
   {
    "duration": 355,
    "start_time": "2023-11-14T04:13:11.880Z"
   },
   {
    "duration": 320,
    "start_time": "2023-11-14T04:13:23.937Z"
   },
   {
    "duration": 212,
    "start_time": "2023-11-14T04:14:20.005Z"
   },
   {
    "duration": 3,
    "start_time": "2023-11-14T04:15:12.444Z"
   },
   {
    "duration": 67,
    "start_time": "2023-11-14T04:17:05.314Z"
   },
   {
    "duration": 65,
    "start_time": "2023-11-14T04:17:40.522Z"
   },
   {
    "duration": 22,
    "start_time": "2023-11-14T04:17:49.510Z"
   },
   {
    "duration": 20,
    "start_time": "2023-11-14T04:17:59.510Z"
   },
   {
    "duration": 6,
    "start_time": "2023-11-14T04:18:08.052Z"
   },
   {
    "duration": 5,
    "start_time": "2023-11-14T04:18:18.298Z"
   },
   {
    "duration": 3613,
    "start_time": "2023-11-14T04:21:26.286Z"
   },
   {
    "duration": 3980,
    "start_time": "2023-11-14T04:22:59.475Z"
   },
   {
    "duration": 192831,
    "start_time": "2023-11-14T04:25:06.335Z"
   },
   {
    "duration": 648,
    "start_time": "2023-11-14T04:28:58.526Z"
   },
   {
    "duration": 201964,
    "start_time": "2023-11-14T04:29:39.223Z"
   },
   {
    "duration": 651,
    "start_time": "2023-11-14T04:36:21.523Z"
   },
   {
    "duration": 656,
    "start_time": "2023-11-14T04:37:39.320Z"
   },
   {
    "duration": 1516,
    "start_time": "2023-11-14T04:38:33.697Z"
   },
   {
    "duration": 1001,
    "start_time": "2023-11-14T04:38:35.215Z"
   },
   {
    "duration": 1742,
    "start_time": "2023-11-14T04:38:36.217Z"
   },
   {
    "duration": 35,
    "start_time": "2023-11-14T04:38:37.969Z"
   },
   {
    "duration": 18,
    "start_time": "2023-11-14T04:38:38.007Z"
   },
   {
    "duration": 6,
    "start_time": "2023-11-14T04:38:38.027Z"
   },
   {
    "duration": 43,
    "start_time": "2023-11-14T04:38:38.054Z"
   },
   {
    "duration": 176,
    "start_time": "2023-11-14T04:38:38.099Z"
   },
   {
    "duration": 38,
    "start_time": "2023-11-14T04:38:38.276Z"
   },
   {
    "duration": 79,
    "start_time": "2023-11-14T04:38:38.316Z"
   },
   {
    "duration": 11,
    "start_time": "2023-11-14T04:38:38.397Z"
   },
   {
    "duration": 73,
    "start_time": "2023-11-14T04:38:38.409Z"
   },
   {
    "duration": 524,
    "start_time": "2023-11-14T04:38:38.483Z"
   },
   {
    "duration": 122,
    "start_time": "2023-11-14T04:38:39.010Z"
   },
   {
    "duration": 75,
    "start_time": "2023-11-14T04:38:39.134Z"
   },
   {
    "duration": 298,
    "start_time": "2023-11-14T04:38:39.212Z"
   },
   {
    "duration": 23,
    "start_time": "2023-11-14T04:38:39.512Z"
   },
   {
    "duration": 66,
    "start_time": "2023-11-14T04:38:39.537Z"
   },
   {
    "duration": 250,
    "start_time": "2023-11-14T04:38:39.605Z"
   },
   {
    "duration": 217,
    "start_time": "2023-11-14T04:38:39.861Z"
   },
   {
    "duration": 26,
    "start_time": "2023-11-14T04:38:40.080Z"
   },
   {
    "duration": 11,
    "start_time": "2023-11-14T04:38:40.107Z"
   },
   {
    "duration": 16,
    "start_time": "2023-11-14T04:38:40.120Z"
   },
   {
    "duration": 315,
    "start_time": "2023-11-14T04:38:40.138Z"
   },
   {
    "duration": 203,
    "start_time": "2023-11-14T04:38:40.465Z"
   },
   {
    "duration": 518,
    "start_time": "2023-11-14T04:38:40.670Z"
   },
   {
    "duration": 140,
    "start_time": "2023-11-14T04:38:41.190Z"
   },
   {
    "duration": 429,
    "start_time": "2023-11-14T04:38:41.332Z"
   },
   {
    "duration": 560,
    "start_time": "2023-11-14T04:38:41.763Z"
   },
   {
    "duration": 1290,
    "start_time": "2023-11-14T04:38:42.324Z"
   },
   {
    "duration": 50,
    "start_time": "2023-11-14T04:38:43.616Z"
   },
   {
    "duration": 1199,
    "start_time": "2023-11-14T04:38:43.668Z"
   },
   {
    "duration": 102,
    "start_time": "2023-11-14T04:38:44.868Z"
   },
   {
    "duration": 134,
    "start_time": "2023-11-14T04:38:44.972Z"
   },
   {
    "duration": 16,
    "start_time": "2023-11-14T04:38:45.108Z"
   },
   {
    "duration": 872,
    "start_time": "2023-11-14T04:38:45.126Z"
   },
   {
    "duration": 135,
    "start_time": "2023-11-14T04:38:45.999Z"
   },
   {
    "duration": 373,
    "start_time": "2023-11-14T04:38:46.136Z"
   },
   {
    "duration": 214,
    "start_time": "2023-11-14T04:38:46.511Z"
   },
   {
    "duration": 3,
    "start_time": "2023-11-14T04:38:46.727Z"
   },
   {
    "duration": 21,
    "start_time": "2023-11-14T04:38:46.735Z"
   },
   {
    "duration": 7,
    "start_time": "2023-11-14T04:38:46.758Z"
   },
   {
    "duration": 71,
    "start_time": "2023-11-14T04:38:46.767Z"
   },
   {
    "duration": 203680,
    "start_time": "2023-11-14T04:38:46.839Z"
   },
   {
    "duration": 657,
    "start_time": "2023-11-14T04:42:10.521Z"
   },
   {
    "duration": 678,
    "start_time": "2023-11-14T04:53:20.219Z"
   },
   {
    "duration": 5419,
    "start_time": "2023-11-14T04:57:33.864Z"
   },
   {
    "duration": 188191,
    "start_time": "2023-11-14T04:58:06.965Z"
   },
   {
    "duration": 629,
    "start_time": "2023-11-14T05:01:43.592Z"
   },
   {
    "duration": 103,
    "start_time": "2023-11-14T05:18:08.127Z"
   },
   {
    "duration": 149,
    "start_time": "2023-11-14T05:18:22.861Z"
   },
   {
    "duration": 133,
    "start_time": "2023-11-14T05:18:29.204Z"
   },
   {
    "duration": 2780,
    "start_time": "2023-11-14T05:18:36.248Z"
   },
   {
    "duration": 2717,
    "start_time": "2023-11-14T05:18:54.904Z"
   },
   {
    "duration": 1590,
    "start_time": "2023-11-14T05:19:16.872Z"
   },
   {
    "duration": 4,
    "start_time": "2023-11-14T05:42:09.089Z"
   },
   {
    "duration": 987,
    "start_time": "2023-11-14T05:42:15.100Z"
   },
   {
    "duration": 1666,
    "start_time": "2023-11-14T05:42:16.089Z"
   },
   {
    "duration": 36,
    "start_time": "2023-11-14T05:42:17.757Z"
   },
   {
    "duration": 114,
    "start_time": "2023-11-14T05:42:17.795Z"
   },
   {
    "duration": 7,
    "start_time": "2023-11-14T05:42:17.910Z"
   },
   {
    "duration": 51,
    "start_time": "2023-11-14T05:42:17.919Z"
   },
   {
    "duration": 154,
    "start_time": "2023-11-14T05:42:17.972Z"
   },
   {
    "duration": 54,
    "start_time": "2023-11-14T05:42:18.127Z"
   },
   {
    "duration": 51,
    "start_time": "2023-11-14T05:42:18.183Z"
   },
   {
    "duration": 23,
    "start_time": "2023-11-14T05:42:18.236Z"
   },
   {
    "duration": 59,
    "start_time": "2023-11-14T05:42:18.261Z"
   },
   {
    "duration": 526,
    "start_time": "2023-11-14T05:42:18.322Z"
   },
   {
    "duration": 24,
    "start_time": "2023-11-14T05:42:18.850Z"
   },
   {
    "duration": 43,
    "start_time": "2023-11-14T05:42:18.877Z"
   },
   {
    "duration": 274,
    "start_time": "2023-11-14T05:42:18.922Z"
   },
   {
    "duration": 21,
    "start_time": "2023-11-14T05:42:19.197Z"
   },
   {
    "duration": 71,
    "start_time": "2023-11-14T05:42:19.220Z"
   },
   {
    "duration": 216,
    "start_time": "2023-11-14T05:42:19.292Z"
   },
   {
    "duration": 267,
    "start_time": "2023-11-14T05:42:19.510Z"
   },
   {
    "duration": 25,
    "start_time": "2023-11-14T05:42:19.779Z"
   },
   {
    "duration": 10,
    "start_time": "2023-11-14T05:42:19.806Z"
   },
   {
    "duration": 6,
    "start_time": "2023-11-14T05:42:19.969Z"
   },
   {
    "duration": 279,
    "start_time": "2023-11-14T05:42:20.153Z"
   },
   {
    "duration": 201,
    "start_time": "2023-11-14T05:42:20.434Z"
   },
   {
    "duration": 448,
    "start_time": "2023-11-14T05:42:20.637Z"
   },
   {
    "duration": 114,
    "start_time": "2023-11-14T05:42:21.087Z"
   },
   {
    "duration": 365,
    "start_time": "2023-11-14T05:42:21.203Z"
   },
   {
    "duration": 656,
    "start_time": "2023-11-14T05:42:21.570Z"
   },
   {
    "duration": 1175,
    "start_time": "2023-11-14T05:42:22.228Z"
   },
   {
    "duration": 32,
    "start_time": "2023-11-14T05:42:23.404Z"
   },
   {
    "duration": 1193,
    "start_time": "2023-11-14T05:42:23.437Z"
   },
   {
    "duration": 94,
    "start_time": "2023-11-14T05:42:24.632Z"
   },
   {
    "duration": 127,
    "start_time": "2023-11-14T05:42:24.728Z"
   },
   {
    "duration": 15,
    "start_time": "2023-11-14T05:42:24.856Z"
   },
   {
    "duration": 941,
    "start_time": "2023-11-14T05:42:24.874Z"
   },
   {
    "duration": 165,
    "start_time": "2023-11-14T05:42:25.817Z"
   },
   {
    "duration": 393,
    "start_time": "2023-11-14T05:42:25.984Z"
   },
   {
    "duration": 232,
    "start_time": "2023-11-14T05:42:26.379Z"
   },
   {
    "duration": 2,
    "start_time": "2023-11-14T05:42:26.613Z"
   },
   {
    "duration": 24,
    "start_time": "2023-11-14T05:42:26.617Z"
   },
   {
    "duration": 19,
    "start_time": "2023-11-14T05:42:26.643Z"
   },
   {
    "duration": 118,
    "start_time": "2023-11-14T05:43:42.441Z"
   },
   {
    "duration": 12,
    "start_time": "2023-11-14T05:44:20.094Z"
   },
   {
    "duration": 70,
    "start_time": "2023-11-14T05:44:32.250Z"
   },
   {
    "duration": 41,
    "start_time": "2023-11-14T05:44:33.075Z"
   },
   {
    "duration": 361061,
    "start_time": "2023-11-14T05:51:10.210Z"
   },
   {
    "duration": 11,
    "start_time": "2023-11-14T06:03:35.291Z"
   },
   {
    "duration": 15,
    "start_time": "2023-11-14T06:04:01.545Z"
   },
   {
    "duration": 1026,
    "start_time": "2023-11-14T06:04:12.274Z"
   },
   {
    "duration": 501953,
    "start_time": "2023-11-14T06:07:15.599Z"
   },
   {
    "duration": 536,
    "start_time": "2023-11-14T06:20:47.839Z"
   },
   {
    "duration": 609,
    "start_time": "2023-11-14T06:23:51.144Z"
   },
   {
    "duration": 616,
    "start_time": "2023-11-14T06:24:08.250Z"
   },
   {
    "duration": 584,
    "start_time": "2023-11-14T06:27:27.868Z"
   },
   {
    "duration": 640,
    "start_time": "2023-11-14T06:27:42.013Z"
   },
   {
    "duration": 569,
    "start_time": "2023-11-14T06:28:09.987Z"
   },
   {
    "duration": 567,
    "start_time": "2023-11-14T06:28:18.704Z"
   },
   {
    "duration": 2614,
    "start_time": "2023-11-14T06:50:27.179Z"
   },
   {
    "duration": 1568,
    "start_time": "2023-11-14T06:50:29.795Z"
   },
   {
    "duration": 964,
    "start_time": "2023-11-14T06:50:31.365Z"
   },
   {
    "duration": 1692,
    "start_time": "2023-11-14T06:50:32.331Z"
   },
   {
    "duration": 43,
    "start_time": "2023-11-14T06:50:34.025Z"
   },
   {
    "duration": 112,
    "start_time": "2023-11-14T06:50:34.070Z"
   },
   {
    "duration": 6,
    "start_time": "2023-11-14T06:50:34.184Z"
   },
   {
    "duration": 37,
    "start_time": "2023-11-14T06:50:34.191Z"
   },
   {
    "duration": 169,
    "start_time": "2023-11-14T06:50:34.230Z"
   },
   {
    "duration": 51,
    "start_time": "2023-11-14T06:50:34.401Z"
   },
   {
    "duration": 55,
    "start_time": "2023-11-14T06:50:34.454Z"
   },
   {
    "duration": 11,
    "start_time": "2023-11-14T06:50:34.510Z"
   },
   {
    "duration": 82,
    "start_time": "2023-11-14T06:50:34.522Z"
   },
   {
    "duration": 500,
    "start_time": "2023-11-14T06:50:34.605Z"
   },
   {
    "duration": 32,
    "start_time": "2023-11-14T06:50:35.106Z"
   },
   {
    "duration": 57,
    "start_time": "2023-11-14T06:50:35.152Z"
   },
   {
    "duration": 277,
    "start_time": "2023-11-14T06:50:35.211Z"
   },
   {
    "duration": 22,
    "start_time": "2023-11-14T06:50:35.490Z"
   },
   {
    "duration": 63,
    "start_time": "2023-11-14T06:50:35.514Z"
   },
   {
    "duration": 229,
    "start_time": "2023-11-14T06:50:35.578Z"
   },
   {
    "duration": 212,
    "start_time": "2023-11-14T06:50:35.808Z"
   },
   {
    "duration": 37,
    "start_time": "2023-11-14T06:50:36.022Z"
   },
   {
    "duration": 10,
    "start_time": "2023-11-14T06:50:36.061Z"
   },
   {
    "duration": 7,
    "start_time": "2023-11-14T06:50:36.073Z"
   },
   {
    "duration": 295,
    "start_time": "2023-11-14T06:50:36.082Z"
   },
   {
    "duration": 188,
    "start_time": "2023-11-14T06:50:36.379Z"
   },
   {
    "duration": 427,
    "start_time": "2023-11-14T06:50:36.569Z"
   },
   {
    "duration": 100,
    "start_time": "2023-11-14T06:50:36.999Z"
   },
   {
    "duration": 395,
    "start_time": "2023-11-14T06:50:37.101Z"
   },
   {
    "duration": 646,
    "start_time": "2023-11-14T06:50:37.498Z"
   },
   {
    "duration": 1137,
    "start_time": "2023-11-14T06:50:38.146Z"
   },
   {
    "duration": 31,
    "start_time": "2023-11-14T06:50:39.284Z"
   },
   {
    "duration": 1136,
    "start_time": "2023-11-14T06:50:39.316Z"
   },
   {
    "duration": 120,
    "start_time": "2023-11-14T06:50:40.454Z"
   },
   {
    "duration": 114,
    "start_time": "2023-11-14T06:50:40.576Z"
   },
   {
    "duration": 35,
    "start_time": "2023-11-14T06:50:40.692Z"
   },
   {
    "duration": 1032,
    "start_time": "2023-11-14T06:50:40.728Z"
   },
   {
    "duration": 148,
    "start_time": "2023-11-14T06:50:41.762Z"
   },
   {
    "duration": 383,
    "start_time": "2023-11-14T06:50:41.912Z"
   },
   {
    "duration": 212,
    "start_time": "2023-11-14T06:50:42.297Z"
   },
   {
    "duration": 2611,
    "start_time": "2023-11-14T07:13:33.589Z"
   },
   {
    "duration": 1513,
    "start_time": "2023-11-14T07:13:36.202Z"
   },
   {
    "duration": 959,
    "start_time": "2023-11-14T07:13:37.717Z"
   },
   {
    "duration": 1656,
    "start_time": "2023-11-14T07:13:38.679Z"
   },
   {
    "duration": 40,
    "start_time": "2023-11-14T07:13:40.337Z"
   },
   {
    "duration": 107,
    "start_time": "2023-11-14T07:13:40.378Z"
   },
   {
    "duration": 6,
    "start_time": "2023-11-14T07:13:40.486Z"
   },
   {
    "duration": 36,
    "start_time": "2023-11-14T07:13:40.494Z"
   },
   {
    "duration": 166,
    "start_time": "2023-11-14T07:13:40.531Z"
   },
   {
    "duration": 41,
    "start_time": "2023-11-14T07:13:40.699Z"
   },
   {
    "duration": 56,
    "start_time": "2023-11-14T07:13:40.753Z"
   },
   {
    "duration": 11,
    "start_time": "2023-11-14T07:13:40.811Z"
   },
   {
    "duration": 83,
    "start_time": "2023-11-14T07:13:40.825Z"
   },
   {
    "duration": 534,
    "start_time": "2023-11-14T07:13:40.910Z"
   },
   {
    "duration": 29,
    "start_time": "2023-11-14T07:13:41.445Z"
   },
   {
    "duration": 49,
    "start_time": "2023-11-14T07:13:41.476Z"
   },
   {
    "duration": 268,
    "start_time": "2023-11-14T07:13:41.526Z"
   },
   {
    "duration": 21,
    "start_time": "2023-11-14T07:13:41.795Z"
   },
   {
    "duration": 61,
    "start_time": "2023-11-14T07:13:41.818Z"
   },
   {
    "duration": 226,
    "start_time": "2023-11-14T07:13:41.881Z"
   },
   {
    "duration": 220,
    "start_time": "2023-11-14T07:13:42.109Z"
   },
   {
    "duration": 33,
    "start_time": "2023-11-14T07:13:42.331Z"
   },
   {
    "duration": 10,
    "start_time": "2023-11-14T07:13:42.365Z"
   },
   {
    "duration": 6,
    "start_time": "2023-11-14T07:13:42.377Z"
   },
   {
    "duration": 336,
    "start_time": "2023-11-14T07:13:42.385Z"
   },
   {
    "duration": 230,
    "start_time": "2023-11-14T07:13:42.724Z"
   },
   {
    "duration": 472,
    "start_time": "2023-11-14T07:13:42.956Z"
   },
   {
    "duration": 132,
    "start_time": "2023-11-14T07:13:43.432Z"
   },
   {
    "duration": 362,
    "start_time": "2023-11-14T07:13:43.566Z"
   },
   {
    "duration": 640,
    "start_time": "2023-11-14T07:13:43.930Z"
   },
   {
    "duration": 1160,
    "start_time": "2023-11-14T07:13:44.571Z"
   },
   {
    "duration": 32,
    "start_time": "2023-11-14T07:13:45.733Z"
   },
   {
    "duration": 1124,
    "start_time": "2023-11-14T07:13:45.767Z"
   },
   {
    "duration": 101,
    "start_time": "2023-11-14T07:13:46.892Z"
   },
   {
    "duration": 116,
    "start_time": "2023-11-14T07:13:46.995Z"
   },
   {
    "duration": 17,
    "start_time": "2023-11-14T07:13:47.113Z"
   },
   {
    "duration": 919,
    "start_time": "2023-11-14T07:13:47.133Z"
   },
   {
    "duration": 144,
    "start_time": "2023-11-14T07:13:48.054Z"
   },
   {
    "duration": 369,
    "start_time": "2023-11-14T07:13:48.200Z"
   },
   {
    "duration": 216,
    "start_time": "2023-11-14T07:13:48.571Z"
   },
   {
    "duration": 372208,
    "start_time": "2023-11-14T07:13:48.789Z"
   },
   {
    "duration": 75602,
    "start_time": "2023-11-14T07:20:00.998Z"
   },
   {
    "duration": 79,
    "start_time": "2023-11-14T07:21:16.601Z"
   },
   {
    "duration": 1092663,
    "start_time": "2023-11-14T07:21:16.681Z"
   },
   {
    "duration": 969129,
    "start_time": "2023-11-14T07:39:29.346Z"
   },
   {
    "duration": 498580,
    "start_time": "2023-11-14T08:16:25.374Z"
   },
   {
    "duration": 3201,
    "start_time": "2023-11-16T15:13:50.992Z"
   },
   {
    "duration": 1732,
    "start_time": "2023-11-16T15:13:54.195Z"
   },
   {
    "duration": 1190,
    "start_time": "2023-11-16T15:13:55.929Z"
   },
   {
    "duration": 2063,
    "start_time": "2023-11-16T15:13:57.121Z"
   },
   {
    "duration": 43,
    "start_time": "2023-11-16T15:13:59.188Z"
   },
   {
    "duration": 104,
    "start_time": "2023-11-16T15:13:59.232Z"
   },
   {
    "duration": 7,
    "start_time": "2023-11-16T15:13:59.338Z"
   },
   {
    "duration": 53,
    "start_time": "2023-11-16T15:13:59.347Z"
   },
   {
    "duration": 170,
    "start_time": "2023-11-16T15:13:59.402Z"
   },
   {
    "duration": 39,
    "start_time": "2023-11-16T15:13:59.574Z"
   },
   {
    "duration": 79,
    "start_time": "2023-11-16T15:13:59.615Z"
   },
   {
    "duration": 11,
    "start_time": "2023-11-16T15:13:59.696Z"
   },
   {
    "duration": 73,
    "start_time": "2023-11-16T15:13:59.708Z"
   },
   {
    "duration": 548,
    "start_time": "2023-11-16T15:13:59.785Z"
   },
   {
    "duration": 32,
    "start_time": "2023-11-16T15:14:00.334Z"
   },
   {
    "duration": 97,
    "start_time": "2023-11-16T15:14:00.368Z"
   },
   {
    "duration": 259,
    "start_time": "2023-11-16T15:14:00.467Z"
   },
   {
    "duration": 21,
    "start_time": "2023-11-16T15:14:00.728Z"
   },
   {
    "duration": 98,
    "start_time": "2023-11-16T15:14:00.750Z"
   },
   {
    "duration": 225,
    "start_time": "2023-11-16T15:14:00.850Z"
   },
   {
    "duration": 237,
    "start_time": "2023-11-16T15:14:01.077Z"
   },
   {
    "duration": 26,
    "start_time": "2023-11-16T15:14:01.316Z"
   },
   {
    "duration": 25,
    "start_time": "2023-11-16T15:14:01.344Z"
   },
   {
    "duration": 5,
    "start_time": "2023-11-16T15:14:01.371Z"
   },
   {
    "duration": 318,
    "start_time": "2023-11-16T15:14:01.379Z"
   },
   {
    "duration": 217,
    "start_time": "2023-11-16T15:14:01.699Z"
   },
   {
    "duration": 468,
    "start_time": "2023-11-16T15:14:01.918Z"
   },
   {
    "duration": 107,
    "start_time": "2023-11-16T15:14:02.389Z"
   },
   {
    "duration": 383,
    "start_time": "2023-11-16T15:14:02.497Z"
   },
   {
    "duration": 702,
    "start_time": "2023-11-16T15:14:02.882Z"
   },
   {
    "duration": 1254,
    "start_time": "2023-11-16T15:14:03.586Z"
   },
   {
    "duration": 34,
    "start_time": "2023-11-16T15:14:04.841Z"
   },
   {
    "duration": 1191,
    "start_time": "2023-11-16T15:14:04.876Z"
   },
   {
    "duration": 102,
    "start_time": "2023-11-16T15:14:06.069Z"
   },
   {
    "duration": 120,
    "start_time": "2023-11-16T15:14:06.173Z"
   },
   {
    "duration": 16,
    "start_time": "2023-11-16T15:14:06.295Z"
   },
   {
    "duration": 870,
    "start_time": "2023-11-16T15:14:06.312Z"
   },
   {
    "duration": 144,
    "start_time": "2023-11-16T15:14:07.184Z"
   },
   {
    "duration": 381,
    "start_time": "2023-11-16T15:14:07.330Z"
   },
   {
    "duration": 219,
    "start_time": "2023-11-16T15:14:07.713Z"
   },
   {
    "duration": 139,
    "start_time": "2023-11-16T15:14:07.937Z"
   },
   {
    "duration": 0,
    "start_time": "2023-11-16T15:14:08.078Z"
   },
   {
    "duration": 0,
    "start_time": "2023-11-16T15:14:08.079Z"
   },
   {
    "duration": 0,
    "start_time": "2023-11-16T15:14:08.080Z"
   },
   {
    "duration": 0,
    "start_time": "2023-11-16T15:14:08.081Z"
   },
   {
    "duration": 0,
    "start_time": "2023-11-16T15:14:08.083Z"
   },
   {
    "duration": 14,
    "start_time": "2023-11-16T15:18:07.392Z"
   },
   {
    "duration": 101718,
    "start_time": "2023-11-16T15:18:36.296Z"
   },
   {
    "duration": 101001,
    "start_time": "2023-11-16T15:20:35.722Z"
   },
   {
    "duration": 107963,
    "start_time": "2023-11-16T15:23:07.902Z"
   },
   {
    "duration": 2845,
    "start_time": "2023-11-16T15:34:13.484Z"
   },
   {
    "duration": 1605,
    "start_time": "2023-11-16T15:34:16.332Z"
   },
   {
    "duration": 968,
    "start_time": "2023-11-16T15:34:17.939Z"
   },
   {
    "duration": 1731,
    "start_time": "2023-11-16T15:34:18.909Z"
   },
   {
    "duration": 46,
    "start_time": "2023-11-16T15:34:20.642Z"
   },
   {
    "duration": 99,
    "start_time": "2023-11-16T15:34:20.690Z"
   },
   {
    "duration": 6,
    "start_time": "2023-11-16T15:34:20.791Z"
   },
   {
    "duration": 50,
    "start_time": "2023-11-16T15:34:20.798Z"
   },
   {
    "duration": 162,
    "start_time": "2023-11-16T15:34:20.850Z"
   },
   {
    "duration": 51,
    "start_time": "2023-11-16T15:34:21.013Z"
   },
   {
    "duration": 59,
    "start_time": "2023-11-16T15:34:21.076Z"
   },
   {
    "duration": 11,
    "start_time": "2023-11-16T15:34:21.137Z"
   },
   {
    "duration": 83,
    "start_time": "2023-11-16T15:34:21.150Z"
   },
   {
    "duration": 512,
    "start_time": "2023-11-16T15:34:21.236Z"
   },
   {
    "duration": 35,
    "start_time": "2023-11-16T15:34:21.750Z"
   },
   {
    "duration": 51,
    "start_time": "2023-11-16T15:34:21.786Z"
   },
   {
    "duration": 278,
    "start_time": "2023-11-16T15:34:21.839Z"
   },
   {
    "duration": 20,
    "start_time": "2023-11-16T15:34:22.119Z"
   },
   {
    "duration": 62,
    "start_time": "2023-11-16T15:34:22.140Z"
   },
   {
    "duration": 228,
    "start_time": "2023-11-16T15:34:22.204Z"
   },
   {
    "duration": 237,
    "start_time": "2023-11-16T15:34:22.434Z"
   },
   {
    "duration": 27,
    "start_time": "2023-11-16T15:34:22.673Z"
   },
   {
    "duration": 9,
    "start_time": "2023-11-16T15:34:22.702Z"
   },
   {
    "duration": 5,
    "start_time": "2023-11-16T15:34:22.713Z"
   },
   {
    "duration": 326,
    "start_time": "2023-11-16T15:34:22.719Z"
   },
   {
    "duration": 203,
    "start_time": "2023-11-16T15:34:23.046Z"
   },
   {
    "duration": 458,
    "start_time": "2023-11-16T15:34:23.250Z"
   },
   {
    "duration": 132,
    "start_time": "2023-11-16T15:34:23.710Z"
   },
   {
    "duration": 385,
    "start_time": "2023-11-16T15:34:23.844Z"
   },
   {
    "duration": 681,
    "start_time": "2023-11-16T15:34:24.230Z"
   },
   {
    "duration": 1207,
    "start_time": "2023-11-16T15:34:24.913Z"
   },
   {
    "duration": 30,
    "start_time": "2023-11-16T15:34:26.121Z"
   },
   {
    "duration": 1277,
    "start_time": "2023-11-16T15:34:26.153Z"
   },
   {
    "duration": 108,
    "start_time": "2023-11-16T15:34:27.432Z"
   },
   {
    "duration": 137,
    "start_time": "2023-11-16T15:34:27.541Z"
   },
   {
    "duration": 15,
    "start_time": "2023-11-16T15:34:27.680Z"
   },
   {
    "duration": 837,
    "start_time": "2023-11-16T15:34:27.697Z"
   },
   {
    "duration": 160,
    "start_time": "2023-11-16T15:34:28.536Z"
   },
   {
    "duration": 432,
    "start_time": "2023-11-16T15:34:28.698Z"
   },
   {
    "duration": 242,
    "start_time": "2023-11-16T15:34:29.132Z"
   },
   {
    "duration": 2,
    "start_time": "2023-11-16T15:34:29.383Z"
   },
   {
    "duration": 6,
    "start_time": "2023-11-16T15:34:29.387Z"
   },
   {
    "duration": 83,
    "start_time": "2023-11-16T15:34:29.394Z"
   },
   {
    "duration": 263,
    "start_time": "2023-11-16T15:34:29.479Z"
   },
   {
    "duration": 3061,
    "start_time": "2023-11-16T15:35:49.992Z"
   },
   {
    "duration": 1595,
    "start_time": "2023-11-16T15:35:53.056Z"
   },
   {
    "duration": 1022,
    "start_time": "2023-11-16T15:35:54.652Z"
   },
   {
    "duration": 1771,
    "start_time": "2023-11-16T15:35:55.678Z"
   },
   {
    "duration": 49,
    "start_time": "2023-11-16T15:35:57.451Z"
   },
   {
    "duration": 106,
    "start_time": "2023-11-16T15:35:57.502Z"
   },
   {
    "duration": 6,
    "start_time": "2023-11-16T15:35:57.609Z"
   },
   {
    "duration": 60,
    "start_time": "2023-11-16T15:35:57.617Z"
   },
   {
    "duration": 172,
    "start_time": "2023-11-16T15:35:57.679Z"
   },
   {
    "duration": 49,
    "start_time": "2023-11-16T15:35:57.854Z"
   },
   {
    "duration": 76,
    "start_time": "2023-11-16T15:35:57.904Z"
   },
   {
    "duration": 12,
    "start_time": "2023-11-16T15:35:57.981Z"
   },
   {
    "duration": 75,
    "start_time": "2023-11-16T15:35:57.995Z"
   },
   {
    "duration": 524,
    "start_time": "2023-11-16T15:35:58.072Z"
   },
   {
    "duration": 25,
    "start_time": "2023-11-16T15:35:58.598Z"
   },
   {
    "duration": 66,
    "start_time": "2023-11-16T15:35:58.625Z"
   },
   {
    "duration": 304,
    "start_time": "2023-11-16T15:35:58.693Z"
   },
   {
    "duration": 25,
    "start_time": "2023-11-16T15:35:58.999Z"
   },
   {
    "duration": 69,
    "start_time": "2023-11-16T15:35:59.026Z"
   },
   {
    "duration": 239,
    "start_time": "2023-11-16T15:35:59.097Z"
   },
   {
    "duration": 244,
    "start_time": "2023-11-16T15:35:59.337Z"
   },
   {
    "duration": 29,
    "start_time": "2023-11-16T15:35:59.582Z"
   },
   {
    "duration": 12,
    "start_time": "2023-11-16T15:35:59.613Z"
   },
   {
    "duration": 5,
    "start_time": "2023-11-16T15:35:59.627Z"
   },
   {
    "duration": 329,
    "start_time": "2023-11-16T15:35:59.634Z"
   },
   {
    "duration": 214,
    "start_time": "2023-11-16T15:35:59.964Z"
   },
   {
    "duration": 434,
    "start_time": "2023-11-16T15:36:00.180Z"
   },
   {
    "duration": 113,
    "start_time": "2023-11-16T15:36:00.618Z"
   },
   {
    "duration": 419,
    "start_time": "2023-11-16T15:36:00.733Z"
   },
   {
    "duration": 669,
    "start_time": "2023-11-16T15:36:01.154Z"
   },
   {
    "duration": 1219,
    "start_time": "2023-11-16T15:36:01.825Z"
   },
   {
    "duration": 46,
    "start_time": "2023-11-16T15:36:03.046Z"
   },
   {
    "duration": 1189,
    "start_time": "2023-11-16T15:36:03.094Z"
   },
   {
    "duration": 99,
    "start_time": "2023-11-16T15:36:04.285Z"
   },
   {
    "duration": 127,
    "start_time": "2023-11-16T15:36:04.386Z"
   },
   {
    "duration": 15,
    "start_time": "2023-11-16T15:36:04.515Z"
   },
   {
    "duration": 716,
    "start_time": "2023-11-16T15:36:04.532Z"
   },
   {
    "duration": 166,
    "start_time": "2023-11-16T15:36:05.250Z"
   },
   {
    "duration": 411,
    "start_time": "2023-11-16T15:36:05.418Z"
   },
   {
    "duration": 229,
    "start_time": "2023-11-16T15:36:05.830Z"
   },
   {
    "duration": 4,
    "start_time": "2023-11-16T15:36:06.061Z"
   },
   {
    "duration": 169,
    "start_time": "2023-11-16T15:36:06.067Z"
   },
   {
    "duration": 79,
    "start_time": "2023-11-16T15:36:06.237Z"
   },
   {
    "duration": 221,
    "start_time": "2023-11-16T15:36:06.318Z"
   },
   {
    "duration": 2796,
    "start_time": "2023-11-16T15:37:08.015Z"
   },
   {
    "duration": 1612,
    "start_time": "2023-11-16T15:37:10.813Z"
   },
   {
    "duration": 1007,
    "start_time": "2023-11-16T15:37:12.427Z"
   },
   {
    "duration": 1720,
    "start_time": "2023-11-16T15:37:13.436Z"
   },
   {
    "duration": 45,
    "start_time": "2023-11-16T15:37:15.158Z"
   },
   {
    "duration": 101,
    "start_time": "2023-11-16T15:37:15.205Z"
   },
   {
    "duration": 6,
    "start_time": "2023-11-16T15:37:15.308Z"
   },
   {
    "duration": 63,
    "start_time": "2023-11-16T15:37:15.315Z"
   },
   {
    "duration": 164,
    "start_time": "2023-11-16T15:37:15.381Z"
   },
   {
    "duration": 50,
    "start_time": "2023-11-16T15:37:15.548Z"
   },
   {
    "duration": 57,
    "start_time": "2023-11-16T15:37:15.600Z"
   },
   {
    "duration": 16,
    "start_time": "2023-11-16T15:37:15.664Z"
   },
   {
    "duration": 55,
    "start_time": "2023-11-16T15:37:15.682Z"
   },
   {
    "duration": 503,
    "start_time": "2023-11-16T15:37:15.739Z"
   },
   {
    "duration": 38,
    "start_time": "2023-11-16T15:37:16.243Z"
   },
   {
    "duration": 46,
    "start_time": "2023-11-16T15:37:16.282Z"
   },
   {
    "duration": 287,
    "start_time": "2023-11-16T15:37:16.330Z"
   },
   {
    "duration": 22,
    "start_time": "2023-11-16T15:37:16.619Z"
   },
   {
    "duration": 61,
    "start_time": "2023-11-16T15:37:16.642Z"
   },
   {
    "duration": 234,
    "start_time": "2023-11-16T15:37:16.705Z"
   },
   {
    "duration": 214,
    "start_time": "2023-11-16T15:37:16.941Z"
   },
   {
    "duration": 29,
    "start_time": "2023-11-16T15:37:17.157Z"
   },
   {
    "duration": 9,
    "start_time": "2023-11-16T15:37:17.188Z"
   },
   {
    "duration": 14,
    "start_time": "2023-11-16T15:37:17.198Z"
   },
   {
    "duration": 317,
    "start_time": "2023-11-16T15:37:17.214Z"
   },
   {
    "duration": 195,
    "start_time": "2023-11-16T15:37:17.533Z"
   },
   {
    "duration": 423,
    "start_time": "2023-11-16T15:37:17.729Z"
   },
   {
    "duration": 104,
    "start_time": "2023-11-16T15:37:18.156Z"
   },
   {
    "duration": 380,
    "start_time": "2023-11-16T15:37:18.271Z"
   },
   {
    "duration": 684,
    "start_time": "2023-11-16T15:37:18.652Z"
   },
   {
    "duration": 1189,
    "start_time": "2023-11-16T15:37:19.338Z"
   },
   {
    "duration": 51,
    "start_time": "2023-11-16T15:37:20.528Z"
   },
   {
    "duration": 1195,
    "start_time": "2023-11-16T15:37:20.582Z"
   },
   {
    "duration": 126,
    "start_time": "2023-11-16T15:37:21.782Z"
   },
   {
    "duration": 127,
    "start_time": "2023-11-16T15:37:21.910Z"
   },
   {
    "duration": 34,
    "start_time": "2023-11-16T15:37:22.039Z"
   },
   {
    "duration": 757,
    "start_time": "2023-11-16T15:37:22.074Z"
   },
   {
    "duration": 155,
    "start_time": "2023-11-16T15:37:22.833Z"
   },
   {
    "duration": 387,
    "start_time": "2023-11-16T15:37:22.990Z"
   },
   {
    "duration": 224,
    "start_time": "2023-11-16T15:37:23.381Z"
   },
   {
    "duration": 3,
    "start_time": "2023-11-16T15:37:23.608Z"
   },
   {
    "duration": 14,
    "start_time": "2023-11-16T15:37:23.613Z"
   },
   {
    "duration": 84,
    "start_time": "2023-11-16T15:37:23.629Z"
   },
   {
    "duration": 283,
    "start_time": "2023-11-16T15:37:23.715Z"
   },
   {
    "duration": 2706,
    "start_time": "2023-11-16T15:43:15.790Z"
   },
   {
    "duration": 1547,
    "start_time": "2023-11-16T15:43:18.498Z"
   },
   {
    "duration": 1004,
    "start_time": "2023-11-16T15:43:20.047Z"
   },
   {
    "duration": 1774,
    "start_time": "2023-11-16T15:43:21.053Z"
   },
   {
    "duration": 51,
    "start_time": "2023-11-16T15:43:22.829Z"
   },
   {
    "duration": 99,
    "start_time": "2023-11-16T15:43:22.882Z"
   },
   {
    "duration": 6,
    "start_time": "2023-11-16T15:43:22.982Z"
   },
   {
    "duration": 38,
    "start_time": "2023-11-16T15:43:22.990Z"
   },
   {
    "duration": 170,
    "start_time": "2023-11-16T15:43:23.030Z"
   },
   {
    "duration": 37,
    "start_time": "2023-11-16T15:43:23.201Z"
   },
   {
    "duration": 78,
    "start_time": "2023-11-16T15:43:23.240Z"
   },
   {
    "duration": 10,
    "start_time": "2023-11-16T15:43:23.320Z"
   },
   {
    "duration": 69,
    "start_time": "2023-11-16T15:43:23.331Z"
   },
   {
    "duration": 513,
    "start_time": "2023-11-16T15:43:23.403Z"
   },
   {
    "duration": 23,
    "start_time": "2023-11-16T15:43:23.917Z"
   },
   {
    "duration": 64,
    "start_time": "2023-11-16T15:43:23.942Z"
   },
   {
    "duration": 276,
    "start_time": "2023-11-16T15:43:24.007Z"
   },
   {
    "duration": 20,
    "start_time": "2023-11-16T15:43:24.284Z"
   },
   {
    "duration": 72,
    "start_time": "2023-11-16T15:43:24.306Z"
   },
   {
    "duration": 221,
    "start_time": "2023-11-16T15:43:24.382Z"
   },
   {
    "duration": 227,
    "start_time": "2023-11-16T15:43:24.605Z"
   },
   {
    "duration": 48,
    "start_time": "2023-11-16T15:43:24.834Z"
   },
   {
    "duration": 14,
    "start_time": "2023-11-16T15:43:24.884Z"
   },
   {
    "duration": 16,
    "start_time": "2023-11-16T15:43:24.900Z"
   },
   {
    "duration": 324,
    "start_time": "2023-11-16T15:43:24.918Z"
   },
   {
    "duration": 201,
    "start_time": "2023-11-16T15:43:25.244Z"
   },
   {
    "duration": 465,
    "start_time": "2023-11-16T15:43:25.447Z"
   },
   {
    "duration": 106,
    "start_time": "2023-11-16T15:43:25.913Z"
   },
   {
    "duration": 380,
    "start_time": "2023-11-16T15:43:26.020Z"
   },
   {
    "duration": 658,
    "start_time": "2023-11-16T15:43:26.402Z"
   },
   {
    "duration": 1188,
    "start_time": "2023-11-16T15:43:27.062Z"
   },
   {
    "duration": 40,
    "start_time": "2023-11-16T15:43:28.252Z"
   },
   {
    "duration": 1229,
    "start_time": "2023-11-16T15:43:28.293Z"
   },
   {
    "duration": 108,
    "start_time": "2023-11-16T15:43:29.523Z"
   },
   {
    "duration": 196,
    "start_time": "2023-11-16T15:43:29.632Z"
   },
   {
    "duration": 14,
    "start_time": "2023-11-16T15:43:29.830Z"
   },
   {
    "duration": 734,
    "start_time": "2023-11-16T15:43:29.846Z"
   },
   {
    "duration": 143,
    "start_time": "2023-11-16T15:43:30.581Z"
   },
   {
    "duration": 393,
    "start_time": "2023-11-16T15:43:30.726Z"
   },
   {
    "duration": 227,
    "start_time": "2023-11-16T15:43:31.121Z"
   },
   {
    "duration": 2,
    "start_time": "2023-11-16T15:43:31.352Z"
   },
   {
    "duration": 50,
    "start_time": "2023-11-16T15:43:31.356Z"
   },
   {
    "duration": 111,
    "start_time": "2023-11-16T15:43:31.408Z"
   },
   {
    "duration": 8,
    "start_time": "2023-11-16T15:43:31.521Z"
   },
   {
    "duration": 0,
    "start_time": "2023-11-16T15:43:31.530Z"
   },
   {
    "duration": 2996,
    "start_time": "2023-11-16T15:44:32.550Z"
   },
   {
    "duration": 1918,
    "start_time": "2023-11-16T15:44:35.548Z"
   },
   {
    "duration": 1198,
    "start_time": "2023-11-16T15:44:37.468Z"
   },
   {
    "duration": 1989,
    "start_time": "2023-11-16T15:44:38.671Z"
   },
   {
    "duration": 52,
    "start_time": "2023-11-16T15:44:40.662Z"
   },
   {
    "duration": 125,
    "start_time": "2023-11-16T15:44:40.717Z"
   },
   {
    "duration": 6,
    "start_time": "2023-11-16T15:44:40.843Z"
   },
   {
    "duration": 64,
    "start_time": "2023-11-16T15:44:40.851Z"
   },
   {
    "duration": 242,
    "start_time": "2023-11-16T15:44:40.916Z"
   },
   {
    "duration": 47,
    "start_time": "2023-11-16T15:44:41.164Z"
   },
   {
    "duration": 90,
    "start_time": "2023-11-16T15:44:41.213Z"
   },
   {
    "duration": 12,
    "start_time": "2023-11-16T15:44:41.305Z"
   },
   {
    "duration": 90,
    "start_time": "2023-11-16T15:44:41.320Z"
   },
   {
    "duration": 753,
    "start_time": "2023-11-16T15:44:41.412Z"
   },
   {
    "duration": 35,
    "start_time": "2023-11-16T15:44:42.167Z"
   },
   {
    "duration": 83,
    "start_time": "2023-11-16T15:44:42.204Z"
   },
   {
    "duration": 344,
    "start_time": "2023-11-16T15:44:42.289Z"
   },
   {
    "duration": 36,
    "start_time": "2023-11-16T15:44:42.635Z"
   },
   {
    "duration": 48,
    "start_time": "2023-11-16T15:44:42.673Z"
   },
   {
    "duration": 265,
    "start_time": "2023-11-16T15:44:42.723Z"
   },
   {
    "duration": 256,
    "start_time": "2023-11-16T15:44:42.991Z"
   },
   {
    "duration": 43,
    "start_time": "2023-11-16T15:44:43.249Z"
   },
   {
    "duration": 11,
    "start_time": "2023-11-16T15:44:43.294Z"
   },
   {
    "duration": 6,
    "start_time": "2023-11-16T15:44:43.307Z"
   },
   {
    "duration": 473,
    "start_time": "2023-11-16T15:44:43.315Z"
   },
   {
    "duration": 311,
    "start_time": "2023-11-16T15:44:43.793Z"
   },
   {
    "duration": 773,
    "start_time": "2023-11-16T15:44:44.106Z"
   },
   {
    "duration": 168,
    "start_time": "2023-11-16T15:44:44.884Z"
   },
   {
    "duration": 566,
    "start_time": "2023-11-16T15:44:45.055Z"
   },
   {
    "duration": 907,
    "start_time": "2023-11-16T15:44:45.625Z"
   },
   {
    "duration": 1323,
    "start_time": "2023-11-16T15:44:46.533Z"
   },
   {
    "duration": 49,
    "start_time": "2023-11-16T15:44:47.858Z"
   },
   {
    "duration": 1363,
    "start_time": "2023-11-16T15:44:47.909Z"
   },
   {
    "duration": 136,
    "start_time": "2023-11-16T15:44:49.274Z"
   },
   {
    "duration": 148,
    "start_time": "2023-11-16T15:44:49.412Z"
   },
   {
    "duration": 23,
    "start_time": "2023-11-16T15:44:49.565Z"
   },
   {
    "duration": 893,
    "start_time": "2023-11-16T15:44:49.592Z"
   },
   {
    "duration": 194,
    "start_time": "2023-11-16T15:44:50.487Z"
   },
   {
    "duration": 429,
    "start_time": "2023-11-16T15:44:50.691Z"
   },
   {
    "duration": 274,
    "start_time": "2023-11-16T15:44:51.122Z"
   },
   {
    "duration": 3,
    "start_time": "2023-11-16T15:44:51.398Z"
   },
   {
    "duration": 21,
    "start_time": "2023-11-16T15:44:51.403Z"
   },
   {
    "duration": 87,
    "start_time": "2023-11-16T15:44:51.426Z"
   },
   {
    "duration": 333,
    "start_time": "2023-11-16T15:44:51.515Z"
   },
   {
    "duration": 2666,
    "start_time": "2023-11-16T15:47:33.119Z"
   },
   {
    "duration": 1597,
    "start_time": "2023-11-16T15:47:35.787Z"
   },
   {
    "duration": 995,
    "start_time": "2023-11-16T15:47:37.385Z"
   },
   {
    "duration": 1776,
    "start_time": "2023-11-16T15:47:38.382Z"
   },
   {
    "duration": 41,
    "start_time": "2023-11-16T15:47:40.161Z"
   },
   {
    "duration": 111,
    "start_time": "2023-11-16T15:47:40.204Z"
   },
   {
    "duration": 7,
    "start_time": "2023-11-16T15:47:40.316Z"
   },
   {
    "duration": 55,
    "start_time": "2023-11-16T15:47:40.324Z"
   },
   {
    "duration": 159,
    "start_time": "2023-11-16T15:47:40.381Z"
   },
   {
    "duration": 56,
    "start_time": "2023-11-16T15:47:40.543Z"
   },
   {
    "duration": 58,
    "start_time": "2023-11-16T15:47:40.601Z"
   },
   {
    "duration": 18,
    "start_time": "2023-11-16T15:47:40.661Z"
   },
   {
    "duration": 73,
    "start_time": "2023-11-16T15:47:40.680Z"
   },
   {
    "duration": 532,
    "start_time": "2023-11-16T15:47:40.755Z"
   },
   {
    "duration": 24,
    "start_time": "2023-11-16T15:47:41.289Z"
   },
   {
    "duration": 65,
    "start_time": "2023-11-16T15:47:41.315Z"
   },
   {
    "duration": 274,
    "start_time": "2023-11-16T15:47:41.382Z"
   },
   {
    "duration": 29,
    "start_time": "2023-11-16T15:47:41.658Z"
   },
   {
    "duration": 48,
    "start_time": "2023-11-16T15:47:41.689Z"
   },
   {
    "duration": 251,
    "start_time": "2023-11-16T15:47:41.738Z"
   },
   {
    "duration": 235,
    "start_time": "2023-11-16T15:47:41.991Z"
   },
   {
    "duration": 46,
    "start_time": "2023-11-16T15:47:42.229Z"
   },
   {
    "duration": 10,
    "start_time": "2023-11-16T15:47:42.277Z"
   },
   {
    "duration": 5,
    "start_time": "2023-11-16T15:47:42.288Z"
   },
   {
    "duration": 318,
    "start_time": "2023-11-16T15:47:42.294Z"
   },
   {
    "duration": 201,
    "start_time": "2023-11-16T15:47:42.614Z"
   },
   {
    "duration": 462,
    "start_time": "2023-11-16T15:47:42.817Z"
   },
   {
    "duration": 132,
    "start_time": "2023-11-16T15:47:43.285Z"
   },
   {
    "duration": 392,
    "start_time": "2023-11-16T15:47:43.419Z"
   },
   {
    "duration": 675,
    "start_time": "2023-11-16T15:47:43.814Z"
   },
   {
    "duration": 1219,
    "start_time": "2023-11-16T15:47:44.491Z"
   },
   {
    "duration": 41,
    "start_time": "2023-11-16T15:47:45.712Z"
   },
   {
    "duration": 1194,
    "start_time": "2023-11-16T15:47:45.755Z"
   },
   {
    "duration": 105,
    "start_time": "2023-11-16T15:47:46.951Z"
   },
   {
    "duration": 134,
    "start_time": "2023-11-16T15:47:47.064Z"
   },
   {
    "duration": 15,
    "start_time": "2023-11-16T15:47:47.200Z"
   },
   {
    "duration": 743,
    "start_time": "2023-11-16T15:47:47.216Z"
   },
   {
    "duration": 164,
    "start_time": "2023-11-16T15:47:47.960Z"
   },
   {
    "duration": 384,
    "start_time": "2023-11-16T15:47:48.126Z"
   },
   {
    "duration": 229,
    "start_time": "2023-11-16T15:47:48.512Z"
   },
   {
    "duration": 3,
    "start_time": "2023-11-16T15:47:48.743Z"
   },
   {
    "duration": 22,
    "start_time": "2023-11-16T15:47:48.748Z"
   },
   {
    "duration": 66,
    "start_time": "2023-11-16T15:47:48.778Z"
   },
   {
    "duration": 2870,
    "start_time": "2023-11-16T16:10:46.664Z"
   },
   {
    "duration": 1637,
    "start_time": "2023-11-16T16:10:49.646Z"
   },
   {
    "duration": 1030,
    "start_time": "2023-11-16T16:10:51.849Z"
   },
   {
    "duration": 1836,
    "start_time": "2023-11-16T16:10:52.893Z"
   },
   {
    "duration": 36,
    "start_time": "2023-11-16T16:10:57.798Z"
   },
   {
    "duration": 94,
    "start_time": "2023-11-16T16:10:58.402Z"
   },
   {
    "duration": 8,
    "start_time": "2023-11-16T16:10:58.678Z"
   },
   {
    "duration": 39,
    "start_time": "2023-11-16T16:10:59.098Z"
   },
   {
    "duration": 168,
    "start_time": "2023-11-16T16:10:59.314Z"
   },
   {
    "duration": 45,
    "start_time": "2023-11-16T16:11:00.054Z"
   },
   {
    "duration": 58,
    "start_time": "2023-11-16T16:11:00.490Z"
   },
   {
    "duration": 12,
    "start_time": "2023-11-16T16:11:00.694Z"
   },
   {
    "duration": 58,
    "start_time": "2023-11-16T16:11:00.897Z"
   },
   {
    "duration": 523,
    "start_time": "2023-11-16T16:11:01.298Z"
   },
   {
    "duration": 26,
    "start_time": "2023-11-16T16:11:01.823Z"
   },
   {
    "duration": 50,
    "start_time": "2023-11-16T16:11:02.290Z"
   },
   {
    "duration": 268,
    "start_time": "2023-11-16T16:11:02.442Z"
   },
   {
    "duration": 20,
    "start_time": "2023-11-16T16:11:02.712Z"
   },
   {
    "duration": 64,
    "start_time": "2023-11-16T16:11:03.034Z"
   },
   {
    "duration": 213,
    "start_time": "2023-11-16T16:11:05.042Z"
   },
   {
    "duration": 235,
    "start_time": "2023-11-16T16:11:06.042Z"
   },
   {
    "duration": 30,
    "start_time": "2023-11-16T16:11:07.458Z"
   },
   {
    "duration": 17,
    "start_time": "2023-11-16T16:11:10.458Z"
   },
   {
    "duration": 4,
    "start_time": "2023-11-16T16:11:11.538Z"
   },
   {
    "duration": 315,
    "start_time": "2023-11-16T16:11:12.862Z"
   },
   {
    "duration": 5,
    "start_time": "2023-11-16T16:11:14.250Z"
   },
   {
    "duration": 190,
    "start_time": "2023-11-16T16:12:15.194Z"
   },
   {
    "duration": 412,
    "start_time": "2023-11-16T16:12:15.903Z"
   },
   {
    "duration": 106,
    "start_time": "2023-11-16T16:12:17.618Z"
   },
   {
    "duration": 360,
    "start_time": "2023-11-16T16:12:33.123Z"
   },
   {
    "duration": 641,
    "start_time": "2023-11-16T16:12:34.086Z"
   },
   {
    "duration": 1216,
    "start_time": "2023-11-16T16:12:35.118Z"
   },
   {
    "duration": 44,
    "start_time": "2023-11-16T16:12:36.336Z"
   },
   {
    "duration": 1248,
    "start_time": "2023-11-16T16:12:36.382Z"
   },
   {
    "duration": 105,
    "start_time": "2023-11-16T16:12:37.632Z"
   },
   {
    "duration": 2650,
    "start_time": "2023-11-16T16:33:42.379Z"
   },
   {
    "duration": 1670,
    "start_time": "2023-11-16T16:33:45.031Z"
   },
   {
    "duration": 981,
    "start_time": "2023-11-16T16:33:46.703Z"
   },
   {
    "duration": 1784,
    "start_time": "2023-11-16T16:33:47.686Z"
   },
   {
    "duration": 40,
    "start_time": "2023-11-16T16:33:49.476Z"
   },
   {
    "duration": 113,
    "start_time": "2023-11-16T16:33:49.518Z"
   },
   {
    "duration": 8,
    "start_time": "2023-11-16T16:33:49.633Z"
   },
   {
    "duration": 65,
    "start_time": "2023-11-16T16:33:49.643Z"
   },
   {
    "duration": 208,
    "start_time": "2023-11-16T16:33:49.710Z"
   },
   {
    "duration": 62,
    "start_time": "2023-11-16T16:33:49.921Z"
   },
   {
    "duration": 58,
    "start_time": "2023-11-16T16:33:49.996Z"
   },
   {
    "duration": 25,
    "start_time": "2023-11-16T16:33:50.056Z"
   },
   {
    "duration": 56,
    "start_time": "2023-11-16T16:33:50.086Z"
   },
   {
    "duration": 559,
    "start_time": "2023-11-16T16:33:50.144Z"
   },
   {
    "duration": 25,
    "start_time": "2023-11-16T16:33:50.705Z"
   },
   {
    "duration": 81,
    "start_time": "2023-11-16T16:33:50.731Z"
   },
   {
    "duration": 292,
    "start_time": "2023-11-16T16:33:50.814Z"
   },
   {
    "duration": 23,
    "start_time": "2023-11-16T16:33:51.107Z"
   },
   {
    "duration": 69,
    "start_time": "2023-11-16T16:33:51.132Z"
   },
   {
    "duration": 275,
    "start_time": "2023-11-16T16:33:51.203Z"
   },
   {
    "duration": 232,
    "start_time": "2023-11-16T16:33:51.481Z"
   },
   {
    "duration": 26,
    "start_time": "2023-11-16T16:33:51.715Z"
   },
   {
    "duration": 10,
    "start_time": "2023-11-16T16:33:51.744Z"
   },
   {
    "duration": 19,
    "start_time": "2023-11-16T16:33:51.755Z"
   },
   {
    "duration": 445,
    "start_time": "2023-11-16T16:33:51.778Z"
   },
   {
    "duration": 13,
    "start_time": "2023-11-16T16:33:52.265Z"
   },
   {
    "duration": 253,
    "start_time": "2023-11-16T16:33:52.280Z"
   },
   {
    "duration": 467,
    "start_time": "2023-11-16T16:33:52.537Z"
   },
   {
    "duration": 114,
    "start_time": "2023-11-16T16:33:53.006Z"
   },
   {
    "duration": 397,
    "start_time": "2023-11-16T16:33:53.122Z"
   },
   {
    "duration": 691,
    "start_time": "2023-11-16T16:33:53.521Z"
   },
   {
    "duration": 1211,
    "start_time": "2023-11-16T16:33:54.214Z"
   },
   {
    "duration": 30,
    "start_time": "2023-11-16T16:33:55.427Z"
   },
   {
    "duration": 1217,
    "start_time": "2023-11-16T16:33:55.465Z"
   },
   {
    "duration": 106,
    "start_time": "2023-11-16T16:33:56.684Z"
   },
   {
    "duration": 123,
    "start_time": "2023-11-16T16:33:56.792Z"
   },
   {
    "duration": 23,
    "start_time": "2023-11-16T16:35:04.764Z"
   },
   {
    "duration": 732,
    "start_time": "2023-11-16T16:35:18.180Z"
   },
   {
    "duration": 162,
    "start_time": "2023-11-16T16:35:19.258Z"
   },
   {
    "duration": 394,
    "start_time": "2023-11-16T16:35:28.987Z"
   },
   {
    "duration": 246,
    "start_time": "2023-11-16T16:35:32.936Z"
   },
   {
    "duration": 148,
    "start_time": "2023-11-16T16:36:44.645Z"
   },
   {
    "duration": 2653,
    "start_time": "2023-11-16T16:39:35.879Z"
   },
   {
    "duration": 1612,
    "start_time": "2023-11-16T16:39:38.534Z"
   },
   {
    "duration": 978,
    "start_time": "2023-11-16T16:39:40.147Z"
   },
   {
    "duration": 1762,
    "start_time": "2023-11-16T16:39:41.127Z"
   },
   {
    "duration": 39,
    "start_time": "2023-11-16T16:39:42.890Z"
   },
   {
    "duration": 105,
    "start_time": "2023-11-16T16:39:42.931Z"
   },
   {
    "duration": 6,
    "start_time": "2023-11-16T16:39:43.038Z"
   },
   {
    "duration": 56,
    "start_time": "2023-11-16T16:39:43.046Z"
   },
   {
    "duration": 173,
    "start_time": "2023-11-16T16:39:43.104Z"
   },
   {
    "duration": 39,
    "start_time": "2023-11-16T16:39:43.281Z"
   },
   {
    "duration": 74,
    "start_time": "2023-11-16T16:39:43.321Z"
   },
   {
    "duration": 12,
    "start_time": "2023-11-16T16:39:43.397Z"
   },
   {
    "duration": 73,
    "start_time": "2023-11-16T16:39:43.410Z"
   },
   {
    "duration": 534,
    "start_time": "2023-11-16T16:39:43.485Z"
   },
   {
    "duration": 21,
    "start_time": "2023-11-16T16:39:44.021Z"
   },
   {
    "duration": 70,
    "start_time": "2023-11-16T16:39:44.043Z"
   },
   {
    "duration": 268,
    "start_time": "2023-11-16T16:39:44.115Z"
   },
   {
    "duration": 20,
    "start_time": "2023-11-16T16:39:44.384Z"
   },
   {
    "duration": 73,
    "start_time": "2023-11-16T16:39:44.405Z"
   },
   {
    "duration": 217,
    "start_time": "2023-11-16T16:39:44.480Z"
   },
   {
    "duration": 256,
    "start_time": "2023-11-16T16:39:44.699Z"
   },
   {
    "duration": 31,
    "start_time": "2023-11-16T16:39:44.957Z"
   },
   {
    "duration": 9,
    "start_time": "2023-11-16T16:39:44.990Z"
   },
   {
    "duration": 38,
    "start_time": "2023-11-16T16:39:45.001Z"
   },
   {
    "duration": 337,
    "start_time": "2023-11-16T16:39:45.040Z"
   },
   {
    "duration": 6,
    "start_time": "2023-11-16T16:39:45.379Z"
   },
   {
    "duration": 197,
    "start_time": "2023-11-16T16:39:45.386Z"
   },
   {
    "duration": 438,
    "start_time": "2023-11-16T16:39:45.586Z"
   },
   {
    "duration": 102,
    "start_time": "2023-11-16T16:39:46.026Z"
   },
   {
    "duration": 377,
    "start_time": "2023-11-16T16:39:46.129Z"
   },
   {
    "duration": 678,
    "start_time": "2023-11-16T16:39:46.508Z"
   },
   {
    "duration": 1216,
    "start_time": "2023-11-16T16:39:47.188Z"
   },
   {
    "duration": 31,
    "start_time": "2023-11-16T16:39:48.406Z"
   },
   {
    "duration": 1240,
    "start_time": "2023-11-16T16:39:48.438Z"
   },
   {
    "duration": 147,
    "start_time": "2023-11-16T16:39:49.683Z"
   },
   {
    "duration": 130,
    "start_time": "2023-11-16T16:39:49.832Z"
   },
   {
    "duration": 21,
    "start_time": "2023-11-16T16:39:49.966Z"
   },
   {
    "duration": 788,
    "start_time": "2023-11-16T16:39:49.989Z"
   },
   {
    "duration": 165,
    "start_time": "2023-11-16T16:39:50.779Z"
   },
   {
    "duration": 408,
    "start_time": "2023-11-16T16:39:52.872Z"
   },
   {
    "duration": 239,
    "start_time": "2023-11-16T16:39:54.743Z"
   },
   {
    "duration": 3,
    "start_time": "2023-11-16T16:40:43.805Z"
   },
   {
    "duration": 3,
    "start_time": "2023-11-16T16:40:45.561Z"
   },
   {
    "duration": 3,
    "start_time": "2023-11-16T16:41:35.841Z"
   },
   {
    "duration": 2766,
    "start_time": "2023-11-16T16:54:29.237Z"
   },
   {
    "duration": 1580,
    "start_time": "2023-11-16T16:54:32.006Z"
   },
   {
    "duration": 1016,
    "start_time": "2023-11-16T16:54:33.588Z"
   },
   {
    "duration": 1833,
    "start_time": "2023-11-16T16:54:34.606Z"
   },
   {
    "duration": 46,
    "start_time": "2023-11-16T16:54:36.441Z"
   },
   {
    "duration": 101,
    "start_time": "2023-11-16T16:54:36.488Z"
   },
   {
    "duration": 11,
    "start_time": "2023-11-16T16:54:36.591Z"
   },
   {
    "duration": 42,
    "start_time": "2023-11-16T16:54:36.604Z"
   },
   {
    "duration": 167,
    "start_time": "2023-11-16T16:54:36.647Z"
   },
   {
    "duration": 37,
    "start_time": "2023-11-16T16:54:36.815Z"
   },
   {
    "duration": 69,
    "start_time": "2023-11-16T16:54:36.865Z"
   },
   {
    "duration": 11,
    "start_time": "2023-11-16T16:54:36.936Z"
   },
   {
    "duration": 70,
    "start_time": "2023-11-16T16:54:36.948Z"
   },
   {
    "duration": 530,
    "start_time": "2023-11-16T16:54:37.021Z"
   },
   {
    "duration": 34,
    "start_time": "2023-11-16T16:54:37.553Z"
   },
   {
    "duration": 51,
    "start_time": "2023-11-16T16:54:37.589Z"
   },
   {
    "duration": 294,
    "start_time": "2023-11-16T16:54:37.642Z"
   },
   {
    "duration": 39,
    "start_time": "2023-11-16T16:54:37.938Z"
   },
   {
    "duration": 49,
    "start_time": "2023-11-16T16:54:37.979Z"
   },
   {
    "duration": 262,
    "start_time": "2023-11-16T16:54:38.030Z"
   },
   {
    "duration": 232,
    "start_time": "2023-11-16T16:54:38.294Z"
   },
   {
    "duration": 41,
    "start_time": "2023-11-16T16:54:38.528Z"
   },
   {
    "duration": 16,
    "start_time": "2023-11-16T16:54:38.570Z"
   },
   {
    "duration": 6,
    "start_time": "2023-11-16T16:54:38.588Z"
   },
   {
    "duration": 331,
    "start_time": "2023-11-16T16:54:38.596Z"
   },
   {
    "duration": 5,
    "start_time": "2023-11-16T16:54:38.928Z"
   },
   {
    "duration": 247,
    "start_time": "2023-11-16T16:54:38.935Z"
   },
   {
    "duration": 419,
    "start_time": "2023-11-16T16:54:39.186Z"
   },
   {
    "duration": 124,
    "start_time": "2023-11-16T16:54:39.607Z"
   },
   {
    "duration": 403,
    "start_time": "2023-11-16T16:54:39.733Z"
   },
   {
    "duration": 663,
    "start_time": "2023-11-16T16:54:40.138Z"
   },
   {
    "duration": 1184,
    "start_time": "2023-11-16T16:54:40.803Z"
   },
   {
    "duration": 31,
    "start_time": "2023-11-16T16:54:41.989Z"
   },
   {
    "duration": 1205,
    "start_time": "2023-11-16T16:54:42.022Z"
   },
   {
    "duration": 106,
    "start_time": "2023-11-16T16:54:43.229Z"
   },
   {
    "duration": 130,
    "start_time": "2023-11-16T16:54:43.336Z"
   },
   {
    "duration": 17,
    "start_time": "2023-11-16T16:54:43.473Z"
   },
   {
    "duration": 787,
    "start_time": "2023-11-16T16:54:43.491Z"
   },
   {
    "duration": 171,
    "start_time": "2023-11-16T16:54:44.281Z"
   },
   {
    "duration": 385,
    "start_time": "2023-11-16T16:54:44.454Z"
   },
   {
    "duration": 253,
    "start_time": "2023-11-16T16:54:44.842Z"
   },
   {
    "duration": 50217,
    "start_time": "2023-11-16T16:54:45.097Z"
   },
   {
    "duration": 314971,
    "start_time": "2023-11-16T16:55:35.315Z"
   },
   {
    "duration": 78,
    "start_time": "2023-11-16T17:00:50.288Z"
   },
   {
    "duration": 2659,
    "start_time": "2023-11-16T17:35:53.697Z"
   },
   {
    "duration": 1671,
    "start_time": "2023-11-16T17:35:56.359Z"
   },
   {
    "duration": 990,
    "start_time": "2023-11-16T17:35:58.032Z"
   },
   {
    "duration": 1832,
    "start_time": "2023-11-16T17:35:59.024Z"
   },
   {
    "duration": 48,
    "start_time": "2023-11-16T17:36:00.857Z"
   },
   {
    "duration": 116,
    "start_time": "2023-11-16T17:36:00.907Z"
   },
   {
    "duration": 6,
    "start_time": "2023-11-16T17:36:01.025Z"
   },
   {
    "duration": 98,
    "start_time": "2023-11-16T17:36:01.032Z"
   },
   {
    "duration": 179,
    "start_time": "2023-11-16T17:36:01.133Z"
   },
   {
    "duration": 39,
    "start_time": "2023-11-16T17:36:01.316Z"
   },
   {
    "duration": 85,
    "start_time": "2023-11-16T17:36:01.365Z"
   },
   {
    "duration": 11,
    "start_time": "2023-11-16T17:36:01.451Z"
   },
   {
    "duration": 115,
    "start_time": "2023-11-16T17:36:01.463Z"
   },
   {
    "duration": 550,
    "start_time": "2023-11-16T17:36:01.580Z"
   },
   {
    "duration": 24,
    "start_time": "2023-11-16T17:36:02.132Z"
   },
   {
    "duration": 64,
    "start_time": "2023-11-16T17:36:02.166Z"
   },
   {
    "duration": 299,
    "start_time": "2023-11-16T17:36:02.232Z"
   },
   {
    "duration": 22,
    "start_time": "2023-11-16T17:36:02.533Z"
   },
   {
    "duration": 52,
    "start_time": "2023-11-16T17:36:02.569Z"
   },
   {
    "duration": 229,
    "start_time": "2023-11-16T17:36:02.623Z"
   },
   {
    "duration": 231,
    "start_time": "2023-11-16T17:36:02.854Z"
   },
   {
    "duration": 26,
    "start_time": "2023-11-16T17:36:03.087Z"
   },
   {
    "duration": 9,
    "start_time": "2023-11-16T17:36:03.115Z"
   },
   {
    "duration": 5,
    "start_time": "2023-11-16T17:36:03.126Z"
   },
   {
    "duration": 350,
    "start_time": "2023-11-16T17:36:03.132Z"
   },
   {
    "duration": 4,
    "start_time": "2023-11-16T17:36:03.484Z"
   },
   {
    "duration": 216,
    "start_time": "2023-11-16T17:36:03.489Z"
   },
   {
    "duration": 517,
    "start_time": "2023-11-16T17:36:03.709Z"
   },
   {
    "duration": 115,
    "start_time": "2023-11-16T17:36:04.227Z"
   },
   {
    "duration": 407,
    "start_time": "2023-11-16T17:36:04.343Z"
   },
   {
    "duration": 721,
    "start_time": "2023-11-16T17:36:04.752Z"
   },
   {
    "duration": 1312,
    "start_time": "2023-11-16T17:36:05.475Z"
   },
   {
    "duration": 41,
    "start_time": "2023-11-16T17:36:06.789Z"
   },
   {
    "duration": 1265,
    "start_time": "2023-11-16T17:36:06.831Z"
   },
   {
    "duration": 108,
    "start_time": "2023-11-16T17:36:08.098Z"
   },
   {
    "duration": 134,
    "start_time": "2023-11-16T17:36:08.208Z"
   },
   {
    "duration": 35,
    "start_time": "2023-11-16T17:36:08.343Z"
   },
   {
    "duration": 887,
    "start_time": "2023-11-16T17:36:08.381Z"
   },
   {
    "duration": 201,
    "start_time": "2023-11-16T17:36:09.279Z"
   },
   {
    "duration": 417,
    "start_time": "2023-11-16T17:36:09.482Z"
   },
   {
    "duration": 229,
    "start_time": "2023-11-16T17:36:09.902Z"
   },
   {
    "duration": 49747,
    "start_time": "2023-11-16T17:36:10.133Z"
   },
   {
    "duration": 314200,
    "start_time": "2023-11-16T17:36:59.882Z"
   },
   {
    "duration": 68,
    "start_time": "2023-11-16T17:42:14.084Z"
   },
   {
    "duration": 2497,
    "start_time": "2023-11-17T01:35:52.414Z"
   },
   {
    "duration": 1511,
    "start_time": "2023-11-17T01:35:54.913Z"
   },
   {
    "duration": 1043,
    "start_time": "2023-11-17T01:35:56.425Z"
   },
   {
    "duration": 1561,
    "start_time": "2023-11-17T01:35:57.470Z"
   },
   {
    "duration": 35,
    "start_time": "2023-11-17T01:35:59.033Z"
   },
   {
    "duration": 15,
    "start_time": "2023-11-17T01:35:59.070Z"
   },
   {
    "duration": 5,
    "start_time": "2023-11-17T01:35:59.086Z"
   },
   {
    "duration": 53,
    "start_time": "2023-11-17T01:35:59.092Z"
   },
   {
    "duration": 134,
    "start_time": "2023-11-17T01:35:59.147Z"
   },
   {
    "duration": 33,
    "start_time": "2023-11-17T01:35:59.283Z"
   },
   {
    "duration": 61,
    "start_time": "2023-11-17T01:35:59.318Z"
   },
   {
    "duration": 9,
    "start_time": "2023-11-17T01:35:59.381Z"
   },
   {
    "duration": 74,
    "start_time": "2023-11-17T01:35:59.392Z"
   },
   {
    "duration": 375,
    "start_time": "2023-11-17T01:35:59.467Z"
   },
   {
    "duration": 24,
    "start_time": "2023-11-17T01:35:59.843Z"
   },
   {
    "duration": 50,
    "start_time": "2023-11-17T01:35:59.869Z"
   },
   {
    "duration": 221,
    "start_time": "2023-11-17T01:35:59.921Z"
   },
   {
    "duration": 24,
    "start_time": "2023-11-17T01:36:00.143Z"
   },
   {
    "duration": 60,
    "start_time": "2023-11-17T01:36:00.168Z"
   },
   {
    "duration": 190,
    "start_time": "2023-11-17T01:36:00.229Z"
   },
   {
    "duration": 180,
    "start_time": "2023-11-17T01:36:00.421Z"
   },
   {
    "duration": 22,
    "start_time": "2023-11-17T01:36:00.602Z"
   },
   {
    "duration": 8,
    "start_time": "2023-11-17T01:36:00.625Z"
   },
   {
    "duration": 44,
    "start_time": "2023-11-17T01:36:00.635Z"
   },
   {
    "duration": 298,
    "start_time": "2023-11-17T01:36:00.681Z"
   },
   {
    "duration": 4,
    "start_time": "2023-11-17T01:36:00.980Z"
   },
   {
    "duration": 182,
    "start_time": "2023-11-17T01:36:00.986Z"
   },
   {
    "duration": 340,
    "start_time": "2023-11-17T01:36:01.171Z"
   },
   {
    "duration": 89,
    "start_time": "2023-11-17T01:36:01.512Z"
   },
   {
    "duration": 389,
    "start_time": "2023-11-17T01:36:01.603Z"
   },
   {
    "duration": 466,
    "start_time": "2023-11-17T01:36:01.994Z"
   },
   {
    "duration": 970,
    "start_time": "2023-11-17T01:36:02.461Z"
   },
   {
    "duration": 29,
    "start_time": "2023-11-17T01:36:03.432Z"
   },
   {
    "duration": 972,
    "start_time": "2023-11-17T01:36:03.462Z"
   },
   {
    "duration": 86,
    "start_time": "2023-11-17T01:36:04.435Z"
   },
   {
    "duration": 111,
    "start_time": "2023-11-17T01:36:04.522Z"
   },
   {
    "duration": 20,
    "start_time": "2023-11-17T01:36:04.635Z"
   },
   {
    "duration": 565,
    "start_time": "2023-11-17T01:36:04.656Z"
   },
   {
    "duration": 111,
    "start_time": "2023-11-17T01:36:05.223Z"
   },
   {
    "duration": 332,
    "start_time": "2023-11-17T01:36:05.335Z"
   },
   {
    "duration": 179,
    "start_time": "2023-11-17T01:36:05.669Z"
   },
   {
    "duration": 41242,
    "start_time": "2023-11-17T01:36:05.851Z"
   },
   {
    "duration": 252805,
    "start_time": "2023-11-17T01:36:47.094Z"
   },
   {
    "duration": 57,
    "start_time": "2023-11-17T01:40:59.901Z"
   },
   {
    "duration": 1567632,
    "start_time": "2023-11-17T01:40:59.959Z"
   },
   {
    "duration": 182,
    "start_time": "2023-11-17T02:07:07.593Z"
   },
   {
    "duration": 185978,
    "start_time": "2023-11-17T02:13:30.676Z"
   },
   {
    "duration": 181936,
    "start_time": "2023-11-17T02:20:40.040Z"
   },
   {
    "duration": 44,
    "start_time": "2023-11-17T10:03:15.961Z"
   },
   {
    "duration": 2697,
    "start_time": "2023-11-17T10:13:23.843Z"
   },
   {
    "duration": 1608,
    "start_time": "2023-11-17T10:13:26.543Z"
   },
   {
    "duration": 1113,
    "start_time": "2023-11-17T10:13:28.153Z"
   },
   {
    "duration": 1563,
    "start_time": "2023-11-17T10:13:29.269Z"
   },
   {
    "duration": 38,
    "start_time": "2023-11-17T10:13:30.834Z"
   },
   {
    "duration": 96,
    "start_time": "2023-11-17T10:13:30.874Z"
   },
   {
    "duration": 5,
    "start_time": "2023-11-17T10:13:30.972Z"
   },
   {
    "duration": 98,
    "start_time": "2023-11-17T10:13:30.979Z"
   },
   {
    "duration": 159,
    "start_time": "2023-11-17T10:13:31.078Z"
   },
   {
    "duration": 64,
    "start_time": "2023-11-17T10:13:31.239Z"
   },
   {
    "duration": 61,
    "start_time": "2023-11-17T10:13:31.304Z"
   },
   {
    "duration": 10,
    "start_time": "2023-11-17T10:13:31.366Z"
   },
   {
    "duration": 77,
    "start_time": "2023-11-17T10:13:31.378Z"
   },
   {
    "duration": 446,
    "start_time": "2023-11-17T10:13:31.457Z"
   },
   {
    "duration": 20,
    "start_time": "2023-11-17T10:13:31.905Z"
   },
   {
    "duration": 52,
    "start_time": "2023-11-17T10:13:31.927Z"
   },
   {
    "duration": 235,
    "start_time": "2023-11-17T10:13:31.981Z"
   },
   {
    "duration": 20,
    "start_time": "2023-11-17T10:13:32.217Z"
   },
   {
    "duration": 53,
    "start_time": "2023-11-17T10:13:32.238Z"
   },
   {
    "duration": 194,
    "start_time": "2023-11-17T10:13:32.293Z"
   },
   {
    "duration": 196,
    "start_time": "2023-11-17T10:13:32.489Z"
   },
   {
    "duration": 23,
    "start_time": "2023-11-17T10:13:32.686Z"
   },
   {
    "duration": 9,
    "start_time": "2023-11-17T10:13:32.711Z"
   },
   {
    "duration": 5,
    "start_time": "2023-11-17T10:13:32.721Z"
   },
   {
    "duration": 280,
    "start_time": "2023-11-17T10:13:32.727Z"
   },
   {
    "duration": 5,
    "start_time": "2023-11-17T10:13:33.009Z"
   },
   {
    "duration": 183,
    "start_time": "2023-11-17T10:13:33.015Z"
   },
   {
    "duration": 352,
    "start_time": "2023-11-17T10:13:33.202Z"
   },
   {
    "duration": 103,
    "start_time": "2023-11-17T10:13:33.555Z"
   },
   {
    "duration": 346,
    "start_time": "2023-11-17T10:13:33.660Z"
   },
   {
    "duration": 572,
    "start_time": "2023-11-17T10:13:34.008Z"
   },
   {
    "duration": 1083,
    "start_time": "2023-11-17T10:13:34.581Z"
   },
   {
    "duration": 29,
    "start_time": "2023-11-17T10:13:35.666Z"
   },
   {
    "duration": 1061,
    "start_time": "2023-11-17T10:13:35.697Z"
   },
   {
    "duration": 92,
    "start_time": "2023-11-17T10:13:36.760Z"
   },
   {
    "duration": 107,
    "start_time": "2023-11-17T10:13:36.854Z"
   },
   {
    "duration": 14,
    "start_time": "2023-11-17T10:13:36.962Z"
   },
   {
    "duration": 602,
    "start_time": "2023-11-17T10:13:36.977Z"
   },
   {
    "duration": 134,
    "start_time": "2023-11-17T10:13:37.580Z"
   },
   {
    "duration": 354,
    "start_time": "2023-11-17T10:13:37.715Z"
   },
   {
    "duration": 205,
    "start_time": "2023-11-17T10:13:38.071Z"
   },
   {
    "duration": 43835,
    "start_time": "2023-11-17T10:13:38.277Z"
   },
   {
    "duration": 263754,
    "start_time": "2023-11-17T10:14:22.113Z"
   },
   {
    "duration": 62,
    "start_time": "2023-11-17T10:18:45.869Z"
   },
   {
    "duration": 993434,
    "start_time": "2023-11-17T10:18:45.932Z"
   },
   {
    "duration": 2481,
    "start_time": "2023-11-17T10:51:20.153Z"
   },
   {
    "duration": 1402,
    "start_time": "2023-11-17T10:51:22.636Z"
   },
   {
    "duration": 812,
    "start_time": "2023-11-17T10:51:24.040Z"
   },
   {
    "duration": 1522,
    "start_time": "2023-11-17T10:51:24.854Z"
   },
   {
    "duration": 33,
    "start_time": "2023-11-17T10:51:26.379Z"
   },
   {
    "duration": 86,
    "start_time": "2023-11-17T10:51:26.413Z"
   },
   {
    "duration": 5,
    "start_time": "2023-11-17T10:51:26.500Z"
   },
   {
    "duration": 46,
    "start_time": "2023-11-17T10:51:26.506Z"
   },
   {
    "duration": 139,
    "start_time": "2023-11-17T10:51:26.554Z"
   },
   {
    "duration": 33,
    "start_time": "2023-11-17T10:51:26.694Z"
   },
   {
    "duration": 67,
    "start_time": "2023-11-17T10:51:26.728Z"
   },
   {
    "duration": 10,
    "start_time": "2023-11-17T10:51:26.797Z"
   },
   {
    "duration": 66,
    "start_time": "2023-11-17T10:51:26.809Z"
   },
   {
    "duration": 418,
    "start_time": "2023-11-17T10:51:26.877Z"
   },
   {
    "duration": 28,
    "start_time": "2023-11-17T10:51:27.297Z"
   },
   {
    "duration": 58,
    "start_time": "2023-11-17T10:51:27.327Z"
   },
   {
    "duration": 234,
    "start_time": "2023-11-17T10:51:27.387Z"
   },
   {
    "duration": 18,
    "start_time": "2023-11-17T10:51:27.622Z"
   },
   {
    "duration": 54,
    "start_time": "2023-11-17T10:51:27.641Z"
   },
   {
    "duration": 207,
    "start_time": "2023-11-17T10:51:27.696Z"
   },
   {
    "duration": 192,
    "start_time": "2023-11-17T10:51:27.904Z"
   },
   {
    "duration": 23,
    "start_time": "2023-11-17T10:51:28.097Z"
   },
   {
    "duration": 9,
    "start_time": "2023-11-17T10:51:28.121Z"
   },
   {
    "duration": 20,
    "start_time": "2023-11-17T10:51:28.132Z"
   },
   {
    "duration": 267,
    "start_time": "2023-11-17T10:51:28.154Z"
   },
   {
    "duration": 4,
    "start_time": "2023-11-17T10:51:28.423Z"
   },
   {
    "duration": 172,
    "start_time": "2023-11-17T10:51:28.428Z"
   },
   {
    "duration": 370,
    "start_time": "2023-11-17T10:51:28.602Z"
   },
   {
    "duration": 91,
    "start_time": "2023-11-17T10:51:28.973Z"
   },
   {
    "duration": 340,
    "start_time": "2023-11-17T10:51:29.065Z"
   },
   {
    "duration": 582,
    "start_time": "2023-11-17T10:51:29.407Z"
   },
   {
    "duration": 1023,
    "start_time": "2023-11-17T10:51:29.991Z"
   },
   {
    "duration": 37,
    "start_time": "2023-11-17T10:51:31.016Z"
   },
   {
    "duration": 1039,
    "start_time": "2023-11-17T10:51:31.054Z"
   },
   {
    "duration": 93,
    "start_time": "2023-11-17T10:51:32.095Z"
   },
   {
    "duration": 123,
    "start_time": "2023-11-17T10:51:32.189Z"
   },
   {
    "duration": 13,
    "start_time": "2023-11-17T10:51:32.314Z"
   },
   {
    "duration": 582,
    "start_time": "2023-11-17T10:51:32.329Z"
   },
   {
    "duration": 138,
    "start_time": "2023-11-17T10:51:32.912Z"
   },
   {
    "duration": 361,
    "start_time": "2023-11-17T10:51:33.052Z"
   },
   {
    "duration": 187,
    "start_time": "2023-11-17T10:51:33.418Z"
   },
   {
    "duration": 43368,
    "start_time": "2023-11-17T10:51:33.607Z"
   },
   {
    "duration": 3,
    "start_time": "2023-11-17T10:52:16.977Z"
   },
   {
    "duration": 73,
    "start_time": "2023-11-17T10:52:16.982Z"
   },
   {
    "duration": 3,
    "start_time": "2023-11-17T10:52:17.057Z"
   },
   {
    "duration": 2410,
    "start_time": "2023-11-17T10:55:05.706Z"
   },
   {
    "duration": 1443,
    "start_time": "2023-11-17T10:55:08.119Z"
   },
   {
    "duration": 851,
    "start_time": "2023-11-17T10:55:09.563Z"
   },
   {
    "duration": 1603,
    "start_time": "2023-11-17T10:55:10.416Z"
   },
   {
    "duration": 43,
    "start_time": "2023-11-17T10:55:12.020Z"
   },
   {
    "duration": 90,
    "start_time": "2023-11-17T10:55:12.065Z"
   },
   {
    "duration": 6,
    "start_time": "2023-11-17T10:55:12.157Z"
   },
   {
    "duration": 33,
    "start_time": "2023-11-17T10:55:12.165Z"
   },
   {
    "duration": 157,
    "start_time": "2023-11-17T10:55:12.199Z"
   },
   {
    "duration": 37,
    "start_time": "2023-11-17T10:55:12.359Z"
   },
   {
    "duration": 72,
    "start_time": "2023-11-17T10:55:12.397Z"
   },
   {
    "duration": 10,
    "start_time": "2023-11-17T10:55:12.471Z"
   },
   {
    "duration": 70,
    "start_time": "2023-11-17T10:55:12.483Z"
   },
   {
    "duration": 438,
    "start_time": "2023-11-17T10:55:12.555Z"
   },
   {
    "duration": 23,
    "start_time": "2023-11-17T10:55:12.995Z"
   },
   {
    "duration": 76,
    "start_time": "2023-11-17T10:55:13.020Z"
   },
   {
    "duration": 273,
    "start_time": "2023-11-17T10:55:13.098Z"
   },
   {
    "duration": 21,
    "start_time": "2023-11-17T10:55:13.373Z"
   },
   {
    "duration": 67,
    "start_time": "2023-11-17T10:55:13.395Z"
   },
   {
    "duration": 251,
    "start_time": "2023-11-17T10:55:13.464Z"
   },
   {
    "duration": 223,
    "start_time": "2023-11-17T10:55:13.717Z"
   },
   {
    "duration": 28,
    "start_time": "2023-11-17T10:55:13.942Z"
   },
   {
    "duration": 9,
    "start_time": "2023-11-17T10:55:13.972Z"
   },
   {
    "duration": 5,
    "start_time": "2023-11-17T10:55:13.982Z"
   },
   {
    "duration": 293,
    "start_time": "2023-11-17T10:55:13.988Z"
   },
   {
    "duration": 5,
    "start_time": "2023-11-17T10:55:14.282Z"
   },
   {
    "duration": 199,
    "start_time": "2023-11-17T10:55:14.289Z"
   },
   {
    "duration": 393,
    "start_time": "2023-11-17T10:55:14.493Z"
   },
   {
    "duration": 93,
    "start_time": "2023-11-17T10:55:14.887Z"
   },
   {
    "duration": 358,
    "start_time": "2023-11-17T10:55:14.981Z"
   },
   {
    "duration": 586,
    "start_time": "2023-11-17T10:55:15.340Z"
   },
   {
    "duration": 1032,
    "start_time": "2023-11-17T10:55:15.928Z"
   },
   {
    "duration": 35,
    "start_time": "2023-11-17T10:55:16.962Z"
   },
   {
    "duration": 1057,
    "start_time": "2023-11-17T10:55:16.998Z"
   },
   {
    "duration": 97,
    "start_time": "2023-11-17T10:55:18.057Z"
   },
   {
    "duration": 105,
    "start_time": "2023-11-17T10:55:18.155Z"
   },
   {
    "duration": 13,
    "start_time": "2023-11-17T10:55:18.263Z"
   },
   {
    "duration": 592,
    "start_time": "2023-11-17T10:55:18.277Z"
   },
   {
    "duration": 147,
    "start_time": "2023-11-17T10:55:18.871Z"
   },
   {
    "duration": 375,
    "start_time": "2023-11-17T10:55:19.019Z"
   },
   {
    "duration": 219,
    "start_time": "2023-11-17T10:55:19.396Z"
   },
   {
    "duration": 43671,
    "start_time": "2023-11-17T10:55:19.617Z"
   },
   {
    "duration": 2,
    "start_time": "2023-11-17T10:56:03.290Z"
   },
   {
    "duration": 69,
    "start_time": "2023-11-17T10:56:03.294Z"
   },
   {
    "duration": 3,
    "start_time": "2023-11-17T10:56:03.365Z"
   },
   {
    "duration": 384102,
    "start_time": "2023-11-17T10:56:03.369Z"
   },
   {
    "duration": 353,
    "start_time": "2023-11-17T11:02:27.472Z"
   },
   {
    "duration": 120,
    "start_time": "2023-11-17T11:02:27.826Z"
   },
   {
    "duration": 299,
    "start_time": "2023-11-17T11:02:27.948Z"
   },
   {
    "duration": 528,
    "start_time": "2023-11-17T11:02:28.249Z"
   },
   {
    "duration": 4309,
    "start_time": "2023-11-17T11:19:27.080Z"
   },
   {
    "duration": 2423,
    "start_time": "2023-11-17T11:32:09.102Z"
   },
   {
    "duration": 1398,
    "start_time": "2023-11-17T11:32:11.528Z"
   },
   {
    "duration": 848,
    "start_time": "2023-11-17T11:32:12.928Z"
   },
   {
    "duration": 1668,
    "start_time": "2023-11-17T11:32:13.779Z"
   },
   {
    "duration": 36,
    "start_time": "2023-11-17T11:32:15.451Z"
   },
   {
    "duration": 108,
    "start_time": "2023-11-17T11:32:15.489Z"
   },
   {
    "duration": 5,
    "start_time": "2023-11-17T11:32:15.599Z"
   },
   {
    "duration": 51,
    "start_time": "2023-11-17T11:32:15.606Z"
   },
   {
    "duration": 161,
    "start_time": "2023-11-17T11:32:15.659Z"
   },
   {
    "duration": 45,
    "start_time": "2023-11-17T11:32:15.823Z"
   },
   {
    "duration": 54,
    "start_time": "2023-11-17T11:32:15.869Z"
   },
   {
    "duration": 11,
    "start_time": "2023-11-17T11:32:15.925Z"
   },
   {
    "duration": 63,
    "start_time": "2023-11-17T11:32:15.953Z"
   },
   {
    "duration": 453,
    "start_time": "2023-11-17T11:32:16.017Z"
   },
   {
    "duration": 23,
    "start_time": "2023-11-17T11:32:16.472Z"
   },
   {
    "duration": 65,
    "start_time": "2023-11-17T11:32:16.496Z"
   },
   {
    "duration": 249,
    "start_time": "2023-11-17T11:32:16.563Z"
   },
   {
    "duration": 18,
    "start_time": "2023-11-17T11:32:16.813Z"
   },
   {
    "duration": 59,
    "start_time": "2023-11-17T11:32:16.833Z"
   },
   {
    "duration": 199,
    "start_time": "2023-11-17T11:32:16.894Z"
   },
   {
    "duration": 243,
    "start_time": "2023-11-17T11:32:17.095Z"
   },
   {
    "duration": 38,
    "start_time": "2023-11-17T11:32:17.340Z"
   },
   {
    "duration": 10,
    "start_time": "2023-11-17T11:32:17.381Z"
   },
   {
    "duration": 4,
    "start_time": "2023-11-17T11:32:17.393Z"
   },
   {
    "duration": 271,
    "start_time": "2023-11-17T11:32:17.398Z"
   },
   {
    "duration": 5,
    "start_time": "2023-11-17T11:32:17.670Z"
   },
   {
    "duration": 242,
    "start_time": "2023-11-17T11:32:17.676Z"
   },
   {
    "duration": 364,
    "start_time": "2023-11-17T11:32:17.924Z"
   },
   {
    "duration": 94,
    "start_time": "2023-11-17T11:32:18.290Z"
   },
   {
    "duration": 352,
    "start_time": "2023-11-17T11:32:18.385Z"
   },
   {
    "duration": 622,
    "start_time": "2023-11-17T11:32:18.738Z"
   },
   {
    "duration": 1106,
    "start_time": "2023-11-17T11:32:19.362Z"
   },
   {
    "duration": 32,
    "start_time": "2023-11-17T11:32:20.470Z"
   },
   {
    "duration": 1117,
    "start_time": "2023-11-17T11:32:20.503Z"
   },
   {
    "duration": 90,
    "start_time": "2023-11-17T11:32:21.621Z"
   },
   {
    "duration": 112,
    "start_time": "2023-11-17T11:32:21.713Z"
   },
   {
    "duration": 25,
    "start_time": "2023-11-17T11:32:21.827Z"
   },
   {
    "duration": 613,
    "start_time": "2023-11-17T11:32:21.853Z"
   },
   {
    "duration": 138,
    "start_time": "2023-11-17T11:32:22.468Z"
   },
   {
    "duration": 356,
    "start_time": "2023-11-17T11:32:22.608Z"
   },
   {
    "duration": 216,
    "start_time": "2023-11-17T11:32:22.966Z"
   },
   {
    "duration": 44295,
    "start_time": "2023-11-17T11:32:23.184Z"
   },
   {
    "duration": 2365,
    "start_time": "2023-11-17T11:33:42.811Z"
   },
   {
    "duration": 1342,
    "start_time": "2023-11-17T11:33:45.178Z"
   },
   {
    "duration": 825,
    "start_time": "2023-11-17T11:33:46.521Z"
   },
   {
    "duration": 1526,
    "start_time": "2023-11-17T11:33:47.349Z"
   },
   {
    "duration": 34,
    "start_time": "2023-11-17T11:33:48.876Z"
   },
   {
    "duration": 100,
    "start_time": "2023-11-17T11:33:48.911Z"
   },
   {
    "duration": 6,
    "start_time": "2023-11-17T11:33:49.012Z"
   },
   {
    "duration": 51,
    "start_time": "2023-11-17T11:33:49.019Z"
   },
   {
    "duration": 166,
    "start_time": "2023-11-17T11:33:49.072Z"
   },
   {
    "duration": 40,
    "start_time": "2023-11-17T11:33:49.251Z"
   },
   {
    "duration": 91,
    "start_time": "2023-11-17T11:33:49.293Z"
   },
   {
    "duration": 10,
    "start_time": "2023-11-17T11:33:49.385Z"
   },
   {
    "duration": 57,
    "start_time": "2023-11-17T11:33:49.397Z"
   },
   {
    "duration": 526,
    "start_time": "2023-11-17T11:33:49.456Z"
   },
   {
    "duration": 24,
    "start_time": "2023-11-17T11:33:49.983Z"
   },
   {
    "duration": 59,
    "start_time": "2023-11-17T11:33:50.009Z"
   },
   {
    "duration": 255,
    "start_time": "2023-11-17T11:33:50.070Z"
   },
   {
    "duration": 27,
    "start_time": "2023-11-17T11:33:50.327Z"
   },
   {
    "duration": 50,
    "start_time": "2023-11-17T11:33:50.355Z"
   },
   {
    "duration": 228,
    "start_time": "2023-11-17T11:33:50.407Z"
   },
   {
    "duration": 197,
    "start_time": "2023-11-17T11:33:50.637Z"
   },
   {
    "duration": 30,
    "start_time": "2023-11-17T11:33:50.835Z"
   },
   {
    "duration": 8,
    "start_time": "2023-11-17T11:33:50.866Z"
   },
   {
    "duration": 7,
    "start_time": "2023-11-17T11:33:50.875Z"
   },
   {
    "duration": 289,
    "start_time": "2023-11-17T11:33:50.883Z"
   },
   {
    "duration": 5,
    "start_time": "2023-11-17T11:33:51.174Z"
   },
   {
    "duration": 170,
    "start_time": "2023-11-17T11:33:51.181Z"
   },
   {
    "duration": 351,
    "start_time": "2023-11-17T11:33:51.354Z"
   },
   {
    "duration": 87,
    "start_time": "2023-11-17T11:33:51.706Z"
   },
   {
    "duration": 340,
    "start_time": "2023-11-17T11:33:51.795Z"
   },
   {
    "duration": 608,
    "start_time": "2023-11-17T11:33:52.136Z"
   },
   {
    "duration": 1065,
    "start_time": "2023-11-17T11:33:52.746Z"
   },
   {
    "duration": 31,
    "start_time": "2023-11-17T11:33:53.812Z"
   },
   {
    "duration": 1064,
    "start_time": "2023-11-17T11:33:53.851Z"
   },
   {
    "duration": 97,
    "start_time": "2023-11-17T11:33:54.917Z"
   },
   {
    "duration": 143,
    "start_time": "2023-11-17T11:33:55.016Z"
   },
   {
    "duration": 14,
    "start_time": "2023-11-17T11:33:55.161Z"
   },
   {
    "duration": 568,
    "start_time": "2023-11-17T11:33:55.176Z"
   },
   {
    "duration": 145,
    "start_time": "2023-11-17T11:33:55.745Z"
   },
   {
    "duration": 352,
    "start_time": "2023-11-17T11:33:55.891Z"
   },
   {
    "duration": 202,
    "start_time": "2023-11-17T11:33:56.245Z"
   },
   {
    "duration": 48800,
    "start_time": "2023-11-17T11:33:56.448Z"
   },
   {
    "duration": 308816,
    "start_time": "2023-11-17T11:34:45.252Z"
   },
   {
    "duration": 57,
    "start_time": "2023-11-17T11:39:54.070Z"
   },
   {
    "duration": 1009908,
    "start_time": "2023-11-17T11:39:54.129Z"
   },
   {
    "duration": 2343,
    "start_time": "2023-11-17T12:03:17.657Z"
   },
   {
    "duration": 1508,
    "start_time": "2023-11-17T12:03:20.003Z"
   },
   {
    "duration": 827,
    "start_time": "2023-11-17T12:03:21.513Z"
   },
   {
    "duration": 1527,
    "start_time": "2023-11-17T12:03:22.342Z"
   },
   {
    "duration": 32,
    "start_time": "2023-11-17T12:03:23.870Z"
   },
   {
    "duration": 89,
    "start_time": "2023-11-17T12:03:23.903Z"
   },
   {
    "duration": 5,
    "start_time": "2023-11-17T12:03:23.994Z"
   },
   {
    "duration": 36,
    "start_time": "2023-11-17T12:03:24.000Z"
   },
   {
    "duration": 155,
    "start_time": "2023-11-17T12:03:24.037Z"
   },
   {
    "duration": 36,
    "start_time": "2023-11-17T12:03:24.194Z"
   },
   {
    "duration": 70,
    "start_time": "2023-11-17T12:03:24.232Z"
   },
   {
    "duration": 10,
    "start_time": "2023-11-17T12:03:24.303Z"
   },
   {
    "duration": 68,
    "start_time": "2023-11-17T12:03:24.315Z"
   },
   {
    "duration": 439,
    "start_time": "2023-11-17T12:03:24.385Z"
   },
   {
    "duration": 29,
    "start_time": "2023-11-17T12:03:24.826Z"
   },
   {
    "duration": 45,
    "start_time": "2023-11-17T12:03:24.857Z"
   },
   {
    "duration": 269,
    "start_time": "2023-11-17T12:03:24.904Z"
   },
   {
    "duration": 20,
    "start_time": "2023-11-17T12:03:25.176Z"
   },
   {
    "duration": 66,
    "start_time": "2023-11-17T12:03:25.198Z"
   },
   {
    "duration": 193,
    "start_time": "2023-11-17T12:03:25.266Z"
   },
   {
    "duration": 212,
    "start_time": "2023-11-17T12:03:25.460Z"
   },
   {
    "duration": 25,
    "start_time": "2023-11-17T12:03:25.673Z"
   },
   {
    "duration": 9,
    "start_time": "2023-11-17T12:03:25.700Z"
   },
   {
    "duration": 5,
    "start_time": "2023-11-17T12:03:25.711Z"
   },
   {
    "duration": 301,
    "start_time": "2023-11-17T12:03:25.718Z"
   },
   {
    "duration": 4,
    "start_time": "2023-11-17T12:03:26.021Z"
   },
   {
    "duration": 171,
    "start_time": "2023-11-17T12:03:26.027Z"
   },
   {
    "duration": 356,
    "start_time": "2023-11-17T12:03:26.202Z"
   },
   {
    "duration": 93,
    "start_time": "2023-11-17T12:03:26.560Z"
   },
   {
    "duration": 318,
    "start_time": "2023-11-17T12:03:26.654Z"
   },
   {
    "duration": 601,
    "start_time": "2023-11-17T12:03:26.973Z"
   },
   {
    "duration": 1038,
    "start_time": "2023-11-17T12:03:27.575Z"
   },
   {
    "duration": 27,
    "start_time": "2023-11-17T12:03:28.614Z"
   },
   {
    "duration": 1052,
    "start_time": "2023-11-17T12:03:28.652Z"
   },
   {
    "duration": 93,
    "start_time": "2023-11-17T12:03:29.706Z"
   },
   {
    "duration": 111,
    "start_time": "2023-11-17T12:03:29.801Z"
   },
   {
    "duration": 14,
    "start_time": "2023-11-17T12:03:29.914Z"
   },
   {
    "duration": 635,
    "start_time": "2023-11-17T12:03:29.930Z"
   },
   {
    "duration": 135,
    "start_time": "2023-11-17T12:03:30.567Z"
   },
   {
    "duration": 348,
    "start_time": "2023-11-17T12:03:30.704Z"
   },
   {
    "duration": 194,
    "start_time": "2023-11-17T12:03:31.054Z"
   },
   {
    "duration": 50021,
    "start_time": "2023-11-17T12:03:31.251Z"
   },
   {
    "duration": 309313,
    "start_time": "2023-11-17T12:04:21.274Z"
   },
   {
    "duration": 67,
    "start_time": "2023-11-17T12:09:30.589Z"
   },
   {
    "duration": 686456,
    "start_time": "2023-11-17T12:09:30.657Z"
   },
   {
    "duration": 107739,
    "start_time": "2023-11-17T12:20:57.115Z"
   },
   {
    "duration": 166,
    "start_time": "2023-11-17T12:22:44.856Z"
   },
   {
    "duration": 229,
    "start_time": "2023-11-17T12:22:45.023Z"
   },
   {
    "duration": 537,
    "start_time": "2023-11-17T12:22:45.253Z"
   },
   {
    "duration": 562,
    "start_time": "2023-11-17T12:22:45.792Z"
   },
   {
    "duration": 118,
    "start_time": "2023-11-17T12:22:46.357Z"
   },
   {
    "duration": 109548,
    "start_time": "2023-11-17T12:24:30.005Z"
   },
   {
    "duration": 2518,
    "start_time": "2023-11-17T12:34:03.112Z"
   },
   {
    "duration": 1436,
    "start_time": "2023-11-17T12:34:05.632Z"
   },
   {
    "duration": 815,
    "start_time": "2023-11-17T12:34:07.069Z"
   },
   {
    "duration": 1493,
    "start_time": "2023-11-17T12:34:07.886Z"
   },
   {
    "duration": 38,
    "start_time": "2023-11-17T12:34:09.380Z"
   },
   {
    "duration": 93,
    "start_time": "2023-11-17T12:34:09.420Z"
   },
   {
    "duration": 5,
    "start_time": "2023-11-17T12:34:09.514Z"
   },
   {
    "duration": 49,
    "start_time": "2023-11-17T12:34:09.521Z"
   },
   {
    "duration": 149,
    "start_time": "2023-11-17T12:34:09.572Z"
   },
   {
    "duration": 45,
    "start_time": "2023-11-17T12:34:09.723Z"
   },
   {
    "duration": 56,
    "start_time": "2023-11-17T12:34:09.769Z"
   },
   {
    "duration": 10,
    "start_time": "2023-11-17T12:34:09.826Z"
   },
   {
    "duration": 49,
    "start_time": "2023-11-17T12:34:09.852Z"
   },
   {
    "duration": 416,
    "start_time": "2023-11-17T12:34:09.903Z"
   },
   {
    "duration": 21,
    "start_time": "2023-11-17T12:34:10.321Z"
   },
   {
    "duration": 44,
    "start_time": "2023-11-17T12:34:10.352Z"
   },
   {
    "duration": 229,
    "start_time": "2023-11-17T12:34:10.397Z"
   },
   {
    "duration": 25,
    "start_time": "2023-11-17T12:34:10.628Z"
   },
   {
    "duration": 40,
    "start_time": "2023-11-17T12:34:10.655Z"
   },
   {
    "duration": 188,
    "start_time": "2023-11-17T12:34:10.696Z"
   },
   {
    "duration": 191,
    "start_time": "2023-11-17T12:34:10.886Z"
   },
   {
    "duration": 30,
    "start_time": "2023-11-17T12:34:11.078Z"
   },
   {
    "duration": 9,
    "start_time": "2023-11-17T12:34:11.109Z"
   },
   {
    "duration": 4,
    "start_time": "2023-11-17T12:34:11.119Z"
   },
   {
    "duration": 289,
    "start_time": "2023-11-17T12:34:11.125Z"
   },
   {
    "duration": 5,
    "start_time": "2023-11-17T12:34:11.416Z"
   },
   {
    "duration": 176,
    "start_time": "2023-11-17T12:34:11.422Z"
   },
   {
    "duration": 356,
    "start_time": "2023-11-17T12:34:11.602Z"
   },
   {
    "duration": 96,
    "start_time": "2023-11-17T12:34:11.960Z"
   },
   {
    "duration": 341,
    "start_time": "2023-11-17T12:34:12.058Z"
   },
   {
    "duration": 564,
    "start_time": "2023-11-17T12:34:12.401Z"
   },
   {
    "duration": 1014,
    "start_time": "2023-11-17T12:34:12.967Z"
   },
   {
    "duration": 27,
    "start_time": "2023-11-17T12:34:13.982Z"
   },
   {
    "duration": 1040,
    "start_time": "2023-11-17T12:34:14.010Z"
   },
   {
    "duration": 102,
    "start_time": "2023-11-17T12:34:15.051Z"
   },
   {
    "duration": 106,
    "start_time": "2023-11-17T12:34:15.154Z"
   },
   {
    "duration": 14,
    "start_time": "2023-11-17T12:34:15.262Z"
   },
   {
    "duration": 583,
    "start_time": "2023-11-17T12:34:15.277Z"
   },
   {
    "duration": 125,
    "start_time": "2023-11-17T12:34:15.861Z"
   },
   {
    "duration": 348,
    "start_time": "2023-11-17T12:34:15.987Z"
   },
   {
    "duration": 185,
    "start_time": "2023-11-17T12:34:16.337Z"
   },
   {
    "duration": 3,
    "start_time": "2023-11-17T12:34:16.523Z"
   },
   {
    "duration": 219,
    "start_time": "2023-11-17T12:34:16.527Z"
   },
   {
    "duration": 58,
    "start_time": "2023-11-17T12:34:16.747Z"
   },
   {
    "duration": 2284,
    "start_time": "2023-11-17T12:35:36.373Z"
   },
   {
    "duration": 1370,
    "start_time": "2023-11-17T12:35:38.659Z"
   },
   {
    "duration": 853,
    "start_time": "2023-11-17T12:35:40.030Z"
   },
   {
    "duration": 1492,
    "start_time": "2023-11-17T12:35:40.885Z"
   },
   {
    "duration": 41,
    "start_time": "2023-11-17T12:35:42.378Z"
   },
   {
    "duration": 96,
    "start_time": "2023-11-17T12:35:42.421Z"
   },
   {
    "duration": 5,
    "start_time": "2023-11-17T12:35:42.518Z"
   },
   {
    "duration": 44,
    "start_time": "2023-11-17T12:35:42.524Z"
   },
   {
    "duration": 134,
    "start_time": "2023-11-17T12:35:42.569Z"
   },
   {
    "duration": 50,
    "start_time": "2023-11-17T12:35:42.705Z"
   },
   {
    "duration": 83,
    "start_time": "2023-11-17T12:35:42.757Z"
   },
   {
    "duration": 10,
    "start_time": "2023-11-17T12:35:42.841Z"
   },
   {
    "duration": 60,
    "start_time": "2023-11-17T12:35:42.853Z"
   },
   {
    "duration": 433,
    "start_time": "2023-11-17T12:35:42.914Z"
   },
   {
    "duration": 21,
    "start_time": "2023-11-17T12:35:43.351Z"
   },
   {
    "duration": 47,
    "start_time": "2023-11-17T12:35:43.373Z"
   },
   {
    "duration": 234,
    "start_time": "2023-11-17T12:35:43.421Z"
   },
   {
    "duration": 17,
    "start_time": "2023-11-17T12:35:43.657Z"
   },
   {
    "duration": 40,
    "start_time": "2023-11-17T12:35:43.675Z"
   },
   {
    "duration": 199,
    "start_time": "2023-11-17T12:35:43.717Z"
   },
   {
    "duration": 217,
    "start_time": "2023-11-17T12:35:43.918Z"
   },
   {
    "duration": 28,
    "start_time": "2023-11-17T12:35:44.136Z"
   },
   {
    "duration": 10,
    "start_time": "2023-11-17T12:35:44.165Z"
   },
   {
    "duration": 5,
    "start_time": "2023-11-17T12:35:44.177Z"
   },
   {
    "duration": 289,
    "start_time": "2023-11-17T12:35:44.183Z"
   },
   {
    "duration": 4,
    "start_time": "2023-11-17T12:35:44.473Z"
   },
   {
    "duration": 180,
    "start_time": "2023-11-17T12:35:44.479Z"
   },
   {
    "duration": 369,
    "start_time": "2023-11-17T12:35:44.663Z"
   },
   {
    "duration": 122,
    "start_time": "2023-11-17T12:35:45.034Z"
   },
   {
    "duration": 315,
    "start_time": "2023-11-17T12:35:45.157Z"
   },
   {
    "duration": 542,
    "start_time": "2023-11-17T12:35:45.473Z"
   },
   {
    "duration": 978,
    "start_time": "2023-11-17T12:35:46.017Z"
   },
   {
    "duration": 26,
    "start_time": "2023-11-17T12:35:46.997Z"
   },
   {
    "duration": 1058,
    "start_time": "2023-11-17T12:35:47.024Z"
   },
   {
    "duration": 91,
    "start_time": "2023-11-17T12:35:48.084Z"
   },
   {
    "duration": 109,
    "start_time": "2023-11-17T12:35:48.176Z"
   },
   {
    "duration": 13,
    "start_time": "2023-11-17T12:35:48.286Z"
   },
   {
    "duration": 564,
    "start_time": "2023-11-17T12:35:48.300Z"
   },
   {
    "duration": 120,
    "start_time": "2023-11-17T12:35:48.866Z"
   },
   {
    "duration": 348,
    "start_time": "2023-11-17T12:35:48.987Z"
   },
   {
    "duration": 198,
    "start_time": "2023-11-17T12:35:49.336Z"
   },
   {
    "duration": 46444,
    "start_time": "2023-11-17T12:35:49.535Z"
   },
   {
    "duration": 302044,
    "start_time": "2023-11-17T12:36:35.981Z"
   },
   {
    "duration": 66,
    "start_time": "2023-11-17T12:41:38.027Z"
   },
   {
    "duration": 833086,
    "start_time": "2023-11-17T12:41:38.095Z"
   },
   {
    "duration": 151086,
    "start_time": "2023-11-17T12:55:31.182Z"
   },
   {
    "duration": 227,
    "start_time": "2023-11-17T12:58:02.269Z"
   },
   {
    "duration": 221,
    "start_time": "2023-11-17T12:58:02.498Z"
   },
   {
    "duration": 564,
    "start_time": "2023-11-17T12:58:02.720Z"
   },
   {
    "duration": 478,
    "start_time": "2023-11-17T12:58:03.286Z"
   },
   {
    "duration": 2293,
    "start_time": "2023-11-17T13:22:03.478Z"
   },
   {
    "duration": 1451,
    "start_time": "2023-11-17T13:22:05.774Z"
   },
   {
    "duration": 936,
    "start_time": "2023-11-17T13:22:07.226Z"
   },
   {
    "duration": 1611,
    "start_time": "2023-11-17T13:22:08.164Z"
   },
   {
    "duration": 35,
    "start_time": "2023-11-17T13:22:09.778Z"
   },
   {
    "duration": 97,
    "start_time": "2023-11-17T13:22:09.815Z"
   },
   {
    "duration": 6,
    "start_time": "2023-11-17T13:22:09.913Z"
   },
   {
    "duration": 63,
    "start_time": "2023-11-17T13:22:09.921Z"
   },
   {
    "duration": 167,
    "start_time": "2023-11-17T13:22:09.986Z"
   },
   {
    "duration": 37,
    "start_time": "2023-11-17T13:22:10.154Z"
   },
   {
    "duration": 75,
    "start_time": "2023-11-17T13:22:10.193Z"
   },
   {
    "duration": 11,
    "start_time": "2023-11-17T13:22:10.270Z"
   },
   {
    "duration": 55,
    "start_time": "2023-11-17T13:22:10.282Z"
   },
   {
    "duration": 442,
    "start_time": "2023-11-17T13:22:10.351Z"
   },
   {
    "duration": 22,
    "start_time": "2023-11-17T13:22:10.794Z"
   },
   {
    "duration": 60,
    "start_time": "2023-11-17T13:22:10.817Z"
   },
   {
    "duration": 236,
    "start_time": "2023-11-17T13:22:10.879Z"
   },
   {
    "duration": 21,
    "start_time": "2023-11-17T13:22:11.117Z"
   },
   {
    "duration": 45,
    "start_time": "2023-11-17T13:22:11.152Z"
   },
   {
    "duration": 205,
    "start_time": "2023-11-17T13:22:11.199Z"
   },
   {
    "duration": 189,
    "start_time": "2023-11-17T13:22:11.406Z"
   },
   {
    "duration": 24,
    "start_time": "2023-11-17T13:22:11.597Z"
   },
   {
    "duration": 29,
    "start_time": "2023-11-17T13:22:11.623Z"
   },
   {
    "duration": 5,
    "start_time": "2023-11-17T13:22:11.654Z"
   },
   {
    "duration": 265,
    "start_time": "2023-11-17T13:22:11.660Z"
   },
   {
    "duration": 5,
    "start_time": "2023-11-17T13:22:11.927Z"
   },
   {
    "duration": 173,
    "start_time": "2023-11-17T13:22:11.933Z"
   },
   {
    "duration": 394,
    "start_time": "2023-11-17T13:22:12.108Z"
   },
   {
    "duration": 100,
    "start_time": "2023-11-17T13:22:12.504Z"
   },
   {
    "duration": 348,
    "start_time": "2023-11-17T13:22:12.605Z"
   },
   {
    "duration": 599,
    "start_time": "2023-11-17T13:22:12.955Z"
   },
   {
    "duration": 1036,
    "start_time": "2023-11-17T13:22:13.556Z"
   },
   {
    "duration": 30,
    "start_time": "2023-11-17T13:22:14.593Z"
   },
   {
    "duration": 1080,
    "start_time": "2023-11-17T13:22:14.625Z"
   },
   {
    "duration": 96,
    "start_time": "2023-11-17T13:22:15.707Z"
   },
   {
    "duration": 108,
    "start_time": "2023-11-17T13:22:15.805Z"
   },
   {
    "duration": 14,
    "start_time": "2023-11-17T13:22:15.914Z"
   },
   {
    "duration": 601,
    "start_time": "2023-11-17T13:22:15.929Z"
   },
   {
    "duration": 126,
    "start_time": "2023-11-17T13:22:16.532Z"
   },
   {
    "duration": 355,
    "start_time": "2023-11-17T13:22:16.659Z"
   },
   {
    "duration": 195,
    "start_time": "2023-11-17T13:22:17.017Z"
   },
   {
    "duration": 47054,
    "start_time": "2023-11-17T13:22:17.213Z"
   },
   {
    "duration": 303434,
    "start_time": "2023-11-17T13:23:04.269Z"
   },
   {
    "duration": 63,
    "start_time": "2023-11-17T13:28:07.705Z"
   },
   {
    "duration": 838009,
    "start_time": "2023-11-17T13:28:07.770Z"
   },
   {
    "duration": 162374,
    "start_time": "2023-11-17T13:42:05.781Z"
   },
   {
    "duration": 172,
    "start_time": "2023-11-17T13:44:48.157Z"
   },
   {
    "duration": 218,
    "start_time": "2023-11-17T13:44:48.331Z"
   },
   {
    "duration": 540,
    "start_time": "2023-11-17T13:44:48.552Z"
   },
   {
    "duration": 470,
    "start_time": "2023-11-17T13:44:49.094Z"
   },
   {
    "duration": 2578,
    "start_time": "2023-11-18T13:06:21.932Z"
   },
   {
    "duration": 1712,
    "start_time": "2023-11-18T13:06:24.512Z"
   },
   {
    "duration": 1091,
    "start_time": "2023-11-18T13:06:26.226Z"
   },
   {
    "duration": 1532,
    "start_time": "2023-11-18T13:06:28.439Z"
   },
   {
    "duration": 32,
    "start_time": "2023-11-18T13:06:32.607Z"
   },
   {
    "duration": 80,
    "start_time": "2023-11-18T13:06:33.495Z"
   },
   {
    "duration": 5,
    "start_time": "2023-11-18T13:06:34.407Z"
   },
   {
    "duration": 32,
    "start_time": "2023-11-18T13:06:35.731Z"
   },
   {
    "duration": 144,
    "start_time": "2023-11-18T13:06:36.432Z"
   },
   {
    "duration": 34,
    "start_time": "2023-11-18T13:06:42.363Z"
   },
   {
    "duration": 68,
    "start_time": "2023-11-18T13:06:50.799Z"
   },
   {
    "duration": 10,
    "start_time": "2023-11-18T13:06:52.639Z"
   },
   {
    "duration": 53,
    "start_time": "2023-11-18T13:06:54.295Z"
   },
   {
    "duration": 425,
    "start_time": "2023-11-18T13:06:56.871Z"
   },
   {
    "duration": 21,
    "start_time": "2023-11-18T13:06:57.682Z"
   },
   {
    "duration": 42,
    "start_time": "2023-11-18T13:07:29.103Z"
   },
   {
    "duration": 255,
    "start_time": "2023-11-18T13:07:30.783Z"
   },
   {
    "duration": 19,
    "start_time": "2023-11-18T13:07:33.487Z"
   },
   {
    "duration": 2515,
    "start_time": "2023-11-18T13:10:05.514Z"
   },
   {
    "duration": 1549,
    "start_time": "2023-11-18T13:10:08.031Z"
   },
   {
    "duration": 825,
    "start_time": "2023-11-18T13:10:09.581Z"
   },
   {
    "duration": 1531,
    "start_time": "2023-11-18T13:10:10.408Z"
   },
   {
    "duration": 38,
    "start_time": "2023-11-18T13:10:11.941Z"
   },
   {
    "duration": 95,
    "start_time": "2023-11-18T13:10:11.980Z"
   },
   {
    "duration": 6,
    "start_time": "2023-11-18T13:10:12.077Z"
   },
   {
    "duration": 34,
    "start_time": "2023-11-18T13:10:12.474Z"
   },
   {
    "duration": 141,
    "start_time": "2023-11-18T13:10:16.349Z"
   },
   {
    "duration": 6,
    "start_time": "2023-11-18T13:10:35.807Z"
   },
   {
    "duration": 2353,
    "start_time": "2023-11-18T13:11:46.368Z"
   },
   {
    "duration": 1619,
    "start_time": "2023-11-18T13:11:48.723Z"
   },
   {
    "duration": 847,
    "start_time": "2023-11-18T13:11:50.344Z"
   },
   {
    "duration": 1545,
    "start_time": "2023-11-18T13:11:51.193Z"
   },
   {
    "duration": 33,
    "start_time": "2023-11-18T13:11:52.740Z"
   },
   {
    "duration": 94,
    "start_time": "2023-11-18T13:11:52.774Z"
   },
   {
    "duration": 6,
    "start_time": "2023-11-18T13:11:52.870Z"
   },
   {
    "duration": 51,
    "start_time": "2023-11-18T13:11:52.878Z"
   },
   {
    "duration": 142,
    "start_time": "2023-11-18T13:11:52.931Z"
   },
   {
    "duration": 40,
    "start_time": "2023-11-18T13:11:53.075Z"
   },
   {
    "duration": 55,
    "start_time": "2023-11-18T13:12:29.404Z"
   },
   {
    "duration": 34,
    "start_time": "2023-11-18T13:12:52.365Z"
   },
   {
    "duration": 52,
    "start_time": "2023-11-18T13:12:54.019Z"
   },
   {
    "duration": 10,
    "start_time": "2023-11-18T13:12:54.599Z"
   },
   {
    "duration": 52,
    "start_time": "2023-11-18T13:13:02.729Z"
   },
   {
    "duration": 434,
    "start_time": "2023-11-18T13:13:09.453Z"
   },
   {
    "duration": 22,
    "start_time": "2023-11-18T13:13:09.921Z"
   },
   {
    "duration": 49,
    "start_time": "2023-11-18T13:13:12.089Z"
   },
   {
    "duration": 227,
    "start_time": "2023-11-18T13:13:14.298Z"
   },
   {
    "duration": 24,
    "start_time": "2023-11-18T13:13:32.421Z"
   },
   {
    "duration": 20,
    "start_time": "2023-11-18T13:18:34.962Z"
   },
   {
    "duration": 22,
    "start_time": "2023-11-18T13:18:42.678Z"
   },
   {
    "duration": 42,
    "start_time": "2023-11-18T13:24:39.735Z"
   },
   {
    "duration": 188,
    "start_time": "2023-11-18T13:26:21.252Z"
   },
   {
    "duration": 187,
    "start_time": "2023-11-18T13:26:24.222Z"
   },
   {
    "duration": 22,
    "start_time": "2023-11-18T13:26:25.327Z"
   },
   {
    "duration": 2394,
    "start_time": "2023-11-18T13:28:09.776Z"
   },
   {
    "duration": 1360,
    "start_time": "2023-11-18T13:28:12.172Z"
   },
   {
    "duration": 878,
    "start_time": "2023-11-18T13:28:15.829Z"
   },
   {
    "duration": 1556,
    "start_time": "2023-11-18T13:28:18.031Z"
   },
   {
    "duration": 33,
    "start_time": "2023-11-18T13:28:36.025Z"
   },
   {
    "duration": 76,
    "start_time": "2023-11-18T13:28:40.999Z"
   },
   {
    "duration": 5,
    "start_time": "2023-11-18T13:28:46.649Z"
   },
   {
    "duration": 35,
    "start_time": "2023-11-18T13:29:05.357Z"
   },
   {
    "duration": 149,
    "start_time": "2023-11-18T13:29:11.497Z"
   },
   {
    "duration": 56,
    "start_time": "2023-11-18T13:29:18.113Z"
   },
   {
    "duration": 108,
    "start_time": "2023-11-18T13:29:20.662Z"
   },
   {
    "duration": 21,
    "start_time": "2023-11-18T13:29:32.133Z"
   },
   {
    "duration": 53,
    "start_time": "2023-11-18T13:29:50.069Z"
   },
   {
    "duration": 10,
    "start_time": "2023-11-18T13:29:50.989Z"
   },
   {
    "duration": 52,
    "start_time": "2023-11-18T13:29:51.561Z"
   },
   {
    "duration": 403,
    "start_time": "2023-11-18T13:29:53.926Z"
   },
   {
    "duration": 22,
    "start_time": "2023-11-18T13:29:54.522Z"
   },
   {
    "duration": 44,
    "start_time": "2023-11-18T13:29:55.541Z"
   },
   {
    "duration": 232,
    "start_time": "2023-11-18T13:29:56.794Z"
   },
   {
    "duration": 22,
    "start_time": "2023-11-18T13:29:57.119Z"
   },
   {
    "duration": 51,
    "start_time": "2023-11-18T13:29:58.797Z"
   },
   {
    "duration": 202,
    "start_time": "2023-11-18T13:30:00.513Z"
   },
   {
    "duration": 192,
    "start_time": "2023-11-18T13:30:01.565Z"
   },
   {
    "duration": 24,
    "start_time": "2023-11-18T13:30:08.429Z"
   },
   {
    "duration": 22,
    "start_time": "2023-11-18T13:30:36.221Z"
   },
   {
    "duration": 26,
    "start_time": "2023-11-18T13:30:55.093Z"
   },
   {
    "duration": 13,
    "start_time": "2023-11-18T13:31:34.781Z"
   },
   {
    "duration": 208,
    "start_time": "2023-11-18T13:31:49.773Z"
   },
   {
    "duration": 80,
    "start_time": "2023-11-18T13:32:20.817Z"
   },
   {
    "duration": 87,
    "start_time": "2023-11-18T13:32:28.355Z"
   },
   {
    "duration": 121,
    "start_time": "2023-11-18T13:32:34.484Z"
   },
   {
    "duration": 13,
    "start_time": "2023-11-18T13:32:50.540Z"
   },
   {
    "duration": 148,
    "start_time": "2023-11-18T13:33:03.348Z"
   },
   {
    "duration": 194,
    "start_time": "2023-11-18T13:33:16.478Z"
   },
   {
    "duration": 789,
    "start_time": "2023-11-18T13:33:22.502Z"
   },
   {
    "duration": 248,
    "start_time": "2023-11-18T13:33:31.870Z"
   },
   {
    "duration": 12,
    "start_time": "2023-11-18T13:37:32.648Z"
   },
   {
    "duration": 12,
    "start_time": "2023-11-18T13:38:43.142Z"
   },
   {
    "duration": 74,
    "start_time": "2023-11-18T13:39:00.198Z"
   },
   {
    "duration": 8,
    "start_time": "2023-11-18T13:39:05.536Z"
   },
   {
    "duration": 12,
    "start_time": "2023-11-18T13:40:11.524Z"
   },
   {
    "duration": 7,
    "start_time": "2023-11-18T13:42:34.608Z"
   },
   {
    "duration": 7,
    "start_time": "2023-11-18T13:42:53.369Z"
   },
   {
    "duration": 2334,
    "start_time": "2023-11-18T13:43:03.398Z"
   },
   {
    "duration": 1410,
    "start_time": "2023-11-18T13:43:05.734Z"
   },
   {
    "duration": 832,
    "start_time": "2023-11-18T13:43:07.146Z"
   },
   {
    "duration": 1549,
    "start_time": "2023-11-18T13:43:07.980Z"
   },
   {
    "duration": 35,
    "start_time": "2023-11-18T13:43:09.530Z"
   },
   {
    "duration": 92,
    "start_time": "2023-11-18T13:43:09.567Z"
   },
   {
    "duration": 5,
    "start_time": "2023-11-18T13:43:09.661Z"
   },
   {
    "duration": 48,
    "start_time": "2023-11-18T13:43:09.667Z"
   },
   {
    "duration": 144,
    "start_time": "2023-11-18T13:43:09.716Z"
   },
   {
    "duration": 62,
    "start_time": "2023-11-18T13:43:09.862Z"
   },
   {
    "duration": 21,
    "start_time": "2023-11-18T13:43:09.925Z"
   },
   {
    "duration": 68,
    "start_time": "2023-11-18T13:43:09.947Z"
   },
   {
    "duration": 10,
    "start_time": "2023-11-18T13:43:10.016Z"
   },
   {
    "duration": 137,
    "start_time": "2023-11-18T13:43:10.027Z"
   },
   {
    "duration": 420,
    "start_time": "2023-11-18T13:43:10.165Z"
   },
   {
    "duration": 28,
    "start_time": "2023-11-18T13:43:10.587Z"
   },
   {
    "duration": 43,
    "start_time": "2023-11-18T13:43:10.617Z"
   },
   {
    "duration": 234,
    "start_time": "2023-11-18T13:43:10.786Z"
   },
   {
    "duration": 21,
    "start_time": "2023-11-18T13:43:11.022Z"
   },
   {
    "duration": 46,
    "start_time": "2023-11-18T13:43:11.282Z"
   },
   {
    "duration": 206,
    "start_time": "2023-11-18T13:43:12.813Z"
   },
   {
    "duration": 185,
    "start_time": "2023-11-18T13:43:13.186Z"
   },
   {
    "duration": 24,
    "start_time": "2023-11-18T13:43:13.822Z"
   },
   {
    "duration": 245,
    "start_time": "2023-11-18T13:43:16.647Z"
   },
   {
    "duration": 8,
    "start_time": "2023-11-18T13:43:19.314Z"
   },
   {
    "duration": 253,
    "start_time": "2023-11-18T13:44:12.467Z"
   },
   {
    "duration": 7,
    "start_time": "2023-11-18T13:44:21.139Z"
   },
   {
    "duration": 9,
    "start_time": "2023-11-18T13:44:26.522Z"
   },
   {
    "duration": 6,
    "start_time": "2023-11-18T13:45:55.459Z"
   },
   {
    "duration": 4,
    "start_time": "2023-11-18T13:45:59.062Z"
   },
   {
    "duration": 334,
    "start_time": "2023-11-18T13:46:10.010Z"
   },
   {
    "duration": 4,
    "start_time": "2023-11-18T13:46:11.947Z"
   },
   {
    "duration": 176,
    "start_time": "2023-11-18T13:46:18.594Z"
   },
   {
    "duration": 348,
    "start_time": "2023-11-18T13:46:51.327Z"
   },
   {
    "duration": 83,
    "start_time": "2023-11-18T13:49:04.476Z"
   },
   {
    "duration": 958,
    "start_time": "2023-11-18T13:49:17.935Z"
   },
   {
    "duration": 1512,
    "start_time": "2023-11-18T13:50:02.044Z"
   },
   {
    "duration": 1195,
    "start_time": "2023-11-18T13:50:43.872Z"
   },
   {
    "duration": 1404,
    "start_time": "2023-11-18T13:51:14.660Z"
   },
   {
    "duration": 23,
    "start_time": "2023-11-18T13:58:43.158Z"
   },
   {
    "duration": 7,
    "start_time": "2023-11-18T14:00:06.360Z"
   },
   {
    "duration": 11,
    "start_time": "2023-11-18T14:00:27.726Z"
   },
   {
    "duration": 11,
    "start_time": "2023-11-18T14:00:39.976Z"
   },
   {
    "duration": 8,
    "start_time": "2023-11-18T14:00:54.113Z"
   },
   {
    "duration": 4,
    "start_time": "2023-11-18T14:01:46.899Z"
   },
   {
    "duration": 17,
    "start_time": "2023-11-18T14:01:52.423Z"
   },
   {
    "duration": 7,
    "start_time": "2023-11-18T14:03:22.353Z"
   },
   {
    "duration": 17,
    "start_time": "2023-11-18T14:03:34.331Z"
   },
   {
    "duration": 109,
    "start_time": "2023-11-18T14:03:40.076Z"
   },
   {
    "duration": 8,
    "start_time": "2023-11-18T14:04:20.914Z"
   },
   {
    "duration": 8,
    "start_time": "2023-11-18T14:04:41.524Z"
   },
   {
    "duration": 21,
    "start_time": "2023-11-18T14:04:47.875Z"
   },
   {
    "duration": 12,
    "start_time": "2023-11-18T14:05:02.427Z"
   },
   {
    "duration": 106,
    "start_time": "2023-11-18T14:05:14.062Z"
   },
   {
    "duration": 15,
    "start_time": "2023-11-18T14:06:09.717Z"
   },
   {
    "duration": 472,
    "start_time": "2023-11-18T14:06:29.516Z"
   },
   {
    "duration": 65,
    "start_time": "2023-11-18T14:08:13.344Z"
   },
   {
    "duration": 11,
    "start_time": "2023-11-18T14:08:38.604Z"
   },
   {
    "duration": 65,
    "start_time": "2023-11-18T14:08:49.012Z"
   },
   {
    "duration": 754,
    "start_time": "2023-11-18T14:14:42.694Z"
   },
   {
    "duration": 7,
    "start_time": "2023-11-18T14:15:55.838Z"
   },
   {
    "duration": 561,
    "start_time": "2023-11-18T14:16:10.955Z"
   },
   {
    "duration": 457,
    "start_time": "2023-11-18T14:16:21.369Z"
   },
   {
    "duration": 480,
    "start_time": "2023-11-18T14:16:28.126Z"
   },
   {
    "duration": 240,
    "start_time": "2023-11-18T14:16:35.751Z"
   },
   {
    "duration": 284,
    "start_time": "2023-11-18T14:16:44.034Z"
   },
   {
    "duration": 346,
    "start_time": "2023-11-18T14:16:52.779Z"
   },
   {
    "duration": 232,
    "start_time": "2023-11-18T14:17:05.260Z"
   },
   {
    "duration": 8,
    "start_time": "2023-11-18T14:18:31.902Z"
   },
   {
    "duration": 17,
    "start_time": "2023-11-18T14:18:59.153Z"
   },
   {
    "duration": 14,
    "start_time": "2023-11-18T14:20:14.651Z"
   },
   {
    "duration": 1558,
    "start_time": "2023-11-18T14:21:36.388Z"
   },
   {
    "duration": 0,
    "start_time": "2023-11-18T14:21:37.947Z"
   },
   {
    "duration": 2385,
    "start_time": "2023-11-18T14:21:49.301Z"
   },
   {
    "duration": 1443,
    "start_time": "2023-11-18T14:21:51.688Z"
   },
   {
    "duration": 819,
    "start_time": "2023-11-18T14:21:53.132Z"
   },
   {
    "duration": 1507,
    "start_time": "2023-11-18T14:21:53.952Z"
   },
   {
    "duration": 36,
    "start_time": "2023-11-18T14:21:55.460Z"
   },
   {
    "duration": 87,
    "start_time": "2023-11-18T14:21:55.498Z"
   },
   {
    "duration": 5,
    "start_time": "2023-11-18T14:21:55.586Z"
   },
   {
    "duration": 46,
    "start_time": "2023-11-18T14:21:55.593Z"
   },
   {
    "duration": 152,
    "start_time": "2023-11-18T14:21:55.640Z"
   },
   {
    "duration": 63,
    "start_time": "2023-11-18T14:21:55.794Z"
   },
   {
    "duration": 20,
    "start_time": "2023-11-18T14:21:55.858Z"
   },
   {
    "duration": 73,
    "start_time": "2023-11-18T14:21:55.880Z"
   },
   {
    "duration": 10,
    "start_time": "2023-11-18T14:21:55.955Z"
   },
   {
    "duration": 62,
    "start_time": "2023-11-18T14:21:55.966Z"
   },
   {
    "duration": 445,
    "start_time": "2023-11-18T14:21:56.030Z"
   },
   {
    "duration": 21,
    "start_time": "2023-11-18T14:21:56.477Z"
   },
   {
    "duration": 54,
    "start_time": "2023-11-18T14:21:56.499Z"
   },
   {
    "duration": 238,
    "start_time": "2023-11-18T14:21:56.556Z"
   },
   {
    "duration": 30,
    "start_time": "2023-11-18T14:21:56.796Z"
   },
   {
    "duration": 45,
    "start_time": "2023-11-18T14:21:56.828Z"
   },
   {
    "duration": 191,
    "start_time": "2023-11-18T14:21:59.766Z"
   },
   {
    "duration": 188,
    "start_time": "2023-11-18T14:22:00.039Z"
   },
   {
    "duration": 24,
    "start_time": "2023-11-18T14:22:00.266Z"
   },
   {
    "duration": 250,
    "start_time": "2023-11-18T14:22:01.187Z"
   },
   {
    "duration": 8,
    "start_time": "2023-11-18T14:22:02.415Z"
   },
   {
    "duration": 9,
    "start_time": "2023-11-18T14:22:12.705Z"
   },
   {
    "duration": 5,
    "start_time": "2023-11-18T14:23:13.362Z"
   },
   {
    "duration": 264,
    "start_time": "2023-11-18T14:23:17.274Z"
   },
   {
    "duration": 4,
    "start_time": "2023-11-18T14:23:20.071Z"
   },
   {
    "duration": 251,
    "start_time": "2023-11-18T14:23:21.817Z"
   },
   {
    "duration": 488,
    "start_time": "2023-11-18T14:23:25.542Z"
   },
   {
    "duration": 8,
    "start_time": "2023-11-18T14:23:26.067Z"
   },
   {
    "duration": 79,
    "start_time": "2023-11-18T14:23:31.113Z"
   },
   {
    "duration": 14,
    "start_time": "2023-11-18T14:23:32.235Z"
   },
   {
    "duration": 92,
    "start_time": "2023-11-18T14:24:11.340Z"
   },
   {
    "duration": 321,
    "start_time": "2023-11-18T14:24:17.767Z"
   },
   {
    "duration": 495,
    "start_time": "2023-11-18T14:24:18.595Z"
   },
   {
    "duration": 1043,
    "start_time": "2023-11-18T14:24:21.447Z"
   },
   {
    "duration": 32,
    "start_time": "2023-11-18T14:24:22.492Z"
   },
   {
    "duration": 1034,
    "start_time": "2023-11-18T14:24:24.402Z"
   },
   {
    "duration": 86,
    "start_time": "2023-11-18T14:24:34.009Z"
   },
   {
    "duration": 5,
    "start_time": "2023-11-18T14:25:09.282Z"
   },
   {
    "duration": 19,
    "start_time": "2023-11-18T14:25:37.429Z"
   },
   {
    "duration": 58,
    "start_time": "2023-11-18T14:31:09.602Z"
   },
   {
    "duration": 21,
    "start_time": "2023-11-18T14:31:22.051Z"
   },
   {
    "duration": 28,
    "start_time": "2023-11-18T14:32:01.290Z"
   },
   {
    "duration": 19,
    "start_time": "2023-11-18T14:32:01.797Z"
   },
   {
    "duration": 43,
    "start_time": "2023-11-18T14:32:20.362Z"
   },
   {
    "duration": 19,
    "start_time": "2023-11-18T14:32:21.030Z"
   },
   {
    "duration": 86,
    "start_time": "2023-11-18T14:34:16.230Z"
   },
   {
    "duration": 98,
    "start_time": "2023-11-18T14:34:23.942Z"
   },
   {
    "duration": 18,
    "start_time": "2023-11-18T14:49:46.911Z"
   },
   {
    "duration": 2,
    "start_time": "2023-11-18T14:49:57.397Z"
   },
   {
    "duration": 2,
    "start_time": "2023-11-18T14:51:34.475Z"
   },
   {
    "duration": 110,
    "start_time": "2023-11-18T14:51:35.535Z"
   },
   {
    "duration": 21,
    "start_time": "2023-11-18T14:52:06.561Z"
   },
   {
    "duration": 2,
    "start_time": "2023-11-18T14:52:07.284Z"
   },
   {
    "duration": 2,
    "start_time": "2023-11-18T14:52:15.624Z"
   },
   {
    "duration": 76,
    "start_time": "2023-11-18T14:52:17.080Z"
   },
   {
    "duration": 9,
    "start_time": "2023-11-18T14:53:46.155Z"
   },
   {
    "duration": 2989,
    "start_time": "2023-11-18T14:54:41.444Z"
   },
   {
    "duration": 1871,
    "start_time": "2023-11-18T14:54:52.204Z"
   },
   {
    "duration": 23,
    "start_time": "2023-11-18T14:55:01.762Z"
   },
   {
    "duration": 11,
    "start_time": "2023-11-18T14:55:24.549Z"
   },
   {
    "duration": 2464,
    "start_time": "2023-11-18T14:55:57.711Z"
   },
   {
    "duration": 1455,
    "start_time": "2023-11-18T14:56:00.177Z"
   },
   {
    "duration": 856,
    "start_time": "2023-11-18T14:56:01.634Z"
   },
   {
    "duration": 1550,
    "start_time": "2023-11-18T14:56:02.492Z"
   },
   {
    "duration": 37,
    "start_time": "2023-11-18T14:56:04.044Z"
   },
   {
    "duration": 92,
    "start_time": "2023-11-18T14:56:04.082Z"
   },
   {
    "duration": 5,
    "start_time": "2023-11-18T14:56:04.176Z"
   },
   {
    "duration": 50,
    "start_time": "2023-11-18T14:56:04.182Z"
   },
   {
    "duration": 141,
    "start_time": "2023-11-18T14:56:04.233Z"
   },
   {
    "duration": 68,
    "start_time": "2023-11-18T14:56:04.377Z"
   },
   {
    "duration": 22,
    "start_time": "2023-11-18T14:56:04.446Z"
   },
   {
    "duration": 70,
    "start_time": "2023-11-18T14:56:04.470Z"
   },
   {
    "duration": 10,
    "start_time": "2023-11-18T14:56:04.541Z"
   },
   {
    "duration": 51,
    "start_time": "2023-11-18T14:56:04.553Z"
   },
   {
    "duration": 453,
    "start_time": "2023-11-18T14:56:04.615Z"
   },
   {
    "duration": 22,
    "start_time": "2023-11-18T14:56:05.070Z"
   },
   {
    "duration": 57,
    "start_time": "2023-11-18T14:56:05.094Z"
   },
   {
    "duration": 248,
    "start_time": "2023-11-18T14:56:05.152Z"
   },
   {
    "duration": 30,
    "start_time": "2023-11-18T14:56:05.402Z"
   },
   {
    "duration": 44,
    "start_time": "2023-11-18T14:56:05.434Z"
   },
   {
    "duration": 216,
    "start_time": "2023-11-18T14:56:05.480Z"
   },
   {
    "duration": 217,
    "start_time": "2023-11-18T14:56:05.697Z"
   },
   {
    "duration": 22,
    "start_time": "2023-11-18T14:56:05.915Z"
   },
   {
    "duration": 258,
    "start_time": "2023-11-18T14:56:05.939Z"
   },
   {
    "duration": 16,
    "start_time": "2023-11-18T14:56:06.199Z"
   },
   {
    "duration": 9,
    "start_time": "2023-11-18T14:56:06.218Z"
   },
   {
    "duration": 4,
    "start_time": "2023-11-18T14:56:06.228Z"
   },
   {
    "duration": 277,
    "start_time": "2023-11-18T14:56:06.233Z"
   },
   {
    "duration": 4,
    "start_time": "2023-11-18T14:56:06.512Z"
   },
   {
    "duration": 251,
    "start_time": "2023-11-18T14:56:06.517Z"
   },
   {
    "duration": 439,
    "start_time": "2023-11-18T14:56:06.770Z"
   },
   {
    "duration": 8,
    "start_time": "2023-11-18T14:56:07.215Z"
   },
   {
    "duration": 70,
    "start_time": "2023-11-18T14:56:07.225Z"
   },
   {
    "duration": 31,
    "start_time": "2023-11-18T14:56:07.297Z"
   },
   {
    "duration": 92,
    "start_time": "2023-11-18T14:56:09.111Z"
   },
   {
    "duration": 319,
    "start_time": "2023-11-18T14:56:09.552Z"
   },
   {
    "duration": 489,
    "start_time": "2023-11-18T14:56:10.065Z"
   },
   {
    "duration": 1085,
    "start_time": "2023-11-18T14:56:10.557Z"
   },
   {
    "duration": 28,
    "start_time": "2023-11-18T14:56:11.644Z"
   },
   {
    "duration": 1039,
    "start_time": "2023-11-18T14:56:11.674Z"
   },
   {
    "duration": 101,
    "start_time": "2023-11-18T14:56:12.715Z"
   },
   {
    "duration": 25,
    "start_time": "2023-11-18T14:56:12.817Z"
   },
   {
    "duration": 50,
    "start_time": "2023-11-18T14:56:15.823Z"
   },
   {
    "duration": 19,
    "start_time": "2023-11-18T14:56:16.853Z"
   },
   {
    "duration": 105,
    "start_time": "2023-11-18T14:56:19.169Z"
   },
   {
    "duration": 14,
    "start_time": "2023-11-18T14:56:22.468Z"
   },
   {
    "duration": 3,
    "start_time": "2023-11-18T14:56:23.232Z"
   },
   {
    "duration": 3,
    "start_time": "2023-11-18T14:56:26.688Z"
   },
   {
    "duration": 63,
    "start_time": "2023-11-18T14:56:27.447Z"
   },
   {
    "duration": 2439,
    "start_time": "2023-11-18T14:56:29.118Z"
   },
   {
    "duration": 1898,
    "start_time": "2023-11-18T14:56:34.773Z"
   },
   {
    "duration": 51,
    "start_time": "2023-11-18T14:56:45.061Z"
   },
   {
    "duration": 19,
    "start_time": "2023-11-18T14:57:12.657Z"
   },
   {
    "duration": 188,
    "start_time": "2023-11-18T14:58:21.353Z"
   },
   {
    "duration": 24,
    "start_time": "2023-11-18T15:00:57.482Z"
   },
   {
    "duration": 24,
    "start_time": "2023-11-18T15:04:36.078Z"
   },
   {
    "duration": 152,
    "start_time": "2023-11-18T15:04:48.430Z"
   },
   {
    "duration": 8663,
    "start_time": "2023-11-18T15:05:10.423Z"
   },
   {
    "duration": 7715,
    "start_time": "2023-11-18T15:06:51.383Z"
   },
   {
    "duration": 840,
    "start_time": "2023-11-18T15:07:30.061Z"
   },
   {
    "duration": 771,
    "start_time": "2023-11-18T15:07:51.314Z"
   },
   {
    "duration": 59616,
    "start_time": "2023-11-18T15:07:59.651Z"
   },
   {
    "duration": 7575,
    "start_time": "2023-11-18T15:10:13.011Z"
   },
   {
    "duration": 241,
    "start_time": "2023-11-18T15:12:54.003Z"
   },
   {
    "duration": 87,
    "start_time": "2023-11-18T15:15:00.136Z"
   },
   {
    "duration": 2395,
    "start_time": "2023-11-18T15:15:09.311Z"
   },
   {
    "duration": 1707,
    "start_time": "2023-11-18T15:15:11.708Z"
   },
   {
    "duration": 867,
    "start_time": "2023-11-18T15:15:13.417Z"
   },
   {
    "duration": 1482,
    "start_time": "2023-11-18T15:15:14.286Z"
   },
   {
    "duration": 32,
    "start_time": "2023-11-18T15:15:15.770Z"
   },
   {
    "duration": 79,
    "start_time": "2023-11-18T15:15:15.814Z"
   },
   {
    "duration": 5,
    "start_time": "2023-11-18T15:15:15.895Z"
   },
   {
    "duration": 29,
    "start_time": "2023-11-18T15:15:15.915Z"
   },
   {
    "duration": 149,
    "start_time": "2023-11-18T15:15:15.946Z"
   },
   {
    "duration": 63,
    "start_time": "2023-11-18T15:15:16.098Z"
   },
   {
    "duration": 21,
    "start_time": "2023-11-18T15:15:16.162Z"
   },
   {
    "duration": 70,
    "start_time": "2023-11-18T15:15:16.185Z"
   },
   {
    "duration": 20,
    "start_time": "2023-11-18T15:15:16.257Z"
   },
   {
    "duration": 67,
    "start_time": "2023-11-18T15:15:16.278Z"
   },
   {
    "duration": 427,
    "start_time": "2023-11-18T15:15:16.347Z"
   },
   {
    "duration": 20,
    "start_time": "2023-11-18T15:15:16.776Z"
   },
   {
    "duration": 56,
    "start_time": "2023-11-18T15:15:16.798Z"
   },
   {
    "duration": 245,
    "start_time": "2023-11-18T15:15:16.855Z"
   },
   {
    "duration": 26,
    "start_time": "2023-11-18T15:15:17.102Z"
   },
   {
    "duration": 46,
    "start_time": "2023-11-18T15:15:17.129Z"
   },
   {
    "duration": 208,
    "start_time": "2023-11-18T15:15:17.176Z"
   },
   {
    "duration": 193,
    "start_time": "2023-11-18T15:15:17.386Z"
   },
   {
    "duration": 34,
    "start_time": "2023-11-18T15:15:17.580Z"
   },
   {
    "duration": 246,
    "start_time": "2023-11-18T15:15:17.616Z"
   },
   {
    "duration": 7,
    "start_time": "2023-11-18T15:15:17.864Z"
   },
   {
    "duration": 8,
    "start_time": "2023-11-18T15:15:17.872Z"
   },
   {
    "duration": 4,
    "start_time": "2023-11-18T15:15:17.881Z"
   },
   {
    "duration": 290,
    "start_time": "2023-11-18T15:15:17.889Z"
   },
   {
    "duration": 4,
    "start_time": "2023-11-18T15:15:18.181Z"
   },
   {
    "duration": 248,
    "start_time": "2023-11-18T15:15:18.187Z"
   },
   {
    "duration": 467,
    "start_time": "2023-11-18T15:15:18.436Z"
   },
   {
    "duration": 13,
    "start_time": "2023-11-18T15:15:18.904Z"
   },
   {
    "duration": 69,
    "start_time": "2023-11-18T15:15:18.919Z"
   },
   {
    "duration": 36,
    "start_time": "2023-11-18T15:15:18.990Z"
   },
   {
    "duration": 97,
    "start_time": "2023-11-18T15:15:19.027Z"
   },
   {
    "duration": 325,
    "start_time": "2023-11-18T15:15:19.126Z"
   },
   {
    "duration": 481,
    "start_time": "2023-11-18T15:15:19.452Z"
   },
   {
    "duration": 1034,
    "start_time": "2023-11-18T15:15:19.934Z"
   },
   {
    "duration": 31,
    "start_time": "2023-11-18T15:15:20.970Z"
   },
   {
    "duration": 1071,
    "start_time": "2023-11-18T15:15:21.002Z"
   },
   {
    "duration": 94,
    "start_time": "2023-11-18T15:15:22.075Z"
   },
   {
    "duration": 19,
    "start_time": "2023-11-18T15:15:22.171Z"
   },
   {
    "duration": 60,
    "start_time": "2023-11-18T15:15:22.191Z"
   },
   {
    "duration": 18,
    "start_time": "2023-11-18T15:15:22.253Z"
   },
   {
    "duration": 112,
    "start_time": "2023-11-18T15:15:22.273Z"
   },
   {
    "duration": 13,
    "start_time": "2023-11-18T15:15:22.387Z"
   },
   {
    "duration": 13,
    "start_time": "2023-11-18T15:15:22.402Z"
   },
   {
    "duration": 2,
    "start_time": "2023-11-18T15:15:22.416Z"
   },
   {
    "duration": 65,
    "start_time": "2023-11-18T15:15:22.420Z"
   },
   {
    "duration": 2453,
    "start_time": "2023-11-18T15:15:22.486Z"
   },
   {
    "duration": 1891,
    "start_time": "2023-11-18T15:15:24.941Z"
   },
   {
    "duration": 22,
    "start_time": "2023-11-18T15:15:26.833Z"
   },
   {
    "duration": 232,
    "start_time": "2023-11-18T15:15:26.856Z"
   },
   {
    "duration": 125,
    "start_time": "2023-11-18T15:15:27.090Z"
   },
   {
    "duration": 0,
    "start_time": "2023-11-18T15:15:27.217Z"
   },
   {
    "duration": 0,
    "start_time": "2023-11-18T15:15:27.218Z"
   },
   {
    "duration": 0,
    "start_time": "2023-11-18T15:15:27.220Z"
   },
   {
    "duration": 0,
    "start_time": "2023-11-18T15:15:27.220Z"
   },
   {
    "duration": 0,
    "start_time": "2023-11-18T15:15:27.222Z"
   },
   {
    "duration": 0,
    "start_time": "2023-11-18T15:15:27.222Z"
   },
   {
    "duration": 1,
    "start_time": "2023-11-18T15:15:27.223Z"
   },
   {
    "duration": 0,
    "start_time": "2023-11-18T15:15:27.225Z"
   },
   {
    "duration": 0,
    "start_time": "2023-11-18T15:15:27.226Z"
   },
   {
    "duration": 0,
    "start_time": "2023-11-18T15:15:27.227Z"
   },
   {
    "duration": 0,
    "start_time": "2023-11-18T15:15:27.228Z"
   },
   {
    "duration": 7817,
    "start_time": "2023-11-18T15:16:18.726Z"
   },
   {
    "duration": 170,
    "start_time": "2023-11-18T15:16:31.470Z"
   },
   {
    "duration": 785,
    "start_time": "2023-11-18T15:16:37.198Z"
   },
   {
    "duration": 54308,
    "start_time": "2023-11-18T15:16:52.370Z"
   },
   {
    "duration": 8244,
    "start_time": "2023-11-18T15:17:54.150Z"
   },
   {
    "duration": 2,
    "start_time": "2023-11-18T15:18:16.582Z"
   },
   {
    "duration": 882242,
    "start_time": "2023-11-18T15:18:17.474Z"
   },
   {
    "duration": 2394,
    "start_time": "2023-11-18T15:59:07.829Z"
   },
   {
    "duration": 2333,
    "start_time": "2023-11-18T15:59:10.226Z"
   },
   {
    "duration": 1394,
    "start_time": "2023-11-18T15:59:12.561Z"
   },
   {
    "duration": 827,
    "start_time": "2023-11-18T15:59:13.957Z"
   },
   {
    "duration": 1624,
    "start_time": "2023-11-18T15:59:14.785Z"
   },
   {
    "duration": 32,
    "start_time": "2023-11-18T15:59:16.411Z"
   },
   {
    "duration": 17,
    "start_time": "2023-11-18T15:59:16.444Z"
   },
   {
    "duration": 5,
    "start_time": "2023-11-18T15:59:16.462Z"
   },
   {
    "duration": 61,
    "start_time": "2023-11-18T15:59:16.468Z"
   },
   {
    "duration": 149,
    "start_time": "2023-11-18T15:59:16.531Z"
   },
   {
    "duration": 60,
    "start_time": "2023-11-18T15:59:16.681Z"
   },
   {
    "duration": 20,
    "start_time": "2023-11-18T15:59:16.743Z"
   },
   {
    "duration": 71,
    "start_time": "2023-11-18T15:59:16.764Z"
   },
   {
    "duration": 10,
    "start_time": "2023-11-18T15:59:16.837Z"
   },
   {
    "duration": 66,
    "start_time": "2023-11-18T15:59:16.849Z"
   },
   {
    "duration": 425,
    "start_time": "2023-11-18T15:59:16.917Z"
   },
   {
    "duration": 23,
    "start_time": "2023-11-18T15:59:17.343Z"
   },
   {
    "duration": 66,
    "start_time": "2023-11-18T15:59:17.367Z"
   },
   {
    "duration": 241,
    "start_time": "2023-11-18T15:59:17.434Z"
   },
   {
    "duration": 21,
    "start_time": "2023-11-18T15:59:17.677Z"
   },
   {
    "duration": 59,
    "start_time": "2023-11-18T15:59:17.699Z"
   },
   {
    "duration": 193,
    "start_time": "2023-11-18T15:59:17.759Z"
   },
   {
    "duration": 204,
    "start_time": "2023-11-18T15:59:17.954Z"
   },
   {
    "duration": 27,
    "start_time": "2023-11-18T15:59:18.160Z"
   },
   {
    "duration": 262,
    "start_time": "2023-11-18T15:59:18.188Z"
   },
   {
    "duration": 7,
    "start_time": "2023-11-18T15:59:18.452Z"
   },
   {
    "duration": 78,
    "start_time": "2023-11-18T15:59:18.460Z"
   },
   {
    "duration": 52,
    "start_time": "2023-11-18T15:59:18.542Z"
   },
   {
    "duration": 262,
    "start_time": "2023-11-18T15:59:18.595Z"
   },
   {
    "duration": 4,
    "start_time": "2023-11-18T15:59:18.859Z"
   },
   {
    "duration": 322,
    "start_time": "2023-11-18T15:59:18.864Z"
   },
   {
    "duration": 348,
    "start_time": "2023-11-18T15:59:19.187Z"
   },
   {
    "duration": 6,
    "start_time": "2023-11-18T15:59:19.537Z"
   },
   {
    "duration": 75,
    "start_time": "2023-11-18T15:59:19.545Z"
   },
   {
    "duration": 15,
    "start_time": "2023-11-18T15:59:19.621Z"
   },
   {
    "duration": 99,
    "start_time": "2023-11-18T15:59:19.637Z"
   },
   {
    "duration": 331,
    "start_time": "2023-11-18T15:59:19.738Z"
   },
   {
    "duration": 497,
    "start_time": "2023-11-18T15:59:20.071Z"
   },
   {
    "duration": 1041,
    "start_time": "2023-11-18T15:59:20.570Z"
   },
   {
    "duration": 28,
    "start_time": "2023-11-18T15:59:21.613Z"
   },
   {
    "duration": 1120,
    "start_time": "2023-11-18T15:59:21.642Z"
   },
   {
    "duration": 96,
    "start_time": "2023-11-18T15:59:22.763Z"
   },
   {
    "duration": 19,
    "start_time": "2023-11-18T15:59:22.861Z"
   },
   {
    "duration": 64,
    "start_time": "2023-11-18T15:59:22.881Z"
   },
   {
    "duration": 20,
    "start_time": "2023-11-18T15:59:22.947Z"
   },
   {
    "duration": 119,
    "start_time": "2023-11-18T15:59:22.968Z"
   },
   {
    "duration": 15,
    "start_time": "2023-11-18T15:59:23.089Z"
   },
   {
    "duration": 37,
    "start_time": "2023-11-18T15:59:23.105Z"
   },
   {
    "duration": 13,
    "start_time": "2023-11-18T15:59:23.144Z"
   },
   {
    "duration": 104,
    "start_time": "2023-11-18T15:59:23.158Z"
   },
   {
    "duration": 1832,
    "start_time": "2023-11-18T15:59:23.263Z"
   },
   {
    "duration": 20,
    "start_time": "2023-11-18T15:59:25.096Z"
   },
   {
    "duration": 327,
    "start_time": "2023-11-18T15:59:25.117Z"
   },
   {
    "duration": 8400,
    "start_time": "2023-11-18T15:59:25.446Z"
   },
   {
    "duration": 823,
    "start_time": "2023-11-18T15:59:33.848Z"
   },
   {
    "duration": 56924,
    "start_time": "2023-11-18T15:59:34.672Z"
   },
   {
    "duration": 7851,
    "start_time": "2023-11-18T16:00:31.598Z"
   },
   {
    "duration": 3,
    "start_time": "2023-11-18T16:00:39.451Z"
   },
   {
    "duration": 725589,
    "start_time": "2023-11-18T16:00:39.455Z"
   },
   {
    "duration": 0,
    "start_time": "2023-11-18T16:12:45.046Z"
   },
   {
    "duration": 0,
    "start_time": "2023-11-18T16:12:45.047Z"
   },
   {
    "duration": 0,
    "start_time": "2023-11-18T16:12:45.048Z"
   },
   {
    "duration": 0,
    "start_time": "2023-11-18T16:12:45.049Z"
   },
   {
    "duration": 0,
    "start_time": "2023-11-18T16:12:45.050Z"
   },
   {
    "duration": 0,
    "start_time": "2023-11-18T16:12:45.051Z"
   },
   {
    "duration": 0,
    "start_time": "2023-11-18T16:12:45.052Z"
   },
   {
    "duration": 0,
    "start_time": "2023-11-18T16:12:45.053Z"
   },
   {
    "duration": 14,
    "start_time": "2023-11-18T16:53:28.207Z"
   },
   {
    "duration": 2547,
    "start_time": "2023-11-18T16:53:44.264Z"
   },
   {
    "duration": 2599,
    "start_time": "2023-11-18T16:53:46.813Z"
   },
   {
    "duration": 1672,
    "start_time": "2023-11-18T16:53:49.415Z"
   },
   {
    "duration": 916,
    "start_time": "2023-11-18T16:53:51.089Z"
   },
   {
    "duration": 1658,
    "start_time": "2023-11-18T16:53:52.007Z"
   },
   {
    "duration": 32,
    "start_time": "2023-11-18T16:53:53.667Z"
   },
   {
    "duration": 32,
    "start_time": "2023-11-18T16:53:53.700Z"
   },
   {
    "duration": 6,
    "start_time": "2023-11-18T16:53:53.734Z"
   },
   {
    "duration": 35,
    "start_time": "2023-11-18T16:53:53.742Z"
   },
   {
    "duration": 214,
    "start_time": "2023-11-18T16:53:53.779Z"
   },
   {
    "duration": 70,
    "start_time": "2023-11-18T16:53:53.994Z"
   },
   {
    "duration": 24,
    "start_time": "2023-11-18T16:53:54.066Z"
   },
   {
    "duration": 73,
    "start_time": "2023-11-18T16:53:54.092Z"
   },
   {
    "duration": 10,
    "start_time": "2023-11-18T16:53:54.166Z"
   },
   {
    "duration": 52,
    "start_time": "2023-11-18T16:53:54.178Z"
   },
   {
    "duration": 437,
    "start_time": "2023-11-18T16:53:54.232Z"
   },
   {
    "duration": 20,
    "start_time": "2023-11-18T16:53:54.671Z"
   },
   {
    "duration": 69,
    "start_time": "2023-11-18T16:53:54.693Z"
   },
   {
    "duration": 278,
    "start_time": "2023-11-18T16:53:54.764Z"
   },
   {
    "duration": 23,
    "start_time": "2023-11-18T16:53:55.043Z"
   },
   {
    "duration": 66,
    "start_time": "2023-11-18T16:53:55.067Z"
   },
   {
    "duration": 222,
    "start_time": "2023-11-18T16:53:55.134Z"
   },
   {
    "duration": 222,
    "start_time": "2023-11-18T16:53:55.358Z"
   },
   {
    "duration": 23,
    "start_time": "2023-11-18T16:53:55.581Z"
   },
   {
    "duration": 302,
    "start_time": "2023-11-18T16:53:55.605Z"
   },
   {
    "duration": 14,
    "start_time": "2023-11-18T16:53:55.908Z"
   },
   {
    "duration": 12,
    "start_time": "2023-11-18T16:53:55.924Z"
   },
   {
    "duration": 5,
    "start_time": "2023-11-18T16:53:55.940Z"
   },
   {
    "duration": 295,
    "start_time": "2023-11-18T16:53:55.946Z"
   },
   {
    "duration": 4,
    "start_time": "2023-11-18T16:53:56.243Z"
   },
   {
    "duration": 351,
    "start_time": "2023-11-18T16:53:56.249Z"
   },
   {
    "duration": 379,
    "start_time": "2023-11-18T16:53:56.601Z"
   },
   {
    "duration": 7,
    "start_time": "2023-11-18T16:53:56.981Z"
   },
   {
    "duration": 87,
    "start_time": "2023-11-18T16:53:56.990Z"
   },
   {
    "duration": 15,
    "start_time": "2023-11-18T16:53:57.078Z"
   },
   {
    "duration": 111,
    "start_time": "2023-11-18T16:53:57.095Z"
   },
   {
    "duration": 379,
    "start_time": "2023-11-18T16:53:57.215Z"
   },
   {
    "duration": 550,
    "start_time": "2023-11-18T16:53:57.595Z"
   },
   {
    "duration": 1101,
    "start_time": "2023-11-18T16:53:58.147Z"
   },
   {
    "duration": 28,
    "start_time": "2023-11-18T16:53:59.250Z"
   },
   {
    "duration": 1192,
    "start_time": "2023-11-18T16:53:59.279Z"
   },
   {
    "duration": 92,
    "start_time": "2023-11-18T16:54:00.472Z"
   },
   {
    "duration": 26,
    "start_time": "2023-11-18T16:54:00.566Z"
   },
   {
    "duration": 70,
    "start_time": "2023-11-18T16:54:00.593Z"
   },
   {
    "duration": 20,
    "start_time": "2023-11-18T16:54:00.665Z"
   },
   {
    "duration": 139,
    "start_time": "2023-11-18T16:54:00.686Z"
   },
   {
    "duration": 19,
    "start_time": "2023-11-18T16:54:00.827Z"
   },
   {
    "duration": 21,
    "start_time": "2023-11-18T16:54:00.848Z"
   },
   {
    "duration": 27,
    "start_time": "2023-11-18T16:54:00.871Z"
   },
   {
    "duration": 81,
    "start_time": "2023-11-18T16:54:00.899Z"
   },
   {
    "duration": 1915,
    "start_time": "2023-11-18T16:54:00.982Z"
   },
   {
    "duration": 23,
    "start_time": "2023-11-18T16:54:02.898Z"
   },
   {
    "duration": 361,
    "start_time": "2023-11-18T16:54:02.923Z"
   },
   {
    "duration": 117,
    "start_time": "2023-11-18T16:54:03.285Z"
   },
   {
    "duration": 0,
    "start_time": "2023-11-18T16:54:03.403Z"
   },
   {
    "duration": 0,
    "start_time": "2023-11-18T16:54:03.404Z"
   },
   {
    "duration": 0,
    "start_time": "2023-11-18T16:54:03.405Z"
   },
   {
    "duration": 0,
    "start_time": "2023-11-18T16:54:03.406Z"
   },
   {
    "duration": 0,
    "start_time": "2023-11-18T16:54:03.407Z"
   },
   {
    "duration": 0,
    "start_time": "2023-11-18T16:54:03.409Z"
   },
   {
    "duration": 0,
    "start_time": "2023-11-18T16:54:03.409Z"
   },
   {
    "duration": 0,
    "start_time": "2023-11-18T16:54:03.410Z"
   },
   {
    "duration": 0,
    "start_time": "2023-11-18T16:54:03.411Z"
   },
   {
    "duration": 0,
    "start_time": "2023-11-18T16:54:03.412Z"
   },
   {
    "duration": 0,
    "start_time": "2023-11-18T16:54:03.414Z"
   },
   {
    "duration": 0,
    "start_time": "2023-11-18T16:54:03.415Z"
   },
   {
    "duration": 0,
    "start_time": "2023-11-18T16:54:03.416Z"
   },
   {
    "duration": 0,
    "start_time": "2023-11-18T16:54:03.417Z"
   },
   {
    "duration": 8060,
    "start_time": "2023-11-18T16:54:31.493Z"
   },
   {
    "duration": 54353,
    "start_time": "2023-11-18T16:54:45.731Z"
   },
   {
    "duration": 2,
    "start_time": "2023-11-18T16:55:46.478Z"
   },
   {
    "duration": 117,
    "start_time": "2023-11-18T16:55:47.303Z"
   },
   {
    "duration": 2340,
    "start_time": "2023-11-18T17:02:30.919Z"
   },
   {
    "duration": 2361,
    "start_time": "2023-11-18T17:02:33.261Z"
   },
   {
    "duration": 1445,
    "start_time": "2023-11-18T17:02:35.623Z"
   },
   {
    "duration": 835,
    "start_time": "2023-11-18T17:02:37.070Z"
   },
   {
    "duration": 1528,
    "start_time": "2023-11-18T17:02:37.906Z"
   },
   {
    "duration": 33,
    "start_time": "2023-11-18T17:02:39.436Z"
   },
   {
    "duration": 17,
    "start_time": "2023-11-18T17:02:39.470Z"
   },
   {
    "duration": 27,
    "start_time": "2023-11-18T17:02:39.488Z"
   },
   {
    "duration": 31,
    "start_time": "2023-11-18T17:02:39.517Z"
   },
   {
    "duration": 152,
    "start_time": "2023-11-18T17:02:39.551Z"
   },
   {
    "duration": 63,
    "start_time": "2023-11-18T17:02:39.704Z"
   },
   {
    "duration": 24,
    "start_time": "2023-11-18T17:02:39.769Z"
   },
   {
    "duration": 65,
    "start_time": "2023-11-18T17:02:39.795Z"
   },
   {
    "duration": 11,
    "start_time": "2023-11-18T17:02:39.862Z"
   },
   {
    "duration": 60,
    "start_time": "2023-11-18T17:02:39.874Z"
   },
   {
    "duration": 423,
    "start_time": "2023-11-18T17:02:39.936Z"
   },
   {
    "duration": 21,
    "start_time": "2023-11-18T17:02:40.360Z"
   },
   {
    "duration": 54,
    "start_time": "2023-11-18T17:02:40.382Z"
   },
   {
    "duration": 230,
    "start_time": "2023-11-18T17:02:40.437Z"
   },
   {
    "duration": 21,
    "start_time": "2023-11-18T17:02:40.669Z"
   },
   {
    "duration": 58,
    "start_time": "2023-11-18T17:02:40.691Z"
   },
   {
    "duration": 204,
    "start_time": "2023-11-18T17:02:40.750Z"
   },
   {
    "duration": 195,
    "start_time": "2023-11-18T17:02:40.955Z"
   },
   {
    "duration": 23,
    "start_time": "2023-11-18T17:02:41.152Z"
   },
   {
    "duration": 262,
    "start_time": "2023-11-18T17:02:41.176Z"
   },
   {
    "duration": 9,
    "start_time": "2023-11-18T17:02:41.440Z"
   },
   {
    "duration": 9,
    "start_time": "2023-11-18T17:02:41.451Z"
   },
   {
    "duration": 4,
    "start_time": "2023-11-18T17:02:41.465Z"
   },
   {
    "duration": 289,
    "start_time": "2023-11-18T17:02:41.471Z"
   },
   {
    "duration": 5,
    "start_time": "2023-11-18T17:02:41.762Z"
   },
   {
    "duration": 330,
    "start_time": "2023-11-18T17:02:41.769Z"
   },
   {
    "duration": 338,
    "start_time": "2023-11-18T17:02:42.101Z"
   },
   {
    "duration": 7,
    "start_time": "2023-11-18T17:02:42.441Z"
   },
   {
    "duration": 80,
    "start_time": "2023-11-18T17:02:42.450Z"
   },
   {
    "duration": 17,
    "start_time": "2023-11-18T17:02:42.532Z"
   },
   {
    "duration": 102,
    "start_time": "2023-11-18T17:02:42.551Z"
   },
   {
    "duration": 335,
    "start_time": "2023-11-18T17:02:42.655Z"
   },
   {
    "duration": 501,
    "start_time": "2023-11-18T17:02:42.991Z"
   },
   {
    "duration": 1024,
    "start_time": "2023-11-18T17:02:43.493Z"
   },
   {
    "duration": 28,
    "start_time": "2023-11-18T17:02:44.519Z"
   },
   {
    "duration": 1139,
    "start_time": "2023-11-18T17:02:44.548Z"
   },
   {
    "duration": 118,
    "start_time": "2023-11-18T17:02:45.688Z"
   },
   {
    "duration": 20,
    "start_time": "2023-11-18T17:02:45.815Z"
   },
   {
    "duration": 50,
    "start_time": "2023-11-18T17:02:45.837Z"
   },
   {
    "duration": 32,
    "start_time": "2023-11-18T17:02:45.889Z"
   },
   {
    "duration": 114,
    "start_time": "2023-11-18T17:02:45.922Z"
   },
   {
    "duration": 13,
    "start_time": "2023-11-18T17:02:46.038Z"
   },
   {
    "duration": 2,
    "start_time": "2023-11-18T17:02:46.052Z"
   },
   {
    "duration": 6,
    "start_time": "2023-11-18T17:02:46.056Z"
   },
   {
    "duration": 78,
    "start_time": "2023-11-18T17:02:46.064Z"
   },
   {
    "duration": 1805,
    "start_time": "2023-11-18T17:02:46.144Z"
   },
   {
    "duration": 19,
    "start_time": "2023-11-18T17:02:47.951Z"
   },
   {
    "duration": 333,
    "start_time": "2023-11-18T17:02:47.972Z"
   },
   {
    "duration": 7614,
    "start_time": "2023-11-18T17:02:48.306Z"
   },
   {
    "duration": 53227,
    "start_time": "2023-11-18T17:02:55.922Z"
   },
   {
    "duration": 2,
    "start_time": "2023-11-18T17:03:49.151Z"
   },
   {
    "duration": 696514,
    "start_time": "2023-11-18T17:03:49.154Z"
   },
   {
    "duration": 0,
    "start_time": "2023-11-18T17:15:25.670Z"
   },
   {
    "duration": 0,
    "start_time": "2023-11-18T17:15:25.671Z"
   },
   {
    "duration": 0,
    "start_time": "2023-11-18T17:15:25.672Z"
   },
   {
    "duration": 0,
    "start_time": "2023-11-18T17:15:25.673Z"
   },
   {
    "duration": 0,
    "start_time": "2023-11-18T17:15:25.674Z"
   },
   {
    "duration": 0,
    "start_time": "2023-11-18T17:15:25.675Z"
   },
   {
    "duration": 0,
    "start_time": "2023-11-18T17:15:25.676Z"
   },
   {
    "duration": 0,
    "start_time": "2023-11-18T17:15:25.677Z"
   },
   {
    "duration": 0,
    "start_time": "2023-11-18T17:15:25.679Z"
   },
   {
    "duration": 0,
    "start_time": "2023-11-18T17:15:25.679Z"
   },
   {
    "duration": 0,
    "start_time": "2023-11-18T17:15:25.681Z"
   },
   {
    "duration": 2740,
    "start_time": "2023-11-19T10:45:59.480Z"
   },
   {
    "duration": 3293,
    "start_time": "2023-11-19T10:46:02.223Z"
   },
   {
    "duration": 1788,
    "start_time": "2023-11-19T10:46:05.518Z"
   },
   {
    "duration": 3026,
    "start_time": "2023-11-19T10:46:07.309Z"
   },
   {
    "duration": 1782,
    "start_time": "2023-11-19T10:46:10.337Z"
   },
   {
    "duration": 41,
    "start_time": "2023-11-19T10:46:14.924Z"
   },
   {
    "duration": 20,
    "start_time": "2023-11-19T10:46:15.488Z"
   },
   {
    "duration": 9,
    "start_time": "2023-11-19T10:46:15.812Z"
   },
   {
    "duration": 34,
    "start_time": "2023-11-19T10:46:16.120Z"
   },
   {
    "duration": 139,
    "start_time": "2023-11-19T10:46:16.304Z"
   },
   {
    "duration": 52,
    "start_time": "2023-11-19T10:46:16.484Z"
   },
   {
    "duration": 24,
    "start_time": "2023-11-19T10:46:16.827Z"
   },
   {
    "duration": 59,
    "start_time": "2023-11-19T10:46:17.396Z"
   },
   {
    "duration": 10,
    "start_time": "2023-11-19T10:46:17.564Z"
   },
   {
    "duration": 52,
    "start_time": "2023-11-19T10:46:17.771Z"
   },
   {
    "duration": 439,
    "start_time": "2023-11-19T10:46:18.084Z"
   },
   {
    "duration": 22,
    "start_time": "2023-11-19T10:46:18.525Z"
   },
   {
    "duration": 47,
    "start_time": "2023-11-19T10:46:18.579Z"
   },
   {
    "duration": 231,
    "start_time": "2023-11-19T10:46:18.920Z"
   },
   {
    "duration": 23,
    "start_time": "2023-11-19T10:46:19.153Z"
   },
   {
    "duration": 49,
    "start_time": "2023-11-19T10:46:19.428Z"
   },
   {
    "duration": 193,
    "start_time": "2023-11-19T10:46:20.551Z"
   },
   {
    "duration": 195,
    "start_time": "2023-11-19T10:46:20.746Z"
   },
   {
    "duration": 24,
    "start_time": "2023-11-19T10:46:20.973Z"
   },
   {
    "duration": 242,
    "start_time": "2023-11-19T10:46:21.876Z"
   },
   {
    "duration": 7,
    "start_time": "2023-11-19T10:46:22.585Z"
   },
   {
    "duration": 8,
    "start_time": "2023-11-19T10:46:24.724Z"
   },
   {
    "duration": 4,
    "start_time": "2023-11-19T10:46:26.648Z"
   },
   {
    "duration": 262,
    "start_time": "2023-11-19T10:46:27.792Z"
   },
   {
    "duration": 4,
    "start_time": "2023-11-19T10:46:28.524Z"
   },
   {
    "duration": 328,
    "start_time": "2023-11-19T10:46:28.732Z"
   },
   {
    "duration": 371,
    "start_time": "2023-11-19T10:46:29.062Z"
   },
   {
    "duration": 8,
    "start_time": "2023-11-19T10:46:29.435Z"
   },
   {
    "duration": 82,
    "start_time": "2023-11-19T10:46:29.444Z"
   },
   {
    "duration": 17,
    "start_time": "2023-11-19T10:46:30.268Z"
   },
   {
    "duration": 87,
    "start_time": "2023-11-19T10:46:31.728Z"
   },
   {
    "duration": 337,
    "start_time": "2023-11-19T10:46:33.228Z"
   },
   {
    "duration": 495,
    "start_time": "2023-11-19T10:46:33.575Z"
   },
   {
    "duration": 1047,
    "start_time": "2023-11-19T10:46:34.072Z"
   },
   {
    "duration": 28,
    "start_time": "2023-11-19T10:46:35.121Z"
   },
   {
    "duration": 1134,
    "start_time": "2023-11-19T10:46:35.151Z"
   },
   {
    "duration": 90,
    "start_time": "2023-11-19T10:46:36.286Z"
   },
   {
    "duration": 29,
    "start_time": "2023-11-19T10:46:36.377Z"
   },
   {
    "duration": 45,
    "start_time": "2023-11-19T10:46:36.408Z"
   },
   {
    "duration": 18,
    "start_time": "2023-11-19T10:46:36.455Z"
   },
   {
    "duration": 98,
    "start_time": "2023-11-19T10:46:37.180Z"
   },
   {
    "duration": 15,
    "start_time": "2023-11-19T10:46:38.696Z"
   },
   {
    "duration": 2,
    "start_time": "2023-11-19T10:46:38.944Z"
   },
   {
    "duration": 2,
    "start_time": "2023-11-19T10:46:41.440Z"
   },
   {
    "duration": 73,
    "start_time": "2023-11-19T10:46:42.760Z"
   },
   {
    "duration": 103,
    "start_time": "2023-11-19T10:46:45.247Z"
   },
   {
    "duration": 33,
    "start_time": "2023-11-19T10:46:50.924Z"
   },
   {
    "duration": 1476,
    "start_time": "2023-11-19T10:48:41.972Z"
   },
   {
    "duration": 26,
    "start_time": "2023-11-19T10:48:49.481Z"
   },
   {
    "duration": 1585,
    "start_time": "2023-11-19T10:48:50.353Z"
   },
   {
    "duration": 18,
    "start_time": "2023-11-19T10:49:28.069Z"
   },
   {
    "duration": 19,
    "start_time": "2023-11-19T10:49:38.101Z"
   },
   {
    "duration": 19,
    "start_time": "2023-11-19T10:49:50.245Z"
   },
   {
    "duration": 20,
    "start_time": "2023-11-19T10:49:59.397Z"
   },
   {
    "duration": 257,
    "start_time": "2023-11-19T10:51:40.709Z"
   },
   {
    "duration": 276,
    "start_time": "2023-11-19T10:51:56.954Z"
   },
   {
    "duration": 254,
    "start_time": "2023-11-19T10:52:11.182Z"
   },
   {
    "duration": 258,
    "start_time": "2023-11-19T10:52:28.990Z"
   },
   {
    "duration": 5918,
    "start_time": "2023-11-19T10:55:11.083Z"
   },
   {
    "duration": 41057,
    "start_time": "2023-11-19T10:55:48.163Z"
   },
   {
    "duration": 143612,
    "start_time": "2023-11-19T11:00:47.504Z"
   },
   {
    "duration": 581402,
    "start_time": "2023-11-19T11:03:33.166Z"
   },
   {
    "duration": 2368,
    "start_time": "2023-11-19T11:20:31.004Z"
   },
   {
    "duration": 2496,
    "start_time": "2023-11-19T11:20:33.375Z"
   },
   {
    "duration": 1617,
    "start_time": "2023-11-19T11:20:35.873Z"
   },
   {
    "duration": 884,
    "start_time": "2023-11-19T11:20:37.492Z"
   },
   {
    "duration": 1621,
    "start_time": "2023-11-19T11:20:38.377Z"
   },
   {
    "duration": 32,
    "start_time": "2023-11-19T11:20:42.137Z"
   },
   {
    "duration": 22,
    "start_time": "2023-11-19T11:20:43.115Z"
   },
   {
    "duration": 6,
    "start_time": "2023-11-19T11:20:44.538Z"
   },
   {
    "duration": 35,
    "start_time": "2023-11-19T11:20:45.790Z"
   },
   {
    "duration": 140,
    "start_time": "2023-11-19T11:20:46.816Z"
   },
   {
    "duration": 53,
    "start_time": "2023-11-19T11:20:47.971Z"
   },
   {
    "duration": 25,
    "start_time": "2023-11-19T11:20:55.424Z"
   },
   {
    "duration": 52,
    "start_time": "2023-11-19T11:21:03.616Z"
   },
   {
    "duration": 11,
    "start_time": "2023-11-19T11:21:04.640Z"
   },
   {
    "duration": 53,
    "start_time": "2023-11-19T11:21:05.743Z"
   },
   {
    "duration": 470,
    "start_time": "2023-11-19T11:21:12.020Z"
   },
   {
    "duration": 26,
    "start_time": "2023-11-19T11:21:12.813Z"
   },
   {
    "duration": 48,
    "start_time": "2023-11-19T11:21:15.720Z"
   },
   {
    "duration": 249,
    "start_time": "2023-11-19T11:21:17.884Z"
   },
   {
    "duration": 25,
    "start_time": "2023-11-19T11:21:19.040Z"
   },
   {
    "duration": 49,
    "start_time": "2023-11-19T11:21:23.624Z"
   },
   {
    "duration": 199,
    "start_time": "2023-11-19T11:21:28.854Z"
   },
   {
    "duration": 196,
    "start_time": "2023-11-19T11:21:29.712Z"
   },
   {
    "duration": 24,
    "start_time": "2023-11-19T11:21:30.895Z"
   },
   {
    "duration": 251,
    "start_time": "2023-11-19T11:21:31.924Z"
   },
   {
    "duration": 8,
    "start_time": "2023-11-19T11:21:47.436Z"
   },
   {
    "duration": 9,
    "start_time": "2023-11-19T11:21:49.732Z"
   },
   {
    "duration": 5,
    "start_time": "2023-11-19T11:21:51.780Z"
   },
   {
    "duration": 262,
    "start_time": "2023-11-19T11:21:52.544Z"
   },
   {
    "duration": 5,
    "start_time": "2023-11-19T11:21:53.432Z"
   },
   {
    "duration": 337,
    "start_time": "2023-11-19T11:21:54.283Z"
   },
   {
    "duration": 375,
    "start_time": "2023-11-19T11:21:55.504Z"
   },
   {
    "duration": 7,
    "start_time": "2023-11-19T11:21:56.330Z"
   },
   {
    "duration": 72,
    "start_time": "2023-11-19T11:21:57.228Z"
   },
   {
    "duration": 18,
    "start_time": "2023-11-19T11:21:57.669Z"
   },
   {
    "duration": 92,
    "start_time": "2023-11-19T11:21:59.720Z"
   },
   {
    "duration": 342,
    "start_time": "2023-11-19T11:22:01.229Z"
   },
   {
    "duration": 557,
    "start_time": "2023-11-19T11:22:01.955Z"
   },
   {
    "duration": 1175,
    "start_time": "2023-11-19T11:22:02.726Z"
   },
   {
    "duration": 31,
    "start_time": "2023-11-19T11:22:03.904Z"
   },
   {
    "duration": 1232,
    "start_time": "2023-11-19T11:22:03.936Z"
   },
   {
    "duration": 95,
    "start_time": "2023-11-19T11:22:05.242Z"
   },
   {
    "duration": 21,
    "start_time": "2023-11-19T11:22:05.752Z"
   },
   {
    "duration": 49,
    "start_time": "2023-11-19T11:22:07.562Z"
   },
   {
    "duration": 20,
    "start_time": "2023-11-19T11:22:08.088Z"
   },
   {
    "duration": 103,
    "start_time": "2023-11-19T11:22:10.255Z"
   },
   {
    "duration": 14,
    "start_time": "2023-11-19T11:22:13.375Z"
   },
   {
    "duration": 3,
    "start_time": "2023-11-19T11:22:14.086Z"
   },
   {
    "duration": 2,
    "start_time": "2023-11-19T11:22:15.297Z"
   },
   {
    "duration": 70,
    "start_time": "2023-11-19T11:22:15.845Z"
   },
   {
    "duration": 33,
    "start_time": "2023-11-19T11:22:16.413Z"
   },
   {
    "duration": 1635,
    "start_time": "2023-11-19T11:22:17.152Z"
   },
   {
    "duration": 19,
    "start_time": "2023-11-19T11:22:19.472Z"
   },
   {
    "duration": 328,
    "start_time": "2023-11-19T11:22:58.043Z"
   },
   {
    "duration": 6320,
    "start_time": "2023-11-19T11:23:03.149Z"
   },
   {
    "duration": 4,
    "start_time": "2023-11-19T11:23:17.388Z"
   },
   {
    "duration": 224,
    "start_time": "2023-11-19T11:23:38.513Z"
   },
   {
    "duration": 666,
    "start_time": "2023-11-19T11:24:06.074Z"
   },
   {
    "duration": 23,
    "start_time": "2023-11-19T11:24:19.700Z"
   },
   {
    "duration": 13,
    "start_time": "2023-11-19T11:24:23.560Z"
   },
   {
    "duration": 4,
    "start_time": "2023-11-19T11:24:41.945Z"
   },
   {
    "duration": 41558,
    "start_time": "2023-11-19T11:24:47.441Z"
   },
   {
    "duration": 6187,
    "start_time": "2023-11-19T11:26:06.790Z"
   },
   {
    "duration": 3,
    "start_time": "2023-11-19T11:26:18.677Z"
   },
   {
    "duration": 83,
    "start_time": "2023-11-19T11:26:22.909Z"
   },
   {
    "duration": 11,
    "start_time": "2023-11-19T11:26:45.226Z"
   },
   {
    "duration": 4,
    "start_time": "2023-11-19T11:26:52.505Z"
   },
   {
    "duration": 569293,
    "start_time": "2023-11-19T11:27:23.457Z"
   },
   {
    "duration": 3,
    "start_time": "2023-11-19T11:38:31.606Z"
   },
   {
    "duration": 83,
    "start_time": "2023-11-19T11:38:36.889Z"
   },
   {
    "duration": 176,
    "start_time": "2023-11-19T11:38:50.573Z"
   },
   {
    "duration": 167,
    "start_time": "2023-11-19T11:39:52.225Z"
   },
   {
    "duration": 153,
    "start_time": "2023-11-19T11:40:47.177Z"
   },
   {
    "duration": 137264,
    "start_time": "2023-11-19T11:44:48.909Z"
   },
   {
    "duration": 4,
    "start_time": "2023-11-19T11:47:43.811Z"
   },
   {
    "duration": 110,
    "start_time": "2023-11-19T11:47:49.615Z"
   },
   {
    "duration": 420,
    "start_time": "2023-11-19T11:48:08.540Z"
   },
   {
    "duration": 10,
    "start_time": "2023-11-19T11:48:18.504Z"
   },
   {
    "duration": 5,
    "start_time": "2023-11-19T11:48:27.235Z"
   },
   {
    "duration": 665,
    "start_time": "2023-11-19T11:49:03.304Z"
   },
   {
    "duration": 638,
    "start_time": "2023-11-19T11:52:16.148Z"
   },
   {
    "duration": 648,
    "start_time": "2023-11-19T11:53:05.397Z"
   },
   {
    "duration": 483,
    "start_time": "2023-11-19T11:54:14.485Z"
   },
   {
    "duration": 466,
    "start_time": "2023-11-19T11:58:55.510Z"
   },
   {
    "duration": 0,
    "start_time": "2023-11-19T11:58:55.978Z"
   },
   {
    "duration": 479,
    "start_time": "2023-11-19T11:59:00.787Z"
   },
   {
    "duration": 0,
    "start_time": "2023-11-19T11:59:01.267Z"
   },
   {
    "duration": 434,
    "start_time": "2023-11-19T12:00:33.659Z"
   },
   {
    "duration": 273,
    "start_time": "2023-11-19T12:01:24.835Z"
   },
   {
    "duration": 313,
    "start_time": "2023-11-19T12:02:49.804Z"
   },
   {
    "duration": 461,
    "start_time": "2023-11-19T12:03:27.739Z"
   },
   {
    "duration": 458,
    "start_time": "2023-11-19T12:03:56.016Z"
   },
   {
    "duration": 466,
    "start_time": "2023-11-19T12:04:44.672Z"
   },
   {
    "duration": 21,
    "start_time": "2023-11-19T12:13:46.226Z"
   },
   {
    "duration": 5,
    "start_time": "2023-11-19T12:14:27.051Z"
   },
   {
    "duration": 3,
    "start_time": "2023-11-19T12:14:50.007Z"
   },
   {
    "duration": 465,
    "start_time": "2023-11-19T12:15:16.595Z"
   },
   {
    "duration": 4,
    "start_time": "2023-11-19T12:15:55.591Z"
   },
   {
    "duration": 310,
    "start_time": "2023-11-19T12:16:09.723Z"
   },
   {
    "duration": 420,
    "start_time": "2023-11-19T12:16:17.271Z"
   },
   {
    "duration": 25,
    "start_time": "2023-11-19T12:16:29.036Z"
   },
   {
    "duration": 472,
    "start_time": "2023-11-19T12:16:41.335Z"
   },
   {
    "duration": 468,
    "start_time": "2023-11-19T12:21:10.420Z"
   },
   {
    "duration": 0,
    "start_time": "2023-11-19T12:21:10.889Z"
   },
   {
    "duration": 2452,
    "start_time": "2023-11-19T12:28:53.188Z"
   },
   {
    "duration": 2444,
    "start_time": "2023-11-19T12:28:55.643Z"
   },
   {
    "duration": 1597,
    "start_time": "2023-11-19T12:28:58.089Z"
   },
   {
    "duration": 961,
    "start_time": "2023-11-19T12:28:59.689Z"
   },
   {
    "duration": 1671,
    "start_time": "2023-11-19T12:29:00.652Z"
   },
   {
    "duration": 30,
    "start_time": "2023-11-19T12:29:02.325Z"
   },
   {
    "duration": 42,
    "start_time": "2023-11-19T12:29:02.357Z"
   },
   {
    "duration": 5,
    "start_time": "2023-11-19T12:29:02.401Z"
   },
   {
    "duration": 43,
    "start_time": "2023-11-19T12:29:02.408Z"
   },
   {
    "duration": 147,
    "start_time": "2023-11-19T12:29:02.456Z"
   },
   {
    "duration": 55,
    "start_time": "2023-11-19T12:29:02.604Z"
   },
   {
    "duration": 44,
    "start_time": "2023-11-19T12:29:02.661Z"
   },
   {
    "duration": 49,
    "start_time": "2023-11-19T12:29:02.707Z"
   },
   {
    "duration": 11,
    "start_time": "2023-11-19T12:29:02.757Z"
   },
   {
    "duration": 73,
    "start_time": "2023-11-19T12:29:02.769Z"
   },
   {
    "duration": 423,
    "start_time": "2023-11-19T12:29:02.844Z"
   },
   {
    "duration": 21,
    "start_time": "2023-11-19T12:29:03.269Z"
   },
   {
    "duration": 47,
    "start_time": "2023-11-19T12:29:03.299Z"
   },
   {
    "duration": 283,
    "start_time": "2023-11-19T12:29:03.347Z"
   },
   {
    "duration": 23,
    "start_time": "2023-11-19T12:29:03.632Z"
   },
   {
    "duration": 72,
    "start_time": "2023-11-19T12:29:03.657Z"
   },
   {
    "duration": 228,
    "start_time": "2023-11-19T12:29:03.731Z"
   },
   {
    "duration": 203,
    "start_time": "2023-11-19T12:29:03.960Z"
   },
   {
    "duration": 24,
    "start_time": "2023-11-19T12:29:04.164Z"
   },
   {
    "duration": 270,
    "start_time": "2023-11-19T12:29:04.189Z"
   },
   {
    "duration": 7,
    "start_time": "2023-11-19T12:29:04.461Z"
   },
   {
    "duration": 20,
    "start_time": "2023-11-19T12:29:04.470Z"
   },
   {
    "duration": 6,
    "start_time": "2023-11-19T12:29:04.494Z"
   },
   {
    "duration": 277,
    "start_time": "2023-11-19T12:29:04.502Z"
   },
   {
    "duration": 5,
    "start_time": "2023-11-19T12:29:04.781Z"
   },
   {
    "duration": 358,
    "start_time": "2023-11-19T12:29:04.787Z"
   },
   {
    "duration": 407,
    "start_time": "2023-11-19T12:29:05.147Z"
   },
   {
    "duration": 8,
    "start_time": "2023-11-19T12:29:05.556Z"
   },
   {
    "duration": 87,
    "start_time": "2023-11-19T12:29:05.565Z"
   },
   {
    "duration": 16,
    "start_time": "2023-11-19T12:29:05.653Z"
   },
   {
    "duration": 107,
    "start_time": "2023-11-19T12:29:05.671Z"
   },
   {
    "duration": 343,
    "start_time": "2023-11-19T12:29:05.780Z"
   },
   {
    "duration": 503,
    "start_time": "2023-11-19T12:29:06.124Z"
   },
   {
    "duration": 1034,
    "start_time": "2023-11-19T12:29:06.629Z"
   },
   {
    "duration": 42,
    "start_time": "2023-11-19T12:29:07.665Z"
   },
   {
    "duration": 1140,
    "start_time": "2023-11-19T12:29:07.709Z"
   },
   {
    "duration": 97,
    "start_time": "2023-11-19T12:29:08.851Z"
   },
   {
    "duration": 22,
    "start_time": "2023-11-19T12:29:08.950Z"
   },
   {
    "duration": 66,
    "start_time": "2023-11-19T12:29:08.973Z"
   },
   {
    "duration": 21,
    "start_time": "2023-11-19T12:29:09.041Z"
   },
   {
    "duration": 124,
    "start_time": "2023-11-19T12:29:09.064Z"
   },
   {
    "duration": 22,
    "start_time": "2023-11-19T12:29:09.189Z"
   },
   {
    "duration": 3,
    "start_time": "2023-11-19T12:29:09.213Z"
   },
   {
    "duration": 5,
    "start_time": "2023-11-19T12:29:09.218Z"
   },
   {
    "duration": 100,
    "start_time": "2023-11-19T12:29:09.225Z"
   },
   {
    "duration": 37,
    "start_time": "2023-11-19T12:29:09.326Z"
   },
   {
    "duration": 1612,
    "start_time": "2023-11-19T12:29:09.364Z"
   },
   {
    "duration": 23,
    "start_time": "2023-11-19T12:29:10.978Z"
   },
   {
    "duration": 326,
    "start_time": "2023-11-19T12:29:11.002Z"
   },
   {
    "duration": 6211,
    "start_time": "2023-11-19T12:29:11.329Z"
   },
   {
    "duration": 626,
    "start_time": "2023-11-19T12:29:17.542Z"
   },
   {
    "duration": 30,
    "start_time": "2023-11-19T12:29:18.170Z"
   },
   {
    "duration": 5,
    "start_time": "2023-11-19T12:29:18.202Z"
   },
   {
    "duration": 42903,
    "start_time": "2023-11-19T12:29:18.208Z"
   },
   {
    "duration": 6378,
    "start_time": "2023-11-19T12:30:01.113Z"
   },
   {
    "duration": 92,
    "start_time": "2023-11-19T12:30:07.492Z"
   },
   {
    "duration": 17,
    "start_time": "2023-11-19T12:30:07.585Z"
   },
   {
    "duration": 3,
    "start_time": "2023-11-19T12:30:07.604Z"
   },
   {
    "duration": 8,
    "start_time": "2023-11-19T12:30:07.608Z"
   },
   {
    "duration": 5,
    "start_time": "2023-11-19T12:30:07.617Z"
   },
   {
    "duration": 5,
    "start_time": "2023-11-19T12:30:07.624Z"
   },
   {
    "duration": 141,
    "start_time": "2023-11-19T12:30:07.631Z"
   },
   {
    "duration": 0,
    "start_time": "2023-11-19T12:30:07.774Z"
   },
   {
    "duration": 0,
    "start_time": "2023-11-19T12:30:07.776Z"
   },
   {
    "duration": 0,
    "start_time": "2023-11-19T12:30:07.777Z"
   },
   {
    "duration": 0,
    "start_time": "2023-11-19T12:30:07.778Z"
   },
   {
    "duration": 0,
    "start_time": "2023-11-19T12:30:07.779Z"
   },
   {
    "duration": 0,
    "start_time": "2023-11-19T12:30:07.780Z"
   },
   {
    "duration": 0,
    "start_time": "2023-11-19T12:30:07.781Z"
   },
   {
    "duration": 1,
    "start_time": "2023-11-19T12:30:07.799Z"
   },
   {
    "duration": 0,
    "start_time": "2023-11-19T12:30:07.800Z"
   },
   {
    "duration": 0,
    "start_time": "2023-11-19T12:30:07.802Z"
   },
   {
    "duration": 2380,
    "start_time": "2023-11-19T12:37:34.550Z"
   },
   {
    "duration": 2407,
    "start_time": "2023-11-19T12:37:36.933Z"
   },
   {
    "duration": 1481,
    "start_time": "2023-11-19T12:37:39.342Z"
   },
   {
    "duration": 907,
    "start_time": "2023-11-19T12:37:40.825Z"
   },
   {
    "duration": 1669,
    "start_time": "2023-11-19T12:37:41.734Z"
   },
   {
    "duration": 36,
    "start_time": "2023-11-19T12:37:43.405Z"
   },
   {
    "duration": 18,
    "start_time": "2023-11-19T12:37:43.443Z"
   },
   {
    "duration": 5,
    "start_time": "2023-11-19T12:37:43.462Z"
   },
   {
    "duration": 36,
    "start_time": "2023-11-19T12:37:43.499Z"
   },
   {
    "duration": 150,
    "start_time": "2023-11-19T12:37:43.538Z"
   },
   {
    "duration": 73,
    "start_time": "2023-11-19T12:37:43.690Z"
   },
   {
    "duration": 34,
    "start_time": "2023-11-19T12:37:43.765Z"
   },
   {
    "duration": 54,
    "start_time": "2023-11-19T12:37:43.801Z"
   },
   {
    "duration": 10,
    "start_time": "2023-11-19T12:37:43.857Z"
   },
   {
    "duration": 80,
    "start_time": "2023-11-19T12:37:43.869Z"
   },
   {
    "duration": 441,
    "start_time": "2023-11-19T12:37:43.950Z"
   },
   {
    "duration": 23,
    "start_time": "2023-11-19T12:37:44.398Z"
   },
   {
    "duration": 50,
    "start_time": "2023-11-19T12:37:44.423Z"
   },
   {
    "duration": 254,
    "start_time": "2023-11-19T12:37:44.476Z"
   },
   {
    "duration": 24,
    "start_time": "2023-11-19T12:37:44.732Z"
   },
   {
    "duration": 65,
    "start_time": "2023-11-19T12:37:44.757Z"
   },
   {
    "duration": 208,
    "start_time": "2023-11-19T12:37:44.823Z"
   },
   {
    "duration": 217,
    "start_time": "2023-11-19T12:37:45.033Z"
   },
   {
    "duration": 24,
    "start_time": "2023-11-19T12:37:45.252Z"
   },
   {
    "duration": 283,
    "start_time": "2023-11-19T12:37:45.277Z"
   },
   {
    "duration": 9,
    "start_time": "2023-11-19T12:37:45.562Z"
   },
   {
    "duration": 45,
    "start_time": "2023-11-19T12:37:45.572Z"
   },
   {
    "duration": 5,
    "start_time": "2023-11-19T12:37:45.622Z"
   },
   {
    "duration": 276,
    "start_time": "2023-11-19T12:37:45.629Z"
   },
   {
    "duration": 5,
    "start_time": "2023-11-19T12:37:45.907Z"
   },
   {
    "duration": 354,
    "start_time": "2023-11-19T12:37:45.914Z"
   },
   {
    "duration": 402,
    "start_time": "2023-11-19T12:37:46.270Z"
   },
   {
    "duration": 8,
    "start_time": "2023-11-19T12:37:46.674Z"
   },
   {
    "duration": 78,
    "start_time": "2023-11-19T12:37:46.684Z"
   },
   {
    "duration": 17,
    "start_time": "2023-11-19T12:37:46.764Z"
   },
   {
    "duration": 105,
    "start_time": "2023-11-19T12:37:46.782Z"
   },
   {
    "duration": 334,
    "start_time": "2023-11-19T12:37:46.889Z"
   },
   {
    "duration": 520,
    "start_time": "2023-11-19T12:37:47.224Z"
   },
   {
    "duration": 1046,
    "start_time": "2023-11-19T12:37:47.746Z"
   },
   {
    "duration": 42,
    "start_time": "2023-11-19T12:37:48.794Z"
   },
   {
    "duration": 1216,
    "start_time": "2023-11-19T12:37:48.837Z"
   },
   {
    "duration": 89,
    "start_time": "2023-11-19T12:37:50.055Z"
   },
   {
    "duration": 20,
    "start_time": "2023-11-19T12:37:50.146Z"
   },
   {
    "duration": 63,
    "start_time": "2023-11-19T12:37:50.167Z"
   },
   {
    "duration": 20,
    "start_time": "2023-11-19T12:37:50.232Z"
   },
   {
    "duration": 116,
    "start_time": "2023-11-19T12:37:50.254Z"
   },
   {
    "duration": 14,
    "start_time": "2023-11-19T12:37:50.371Z"
   },
   {
    "duration": 13,
    "start_time": "2023-11-19T12:37:50.387Z"
   },
   {
    "duration": 10,
    "start_time": "2023-11-19T12:37:50.401Z"
   },
   {
    "duration": 73,
    "start_time": "2023-11-19T12:37:50.413Z"
   },
   {
    "duration": 39,
    "start_time": "2023-11-19T12:37:50.488Z"
   },
   {
    "duration": 1551,
    "start_time": "2023-11-19T12:37:50.529Z"
   },
   {
    "duration": 25,
    "start_time": "2023-11-19T12:37:52.082Z"
   },
   {
    "duration": 326,
    "start_time": "2023-11-19T12:37:52.109Z"
   },
   {
    "duration": 6058,
    "start_time": "2023-11-19T12:37:52.436Z"
   },
   {
    "duration": 630,
    "start_time": "2023-11-19T12:37:58.496Z"
   },
   {
    "duration": 23,
    "start_time": "2023-11-19T12:37:59.127Z"
   },
   {
    "duration": 4,
    "start_time": "2023-11-19T12:37:59.151Z"
   },
   {
    "duration": 41893,
    "start_time": "2023-11-19T12:37:59.157Z"
   },
   {
    "duration": 6518,
    "start_time": "2023-11-19T12:38:41.052Z"
   },
   {
    "duration": 91,
    "start_time": "2023-11-19T12:38:47.572Z"
   },
   {
    "duration": 5,
    "start_time": "2023-11-19T12:38:47.665Z"
   },
   {
    "duration": 41,
    "start_time": "2023-11-19T12:38:47.672Z"
   },
   {
    "duration": 42,
    "start_time": "2023-11-19T12:38:47.715Z"
   },
   {
    "duration": 18,
    "start_time": "2023-11-19T12:38:47.759Z"
   },
   {
    "duration": 14,
    "start_time": "2023-11-19T12:38:47.779Z"
   },
   {
    "duration": 396263,
    "start_time": "2023-11-19T12:38:47.796Z"
   },
   {
    "duration": 0,
    "start_time": "2023-11-19T12:45:24.060Z"
   },
   {
    "duration": 1,
    "start_time": "2023-11-19T12:45:24.061Z"
   },
   {
    "duration": 0,
    "start_time": "2023-11-19T12:45:24.062Z"
   },
   {
    "duration": 0,
    "start_time": "2023-11-19T12:45:24.063Z"
   },
   {
    "duration": 0,
    "start_time": "2023-11-19T12:45:24.065Z"
   },
   {
    "duration": 0,
    "start_time": "2023-11-19T12:45:24.066Z"
   },
   {
    "duration": 0,
    "start_time": "2023-11-19T12:45:24.067Z"
   },
   {
    "duration": 0,
    "start_time": "2023-11-19T12:45:24.068Z"
   },
   {
    "duration": 0,
    "start_time": "2023-11-19T12:45:24.069Z"
   },
   {
    "duration": 0,
    "start_time": "2023-11-19T12:45:24.070Z"
   },
   {
    "duration": 316099,
    "start_time": "2023-11-19T12:48:15.017Z"
   },
   {
    "duration": 62189,
    "start_time": "2023-11-19T13:08:08.016Z"
   },
   {
    "duration": 113,
    "start_time": "2023-11-19T13:11:46.996Z"
   },
   {
    "duration": 103,
    "start_time": "2023-11-19T13:12:37.036Z"
   },
   {
    "duration": 273,
    "start_time": "2023-11-19T13:14:01.327Z"
   },
   {
    "duration": 5,
    "start_time": "2023-11-19T13:14:35.933Z"
   },
   {
    "duration": 100,
    "start_time": "2023-11-19T13:39:23.428Z"
   },
   {
    "duration": 14,
    "start_time": "2023-11-19T13:41:50.088Z"
   },
   {
    "duration": 11,
    "start_time": "2023-11-19T13:41:54.920Z"
   },
   {
    "duration": 166,
    "start_time": "2023-11-19T13:42:01.738Z"
   },
   {
    "duration": 5,
    "start_time": "2023-11-19T13:42:03.924Z"
   },
   {
    "duration": 6,
    "start_time": "2023-11-19T13:55:27.709Z"
   },
   {
    "duration": 161,
    "start_time": "2023-11-19T13:56:22.084Z"
   },
   {
    "duration": 4,
    "start_time": "2023-11-19T13:57:12.828Z"
   },
   {
    "duration": 151,
    "start_time": "2023-11-19T13:57:14.384Z"
   },
   {
    "duration": 6,
    "start_time": "2023-11-19T13:58:02.212Z"
   },
   {
    "duration": 156,
    "start_time": "2023-11-19T13:58:03.112Z"
   },
   {
    "duration": 109,
    "start_time": "2023-11-19T13:59:58.155Z"
   },
   {
    "duration": 2407,
    "start_time": "2023-11-19T14:07:29.128Z"
   },
   {
    "duration": 2323,
    "start_time": "2023-11-19T14:07:31.538Z"
   },
   {
    "duration": 1433,
    "start_time": "2023-11-19T14:07:33.863Z"
   },
   {
    "duration": 887,
    "start_time": "2023-11-19T14:07:35.299Z"
   },
   {
    "duration": 1525,
    "start_time": "2023-11-19T14:07:36.187Z"
   },
   {
    "duration": 32,
    "start_time": "2023-11-19T14:07:37.714Z"
   },
   {
    "duration": 17,
    "start_time": "2023-11-19T14:07:37.748Z"
   },
   {
    "duration": 5,
    "start_time": "2023-11-19T14:07:37.766Z"
   },
   {
    "duration": 50,
    "start_time": "2023-11-19T14:07:37.773Z"
   },
   {
    "duration": 158,
    "start_time": "2023-11-19T14:07:37.826Z"
   },
   {
    "duration": 60,
    "start_time": "2023-11-19T14:07:37.985Z"
   },
   {
    "duration": 24,
    "start_time": "2023-11-19T14:07:38.046Z"
   },
   {
    "duration": 61,
    "start_time": "2023-11-19T14:07:38.072Z"
   },
   {
    "duration": 11,
    "start_time": "2023-11-19T14:07:38.134Z"
   },
   {
    "duration": 61,
    "start_time": "2023-11-19T14:07:38.146Z"
   },
   {
    "duration": 419,
    "start_time": "2023-11-19T14:07:38.209Z"
   },
   {
    "duration": 20,
    "start_time": "2023-11-19T14:07:38.630Z"
   },
   {
    "duration": 57,
    "start_time": "2023-11-19T14:07:38.652Z"
   },
   {
    "duration": 252,
    "start_time": "2023-11-19T14:07:38.710Z"
   },
   {
    "duration": 36,
    "start_time": "2023-11-19T14:07:38.964Z"
   },
   {
    "duration": 53,
    "start_time": "2023-11-19T14:07:39.001Z"
   },
   {
    "duration": 211,
    "start_time": "2023-11-19T14:07:39.056Z"
   },
   {
    "duration": 198,
    "start_time": "2023-11-19T14:07:39.268Z"
   },
   {
    "duration": 37,
    "start_time": "2023-11-19T14:07:39.468Z"
   },
   {
    "duration": 264,
    "start_time": "2023-11-19T14:07:39.507Z"
   },
   {
    "duration": 9,
    "start_time": "2023-11-19T14:07:39.773Z"
   },
   {
    "duration": 18,
    "start_time": "2023-11-19T14:07:39.783Z"
   },
   {
    "duration": 5,
    "start_time": "2023-11-19T14:07:39.806Z"
   },
   {
    "duration": 286,
    "start_time": "2023-11-19T14:07:39.813Z"
   },
   {
    "duration": 5,
    "start_time": "2023-11-19T14:07:40.100Z"
   },
   {
    "duration": 342,
    "start_time": "2023-11-19T14:07:40.107Z"
   },
   {
    "duration": 369,
    "start_time": "2023-11-19T14:07:40.450Z"
   },
   {
    "duration": 8,
    "start_time": "2023-11-19T14:07:40.820Z"
   },
   {
    "duration": 84,
    "start_time": "2023-11-19T14:07:40.830Z"
   },
   {
    "duration": 16,
    "start_time": "2023-11-19T14:07:40.916Z"
   },
   {
    "duration": 108,
    "start_time": "2023-11-19T14:07:40.934Z"
   },
   {
    "duration": 343,
    "start_time": "2023-11-19T14:07:41.044Z"
   },
   {
    "duration": 498,
    "start_time": "2023-11-19T14:07:41.389Z"
   },
   {
    "duration": 1035,
    "start_time": "2023-11-19T14:07:41.889Z"
   },
   {
    "duration": 30,
    "start_time": "2023-11-19T14:07:42.926Z"
   },
   {
    "duration": 1202,
    "start_time": "2023-11-19T14:07:42.957Z"
   },
   {
    "duration": 90,
    "start_time": "2023-11-19T14:07:44.161Z"
   },
   {
    "duration": 19,
    "start_time": "2023-11-19T14:07:44.253Z"
   },
   {
    "duration": 59,
    "start_time": "2023-11-19T14:07:44.274Z"
   },
   {
    "duration": 19,
    "start_time": "2023-11-19T14:07:44.334Z"
   },
   {
    "duration": 117,
    "start_time": "2023-11-19T14:07:44.355Z"
   },
   {
    "duration": 26,
    "start_time": "2023-11-19T14:07:44.474Z"
   },
   {
    "duration": 3,
    "start_time": "2023-11-19T14:07:44.501Z"
   },
   {
    "duration": 5,
    "start_time": "2023-11-19T14:07:44.505Z"
   },
   {
    "duration": 69,
    "start_time": "2023-11-19T14:07:44.511Z"
   },
   {
    "duration": 50,
    "start_time": "2023-11-19T14:07:44.581Z"
   },
   {
    "duration": 1558,
    "start_time": "2023-11-19T14:07:44.632Z"
   },
   {
    "duration": 23,
    "start_time": "2023-11-19T14:07:46.192Z"
   },
   {
    "duration": 310,
    "start_time": "2023-11-19T14:07:46.217Z"
   },
   {
    "duration": 5968,
    "start_time": "2023-11-19T14:07:46.529Z"
   },
   {
    "duration": 602,
    "start_time": "2023-11-19T14:07:52.499Z"
   },
   {
    "duration": 21,
    "start_time": "2023-11-19T14:07:53.103Z"
   },
   {
    "duration": 5,
    "start_time": "2023-11-19T14:07:53.126Z"
   },
   {
    "duration": 40708,
    "start_time": "2023-11-19T14:07:53.133Z"
   },
   {
    "duration": 6175,
    "start_time": "2023-11-19T14:08:33.844Z"
   },
   {
    "duration": 93,
    "start_time": "2023-11-19T14:08:40.021Z"
   },
   {
    "duration": 5,
    "start_time": "2023-11-19T14:08:40.116Z"
   },
   {
    "duration": 559213,
    "start_time": "2023-11-19T14:08:40.123Z"
   },
   {
    "duration": 135243,
    "start_time": "2023-11-19T14:17:59.337Z"
   },
   {
    "duration": 414,
    "start_time": "2023-11-19T14:20:14.581Z"
   },
   {
    "duration": 5,
    "start_time": "2023-11-19T14:20:14.999Z"
   },
   {
    "duration": 19194,
    "start_time": "2023-11-19T14:20:15.006Z"
   },
   {
    "duration": 1797,
    "start_time": "2023-11-19T14:20:34.202Z"
   },
   {
    "duration": 207,
    "start_time": "2023-11-19T14:20:36.001Z"
   },
   {
    "duration": 5,
    "start_time": "2023-11-19T14:20:36.210Z"
   },
   {
    "duration": 285,
    "start_time": "2023-11-19T14:20:36.216Z"
   },
   {
    "duration": 5,
    "start_time": "2023-11-19T14:20:36.502Z"
   },
   {
    "duration": 4,
    "start_time": "2023-11-19T14:20:36.509Z"
   },
   {
    "duration": 181,
    "start_time": "2023-11-19T14:20:36.514Z"
   },
   {
    "duration": 19619,
    "start_time": "2023-11-19T14:23:32.882Z"
   },
   {
    "duration": 1633,
    "start_time": "2023-11-19T14:23:55.674Z"
   },
   {
    "duration": 132,
    "start_time": "2023-11-19T14:24:02.870Z"
   },
   {
    "duration": 5,
    "start_time": "2023-11-19T14:24:04.413Z"
   },
   {
    "duration": 215,
    "start_time": "2023-11-19T14:27:49.187Z"
   },
   {
    "duration": 5,
    "start_time": "2023-11-19T14:27:49.411Z"
   },
   {
    "duration": 4,
    "start_time": "2023-11-19T14:27:50.423Z"
   },
   {
    "duration": 146,
    "start_time": "2023-11-19T14:27:51.467Z"
   },
   {
    "duration": 2468,
    "start_time": "2023-11-19T14:30:00.190Z"
   },
   {
    "duration": 2418,
    "start_time": "2023-11-19T14:30:02.661Z"
   },
   {
    "duration": 1605,
    "start_time": "2023-11-19T14:30:05.081Z"
   },
   {
    "duration": 887,
    "start_time": "2023-11-19T14:30:06.687Z"
   },
   {
    "duration": 1673,
    "start_time": "2023-11-19T14:30:07.576Z"
   },
   {
    "duration": 40,
    "start_time": "2023-11-19T14:30:09.250Z"
   },
   {
    "duration": 18,
    "start_time": "2023-11-19T14:30:09.299Z"
   },
   {
    "duration": 5,
    "start_time": "2023-11-19T14:30:09.319Z"
   },
   {
    "duration": 37,
    "start_time": "2023-11-19T14:30:09.326Z"
   },
   {
    "duration": 174,
    "start_time": "2023-11-19T14:30:09.365Z"
   },
   {
    "duration": 68,
    "start_time": "2023-11-19T14:30:09.540Z"
   },
   {
    "duration": 21,
    "start_time": "2023-11-19T14:30:09.610Z"
   },
   {
    "duration": 73,
    "start_time": "2023-11-19T14:30:09.632Z"
   },
   {
    "duration": 11,
    "start_time": "2023-11-19T14:30:09.708Z"
   },
   {
    "duration": 57,
    "start_time": "2023-11-19T14:30:09.720Z"
   },
   {
    "duration": 454,
    "start_time": "2023-11-19T14:30:09.779Z"
   },
   {
    "duration": 23,
    "start_time": "2023-11-19T14:30:10.234Z"
   },
   {
    "duration": 58,
    "start_time": "2023-11-19T14:30:10.258Z"
   },
   {
    "duration": 248,
    "start_time": "2023-11-19T14:30:10.318Z"
   },
   {
    "duration": 33,
    "start_time": "2023-11-19T14:30:10.567Z"
   },
   {
    "duration": 48,
    "start_time": "2023-11-19T14:30:10.601Z"
   },
   {
    "duration": 205,
    "start_time": "2023-11-19T14:30:10.651Z"
   },
   {
    "duration": 194,
    "start_time": "2023-11-19T14:30:10.857Z"
   },
   {
    "duration": 24,
    "start_time": "2023-11-19T14:30:11.052Z"
   },
   {
    "duration": 264,
    "start_time": "2023-11-19T14:30:11.077Z"
   },
   {
    "duration": 8,
    "start_time": "2023-11-19T14:30:11.342Z"
   },
   {
    "duration": 26,
    "start_time": "2023-11-19T14:30:11.351Z"
   },
   {
    "duration": 4,
    "start_time": "2023-11-19T14:30:11.379Z"
   },
   {
    "duration": 279,
    "start_time": "2023-11-19T14:30:11.384Z"
   },
   {
    "duration": 5,
    "start_time": "2023-11-19T14:30:11.664Z"
   },
   {
    "duration": 335,
    "start_time": "2023-11-19T14:30:11.670Z"
   },
   {
    "duration": 364,
    "start_time": "2023-11-19T14:30:12.006Z"
   },
   {
    "duration": 7,
    "start_time": "2023-11-19T14:30:12.372Z"
   },
   {
    "duration": 78,
    "start_time": "2023-11-19T14:30:12.381Z"
   },
   {
    "duration": 15,
    "start_time": "2023-11-19T14:30:12.461Z"
   },
   {
    "duration": 98,
    "start_time": "2023-11-19T14:30:12.477Z"
   },
   {
    "duration": 357,
    "start_time": "2023-11-19T14:30:12.576Z"
   },
   {
    "duration": 524,
    "start_time": "2023-11-19T14:30:12.935Z"
   },
   {
    "duration": 1083,
    "start_time": "2023-11-19T14:30:13.460Z"
   },
   {
    "duration": 29,
    "start_time": "2023-11-19T14:30:14.545Z"
   },
   {
    "duration": 1198,
    "start_time": "2023-11-19T14:30:14.578Z"
   },
   {
    "duration": 95,
    "start_time": "2023-11-19T14:30:15.777Z"
   },
   {
    "duration": 32,
    "start_time": "2023-11-19T14:30:15.873Z"
   },
   {
    "duration": 52,
    "start_time": "2023-11-19T14:30:15.907Z"
   },
   {
    "duration": 40,
    "start_time": "2023-11-19T14:30:15.961Z"
   },
   {
    "duration": 111,
    "start_time": "2023-11-19T14:30:16.003Z"
   },
   {
    "duration": 14,
    "start_time": "2023-11-19T14:30:16.115Z"
   },
   {
    "duration": 18,
    "start_time": "2023-11-19T14:30:16.131Z"
   },
   {
    "duration": 22,
    "start_time": "2023-11-19T14:30:16.151Z"
   },
   {
    "duration": 71,
    "start_time": "2023-11-19T14:30:16.174Z"
   },
   {
    "duration": 34,
    "start_time": "2023-11-19T14:30:16.247Z"
   },
   {
    "duration": 1550,
    "start_time": "2023-11-19T14:30:16.283Z"
   },
   {
    "duration": 18,
    "start_time": "2023-11-19T14:30:17.835Z"
   },
   {
    "duration": 334,
    "start_time": "2023-11-19T14:30:17.855Z"
   },
   {
    "duration": 6098,
    "start_time": "2023-11-19T14:30:18.190Z"
   },
   {
    "duration": 630,
    "start_time": "2023-11-19T14:30:24.289Z"
   },
   {
    "duration": 23,
    "start_time": "2023-11-19T14:30:24.921Z"
   },
   {
    "duration": 4,
    "start_time": "2023-11-19T14:30:24.946Z"
   },
   {
    "duration": 42452,
    "start_time": "2023-11-19T14:30:24.952Z"
   },
   {
    "duration": 6303,
    "start_time": "2023-11-19T14:31:07.406Z"
   },
   {
    "duration": 98,
    "start_time": "2023-11-19T14:31:13.711Z"
   },
   {
    "duration": 4,
    "start_time": "2023-11-19T14:31:13.811Z"
   },
   {
    "duration": 565110,
    "start_time": "2023-11-19T14:31:13.817Z"
   },
   {
    "duration": 2673,
    "start_time": "2024-04-07T14:13:58.169Z"
   },
   {
    "duration": 2710,
    "start_time": "2024-04-07T14:14:00.844Z"
   },
   {
    "duration": 1707,
    "start_time": "2024-04-07T14:14:03.556Z"
   },
   {
    "duration": 3020,
    "start_time": "2024-04-07T14:14:05.265Z"
   },
   {
    "duration": 1713,
    "start_time": "2024-04-07T14:14:08.287Z"
   },
   {
    "duration": 44,
    "start_time": "2024-04-07T14:14:10.002Z"
   },
   {
    "duration": 15,
    "start_time": "2024-04-07T14:14:10.048Z"
   },
   {
    "duration": 5,
    "start_time": "2024-04-07T14:14:10.065Z"
   },
   {
    "duration": 49,
    "start_time": "2024-04-07T14:14:10.071Z"
   },
   {
    "duration": 144,
    "start_time": "2024-04-07T14:14:10.123Z"
   },
   {
    "duration": 63,
    "start_time": "2024-04-07T14:14:10.269Z"
   },
   {
    "duration": 20,
    "start_time": "2024-04-07T14:14:10.334Z"
   },
   {
    "duration": 81,
    "start_time": "2024-04-07T14:14:10.356Z"
   },
   {
    "duration": 10,
    "start_time": "2024-04-07T14:14:10.438Z"
   },
   {
    "duration": 67,
    "start_time": "2024-04-07T14:14:10.450Z"
   },
   {
    "duration": 446,
    "start_time": "2024-04-07T14:14:10.519Z"
   },
   {
    "duration": 23,
    "start_time": "2024-04-07T14:14:10.966Z"
   },
   {
    "duration": 56,
    "start_time": "2024-04-07T14:14:10.990Z"
   },
   {
    "duration": 237,
    "start_time": "2024-04-07T14:14:11.048Z"
   },
   {
    "duration": 28,
    "start_time": "2024-04-07T14:14:11.286Z"
   },
   {
    "duration": 44,
    "start_time": "2024-04-07T14:14:11.316Z"
   },
   {
    "duration": 204,
    "start_time": "2024-04-07T14:14:11.361Z"
   },
   {
    "duration": 197,
    "start_time": "2024-04-07T14:14:11.567Z"
   },
   {
    "duration": 22,
    "start_time": "2024-04-07T14:14:11.766Z"
   },
   {
    "duration": 279,
    "start_time": "2024-04-07T14:14:11.789Z"
   },
   {
    "duration": 8,
    "start_time": "2024-04-07T14:14:12.070Z"
   },
   {
    "duration": 7,
    "start_time": "2024-04-07T14:14:12.079Z"
   },
   {
    "duration": 4,
    "start_time": "2024-04-07T14:14:12.090Z"
   },
   {
    "duration": 339,
    "start_time": "2024-04-07T14:14:12.115Z"
   },
   {
    "duration": 4,
    "start_time": "2024-04-07T14:14:12.455Z"
   },
   {
    "duration": 244,
    "start_time": "2024-04-07T14:14:12.461Z"
   },
   {
    "duration": 383,
    "start_time": "2024-04-07T14:14:12.707Z"
   },
   {
    "duration": 7,
    "start_time": "2024-04-07T14:14:13.092Z"
   },
   {
    "duration": 78,
    "start_time": "2024-04-07T14:14:13.100Z"
   },
   {
    "duration": 16,
    "start_time": "2024-04-07T14:14:13.179Z"
   },
   {
    "duration": 123,
    "start_time": "2024-04-07T14:14:13.197Z"
   },
   {
    "duration": 317,
    "start_time": "2024-04-07T14:14:13.322Z"
   },
   {
    "duration": 485,
    "start_time": "2024-04-07T14:14:13.641Z"
   },
   {
    "duration": 1066,
    "start_time": "2024-04-07T14:14:14.127Z"
   },
   {
    "duration": 28,
    "start_time": "2024-04-07T14:14:15.195Z"
   },
   {
    "duration": 1171,
    "start_time": "2024-04-07T14:14:15.224Z"
   },
   {
    "duration": 117,
    "start_time": "2024-04-07T14:14:16.397Z"
   },
   {
    "duration": 19,
    "start_time": "2024-04-07T14:14:16.515Z"
   },
   {
    "duration": 56,
    "start_time": "2024-04-07T14:14:16.536Z"
   },
   {
    "duration": 22,
    "start_time": "2024-04-07T14:14:16.593Z"
   },
   {
    "duration": 112,
    "start_time": "2024-04-07T14:14:16.617Z"
   },
   {
    "duration": 14,
    "start_time": "2024-04-07T14:14:16.731Z"
   },
   {
    "duration": 2,
    "start_time": "2024-04-07T14:14:16.747Z"
   },
   {
    "duration": 7,
    "start_time": "2024-04-07T14:14:16.750Z"
   },
   {
    "duration": 75,
    "start_time": "2024-04-07T14:14:16.759Z"
   },
   {
    "duration": 32,
    "start_time": "2024-04-07T14:14:16.836Z"
   },
   {
    "duration": 1548,
    "start_time": "2024-04-07T14:14:16.870Z"
   },
   {
    "duration": 18,
    "start_time": "2024-04-07T14:14:18.420Z"
   },
   {
    "duration": 316,
    "start_time": "2024-04-07T14:14:18.440Z"
   },
   {
    "duration": 5961,
    "start_time": "2024-04-07T14:14:18.758Z"
   },
   {
    "duration": 644,
    "start_time": "2024-04-07T14:14:24.720Z"
   },
   {
    "duration": 21,
    "start_time": "2024-04-07T14:14:25.366Z"
   },
   {
    "duration": 4,
    "start_time": "2024-04-07T14:14:25.389Z"
   },
   {
    "duration": 41211,
    "start_time": "2024-04-07T14:14:25.394Z"
   },
   {
    "duration": 6034,
    "start_time": "2024-04-07T14:15:06.607Z"
   },
   {
    "duration": 88,
    "start_time": "2024-04-07T14:15:12.643Z"
   },
   {
    "duration": 4,
    "start_time": "2024-04-07T14:15:12.733Z"
   },
   {
    "duration": 558625,
    "start_time": "2024-04-07T14:15:12.739Z"
   },
   {
    "duration": 134357,
    "start_time": "2024-04-07T14:24:31.366Z"
   },
   {
    "duration": 450,
    "start_time": "2024-04-07T14:26:45.725Z"
   },
   {
    "duration": 4,
    "start_time": "2024-04-07T14:26:46.177Z"
   },
   {
    "duration": 21040,
    "start_time": "2024-04-07T14:26:46.182Z"
   },
   {
    "duration": 1992,
    "start_time": "2024-04-07T14:27:07.223Z"
   },
   {
    "duration": 205,
    "start_time": "2024-04-07T14:27:09.217Z"
   },
   {
    "duration": 4,
    "start_time": "2024-04-07T14:27:09.424Z"
   },
   {
    "duration": 287,
    "start_time": "2024-04-07T14:27:09.429Z"
   },
   {
    "duration": 4,
    "start_time": "2024-04-07T14:27:09.718Z"
   },
   {
    "duration": 6,
    "start_time": "2024-04-07T14:27:09.723Z"
   },
   {
    "duration": 179,
    "start_time": "2024-04-07T14:27:09.730Z"
   }
  ],
  "kernelspec": {
   "display_name": "Python 3 (ipykernel)",
   "language": "python",
   "name": "python3"
  },
  "language_info": {
   "codemirror_mode": {
    "name": "ipython",
    "version": 3
   },
   "file_extension": ".py",
   "mimetype": "text/x-python",
   "name": "python",
   "nbconvert_exporter": "python",
   "pygments_lexer": "ipython3",
   "version": "3.9.5"
  },
  "toc": {
   "base_numbering": 1,
   "nav_menu": {},
   "number_sections": true,
   "sideBar": true,
   "skip_h1_title": true,
   "title_cell": "Table of Contents",
   "title_sidebar": "Contents",
   "toc_cell": false,
   "toc_position": {},
   "toc_section_display": true,
   "toc_window_display": false
  }
 },
 "nbformat": 4,
 "nbformat_minor": 2
}
